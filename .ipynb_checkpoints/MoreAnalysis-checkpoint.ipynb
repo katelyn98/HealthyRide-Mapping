{
 "cells": [
  {
   "cell_type": "code",
   "execution_count": 6,
   "metadata": {},
   "outputs": [],
   "source": [
    "import csv\n",
    "import geopandas as gpd\n",
    "import pandas as pd\n",
    "import matplotlib.pyplot as plt\n",
    "import descartes\n",
    "from shapely.geometry import Point, Polygon\n",
    "\n",
    "#plot the poor housing conditions map\n",
    "poorHouseCon = gpd.read_file('poorhousingcondition/Poor_Housing_Condition.shp')\n",
    "poorHouseCon.head()\n",
    "\n",
    "#get the 2010 census tract neighborhoods in Pittsburgh\n",
    "cenTract = gpd.read_file('2010_Census_Tracts/a36fc9b1-4e53-4fd1-80fb-db1554e213422020328-1-nbfxcj.l6b8.shp')\n",
    "\n",
    "#find the centroids of each neighborhood for labeling\n",
    "cenTract[\"center\"] = cenTract[\"geometry\"].centroid\n",
    "map_points = cenTract.copy()\n",
    "map_points.set_geometry(\"center\", inplace = True)"
   ]
  },
  {
   "cell_type": "code",
   "execution_count": 7,
   "metadata": {},
   "outputs": [
    {
     "name": "stderr",
     "output_type": "stream",
     "text": [
      "/Library/Frameworks/Python.framework/Versions/3.7/lib/python3.7/site-packages/pyproj/crs/crs.py:53: FutureWarning: '+init=<authority>:<code>' syntax is deprecated. '<authority>:<code>' is the preferred initialization method. When making the change, be mindful of axis order changes: https://pyproj4.github.io/pyproj/stable/gotchas.html#axis-order-changes-in-proj-6\n",
      "  return _prepare_from_string(\" \".join(pjargs))\n"
     ]
    }
   ],
   "source": [
    "#Load in the CSV Bike Station Location Data\n",
    "df = pd.read_csv('HRSQ12020.csv')\n",
    "\n",
    "#combine the latitude and longitude to make coordinates\n",
    "df['coordinates'] = df[['Longitude', 'Latitude']].values.tolist()\n",
    "\n",
    "# Change the coordinates to a geoPoint\n",
    "df['coordinates'] = df['coordinates'].apply(Point)\n",
    "\n",
    "#fixing wrong negative value for Latitude\n",
    "df.loc[df[\"Latitude\"] == df[\"Latitude\"].min()]\n",
    "df.at[80, 'Latitude'] = 40.467715\n",
    "\n",
    "crs = {'init' :'epsg:4326'}\n",
    "geometry = [Point(xy) for xy in zip(df.Longitude, df.Latitude)]\n",
    "geobikes = gpd.GeoDataFrame(df, crs=crs, geometry=geometry)"
   ]
  },
  {
   "cell_type": "code",
   "execution_count": null,
   "metadata": {},
   "outputs": [],
   "source": [
    "#get only the poor housing condition rate to join to other data frame\n",
    "poorCond_data = pd.DataFrame(poorHouseCon['PPoorCon'])\n",
    "poorCond_data = poorCond_data.join(poorHouseCon['TRACTCE'])\n",
    "poorCond_data = poorCond_data.rename(columns={'TRACTCE': 'tractce10'})\n",
    "\n",
    "cenTract = cenTract.merge(poorCond_data, on=\"tractce10\")\n",
    "\n",
    "#plotting the poor housing condition data on the pittsburgh neighborhood map (data from 2016)\n",
    "ax = cenTract.plot(column=\"PPoorCon\", cmap='BuGn', figsize = (15, 12), edgecolor = \"grey\", linewidth = 0.5, legend=True, legend_kwds={'label': \"Poor Housing Conditions\",'orientation': \"vertical\"})\n",
    "    \n",
    "#now adding the bike station location data on top of this map. \n",
    "#result = plt.scatter(df['Longitude'], df['Latitude'], 15, marker='o', color='Purple')\n",
    "geobikes.plot(ax=ax, color=\"Purple\", markersize=4);"
   ]
  }
 ],
 "metadata": {
  "kernelspec": {
   "display_name": "Python 3",
   "language": "python",
   "name": "python3"
  },
  "language_info": {
   "codemirror_mode": {
    "name": "ipython",
    "version": 3
   },
   "file_extension": ".py",
   "mimetype": "text/x-python",
   "name": "python",
   "nbconvert_exporter": "python",
   "pygments_lexer": "ipython3",
   "version": "3.7.4"
  }
 },
 "nbformat": 4,
 "nbformat_minor": 4
}
