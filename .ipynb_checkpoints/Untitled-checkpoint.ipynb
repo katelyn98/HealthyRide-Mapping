{
 "cells": [
  {
   "cell_type": "code",
   "execution_count": 7,
   "metadata": {},
   "outputs": [
    {
     "name": "stdout",
     "output_type": "stream",
     "text": [
      "<_csv.reader object at 0x10430d908>\n"
     ]
    }
   ],
   "source": [
    "import urllib\n",
    "import csv\n",
    "\n",
    "url = 'https://data.wprdc.org/dataset/4451c1c7-93ad-4fb1-9e60-323da936e63f/resource/ee84c3af-411d-4b97-b8cd-c22b83c0ad9e/download/healthy-ride-station-locations-2020-q1.csv'  \n",
    "fileobj = urllib.request.urlopen(url)\n",
    "data = csv.reader(fileobj)\n",
    "\n",
    "for row in data:\n",
    "    print(row)"
   ]
  },
  {
   "cell_type": "code",
   "execution_count": null,
   "metadata": {},
   "outputs": [],
   "source": []
  }
 ],
 "metadata": {
  "kernelspec": {
   "display_name": "Python 3",
   "language": "python",
   "name": "python3"
  },
  "language_info": {
   "codemirror_mode": {
    "name": "ipython",
    "version": 3
   },
   "file_extension": ".py",
   "mimetype": "text/x-python",
   "name": "python",
   "nbconvert_exporter": "python",
   "pygments_lexer": "ipython3",
   "version": "3.7.3"
  }
 },
 "nbformat": 4,
 "nbformat_minor": 2
}
