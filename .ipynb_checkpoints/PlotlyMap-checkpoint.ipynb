{
 "cells": [
  {
   "cell_type": "code",
   "execution_count": 1,
   "metadata": {},
   "outputs": [],
   "source": [
    "import pandas as pd\n",
    "import plotly.express as px"
   ]
  },
  {
   "cell_type": "code",
   "execution_count": 6,
   "metadata": {
    "scrolled": true
   },
   "outputs": [
    {
     "data": {
      "text/plain": [
       "Station #                                       1000\n",
       "Station Name                Liberty Ave & Stanwix St\n",
       "NumRacks                                          16\n",
       "Latitude                                     40.4413\n",
       "Longitude                                   -80.0047\n",
       "coordinates     POINT (-80.00467900000001 40.441326)\n",
       "Name: 0, dtype: object"
      ]
     },
     "execution_count": 6,
     "metadata": {},
     "output_type": "execute_result"
    }
   ],
   "source": [
    "df = pd.read_csv('bikes_station_location.csv')\n",
    "df.loc[0]"
   ]
  },
  {
   "cell_type": "code",
   "execution_count": 8,
   "metadata": {},
   "outputs": [],
   "source": [
    "df = df.rename(columns={\"Station Name\": \"Station_Name\"})"
   ]
  },
  {
   "cell_type": "code",
   "execution_count": 12,
   "metadata": {},
   "outputs": [
    {
     "data": {
      "application/vnd.plotly.v1+json": {
       "config": {
        "plotlyServerURL": "https://plot.ly"
       },
       "data": [
        {
         "hovertemplate": "Station_Name=Liberty Ave & Stanwix St<br>NumRacks=%{marker.size}<br>Latitude=%{lat}<br>Longitude=%{lon}<extra></extra>",
         "lat": [
          40.441326
         ],
         "legendgroup": "Liberty Ave & Stanwix St",
         "lon": [
          -80.00467900000002
         ],
         "marker": {
          "color": "#636efa",
          "size": [
           16
          ],
          "sizemode": "area",
          "sizeref": 0.13777777777777778
         },
         "mode": "markers",
         "name": "Liberty Ave & Stanwix St",
         "showlegend": true,
         "subplot": "mapbox",
         "type": "scattermapbox"
        },
        {
         "hovertemplate": "Station_Name=Forbes Ave & Market Square<br>NumRacks=%{marker.size}<br>Latitude=%{lat}<br>Longitude=%{lon}<extra></extra>",
         "lat": [
          40.440877
         ],
         "legendgroup": "Forbes Ave & Market Square",
         "lon": [
          -80.00308000000003
         ],
         "marker": {
          "color": "#EF553B",
          "size": [
           19
          ],
          "sizemode": "area",
          "sizeref": 0.13777777777777778
         },
         "mode": "markers",
         "name": "Forbes Ave & Market Square",
         "showlegend": true,
         "subplot": "mapbox",
         "type": "scattermapbox"
        },
        {
         "hovertemplate": "Station_Name=Third Ave & Wood St<br>NumRacks=%{marker.size}<br>Latitude=%{lat}<br>Longitude=%{lon}<extra></extra>",
         "lat": [
          40.43903
         ],
         "legendgroup": "Third Ave & Wood St",
         "lon": [
          -80.00186
         ],
         "marker": {
          "color": "#00cc96",
          "size": [
           15
          ],
          "sizemode": "area",
          "sizeref": 0.13777777777777778
         },
         "mode": "markers",
         "name": "Third Ave & Wood St",
         "showlegend": true,
         "subplot": "mapbox",
         "type": "scattermapbox"
        },
        {
         "hovertemplate": "Station_Name=First Ave & Smithfield St (Art Institute)<br>NumRacks=%{marker.size}<br>Latitude=%{lat}<br>Longitude=%{lon}<extra></extra>",
         "lat": [
          40.4372
         ],
         "legendgroup": "First Ave & Smithfield St (Art Institute)",
         "lon": [
          -80.000375
         ],
         "marker": {
          "color": "#ab63fa",
          "size": [
           15
          ],
          "sizemode": "area",
          "sizeref": 0.13777777777777778
         },
         "mode": "markers",
         "name": "First Ave & Smithfield St (Art Institute)",
         "showlegend": true,
         "subplot": "mapbox",
         "type": "scattermapbox"
        },
        {
         "hovertemplate": "Station_Name=First Ave & B St (T Station)<br>NumRacks=%{marker.size}<br>Latitude=%{lat}<br>Longitude=%{lon}<extra></extra>",
         "lat": [
          40.435887
         ],
         "legendgroup": "First Ave & B St (T Station)",
         "lon": [
          -79.997102
         ],
         "marker": {
          "color": "#FFA15A",
          "size": [
           15
          ],
          "sizemode": "area",
          "sizeref": 0.13777777777777778
         },
         "mode": "markers",
         "name": "First Ave & B St (T Station)",
         "showlegend": true,
         "subplot": "mapbox",
         "type": "scattermapbox"
        },
        {
         "hovertemplate": "Station_Name=Forbes Ave & Grant St<br>NumRacks=%{marker.size}<br>Latitude=%{lat}<br>Longitude=%{lon}<extra></extra>",
         "lat": [
          40.438882
         ],
         "legendgroup": "Forbes Ave & Grant St",
         "lon": [
          -79.997592
         ],
         "marker": {
          "color": "#19d3f3",
          "size": [
           13
          ],
          "sizemode": "area",
          "sizeref": 0.13777777777777778
         },
         "mode": "markers",
         "name": "Forbes Ave & Grant St",
         "showlegend": true,
         "subplot": "mapbox",
         "type": "scattermapbox"
        },
        {
         "hovertemplate": "Station_Name=Ross St & Sixth Ave (Steel Plaza T Station)<br>NumRacks=%{marker.size}<br>Latitude=%{lat}<br>Longitude=%{lon}<extra></extra>",
         "lat": [
          40.440193
         ],
         "legendgroup": "Ross St & Sixth Ave (Steel Plaza T Station)",
         "lon": [
          -79.99508399999998
         ],
         "marker": {
          "color": "#FF6692",
          "size": [
           7
          ],
          "sizemode": "area",
          "sizeref": 0.13777777777777778
         },
         "mode": "markers",
         "name": "Ross St & Sixth Ave (Steel Plaza T Station)",
         "showlegend": true,
         "subplot": "mapbox",
         "type": "scattermapbox"
        },
        {
         "hovertemplate": "Station_Name=Stevenson St & Forbes Ave<br>NumRacks=%{marker.size}<br>Latitude=%{lat}<br>Longitude=%{lon}<extra></extra>",
         "lat": [
          40.437643
         ],
         "legendgroup": "Stevenson St & Forbes Ave",
         "lon": [
          -79.986695
         ],
         "marker": {
          "color": "#B6E880",
          "size": [
           15
          ],
          "sizemode": "area",
          "sizeref": 0.13777777777777778
         },
         "mode": "markers",
         "name": "Stevenson St & Forbes Ave",
         "showlegend": true,
         "subplot": "mapbox",
         "type": "scattermapbox"
        },
        {
         "hovertemplate": "Station_Name=Centre Ave & PPG Paints Arena<br>NumRacks=%{marker.size}<br>Latitude=%{lat}<br>Longitude=%{lon}<extra></extra>",
         "lat": [
          40.440368
         ],
         "legendgroup": "Centre Ave & PPG Paints Arena",
         "lon": [
          -79.988636
         ],
         "marker": {
          "color": "#FF97FF",
          "size": [
           5
          ],
          "sizemode": "area",
          "sizeref": 0.13777777777777778
         },
         "mode": "markers",
         "name": "Centre Ave & PPG Paints Arena",
         "showlegend": true,
         "subplot": "mapbox",
         "type": "scattermapbox"
        },
        {
         "hovertemplate": "Station_Name=12th St & Penn Ave<br>NumRacks=%{marker.size}<br>Latitude=%{lat}<br>Longitude=%{lon}<extra></extra>",
         "lat": [
          40.445844
         ],
         "legendgroup": "12th St & Penn Ave",
         "lon": [
          -79.99238000000003
         ],
         "marker": {
          "color": "#FECB52",
          "size": [
           19
          ],
          "sizemode": "area",
          "sizeref": 0.13777777777777778
         },
         "mode": "markers",
         "name": "12th St & Penn Ave",
         "showlegend": true,
         "subplot": "mapbox",
         "type": "scattermapbox"
        },
        {
         "hovertemplate": "Station_Name=10th St & Penn Ave (David L. Lawrence Convention Center)<br>NumRacks=%{marker.size}<br>Latitude=%{lat}<br>Longitude=%{lon}<extra></extra>",
         "lat": [
          40.444665
         ],
         "legendgroup": "10th St & Penn Ave (David L. Lawrence Convention Center)",
         "lon": [
          -79.995798
         ],
         "marker": {
          "color": "#636efa",
          "size": [
           15
          ],
          "sizemode": "area",
          "sizeref": 0.13777777777777778
         },
         "mode": "markers",
         "name": "10th St & Penn Ave (David L. Lawrence Convention Center)",
         "showlegend": true,
         "subplot": "mapbox",
         "type": "scattermapbox"
        },
        {
         "hovertemplate": "Station_Name=Fort Duquesne Blvd & 7th<br>NumRacks=%{marker.size}<br>Latitude=%{lat}<br>Longitude=%{lon}<extra></extra>",
         "lat": [
          40.444777
         ],
         "legendgroup": "Fort Duquesne Blvd & 7th",
         "lon": [
          -80.000831
         ],
         "marker": {
          "color": "#EF553B",
          "size": [
           15
          ],
          "sizemode": "area",
          "sizeref": 0.13777777777777778
         },
         "mode": "markers",
         "name": "Fort Duquesne Blvd & 7th",
         "showlegend": true,
         "subplot": "mapbox",
         "type": "scattermapbox"
        },
        {
         "hovertemplate": "Station_Name=North Shore Trail & Ft Duquesne Bridge<br>NumRacks=%{marker.size}<br>Latitude=%{lat}<br>Longitude=%{lon}<extra></extra>",
         "lat": [
          40.44583400000001
         ],
         "legendgroup": "North Shore Trail & Ft Duquesne Bridge",
         "lon": [
          -80.008882
         ],
         "marker": {
          "color": "#00cc96",
          "size": [
           31
          ],
          "sizemode": "area",
          "sizeref": 0.13777777777777778
         },
         "mode": "markers",
         "name": "North Shore Trail & Ft Duquesne Bridge",
         "showlegend": true,
         "subplot": "mapbox",
         "type": "scattermapbox"
        },
        {
         "hovertemplate": "Station_Name=Isabella St & Federal St (PNC Park)<br>NumRacks=%{marker.size}<br>Latitude=%{lat}<br>Longitude=%{lon}<extra></extra>",
         "lat": [
          40.447166
         ],
         "legendgroup": "Isabella St & Federal St (PNC Park)",
         "lon": [
          -80.003566
         ],
         "marker": {
          "color": "#ab63fa",
          "size": [
           15
          ],
          "sizemode": "area",
          "sizeref": 0.13777777777777778
         },
         "mode": "markers",
         "name": "Isabella St & Federal St (PNC Park)",
         "showlegend": true,
         "subplot": "mapbox",
         "type": "scattermapbox"
        },
        {
         "hovertemplate": "Station_Name=Ridge Ave & Brighton Rd (CCAC)<br>NumRacks=%{marker.size}<br>Latitude=%{lat}<br>Longitude=%{lon}<extra></extra>",
         "lat": [
          40.450595
         ],
         "legendgroup": "Ridge Ave & Brighton Rd (CCAC)",
         "lon": [
          -80.013204
         ],
         "marker": {
          "color": "#FFA15A",
          "size": [
           19
          ],
          "sizemode": "area",
          "sizeref": 0.13777777777777778
         },
         "mode": "markers",
         "name": "Ridge Ave & Brighton Rd (CCAC)",
         "showlegend": true,
         "subplot": "mapbox",
         "type": "scattermapbox"
        },
        {
         "hovertemplate": "Station_Name=Federal St & E North Ave<br>NumRacks=%{marker.size}<br>Latitude=%{lat}<br>Longitude=%{lon}<extra></extra>",
         "lat": [
          40.45509087
         ],
         "legendgroup": "Federal St & E North Ave",
         "lon": [
          -80.00634670000002
         ],
         "marker": {
          "color": "#19d3f3",
          "size": [
           12
          ],
          "sizemode": "area",
          "sizeref": 0.13777777777777778
         },
         "mode": "markers",
         "name": "Federal St & E North Ave",
         "showlegend": true,
         "subplot": "mapbox",
         "type": "scattermapbox"
        },
        {
         "hovertemplate": "Station_Name=17th St & Penn Ave<br>NumRacks=%{marker.size}<br>Latitude=%{lat}<br>Longitude=%{lon}<extra></extra>",
         "lat": [
          40.449631
         ],
         "legendgroup": "17th St & Penn Ave",
         "lon": [
          -79.985893
         ],
         "marker": {
          "color": "#FF6692",
          "size": [
           19
          ],
          "sizemode": "area",
          "sizeref": 0.13777777777777778
         },
         "mode": "markers",
         "name": "17th St & Penn Ave",
         "showlegend": true,
         "subplot": "mapbox",
         "type": "scattermapbox"
        },
        {
         "hovertemplate": "Station_Name=21st St & Penn Ave<br>NumRacks=%{marker.size}<br>Latitude=%{lat}<br>Longitude=%{lon}<extra></extra>",
         "lat": [
          40.451742
         ],
         "legendgroup": "21st St & Penn Ave",
         "lon": [
          -79.98321700000002
         ],
         "marker": {
          "color": "#B6E880",
          "size": [
           18
          ],
          "sizemode": "area",
          "sizeref": 0.13777777777777778
         },
         "mode": "markers",
         "name": "21st St & Penn Ave",
         "showlegend": true,
         "subplot": "mapbox",
         "type": "scattermapbox"
        },
        {
         "hovertemplate": "Station_Name=Butler St & Stanton Ave<br>NumRacks=%{marker.size}<br>Latitude=%{lat}<br>Longitude=%{lon}<extra></extra>",
         "lat": [
          40.47815
         ],
         "legendgroup": "Butler St & Stanton Ave",
         "lon": [
          -79.9557
         ],
         "marker": {
          "color": "#FF97FF",
          "size": [
           5
          ],
          "sizemode": "area",
          "sizeref": 0.13777777777777778
         },
         "mode": "markers",
         "name": "Butler St & Stanton Ave",
         "showlegend": true,
         "subplot": "mapbox",
         "type": "scattermapbox"
        },
        {
         "hovertemplate": "Station_Name=42nd St & Butler St<br>NumRacks=%{marker.size}<br>Latitude=%{lat}<br>Longitude=%{lon}<extra></extra>",
         "lat": [
          40.47021248
         ],
         "legendgroup": "42nd St & Butler St",
         "lon": [
          -79.96066332
         ],
         "marker": {
          "color": "#FECB52",
          "size": [
           17
          ],
          "sizemode": "area",
          "sizeref": 0.13777777777777778
         },
         "mode": "markers",
         "name": "42nd St & Butler St",
         "showlegend": true,
         "subplot": "mapbox",
         "type": "scattermapbox"
        },
        {
         "hovertemplate": "Station_Name=42nd St & Penn Ave (Children's Hospital)<br>NumRacks=%{marker.size}<br>Latitude=%{lat}<br>Longitude=%{lon}<extra></extra>",
         "lat": [
          40.465893
         ],
         "legendgroup": "42nd St & Penn Ave (Children's Hospital)",
         "lon": [
          -79.954417
         ],
         "marker": {
          "color": "#636efa",
          "size": [
           8
          ],
          "sizemode": "area",
          "sizeref": 0.13777777777777778
         },
         "mode": "markers",
         "name": "42nd St & Penn Ave (Children's Hospital)",
         "showlegend": true,
         "subplot": "mapbox",
         "type": "scattermapbox"
        },
        {
         "hovertemplate": "Station_Name=Taylor St & Liberty Ave<br>NumRacks=%{marker.size}<br>Latitude=%{lat}<br>Longitude=%{lon}<extra></extra>",
         "lat": [
          40.462769
         ],
         "legendgroup": "Taylor St & Liberty Ave",
         "lon": [
          -79.950867
         ],
         "marker": {
          "color": "#EF553B",
          "size": [
           19
          ],
          "sizemode": "area",
          "sizeref": 0.13777777777777778
         },
         "mode": "markers",
         "name": "Taylor St & Liberty Ave",
         "showlegend": true,
         "subplot": "mapbox",
         "type": "scattermapbox"
        },
        {
         "hovertemplate": "Station_Name=Liberty Ave & S Millvale (West Penn Hospital)<br>NumRacks=%{marker.size}<br>Latitude=%{lat}<br>Longitude=%{lon}<extra></extra>",
         "lat": [
          40.459812
         ],
         "legendgroup": "Liberty Ave & S Millvale (West Penn Hospital)",
         "lon": [
          -79.945548
         ],
         "marker": {
          "color": "#00cc96",
          "size": [
           15
          ],
          "sizemode": "area",
          "sizeref": 0.13777777777777778
         },
         "mode": "markers",
         "name": "Liberty Ave & S Millvale (West Penn Hospital)",
         "showlegend": true,
         "subplot": "mapbox",
         "type": "scattermapbox"
        },
        {
         "hovertemplate": "Station_Name=Liberty Ave & Baum Blvd<br>NumRacks=%{marker.size}<br>Latitude=%{lat}<br>Longitude=%{lon}<extra></extra>",
         "lat": [
          40.456505
         ],
         "legendgroup": "Liberty Ave & Baum Blvd",
         "lon": [
          -79.939362
         ],
         "marker": {
          "color": "#ab63fa",
          "size": [
           15
          ],
          "sizemode": "area",
          "sizeref": 0.13777777777777778
         },
         "mode": "markers",
         "name": "Liberty Ave & Baum Blvd",
         "showlegend": true,
         "subplot": "mapbox",
         "type": "scattermapbox"
        },
        {
         "hovertemplate": "Station_Name=S Negley Ave & Baum Blvd<br>NumRacks=%{marker.size}<br>Latitude=%{lat}<br>Longitude=%{lon}<extra></extra>",
         "lat": [
          40.458714
         ],
         "legendgroup": "S Negley Ave & Baum Blvd",
         "lon": [
          -79.933483
         ],
         "marker": {
          "color": "#FFA15A",
          "size": [
           17
          ],
          "sizemode": "area",
          "sizeref": 0.13777777777777778
         },
         "mode": "markers",
         "name": "S Negley Ave & Baum Blvd",
         "showlegend": true,
         "subplot": "mapbox",
         "type": "scattermapbox"
        },
        {
         "hovertemplate": "Station_Name=Penn Ave & N Fairmount St<br>NumRacks=%{marker.size}<br>Latitude=%{lat}<br>Longitude=%{lon}<extra></extra>",
         "lat": [
          40.464443
         ],
         "legendgroup": "Penn Ave & N Fairmount St",
         "lon": [
          -79.933188
         ],
         "marker": {
          "color": "#19d3f3",
          "size": [
           15
          ],
          "sizemode": "area",
          "sizeref": 0.13777777777777778
         },
         "mode": "markers",
         "name": "Penn Ave & N Fairmount St",
         "showlegend": true,
         "subplot": "mapbox",
         "type": "scattermapbox"
        },
        {
         "hovertemplate": "Station_Name=Penn Ave & S Whitfield St<br>NumRacks=%{marker.size}<br>Latitude=%{lat}<br>Longitude=%{lon}<extra></extra>",
         "lat": [
          40.461603
         ],
         "legendgroup": "Penn Ave & S Whitfield St",
         "lon": [
          -79.925624
         ],
         "marker": {
          "color": "#FF6692",
          "size": [
           13
          ],
          "sizemode": "area",
          "sizeref": 0.13777777777777778
         },
         "mode": "markers",
         "name": "Penn Ave & S Whitfield St",
         "showlegend": true,
         "subplot": "mapbox",
         "type": "scattermapbox"
        },
        {
         "hovertemplate": "Station_Name=Shady Ave & Ellsworth Ave<br>NumRacks=%{marker.size}<br>Latitude=%{lat}<br>Longitude=%{lon}<extra></extra>",
         "lat": [
          40.458972
         ],
         "legendgroup": "Shady Ave & Ellsworth Ave",
         "lon": [
          -79.922023
         ],
         "marker": {
          "color": "#B6E880",
          "size": [
           19
          ],
          "sizemode": "area",
          "sizeref": 0.13777777777777778
         },
         "mode": "markers",
         "name": "Shady Ave & Ellsworth Ave",
         "showlegend": true,
         "subplot": "mapbox",
         "type": "scattermapbox"
        },
        {
         "hovertemplate": "Station_Name=Penn Ave & Putnam St (Bakery Square)<br>NumRacks=%{marker.size}<br>Latitude=%{lat}<br>Longitude=%{lon}<extra></extra>",
         "lat": [
          40.455821
         ],
         "legendgroup": "Penn Ave & Putnam St (Bakery Square)",
         "lon": [
          -79.91524799999998
         ],
         "marker": {
          "color": "#FF97FF",
          "size": [
           8
          ],
          "sizemode": "area",
          "sizeref": 0.13777777777777778
         },
         "mode": "markers",
         "name": "Penn Ave & Putnam St (Bakery Square)",
         "showlegend": true,
         "subplot": "mapbox",
         "type": "scattermapbox"
        },
        {
         "hovertemplate": "Station_Name=Alder St & S Higland Ave<br>NumRacks=%{marker.size}<br>Latitude=%{lat}<br>Longitude=%{lon}<extra></extra>",
         "lat": [
          40.45741500000001
         ],
         "legendgroup": "Alder St & S Higland Ave",
         "lon": [
          -79.92492
         ],
         "marker": {
          "color": "#FECB52",
          "size": [
           19
          ],
          "sizemode": "area",
          "sizeref": 0.13777777777777778
         },
         "mode": "markers",
         "name": "Alder St & S Higland Ave",
         "showlegend": true,
         "subplot": "mapbox",
         "type": "scattermapbox"
        },
        {
         "hovertemplate": "Station_Name=Maryland Ave & Ellsworth Ave<br>NumRacks=%{marker.size}<br>Latitude=%{lat}<br>Longitude=%{lon}<extra></extra>",
         "lat": [
          40.45628
         ],
         "legendgroup": "Maryland Ave & Ellsworth Ave",
         "lon": [
          -79.930962
         ],
         "marker": {
          "color": "#636efa",
          "size": [
           19
          ],
          "sizemode": "area",
          "sizeref": 0.13777777777777778
         },
         "mode": "markers",
         "name": "Maryland Ave & Ellsworth Ave",
         "showlegend": true,
         "subplot": "mapbox",
         "type": "scattermapbox"
        },
        {
         "hovertemplate": "Station_Name=Walnut St & College St<br>NumRacks=%{marker.size}<br>Latitude=%{lat}<br>Longitude=%{lon}<extra></extra>",
         "lat": [
          40.453382
         ],
         "legendgroup": "Walnut St & College St",
         "lon": [
          -79.92730999999998
         ],
         "marker": {
          "color": "#EF553B",
          "size": [
           14
          ],
          "sizemode": "area",
          "sizeref": 0.13777777777777778
         },
         "mode": "markers",
         "name": "Walnut St & College St",
         "showlegend": true,
         "subplot": "mapbox",
         "type": "scattermapbox"
        },
        {
         "hovertemplate": "Station_Name=Ivy St & Walnut St<br>NumRacks=%{marker.size}<br>Latitude=%{lat}<br>Longitude=%{lon}<extra></extra>",
         "lat": [
          40.45177
         ],
         "legendgroup": "Ivy St & Walnut St",
         "lon": [
          -79.932324
         ],
         "marker": {
          "color": "#00cc96",
          "size": [
           19
          ],
          "sizemode": "area",
          "sizeref": 0.13777777777777778
         },
         "mode": "markers",
         "name": "Ivy St & Walnut St",
         "showlegend": true,
         "subplot": "mapbox",
         "type": "scattermapbox"
        },
        {
         "hovertemplate": "Station_Name=Ellsworth Ave & N Neville St<br>NumRacks=%{marker.size}<br>Latitude=%{lat}<br>Longitude=%{lon}<extra></extra>",
         "lat": [
          40.448419
         ],
         "legendgroup": "Ellsworth Ave & N Neville St",
         "lon": [
          -79.947401
         ],
         "marker": {
          "color": "#ab63fa",
          "size": [
           15
          ],
          "sizemode": "area",
          "sizeref": 0.13777777777777778
         },
         "mode": "markers",
         "name": "Ellsworth Ave & N Neville St",
         "showlegend": true,
         "subplot": "mapbox",
         "type": "scattermapbox"
        },
        {
         "hovertemplate": "Station_Name=Fifth Ave & S Dithridge St<br>NumRacks=%{marker.size}<br>Latitude=%{lat}<br>Longitude=%{lon}<extra></extra>",
         "lat": [
          40.446744
         ],
         "legendgroup": "Fifth Ave & S Dithridge St",
         "lon": [
          -79.95088100000002
         ],
         "marker": {
          "color": "#FFA15A",
          "size": [
           8
          ],
          "sizemode": "area",
          "sizeref": 0.13777777777777778
         },
         "mode": "markers",
         "name": "Fifth Ave & S Dithridge St",
         "showlegend": true,
         "subplot": "mapbox",
         "type": "scattermapbox"
        },
        {
         "hovertemplate": "Station_Name=Schenley Dr at Schenley Plaza (Carnegie Library Main)<br>NumRacks=%{marker.size}<br>Latitude=%{lat}<br>Longitude=%{lon}<extra></extra>",
         "lat": [
          40.442398
         ],
         "legendgroup": "Schenley Dr at Schenley Plaza (Carnegie Library Main)",
         "lon": [
          -79.951479
         ],
         "marker": {
          "color": "#19d3f3",
          "size": [
           19
          ],
          "sizemode": "area",
          "sizeref": 0.13777777777777778
         },
         "mode": "markers",
         "name": "Schenley Dr at Schenley Plaza (Carnegie Library Main)",
         "showlegend": true,
         "subplot": "mapbox",
         "type": "scattermapbox"
        },
        {
         "hovertemplate": "Station_Name=Frew St & Schenley Dr<br>NumRacks=%{marker.size}<br>Latitude=%{lat}<br>Longitude=%{lon}<extra></extra>",
         "lat": [
          40.441032
         ],
         "legendgroup": "Frew St & Schenley Dr",
         "lon": [
          -79.948042
         ],
         "marker": {
          "color": "#FF6692",
          "size": [
           20
          ],
          "sizemode": "area",
          "sizeref": 0.13777777777777778
         },
         "mode": "markers",
         "name": "Frew St & Schenley Dr",
         "showlegend": true,
         "subplot": "mapbox",
         "type": "scattermapbox"
        },
        {
         "hovertemplate": "Station_Name=Boulevard of the Allies & Parkview Ave<br>NumRacks=%{marker.size}<br>Latitude=%{lat}<br>Longitude=%{lon}<extra></extra>",
         "lat": [
          40.434338
         ],
         "legendgroup": "Boulevard of the Allies & Parkview Ave",
         "lon": [
          -79.951877
         ],
         "marker": {
          "color": "#B6E880",
          "size": [
           19
          ],
          "sizemode": "area",
          "sizeref": 0.13777777777777778
         },
         "mode": "markers",
         "name": "Boulevard of the Allies & Parkview Ave",
         "showlegend": true,
         "subplot": "mapbox",
         "type": "scattermapbox"
        },
        {
         "hovertemplate": "Station_Name=Atwood St & Bates<br>NumRacks=%{marker.size}<br>Latitude=%{lat}<br>Longitude=%{lon}<extra></extra>",
         "lat": [
          40.437987
         ],
         "legendgroup": "Atwood St & Bates",
         "lon": [
          -79.95366999999997
         ],
         "marker": {
          "color": "#FF97FF",
          "size": [
           8
          ],
          "sizemode": "area",
          "sizeref": 0.13777777777777778
         },
         "mode": "markers",
         "name": "Atwood St & Bates",
         "showlegend": true,
         "subplot": "mapbox",
         "type": "scattermapbox"
        },
        {
         "hovertemplate": "Station_Name=O'Hara St and University Place (Soldiers and Sailors Memorial)<br>NumRacks=%{marker.size}<br>Latitude=%{lat}<br>Longitude=%{lon}<extra></extra>",
         "lat": [
          40.445128
         ],
         "legendgroup": "O'Hara St and University Place (Soldiers and Sailors Memorial)",
         "lon": [
          -79.957102
         ],
         "marker": {
          "color": "#FECB52",
          "size": [
           21
          ],
          "sizemode": "area",
          "sizeref": 0.13777777777777778
         },
         "mode": "markers",
         "name": "O'Hara St and University Place (Soldiers and Sailors Memorial)",
         "showlegend": true,
         "subplot": "mapbox",
         "type": "scattermapbox"
        },
        {
         "hovertemplate": "Station_Name=Fifth Ave & S Bouquet St<br>NumRacks=%{marker.size}<br>Latitude=%{lat}<br>Longitude=%{lon}<extra></extra>",
         "lat": [
          40.442325
         ],
         "legendgroup": "Fifth Ave & S Bouquet St",
         "lon": [
          -79.957604
         ],
         "marker": {
          "color": "#636efa",
          "size": [
           19
          ],
          "sizemode": "area",
          "sizeref": 0.13777777777777778
         },
         "mode": "markers",
         "name": "Fifth Ave & S Bouquet St",
         "showlegend": true,
         "subplot": "mapbox",
         "type": "scattermapbox"
        },
        {
         "hovertemplate": "Station_Name=Centre Ave & Kirkpatrick St<br>NumRacks=%{marker.size}<br>Latitude=%{lat}<br>Longitude=%{lon}<extra></extra>",
         "lat": [
          40.445236
         ],
         "legendgroup": "Centre Ave & Kirkpatrick St",
         "lon": [
          -79.976911
         ],
         "marker": {
          "color": "#EF553B",
          "size": [
           12
          ],
          "sizemode": "area",
          "sizeref": 0.13777777777777778
         },
         "mode": "markers",
         "name": "Centre Ave & Kirkpatrick St",
         "showlegend": true,
         "subplot": "mapbox",
         "type": "scattermapbox"
        },
        {
         "hovertemplate": "Station_Name=S Millvale Ave & Centre Ave<br>NumRacks=%{marker.size}<br>Latitude=%{lat}<br>Longitude=%{lon}<extra></extra>",
         "lat": [
          40.45351
         ],
         "legendgroup": "S Millvale Ave & Centre Ave",
         "lon": [
          -79.94747
         ],
         "marker": {
          "color": "#00cc96",
          "size": [
           13
          ],
          "sizemode": "area",
          "sizeref": 0.13777777777777778
         },
         "mode": "markers",
         "name": "S Millvale Ave & Centre Ave",
         "showlegend": true,
         "subplot": "mapbox",
         "type": "scattermapbox"
        },
        {
         "hovertemplate": "Station_Name=Zulema St & Coltart Ave<br>NumRacks=%{marker.size}<br>Latitude=%{lat}<br>Longitude=%{lon}<extra></extra>",
         "lat": [
          40.435986
         ],
         "legendgroup": "Zulema St & Coltart Ave",
         "lon": [
          -79.956942
         ],
         "marker": {
          "color": "#ab63fa",
          "size": [
           19
          ],
          "sizemode": "area",
          "sizeref": 0.13777777777777778
         },
         "mode": "markers",
         "name": "Zulema St & Coltart Ave",
         "showlegend": true,
         "subplot": "mapbox",
         "type": "scattermapbox"
        },
        {
         "hovertemplate": "Station_Name=S 27th St & Sidney St. (Southside Works)<br>NumRacks=%{marker.size}<br>Latitude=%{lat}<br>Longitude=%{lon}<extra></extra>",
         "lat": [
          40.4279
         ],
         "legendgroup": "S 27th St & Sidney St. (Southside Works)",
         "lon": [
          -79.966112
         ],
         "marker": {
          "color": "#FFA15A",
          "size": [
           19
          ],
          "sizemode": "area",
          "sizeref": 0.13777777777777778
         },
         "mode": "markers",
         "name": "S 27th St & Sidney St. (Southside Works)",
         "showlegend": true,
         "subplot": "mapbox",
         "type": "scattermapbox"
        },
        {
         "hovertemplate": "Station_Name=S 25th St & E Carson St<br>NumRacks=%{marker.size}<br>Latitude=%{lat}<br>Longitude=%{lon}<extra></extra>",
         "lat": [
          40.42802
         ],
         "legendgroup": "S 25th St & E Carson St",
         "lon": [
          -79.969799
         ],
         "marker": {
          "color": "#19d3f3",
          "size": [
           19
          ],
          "sizemode": "area",
          "sizeref": 0.13777777777777778
         },
         "mode": "markers",
         "name": "S 25th St & E Carson St",
         "showlegend": true,
         "subplot": "mapbox",
         "type": "scattermapbox"
        },
        {
         "hovertemplate": "Station_Name=S 22nd St & E Carson St<br>NumRacks=%{marker.size}<br>Latitude=%{lat}<br>Longitude=%{lon}<extra></extra>",
         "lat": [
          40.428576
         ],
         "legendgroup": "S 22nd St & E Carson St",
         "lon": [
          -79.974559
         ],
         "marker": {
          "color": "#FF6692",
          "size": [
           19
          ],
          "sizemode": "area",
          "sizeref": 0.13777777777777778
         },
         "mode": "markers",
         "name": "S 22nd St & E Carson St",
         "showlegend": true,
         "subplot": "mapbox",
         "type": "scattermapbox"
        },
        {
         "hovertemplate": "Station_Name=S 18th St & Sidney St<br>NumRacks=%{marker.size}<br>Latitude=%{lat}<br>Longitude=%{lon}<extra></extra>",
         "lat": [
          40.429338
         ],
         "legendgroup": "S 18th St & Sidney St",
         "lon": [
          -79.980684
         ],
         "marker": {
          "color": "#B6E880",
          "size": [
           16
          ],
          "sizemode": "area",
          "sizeref": 0.13777777777777778
         },
         "mode": "markers",
         "name": "S 18th St & Sidney St",
         "showlegend": true,
         "subplot": "mapbox",
         "type": "scattermapbox"
        },
        {
         "hovertemplate": "Station_Name=S 12th St & E Carson St<br>NumRacks=%{marker.size}<br>Latitude=%{lat}<br>Longitude=%{lon}<extra></extra>",
         "lat": [
          40.428661
         ],
         "legendgroup": "S 12th St & E Carson St",
         "lon": [
          -79.986358
         ],
         "marker": {
          "color": "#FF97FF",
          "size": [
           19
          ],
          "sizemode": "area",
          "sizeref": 0.13777777777777778
         },
         "mode": "markers",
         "name": "S 12th St & E Carson St",
         "showlegend": true,
         "subplot": "mapbox",
         "type": "scattermapbox"
        },
        {
         "hovertemplate": "Station_Name=McNulty Dr & Forbes Ave<br>NumRacks=%{marker.size}<br>Latitude=%{lat}<br>Longitude=%{lon}<extra></extra>",
         "lat": [
          40.4377657
         ],
         "legendgroup": "McNulty Dr & Forbes Ave",
         "lon": [
          -79.9906531
         ],
         "marker": {
          "color": "#FECB52",
          "size": [
           6
          ],
          "sizemode": "area",
          "sizeref": 0.13777777777777778
         },
         "mode": "markers",
         "name": "McNulty Dr & Forbes Ave",
         "showlegend": true,
         "subplot": "mapbox",
         "type": "scattermapbox"
        },
        {
         "hovertemplate": "Station_Name=Hamilton Ave & Zodiac Way<br>NumRacks=%{marker.size}<br>Latitude=%{lat}<br>Longitude=%{lon}<extra></extra>",
         "lat": [
          40.45803
         ],
         "legendgroup": "Hamilton Ave & Zodiac Way",
         "lon": [
          -79.9112
         ],
         "marker": {
          "color": "#636efa",
          "size": [
           5
          ],
          "sizemode": "area",
          "sizeref": 0.13777777777777778
         },
         "mode": "markers",
         "name": "Hamilton Ave & Zodiac Way",
         "showlegend": true,
         "subplot": "mapbox",
         "type": "scattermapbox"
        },
        {
         "hovertemplate": "Station_Name=Smithfield St & Fourth Ave<br>NumRacks=%{marker.size}<br>Latitude=%{lat}<br>Longitude=%{lon}<extra></extra>",
         "lat": [
          40.43866
         ],
         "legendgroup": "Smithfield St & Fourth Ave",
         "lon": [
          -79.9997
         ],
         "marker": {
          "color": "#EF553B",
          "size": [
           6
          ],
          "sizemode": "area",
          "sizeref": 0.13777777777777778
         },
         "mode": "markers",
         "name": "Smithfield St & Fourth Ave",
         "showlegend": true,
         "subplot": "mapbox",
         "type": "scattermapbox"
        },
        {
         "hovertemplate": "Station_Name=Wood St & Sixth Ave<br>NumRacks=%{marker.size}<br>Latitude=%{lat}<br>Longitude=%{lon}<extra></extra>",
         "lat": [
          40.44197
         ],
         "legendgroup": "Wood St & Sixth Ave",
         "lon": [
          -79.9997
         ],
         "marker": {
          "color": "#00cc96",
          "size": [
           7
          ],
          "sizemode": "area",
          "sizeref": 0.13777777777777778
         },
         "mode": "markers",
         "name": "Wood St & Sixth Ave",
         "showlegend": true,
         "subplot": "mapbox",
         "type": "scattermapbox"
        },
        {
         "hovertemplate": "Station_Name=Burns White Centre at 3 Crossings<br>NumRacks=%{marker.size}<br>Latitude=%{lat}<br>Longitude=%{lon}<extra></extra>",
         "lat": [
          40.45632767
         ],
         "legendgroup": "Burns White Centre at 3 Crossings",
         "lon": [
          -79.98021126
         ],
         "marker": {
          "color": "#ab63fa",
          "size": [
           12
          ],
          "sizemode": "area",
          "sizeref": 0.13777777777777778
         },
         "mode": "markers",
         "name": "Burns White Centre at 3 Crossings",
         "showlegend": true,
         "subplot": "mapbox",
         "type": "scattermapbox"
        },
        {
         "hovertemplate": "Station_Name=Penn Ave and 29th St<br>NumRacks=%{marker.size}<br>Latitude=%{lat}<br>Longitude=%{lon}<extra></extra>",
         "lat": [
          40.45814812
         ],
         "legendgroup": "Penn Ave and 29th St",
         "lon": [
          -79.97383833
         ],
         "marker": {
          "color": "#FFA15A",
          "size": [
           8
          ],
          "sizemode": "area",
          "sizeref": 0.13777777777777778
         },
         "mode": "markers",
         "name": "Penn Ave and 29th St",
         "showlegend": true,
         "subplot": "mapbox",
         "type": "scattermapbox"
        },
        {
         "hovertemplate": "Station_Name=33rd St and Penn Ave<br>NumRacks=%{marker.size}<br>Latitude=%{lat}<br>Longitude=%{lon}<extra></extra>",
         "lat": [
          40.4620256
         ],
         "legendgroup": "33rd St and Penn Ave",
         "lon": [
          -79.9681145
         ],
         "marker": {
          "color": "#19d3f3",
          "size": [
           6
          ],
          "sizemode": "area",
          "sizeref": 0.13777777777777778
         },
         "mode": "markers",
         "name": "33rd St and Penn Ave",
         "showlegend": true,
         "subplot": "mapbox",
         "type": "scattermapbox"
        },
        {
         "hovertemplate": "Station_Name=S Winebiddle St & Penn Ave<br>NumRacks=%{marker.size}<br>Latitude=%{lat}<br>Longitude=%{lon}<extra></extra>",
         "lat": [
          40.46473563
         ],
         "legendgroup": "S Winebiddle St & Penn Ave",
         "lon": [
          -79.94282663
         ],
         "marker": {
          "color": "#FF6692",
          "size": [
           5
          ],
          "sizemode": "area",
          "sizeref": 0.13777777777777778
         },
         "mode": "markers",
         "name": "S Winebiddle St & Penn Ave",
         "showlegend": true,
         "subplot": "mapbox",
         "type": "scattermapbox"
        },
        {
         "hovertemplate": "Station_Name=Penn Ave & N Atlantic Ave<br>NumRacks=%{marker.size}<br>Latitude=%{lat}<br>Longitude=%{lon}<extra></extra>",
         "lat": [
          40.46460503
         ],
         "legendgroup": "Penn Ave & N Atlantic Ave",
         "lon": [
          -79.9387604
         ],
         "marker": {
          "color": "#B6E880",
          "size": [
           5
          ],
          "sizemode": "area",
          "sizeref": 0.13777777777777778
         },
         "mode": "markers",
         "name": "Penn Ave & N Atlantic Ave",
         "showlegend": true,
         "subplot": "mapbox",
         "type": "scattermapbox"
        },
        {
         "hovertemplate": "Station_Name=Frankstown Ave & E Liberty Blvd<br>NumRacks=%{marker.size}<br>Latitude=%{lat}<br>Longitude=%{lon}<extra></extra>",
         "lat": [
          40.46089095
         ],
         "legendgroup": "Frankstown Ave & E Liberty Blvd",
         "lon": [
          -79.91583824
         ],
         "marker": {
          "color": "#FF97FF",
          "size": [
           6
          ],
          "sizemode": "area",
          "sizeref": 0.13777777777777778
         },
         "mode": "markers",
         "name": "Frankstown Ave & E Liberty Blvd",
         "showlegend": true,
         "subplot": "mapbox",
         "type": "scattermapbox"
        },
        {
         "hovertemplate": "Station_Name=N Homewood Ave & Finance St (Homewood Station)<br>NumRacks=%{marker.size}<br>Latitude=%{lat}<br>Longitude=%{lon}<extra></extra>",
         "lat": [
          40.45304583
         ],
         "legendgroup": "N Homewood Ave & Finance St (Homewood Station)",
         "lon": [
          -79.89847898
         ],
         "marker": {
          "color": "#FECB52",
          "size": [
           8
          ],
          "sizemode": "area",
          "sizeref": 0.13777777777777778
         },
         "mode": "markers",
         "name": "N Homewood Ave & Finance St (Homewood Station)",
         "showlegend": true,
         "subplot": "mapbox",
         "type": "scattermapbox"
        },
        {
         "hovertemplate": "Station_Name=Forbes Ave & Murray Ave<br>NumRacks=%{marker.size}<br>Latitude=%{lat}<br>Longitude=%{lon}<extra></extra>",
         "lat": [
          40.4380532
         ],
         "legendgroup": "Forbes Ave & Murray Ave",
         "lon": [
          -79.9229474
         ],
         "marker": {
          "color": "#636efa",
          "size": [
           5
          ],
          "sizemode": "area",
          "sizeref": 0.13777777777777778
         },
         "mode": "markers",
         "name": "Forbes Ave & Murray Ave",
         "showlegend": true,
         "subplot": "mapbox",
         "type": "scattermapbox"
        },
        {
         "hovertemplate": "Station_Name=Beacon St & Murray Ave<br>NumRacks=%{marker.size}<br>Latitude=%{lat}<br>Longitude=%{lon}<extra></extra>",
         "lat": [
          40.43531949
         ],
         "legendgroup": "Beacon St & Murray Ave",
         "lon": [
          -79.92288709
         ],
         "marker": {
          "color": "#EF553B",
          "size": [
           6
          ],
          "sizemode": "area",
          "sizeref": 0.13777777777777778
         },
         "mode": "markers",
         "name": "Beacon St & Murray Ave",
         "showlegend": true,
         "subplot": "mapbox",
         "type": "scattermapbox"
        },
        {
         "hovertemplate": "Station_Name=Hobart St & Wightman St<br>NumRacks=%{marker.size}<br>Latitude=%{lat}<br>Longitude=%{lon}<extra></extra>",
         "lat": [
          40.43251029
         ],
         "legendgroup": "Hobart St & Wightman St",
         "lon": [
          -79.92733955
         ],
         "marker": {
          "color": "#00cc96",
          "size": [
           5
          ],
          "sizemode": "area",
          "sizeref": 0.13777777777777778
         },
         "mode": "markers",
         "name": "Hobart St & Wightman St",
         "showlegend": true,
         "subplot": "mapbox",
         "type": "scattermapbox"
        },
        {
         "hovertemplate": "Station_Name=Glasshouse<br>NumRacks=%{marker.size}<br>Latitude=%{lat}<br>Longitude=%{lon}<extra></extra>",
         "lat": [
          40.43268995
         ],
         "legendgroup": "Glasshouse",
         "lon": [
          -80.00302076
         ],
         "marker": {
          "color": "#ab63fa",
          "size": [
           10
          ],
          "sizemode": "area",
          "sizeref": 0.13777777777777778
         },
         "mode": "markers",
         "name": "Glasshouse",
         "showlegend": true,
         "subplot": "mapbox",
         "type": "scattermapbox"
        },
        {
         "hovertemplate": "Station_Name=South Side Trail & S 4th St<br>NumRacks=%{marker.size}<br>Latitude=%{lat}<br>Longitude=%{lon}<extra></extra>",
         "lat": [
          40.43128939
         ],
         "legendgroup": "South Side Trail & S 4th St",
         "lon": [
          -79.99526918
         ],
         "marker": {
          "color": "#FFA15A",
          "size": [
           5
          ],
          "sizemode": "area",
          "sizeref": 0.13777777777777778
         },
         "mode": "markers",
         "name": "South Side Trail & S 4th St",
         "showlegend": true,
         "subplot": "mapbox",
         "type": "scattermapbox"
        },
        {
         "hovertemplate": "Station_Name=Hot Metal St & Tunnel Blvd<br>NumRacks=%{marker.size}<br>Latitude=%{lat}<br>Longitude=%{lon}<extra></extra>",
         "lat": [
          40.42708753
         ],
         "legendgroup": "Hot Metal St & Tunnel Blvd",
         "lon": [
          -79.96279836
         ],
         "marker": {
          "color": "#19d3f3",
          "size": [
           13
          ],
          "sizemode": "area",
          "sizeref": 0.13777777777777778
         },
         "mode": "markers",
         "name": "Hot Metal St & Tunnel Blvd",
         "showlegend": true,
         "subplot": "mapbox",
         "type": "scattermapbox"
        },
        {
         "hovertemplate": "Station_Name=Frazier St & Dawson St<br>NumRacks=%{marker.size}<br>Latitude=%{lat}<br>Longitude=%{lon}<extra></extra>",
         "lat": [
          40.42968463
         ],
         "legendgroup": "Frazier St & Dawson St",
         "lon": [
          -79.95414019
         ],
         "marker": {
          "color": "#FF6692",
          "size": [
           5
          ],
          "sizemode": "area",
          "sizeref": 0.13777777777777778
         },
         "mode": "markers",
         "name": "Frazier St & Dawson St",
         "showlegend": true,
         "subplot": "mapbox",
         "type": "scattermapbox"
        },
        {
         "hovertemplate": "Station_Name=Semple St & Louisa St<br>NumRacks=%{marker.size}<br>Latitude=%{lat}<br>Longitude=%{lon}<extra></extra>",
         "lat": [
          40.43874918
         ],
         "legendgroup": "Semple St & Louisa St",
         "lon": [
          -79.95703161
         ],
         "marker": {
          "color": "#B6E880",
          "size": [
           5
          ],
          "sizemode": "area",
          "sizeref": 0.13777777777777778
         },
         "mode": "markers",
         "name": "Semple St & Louisa St",
         "showlegend": true,
         "subplot": "mapbox",
         "type": "scattermapbox"
        },
        {
         "hovertemplate": "Station_Name=S Bouquet Ave & Sennott St<br>NumRacks=%{marker.size}<br>Latitude=%{lat}<br>Longitude=%{lon}<extra></extra>",
         "lat": [
          40.44136216
         ],
         "legendgroup": "S Bouquet Ave & Sennott St",
         "lon": [
          -79.95555639
         ],
         "marker": {
          "color": "#FF97FF",
          "size": [
           6
          ],
          "sizemode": "area",
          "sizeref": 0.13777777777777778
         },
         "mode": "markers",
         "name": "S Bouquet Ave & Sennott St",
         "showlegend": true,
         "subplot": "mapbox",
         "type": "scattermapbox"
        },
        {
         "hovertemplate": "Station_Name=O'Hara St & Desoto St<br>NumRacks=%{marker.size}<br>Latitude=%{lat}<br>Longitude=%{lon}<extra></extra>",
         "lat": [
          40.44324426
         ],
         "legendgroup": "O'Hara St & Desoto St",
         "lon": [
          -79.95984256
         ],
         "marker": {
          "color": "#FECB52",
          "size": [
           5
          ],
          "sizemode": "area",
          "sizeref": 0.13777777777777778
         },
         "mode": "markers",
         "name": "O'Hara St & Desoto St",
         "showlegend": true,
         "subplot": "mapbox",
         "type": "scattermapbox"
        },
        {
         "hovertemplate": "Station_Name=Schenley Dr & Forbes Ave (Schenley Plaza)<br>NumRacks=%{marker.size}<br>Latitude=%{lat}<br>Longitude=%{lon}<extra></extra>",
         "lat": [
          40.44301971
         ],
         "legendgroup": "Schenley Dr & Forbes Ave (Schenley Plaza)",
         "lon": [
          -79.95331407
         ],
         "marker": {
          "color": "#636efa",
          "size": [
           7
          ],
          "sizemode": "area",
          "sizeref": 0.13777777777777778
         },
         "mode": "markers",
         "name": "Schenley Dr & Forbes Ave (Schenley Plaza)",
         "showlegend": true,
         "subplot": "mapbox",
         "type": "scattermapbox"
        },
        {
         "hovertemplate": "Station_Name=Tennyson Ave & Fifth Ave<br>NumRacks=%{marker.size}<br>Latitude=%{lat}<br>Longitude=%{lon}<extra></extra>",
         "lat": [
          40.44564886
         ],
         "legendgroup": "Tennyson Ave & Fifth Ave",
         "lon": [
          -79.95327652
         ],
         "marker": {
          "color": "#EF553B",
          "size": [
           6
          ],
          "sizemode": "area",
          "sizeref": 0.13777777777777778
         },
         "mode": "markers",
         "name": "Tennyson Ave & Fifth Ave",
         "showlegend": true,
         "subplot": "mapbox",
         "type": "scattermapbox"
        },
        {
         "hovertemplate": "Station_Name=Forbes Ave & S Craig St<br>NumRacks=%{marker.size}<br>Latitude=%{lat}<br>Longitude=%{lon}<extra></extra>",
         "lat": [
          40.44424448
         ],
         "legendgroup": "Forbes Ave & S Craig St",
         "lon": [
          -79.94895279
         ],
         "marker": {
          "color": "#00cc96",
          "size": [
           5
          ],
          "sizemode": "area",
          "sizeref": 0.13777777777777778
         },
         "mode": "markers",
         "name": "Forbes Ave & S Craig St",
         "showlegend": true,
         "subplot": "mapbox",
         "type": "scattermapbox"
        },
        {
         "hovertemplate": "Station_Name=Schenley Dr & Forbes Ave (Squirrel Hill)<br>NumRacks=%{marker.size}<br>Latitude=%{lat}<br>Longitude=%{lon}<extra></extra>",
         "lat": [
          40.43775296
         ],
         "legendgroup": "Schenley Dr & Forbes Ave (Squirrel Hill)",
         "lon": [
          -79.93363738
         ],
         "marker": {
          "color": "#ab63fa",
          "size": [
           6
          ],
          "sizemode": "area",
          "sizeref": 0.13777777777777778
         },
         "mode": "markers",
         "name": "Schenley Dr & Forbes Ave (Squirrel Hill)",
         "showlegend": true,
         "subplot": "mapbox",
         "type": "scattermapbox"
        },
        {
         "hovertemplate": "Station_Name=Wightman St & Forbes Ave<br>NumRacks=%{marker.size}<br>Latitude=%{lat}<br>Longitude=%{lon}<extra></extra>",
         "lat": [
          40.43791627
         ],
         "legendgroup": "Wightman St & Forbes Ave",
         "lon": [
          -79.92781162
         ],
         "marker": {
          "color": "#FFA15A",
          "size": [
           5
          ],
          "sizemode": "area",
          "sizeref": 0.13777777777777778
         },
         "mode": "markers",
         "name": "Wightman St & Forbes Ave",
         "showlegend": true,
         "subplot": "mapbox",
         "type": "scattermapbox"
        },
        {
         "hovertemplate": "Station_Name=S Craig St & 5th Ave<br>NumRacks=%{marker.size}<br>Latitude=%{lat}<br>Longitude=%{lon}<extra></extra>",
         "lat": [
          40.446739
         ],
         "legendgroup": "S Craig St & 5th Ave",
         "lon": [
          -79.94893
         ],
         "marker": {
          "color": "#19d3f3",
          "size": [
           6
          ],
          "sizemode": "area",
          "sizeref": 0.13777777777777778
         },
         "mode": "markers",
         "name": "S Craig St & 5th Ave",
         "showlegend": true,
         "subplot": "mapbox",
         "type": "scattermapbox"
        },
        {
         "hovertemplate": "Station_Name=Centre Ave & N Craig St<br>NumRacks=%{marker.size}<br>Latitude=%{lat}<br>Longitude=%{lon}<extra></extra>",
         "lat": [
          40.45186204
         ],
         "legendgroup": "Centre Ave & N Craig St",
         "lon": [
          -79.95173693
         ],
         "marker": {
          "color": "#FF6692",
          "size": [
           6
          ],
          "sizemode": "area",
          "sizeref": 0.13777777777777778
         },
         "mode": "markers",
         "name": "Centre Ave & N Craig St",
         "showlegend": true,
         "subplot": "mapbox",
         "type": "scattermapbox"
        },
        {
         "hovertemplate": "Station_Name=Hamilton Ave & N Dallas Ave<br>NumRacks=%{marker.size}<br>Latitude=%{lat}<br>Longitude=%{lon}<extra></extra>",
         "lat": [
          40.45623787
         ],
         "legendgroup": "Hamilton Ave & N Dallas Ave",
         "lon": [
          -79.90505576
         ],
         "marker": {
          "color": "#B6E880",
          "size": [
           6
          ],
          "sizemode": "area",
          "sizeref": 0.13777777777777778
         },
         "mode": "markers",
         "name": "Hamilton Ave & N Dallas Ave",
         "showlegend": true,
         "subplot": "mapbox",
         "type": "scattermapbox"
        },
        {
         "hovertemplate": "Station_Name=Bennett St & Eccrue Way<br>NumRacks=%{marker.size}<br>Latitude=%{lat}<br>Longitude=%{lon}<extra></extra>",
         "lat": [
          40.45668686
         ],
         "legendgroup": "Bennett St & Eccrue Way",
         "lon": [
          -79.89813566
         ],
         "marker": {
          "color": "#FF97FF",
          "size": [
           7
          ],
          "sizemode": "area",
          "sizeref": 0.13777777777777778
         },
         "mode": "markers",
         "name": "Bennett St & Eccrue Way",
         "showlegend": true,
         "subplot": "mapbox",
         "type": "scattermapbox"
        },
        {
         "hovertemplate": "Station_Name=E Liberty Blvd & Larimer Ave<br>NumRacks=%{marker.size}<br>Latitude=%{lat}<br>Longitude=%{lon}<extra></extra>",
         "lat": [
          40.46361735
         ],
         "legendgroup": "E Liberty Blvd & Larimer Ave",
         "lon": [
          -79.91746902
         ],
         "marker": {
          "color": "#FECB52",
          "size": [
           6
          ],
          "sizemode": "area",
          "sizeref": 0.13777777777777778
         },
         "mode": "markers",
         "name": "E Liberty Blvd & Larimer Ave",
         "showlegend": true,
         "subplot": "mapbox",
         "type": "scattermapbox"
        },
        {
         "hovertemplate": "Station_Name=E Liberty Blvd & Negley Ave<br>NumRacks=%{marker.size}<br>Latitude=%{lat}<br>Longitude=%{lon}<extra></extra>",
         "lat": [
          40.467715000000005
         ],
         "legendgroup": "E Liberty Blvd & Negley Ave",
         "lon": [
          -79.92787
         ],
         "marker": {
          "color": "#636efa",
          "size": [
           5
          ],
          "sizemode": "area",
          "sizeref": 0.13777777777777778
         },
         "mode": "markers",
         "name": "E Liberty Blvd & Negley Ave",
         "showlegend": true,
         "subplot": "mapbox",
         "type": "scattermapbox"
        },
        {
         "hovertemplate": "Station_Name=Stanton Ave & N Negley Ave<br>NumRacks=%{marker.size}<br>Latitude=%{lat}<br>Longitude=%{lon}<extra></extra>",
         "lat": [
          40.47122337
         ],
         "legendgroup": "Stanton Ave & N Negley Ave",
         "lon": [
          -79.92560189
         ],
         "marker": {
          "color": "#EF553B",
          "size": [
           6
          ],
          "sizemode": "area",
          "sizeref": 0.13777777777777778
         },
         "mode": "markers",
         "name": "Stanton Ave & N Negley Ave",
         "showlegend": true,
         "subplot": "mapbox",
         "type": "scattermapbox"
        },
        {
         "hovertemplate": "Station_Name=Roup Ave & Friendship Ave<br>NumRacks=%{marker.size}<br>Latitude=%{lat}<br>Longitude=%{lon}<extra></extra>",
         "lat": [
          40.46150726
         ],
         "legendgroup": "Roup Ave & Friendship Ave",
         "lon": [
          -79.93510187
         ],
         "marker": {
          "color": "#00cc96",
          "size": [
           5
          ],
          "sizemode": "area",
          "sizeref": 0.13777777777777778
         },
         "mode": "markers",
         "name": "Roup Ave & Friendship Ave",
         "showlegend": true,
         "subplot": "mapbox",
         "type": "scattermapbox"
        },
        {
         "hovertemplate": "Station_Name=Penn Ave & 39th St<br>NumRacks=%{marker.size}<br>Latitude=%{lat}<br>Longitude=%{lon}<extra></extra>",
         "lat": [
          40.46490704
         ],
         "legendgroup": "Penn Ave & 39th St",
         "lon": [
          -79.96008396
         ],
         "marker": {
          "color": "#ab63fa",
          "size": [
           6
          ],
          "sizemode": "area",
          "sizeref": 0.13777777777777778
         },
         "mode": "markers",
         "name": "Penn Ave & 39th St",
         "showlegend": true,
         "subplot": "mapbox",
         "type": "scattermapbox"
        },
        {
         "hovertemplate": "Station_Name=Butler St & 48th St<br>NumRacks=%{marker.size}<br>Latitude=%{lat}<br>Longitude=%{lon}<extra></extra>",
         "lat": [
          40.47603982
         ],
         "legendgroup": "Butler St & 48th St",
         "lon": [
          -79.95763779
         ],
         "marker": {
          "color": "#FFA15A",
          "size": [
           6
          ],
          "sizemode": "area",
          "sizeref": 0.13777777777777778
         },
         "mode": "markers",
         "name": "Butler St & 48th St",
         "showlegend": true,
         "subplot": "mapbox",
         "type": "scattermapbox"
        },
        {
         "hovertemplate": "Station_Name=Liberty Ave & 37th St<br>NumRacks=%{marker.size}<br>Latitude=%{lat}<br>Longitude=%{lon}<extra></extra>",
         "lat": [
          40.462184
         ],
         "legendgroup": "Liberty Ave & 37th St",
         "lon": [
          -79.96162
         ],
         "marker": {
          "color": "#19d3f3",
          "size": [
           6
          ],
          "sizemode": "area",
          "sizeref": 0.13777777777777778
         },
         "mode": "markers",
         "name": "Liberty Ave & 37th St",
         "showlegend": true,
         "subplot": "mapbox",
         "type": "scattermapbox"
        },
        {
         "hovertemplate": "Station_Name=Smallman St & 31st St<br>NumRacks=%{marker.size}<br>Latitude=%{lat}<br>Longitude=%{lon}<extra></extra>",
         "lat": [
          40.46011138
         ],
         "legendgroup": "Smallman St & 31st St",
         "lon": [
          -79.97276008
         ],
         "marker": {
          "color": "#FF6692",
          "size": [
           6
          ],
          "sizemode": "area",
          "sizeref": 0.13777777777777778
         },
         "mode": "markers",
         "name": "Smallman St & 31st St",
         "showlegend": true,
         "subplot": "mapbox",
         "type": "scattermapbox"
        },
        {
         "hovertemplate": "Station_Name=24th St & Smallman St<br>NumRacks=%{marker.size}<br>Latitude=%{lat}<br>Longitude=%{lon}<extra></extra>",
         "lat": [
          40.45400101
         ],
         "legendgroup": "24th St & Smallman St",
         "lon": [
          -79.98171329
         ],
         "marker": {
          "color": "#B6E880",
          "size": [
           6
          ],
          "sizemode": "area",
          "sizeref": 0.13777777777777778
         },
         "mode": "markers",
         "name": "24th St & Smallman St",
         "showlegend": true,
         "subplot": "mapbox",
         "type": "scattermapbox"
        },
        {
         "hovertemplate": "Station_Name=14th St & Penn Ave<br>NumRacks=%{marker.size}<br>Latitude=%{lat}<br>Longitude=%{lon}<extra></extra>",
         "lat": [
          40.447208
         ],
         "legendgroup": "14th St & Penn Ave",
         "lon": [
          -79.989725
         ],
         "marker": {
          "color": "#FF97FF",
          "size": [
           6
          ],
          "sizemode": "area",
          "sizeref": 0.13777777777777778
         },
         "mode": "markers",
         "name": "14th St & Penn Ave",
         "showlegend": true,
         "subplot": "mapbox",
         "type": "scattermapbox"
        },
        {
         "hovertemplate": "Station_Name=11th St & Penn Ave<br>NumRacks=%{marker.size}<br>Latitude=%{lat}<br>Longitude=%{lon}<extra></extra>",
         "lat": [
          40.44475071
         ],
         "legendgroup": "11th St & Penn Ave",
         "lon": [
          -79.99391198
         ],
         "marker": {
          "color": "#FECB52",
          "size": [
           6
          ],
          "sizemode": "area",
          "sizeref": 0.13777777777777778
         },
         "mode": "markers",
         "name": "11th St & Penn Ave",
         "showlegend": true,
         "subplot": "mapbox",
         "type": "scattermapbox"
        },
        {
         "hovertemplate": "Station_Name=Grant St & Strawberry Way<br>NumRacks=%{marker.size}<br>Latitude=%{lat}<br>Longitude=%{lon}<extra></extra>",
         "lat": [
          40.44170511
         ],
         "legendgroup": "Grant St & Strawberry Way",
         "lon": [
          -79.99510288
         ],
         "marker": {
          "color": "#636efa",
          "size": [
           7
          ],
          "sizemode": "area",
          "sizeref": 0.13777777777777778
         },
         "mode": "markers",
         "name": "Grant St & Strawberry Way",
         "showlegend": true,
         "subplot": "mapbox",
         "type": "scattermapbox"
        },
        {
         "hovertemplate": "Station_Name=9th St & Penn Ave<br>NumRacks=%{marker.size}<br>Latitude=%{lat}<br>Longitude=%{lon}<extra></extra>",
         "lat": [
          40.44353412
         ],
         "legendgroup": "9th St & Penn Ave",
         "lon": [
          -79.99839664
         ],
         "marker": {
          "color": "#EF553B",
          "size": [
           5
          ],
          "sizemode": "area",
          "sizeref": 0.13777777777777778
         },
         "mode": "markers",
         "name": "9th St & Penn Ave",
         "showlegend": true,
         "subplot": "mapbox",
         "type": "scattermapbox"
        },
        {
         "hovertemplate": "Station_Name=Liberty Ave & 6th St<br>NumRacks=%{marker.size}<br>Latitude=%{lat}<br>Longitude=%{lon}<extra></extra>",
         "lat": [
          40.44193373
         ],
         "legendgroup": "Liberty Ave & 6th St",
         "lon": [
          -80.00207126
         ],
         "marker": {
          "color": "#00cc96",
          "size": [
           6
          ],
          "sizemode": "area",
          "sizeref": 0.13777777777777778
         },
         "mode": "markers",
         "name": "Liberty Ave & 6th St",
         "showlegend": true,
         "subplot": "mapbox",
         "type": "scattermapbox"
        },
        {
         "hovertemplate": "Station_Name=Third Ave & Stanwix St<br>NumRacks=%{marker.size}<br>Latitude=%{lat}<br>Longitude=%{lon}<extra></extra>",
         "lat": [
          40.44001486
         ],
         "legendgroup": "Third Ave & Stanwix St",
         "lon": [
          -80.00447989
         ],
         "marker": {
          "color": "#ab63fa",
          "size": [
           5
          ],
          "sizemode": "area",
          "sizeref": 0.13777777777777778
         },
         "mode": "markers",
         "name": "Third Ave & Stanwix St",
         "showlegend": true,
         "subplot": "mapbox",
         "type": "scattermapbox"
        },
        {
         "hovertemplate": "Station_Name=Ross St & Fourth Ave<br>NumRacks=%{marker.size}<br>Latitude=%{lat}<br>Longitude=%{lon}<extra></extra>",
         "lat": [
          40.43766313
         ],
         "legendgroup": "Ross St & Fourth Ave",
         "lon": [
          -79.99629378
         ],
         "marker": {
          "color": "#FFA15A",
          "size": [
           7
          ],
          "sizemode": "area",
          "sizeref": 0.13777777777777778
         },
         "mode": "markers",
         "name": "Ross St & Fourth Ave",
         "showlegend": true,
         "subplot": "mapbox",
         "type": "scattermapbox"
        },
        {
         "hovertemplate": "Station_Name=Fifth Ave & Miltenberger<br>NumRacks=%{marker.size}<br>Latitude=%{lat}<br>Longitude=%{lon}<extra></extra>",
         "lat": [
          40.43829598
         ],
         "legendgroup": "Fifth Ave & Miltenberger",
         "lon": [
          -79.98117685
         ],
         "marker": {
          "color": "#19d3f3",
          "size": [
           6
          ],
          "sizemode": "area",
          "sizeref": 0.13777777777777778
         },
         "mode": "markers",
         "name": "Fifth Ave & Miltenberger",
         "showlegend": true,
         "subplot": "mapbox",
         "type": "scattermapbox"
        },
        {
         "hovertemplate": "Station_Name=Microsoft<br>NumRacks=%{marker.size}<br>Latitude=%{lat}<br>Longitude=%{lon}<extra></extra>",
         "lat": [
          40.45379691
         ],
         "legendgroup": "Microsoft",
         "lon": [
          -79.99094009
         ],
         "marker": {
          "color": "#FF6692",
          "size": [
           6
          ],
          "sizemode": "area",
          "sizeref": 0.13777777777777778
         },
         "mode": "markers",
         "name": "Microsoft",
         "showlegend": true,
         "subplot": "mapbox",
         "type": "scattermapbox"
        },
        {
         "hovertemplate": "Station_Name=Arch St & Jacksonia St<br>NumRacks=%{marker.size}<br>Latitude=%{lat}<br>Longitude=%{lon}<extra></extra>",
         "lat": [
          40.45777261
         ],
         "legendgroup": "Arch St & Jacksonia St",
         "lon": [
          -80.00945807
         ],
         "marker": {
          "color": "#B6E880",
          "size": [
           5
          ],
          "sizemode": "area",
          "sizeref": 0.13777777777777778
         },
         "mode": "markers",
         "name": "Arch St & Jacksonia St",
         "showlegend": true,
         "subplot": "mapbox",
         "type": "scattermapbox"
        },
        {
         "hovertemplate": "Station_Name=W General Robinson St & Chuck Noll Way<br>NumRacks=%{marker.size}<br>Latitude=%{lat}<br>Longitude=%{lon}<extra></extra>",
         "lat": [
          40.44741245
         ],
         "legendgroup": "W General Robinson St & Chuck Noll Way",
         "lon": [
          -80.01206517
         ],
         "marker": {
          "color": "#FF97FF",
          "size": [
           5
          ],
          "sizemode": "area",
          "sizeref": 0.13777777777777778
         },
         "mode": "markers",
         "name": "W General Robinson St & Chuck Noll Way",
         "showlegend": true,
         "subplot": "mapbox",
         "type": "scattermapbox"
        },
        {
         "hovertemplate": "Station_Name=Butler St & 36th St<br>NumRacks=%{marker.size}<br>Latitude=%{lat}<br>Longitude=%{lon}<extra></extra>",
         "lat": [
          40.46529884
         ],
         "legendgroup": "Butler St & 36th St",
         "lon": [
          -79.96527672
         ],
         "marker": {
          "color": "#FECB52",
          "size": [
           6
          ],
          "sizemode": "area",
          "sizeref": 0.13777777777777778
         },
         "mode": "markers",
         "name": "Butler St & 36th St",
         "showlegend": true,
         "subplot": "mapbox",
         "type": "scattermapbox"
        }
       ],
       "layout": {
        "legend": {
         "itemsizing": "constant",
         "title": {
          "text": "Station_Name"
         },
         "tracegroupgap": 0
        },
        "mapbox": {
         "center": {
          "lat": 40.4482108569,
          "lon": -79.96373512509999
         },
         "domain": {
          "x": [
           0,
           1
          ],
          "y": [
           0,
           1
          ]
         },
         "style": "carto-positron",
         "zoom": 10
        },
        "margin": {
         "t": 60
        },
        "template": {
         "data": {
          "bar": [
           {
            "error_x": {
             "color": "#2a3f5f"
            },
            "error_y": {
             "color": "#2a3f5f"
            },
            "marker": {
             "line": {
              "color": "#E5ECF6",
              "width": 0.5
             }
            },
            "type": "bar"
           }
          ],
          "barpolar": [
           {
            "marker": {
             "line": {
              "color": "#E5ECF6",
              "width": 0.5
             }
            },
            "type": "barpolar"
           }
          ],
          "carpet": [
           {
            "aaxis": {
             "endlinecolor": "#2a3f5f",
             "gridcolor": "white",
             "linecolor": "white",
             "minorgridcolor": "white",
             "startlinecolor": "#2a3f5f"
            },
            "baxis": {
             "endlinecolor": "#2a3f5f",
             "gridcolor": "white",
             "linecolor": "white",
             "minorgridcolor": "white",
             "startlinecolor": "#2a3f5f"
            },
            "type": "carpet"
           }
          ],
          "choropleth": [
           {
            "colorbar": {
             "outlinewidth": 0,
             "ticks": ""
            },
            "type": "choropleth"
           }
          ],
          "contour": [
           {
            "colorbar": {
             "outlinewidth": 0,
             "ticks": ""
            },
            "colorscale": [
             [
              0,
              "#0d0887"
             ],
             [
              0.1111111111111111,
              "#46039f"
             ],
             [
              0.2222222222222222,
              "#7201a8"
             ],
             [
              0.3333333333333333,
              "#9c179e"
             ],
             [
              0.4444444444444444,
              "#bd3786"
             ],
             [
              0.5555555555555556,
              "#d8576b"
             ],
             [
              0.6666666666666666,
              "#ed7953"
             ],
             [
              0.7777777777777778,
              "#fb9f3a"
             ],
             [
              0.8888888888888888,
              "#fdca26"
             ],
             [
              1,
              "#f0f921"
             ]
            ],
            "type": "contour"
           }
          ],
          "contourcarpet": [
           {
            "colorbar": {
             "outlinewidth": 0,
             "ticks": ""
            },
            "type": "contourcarpet"
           }
          ],
          "heatmap": [
           {
            "colorbar": {
             "outlinewidth": 0,
             "ticks": ""
            },
            "colorscale": [
             [
              0,
              "#0d0887"
             ],
             [
              0.1111111111111111,
              "#46039f"
             ],
             [
              0.2222222222222222,
              "#7201a8"
             ],
             [
              0.3333333333333333,
              "#9c179e"
             ],
             [
              0.4444444444444444,
              "#bd3786"
             ],
             [
              0.5555555555555556,
              "#d8576b"
             ],
             [
              0.6666666666666666,
              "#ed7953"
             ],
             [
              0.7777777777777778,
              "#fb9f3a"
             ],
             [
              0.8888888888888888,
              "#fdca26"
             ],
             [
              1,
              "#f0f921"
             ]
            ],
            "type": "heatmap"
           }
          ],
          "heatmapgl": [
           {
            "colorbar": {
             "outlinewidth": 0,
             "ticks": ""
            },
            "colorscale": [
             [
              0,
              "#0d0887"
             ],
             [
              0.1111111111111111,
              "#46039f"
             ],
             [
              0.2222222222222222,
              "#7201a8"
             ],
             [
              0.3333333333333333,
              "#9c179e"
             ],
             [
              0.4444444444444444,
              "#bd3786"
             ],
             [
              0.5555555555555556,
              "#d8576b"
             ],
             [
              0.6666666666666666,
              "#ed7953"
             ],
             [
              0.7777777777777778,
              "#fb9f3a"
             ],
             [
              0.8888888888888888,
              "#fdca26"
             ],
             [
              1,
              "#f0f921"
             ]
            ],
            "type": "heatmapgl"
           }
          ],
          "histogram": [
           {
            "marker": {
             "colorbar": {
              "outlinewidth": 0,
              "ticks": ""
             }
            },
            "type": "histogram"
           }
          ],
          "histogram2d": [
           {
            "colorbar": {
             "outlinewidth": 0,
             "ticks": ""
            },
            "colorscale": [
             [
              0,
              "#0d0887"
             ],
             [
              0.1111111111111111,
              "#46039f"
             ],
             [
              0.2222222222222222,
              "#7201a8"
             ],
             [
              0.3333333333333333,
              "#9c179e"
             ],
             [
              0.4444444444444444,
              "#bd3786"
             ],
             [
              0.5555555555555556,
              "#d8576b"
             ],
             [
              0.6666666666666666,
              "#ed7953"
             ],
             [
              0.7777777777777778,
              "#fb9f3a"
             ],
             [
              0.8888888888888888,
              "#fdca26"
             ],
             [
              1,
              "#f0f921"
             ]
            ],
            "type": "histogram2d"
           }
          ],
          "histogram2dcontour": [
           {
            "colorbar": {
             "outlinewidth": 0,
             "ticks": ""
            },
            "colorscale": [
             [
              0,
              "#0d0887"
             ],
             [
              0.1111111111111111,
              "#46039f"
             ],
             [
              0.2222222222222222,
              "#7201a8"
             ],
             [
              0.3333333333333333,
              "#9c179e"
             ],
             [
              0.4444444444444444,
              "#bd3786"
             ],
             [
              0.5555555555555556,
              "#d8576b"
             ],
             [
              0.6666666666666666,
              "#ed7953"
             ],
             [
              0.7777777777777778,
              "#fb9f3a"
             ],
             [
              0.8888888888888888,
              "#fdca26"
             ],
             [
              1,
              "#f0f921"
             ]
            ],
            "type": "histogram2dcontour"
           }
          ],
          "mesh3d": [
           {
            "colorbar": {
             "outlinewidth": 0,
             "ticks": ""
            },
            "type": "mesh3d"
           }
          ],
          "parcoords": [
           {
            "line": {
             "colorbar": {
              "outlinewidth": 0,
              "ticks": ""
             }
            },
            "type": "parcoords"
           }
          ],
          "pie": [
           {
            "automargin": true,
            "type": "pie"
           }
          ],
          "scatter": [
           {
            "marker": {
             "colorbar": {
              "outlinewidth": 0,
              "ticks": ""
             }
            },
            "type": "scatter"
           }
          ],
          "scatter3d": [
           {
            "line": {
             "colorbar": {
              "outlinewidth": 0,
              "ticks": ""
             }
            },
            "marker": {
             "colorbar": {
              "outlinewidth": 0,
              "ticks": ""
             }
            },
            "type": "scatter3d"
           }
          ],
          "scattercarpet": [
           {
            "marker": {
             "colorbar": {
              "outlinewidth": 0,
              "ticks": ""
             }
            },
            "type": "scattercarpet"
           }
          ],
          "scattergeo": [
           {
            "marker": {
             "colorbar": {
              "outlinewidth": 0,
              "ticks": ""
             }
            },
            "type": "scattergeo"
           }
          ],
          "scattergl": [
           {
            "marker": {
             "colorbar": {
              "outlinewidth": 0,
              "ticks": ""
             }
            },
            "type": "scattergl"
           }
          ],
          "scattermapbox": [
           {
            "marker": {
             "colorbar": {
              "outlinewidth": 0,
              "ticks": ""
             }
            },
            "type": "scattermapbox"
           }
          ],
          "scatterpolar": [
           {
            "marker": {
             "colorbar": {
              "outlinewidth": 0,
              "ticks": ""
             }
            },
            "type": "scatterpolar"
           }
          ],
          "scatterpolargl": [
           {
            "marker": {
             "colorbar": {
              "outlinewidth": 0,
              "ticks": ""
             }
            },
            "type": "scatterpolargl"
           }
          ],
          "scatterternary": [
           {
            "marker": {
             "colorbar": {
              "outlinewidth": 0,
              "ticks": ""
             }
            },
            "type": "scatterternary"
           }
          ],
          "surface": [
           {
            "colorbar": {
             "outlinewidth": 0,
             "ticks": ""
            },
            "colorscale": [
             [
              0,
              "#0d0887"
             ],
             [
              0.1111111111111111,
              "#46039f"
             ],
             [
              0.2222222222222222,
              "#7201a8"
             ],
             [
              0.3333333333333333,
              "#9c179e"
             ],
             [
              0.4444444444444444,
              "#bd3786"
             ],
             [
              0.5555555555555556,
              "#d8576b"
             ],
             [
              0.6666666666666666,
              "#ed7953"
             ],
             [
              0.7777777777777778,
              "#fb9f3a"
             ],
             [
              0.8888888888888888,
              "#fdca26"
             ],
             [
              1,
              "#f0f921"
             ]
            ],
            "type": "surface"
           }
          ],
          "table": [
           {
            "cells": {
             "fill": {
              "color": "#EBF0F8"
             },
             "line": {
              "color": "white"
             }
            },
            "header": {
             "fill": {
              "color": "#C8D4E3"
             },
             "line": {
              "color": "white"
             }
            },
            "type": "table"
           }
          ]
         },
         "layout": {
          "annotationdefaults": {
           "arrowcolor": "#2a3f5f",
           "arrowhead": 0,
           "arrowwidth": 1
          },
          "coloraxis": {
           "colorbar": {
            "outlinewidth": 0,
            "ticks": ""
           }
          },
          "colorscale": {
           "diverging": [
            [
             0,
             "#8e0152"
            ],
            [
             0.1,
             "#c51b7d"
            ],
            [
             0.2,
             "#de77ae"
            ],
            [
             0.3,
             "#f1b6da"
            ],
            [
             0.4,
             "#fde0ef"
            ],
            [
             0.5,
             "#f7f7f7"
            ],
            [
             0.6,
             "#e6f5d0"
            ],
            [
             0.7,
             "#b8e186"
            ],
            [
             0.8,
             "#7fbc41"
            ],
            [
             0.9,
             "#4d9221"
            ],
            [
             1,
             "#276419"
            ]
           ],
           "sequential": [
            [
             0,
             "#0d0887"
            ],
            [
             0.1111111111111111,
             "#46039f"
            ],
            [
             0.2222222222222222,
             "#7201a8"
            ],
            [
             0.3333333333333333,
             "#9c179e"
            ],
            [
             0.4444444444444444,
             "#bd3786"
            ],
            [
             0.5555555555555556,
             "#d8576b"
            ],
            [
             0.6666666666666666,
             "#ed7953"
            ],
            [
             0.7777777777777778,
             "#fb9f3a"
            ],
            [
             0.8888888888888888,
             "#fdca26"
            ],
            [
             1,
             "#f0f921"
            ]
           ],
           "sequentialminus": [
            [
             0,
             "#0d0887"
            ],
            [
             0.1111111111111111,
             "#46039f"
            ],
            [
             0.2222222222222222,
             "#7201a8"
            ],
            [
             0.3333333333333333,
             "#9c179e"
            ],
            [
             0.4444444444444444,
             "#bd3786"
            ],
            [
             0.5555555555555556,
             "#d8576b"
            ],
            [
             0.6666666666666666,
             "#ed7953"
            ],
            [
             0.7777777777777778,
             "#fb9f3a"
            ],
            [
             0.8888888888888888,
             "#fdca26"
            ],
            [
             1,
             "#f0f921"
            ]
           ]
          },
          "colorway": [
           "#636efa",
           "#EF553B",
           "#00cc96",
           "#ab63fa",
           "#FFA15A",
           "#19d3f3",
           "#FF6692",
           "#B6E880",
           "#FF97FF",
           "#FECB52"
          ],
          "font": {
           "color": "#2a3f5f"
          },
          "geo": {
           "bgcolor": "white",
           "lakecolor": "white",
           "landcolor": "#E5ECF6",
           "showlakes": true,
           "showland": true,
           "subunitcolor": "white"
          },
          "hoverlabel": {
           "align": "left"
          },
          "hovermode": "closest",
          "mapbox": {
           "style": "light"
          },
          "paper_bgcolor": "white",
          "plot_bgcolor": "#E5ECF6",
          "polar": {
           "angularaxis": {
            "gridcolor": "white",
            "linecolor": "white",
            "ticks": ""
           },
           "bgcolor": "#E5ECF6",
           "radialaxis": {
            "gridcolor": "white",
            "linecolor": "white",
            "ticks": ""
           }
          },
          "scene": {
           "xaxis": {
            "backgroundcolor": "#E5ECF6",
            "gridcolor": "white",
            "gridwidth": 2,
            "linecolor": "white",
            "showbackground": true,
            "ticks": "",
            "zerolinecolor": "white"
           },
           "yaxis": {
            "backgroundcolor": "#E5ECF6",
            "gridcolor": "white",
            "gridwidth": 2,
            "linecolor": "white",
            "showbackground": true,
            "ticks": "",
            "zerolinecolor": "white"
           },
           "zaxis": {
            "backgroundcolor": "#E5ECF6",
            "gridcolor": "white",
            "gridwidth": 2,
            "linecolor": "white",
            "showbackground": true,
            "ticks": "",
            "zerolinecolor": "white"
           }
          },
          "shapedefaults": {
           "line": {
            "color": "#2a3f5f"
           }
          },
          "ternary": {
           "aaxis": {
            "gridcolor": "white",
            "linecolor": "white",
            "ticks": ""
           },
           "baxis": {
            "gridcolor": "white",
            "linecolor": "white",
            "ticks": ""
           },
           "bgcolor": "#E5ECF6",
           "caxis": {
            "gridcolor": "white",
            "linecolor": "white",
            "ticks": ""
           }
          },
          "title": {
           "x": 0.05
          },
          "xaxis": {
           "automargin": true,
           "gridcolor": "white",
           "linecolor": "white",
           "ticks": "",
           "title": {
            "standoff": 15
           },
           "zerolinecolor": "white",
           "zerolinewidth": 2
          },
          "yaxis": {
           "automargin": true,
           "gridcolor": "white",
           "linecolor": "white",
           "ticks": "",
           "title": {
            "standoff": 15
           },
           "zerolinecolor": "white",
           "zerolinewidth": 2
          }
         }
        }
       }
      },
      "text/html": [
       "<div>                            <div id=\"ee5c983f-00a3-4010-8d57-20ccc88b9c66\" class=\"plotly-graph-div\" style=\"height:525px; width:100%;\"></div>            <script type=\"text/javascript\">                require([\"plotly\"], function(Plotly) {                    window.PLOTLYENV=window.PLOTLYENV || {};                                    if (document.getElementById(\"ee5c983f-00a3-4010-8d57-20ccc88b9c66\")) {                    Plotly.newPlot(                        \"ee5c983f-00a3-4010-8d57-20ccc88b9c66\",                        [{\"hovertemplate\": \"Station_Name=Liberty Ave & Stanwix St<br>NumRacks=%{marker.size}<br>Latitude=%{lat}<br>Longitude=%{lon}<extra></extra>\", \"lat\": [40.441326], \"legendgroup\": \"Liberty Ave & Stanwix St\", \"lon\": [-80.00467900000002], \"marker\": {\"color\": \"#636efa\", \"size\": [16], \"sizemode\": \"area\", \"sizeref\": 0.13777777777777778}, \"mode\": \"markers\", \"name\": \"Liberty Ave & Stanwix St\", \"showlegend\": true, \"subplot\": \"mapbox\", \"type\": \"scattermapbox\"}, {\"hovertemplate\": \"Station_Name=Forbes Ave & Market Square<br>NumRacks=%{marker.size}<br>Latitude=%{lat}<br>Longitude=%{lon}<extra></extra>\", \"lat\": [40.440877], \"legendgroup\": \"Forbes Ave & Market Square\", \"lon\": [-80.00308000000003], \"marker\": {\"color\": \"#EF553B\", \"size\": [19], \"sizemode\": \"area\", \"sizeref\": 0.13777777777777778}, \"mode\": \"markers\", \"name\": \"Forbes Ave & Market Square\", \"showlegend\": true, \"subplot\": \"mapbox\", \"type\": \"scattermapbox\"}, {\"hovertemplate\": \"Station_Name=Third Ave & Wood St<br>NumRacks=%{marker.size}<br>Latitude=%{lat}<br>Longitude=%{lon}<extra></extra>\", \"lat\": [40.43903], \"legendgroup\": \"Third Ave & Wood St\", \"lon\": [-80.00186], \"marker\": {\"color\": \"#00cc96\", \"size\": [15], \"sizemode\": \"area\", \"sizeref\": 0.13777777777777778}, \"mode\": \"markers\", \"name\": \"Third Ave & Wood St\", \"showlegend\": true, \"subplot\": \"mapbox\", \"type\": \"scattermapbox\"}, {\"hovertemplate\": \"Station_Name=First Ave & Smithfield St (Art Institute)<br>NumRacks=%{marker.size}<br>Latitude=%{lat}<br>Longitude=%{lon}<extra></extra>\", \"lat\": [40.4372], \"legendgroup\": \"First Ave & Smithfield St (Art Institute)\", \"lon\": [-80.000375], \"marker\": {\"color\": \"#ab63fa\", \"size\": [15], \"sizemode\": \"area\", \"sizeref\": 0.13777777777777778}, \"mode\": \"markers\", \"name\": \"First Ave & Smithfield St (Art Institute)\", \"showlegend\": true, \"subplot\": \"mapbox\", \"type\": \"scattermapbox\"}, {\"hovertemplate\": \"Station_Name=First Ave & B St (T Station)<br>NumRacks=%{marker.size}<br>Latitude=%{lat}<br>Longitude=%{lon}<extra></extra>\", \"lat\": [40.435887], \"legendgroup\": \"First Ave & B St (T Station)\", \"lon\": [-79.997102], \"marker\": {\"color\": \"#FFA15A\", \"size\": [15], \"sizemode\": \"area\", \"sizeref\": 0.13777777777777778}, \"mode\": \"markers\", \"name\": \"First Ave & B St (T Station)\", \"showlegend\": true, \"subplot\": \"mapbox\", \"type\": \"scattermapbox\"}, {\"hovertemplate\": \"Station_Name=Forbes Ave & Grant St<br>NumRacks=%{marker.size}<br>Latitude=%{lat}<br>Longitude=%{lon}<extra></extra>\", \"lat\": [40.438882], \"legendgroup\": \"Forbes Ave & Grant St\", \"lon\": [-79.997592], \"marker\": {\"color\": \"#19d3f3\", \"size\": [13], \"sizemode\": \"area\", \"sizeref\": 0.13777777777777778}, \"mode\": \"markers\", \"name\": \"Forbes Ave & Grant St\", \"showlegend\": true, \"subplot\": \"mapbox\", \"type\": \"scattermapbox\"}, {\"hovertemplate\": \"Station_Name=Ross St & Sixth Ave (Steel Plaza T Station)<br>NumRacks=%{marker.size}<br>Latitude=%{lat}<br>Longitude=%{lon}<extra></extra>\", \"lat\": [40.440193], \"legendgroup\": \"Ross St & Sixth Ave (Steel Plaza T Station)\", \"lon\": [-79.99508399999998], \"marker\": {\"color\": \"#FF6692\", \"size\": [7], \"sizemode\": \"area\", \"sizeref\": 0.13777777777777778}, \"mode\": \"markers\", \"name\": \"Ross St & Sixth Ave (Steel Plaza T Station)\", \"showlegend\": true, \"subplot\": \"mapbox\", \"type\": \"scattermapbox\"}, {\"hovertemplate\": \"Station_Name=Stevenson St & Forbes Ave<br>NumRacks=%{marker.size}<br>Latitude=%{lat}<br>Longitude=%{lon}<extra></extra>\", \"lat\": [40.437643], \"legendgroup\": \"Stevenson St & Forbes Ave\", \"lon\": [-79.986695], \"marker\": {\"color\": \"#B6E880\", \"size\": [15], \"sizemode\": \"area\", \"sizeref\": 0.13777777777777778}, \"mode\": \"markers\", \"name\": \"Stevenson St & Forbes Ave\", \"showlegend\": true, \"subplot\": \"mapbox\", \"type\": \"scattermapbox\"}, {\"hovertemplate\": \"Station_Name=Centre Ave & PPG Paints Arena<br>NumRacks=%{marker.size}<br>Latitude=%{lat}<br>Longitude=%{lon}<extra></extra>\", \"lat\": [40.440368], \"legendgroup\": \"Centre Ave & PPG Paints Arena\", \"lon\": [-79.988636], \"marker\": {\"color\": \"#FF97FF\", \"size\": [5], \"sizemode\": \"area\", \"sizeref\": 0.13777777777777778}, \"mode\": \"markers\", \"name\": \"Centre Ave & PPG Paints Arena\", \"showlegend\": true, \"subplot\": \"mapbox\", \"type\": \"scattermapbox\"}, {\"hovertemplate\": \"Station_Name=12th St & Penn Ave<br>NumRacks=%{marker.size}<br>Latitude=%{lat}<br>Longitude=%{lon}<extra></extra>\", \"lat\": [40.445844], \"legendgroup\": \"12th St & Penn Ave\", \"lon\": [-79.99238000000003], \"marker\": {\"color\": \"#FECB52\", \"size\": [19], \"sizemode\": \"area\", \"sizeref\": 0.13777777777777778}, \"mode\": \"markers\", \"name\": \"12th St & Penn Ave\", \"showlegend\": true, \"subplot\": \"mapbox\", \"type\": \"scattermapbox\"}, {\"hovertemplate\": \"Station_Name=10th St & Penn Ave (David L. Lawrence Convention Center)<br>NumRacks=%{marker.size}<br>Latitude=%{lat}<br>Longitude=%{lon}<extra></extra>\", \"lat\": [40.444665], \"legendgroup\": \"10th St & Penn Ave (David L. Lawrence Convention Center)\", \"lon\": [-79.995798], \"marker\": {\"color\": \"#636efa\", \"size\": [15], \"sizemode\": \"area\", \"sizeref\": 0.13777777777777778}, \"mode\": \"markers\", \"name\": \"10th St & Penn Ave (David L. Lawrence Convention Center)\", \"showlegend\": true, \"subplot\": \"mapbox\", \"type\": \"scattermapbox\"}, {\"hovertemplate\": \"Station_Name=Fort Duquesne Blvd & 7th<br>NumRacks=%{marker.size}<br>Latitude=%{lat}<br>Longitude=%{lon}<extra></extra>\", \"lat\": [40.444777], \"legendgroup\": \"Fort Duquesne Blvd & 7th\", \"lon\": [-80.000831], \"marker\": {\"color\": \"#EF553B\", \"size\": [15], \"sizemode\": \"area\", \"sizeref\": 0.13777777777777778}, \"mode\": \"markers\", \"name\": \"Fort Duquesne Blvd & 7th\", \"showlegend\": true, \"subplot\": \"mapbox\", \"type\": \"scattermapbox\"}, {\"hovertemplate\": \"Station_Name=North Shore Trail & Ft Duquesne Bridge<br>NumRacks=%{marker.size}<br>Latitude=%{lat}<br>Longitude=%{lon}<extra></extra>\", \"lat\": [40.44583400000001], \"legendgroup\": \"North Shore Trail & Ft Duquesne Bridge\", \"lon\": [-80.008882], \"marker\": {\"color\": \"#00cc96\", \"size\": [31], \"sizemode\": \"area\", \"sizeref\": 0.13777777777777778}, \"mode\": \"markers\", \"name\": \"North Shore Trail & Ft Duquesne Bridge\", \"showlegend\": true, \"subplot\": \"mapbox\", \"type\": \"scattermapbox\"}, {\"hovertemplate\": \"Station_Name=Isabella St & Federal St (PNC Park)<br>NumRacks=%{marker.size}<br>Latitude=%{lat}<br>Longitude=%{lon}<extra></extra>\", \"lat\": [40.447166], \"legendgroup\": \"Isabella St & Federal St (PNC Park)\", \"lon\": [-80.003566], \"marker\": {\"color\": \"#ab63fa\", \"size\": [15], \"sizemode\": \"area\", \"sizeref\": 0.13777777777777778}, \"mode\": \"markers\", \"name\": \"Isabella St & Federal St (PNC Park)\", \"showlegend\": true, \"subplot\": \"mapbox\", \"type\": \"scattermapbox\"}, {\"hovertemplate\": \"Station_Name=Ridge Ave & Brighton Rd (CCAC)<br>NumRacks=%{marker.size}<br>Latitude=%{lat}<br>Longitude=%{lon}<extra></extra>\", \"lat\": [40.450595], \"legendgroup\": \"Ridge Ave & Brighton Rd (CCAC)\", \"lon\": [-80.013204], \"marker\": {\"color\": \"#FFA15A\", \"size\": [19], \"sizemode\": \"area\", \"sizeref\": 0.13777777777777778}, \"mode\": \"markers\", \"name\": \"Ridge Ave & Brighton Rd (CCAC)\", \"showlegend\": true, \"subplot\": \"mapbox\", \"type\": \"scattermapbox\"}, {\"hovertemplate\": \"Station_Name=Federal St & E North Ave<br>NumRacks=%{marker.size}<br>Latitude=%{lat}<br>Longitude=%{lon}<extra></extra>\", \"lat\": [40.45509087], \"legendgroup\": \"Federal St & E North Ave\", \"lon\": [-80.00634670000002], \"marker\": {\"color\": \"#19d3f3\", \"size\": [12], \"sizemode\": \"area\", \"sizeref\": 0.13777777777777778}, \"mode\": \"markers\", \"name\": \"Federal St & E North Ave\", \"showlegend\": true, \"subplot\": \"mapbox\", \"type\": \"scattermapbox\"}, {\"hovertemplate\": \"Station_Name=17th St & Penn Ave<br>NumRacks=%{marker.size}<br>Latitude=%{lat}<br>Longitude=%{lon}<extra></extra>\", \"lat\": [40.449631], \"legendgroup\": \"17th St & Penn Ave\", \"lon\": [-79.985893], \"marker\": {\"color\": \"#FF6692\", \"size\": [19], \"sizemode\": \"area\", \"sizeref\": 0.13777777777777778}, \"mode\": \"markers\", \"name\": \"17th St & Penn Ave\", \"showlegend\": true, \"subplot\": \"mapbox\", \"type\": \"scattermapbox\"}, {\"hovertemplate\": \"Station_Name=21st St & Penn Ave<br>NumRacks=%{marker.size}<br>Latitude=%{lat}<br>Longitude=%{lon}<extra></extra>\", \"lat\": [40.451742], \"legendgroup\": \"21st St & Penn Ave\", \"lon\": [-79.98321700000002], \"marker\": {\"color\": \"#B6E880\", \"size\": [18], \"sizemode\": \"area\", \"sizeref\": 0.13777777777777778}, \"mode\": \"markers\", \"name\": \"21st St & Penn Ave\", \"showlegend\": true, \"subplot\": \"mapbox\", \"type\": \"scattermapbox\"}, {\"hovertemplate\": \"Station_Name=Butler St & Stanton Ave<br>NumRacks=%{marker.size}<br>Latitude=%{lat}<br>Longitude=%{lon}<extra></extra>\", \"lat\": [40.47815], \"legendgroup\": \"Butler St & Stanton Ave\", \"lon\": [-79.9557], \"marker\": {\"color\": \"#FF97FF\", \"size\": [5], \"sizemode\": \"area\", \"sizeref\": 0.13777777777777778}, \"mode\": \"markers\", \"name\": \"Butler St & Stanton Ave\", \"showlegend\": true, \"subplot\": \"mapbox\", \"type\": \"scattermapbox\"}, {\"hovertemplate\": \"Station_Name=42nd St & Butler St<br>NumRacks=%{marker.size}<br>Latitude=%{lat}<br>Longitude=%{lon}<extra></extra>\", \"lat\": [40.47021248], \"legendgroup\": \"42nd St & Butler St\", \"lon\": [-79.96066332], \"marker\": {\"color\": \"#FECB52\", \"size\": [17], \"sizemode\": \"area\", \"sizeref\": 0.13777777777777778}, \"mode\": \"markers\", \"name\": \"42nd St & Butler St\", \"showlegend\": true, \"subplot\": \"mapbox\", \"type\": \"scattermapbox\"}, {\"hovertemplate\": \"Station_Name=42nd St & Penn Ave (Children's Hospital)<br>NumRacks=%{marker.size}<br>Latitude=%{lat}<br>Longitude=%{lon}<extra></extra>\", \"lat\": [40.465893], \"legendgroup\": \"42nd St & Penn Ave (Children's Hospital)\", \"lon\": [-79.954417], \"marker\": {\"color\": \"#636efa\", \"size\": [8], \"sizemode\": \"area\", \"sizeref\": 0.13777777777777778}, \"mode\": \"markers\", \"name\": \"42nd St & Penn Ave (Children's Hospital)\", \"showlegend\": true, \"subplot\": \"mapbox\", \"type\": \"scattermapbox\"}, {\"hovertemplate\": \"Station_Name=Taylor St & Liberty Ave<br>NumRacks=%{marker.size}<br>Latitude=%{lat}<br>Longitude=%{lon}<extra></extra>\", \"lat\": [40.462769], \"legendgroup\": \"Taylor St & Liberty Ave\", \"lon\": [-79.950867], \"marker\": {\"color\": \"#EF553B\", \"size\": [19], \"sizemode\": \"area\", \"sizeref\": 0.13777777777777778}, \"mode\": \"markers\", \"name\": \"Taylor St & Liberty Ave\", \"showlegend\": true, \"subplot\": \"mapbox\", \"type\": \"scattermapbox\"}, {\"hovertemplate\": \"Station_Name=Liberty Ave & S Millvale (West Penn Hospital)<br>NumRacks=%{marker.size}<br>Latitude=%{lat}<br>Longitude=%{lon}<extra></extra>\", \"lat\": [40.459812], \"legendgroup\": \"Liberty Ave & S Millvale (West Penn Hospital)\", \"lon\": [-79.945548], \"marker\": {\"color\": \"#00cc96\", \"size\": [15], \"sizemode\": \"area\", \"sizeref\": 0.13777777777777778}, \"mode\": \"markers\", \"name\": \"Liberty Ave & S Millvale (West Penn Hospital)\", \"showlegend\": true, \"subplot\": \"mapbox\", \"type\": \"scattermapbox\"}, {\"hovertemplate\": \"Station_Name=Liberty Ave & Baum Blvd<br>NumRacks=%{marker.size}<br>Latitude=%{lat}<br>Longitude=%{lon}<extra></extra>\", \"lat\": [40.456505], \"legendgroup\": \"Liberty Ave & Baum Blvd\", \"lon\": [-79.939362], \"marker\": {\"color\": \"#ab63fa\", \"size\": [15], \"sizemode\": \"area\", \"sizeref\": 0.13777777777777778}, \"mode\": \"markers\", \"name\": \"Liberty Ave & Baum Blvd\", \"showlegend\": true, \"subplot\": \"mapbox\", \"type\": \"scattermapbox\"}, {\"hovertemplate\": \"Station_Name=S Negley Ave & Baum Blvd<br>NumRacks=%{marker.size}<br>Latitude=%{lat}<br>Longitude=%{lon}<extra></extra>\", \"lat\": [40.458714], \"legendgroup\": \"S Negley Ave & Baum Blvd\", \"lon\": [-79.933483], \"marker\": {\"color\": \"#FFA15A\", \"size\": [17], \"sizemode\": \"area\", \"sizeref\": 0.13777777777777778}, \"mode\": \"markers\", \"name\": \"S Negley Ave & Baum Blvd\", \"showlegend\": true, \"subplot\": \"mapbox\", \"type\": \"scattermapbox\"}, {\"hovertemplate\": \"Station_Name=Penn Ave & N Fairmount St<br>NumRacks=%{marker.size}<br>Latitude=%{lat}<br>Longitude=%{lon}<extra></extra>\", \"lat\": [40.464443], \"legendgroup\": \"Penn Ave & N Fairmount St\", \"lon\": [-79.933188], \"marker\": {\"color\": \"#19d3f3\", \"size\": [15], \"sizemode\": \"area\", \"sizeref\": 0.13777777777777778}, \"mode\": \"markers\", \"name\": \"Penn Ave & N Fairmount St\", \"showlegend\": true, \"subplot\": \"mapbox\", \"type\": \"scattermapbox\"}, {\"hovertemplate\": \"Station_Name=Penn Ave & S Whitfield St<br>NumRacks=%{marker.size}<br>Latitude=%{lat}<br>Longitude=%{lon}<extra></extra>\", \"lat\": [40.461603], \"legendgroup\": \"Penn Ave & S Whitfield St\", \"lon\": [-79.925624], \"marker\": {\"color\": \"#FF6692\", \"size\": [13], \"sizemode\": \"area\", \"sizeref\": 0.13777777777777778}, \"mode\": \"markers\", \"name\": \"Penn Ave & S Whitfield St\", \"showlegend\": true, \"subplot\": \"mapbox\", \"type\": \"scattermapbox\"}, {\"hovertemplate\": \"Station_Name=Shady Ave & Ellsworth Ave<br>NumRacks=%{marker.size}<br>Latitude=%{lat}<br>Longitude=%{lon}<extra></extra>\", \"lat\": [40.458972], \"legendgroup\": \"Shady Ave & Ellsworth Ave\", \"lon\": [-79.922023], \"marker\": {\"color\": \"#B6E880\", \"size\": [19], \"sizemode\": \"area\", \"sizeref\": 0.13777777777777778}, \"mode\": \"markers\", \"name\": \"Shady Ave & Ellsworth Ave\", \"showlegend\": true, \"subplot\": \"mapbox\", \"type\": \"scattermapbox\"}, {\"hovertemplate\": \"Station_Name=Penn Ave & Putnam St (Bakery Square)<br>NumRacks=%{marker.size}<br>Latitude=%{lat}<br>Longitude=%{lon}<extra></extra>\", \"lat\": [40.455821], \"legendgroup\": \"Penn Ave & Putnam St (Bakery Square)\", \"lon\": [-79.91524799999998], \"marker\": {\"color\": \"#FF97FF\", \"size\": [8], \"sizemode\": \"area\", \"sizeref\": 0.13777777777777778}, \"mode\": \"markers\", \"name\": \"Penn Ave & Putnam St (Bakery Square)\", \"showlegend\": true, \"subplot\": \"mapbox\", \"type\": \"scattermapbox\"}, {\"hovertemplate\": \"Station_Name=Alder St & S Higland Ave<br>NumRacks=%{marker.size}<br>Latitude=%{lat}<br>Longitude=%{lon}<extra></extra>\", \"lat\": [40.45741500000001], \"legendgroup\": \"Alder St & S Higland Ave\", \"lon\": [-79.92492], \"marker\": {\"color\": \"#FECB52\", \"size\": [19], \"sizemode\": \"area\", \"sizeref\": 0.13777777777777778}, \"mode\": \"markers\", \"name\": \"Alder St & S Higland Ave\", \"showlegend\": true, \"subplot\": \"mapbox\", \"type\": \"scattermapbox\"}, {\"hovertemplate\": \"Station_Name=Maryland Ave & Ellsworth Ave<br>NumRacks=%{marker.size}<br>Latitude=%{lat}<br>Longitude=%{lon}<extra></extra>\", \"lat\": [40.45628], \"legendgroup\": \"Maryland Ave & Ellsworth Ave\", \"lon\": [-79.930962], \"marker\": {\"color\": \"#636efa\", \"size\": [19], \"sizemode\": \"area\", \"sizeref\": 0.13777777777777778}, \"mode\": \"markers\", \"name\": \"Maryland Ave & Ellsworth Ave\", \"showlegend\": true, \"subplot\": \"mapbox\", \"type\": \"scattermapbox\"}, {\"hovertemplate\": \"Station_Name=Walnut St & College St<br>NumRacks=%{marker.size}<br>Latitude=%{lat}<br>Longitude=%{lon}<extra></extra>\", \"lat\": [40.453382], \"legendgroup\": \"Walnut St & College St\", \"lon\": [-79.92730999999998], \"marker\": {\"color\": \"#EF553B\", \"size\": [14], \"sizemode\": \"area\", \"sizeref\": 0.13777777777777778}, \"mode\": \"markers\", \"name\": \"Walnut St & College St\", \"showlegend\": true, \"subplot\": \"mapbox\", \"type\": \"scattermapbox\"}, {\"hovertemplate\": \"Station_Name=Ivy St & Walnut St<br>NumRacks=%{marker.size}<br>Latitude=%{lat}<br>Longitude=%{lon}<extra></extra>\", \"lat\": [40.45177], \"legendgroup\": \"Ivy St & Walnut St\", \"lon\": [-79.932324], \"marker\": {\"color\": \"#00cc96\", \"size\": [19], \"sizemode\": \"area\", \"sizeref\": 0.13777777777777778}, \"mode\": \"markers\", \"name\": \"Ivy St & Walnut St\", \"showlegend\": true, \"subplot\": \"mapbox\", \"type\": \"scattermapbox\"}, {\"hovertemplate\": \"Station_Name=Ellsworth Ave & N Neville St<br>NumRacks=%{marker.size}<br>Latitude=%{lat}<br>Longitude=%{lon}<extra></extra>\", \"lat\": [40.448419], \"legendgroup\": \"Ellsworth Ave & N Neville St\", \"lon\": [-79.947401], \"marker\": {\"color\": \"#ab63fa\", \"size\": [15], \"sizemode\": \"area\", \"sizeref\": 0.13777777777777778}, \"mode\": \"markers\", \"name\": \"Ellsworth Ave & N Neville St\", \"showlegend\": true, \"subplot\": \"mapbox\", \"type\": \"scattermapbox\"}, {\"hovertemplate\": \"Station_Name=Fifth Ave & S Dithridge St<br>NumRacks=%{marker.size}<br>Latitude=%{lat}<br>Longitude=%{lon}<extra></extra>\", \"lat\": [40.446744], \"legendgroup\": \"Fifth Ave & S Dithridge St\", \"lon\": [-79.95088100000002], \"marker\": {\"color\": \"#FFA15A\", \"size\": [8], \"sizemode\": \"area\", \"sizeref\": 0.13777777777777778}, \"mode\": \"markers\", \"name\": \"Fifth Ave & S Dithridge St\", \"showlegend\": true, \"subplot\": \"mapbox\", \"type\": \"scattermapbox\"}, {\"hovertemplate\": \"Station_Name=Schenley Dr at Schenley Plaza (Carnegie Library Main)<br>NumRacks=%{marker.size}<br>Latitude=%{lat}<br>Longitude=%{lon}<extra></extra>\", \"lat\": [40.442398], \"legendgroup\": \"Schenley Dr at Schenley Plaza (Carnegie Library Main)\", \"lon\": [-79.951479], \"marker\": {\"color\": \"#19d3f3\", \"size\": [19], \"sizemode\": \"area\", \"sizeref\": 0.13777777777777778}, \"mode\": \"markers\", \"name\": \"Schenley Dr at Schenley Plaza (Carnegie Library Main)\", \"showlegend\": true, \"subplot\": \"mapbox\", \"type\": \"scattermapbox\"}, {\"hovertemplate\": \"Station_Name=Frew St & Schenley Dr<br>NumRacks=%{marker.size}<br>Latitude=%{lat}<br>Longitude=%{lon}<extra></extra>\", \"lat\": [40.441032], \"legendgroup\": \"Frew St & Schenley Dr\", \"lon\": [-79.948042], \"marker\": {\"color\": \"#FF6692\", \"size\": [20], \"sizemode\": \"area\", \"sizeref\": 0.13777777777777778}, \"mode\": \"markers\", \"name\": \"Frew St & Schenley Dr\", \"showlegend\": true, \"subplot\": \"mapbox\", \"type\": \"scattermapbox\"}, {\"hovertemplate\": \"Station_Name=Boulevard of the Allies & Parkview Ave<br>NumRacks=%{marker.size}<br>Latitude=%{lat}<br>Longitude=%{lon}<extra></extra>\", \"lat\": [40.434338], \"legendgroup\": \"Boulevard of the Allies & Parkview Ave\", \"lon\": [-79.951877], \"marker\": {\"color\": \"#B6E880\", \"size\": [19], \"sizemode\": \"area\", \"sizeref\": 0.13777777777777778}, \"mode\": \"markers\", \"name\": \"Boulevard of the Allies & Parkview Ave\", \"showlegend\": true, \"subplot\": \"mapbox\", \"type\": \"scattermapbox\"}, {\"hovertemplate\": \"Station_Name=Atwood St & Bates<br>NumRacks=%{marker.size}<br>Latitude=%{lat}<br>Longitude=%{lon}<extra></extra>\", \"lat\": [40.437987], \"legendgroup\": \"Atwood St & Bates\", \"lon\": [-79.95366999999997], \"marker\": {\"color\": \"#FF97FF\", \"size\": [8], \"sizemode\": \"area\", \"sizeref\": 0.13777777777777778}, \"mode\": \"markers\", \"name\": \"Atwood St & Bates\", \"showlegend\": true, \"subplot\": \"mapbox\", \"type\": \"scattermapbox\"}, {\"hovertemplate\": \"Station_Name=O'Hara St and University Place (Soldiers and Sailors Memorial)<br>NumRacks=%{marker.size}<br>Latitude=%{lat}<br>Longitude=%{lon}<extra></extra>\", \"lat\": [40.445128], \"legendgroup\": \"O'Hara St and University Place (Soldiers and Sailors Memorial)\", \"lon\": [-79.957102], \"marker\": {\"color\": \"#FECB52\", \"size\": [21], \"sizemode\": \"area\", \"sizeref\": 0.13777777777777778}, \"mode\": \"markers\", \"name\": \"O'Hara St and University Place (Soldiers and Sailors Memorial)\", \"showlegend\": true, \"subplot\": \"mapbox\", \"type\": \"scattermapbox\"}, {\"hovertemplate\": \"Station_Name=Fifth Ave & S Bouquet St<br>NumRacks=%{marker.size}<br>Latitude=%{lat}<br>Longitude=%{lon}<extra></extra>\", \"lat\": [40.442325], \"legendgroup\": \"Fifth Ave & S Bouquet St\", \"lon\": [-79.957604], \"marker\": {\"color\": \"#636efa\", \"size\": [19], \"sizemode\": \"area\", \"sizeref\": 0.13777777777777778}, \"mode\": \"markers\", \"name\": \"Fifth Ave & S Bouquet St\", \"showlegend\": true, \"subplot\": \"mapbox\", \"type\": \"scattermapbox\"}, {\"hovertemplate\": \"Station_Name=Centre Ave & Kirkpatrick St<br>NumRacks=%{marker.size}<br>Latitude=%{lat}<br>Longitude=%{lon}<extra></extra>\", \"lat\": [40.445236], \"legendgroup\": \"Centre Ave & Kirkpatrick St\", \"lon\": [-79.976911], \"marker\": {\"color\": \"#EF553B\", \"size\": [12], \"sizemode\": \"area\", \"sizeref\": 0.13777777777777778}, \"mode\": \"markers\", \"name\": \"Centre Ave & Kirkpatrick St\", \"showlegend\": true, \"subplot\": \"mapbox\", \"type\": \"scattermapbox\"}, {\"hovertemplate\": \"Station_Name=S Millvale Ave & Centre Ave<br>NumRacks=%{marker.size}<br>Latitude=%{lat}<br>Longitude=%{lon}<extra></extra>\", \"lat\": [40.45351], \"legendgroup\": \"S Millvale Ave & Centre Ave\", \"lon\": [-79.94747], \"marker\": {\"color\": \"#00cc96\", \"size\": [13], \"sizemode\": \"area\", \"sizeref\": 0.13777777777777778}, \"mode\": \"markers\", \"name\": \"S Millvale Ave & Centre Ave\", \"showlegend\": true, \"subplot\": \"mapbox\", \"type\": \"scattermapbox\"}, {\"hovertemplate\": \"Station_Name=Zulema St & Coltart Ave<br>NumRacks=%{marker.size}<br>Latitude=%{lat}<br>Longitude=%{lon}<extra></extra>\", \"lat\": [40.435986], \"legendgroup\": \"Zulema St & Coltart Ave\", \"lon\": [-79.956942], \"marker\": {\"color\": \"#ab63fa\", \"size\": [19], \"sizemode\": \"area\", \"sizeref\": 0.13777777777777778}, \"mode\": \"markers\", \"name\": \"Zulema St & Coltart Ave\", \"showlegend\": true, \"subplot\": \"mapbox\", \"type\": \"scattermapbox\"}, {\"hovertemplate\": \"Station_Name=S 27th St & Sidney St. (Southside Works)<br>NumRacks=%{marker.size}<br>Latitude=%{lat}<br>Longitude=%{lon}<extra></extra>\", \"lat\": [40.4279], \"legendgroup\": \"S 27th St & Sidney St. (Southside Works)\", \"lon\": [-79.966112], \"marker\": {\"color\": \"#FFA15A\", \"size\": [19], \"sizemode\": \"area\", \"sizeref\": 0.13777777777777778}, \"mode\": \"markers\", \"name\": \"S 27th St & Sidney St. (Southside Works)\", \"showlegend\": true, \"subplot\": \"mapbox\", \"type\": \"scattermapbox\"}, {\"hovertemplate\": \"Station_Name=S 25th St & E Carson St<br>NumRacks=%{marker.size}<br>Latitude=%{lat}<br>Longitude=%{lon}<extra></extra>\", \"lat\": [40.42802], \"legendgroup\": \"S 25th St & E Carson St\", \"lon\": [-79.969799], \"marker\": {\"color\": \"#19d3f3\", \"size\": [19], \"sizemode\": \"area\", \"sizeref\": 0.13777777777777778}, \"mode\": \"markers\", \"name\": \"S 25th St & E Carson St\", \"showlegend\": true, \"subplot\": \"mapbox\", \"type\": \"scattermapbox\"}, {\"hovertemplate\": \"Station_Name=S 22nd St & E Carson St<br>NumRacks=%{marker.size}<br>Latitude=%{lat}<br>Longitude=%{lon}<extra></extra>\", \"lat\": [40.428576], \"legendgroup\": \"S 22nd St & E Carson St\", \"lon\": [-79.974559], \"marker\": {\"color\": \"#FF6692\", \"size\": [19], \"sizemode\": \"area\", \"sizeref\": 0.13777777777777778}, \"mode\": \"markers\", \"name\": \"S 22nd St & E Carson St\", \"showlegend\": true, \"subplot\": \"mapbox\", \"type\": \"scattermapbox\"}, {\"hovertemplate\": \"Station_Name=S 18th St & Sidney St<br>NumRacks=%{marker.size}<br>Latitude=%{lat}<br>Longitude=%{lon}<extra></extra>\", \"lat\": [40.429338], \"legendgroup\": \"S 18th St & Sidney St\", \"lon\": [-79.980684], \"marker\": {\"color\": \"#B6E880\", \"size\": [16], \"sizemode\": \"area\", \"sizeref\": 0.13777777777777778}, \"mode\": \"markers\", \"name\": \"S 18th St & Sidney St\", \"showlegend\": true, \"subplot\": \"mapbox\", \"type\": \"scattermapbox\"}, {\"hovertemplate\": \"Station_Name=S 12th St & E Carson St<br>NumRacks=%{marker.size}<br>Latitude=%{lat}<br>Longitude=%{lon}<extra></extra>\", \"lat\": [40.428661], \"legendgroup\": \"S 12th St & E Carson St\", \"lon\": [-79.986358], \"marker\": {\"color\": \"#FF97FF\", \"size\": [19], \"sizemode\": \"area\", \"sizeref\": 0.13777777777777778}, \"mode\": \"markers\", \"name\": \"S 12th St & E Carson St\", \"showlegend\": true, \"subplot\": \"mapbox\", \"type\": \"scattermapbox\"}, {\"hovertemplate\": \"Station_Name=McNulty Dr & Forbes Ave<br>NumRacks=%{marker.size}<br>Latitude=%{lat}<br>Longitude=%{lon}<extra></extra>\", \"lat\": [40.4377657], \"legendgroup\": \"McNulty Dr & Forbes Ave\", \"lon\": [-79.9906531], \"marker\": {\"color\": \"#FECB52\", \"size\": [6], \"sizemode\": \"area\", \"sizeref\": 0.13777777777777778}, \"mode\": \"markers\", \"name\": \"McNulty Dr & Forbes Ave\", \"showlegend\": true, \"subplot\": \"mapbox\", \"type\": \"scattermapbox\"}, {\"hovertemplate\": \"Station_Name=Hamilton Ave & Zodiac Way<br>NumRacks=%{marker.size}<br>Latitude=%{lat}<br>Longitude=%{lon}<extra></extra>\", \"lat\": [40.45803], \"legendgroup\": \"Hamilton Ave & Zodiac Way\", \"lon\": [-79.9112], \"marker\": {\"color\": \"#636efa\", \"size\": [5], \"sizemode\": \"area\", \"sizeref\": 0.13777777777777778}, \"mode\": \"markers\", \"name\": \"Hamilton Ave & Zodiac Way\", \"showlegend\": true, \"subplot\": \"mapbox\", \"type\": \"scattermapbox\"}, {\"hovertemplate\": \"Station_Name=Smithfield St & Fourth Ave<br>NumRacks=%{marker.size}<br>Latitude=%{lat}<br>Longitude=%{lon}<extra></extra>\", \"lat\": [40.43866], \"legendgroup\": \"Smithfield St & Fourth Ave\", \"lon\": [-79.9997], \"marker\": {\"color\": \"#EF553B\", \"size\": [6], \"sizemode\": \"area\", \"sizeref\": 0.13777777777777778}, \"mode\": \"markers\", \"name\": \"Smithfield St & Fourth Ave\", \"showlegend\": true, \"subplot\": \"mapbox\", \"type\": \"scattermapbox\"}, {\"hovertemplate\": \"Station_Name=Wood St & Sixth Ave<br>NumRacks=%{marker.size}<br>Latitude=%{lat}<br>Longitude=%{lon}<extra></extra>\", \"lat\": [40.44197], \"legendgroup\": \"Wood St & Sixth Ave\", \"lon\": [-79.9997], \"marker\": {\"color\": \"#00cc96\", \"size\": [7], \"sizemode\": \"area\", \"sizeref\": 0.13777777777777778}, \"mode\": \"markers\", \"name\": \"Wood St & Sixth Ave\", \"showlegend\": true, \"subplot\": \"mapbox\", \"type\": \"scattermapbox\"}, {\"hovertemplate\": \"Station_Name=Burns White Centre at 3 Crossings<br>NumRacks=%{marker.size}<br>Latitude=%{lat}<br>Longitude=%{lon}<extra></extra>\", \"lat\": [40.45632767], \"legendgroup\": \"Burns White Centre at 3 Crossings\", \"lon\": [-79.98021126], \"marker\": {\"color\": \"#ab63fa\", \"size\": [12], \"sizemode\": \"area\", \"sizeref\": 0.13777777777777778}, \"mode\": \"markers\", \"name\": \"Burns White Centre at 3 Crossings\", \"showlegend\": true, \"subplot\": \"mapbox\", \"type\": \"scattermapbox\"}, {\"hovertemplate\": \"Station_Name=Penn Ave and 29th St<br>NumRacks=%{marker.size}<br>Latitude=%{lat}<br>Longitude=%{lon}<extra></extra>\", \"lat\": [40.45814812], \"legendgroup\": \"Penn Ave and 29th St\", \"lon\": [-79.97383833], \"marker\": {\"color\": \"#FFA15A\", \"size\": [8], \"sizemode\": \"area\", \"sizeref\": 0.13777777777777778}, \"mode\": \"markers\", \"name\": \"Penn Ave and 29th St\", \"showlegend\": true, \"subplot\": \"mapbox\", \"type\": \"scattermapbox\"}, {\"hovertemplate\": \"Station_Name=33rd St and Penn Ave<br>NumRacks=%{marker.size}<br>Latitude=%{lat}<br>Longitude=%{lon}<extra></extra>\", \"lat\": [40.4620256], \"legendgroup\": \"33rd St and Penn Ave\", \"lon\": [-79.9681145], \"marker\": {\"color\": \"#19d3f3\", \"size\": [6], \"sizemode\": \"area\", \"sizeref\": 0.13777777777777778}, \"mode\": \"markers\", \"name\": \"33rd St and Penn Ave\", \"showlegend\": true, \"subplot\": \"mapbox\", \"type\": \"scattermapbox\"}, {\"hovertemplate\": \"Station_Name=S Winebiddle St & Penn Ave<br>NumRacks=%{marker.size}<br>Latitude=%{lat}<br>Longitude=%{lon}<extra></extra>\", \"lat\": [40.46473563], \"legendgroup\": \"S Winebiddle St & Penn Ave\", \"lon\": [-79.94282663], \"marker\": {\"color\": \"#FF6692\", \"size\": [5], \"sizemode\": \"area\", \"sizeref\": 0.13777777777777778}, \"mode\": \"markers\", \"name\": \"S Winebiddle St & Penn Ave\", \"showlegend\": true, \"subplot\": \"mapbox\", \"type\": \"scattermapbox\"}, {\"hovertemplate\": \"Station_Name=Penn Ave & N Atlantic Ave<br>NumRacks=%{marker.size}<br>Latitude=%{lat}<br>Longitude=%{lon}<extra></extra>\", \"lat\": [40.46460503], \"legendgroup\": \"Penn Ave & N Atlantic Ave\", \"lon\": [-79.9387604], \"marker\": {\"color\": \"#B6E880\", \"size\": [5], \"sizemode\": \"area\", \"sizeref\": 0.13777777777777778}, \"mode\": \"markers\", \"name\": \"Penn Ave & N Atlantic Ave\", \"showlegend\": true, \"subplot\": \"mapbox\", \"type\": \"scattermapbox\"}, {\"hovertemplate\": \"Station_Name=Frankstown Ave & E Liberty Blvd<br>NumRacks=%{marker.size}<br>Latitude=%{lat}<br>Longitude=%{lon}<extra></extra>\", \"lat\": [40.46089095], \"legendgroup\": \"Frankstown Ave & E Liberty Blvd\", \"lon\": [-79.91583824], \"marker\": {\"color\": \"#FF97FF\", \"size\": [6], \"sizemode\": \"area\", \"sizeref\": 0.13777777777777778}, \"mode\": \"markers\", \"name\": \"Frankstown Ave & E Liberty Blvd\", \"showlegend\": true, \"subplot\": \"mapbox\", \"type\": \"scattermapbox\"}, {\"hovertemplate\": \"Station_Name=N Homewood Ave & Finance St (Homewood Station)<br>NumRacks=%{marker.size}<br>Latitude=%{lat}<br>Longitude=%{lon}<extra></extra>\", \"lat\": [40.45304583], \"legendgroup\": \"N Homewood Ave & Finance St (Homewood Station)\", \"lon\": [-79.89847898], \"marker\": {\"color\": \"#FECB52\", \"size\": [8], \"sizemode\": \"area\", \"sizeref\": 0.13777777777777778}, \"mode\": \"markers\", \"name\": \"N Homewood Ave & Finance St (Homewood Station)\", \"showlegend\": true, \"subplot\": \"mapbox\", \"type\": \"scattermapbox\"}, {\"hovertemplate\": \"Station_Name=Forbes Ave & Murray Ave<br>NumRacks=%{marker.size}<br>Latitude=%{lat}<br>Longitude=%{lon}<extra></extra>\", \"lat\": [40.4380532], \"legendgroup\": \"Forbes Ave & Murray Ave\", \"lon\": [-79.9229474], \"marker\": {\"color\": \"#636efa\", \"size\": [5], \"sizemode\": \"area\", \"sizeref\": 0.13777777777777778}, \"mode\": \"markers\", \"name\": \"Forbes Ave & Murray Ave\", \"showlegend\": true, \"subplot\": \"mapbox\", \"type\": \"scattermapbox\"}, {\"hovertemplate\": \"Station_Name=Beacon St & Murray Ave<br>NumRacks=%{marker.size}<br>Latitude=%{lat}<br>Longitude=%{lon}<extra></extra>\", \"lat\": [40.43531949], \"legendgroup\": \"Beacon St & Murray Ave\", \"lon\": [-79.92288709], \"marker\": {\"color\": \"#EF553B\", \"size\": [6], \"sizemode\": \"area\", \"sizeref\": 0.13777777777777778}, \"mode\": \"markers\", \"name\": \"Beacon St & Murray Ave\", \"showlegend\": true, \"subplot\": \"mapbox\", \"type\": \"scattermapbox\"}, {\"hovertemplate\": \"Station_Name=Hobart St & Wightman St<br>NumRacks=%{marker.size}<br>Latitude=%{lat}<br>Longitude=%{lon}<extra></extra>\", \"lat\": [40.43251029], \"legendgroup\": \"Hobart St & Wightman St\", \"lon\": [-79.92733955], \"marker\": {\"color\": \"#00cc96\", \"size\": [5], \"sizemode\": \"area\", \"sizeref\": 0.13777777777777778}, \"mode\": \"markers\", \"name\": \"Hobart St & Wightman St\", \"showlegend\": true, \"subplot\": \"mapbox\", \"type\": \"scattermapbox\"}, {\"hovertemplate\": \"Station_Name=Glasshouse<br>NumRacks=%{marker.size}<br>Latitude=%{lat}<br>Longitude=%{lon}<extra></extra>\", \"lat\": [40.43268995], \"legendgroup\": \"Glasshouse\", \"lon\": [-80.00302076], \"marker\": {\"color\": \"#ab63fa\", \"size\": [10], \"sizemode\": \"area\", \"sizeref\": 0.13777777777777778}, \"mode\": \"markers\", \"name\": \"Glasshouse\", \"showlegend\": true, \"subplot\": \"mapbox\", \"type\": \"scattermapbox\"}, {\"hovertemplate\": \"Station_Name=South Side Trail & S 4th St<br>NumRacks=%{marker.size}<br>Latitude=%{lat}<br>Longitude=%{lon}<extra></extra>\", \"lat\": [40.43128939], \"legendgroup\": \"South Side Trail & S 4th St\", \"lon\": [-79.99526918], \"marker\": {\"color\": \"#FFA15A\", \"size\": [5], \"sizemode\": \"area\", \"sizeref\": 0.13777777777777778}, \"mode\": \"markers\", \"name\": \"South Side Trail & S 4th St\", \"showlegend\": true, \"subplot\": \"mapbox\", \"type\": \"scattermapbox\"}, {\"hovertemplate\": \"Station_Name=Hot Metal St & Tunnel Blvd<br>NumRacks=%{marker.size}<br>Latitude=%{lat}<br>Longitude=%{lon}<extra></extra>\", \"lat\": [40.42708753], \"legendgroup\": \"Hot Metal St & Tunnel Blvd\", \"lon\": [-79.96279836], \"marker\": {\"color\": \"#19d3f3\", \"size\": [13], \"sizemode\": \"area\", \"sizeref\": 0.13777777777777778}, \"mode\": \"markers\", \"name\": \"Hot Metal St & Tunnel Blvd\", \"showlegend\": true, \"subplot\": \"mapbox\", \"type\": \"scattermapbox\"}, {\"hovertemplate\": \"Station_Name=Frazier St & Dawson St<br>NumRacks=%{marker.size}<br>Latitude=%{lat}<br>Longitude=%{lon}<extra></extra>\", \"lat\": [40.42968463], \"legendgroup\": \"Frazier St & Dawson St\", \"lon\": [-79.95414019], \"marker\": {\"color\": \"#FF6692\", \"size\": [5], \"sizemode\": \"area\", \"sizeref\": 0.13777777777777778}, \"mode\": \"markers\", \"name\": \"Frazier St & Dawson St\", \"showlegend\": true, \"subplot\": \"mapbox\", \"type\": \"scattermapbox\"}, {\"hovertemplate\": \"Station_Name=Semple St & Louisa St<br>NumRacks=%{marker.size}<br>Latitude=%{lat}<br>Longitude=%{lon}<extra></extra>\", \"lat\": [40.43874918], \"legendgroup\": \"Semple St & Louisa St\", \"lon\": [-79.95703161], \"marker\": {\"color\": \"#B6E880\", \"size\": [5], \"sizemode\": \"area\", \"sizeref\": 0.13777777777777778}, \"mode\": \"markers\", \"name\": \"Semple St & Louisa St\", \"showlegend\": true, \"subplot\": \"mapbox\", \"type\": \"scattermapbox\"}, {\"hovertemplate\": \"Station_Name=S Bouquet Ave & Sennott St<br>NumRacks=%{marker.size}<br>Latitude=%{lat}<br>Longitude=%{lon}<extra></extra>\", \"lat\": [40.44136216], \"legendgroup\": \"S Bouquet Ave & Sennott St\", \"lon\": [-79.95555639], \"marker\": {\"color\": \"#FF97FF\", \"size\": [6], \"sizemode\": \"area\", \"sizeref\": 0.13777777777777778}, \"mode\": \"markers\", \"name\": \"S Bouquet Ave & Sennott St\", \"showlegend\": true, \"subplot\": \"mapbox\", \"type\": \"scattermapbox\"}, {\"hovertemplate\": \"Station_Name=O'Hara St & Desoto St<br>NumRacks=%{marker.size}<br>Latitude=%{lat}<br>Longitude=%{lon}<extra></extra>\", \"lat\": [40.44324426], \"legendgroup\": \"O'Hara St & Desoto St\", \"lon\": [-79.95984256], \"marker\": {\"color\": \"#FECB52\", \"size\": [5], \"sizemode\": \"area\", \"sizeref\": 0.13777777777777778}, \"mode\": \"markers\", \"name\": \"O'Hara St & Desoto St\", \"showlegend\": true, \"subplot\": \"mapbox\", \"type\": \"scattermapbox\"}, {\"hovertemplate\": \"Station_Name=Schenley Dr & Forbes Ave (Schenley Plaza)<br>NumRacks=%{marker.size}<br>Latitude=%{lat}<br>Longitude=%{lon}<extra></extra>\", \"lat\": [40.44301971], \"legendgroup\": \"Schenley Dr & Forbes Ave (Schenley Plaza)\", \"lon\": [-79.95331407], \"marker\": {\"color\": \"#636efa\", \"size\": [7], \"sizemode\": \"area\", \"sizeref\": 0.13777777777777778}, \"mode\": \"markers\", \"name\": \"Schenley Dr & Forbes Ave (Schenley Plaza)\", \"showlegend\": true, \"subplot\": \"mapbox\", \"type\": \"scattermapbox\"}, {\"hovertemplate\": \"Station_Name=Tennyson Ave & Fifth Ave<br>NumRacks=%{marker.size}<br>Latitude=%{lat}<br>Longitude=%{lon}<extra></extra>\", \"lat\": [40.44564886], \"legendgroup\": \"Tennyson Ave & Fifth Ave\", \"lon\": [-79.95327652], \"marker\": {\"color\": \"#EF553B\", \"size\": [6], \"sizemode\": \"area\", \"sizeref\": 0.13777777777777778}, \"mode\": \"markers\", \"name\": \"Tennyson Ave & Fifth Ave\", \"showlegend\": true, \"subplot\": \"mapbox\", \"type\": \"scattermapbox\"}, {\"hovertemplate\": \"Station_Name=Forbes Ave & S Craig St<br>NumRacks=%{marker.size}<br>Latitude=%{lat}<br>Longitude=%{lon}<extra></extra>\", \"lat\": [40.44424448], \"legendgroup\": \"Forbes Ave & S Craig St\", \"lon\": [-79.94895279], \"marker\": {\"color\": \"#00cc96\", \"size\": [5], \"sizemode\": \"area\", \"sizeref\": 0.13777777777777778}, \"mode\": \"markers\", \"name\": \"Forbes Ave & S Craig St\", \"showlegend\": true, \"subplot\": \"mapbox\", \"type\": \"scattermapbox\"}, {\"hovertemplate\": \"Station_Name=Schenley Dr & Forbes Ave (Squirrel Hill)<br>NumRacks=%{marker.size}<br>Latitude=%{lat}<br>Longitude=%{lon}<extra></extra>\", \"lat\": [40.43775296], \"legendgroup\": \"Schenley Dr & Forbes Ave (Squirrel Hill)\", \"lon\": [-79.93363738], \"marker\": {\"color\": \"#ab63fa\", \"size\": [6], \"sizemode\": \"area\", \"sizeref\": 0.13777777777777778}, \"mode\": \"markers\", \"name\": \"Schenley Dr & Forbes Ave (Squirrel Hill)\", \"showlegend\": true, \"subplot\": \"mapbox\", \"type\": \"scattermapbox\"}, {\"hovertemplate\": \"Station_Name=Wightman St & Forbes Ave<br>NumRacks=%{marker.size}<br>Latitude=%{lat}<br>Longitude=%{lon}<extra></extra>\", \"lat\": [40.43791627], \"legendgroup\": \"Wightman St & Forbes Ave\", \"lon\": [-79.92781162], \"marker\": {\"color\": \"#FFA15A\", \"size\": [5], \"sizemode\": \"area\", \"sizeref\": 0.13777777777777778}, \"mode\": \"markers\", \"name\": \"Wightman St & Forbes Ave\", \"showlegend\": true, \"subplot\": \"mapbox\", \"type\": \"scattermapbox\"}, {\"hovertemplate\": \"Station_Name=S Craig St & 5th Ave<br>NumRacks=%{marker.size}<br>Latitude=%{lat}<br>Longitude=%{lon}<extra></extra>\", \"lat\": [40.446739], \"legendgroup\": \"S Craig St & 5th Ave\", \"lon\": [-79.94893], \"marker\": {\"color\": \"#19d3f3\", \"size\": [6], \"sizemode\": \"area\", \"sizeref\": 0.13777777777777778}, \"mode\": \"markers\", \"name\": \"S Craig St & 5th Ave\", \"showlegend\": true, \"subplot\": \"mapbox\", \"type\": \"scattermapbox\"}, {\"hovertemplate\": \"Station_Name=Centre Ave & N Craig St<br>NumRacks=%{marker.size}<br>Latitude=%{lat}<br>Longitude=%{lon}<extra></extra>\", \"lat\": [40.45186204], \"legendgroup\": \"Centre Ave & N Craig St\", \"lon\": [-79.95173693], \"marker\": {\"color\": \"#FF6692\", \"size\": [6], \"sizemode\": \"area\", \"sizeref\": 0.13777777777777778}, \"mode\": \"markers\", \"name\": \"Centre Ave & N Craig St\", \"showlegend\": true, \"subplot\": \"mapbox\", \"type\": \"scattermapbox\"}, {\"hovertemplate\": \"Station_Name=Hamilton Ave & N Dallas Ave<br>NumRacks=%{marker.size}<br>Latitude=%{lat}<br>Longitude=%{lon}<extra></extra>\", \"lat\": [40.45623787], \"legendgroup\": \"Hamilton Ave & N Dallas Ave\", \"lon\": [-79.90505576], \"marker\": {\"color\": \"#B6E880\", \"size\": [6], \"sizemode\": \"area\", \"sizeref\": 0.13777777777777778}, \"mode\": \"markers\", \"name\": \"Hamilton Ave & N Dallas Ave\", \"showlegend\": true, \"subplot\": \"mapbox\", \"type\": \"scattermapbox\"}, {\"hovertemplate\": \"Station_Name=Bennett St & Eccrue Way<br>NumRacks=%{marker.size}<br>Latitude=%{lat}<br>Longitude=%{lon}<extra></extra>\", \"lat\": [40.45668686], \"legendgroup\": \"Bennett St & Eccrue Way\", \"lon\": [-79.89813566], \"marker\": {\"color\": \"#FF97FF\", \"size\": [7], \"sizemode\": \"area\", \"sizeref\": 0.13777777777777778}, \"mode\": \"markers\", \"name\": \"Bennett St & Eccrue Way\", \"showlegend\": true, \"subplot\": \"mapbox\", \"type\": \"scattermapbox\"}, {\"hovertemplate\": \"Station_Name=E Liberty Blvd & Larimer Ave<br>NumRacks=%{marker.size}<br>Latitude=%{lat}<br>Longitude=%{lon}<extra></extra>\", \"lat\": [40.46361735], \"legendgroup\": \"E Liberty Blvd & Larimer Ave\", \"lon\": [-79.91746902], \"marker\": {\"color\": \"#FECB52\", \"size\": [6], \"sizemode\": \"area\", \"sizeref\": 0.13777777777777778}, \"mode\": \"markers\", \"name\": \"E Liberty Blvd & Larimer Ave\", \"showlegend\": true, \"subplot\": \"mapbox\", \"type\": \"scattermapbox\"}, {\"hovertemplate\": \"Station_Name=E Liberty Blvd & Negley Ave<br>NumRacks=%{marker.size}<br>Latitude=%{lat}<br>Longitude=%{lon}<extra></extra>\", \"lat\": [40.467715000000005], \"legendgroup\": \"E Liberty Blvd & Negley Ave\", \"lon\": [-79.92787], \"marker\": {\"color\": \"#636efa\", \"size\": [5], \"sizemode\": \"area\", \"sizeref\": 0.13777777777777778}, \"mode\": \"markers\", \"name\": \"E Liberty Blvd & Negley Ave\", \"showlegend\": true, \"subplot\": \"mapbox\", \"type\": \"scattermapbox\"}, {\"hovertemplate\": \"Station_Name=Stanton Ave & N Negley Ave<br>NumRacks=%{marker.size}<br>Latitude=%{lat}<br>Longitude=%{lon}<extra></extra>\", \"lat\": [40.47122337], \"legendgroup\": \"Stanton Ave & N Negley Ave\", \"lon\": [-79.92560189], \"marker\": {\"color\": \"#EF553B\", \"size\": [6], \"sizemode\": \"area\", \"sizeref\": 0.13777777777777778}, \"mode\": \"markers\", \"name\": \"Stanton Ave & N Negley Ave\", \"showlegend\": true, \"subplot\": \"mapbox\", \"type\": \"scattermapbox\"}, {\"hovertemplate\": \"Station_Name=Roup Ave & Friendship Ave<br>NumRacks=%{marker.size}<br>Latitude=%{lat}<br>Longitude=%{lon}<extra></extra>\", \"lat\": [40.46150726], \"legendgroup\": \"Roup Ave & Friendship Ave\", \"lon\": [-79.93510187], \"marker\": {\"color\": \"#00cc96\", \"size\": [5], \"sizemode\": \"area\", \"sizeref\": 0.13777777777777778}, \"mode\": \"markers\", \"name\": \"Roup Ave & Friendship Ave\", \"showlegend\": true, \"subplot\": \"mapbox\", \"type\": \"scattermapbox\"}, {\"hovertemplate\": \"Station_Name=Penn Ave & 39th St<br>NumRacks=%{marker.size}<br>Latitude=%{lat}<br>Longitude=%{lon}<extra></extra>\", \"lat\": [40.46490704], \"legendgroup\": \"Penn Ave & 39th St\", \"lon\": [-79.96008396], \"marker\": {\"color\": \"#ab63fa\", \"size\": [6], \"sizemode\": \"area\", \"sizeref\": 0.13777777777777778}, \"mode\": \"markers\", \"name\": \"Penn Ave & 39th St\", \"showlegend\": true, \"subplot\": \"mapbox\", \"type\": \"scattermapbox\"}, {\"hovertemplate\": \"Station_Name=Butler St & 48th St<br>NumRacks=%{marker.size}<br>Latitude=%{lat}<br>Longitude=%{lon}<extra></extra>\", \"lat\": [40.47603982], \"legendgroup\": \"Butler St & 48th St\", \"lon\": [-79.95763779], \"marker\": {\"color\": \"#FFA15A\", \"size\": [6], \"sizemode\": \"area\", \"sizeref\": 0.13777777777777778}, \"mode\": \"markers\", \"name\": \"Butler St & 48th St\", \"showlegend\": true, \"subplot\": \"mapbox\", \"type\": \"scattermapbox\"}, {\"hovertemplate\": \"Station_Name=Liberty Ave & 37th St<br>NumRacks=%{marker.size}<br>Latitude=%{lat}<br>Longitude=%{lon}<extra></extra>\", \"lat\": [40.462184], \"legendgroup\": \"Liberty Ave & 37th St\", \"lon\": [-79.96162], \"marker\": {\"color\": \"#19d3f3\", \"size\": [6], \"sizemode\": \"area\", \"sizeref\": 0.13777777777777778}, \"mode\": \"markers\", \"name\": \"Liberty Ave & 37th St\", \"showlegend\": true, \"subplot\": \"mapbox\", \"type\": \"scattermapbox\"}, {\"hovertemplate\": \"Station_Name=Smallman St & 31st St<br>NumRacks=%{marker.size}<br>Latitude=%{lat}<br>Longitude=%{lon}<extra></extra>\", \"lat\": [40.46011138], \"legendgroup\": \"Smallman St & 31st St\", \"lon\": [-79.97276008], \"marker\": {\"color\": \"#FF6692\", \"size\": [6], \"sizemode\": \"area\", \"sizeref\": 0.13777777777777778}, \"mode\": \"markers\", \"name\": \"Smallman St & 31st St\", \"showlegend\": true, \"subplot\": \"mapbox\", \"type\": \"scattermapbox\"}, {\"hovertemplate\": \"Station_Name=24th St & Smallman St<br>NumRacks=%{marker.size}<br>Latitude=%{lat}<br>Longitude=%{lon}<extra></extra>\", \"lat\": [40.45400101], \"legendgroup\": \"24th St & Smallman St\", \"lon\": [-79.98171329], \"marker\": {\"color\": \"#B6E880\", \"size\": [6], \"sizemode\": \"area\", \"sizeref\": 0.13777777777777778}, \"mode\": \"markers\", \"name\": \"24th St & Smallman St\", \"showlegend\": true, \"subplot\": \"mapbox\", \"type\": \"scattermapbox\"}, {\"hovertemplate\": \"Station_Name=14th St & Penn Ave<br>NumRacks=%{marker.size}<br>Latitude=%{lat}<br>Longitude=%{lon}<extra></extra>\", \"lat\": [40.447208], \"legendgroup\": \"14th St & Penn Ave\", \"lon\": [-79.989725], \"marker\": {\"color\": \"#FF97FF\", \"size\": [6], \"sizemode\": \"area\", \"sizeref\": 0.13777777777777778}, \"mode\": \"markers\", \"name\": \"14th St & Penn Ave\", \"showlegend\": true, \"subplot\": \"mapbox\", \"type\": \"scattermapbox\"}, {\"hovertemplate\": \"Station_Name=11th St & Penn Ave<br>NumRacks=%{marker.size}<br>Latitude=%{lat}<br>Longitude=%{lon}<extra></extra>\", \"lat\": [40.44475071], \"legendgroup\": \"11th St & Penn Ave\", \"lon\": [-79.99391198], \"marker\": {\"color\": \"#FECB52\", \"size\": [6], \"sizemode\": \"area\", \"sizeref\": 0.13777777777777778}, \"mode\": \"markers\", \"name\": \"11th St & Penn Ave\", \"showlegend\": true, \"subplot\": \"mapbox\", \"type\": \"scattermapbox\"}, {\"hovertemplate\": \"Station_Name=Grant St & Strawberry Way<br>NumRacks=%{marker.size}<br>Latitude=%{lat}<br>Longitude=%{lon}<extra></extra>\", \"lat\": [40.44170511], \"legendgroup\": \"Grant St & Strawberry Way\", \"lon\": [-79.99510288], \"marker\": {\"color\": \"#636efa\", \"size\": [7], \"sizemode\": \"area\", \"sizeref\": 0.13777777777777778}, \"mode\": \"markers\", \"name\": \"Grant St & Strawberry Way\", \"showlegend\": true, \"subplot\": \"mapbox\", \"type\": \"scattermapbox\"}, {\"hovertemplate\": \"Station_Name=9th St & Penn Ave<br>NumRacks=%{marker.size}<br>Latitude=%{lat}<br>Longitude=%{lon}<extra></extra>\", \"lat\": [40.44353412], \"legendgroup\": \"9th St & Penn Ave\", \"lon\": [-79.99839664], \"marker\": {\"color\": \"#EF553B\", \"size\": [5], \"sizemode\": \"area\", \"sizeref\": 0.13777777777777778}, \"mode\": \"markers\", \"name\": \"9th St & Penn Ave\", \"showlegend\": true, \"subplot\": \"mapbox\", \"type\": \"scattermapbox\"}, {\"hovertemplate\": \"Station_Name=Liberty Ave & 6th St<br>NumRacks=%{marker.size}<br>Latitude=%{lat}<br>Longitude=%{lon}<extra></extra>\", \"lat\": [40.44193373], \"legendgroup\": \"Liberty Ave & 6th St\", \"lon\": [-80.00207126], \"marker\": {\"color\": \"#00cc96\", \"size\": [6], \"sizemode\": \"area\", \"sizeref\": 0.13777777777777778}, \"mode\": \"markers\", \"name\": \"Liberty Ave & 6th St\", \"showlegend\": true, \"subplot\": \"mapbox\", \"type\": \"scattermapbox\"}, {\"hovertemplate\": \"Station_Name=Third Ave & Stanwix St<br>NumRacks=%{marker.size}<br>Latitude=%{lat}<br>Longitude=%{lon}<extra></extra>\", \"lat\": [40.44001486], \"legendgroup\": \"Third Ave & Stanwix St\", \"lon\": [-80.00447989], \"marker\": {\"color\": \"#ab63fa\", \"size\": [5], \"sizemode\": \"area\", \"sizeref\": 0.13777777777777778}, \"mode\": \"markers\", \"name\": \"Third Ave & Stanwix St\", \"showlegend\": true, \"subplot\": \"mapbox\", \"type\": \"scattermapbox\"}, {\"hovertemplate\": \"Station_Name=Ross St & Fourth Ave<br>NumRacks=%{marker.size}<br>Latitude=%{lat}<br>Longitude=%{lon}<extra></extra>\", \"lat\": [40.43766313], \"legendgroup\": \"Ross St & Fourth Ave\", \"lon\": [-79.99629378], \"marker\": {\"color\": \"#FFA15A\", \"size\": [7], \"sizemode\": \"area\", \"sizeref\": 0.13777777777777778}, \"mode\": \"markers\", \"name\": \"Ross St & Fourth Ave\", \"showlegend\": true, \"subplot\": \"mapbox\", \"type\": \"scattermapbox\"}, {\"hovertemplate\": \"Station_Name=Fifth Ave & Miltenberger<br>NumRacks=%{marker.size}<br>Latitude=%{lat}<br>Longitude=%{lon}<extra></extra>\", \"lat\": [40.43829598], \"legendgroup\": \"Fifth Ave & Miltenberger\", \"lon\": [-79.98117685], \"marker\": {\"color\": \"#19d3f3\", \"size\": [6], \"sizemode\": \"area\", \"sizeref\": 0.13777777777777778}, \"mode\": \"markers\", \"name\": \"Fifth Ave & Miltenberger\", \"showlegend\": true, \"subplot\": \"mapbox\", \"type\": \"scattermapbox\"}, {\"hovertemplate\": \"Station_Name=Microsoft<br>NumRacks=%{marker.size}<br>Latitude=%{lat}<br>Longitude=%{lon}<extra></extra>\", \"lat\": [40.45379691], \"legendgroup\": \"Microsoft\", \"lon\": [-79.99094009], \"marker\": {\"color\": \"#FF6692\", \"size\": [6], \"sizemode\": \"area\", \"sizeref\": 0.13777777777777778}, \"mode\": \"markers\", \"name\": \"Microsoft\", \"showlegend\": true, \"subplot\": \"mapbox\", \"type\": \"scattermapbox\"}, {\"hovertemplate\": \"Station_Name=Arch St & Jacksonia St<br>NumRacks=%{marker.size}<br>Latitude=%{lat}<br>Longitude=%{lon}<extra></extra>\", \"lat\": [40.45777261], \"legendgroup\": \"Arch St & Jacksonia St\", \"lon\": [-80.00945807], \"marker\": {\"color\": \"#B6E880\", \"size\": [5], \"sizemode\": \"area\", \"sizeref\": 0.13777777777777778}, \"mode\": \"markers\", \"name\": \"Arch St & Jacksonia St\", \"showlegend\": true, \"subplot\": \"mapbox\", \"type\": \"scattermapbox\"}, {\"hovertemplate\": \"Station_Name=W General Robinson St & Chuck Noll Way<br>NumRacks=%{marker.size}<br>Latitude=%{lat}<br>Longitude=%{lon}<extra></extra>\", \"lat\": [40.44741245], \"legendgroup\": \"W General Robinson St & Chuck Noll Way\", \"lon\": [-80.01206517], \"marker\": {\"color\": \"#FF97FF\", \"size\": [5], \"sizemode\": \"area\", \"sizeref\": 0.13777777777777778}, \"mode\": \"markers\", \"name\": \"W General Robinson St & Chuck Noll Way\", \"showlegend\": true, \"subplot\": \"mapbox\", \"type\": \"scattermapbox\"}, {\"hovertemplate\": \"Station_Name=Butler St & 36th St<br>NumRacks=%{marker.size}<br>Latitude=%{lat}<br>Longitude=%{lon}<extra></extra>\", \"lat\": [40.46529884], \"legendgroup\": \"Butler St & 36th St\", \"lon\": [-79.96527672], \"marker\": {\"color\": \"#FECB52\", \"size\": [6], \"sizemode\": \"area\", \"sizeref\": 0.13777777777777778}, \"mode\": \"markers\", \"name\": \"Butler St & 36th St\", \"showlegend\": true, \"subplot\": \"mapbox\", \"type\": \"scattermapbox\"}],                        {\"legend\": {\"itemsizing\": \"constant\", \"title\": {\"text\": \"Station_Name\"}, \"tracegroupgap\": 0}, \"mapbox\": {\"center\": {\"lat\": 40.4482108569, \"lon\": -79.96373512509999}, \"domain\": {\"x\": [0.0, 1.0], \"y\": [0.0, 1.0]}, \"style\": \"carto-positron\", \"zoom\": 10}, \"margin\": {\"t\": 60}, \"template\": {\"data\": {\"bar\": [{\"error_x\": {\"color\": \"#2a3f5f\"}, \"error_y\": {\"color\": \"#2a3f5f\"}, \"marker\": {\"line\": {\"color\": \"#E5ECF6\", \"width\": 0.5}}, \"type\": \"bar\"}], \"barpolar\": [{\"marker\": {\"line\": {\"color\": \"#E5ECF6\", \"width\": 0.5}}, \"type\": \"barpolar\"}], \"carpet\": [{\"aaxis\": {\"endlinecolor\": \"#2a3f5f\", \"gridcolor\": \"white\", \"linecolor\": \"white\", \"minorgridcolor\": \"white\", \"startlinecolor\": \"#2a3f5f\"}, \"baxis\": {\"endlinecolor\": \"#2a3f5f\", \"gridcolor\": \"white\", \"linecolor\": \"white\", \"minorgridcolor\": \"white\", \"startlinecolor\": \"#2a3f5f\"}, \"type\": \"carpet\"}], \"choropleth\": [{\"colorbar\": {\"outlinewidth\": 0, \"ticks\": \"\"}, \"type\": \"choropleth\"}], \"contour\": [{\"colorbar\": {\"outlinewidth\": 0, \"ticks\": \"\"}, \"colorscale\": [[0.0, \"#0d0887\"], [0.1111111111111111, \"#46039f\"], [0.2222222222222222, \"#7201a8\"], [0.3333333333333333, \"#9c179e\"], [0.4444444444444444, \"#bd3786\"], [0.5555555555555556, \"#d8576b\"], [0.6666666666666666, \"#ed7953\"], [0.7777777777777778, \"#fb9f3a\"], [0.8888888888888888, \"#fdca26\"], [1.0, \"#f0f921\"]], \"type\": \"contour\"}], \"contourcarpet\": [{\"colorbar\": {\"outlinewidth\": 0, \"ticks\": \"\"}, \"type\": \"contourcarpet\"}], \"heatmap\": [{\"colorbar\": {\"outlinewidth\": 0, \"ticks\": \"\"}, \"colorscale\": [[0.0, \"#0d0887\"], [0.1111111111111111, \"#46039f\"], [0.2222222222222222, \"#7201a8\"], [0.3333333333333333, \"#9c179e\"], [0.4444444444444444, \"#bd3786\"], [0.5555555555555556, \"#d8576b\"], [0.6666666666666666, \"#ed7953\"], [0.7777777777777778, \"#fb9f3a\"], [0.8888888888888888, \"#fdca26\"], [1.0, \"#f0f921\"]], \"type\": \"heatmap\"}], \"heatmapgl\": [{\"colorbar\": {\"outlinewidth\": 0, \"ticks\": \"\"}, \"colorscale\": [[0.0, \"#0d0887\"], [0.1111111111111111, \"#46039f\"], [0.2222222222222222, \"#7201a8\"], [0.3333333333333333, \"#9c179e\"], [0.4444444444444444, \"#bd3786\"], [0.5555555555555556, \"#d8576b\"], [0.6666666666666666, \"#ed7953\"], [0.7777777777777778, \"#fb9f3a\"], [0.8888888888888888, \"#fdca26\"], [1.0, \"#f0f921\"]], \"type\": \"heatmapgl\"}], \"histogram\": [{\"marker\": {\"colorbar\": {\"outlinewidth\": 0, \"ticks\": \"\"}}, \"type\": \"histogram\"}], \"histogram2d\": [{\"colorbar\": {\"outlinewidth\": 0, \"ticks\": \"\"}, \"colorscale\": [[0.0, \"#0d0887\"], [0.1111111111111111, \"#46039f\"], [0.2222222222222222, \"#7201a8\"], [0.3333333333333333, \"#9c179e\"], [0.4444444444444444, \"#bd3786\"], [0.5555555555555556, \"#d8576b\"], [0.6666666666666666, \"#ed7953\"], [0.7777777777777778, \"#fb9f3a\"], [0.8888888888888888, \"#fdca26\"], [1.0, \"#f0f921\"]], \"type\": \"histogram2d\"}], \"histogram2dcontour\": [{\"colorbar\": {\"outlinewidth\": 0, \"ticks\": \"\"}, \"colorscale\": [[0.0, \"#0d0887\"], [0.1111111111111111, \"#46039f\"], [0.2222222222222222, \"#7201a8\"], [0.3333333333333333, \"#9c179e\"], [0.4444444444444444, \"#bd3786\"], [0.5555555555555556, \"#d8576b\"], [0.6666666666666666, \"#ed7953\"], [0.7777777777777778, \"#fb9f3a\"], [0.8888888888888888, \"#fdca26\"], [1.0, \"#f0f921\"]], \"type\": \"histogram2dcontour\"}], \"mesh3d\": [{\"colorbar\": {\"outlinewidth\": 0, \"ticks\": \"\"}, \"type\": \"mesh3d\"}], \"parcoords\": [{\"line\": {\"colorbar\": {\"outlinewidth\": 0, \"ticks\": \"\"}}, \"type\": \"parcoords\"}], \"pie\": [{\"automargin\": true, \"type\": \"pie\"}], \"scatter\": [{\"marker\": {\"colorbar\": {\"outlinewidth\": 0, \"ticks\": \"\"}}, \"type\": \"scatter\"}], \"scatter3d\": [{\"line\": {\"colorbar\": {\"outlinewidth\": 0, \"ticks\": \"\"}}, \"marker\": {\"colorbar\": {\"outlinewidth\": 0, \"ticks\": \"\"}}, \"type\": \"scatter3d\"}], \"scattercarpet\": [{\"marker\": {\"colorbar\": {\"outlinewidth\": 0, \"ticks\": \"\"}}, \"type\": \"scattercarpet\"}], \"scattergeo\": [{\"marker\": {\"colorbar\": {\"outlinewidth\": 0, \"ticks\": \"\"}}, \"type\": \"scattergeo\"}], \"scattergl\": [{\"marker\": {\"colorbar\": {\"outlinewidth\": 0, \"ticks\": \"\"}}, \"type\": \"scattergl\"}], \"scattermapbox\": [{\"marker\": {\"colorbar\": {\"outlinewidth\": 0, \"ticks\": \"\"}}, \"type\": \"scattermapbox\"}], \"scatterpolar\": [{\"marker\": {\"colorbar\": {\"outlinewidth\": 0, \"ticks\": \"\"}}, \"type\": \"scatterpolar\"}], \"scatterpolargl\": [{\"marker\": {\"colorbar\": {\"outlinewidth\": 0, \"ticks\": \"\"}}, \"type\": \"scatterpolargl\"}], \"scatterternary\": [{\"marker\": {\"colorbar\": {\"outlinewidth\": 0, \"ticks\": \"\"}}, \"type\": \"scatterternary\"}], \"surface\": [{\"colorbar\": {\"outlinewidth\": 0, \"ticks\": \"\"}, \"colorscale\": [[0.0, \"#0d0887\"], [0.1111111111111111, \"#46039f\"], [0.2222222222222222, \"#7201a8\"], [0.3333333333333333, \"#9c179e\"], [0.4444444444444444, \"#bd3786\"], [0.5555555555555556, \"#d8576b\"], [0.6666666666666666, \"#ed7953\"], [0.7777777777777778, \"#fb9f3a\"], [0.8888888888888888, \"#fdca26\"], [1.0, \"#f0f921\"]], \"type\": \"surface\"}], \"table\": [{\"cells\": {\"fill\": {\"color\": \"#EBF0F8\"}, \"line\": {\"color\": \"white\"}}, \"header\": {\"fill\": {\"color\": \"#C8D4E3\"}, \"line\": {\"color\": \"white\"}}, \"type\": \"table\"}]}, \"layout\": {\"annotationdefaults\": {\"arrowcolor\": \"#2a3f5f\", \"arrowhead\": 0, \"arrowwidth\": 1}, \"coloraxis\": {\"colorbar\": {\"outlinewidth\": 0, \"ticks\": \"\"}}, \"colorscale\": {\"diverging\": [[0, \"#8e0152\"], [0.1, \"#c51b7d\"], [0.2, \"#de77ae\"], [0.3, \"#f1b6da\"], [0.4, \"#fde0ef\"], [0.5, \"#f7f7f7\"], [0.6, \"#e6f5d0\"], [0.7, \"#b8e186\"], [0.8, \"#7fbc41\"], [0.9, \"#4d9221\"], [1, \"#276419\"]], \"sequential\": [[0.0, \"#0d0887\"], [0.1111111111111111, \"#46039f\"], [0.2222222222222222, \"#7201a8\"], [0.3333333333333333, \"#9c179e\"], [0.4444444444444444, \"#bd3786\"], [0.5555555555555556, \"#d8576b\"], [0.6666666666666666, \"#ed7953\"], [0.7777777777777778, \"#fb9f3a\"], [0.8888888888888888, \"#fdca26\"], [1.0, \"#f0f921\"]], \"sequentialminus\": [[0.0, \"#0d0887\"], [0.1111111111111111, \"#46039f\"], [0.2222222222222222, \"#7201a8\"], [0.3333333333333333, \"#9c179e\"], [0.4444444444444444, \"#bd3786\"], [0.5555555555555556, \"#d8576b\"], [0.6666666666666666, \"#ed7953\"], [0.7777777777777778, \"#fb9f3a\"], [0.8888888888888888, \"#fdca26\"], [1.0, \"#f0f921\"]]}, \"colorway\": [\"#636efa\", \"#EF553B\", \"#00cc96\", \"#ab63fa\", \"#FFA15A\", \"#19d3f3\", \"#FF6692\", \"#B6E880\", \"#FF97FF\", \"#FECB52\"], \"font\": {\"color\": \"#2a3f5f\"}, \"geo\": {\"bgcolor\": \"white\", \"lakecolor\": \"white\", \"landcolor\": \"#E5ECF6\", \"showlakes\": true, \"showland\": true, \"subunitcolor\": \"white\"}, \"hoverlabel\": {\"align\": \"left\"}, \"hovermode\": \"closest\", \"mapbox\": {\"style\": \"light\"}, \"paper_bgcolor\": \"white\", \"plot_bgcolor\": \"#E5ECF6\", \"polar\": {\"angularaxis\": {\"gridcolor\": \"white\", \"linecolor\": \"white\", \"ticks\": \"\"}, \"bgcolor\": \"#E5ECF6\", \"radialaxis\": {\"gridcolor\": \"white\", \"linecolor\": \"white\", \"ticks\": \"\"}}, \"scene\": {\"xaxis\": {\"backgroundcolor\": \"#E5ECF6\", \"gridcolor\": \"white\", \"gridwidth\": 2, \"linecolor\": \"white\", \"showbackground\": true, \"ticks\": \"\", \"zerolinecolor\": \"white\"}, \"yaxis\": {\"backgroundcolor\": \"#E5ECF6\", \"gridcolor\": \"white\", \"gridwidth\": 2, \"linecolor\": \"white\", \"showbackground\": true, \"ticks\": \"\", \"zerolinecolor\": \"white\"}, \"zaxis\": {\"backgroundcolor\": \"#E5ECF6\", \"gridcolor\": \"white\", \"gridwidth\": 2, \"linecolor\": \"white\", \"showbackground\": true, \"ticks\": \"\", \"zerolinecolor\": \"white\"}}, \"shapedefaults\": {\"line\": {\"color\": \"#2a3f5f\"}}, \"ternary\": {\"aaxis\": {\"gridcolor\": \"white\", \"linecolor\": \"white\", \"ticks\": \"\"}, \"baxis\": {\"gridcolor\": \"white\", \"linecolor\": \"white\", \"ticks\": \"\"}, \"bgcolor\": \"#E5ECF6\", \"caxis\": {\"gridcolor\": \"white\", \"linecolor\": \"white\", \"ticks\": \"\"}}, \"title\": {\"x\": 0.05}, \"xaxis\": {\"automargin\": true, \"gridcolor\": \"white\", \"linecolor\": \"white\", \"ticks\": \"\", \"title\": {\"standoff\": 15}, \"zerolinecolor\": \"white\", \"zerolinewidth\": 2}, \"yaxis\": {\"automargin\": true, \"gridcolor\": \"white\", \"linecolor\": \"white\", \"ticks\": \"\", \"title\": {\"standoff\": 15}, \"zerolinecolor\": \"white\", \"zerolinewidth\": 2}}}},                        {\"responsive\": true}                    ).then(function(){\n",
       "                            \n",
       "var gd = document.getElementById('ee5c983f-00a3-4010-8d57-20ccc88b9c66');\n",
       "var x = new MutationObserver(function (mutations, observer) {{\n",
       "        var display = window.getComputedStyle(gd).display;\n",
       "        if (!display || display === 'none') {{\n",
       "            console.log([gd, 'removed!']);\n",
       "            Plotly.purge(gd);\n",
       "            observer.disconnect();\n",
       "        }}\n",
       "}});\n",
       "\n",
       "// Listen for the removal of the full notebook cells\n",
       "var notebookContainer = gd.closest('#notebook-container');\n",
       "if (notebookContainer) {{\n",
       "    x.observe(notebookContainer, {childList: true});\n",
       "}}\n",
       "\n",
       "// Listen for the clearing of the current output cell\n",
       "var outputEl = gd.closest('.output');\n",
       "if (outputEl) {{\n",
       "    x.observe(outputEl, {childList: true});\n",
       "}}\n",
       "\n",
       "                        })                };                });            </script>        </div>"
      ]
     },
     "metadata": {},
     "output_type": "display_data"
    }
   ],
   "source": [
    "fig = px.scatter_mapbox(df, lat=\"Latitude\", lon=\"Longitude\", color=\"Station_Name\", size=\"NumRacks\",\n",
    "                  color_continuous_scale=px.colors.diverging.Picnic, size_max=15, zoom=10,\n",
    "                  mapbox_style=\"carto-positron\")\n",
    "fig.show()"
   ]
  },
  {
   "cell_type": "code",
   "execution_count": null,
   "metadata": {},
   "outputs": [],
   "source": [
    "## Next steps - combine the centracts to then change the color based on the neighborhoods to make it more clear\n",
    "# do a heat map of stations too"
   ]
  }
 ],
 "metadata": {
  "kernelspec": {
   "display_name": "Python 3",
   "language": "python",
   "name": "python3"
  },
  "language_info": {
   "codemirror_mode": {
    "name": "ipython",
    "version": 3
   },
   "file_extension": ".py",
   "mimetype": "text/x-python",
   "name": "python",
   "nbconvert_exporter": "python",
   "pygments_lexer": "ipython3",
   "version": "3.8.5"
  }
 },
 "nbformat": 4,
 "nbformat_minor": 4
}
