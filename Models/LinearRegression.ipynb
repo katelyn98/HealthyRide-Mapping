{
 "cells": [
  {
   "cell_type": "code",
   "execution_count": 118,
   "id": "crucial-checkout",
   "metadata": {},
   "outputs": [],
   "source": [
    "import pandas as pd\n",
    "import numpy as np\n",
    "from sklearn.linear_model import LinearRegression\n",
    "from sklearn.metrics import mean_absolute_error\n",
    "from sklearn.model_selection import train_test_split"
   ]
  },
  {
   "cell_type": "code",
   "execution_count": 119,
   "id": "classified-interference",
   "metadata": {},
   "outputs": [
    {
     "data": {
      "text/html": [
       "<div>\n",
       "<style scoped>\n",
       "    .dataframe tbody tr th:only-of-type {\n",
       "        vertical-align: middle;\n",
       "    }\n",
       "\n",
       "    .dataframe tbody tr th {\n",
       "        vertical-align: top;\n",
       "    }\n",
       "\n",
       "    .dataframe thead th {\n",
       "        text-align: right;\n",
       "    }\n",
       "</style>\n",
       "<table border=\"1\" class=\"dataframe\">\n",
       "  <thead>\n",
       "    <tr style=\"text-align: right;\">\n",
       "      <th></th>\n",
       "      <th>total_households</th>\n",
       "      <th>median_hh_income</th>\n",
       "      <th>mean_hh_income</th>\n",
       "      <th>population_16yrs+</th>\n",
       "      <th>in_labor_force</th>\n",
       "      <th>civ_labor_force</th>\n",
       "      <th>employed</th>\n",
       "      <th>unemployed</th>\n",
       "      <th>perc_employed</th>\n",
       "      <th>perc_unemployed</th>\n",
       "      <th>...</th>\n",
       "      <th>wfh</th>\n",
       "      <th>mean_travel_time_to_work</th>\n",
       "      <th>perc_public</th>\n",
       "      <th>perc_alone</th>\n",
       "      <th>perc_walk</th>\n",
       "      <th>perc_other</th>\n",
       "      <th>2018_outflow</th>\n",
       "      <th>2019_outflow</th>\n",
       "      <th>2020_outflow</th>\n",
       "      <th>pred_outflow</th>\n",
       "    </tr>\n",
       "  </thead>\n",
       "  <tbody>\n",
       "    <tr>\n",
       "      <th>0</th>\n",
       "      <td>1306</td>\n",
       "      <td>67409</td>\n",
       "      <td>69254</td>\n",
       "      <td>2660</td>\n",
       "      <td>1845</td>\n",
       "      <td>1816</td>\n",
       "      <td>1688</td>\n",
       "      <td>128</td>\n",
       "      <td>0.634586</td>\n",
       "      <td>0.04812</td>\n",
       "      <td>...</td>\n",
       "      <td>58</td>\n",
       "      <td>23</td>\n",
       "      <td>0.156342</td>\n",
       "      <td>0.638938</td>\n",
       "      <td>0.037168</td>\n",
       "      <td>0.0</td>\n",
       "      <td>0</td>\n",
       "      <td>0</td>\n",
       "      <td>0</td>\n",
       "      <td>78</td>\n",
       "    </tr>\n",
       "    <tr>\n",
       "      <th>1</th>\n",
       "      <td>1306</td>\n",
       "      <td>67409</td>\n",
       "      <td>69254</td>\n",
       "      <td>2660</td>\n",
       "      <td>1845</td>\n",
       "      <td>1816</td>\n",
       "      <td>1688</td>\n",
       "      <td>128</td>\n",
       "      <td>0.634586</td>\n",
       "      <td>0.04812</td>\n",
       "      <td>...</td>\n",
       "      <td>58</td>\n",
       "      <td>23</td>\n",
       "      <td>0.156342</td>\n",
       "      <td>0.638938</td>\n",
       "      <td>0.037168</td>\n",
       "      <td>0.0</td>\n",
       "      <td>0</td>\n",
       "      <td>0</td>\n",
       "      <td>0</td>\n",
       "      <td>78</td>\n",
       "    </tr>\n",
       "    <tr>\n",
       "      <th>2</th>\n",
       "      <td>1306</td>\n",
       "      <td>67409</td>\n",
       "      <td>69254</td>\n",
       "      <td>2660</td>\n",
       "      <td>1845</td>\n",
       "      <td>1816</td>\n",
       "      <td>1688</td>\n",
       "      <td>128</td>\n",
       "      <td>0.634586</td>\n",
       "      <td>0.04812</td>\n",
       "      <td>...</td>\n",
       "      <td>58</td>\n",
       "      <td>23</td>\n",
       "      <td>0.156342</td>\n",
       "      <td>0.638938</td>\n",
       "      <td>0.037168</td>\n",
       "      <td>0.0</td>\n",
       "      <td>0</td>\n",
       "      <td>0</td>\n",
       "      <td>0</td>\n",
       "      <td>78</td>\n",
       "    </tr>\n",
       "    <tr>\n",
       "      <th>3</th>\n",
       "      <td>1306</td>\n",
       "      <td>67409</td>\n",
       "      <td>69254</td>\n",
       "      <td>2660</td>\n",
       "      <td>1845</td>\n",
       "      <td>1816</td>\n",
       "      <td>1688</td>\n",
       "      <td>128</td>\n",
       "      <td>0.634586</td>\n",
       "      <td>0.04812</td>\n",
       "      <td>...</td>\n",
       "      <td>58</td>\n",
       "      <td>23</td>\n",
       "      <td>0.156342</td>\n",
       "      <td>0.638938</td>\n",
       "      <td>0.037168</td>\n",
       "      <td>0.0</td>\n",
       "      <td>0</td>\n",
       "      <td>0</td>\n",
       "      <td>0</td>\n",
       "      <td>78</td>\n",
       "    </tr>\n",
       "    <tr>\n",
       "      <th>4</th>\n",
       "      <td>1306</td>\n",
       "      <td>67409</td>\n",
       "      <td>69254</td>\n",
       "      <td>2660</td>\n",
       "      <td>1845</td>\n",
       "      <td>1816</td>\n",
       "      <td>1688</td>\n",
       "      <td>128</td>\n",
       "      <td>0.634586</td>\n",
       "      <td>0.04812</td>\n",
       "      <td>...</td>\n",
       "      <td>58</td>\n",
       "      <td>23</td>\n",
       "      <td>0.156342</td>\n",
       "      <td>0.638938</td>\n",
       "      <td>0.037168</td>\n",
       "      <td>0.0</td>\n",
       "      <td>0</td>\n",
       "      <td>0</td>\n",
       "      <td>0</td>\n",
       "      <td>78</td>\n",
       "    </tr>\n",
       "  </tbody>\n",
       "</table>\n",
       "<p>5 rows × 26 columns</p>\n",
       "</div>"
      ],
      "text/plain": [
       "   total_households median_hh_income  mean_hh_income  population_16yrs+  \\\n",
       "0              1306            67409           69254               2660   \n",
       "1              1306            67409           69254               2660   \n",
       "2              1306            67409           69254               2660   \n",
       "3              1306            67409           69254               2660   \n",
       "4              1306            67409           69254               2660   \n",
       "\n",
       "   in_labor_force  civ_labor_force  employed  unemployed  perc_employed  \\\n",
       "0            1845             1816      1688         128       0.634586   \n",
       "1            1845             1816      1688         128       0.634586   \n",
       "2            1845             1816      1688         128       0.634586   \n",
       "3            1845             1816      1688         128       0.634586   \n",
       "4            1845             1816      1688         128       0.634586   \n",
       "\n",
       "   perc_unemployed  ...  wfh  mean_travel_time_to_work  perc_public  \\\n",
       "0          0.04812  ...   58                        23     0.156342   \n",
       "1          0.04812  ...   58                        23     0.156342   \n",
       "2          0.04812  ...   58                        23     0.156342   \n",
       "3          0.04812  ...   58                        23     0.156342   \n",
       "4          0.04812  ...   58                        23     0.156342   \n",
       "\n",
       "   perc_alone  perc_walk  perc_other  2018_outflow  2019_outflow  \\\n",
       "0    0.638938   0.037168         0.0             0             0   \n",
       "1    0.638938   0.037168         0.0             0             0   \n",
       "2    0.638938   0.037168         0.0             0             0   \n",
       "3    0.638938   0.037168         0.0             0             0   \n",
       "4    0.638938   0.037168         0.0             0             0   \n",
       "\n",
       "   2020_outflow  pred_outflow  \n",
       "0             0            78  \n",
       "1             0            78  \n",
       "2             0            78  \n",
       "3             0            78  \n",
       "4             0            78  \n",
       "\n",
       "[5 rows x 26 columns]"
      ]
     },
     "execution_count": 119,
     "metadata": {},
     "output_type": "execute_result"
    }
   ],
   "source": [
    "df = pd.read_csv('../Data/PGH/DemandPrediction/ml_df.csv')\n",
    "df = df.drop(columns=['Unnamed: 0'])\n",
    "df.head(5)"
   ]
  },
  {
   "cell_type": "code",
   "execution_count": 120,
   "id": "american-board",
   "metadata": {},
   "outputs": [
    {
     "data": {
      "text/plain": [
       "Index(['total_households', 'median_hh_income', 'mean_hh_income',\n",
       "       'population_16yrs+', 'in_labor_force', 'civ_labor_force', 'employed',\n",
       "       'unemployed', 'perc_employed', 'perc_unemployed', 'Workers_16yrs+',\n",
       "       'own_alone', 'carpool', 'public_transit', 'walked', 'other', 'wfh',\n",
       "       'mean_travel_time_to_work', 'perc_public', 'perc_alone', 'perc_walk',\n",
       "       'perc_other', '2018_outflow', '2019_outflow', '2020_outflow',\n",
       "       'pred_outflow'],\n",
       "      dtype='object')"
      ]
     },
     "execution_count": 120,
     "metadata": {},
     "output_type": "execute_result"
    }
   ],
   "source": [
    "df.columns"
   ]
  },
  {
   "cell_type": "code",
   "execution_count": 121,
   "id": "quality-escape",
   "metadata": {},
   "outputs": [],
   "source": [
    "for row in range(len(df)):\n",
    "    for col in df.columns:\n",
    "        if df.loc[row][col] == '-' or pd.isna(df.loc[row][col]):\n",
    "            df.at[row,col] = 0"
   ]
  },
  {
   "cell_type": "code",
   "execution_count": 122,
   "id": "exterior-fault",
   "metadata": {},
   "outputs": [
    {
     "data": {
      "text/html": [
       "<div>\n",
       "<style scoped>\n",
       "    .dataframe tbody tr th:only-of-type {\n",
       "        vertical-align: middle;\n",
       "    }\n",
       "\n",
       "    .dataframe tbody tr th {\n",
       "        vertical-align: top;\n",
       "    }\n",
       "\n",
       "    .dataframe thead th {\n",
       "        text-align: right;\n",
       "    }\n",
       "</style>\n",
       "<table border=\"1\" class=\"dataframe\">\n",
       "  <thead>\n",
       "    <tr style=\"text-align: right;\">\n",
       "      <th></th>\n",
       "      <th>total_households</th>\n",
       "      <th>population_16yrs+</th>\n",
       "      <th>Workers_16yrs+</th>\n",
       "      <th>pred_outflow</th>\n",
       "    </tr>\n",
       "  </thead>\n",
       "  <tbody>\n",
       "    <tr>\n",
       "      <th>0</th>\n",
       "      <td>1306</td>\n",
       "      <td>2660</td>\n",
       "      <td>1695</td>\n",
       "      <td>78</td>\n",
       "    </tr>\n",
       "    <tr>\n",
       "      <th>1</th>\n",
       "      <td>1306</td>\n",
       "      <td>2660</td>\n",
       "      <td>1695</td>\n",
       "      <td>78</td>\n",
       "    </tr>\n",
       "    <tr>\n",
       "      <th>2</th>\n",
       "      <td>1306</td>\n",
       "      <td>2660</td>\n",
       "      <td>1695</td>\n",
       "      <td>78</td>\n",
       "    </tr>\n",
       "    <tr>\n",
       "      <th>3</th>\n",
       "      <td>1306</td>\n",
       "      <td>2660</td>\n",
       "      <td>1695</td>\n",
       "      <td>78</td>\n",
       "    </tr>\n",
       "  </tbody>\n",
       "</table>\n",
       "</div>"
      ],
      "text/plain": [
       "   total_households  population_16yrs+  Workers_16yrs+  pred_outflow\n",
       "0              1306               2660            1695            78\n",
       "1              1306               2660            1695            78\n",
       "2              1306               2660            1695            78\n",
       "3              1306               2660            1695            78"
      ]
     },
     "execution_count": 122,
     "metadata": {},
     "output_type": "execute_result"
    }
   ],
   "source": [
    "df = df.drop(columns=['median_hh_income','mean_hh_income','in_labor_force', 'civ_labor_force', \n",
    "                      'employed','unemployed', 'perc_employed', 'perc_unemployed','own_alone', \n",
    "                      'carpool', 'public_transit', 'walked', 'other', 'wfh','mean_travel_time_to_work', \n",
    "                      'perc_public', 'perc_alone', 'perc_walk','perc_other', '2018_outflow', '2019_outflow', '2020_outflow'])\n",
    "df.head(4)"
   ]
  },
  {
   "cell_type": "code",
   "execution_count": 123,
   "id": "superior-clearance",
   "metadata": {},
   "outputs": [],
   "source": [
    "X = df.iloc[:, 0:3].to_numpy()\n",
    "y = df.iloc[:,3].to_numpy()\n",
    "\n",
    "X_train, X_test, y_train, y_test = train_test_split(X, y, test_size=0.30, random_state=42)"
   ]
  },
  {
   "cell_type": "code",
   "execution_count": 124,
   "id": "encouraging-aluminum",
   "metadata": {},
   "outputs": [
    {
     "data": {
      "text/plain": [
       "0.07875031575762126"
      ]
     },
     "execution_count": 124,
     "metadata": {},
     "output_type": "execute_result"
    }
   ],
   "source": [
    "reg = LinearRegression().fit(X_train, y_train)\n",
    "reg.score(X_train, y_train)"
   ]
  },
  {
   "cell_type": "code",
   "execution_count": 125,
   "id": "human-young",
   "metadata": {},
   "outputs": [
    {
     "data": {
      "text/plain": [
       "array([-0.11701882,  0.12176365,  0.07343817])"
      ]
     },
     "execution_count": 125,
     "metadata": {},
     "output_type": "execute_result"
    }
   ],
   "source": [
    "reg.coef_"
   ]
  },
  {
   "cell_type": "code",
   "execution_count": 126,
   "id": "demonstrated-cologne",
   "metadata": {},
   "outputs": [
    {
     "data": {
      "text/plain": [
       "99.95493761609404"
      ]
     },
     "execution_count": 126,
     "metadata": {},
     "output_type": "execute_result"
    }
   ],
   "source": [
    "reg.intercept_"
   ]
  },
  {
   "cell_type": "code",
   "execution_count": 127,
   "id": "median-dating",
   "metadata": {},
   "outputs": [],
   "source": [
    "y_pred = reg.predict(X_test).astype(int)"
   ]
  },
  {
   "cell_type": "code",
   "execution_count": 128,
   "id": "adult-filter",
   "metadata": {},
   "outputs": [
    {
     "data": {
      "text/plain": [
       "244.44292237442923"
      ]
     },
     "execution_count": 128,
     "metadata": {},
     "output_type": "execute_result"
    }
   ],
   "source": [
    "###calculate mean squared error\n",
    "mean_absolute_error(y_test,y_pred)"
   ]
  },
  {
   "cell_type": "code",
   "execution_count": 129,
   "id": "accepted-spokesman",
   "metadata": {},
   "outputs": [
    {
     "data": {
      "text/plain": [
       "array([251, 968, 426, 754, 208, 181, 306,  99, 300, 220, 235, 294, 259,\n",
       "       312, 307, 364, 218, 220, 348, 477, 284, 306, 298, 290, 355, 477,\n",
       "       312, 128, 212, 237, 166, 277, 395, 324, 298, 259, 405, 405, 401,\n",
       "       235, 100, 329, 329, 285, 550, 232, 275, 275, 267, 252, 481, 445,\n",
       "       232, 282, 157, 312, 277, 344, 235, 670, 550, 277, 290, 267, 405,\n",
       "       968, 178, 534,  99, 233, 237, 232, 466, 477, 361, 401, 324, 278,\n",
       "       469, 332, 297, 273, 232, 355, 383, 235, 235, 361, 294, 312, 297,\n",
       "       426, 481, 259, 259, 383, 235, 342, 267, 294, 178, 383, 100, 185,\n",
       "       235, 670, 405, 304, 312, 252, 412, 477, 395, 252, 324, 154, 290,\n",
       "       306, 275, 451, 285, 357, 235, 401, 166, 304, 252, 235, 626, 212,\n",
       "       330, 968, 157, 477,  99, 534, 405, 477, 348, 491, 469, 534, 220,\n",
       "       357, 968, 451, 235, 534, 312, 395, 426, 128, 157, 313, 481, 336,\n",
       "       534, 269, 451, 251, 300, 285, 405, 235,  99, 968, 324, 232,  99,\n",
       "       332, 270,  99, 220, 300, 259, 405, 361, 178,  99, 299, 294, 355,\n",
       "       238, 348, 395, 185, 285, 128, 259, 290, 401,  99, 232,  99, 355,\n",
       "       235, 754,  99,  99, 357, 235,  99, 346, 277, 294, 734,  99, 220,\n",
       "       139, 296, 324, 316, 534, 267, 128, 329, 295, 489, 466])"
      ]
     },
     "execution_count": 129,
     "metadata": {},
     "output_type": "execute_result"
    }
   ],
   "source": [
    "y_pred"
   ]
  },
  {
   "cell_type": "code",
   "execution_count": 130,
   "id": "caring-youth",
   "metadata": {},
   "outputs": [
    {
     "data": {
      "text/plain": [
       "array([ 207,    0,  327,  440,  440,  440,  440,  440, 1062,  250,  250,\n",
       "        250,  250,  250,  250,  356,  354,  356, 2279, 1043, 1388,  856,\n",
       "       1327, 2828, 1704,  998,  723,  497,  497,  796,  896,    0,    0,\n",
       "          0,    0,    0,    0,  529,  188,  188,  188,  188,  188, 1962,\n",
       "        376,  864,  929,  326,  326,  326,  326,    2,    2,    2,    2,\n",
       "          2,    2, 1225,  725,  608,  608,  608,  608,  608, 1129, 1129,\n",
       "       1129,  670,  561,  173,  173,  173,  169,  169,  169,  169,  169,\n",
       "        169,  169,  169,  120,  120,  120,  120,  120,  120,  120,  120,\n",
       "        120,  120,  120,  120,  120,  120,  120,  120,  622,  223,  388,\n",
       "        197,  464,  464,  464,  464,  464,  464,  755, 1567,  555,  185,\n",
       "        363,  245,  555,  892,  435,  435,  435,  435,  739,  997,  892,\n",
       "       1034,  399,  399,  399,  497,  467,   41,   41,   41,   41,   41,\n",
       "         41,   41,   41,   41,  424,  424,  424,  424, 1008,  828,  697,\n",
       "        842,  530,  530,  530,  530,  367,  367,  367,  367,  123,  123,\n",
       "        123,  123,  123,  123,  123,  123,  123,  123,  123,  123,  123,\n",
       "        281,  281,  281,  281,  281,  281,  281,  281,  281,  281,  639,\n",
       "        812,    0,    0,    0,    0,    0,    0,    0,  501,  501,  501,\n",
       "        501,  501,  225,  225,  225,  225,  225,  144, 1178,  136,   69,\n",
       "        285,  285,  285,  285,  101,  101,  101,  101,  101,  101,  148,\n",
       "        148,  148,    0,    0,    0,    0,    0,    0,    0,    0,    0,\n",
       "          0,    0,  284,  284,  284,  284,  284,  270,  270,  180,  270,\n",
       "         71,  233,  306,  306,  306,  306,  306,   19,   19,   19,   19,\n",
       "         19,   19,   19,   19,   19,  222,  222,   63,  421,  199,  199,\n",
       "        199,  199,  199,    0,    0,    0,    0,  885,  278,  278,  278,\n",
       "        278,  278,  278,  187,  187,  187,  226,  226,  226,  226,  226,\n",
       "        226,  226,  226])"
      ]
     },
     "execution_count": 130,
     "metadata": {},
     "output_type": "execute_result"
    }
   ],
   "source": [
    "y_true"
   ]
  },
  {
   "cell_type": "code",
   "execution_count": 131,
   "id": "specific-theme",
   "metadata": {},
   "outputs": [
    {
     "data": {
      "text/plain": [
       "219"
      ]
     },
     "execution_count": 131,
     "metadata": {},
     "output_type": "execute_result"
    }
   ],
   "source": [
    "len(y_pred)"
   ]
  },
  {
   "cell_type": "code",
   "execution_count": 132,
   "id": "designing-brighton",
   "metadata": {},
   "outputs": [
    {
     "data": {
      "text/plain": [
       "219"
      ]
     },
     "execution_count": 132,
     "metadata": {},
     "output_type": "execute_result"
    }
   ],
   "source": [
    "len(y_test)"
   ]
  },
  {
   "cell_type": "code",
   "execution_count": null,
   "id": "demonstrated-appraisal",
   "metadata": {},
   "outputs": [],
   "source": []
  }
 ],
 "metadata": {
  "kernelspec": {
   "display_name": "Python 3",
   "language": "python",
   "name": "python3"
  },
  "language_info": {
   "codemirror_mode": {
    "name": "ipython",
    "version": 3
   },
   "file_extension": ".py",
   "mimetype": "text/x-python",
   "name": "python",
   "nbconvert_exporter": "python",
   "pygments_lexer": "ipython3",
   "version": "3.7.7"
  }
 },
 "nbformat": 4,
 "nbformat_minor": 5
}
