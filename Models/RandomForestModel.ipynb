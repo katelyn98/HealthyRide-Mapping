{
 "cells": [
  {
   "cell_type": "code",
   "execution_count": 42,
   "id": "average-bryan",
   "metadata": {},
   "outputs": [],
   "source": [
    "import pandas as pd\n",
    "import numpy as np\n",
    "from sklearn.model_selection import train_test_split\n",
    "from sklearn.ensemble import RandomForestRegressor\n",
    "from sklearn.model_selection import StratifiedKFold\n",
    "from sklearn.preprocessing import StandardScaler\n",
    "from sklearn import preprocessing\n",
    "from sklearn.metrics import mean_squared_error\n",
    "import matplotlib.pyplot as plt\n",
    "from scipy import stats\n",
    "from sklearn import metrics"
   ]
  },
  {
   "cell_type": "markdown",
   "id": "revolutionary-basin",
   "metadata": {},
   "source": [
    "## Preprocessing Data"
   ]
  },
  {
   "cell_type": "markdown",
   "id": "defined-monitor",
   "metadata": {},
   "source": [
    "### Import data"
   ]
  },
  {
   "cell_type": "code",
   "execution_count": 43,
   "id": "departmental-organizer",
   "metadata": {},
   "outputs": [
    {
     "data": {
      "text/html": [
       "<div>\n",
       "<style scoped>\n",
       "    .dataframe tbody tr th:only-of-type {\n",
       "        vertical-align: middle;\n",
       "    }\n",
       "\n",
       "    .dataframe tbody tr th {\n",
       "        vertical-align: top;\n",
       "    }\n",
       "\n",
       "    .dataframe thead th {\n",
       "        text-align: right;\n",
       "    }\n",
       "</style>\n",
       "<table border=\"1\" class=\"dataframe\">\n",
       "  <thead>\n",
       "    <tr style=\"text-align: right;\">\n",
       "      <th></th>\n",
       "      <th>Unnamed: 0</th>\n",
       "      <th>total_households</th>\n",
       "      <th>median_hh_income</th>\n",
       "      <th>mean_hh_income</th>\n",
       "      <th>population_16yrs+</th>\n",
       "      <th>in_labor_force</th>\n",
       "      <th>civ_labor_force</th>\n",
       "      <th>employed</th>\n",
       "      <th>unemployed</th>\n",
       "      <th>perc_employed</th>\n",
       "      <th>...</th>\n",
       "      <th>wfh</th>\n",
       "      <th>mean_travel_time_to_work</th>\n",
       "      <th>perc_public</th>\n",
       "      <th>perc_alone</th>\n",
       "      <th>perc_walk</th>\n",
       "      <th>perc_other</th>\n",
       "      <th>2018_outflow</th>\n",
       "      <th>2019_outflow</th>\n",
       "      <th>2020_outflow</th>\n",
       "      <th>pred_outflow</th>\n",
       "    </tr>\n",
       "  </thead>\n",
       "  <tbody>\n",
       "    <tr>\n",
       "      <th>0</th>\n",
       "      <td>0</td>\n",
       "      <td>1306</td>\n",
       "      <td>67409</td>\n",
       "      <td>69254</td>\n",
       "      <td>2660</td>\n",
       "      <td>1845</td>\n",
       "      <td>1816</td>\n",
       "      <td>1688</td>\n",
       "      <td>128</td>\n",
       "      <td>0.634586</td>\n",
       "      <td>...</td>\n",
       "      <td>58</td>\n",
       "      <td>23</td>\n",
       "      <td>0.156342</td>\n",
       "      <td>0.638938</td>\n",
       "      <td>0.037168</td>\n",
       "      <td>0.0</td>\n",
       "      <td>0</td>\n",
       "      <td>0</td>\n",
       "      <td>0</td>\n",
       "      <td>78</td>\n",
       "    </tr>\n",
       "    <tr>\n",
       "      <th>1</th>\n",
       "      <td>1</td>\n",
       "      <td>1306</td>\n",
       "      <td>67409</td>\n",
       "      <td>69254</td>\n",
       "      <td>2660</td>\n",
       "      <td>1845</td>\n",
       "      <td>1816</td>\n",
       "      <td>1688</td>\n",
       "      <td>128</td>\n",
       "      <td>0.634586</td>\n",
       "      <td>...</td>\n",
       "      <td>58</td>\n",
       "      <td>23</td>\n",
       "      <td>0.156342</td>\n",
       "      <td>0.638938</td>\n",
       "      <td>0.037168</td>\n",
       "      <td>0.0</td>\n",
       "      <td>0</td>\n",
       "      <td>0</td>\n",
       "      <td>0</td>\n",
       "      <td>78</td>\n",
       "    </tr>\n",
       "    <tr>\n",
       "      <th>2</th>\n",
       "      <td>2</td>\n",
       "      <td>1306</td>\n",
       "      <td>67409</td>\n",
       "      <td>69254</td>\n",
       "      <td>2660</td>\n",
       "      <td>1845</td>\n",
       "      <td>1816</td>\n",
       "      <td>1688</td>\n",
       "      <td>128</td>\n",
       "      <td>0.634586</td>\n",
       "      <td>...</td>\n",
       "      <td>58</td>\n",
       "      <td>23</td>\n",
       "      <td>0.156342</td>\n",
       "      <td>0.638938</td>\n",
       "      <td>0.037168</td>\n",
       "      <td>0.0</td>\n",
       "      <td>0</td>\n",
       "      <td>0</td>\n",
       "      <td>0</td>\n",
       "      <td>78</td>\n",
       "    </tr>\n",
       "    <tr>\n",
       "      <th>3</th>\n",
       "      <td>3</td>\n",
       "      <td>1306</td>\n",
       "      <td>67409</td>\n",
       "      <td>69254</td>\n",
       "      <td>2660</td>\n",
       "      <td>1845</td>\n",
       "      <td>1816</td>\n",
       "      <td>1688</td>\n",
       "      <td>128</td>\n",
       "      <td>0.634586</td>\n",
       "      <td>...</td>\n",
       "      <td>58</td>\n",
       "      <td>23</td>\n",
       "      <td>0.156342</td>\n",
       "      <td>0.638938</td>\n",
       "      <td>0.037168</td>\n",
       "      <td>0.0</td>\n",
       "      <td>0</td>\n",
       "      <td>0</td>\n",
       "      <td>0</td>\n",
       "      <td>78</td>\n",
       "    </tr>\n",
       "  </tbody>\n",
       "</table>\n",
       "<p>4 rows × 27 columns</p>\n",
       "</div>"
      ],
      "text/plain": [
       "   Unnamed: 0  total_households median_hh_income  mean_hh_income  \\\n",
       "0           0              1306            67409           69254   \n",
       "1           1              1306            67409           69254   \n",
       "2           2              1306            67409           69254   \n",
       "3           3              1306            67409           69254   \n",
       "\n",
       "   population_16yrs+  in_labor_force  civ_labor_force  employed  unemployed  \\\n",
       "0               2660            1845             1816      1688         128   \n",
       "1               2660            1845             1816      1688         128   \n",
       "2               2660            1845             1816      1688         128   \n",
       "3               2660            1845             1816      1688         128   \n",
       "\n",
       "   perc_employed  ...  wfh  mean_travel_time_to_work  perc_public  perc_alone  \\\n",
       "0       0.634586  ...   58                        23     0.156342    0.638938   \n",
       "1       0.634586  ...   58                        23     0.156342    0.638938   \n",
       "2       0.634586  ...   58                        23     0.156342    0.638938   \n",
       "3       0.634586  ...   58                        23     0.156342    0.638938   \n",
       "\n",
       "   perc_walk  perc_other  2018_outflow  2019_outflow  2020_outflow  \\\n",
       "0   0.037168         0.0             0             0             0   \n",
       "1   0.037168         0.0             0             0             0   \n",
       "2   0.037168         0.0             0             0             0   \n",
       "3   0.037168         0.0             0             0             0   \n",
       "\n",
       "   pred_outflow  \n",
       "0            78  \n",
       "1            78  \n",
       "2            78  \n",
       "3            78  \n",
       "\n",
       "[4 rows x 27 columns]"
      ]
     },
     "execution_count": 43,
     "metadata": {},
     "output_type": "execute_result"
    }
   ],
   "source": [
    "df = pd.read_csv('../Data/PGH/DemandPrediction/ml_df.csv')\n",
    "df.head(4)"
   ]
  },
  {
   "cell_type": "code",
   "execution_count": 44,
   "id": "right-pepper",
   "metadata": {},
   "outputs": [
    {
     "data": {
      "text/plain": [
       "Index(['Unnamed: 0', 'total_households', 'median_hh_income', 'mean_hh_income',\n",
       "       'population_16yrs+', 'in_labor_force', 'civ_labor_force', 'employed',\n",
       "       'unemployed', 'perc_employed', 'perc_unemployed', 'Workers_16yrs+',\n",
       "       'own_alone', 'carpool', 'public_transit', 'walked', 'other', 'wfh',\n",
       "       'mean_travel_time_to_work', 'perc_public', 'perc_alone', 'perc_walk',\n",
       "       'perc_other', '2018_outflow', '2019_outflow', '2020_outflow',\n",
       "       'pred_outflow'],\n",
       "      dtype='object')"
      ]
     },
     "execution_count": 44,
     "metadata": {},
     "output_type": "execute_result"
    }
   ],
   "source": [
    "df.columns"
   ]
  },
  {
   "cell_type": "markdown",
   "id": "noted-playing",
   "metadata": {},
   "source": [
    "## Remove Some Features"
   ]
  },
  {
   "cell_type": "code",
   "execution_count": 45,
   "id": "equal-country",
   "metadata": {},
   "outputs": [
    {
     "data": {
      "text/html": [
       "<div>\n",
       "<style scoped>\n",
       "    .dataframe tbody tr th:only-of-type {\n",
       "        vertical-align: middle;\n",
       "    }\n",
       "\n",
       "    .dataframe tbody tr th {\n",
       "        vertical-align: top;\n",
       "    }\n",
       "\n",
       "    .dataframe thead th {\n",
       "        text-align: right;\n",
       "    }\n",
       "</style>\n",
       "<table border=\"1\" class=\"dataframe\">\n",
       "  <thead>\n",
       "    <tr style=\"text-align: right;\">\n",
       "      <th></th>\n",
       "      <th>2018_outflow</th>\n",
       "      <th>2019_outflow</th>\n",
       "      <th>2020_outflow</th>\n",
       "      <th>pred_outflow</th>\n",
       "    </tr>\n",
       "  </thead>\n",
       "  <tbody>\n",
       "    <tr>\n",
       "      <th>203</th>\n",
       "      <td>1</td>\n",
       "      <td>187</td>\n",
       "      <td>1776</td>\n",
       "      <td>654</td>\n",
       "    </tr>\n",
       "    <tr>\n",
       "      <th>224</th>\n",
       "      <td>2436</td>\n",
       "      <td>3926</td>\n",
       "      <td>6776</td>\n",
       "      <td>4379</td>\n",
       "    </tr>\n",
       "    <tr>\n",
       "      <th>225</th>\n",
       "      <td>2671</td>\n",
       "      <td>3015</td>\n",
       "      <td>2322</td>\n",
       "      <td>2669</td>\n",
       "    </tr>\n",
       "    <tr>\n",
       "      <th>226</th>\n",
       "      <td>618</td>\n",
       "      <td>611</td>\n",
       "      <td>728</td>\n",
       "      <td>652</td>\n",
       "    </tr>\n",
       "  </tbody>\n",
       "</table>\n",
       "</div>"
      ],
      "text/plain": [
       "     2018_outflow  2019_outflow  2020_outflow  pred_outflow\n",
       "203             1           187          1776           654\n",
       "224          2436          3926          6776          4379\n",
       "225          2671          3015          2322          2669\n",
       "226           618           611           728           652"
      ]
     },
     "execution_count": 45,
     "metadata": {},
     "output_type": "execute_result"
    }
   ],
   "source": [
    "df = df.drop(columns=['Unnamed: 0', 'median_hh_income','mean_hh_income','in_labor_force', 'civ_labor_force', \n",
    "                      'employed','unemployed', 'perc_employed', 'perc_unemployed','own_alone', \n",
    "                      'carpool', 'public_transit', 'walked', 'other', 'wfh','mean_travel_time_to_work', \n",
    "                      'perc_public', 'perc_alone', 'perc_walk','perc_other', 'total_households', 'population_16yrs+', 'Workers_16yrs+'])\n",
    "\n",
    "query_2018_mask = df['2018_outflow'] > 0\n",
    "query_2019_mask = df['2019_outflow'] > 0\n",
    "query_2020_mask = df['2020_outflow'] > 0\n",
    "df = df[query_2018_mask | query_2019_mask | query_2020_mask ]\n",
    "df.head(4)"
   ]
  },
  {
   "cell_type": "code",
   "execution_count": 46,
   "id": "social-costume",
   "metadata": {},
   "outputs": [
    {
     "data": {
      "text/html": [
       "<div>\n",
       "<style scoped>\n",
       "    .dataframe tbody tr th:only-of-type {\n",
       "        vertical-align: middle;\n",
       "    }\n",
       "\n",
       "    .dataframe tbody tr th {\n",
       "        vertical-align: top;\n",
       "    }\n",
       "\n",
       "    .dataframe thead th {\n",
       "        text-align: right;\n",
       "    }\n",
       "</style>\n",
       "<table border=\"1\" class=\"dataframe\">\n",
       "  <thead>\n",
       "    <tr style=\"text-align: right;\">\n",
       "      <th></th>\n",
       "      <th>2018_outflow</th>\n",
       "      <th>2019_outflow</th>\n",
       "      <th>2020_outflow</th>\n",
       "      <th>pred_outflow</th>\n",
       "    </tr>\n",
       "  </thead>\n",
       "  <tbody>\n",
       "    <tr>\n",
       "      <th>203</th>\n",
       "      <td>1</td>\n",
       "      <td>187</td>\n",
       "      <td>1776</td>\n",
       "      <td>654</td>\n",
       "    </tr>\n",
       "    <tr>\n",
       "      <th>224</th>\n",
       "      <td>2436</td>\n",
       "      <td>3926</td>\n",
       "      <td>6776</td>\n",
       "      <td>4379</td>\n",
       "    </tr>\n",
       "    <tr>\n",
       "      <th>225</th>\n",
       "      <td>2671</td>\n",
       "      <td>3015</td>\n",
       "      <td>2322</td>\n",
       "      <td>2669</td>\n",
       "    </tr>\n",
       "    <tr>\n",
       "      <th>226</th>\n",
       "      <td>618</td>\n",
       "      <td>611</td>\n",
       "      <td>728</td>\n",
       "      <td>652</td>\n",
       "    </tr>\n",
       "    <tr>\n",
       "      <th>231</th>\n",
       "      <td>19</td>\n",
       "      <td>433</td>\n",
       "      <td>330</td>\n",
       "      <td>260</td>\n",
       "    </tr>\n",
       "    <tr>\n",
       "      <th>...</th>\n",
       "      <td>...</td>\n",
       "      <td>...</td>\n",
       "      <td>...</td>\n",
       "      <td>...</td>\n",
       "    </tr>\n",
       "    <tr>\n",
       "      <th>646</th>\n",
       "      <td>38</td>\n",
       "      <td>157</td>\n",
       "      <td>213</td>\n",
       "      <td>136</td>\n",
       "    </tr>\n",
       "    <tr>\n",
       "      <th>647</th>\n",
       "      <td>1</td>\n",
       "      <td>85</td>\n",
       "      <td>122</td>\n",
       "      <td>69</td>\n",
       "    </tr>\n",
       "    <tr>\n",
       "      <th>679</th>\n",
       "      <td>42</td>\n",
       "      <td>267</td>\n",
       "      <td>232</td>\n",
       "      <td>180</td>\n",
       "    </tr>\n",
       "    <tr>\n",
       "      <th>681</th>\n",
       "      <td>0</td>\n",
       "      <td>44</td>\n",
       "      <td>99</td>\n",
       "      <td>71</td>\n",
       "    </tr>\n",
       "    <tr>\n",
       "      <th>699</th>\n",
       "      <td>0</td>\n",
       "      <td>50</td>\n",
       "      <td>76</td>\n",
       "      <td>63</td>\n",
       "    </tr>\n",
       "  </tbody>\n",
       "</table>\n",
       "<p>76 rows × 4 columns</p>\n",
       "</div>"
      ],
      "text/plain": [
       "     2018_outflow  2019_outflow  2020_outflow  pred_outflow\n",
       "203             1           187          1776           654\n",
       "224          2436          3926          6776          4379\n",
       "225          2671          3015          2322          2669\n",
       "226           618           611           728           652\n",
       "231            19           433           330           260\n",
       "..            ...           ...           ...           ...\n",
       "646            38           157           213           136\n",
       "647             1            85           122            69\n",
       "679            42           267           232           180\n",
       "681             0            44            99            71\n",
       "699             0            50            76            63\n",
       "\n",
       "[76 rows x 4 columns]"
      ]
     },
     "execution_count": 46,
     "metadata": {},
     "output_type": "execute_result"
    }
   ],
   "source": [
    "df.fillna(0)"
   ]
  },
  {
   "cell_type": "code",
   "execution_count": 47,
   "id": "developing-typing",
   "metadata": {},
   "outputs": [
    {
     "data": {
      "text/plain": [
       "1136.1315789473683"
      ]
     },
     "execution_count": 47,
     "metadata": {},
     "output_type": "execute_result"
    }
   ],
   "source": [
    "df['pred_outflow'].mean()"
   ]
  },
  {
   "cell_type": "code",
   "execution_count": 48,
   "id": "collective-inquiry",
   "metadata": {},
   "outputs": [
    {
     "data": {
      "text/plain": [
       "5187"
      ]
     },
     "execution_count": 48,
     "metadata": {},
     "output_type": "execute_result"
    }
   ],
   "source": [
    "df['pred_outflow'].max()"
   ]
  },
  {
   "cell_type": "code",
   "execution_count": 39,
   "id": "functioning-lyric",
   "metadata": {},
   "outputs": [
    {
     "data": {
      "image/png": "[encoded data removed]",
      "text/plain": [
       "<Figure size 432x288 with 1 Axes>"
      ]
     },
     "metadata": {
      "needs_background": "light"
     },
     "output_type": "display_data"
    }
   ],
   "source": [
    "plt.scatter(df['population_16yrs+'], df['pred_outflow'], s=1); plt.show()"
   ]
  },
  {
   "cell_type": "code",
   "execution_count": 49,
   "id": "italic-enough",
   "metadata": {},
   "outputs": [
    {
     "data": {
      "image/png": "[encoded data removed]",
      "text/plain": [
       "<Figure size 432x288 with 1 Axes>"
      ]
     },
     "metadata": {
      "needs_background": "light"
     },
     "output_type": "display_data"
    }
   ],
   "source": [
    "plt.scatter(df['2020_outflow'], df['pred_outflow'], s=1); plt.show()"
   ]
  },
  {
   "cell_type": "code",
   "execution_count": 50,
   "id": "optimum-restriction",
   "metadata": {},
   "outputs": [
    {
     "data": {
      "image/png": "[encoded data removed]",
      "text/plain": [
       "<Figure size 432x288 with 1 Axes>"
      ]
     },
     "metadata": {
      "needs_background": "light"
     },
     "output_type": "display_data"
    }
   ],
   "source": [
    "plt.scatter(df['2019_outflow'], df['pred_outflow'], s=1); plt.show()"
   ]
  },
  {
   "cell_type": "code",
   "execution_count": 51,
   "id": "banner-rouge",
   "metadata": {},
   "outputs": [
    {
     "data": {
      "text/html": [
       "<div>\n",
       "<style scoped>\n",
       "    .dataframe tbody tr th:only-of-type {\n",
       "        vertical-align: middle;\n",
       "    }\n",
       "\n",
       "    .dataframe tbody tr th {\n",
       "        vertical-align: top;\n",
       "    }\n",
       "\n",
       "    .dataframe thead th {\n",
       "        text-align: right;\n",
       "    }\n",
       "</style>\n",
       "<table border=\"1\" class=\"dataframe\">\n",
       "  <thead>\n",
       "    <tr style=\"text-align: right;\">\n",
       "      <th></th>\n",
       "      <th>2018_outflow</th>\n",
       "      <th>2019_outflow</th>\n",
       "      <th>2020_outflow</th>\n",
       "      <th>pred_outflow</th>\n",
       "    </tr>\n",
       "  </thead>\n",
       "  <tbody>\n",
       "    <tr>\n",
       "      <th>495</th>\n",
       "      <td>762</td>\n",
       "      <td>861</td>\n",
       "      <td>971</td>\n",
       "      <td>864</td>\n",
       "    </tr>\n",
       "    <tr>\n",
       "      <th>592</th>\n",
       "      <td>0</td>\n",
       "      <td>551</td>\n",
       "      <td>843</td>\n",
       "      <td>697</td>\n",
       "    </tr>\n",
       "    <tr>\n",
       "      <th>231</th>\n",
       "      <td>19</td>\n",
       "      <td>433</td>\n",
       "      <td>330</td>\n",
       "      <td>260</td>\n",
       "    </tr>\n",
       "    <tr>\n",
       "      <th>470</th>\n",
       "      <td>1413</td>\n",
       "      <td>1638</td>\n",
       "      <td>1113</td>\n",
       "      <td>1388</td>\n",
       "    </tr>\n",
       "    <tr>\n",
       "      <th>347</th>\n",
       "      <td>280</td>\n",
       "      <td>1575</td>\n",
       "      <td>1086</td>\n",
       "      <td>979</td>\n",
       "    </tr>\n",
       "    <tr>\n",
       "      <th>250</th>\n",
       "      <td>0</td>\n",
       "      <td>4649</td>\n",
       "      <td>6047</td>\n",
       "      <td>5071</td>\n",
       "    </tr>\n",
       "    <tr>\n",
       "      <th>547</th>\n",
       "      <td>18</td>\n",
       "      <td>358</td>\n",
       "      <td>294</td>\n",
       "      <td>223</td>\n",
       "    </tr>\n",
       "  </tbody>\n",
       "</table>\n",
       "</div>"
      ],
      "text/plain": [
       "     2018_outflow  2019_outflow  2020_outflow  pred_outflow\n",
       "495           762           861           971           864\n",
       "592             0           551           843           697\n",
       "231            19           433           330           260\n",
       "470          1413          1638          1113          1388\n",
       "347           280          1575          1086           979\n",
       "250             0          4649          6047          5071\n",
       "547            18           358           294           223"
      ]
     },
     "execution_count": 51,
     "metadata": {},
     "output_type": "execute_result"
    }
   ],
   "source": [
    "df = df[df['pred_outflow']>0]\n",
    "df.sample(7)"
   ]
  },
  {
   "cell_type": "code",
   "execution_count": 52,
   "id": "strong-respect",
   "metadata": {},
   "outputs": [],
   "source": [
    "# df = df[(np.abs(stats.zscore(df)) > 0.5).all(axis=1)]\n",
    "# df = df[(np.abs(stats.zscore(df)) < 3).all(axis=1)]\n",
    "# df"
   ]
  },
  {
   "cell_type": "markdown",
   "id": "unauthorized-hometown",
   "metadata": {},
   "source": [
    "### Split data for training and test"
   ]
  },
  {
   "cell_type": "markdown",
   "id": "signal-benefit",
   "metadata": {},
   "source": [
    "We have a small number of locations that have bike stations. First, we need to filter out any cell that does not have any stations."
   ]
  },
  {
   "cell_type": "code",
   "execution_count": 53,
   "id": "colored-standard",
   "metadata": {},
   "outputs": [],
   "source": [
    "X = df.iloc[:, 0:3].to_numpy()\n",
    "y = df.iloc[:,3].to_numpy()\n",
    "\n",
    "X_train, X_test, y_train, y_test = train_test_split(X, y, test_size=0.3, random_state=42)"
   ]
  },
  {
   "cell_type": "markdown",
   "id": "pressed-valentine",
   "metadata": {},
   "source": [
    "### Perform Feature Scaling"
   ]
  },
  {
   "cell_type": "markdown",
   "id": "entire-spencer",
   "metadata": {},
   "source": [
    "## Defining Models"
   ]
  },
  {
   "cell_type": "code",
   "execution_count": 86,
   "id": "smaller-objective",
   "metadata": {},
   "outputs": [],
   "source": [
    "#Random Forest Classifier\n",
    "rf_model = RandomForestRegressor(\n",
    "    n_estimators=30,\n",
    "    criterion='mae',\n",
    "    max_depth=10,\n",
    "    min_samples_split=2,\n",
    "    min_samples_leaf=1,\n",
    "    max_features='auto',\n",
    "    max_leaf_nodes=None,\n",
    "    bootstrap=True,\n",
    ")"
   ]
  },
  {
   "cell_type": "markdown",
   "id": "ignored-astrology",
   "metadata": {},
   "source": [
    "## Training our Random Forest Model"
   ]
  },
  {
   "cell_type": "code",
   "execution_count": 87,
   "id": "static-analyst",
   "metadata": {},
   "outputs": [],
   "source": [
    "rf_model.fit(X_train, y_train)\n",
    "y_pred = rf_model.predict(X_test)"
   ]
  },
  {
   "cell_type": "code",
   "execution_count": 88,
   "id": "raised-cloud",
   "metadata": {},
   "outputs": [
    {
     "name": "stdout",
     "output_type": "stream",
     "text": [
      "Mean Absolute Error: 138.06231884057976\n",
      "Mean Squared Error: 28805.089033816428\n",
      "Root Mean Squared Error: 169.7206205321452\n"
     ]
    }
   ],
   "source": [
    "print('Mean Absolute Error:', metrics.mean_absolute_error(y_test, y_pred))\n",
    "print('Mean Squared Error:', metrics.mean_squared_error(y_test, y_pred))\n",
    "print('Root Mean Squared Error:', np.sqrt(metrics.mean_squared_error(y_test, y_pred)))"
   ]
  },
  {
   "cell_type": "code",
   "execution_count": 89,
   "id": "lucky-russian",
   "metadata": {},
   "outputs": [
    {
     "data": {
      "image/png": "[encoded data removed]",
      "text/plain": [
       "<Figure size 432x288 with 1 Axes>"
      ]
     },
     "metadata": {
      "needs_background": "light"
     },
     "output_type": "display_data"
    }
   ],
   "source": [
    "#given that we are predicting yearly demand, 170 bikes is not too bad.\n",
    "plt.scatter(y_test, y_pred, s=1); plt.show()"
   ]
  },
  {
   "cell_type": "code",
   "execution_count": 90,
   "id": "norwegian-stereo",
   "metadata": {},
   "outputs": [
    {
     "data": {
      "image/png": "[encoded data removed]",
      "text/plain": [
       "<Figure size 288x288 with 1 Axes>"
      ]
     },
     "metadata": {
      "needs_background": "light"
     },
     "output_type": "display_data"
    }
   ],
   "source": [
    "plt.matshow(df.corr())\n",
    "plt.show()"
   ]
  },
  {
   "cell_type": "code",
   "execution_count": 58,
   "id": "multiple-cricket",
   "metadata": {},
   "outputs": [
    {
     "data": {
      "text/plain": [
       "(300, 3)"
      ]
     },
     "execution_count": 58,
     "metadata": {},
     "output_type": "execute_result"
    }
   ],
   "source": [
    "X_train.shape"
   ]
  },
  {
   "cell_type": "code",
   "execution_count": null,
   "id": "minus-furniture",
   "metadata": {},
   "outputs": [],
   "source": []
  }
 ],
 "metadata": {
  "kernelspec": {
   "display_name": "Python 3",
   "language": "python",
   "name": "python3"
  },
  "language_info": {
   "codemirror_mode": {
    "name": "ipython",
    "version": 3
   },
   "file_extension": ".py",
   "mimetype": "text/x-python",
   "name": "python",
   "nbconvert_exporter": "python",
   "pygments_lexer": "ipython3",
   "version": "3.7.7"
  }
 },
 "nbformat": 4,
 "nbformat_minor": 5
}
