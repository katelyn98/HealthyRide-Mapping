{
 "cells": [
  {
   "cell_type": "code",
   "execution_count": 279,
   "id": "placed-cartridge",
   "metadata": {},
   "outputs": [],
   "source": [
    "import pandas as pd\n",
    "import numpy as np\n",
    "from sklearn.model_selection import train_test_split\n",
    "from sklearn.ensemble import RandomForestRegressor\n",
    "from sklearn.model_selection import StratifiedKFold\n",
    "from sklearn.preprocessing import StandardScaler\n",
    "from sklearn import preprocessing\n",
    "from sklearn import metrics"
   ]
  },
  {
   "cell_type": "markdown",
   "id": "competent-hacker",
   "metadata": {},
   "source": [
    "## Preprocessing Data"
   ]
  },
  {
   "cell_type": "markdown",
   "id": "destroyed-welsh",
   "metadata": {},
   "source": [
    "### Import data"
   ]
  },
  {
   "cell_type": "code",
   "execution_count": 280,
   "id": "naughty-rogers",
   "metadata": {},
   "outputs": [
    {
     "data": {
      "text/html": [
       "<div>\n",
       "<style scoped>\n",
       "    .dataframe tbody tr th:only-of-type {\n",
       "        vertical-align: middle;\n",
       "    }\n",
       "\n",
       "    .dataframe tbody tr th {\n",
       "        vertical-align: top;\n",
       "    }\n",
       "\n",
       "    .dataframe thead th {\n",
       "        text-align: right;\n",
       "    }\n",
       "</style>\n",
       "<table border=\"1\" class=\"dataframe\">\n",
       "  <thead>\n",
       "    <tr style=\"text-align: right;\">\n",
       "      <th></th>\n",
       "      <th>Unnamed: 0</th>\n",
       "      <th>cell_num</th>\n",
       "      <th>stations</th>\n",
       "      <th>ids</th>\n",
       "      <th>tractce10</th>\n",
       "      <th>total_households</th>\n",
       "      <th>median_hh_income</th>\n",
       "      <th>mean_hh_income</th>\n",
       "      <th>population_16yrs+</th>\n",
       "      <th>perc_employed</th>\n",
       "      <th>...</th>\n",
       "      <th>public_transit</th>\n",
       "      <th>walked</th>\n",
       "      <th>other</th>\n",
       "      <th>wfh</th>\n",
       "      <th>mean_travel_time_to_work</th>\n",
       "      <th>perc_public</th>\n",
       "      <th>perc_alone</th>\n",
       "      <th>perc_walk</th>\n",
       "      <th>perc_other</th>\n",
       "      <th>outflow</th>\n",
       "    </tr>\n",
       "  </thead>\n",
       "  <tbody>\n",
       "    <tr>\n",
       "      <th>0</th>\n",
       "      <td>0</td>\n",
       "      <td>51</td>\n",
       "      <td>0</td>\n",
       "      <td>set()</td>\n",
       "      <td>563000</td>\n",
       "      <td>1306</td>\n",
       "      <td>67409</td>\n",
       "      <td>69254</td>\n",
       "      <td>2660</td>\n",
       "      <td>0.634586</td>\n",
       "      <td>...</td>\n",
       "      <td>265</td>\n",
       "      <td>63</td>\n",
       "      <td>0</td>\n",
       "      <td>58</td>\n",
       "      <td>23</td>\n",
       "      <td>0.156342</td>\n",
       "      <td>0.638938</td>\n",
       "      <td>0.037168</td>\n",
       "      <td>0.0</td>\n",
       "      <td>0</td>\n",
       "    </tr>\n",
       "    <tr>\n",
       "      <th>1</th>\n",
       "      <td>1</td>\n",
       "      <td>52</td>\n",
       "      <td>0</td>\n",
       "      <td>set()</td>\n",
       "      <td>563000</td>\n",
       "      <td>1306</td>\n",
       "      <td>67409</td>\n",
       "      <td>69254</td>\n",
       "      <td>2660</td>\n",
       "      <td>0.634586</td>\n",
       "      <td>...</td>\n",
       "      <td>265</td>\n",
       "      <td>63</td>\n",
       "      <td>0</td>\n",
       "      <td>58</td>\n",
       "      <td>23</td>\n",
       "      <td>0.156342</td>\n",
       "      <td>0.638938</td>\n",
       "      <td>0.037168</td>\n",
       "      <td>0.0</td>\n",
       "      <td>0</td>\n",
       "    </tr>\n",
       "    <tr>\n",
       "      <th>2</th>\n",
       "      <td>2</td>\n",
       "      <td>82</td>\n",
       "      <td>0</td>\n",
       "      <td>set()</td>\n",
       "      <td>563000</td>\n",
       "      <td>1306</td>\n",
       "      <td>67409</td>\n",
       "      <td>69254</td>\n",
       "      <td>2660</td>\n",
       "      <td>0.634586</td>\n",
       "      <td>...</td>\n",
       "      <td>265</td>\n",
       "      <td>63</td>\n",
       "      <td>0</td>\n",
       "      <td>58</td>\n",
       "      <td>23</td>\n",
       "      <td>0.156342</td>\n",
       "      <td>0.638938</td>\n",
       "      <td>0.037168</td>\n",
       "      <td>0.0</td>\n",
       "      <td>0</td>\n",
       "    </tr>\n",
       "    <tr>\n",
       "      <th>3</th>\n",
       "      <td>3</td>\n",
       "      <td>83</td>\n",
       "      <td>0</td>\n",
       "      <td>set()</td>\n",
       "      <td>563000</td>\n",
       "      <td>1306</td>\n",
       "      <td>67409</td>\n",
       "      <td>69254</td>\n",
       "      <td>2660</td>\n",
       "      <td>0.634586</td>\n",
       "      <td>...</td>\n",
       "      <td>265</td>\n",
       "      <td>63</td>\n",
       "      <td>0</td>\n",
       "      <td>58</td>\n",
       "      <td>23</td>\n",
       "      <td>0.156342</td>\n",
       "      <td>0.638938</td>\n",
       "      <td>0.037168</td>\n",
       "      <td>0.0</td>\n",
       "      <td>0</td>\n",
       "    </tr>\n",
       "  </tbody>\n",
       "</table>\n",
       "<p>4 rows × 24 columns</p>\n",
       "</div>"
      ],
      "text/plain": [
       "   Unnamed: 0  cell_num  stations    ids  tractce10  total_households  \\\n",
       "0           0        51         0  set()     563000              1306   \n",
       "1           1        52         0  set()     563000              1306   \n",
       "2           2        82         0  set()     563000              1306   \n",
       "3           3        83         0  set()     563000              1306   \n",
       "\n",
       "  median_hh_income  mean_hh_income  population_16yrs+  perc_employed  ...  \\\n",
       "0            67409           69254               2660       0.634586  ...   \n",
       "1            67409           69254               2660       0.634586  ...   \n",
       "2            67409           69254               2660       0.634586  ...   \n",
       "3            67409           69254               2660       0.634586  ...   \n",
       "\n",
       "   public_transit  walked  other  wfh  mean_travel_time_to_work  perc_public  \\\n",
       "0             265      63      0   58                        23     0.156342   \n",
       "1             265      63      0   58                        23     0.156342   \n",
       "2             265      63      0   58                        23     0.156342   \n",
       "3             265      63      0   58                        23     0.156342   \n",
       "\n",
       "   perc_alone  perc_walk  perc_other  outflow  \n",
       "0    0.638938   0.037168         0.0        0  \n",
       "1    0.638938   0.037168         0.0        0  \n",
       "2    0.638938   0.037168         0.0        0  \n",
       "3    0.638938   0.037168         0.0        0  \n",
       "\n",
       "[4 rows x 24 columns]"
      ]
     },
     "execution_count": 280,
     "metadata": {},
     "output_type": "execute_result"
    }
   ],
   "source": [
    "df = pd.read_csv('../Data/PGH/DemandPrediction/pgh_grid_census.csv')\n",
    "df.head(4)"
   ]
  },
  {
   "cell_type": "code",
   "execution_count": 281,
   "id": "together-boost",
   "metadata": {},
   "outputs": [
    {
     "data": {
      "text/plain": [
       "Index(['Unnamed: 0', 'cell_num', 'stations', 'ids', 'tractce10',\n",
       "       'total_households', 'median_hh_income', 'mean_hh_income',\n",
       "       'population_16yrs+', 'perc_employed', 'perc_unemployed',\n",
       "       'Workers_16yrs+', 'own_alone', 'carpool', 'public_transit', 'walked',\n",
       "       'other', 'wfh', 'mean_travel_time_to_work', 'perc_public', 'perc_alone',\n",
       "       'perc_walk', 'perc_other', 'outflow'],\n",
       "      dtype='object')"
      ]
     },
     "execution_count": 281,
     "metadata": {},
     "output_type": "execute_result"
    }
   ],
   "source": [
    "df.columns"
   ]
  },
  {
   "cell_type": "markdown",
   "id": "gothic-former",
   "metadata": {},
   "source": [
    "### Fix Tract Feature for Label Encoding"
   ]
  },
  {
   "cell_type": "code",
   "execution_count": 282,
   "id": "second-omega",
   "metadata": {},
   "outputs": [],
   "source": [
    "#fix tract number for PGH\n",
    "df['tractce10'] = df.tractce10.astype(str)\n",
    "\n",
    "def fixtract(df, column):\n",
    "    for row, col in df.iterrows():\n",
    "        #fix census tract number\n",
    "        tract = df.loc[row][column]\n",
    "        if len(tract) < 6:\n",
    "            tract = '0' + tract\n",
    "        df.at[row, column] = tract\n",
    "        \n",
    "    for row, col in df.iterrows():\n",
    "        for col in df.columns:\n",
    "            #check for invalid values\n",
    "            if df.loc[row][col] == '-' or pd.isna(df.loc[row][col]):\n",
    "                df.at[row, col] = 0\n",
    "            \n",
    "    return df\n",
    "\n",
    "df = fixtract(df, 'tractce10')"
   ]
  },
  {
   "cell_type": "markdown",
   "id": "quarterly-certificate",
   "metadata": {},
   "source": [
    "## Remove Some Features\n",
    "Removing 'Unnamed: 0', 'cell_num', and 'ids'"
   ]
  },
  {
   "cell_type": "code",
   "execution_count": 283,
   "id": "wicked-support",
   "metadata": {},
   "outputs": [],
   "source": [
    "df = df.drop(columns=['Unnamed: 0', 'cell_num', 'ids'])"
   ]
  },
  {
   "cell_type": "markdown",
   "id": "supposed-offering",
   "metadata": {},
   "source": [
    "### Encoding Census Tract feature"
   ]
  },
  {
   "cell_type": "code",
   "execution_count": 284,
   "id": "atmospheric-miniature",
   "metadata": {},
   "outputs": [],
   "source": [
    "le = preprocessing.LabelEncoder()\n",
    "le.fit(df['tractce10'])\n",
    "df['tractce10'] = le.transform(df['tractce10'])"
   ]
  },
  {
   "cell_type": "code",
   "execution_count": 285,
   "id": "adjacent-cholesterol",
   "metadata": {},
   "outputs": [
    {
     "data": {
      "text/html": [
       "<div>\n",
       "<style scoped>\n",
       "    .dataframe tbody tr th:only-of-type {\n",
       "        vertical-align: middle;\n",
       "    }\n",
       "\n",
       "    .dataframe tbody tr th {\n",
       "        vertical-align: top;\n",
       "    }\n",
       "\n",
       "    .dataframe thead th {\n",
       "        text-align: right;\n",
       "    }\n",
       "</style>\n",
       "<table border=\"1\" class=\"dataframe\">\n",
       "  <thead>\n",
       "    <tr style=\"text-align: right;\">\n",
       "      <th></th>\n",
       "      <th>stations</th>\n",
       "      <th>tractce10</th>\n",
       "      <th>total_households</th>\n",
       "      <th>median_hh_income</th>\n",
       "      <th>mean_hh_income</th>\n",
       "      <th>population_16yrs+</th>\n",
       "      <th>perc_employed</th>\n",
       "      <th>perc_unemployed</th>\n",
       "      <th>Workers_16yrs+</th>\n",
       "      <th>own_alone</th>\n",
       "      <th>...</th>\n",
       "      <th>public_transit</th>\n",
       "      <th>walked</th>\n",
       "      <th>other</th>\n",
       "      <th>wfh</th>\n",
       "      <th>mean_travel_time_to_work</th>\n",
       "      <th>perc_public</th>\n",
       "      <th>perc_alone</th>\n",
       "      <th>perc_walk</th>\n",
       "      <th>perc_other</th>\n",
       "      <th>outflow</th>\n",
       "    </tr>\n",
       "  </thead>\n",
       "  <tbody>\n",
       "    <tr>\n",
       "      <th>0</th>\n",
       "      <td>0</td>\n",
       "      <td>117</td>\n",
       "      <td>1306</td>\n",
       "      <td>67409</td>\n",
       "      <td>69254</td>\n",
       "      <td>2660</td>\n",
       "      <td>0.634586</td>\n",
       "      <td>0.04812</td>\n",
       "      <td>1695</td>\n",
       "      <td>1083</td>\n",
       "      <td>...</td>\n",
       "      <td>265</td>\n",
       "      <td>63</td>\n",
       "      <td>0</td>\n",
       "      <td>58</td>\n",
       "      <td>23</td>\n",
       "      <td>0.156342</td>\n",
       "      <td>0.638938</td>\n",
       "      <td>0.037168</td>\n",
       "      <td>0.0</td>\n",
       "      <td>0</td>\n",
       "    </tr>\n",
       "  </tbody>\n",
       "</table>\n",
       "<p>1 rows × 21 columns</p>\n",
       "</div>"
      ],
      "text/plain": [
       "   stations  tractce10  total_households median_hh_income  mean_hh_income  \\\n",
       "0         0        117              1306            67409           69254   \n",
       "\n",
       "   population_16yrs+  perc_employed  perc_unemployed  Workers_16yrs+  \\\n",
       "0               2660       0.634586          0.04812            1695   \n",
       "\n",
       "   own_alone  ...  public_transit  walked  other  wfh  \\\n",
       "0       1083  ...             265      63      0   58   \n",
       "\n",
       "   mean_travel_time_to_work  perc_public  perc_alone  perc_walk  perc_other  \\\n",
       "0                        23     0.156342    0.638938   0.037168         0.0   \n",
       "\n",
       "   outflow  \n",
       "0        0  \n",
       "\n",
       "[1 rows x 21 columns]"
      ]
     },
     "execution_count": 285,
     "metadata": {},
     "output_type": "execute_result"
    }
   ],
   "source": [
    "df.head(1)"
   ]
  },
  {
   "cell_type": "code",
   "execution_count": 286,
   "id": "polish-velvet",
   "metadata": {},
   "outputs": [],
   "source": [
    "# df['tractce10'] = le.inverse_transform(df['tractce10'])"
   ]
  },
  {
   "cell_type": "code",
   "execution_count": 287,
   "id": "acoustic-sweden",
   "metadata": {},
   "outputs": [],
   "source": [
    "# df.head(1)"
   ]
  },
  {
   "cell_type": "markdown",
   "id": "colored-sucking",
   "metadata": {},
   "source": [
    "### Split data for training and test"
   ]
  },
  {
   "cell_type": "markdown",
   "id": "dried-signature",
   "metadata": {},
   "source": [
    "We have a small number of locations that have bike stations. First, we need to filter out any cell that does not have any stations."
   ]
  },
  {
   "cell_type": "code",
   "execution_count": 288,
   "id": "coordinated-belle",
   "metadata": {},
   "outputs": [],
   "source": [
    "stations_df = df[df['stations'] > 0]\n",
    "\n",
    "#define the X and Y in our dataset\n",
    "X = stations_df.iloc[:, 0:20].values\n",
    "y = stations_df.iloc[:, 20].values\n",
    "\n",
    "# np.nan_to_num(X)\n",
    "\n",
    "X_train, X_test, y_train, y_test = train_test_split(X, y, test_size=0.30, random_state=42)"
   ]
  },
  {
   "cell_type": "markdown",
   "id": "differential-aggregate",
   "metadata": {},
   "source": [
    "### Perform Feature Scaling"
   ]
  },
  {
   "cell_type": "code",
   "execution_count": 289,
   "id": "intelligent-warrior",
   "metadata": {},
   "outputs": [],
   "source": [
    "# sc = StandardScaler()\n",
    "# X_train = sc.fit_transform(X_train)\n",
    "# X_test = sc.transform(X_test)"
   ]
  },
  {
   "cell_type": "markdown",
   "id": "instant-variable",
   "metadata": {},
   "source": [
    "## Defining Models"
   ]
  },
  {
   "cell_type": "code",
   "execution_count": 290,
   "id": "light-necklace",
   "metadata": {},
   "outputs": [],
   "source": [
    "#Random Forest Classifier\n",
    "rf_model = RandomForestRegressor(\n",
    "    n_estimators=150,\n",
    "    criterion='mae',\n",
    "    max_depth=5,\n",
    "    min_samples_split=2,\n",
    "    min_samples_leaf=1,\n",
    "    min_weight_fraction_leaf=0.0,\n",
    "    max_features='auto',\n",
    "    max_leaf_nodes=None,\n",
    "    bootstrap=True,\n",
    "    oob_score=False,\n",
    "    n_jobs=-1,\n",
    "    random_state=0,\n",
    "    verbose=0,\n",
    "    warm_start=False\n",
    ")"
   ]
  },
  {
   "cell_type": "markdown",
   "id": "narrative-encoding",
   "metadata": {},
   "source": [
    "## Training our Random Forest Model"
   ]
  },
  {
   "cell_type": "code",
   "execution_count": 291,
   "id": "thermal-storm",
   "metadata": {},
   "outputs": [],
   "source": [
    "rf_model.fit(X_train, y_train)\n",
    "y_pred = rf_model.predict(X_test)"
   ]
  },
  {
   "cell_type": "code",
   "execution_count": 292,
   "id": "parallel-information",
   "metadata": {},
   "outputs": [
    {
     "name": "stdout",
     "output_type": "stream",
     "text": [
      "Mean Absolute Error: 6690.431159420289\n",
      "Mean Squared Error: 108077496.10321012\n",
      "Root Mean Squared Error: 10396.03270979897\n"
     ]
    }
   ],
   "source": [
    "print('Mean Absolute Error:', metrics.mean_absolute_error(y_test, y_pred))\n",
    "print('Mean Squared Error:', metrics.mean_squared_error(y_test, y_pred))\n",
    "print('Root Mean Squared Error:', np.sqrt(metrics.mean_squared_error(y_test, y_pred)))"
   ]
  },
  {
   "cell_type": "code",
   "execution_count": null,
   "id": "thorough-extreme",
   "metadata": {},
   "outputs": [],
   "source": []
  }
 ],
 "metadata": {
  "kernelspec": {
   "display_name": "Python 3",
   "language": "python",
   "name": "python3"
  },
  "language_info": {
   "codemirror_mode": {
    "name": "ipython",
    "version": 3
   },
   "file_extension": ".py",
   "mimetype": "text/x-python",
   "name": "python",
   "nbconvert_exporter": "python",
   "pygments_lexer": "ipython3",
   "version": "3.7.7"
  }
 },
 "nbformat": 4,
 "nbformat_minor": 5
}
