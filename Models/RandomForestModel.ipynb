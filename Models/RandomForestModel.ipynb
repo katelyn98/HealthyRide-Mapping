{
 "cells": [
  {
   "cell_type": "code",
   "execution_count": 1,
   "id": "correct-singer",
   "metadata": {},
   "outputs": [],
   "source": [
    "import pandas as pd\n",
    "import numpy as np\n",
    "from sklearn.model_selection import train_test_split\n",
    "from sklearn.ensemble import RandomForestRegressor\n",
    "from sklearn.model_selection import StratifiedKFold\n",
    "from sklearn.preprocessing import StandardScaler\n",
    "from sklearn import preprocessing\n",
    "from sklearn.metrics import mean_squared_error\n",
    "import matplotlib.pyplot as plt\n",
    "from scipy import stats\n",
    "from sklearn import metrics"
   ]
  },
  {
   "cell_type": "markdown",
   "id": "fatal-cooperative",
   "metadata": {},
   "source": [
    "## Preprocessing Data"
   ]
  },
  {
   "cell_type": "markdown",
   "id": "induced-holder",
   "metadata": {},
   "source": [
    "### Import data"
   ]
  },
  {
   "cell_type": "code",
   "execution_count": 52,
   "id": "focused-carry",
   "metadata": {},
   "outputs": [
    {
     "data": {
      "text/html": [
       "<div>\n",
       "<style scoped>\n",
       "    .dataframe tbody tr th:only-of-type {\n",
       "        vertical-align: middle;\n",
       "    }\n",
       "\n",
       "    .dataframe tbody tr th {\n",
       "        vertical-align: top;\n",
       "    }\n",
       "\n",
       "    .dataframe thead th {\n",
       "        text-align: right;\n",
       "    }\n",
       "</style>\n",
       "<table border=\"1\" class=\"dataframe\">\n",
       "  <thead>\n",
       "    <tr style=\"text-align: right;\">\n",
       "      <th></th>\n",
       "      <th>Unnamed: 0</th>\n",
       "      <th>index</th>\n",
       "      <th>walk_score</th>\n",
       "      <th>bike_score</th>\n",
       "      <th>transit_score</th>\n",
       "      <th>temp</th>\n",
       "      <th>month</th>\n",
       "      <th>year</th>\n",
       "      <th>outflow</th>\n",
       "    </tr>\n",
       "  </thead>\n",
       "  <tbody>\n",
       "    <tr>\n",
       "      <th>0</th>\n",
       "      <td>0</td>\n",
       "      <td>38</td>\n",
       "      <td>76</td>\n",
       "      <td>82</td>\n",
       "      <td>86</td>\n",
       "      <td>73.0</td>\n",
       "      <td>JUL</td>\n",
       "      <td>2018</td>\n",
       "      <td>1</td>\n",
       "    </tr>\n",
       "    <tr>\n",
       "      <th>1</th>\n",
       "      <td>1</td>\n",
       "      <td>39</td>\n",
       "      <td>76</td>\n",
       "      <td>82</td>\n",
       "      <td>86</td>\n",
       "      <td>69.7</td>\n",
       "      <td>AUG</td>\n",
       "      <td>2018</td>\n",
       "      <td>0</td>\n",
       "    </tr>\n",
       "    <tr>\n",
       "      <th>2</th>\n",
       "      <td>2</td>\n",
       "      <td>40</td>\n",
       "      <td>76</td>\n",
       "      <td>82</td>\n",
       "      <td>86</td>\n",
       "      <td>53.4</td>\n",
       "      <td>SEP</td>\n",
       "      <td>2018</td>\n",
       "      <td>0</td>\n",
       "    </tr>\n",
       "    <tr>\n",
       "      <th>3</th>\n",
       "      <td>3</td>\n",
       "      <td>41</td>\n",
       "      <td>76</td>\n",
       "      <td>82</td>\n",
       "      <td>86</td>\n",
       "      <td>37.3</td>\n",
       "      <td>OCT</td>\n",
       "      <td>2018</td>\n",
       "      <td>0</td>\n",
       "    </tr>\n",
       "  </tbody>\n",
       "</table>\n",
       "</div>"
      ],
      "text/plain": [
       "   Unnamed: 0  index  walk_score  bike_score  transit_score  temp month  year  \\\n",
       "0           0     38          76          82             86  73.0   JUL  2018   \n",
       "1           1     39          76          82             86  69.7   AUG  2018   \n",
       "2           2     40          76          82             86  53.4   SEP  2018   \n",
       "3           3     41          76          82             86  37.3   OCT  2018   \n",
       "\n",
       "   outflow  \n",
       "0        1  \n",
       "1        0  \n",
       "2        0  \n",
       "3        0  "
      ]
     },
     "execution_count": 52,
     "metadata": {},
     "output_type": "execute_result"
    }
   ],
   "source": [
    "df = pd.read_csv('../Data/PGH/DemandPrediction/learning_set_unnormalized.csv')\n",
    "df.head(4)"
   ]
  },
  {
   "cell_type": "code",
   "execution_count": 53,
   "id": "suspended-frost",
   "metadata": {},
   "outputs": [
    {
     "name": "stdout",
     "output_type": "stream",
     "text": [
      "[1 0 0 ... 6 3 0]\n"
     ]
    },
    {
     "data": {
      "text/html": [
       "<div>\n",
       "<style scoped>\n",
       "    .dataframe tbody tr th:only-of-type {\n",
       "        vertical-align: middle;\n",
       "    }\n",
       "\n",
       "    .dataframe tbody tr th {\n",
       "        vertical-align: top;\n",
       "    }\n",
       "\n",
       "    .dataframe thead th {\n",
       "        text-align: right;\n",
       "    }\n",
       "</style>\n",
       "<table border=\"1\" class=\"dataframe\">\n",
       "  <thead>\n",
       "    <tr style=\"text-align: right;\">\n",
       "      <th></th>\n",
       "      <th>walk_score</th>\n",
       "      <th>bike_score</th>\n",
       "      <th>transit_score</th>\n",
       "      <th>temp</th>\n",
       "      <th>month_AUG</th>\n",
       "      <th>month_DEC</th>\n",
       "      <th>month_FEB</th>\n",
       "      <th>month_JAN</th>\n",
       "      <th>month_JUL</th>\n",
       "      <th>month_JUN</th>\n",
       "      <th>month_MAR</th>\n",
       "      <th>month_MAY</th>\n",
       "      <th>month_NOV</th>\n",
       "      <th>month_OCT</th>\n",
       "      <th>month_SEP</th>\n",
       "    </tr>\n",
       "  </thead>\n",
       "  <tbody>\n",
       "    <tr>\n",
       "      <th>0</th>\n",
       "      <td>76</td>\n",
       "      <td>82</td>\n",
       "      <td>86</td>\n",
       "      <td>73.0</td>\n",
       "      <td>0</td>\n",
       "      <td>0</td>\n",
       "      <td>0</td>\n",
       "      <td>0</td>\n",
       "      <td>1</td>\n",
       "      <td>0</td>\n",
       "      <td>0</td>\n",
       "      <td>0</td>\n",
       "      <td>0</td>\n",
       "      <td>0</td>\n",
       "      <td>0</td>\n",
       "    </tr>\n",
       "    <tr>\n",
       "      <th>1</th>\n",
       "      <td>76</td>\n",
       "      <td>82</td>\n",
       "      <td>86</td>\n",
       "      <td>69.7</td>\n",
       "      <td>1</td>\n",
       "      <td>0</td>\n",
       "      <td>0</td>\n",
       "      <td>0</td>\n",
       "      <td>0</td>\n",
       "      <td>0</td>\n",
       "      <td>0</td>\n",
       "      <td>0</td>\n",
       "      <td>0</td>\n",
       "      <td>0</td>\n",
       "      <td>0</td>\n",
       "    </tr>\n",
       "    <tr>\n",
       "      <th>2</th>\n",
       "      <td>76</td>\n",
       "      <td>82</td>\n",
       "      <td>86</td>\n",
       "      <td>53.4</td>\n",
       "      <td>0</td>\n",
       "      <td>0</td>\n",
       "      <td>0</td>\n",
       "      <td>0</td>\n",
       "      <td>0</td>\n",
       "      <td>0</td>\n",
       "      <td>0</td>\n",
       "      <td>0</td>\n",
       "      <td>0</td>\n",
       "      <td>0</td>\n",
       "      <td>1</td>\n",
       "    </tr>\n",
       "    <tr>\n",
       "      <th>3</th>\n",
       "      <td>76</td>\n",
       "      <td>82</td>\n",
       "      <td>86</td>\n",
       "      <td>37.3</td>\n",
       "      <td>0</td>\n",
       "      <td>0</td>\n",
       "      <td>0</td>\n",
       "      <td>0</td>\n",
       "      <td>0</td>\n",
       "      <td>0</td>\n",
       "      <td>0</td>\n",
       "      <td>0</td>\n",
       "      <td>0</td>\n",
       "      <td>1</td>\n",
       "      <td>0</td>\n",
       "    </tr>\n",
       "    <tr>\n",
       "      <th>4</th>\n",
       "      <td>76</td>\n",
       "      <td>82</td>\n",
       "      <td>86</td>\n",
       "      <td>34.9</td>\n",
       "      <td>0</td>\n",
       "      <td>0</td>\n",
       "      <td>0</td>\n",
       "      <td>0</td>\n",
       "      <td>0</td>\n",
       "      <td>0</td>\n",
       "      <td>0</td>\n",
       "      <td>0</td>\n",
       "      <td>1</td>\n",
       "      <td>0</td>\n",
       "      <td>0</td>\n",
       "    </tr>\n",
       "  </tbody>\n",
       "</table>\n",
       "</div>"
      ],
      "text/plain": [
       "   walk_score  bike_score  transit_score  temp  month_AUG  month_DEC  \\\n",
       "0          76          82             86  73.0          0          0   \n",
       "1          76          82             86  69.7          1          0   \n",
       "2          76          82             86  53.4          0          0   \n",
       "3          76          82             86  37.3          0          0   \n",
       "4          76          82             86  34.9          0          0   \n",
       "\n",
       "   month_FEB  month_JAN  month_JUL  month_JUN  month_MAR  month_MAY  \\\n",
       "0          0          0          1          0          0          0   \n",
       "1          0          0          0          0          0          0   \n",
       "2          0          0          0          0          0          0   \n",
       "3          0          0          0          0          0          0   \n",
       "4          0          0          0          0          0          0   \n",
       "\n",
       "   month_NOV  month_OCT  month_SEP  \n",
       "0          0          0          0  \n",
       "1          0          0          0  \n",
       "2          0          0          1  \n",
       "3          0          1          0  \n",
       "4          1          0          0  "
      ]
     },
     "execution_count": 53,
     "metadata": {},
     "output_type": "execute_result"
    }
   ],
   "source": [
    "df = df.drop(columns=['Unnamed: 0', 'index', 'year'])\n",
    "y = df.iloc[:,5].to_numpy()\n",
    "print(y)\n",
    "df = pd.get_dummies(df,columns=['month'],drop_first=True)\n",
    "df = df.drop(columns=['outflow'])\n",
    "df.head()"
   ]
  },
  {
   "cell_type": "code",
   "execution_count": 55,
   "id": "whole-effort",
   "metadata": {},
   "outputs": [],
   "source": [
    "#try to filter out outflow that is only greater than 0\n",
    "# df_filter = df[df['outflow']>0]\n",
    "# len(df_filter)"
   ]
  },
  {
   "cell_type": "code",
   "execution_count": null,
   "id": "checked-dating",
   "metadata": {},
   "outputs": [],
   "source": [
    "# len(df)"
   ]
  },
  {
   "cell_type": "code",
   "execution_count": null,
   "id": "infinite-throw",
   "metadata": {},
   "outputs": [],
   "source": [
    "# plt.scatter(df_filter['bike_score'], df_filter['outflow'], s=1); plt.show()"
   ]
  },
  {
   "cell_type": "markdown",
   "id": "built-grade",
   "metadata": {},
   "source": [
    "### Split data for training and test"
   ]
  },
  {
   "cell_type": "markdown",
   "id": "graduate-syntax",
   "metadata": {},
   "source": [
    "We have a small number of locations that have bike stations. First, we need to filter out any cell that does not have any stations."
   ]
  },
  {
   "cell_type": "code",
   "execution_count": 56,
   "id": "dried-jewel",
   "metadata": {},
   "outputs": [],
   "source": [
    "X = df.iloc[:, :].to_numpy() #only use this line if using the first and second code cell\n",
    "\n",
    "X_train, X_test, y_train, y_test = train_test_split(X, y, test_size=0.3, random_state=42)"
   ]
  },
  {
   "cell_type": "markdown",
   "id": "undefined-universal",
   "metadata": {},
   "source": [
    "### Perform Feature Scaling"
   ]
  },
  {
   "cell_type": "markdown",
   "id": "hungry-belle",
   "metadata": {},
   "source": [
    "## Defining Models\n",
    "Code from https://towardsdatascience.com/end-to-end-case-study-bike-sharing-demand-dataset-53201926c8db"
   ]
  },
  {
   "cell_type": "code",
   "execution_count": 57,
   "id": "surprising-opposition",
   "metadata": {},
   "outputs": [],
   "source": [
    "#Decision Tree\n",
    "from sklearn.tree import DecisionTreeRegressor\n",
    "dt = DecisionTreeRegressor(random_state=0)\n",
    "dt_params = {'max_depth':np.arange(1,50,2),'min_samples_leaf':np.arange(2,15)}\n",
    "\n",
    "from sklearn.model_selection import GridSearchCV\n",
    "gs_dt = GridSearchCV(dt,dt_params,cv=3)\n",
    "gs_dt.fit(X_train,y_train)\n",
    "a = gs_dt.best_params_"
   ]
  },
  {
   "cell_type": "code",
   "execution_count": 58,
   "id": "greek-japanese",
   "metadata": {},
   "outputs": [
    {
     "name": "stdout",
     "output_type": "stream",
     "text": [
      "RMLSE for the data: 0.967499242676143\n"
     ]
    }
   ],
   "source": [
    "from sklearn.tree import DecisionTreeRegressor\n",
    "dtr=DecisionTreeRegressor(max_depth=a['max_depth'],min_samples_leaf= a['min_samples_leaf'])\n",
    "model = dtr.fit(X_train,y_train)\n",
    "y_pred = model.predict(X_test)\n",
    "\n",
    "from sklearn.metrics import mean_squared_log_error\n",
    "msle=mean_squared_log_error(y_pred,y_test)\n",
    "rmsle=np.sqrt(msle)\n",
    "print('RMLSE for the data:',rmsle) # For decision tree"
   ]
  },
  {
   "cell_type": "code",
   "execution_count": 59,
   "id": "preliminary-organ",
   "metadata": {},
   "outputs": [
    {
     "data": {
      "image/png": "[encoded data removed]",
      "text/plain": [
       "<Figure size 432x288 with 1 Axes>"
      ]
     },
     "metadata": {
      "needs_background": "light"
     },
     "output_type": "display_data"
    }
   ],
   "source": [
    "plt.scatter(y_test, y_pred)\n",
    "plt.show()"
   ]
  },
  {
   "cell_type": "code",
   "execution_count": 60,
   "id": "manufactured-isolation",
   "metadata": {},
   "outputs": [],
   "source": [
    "#Random Forest\n",
    "rf = RandomForestRegressor(random_state=0)\n",
    "rf_params = {'n_estimators':np.arange(25,150,25),'max_depth':np.arange(1,11,2),'min_samples_leaf':np.arange(2,15,3)}\n",
    "\n",
    "from sklearn.model_selection import GridSearchCV\n",
    "gs_rf = GridSearchCV(rf,rf_params,cv=3)\n",
    "gs_rf.fit(X_train,y_train)\n",
    "b = gs_rf.best_params_"
   ]
  },
  {
   "cell_type": "code",
   "execution_count": 61,
   "id": "recorded-accounting",
   "metadata": {},
   "outputs": [
    {
     "name": "stdout",
     "output_type": "stream",
     "text": [
      "RMLSE for the data: 0.9136267247059643\n"
     ]
    }
   ],
   "source": [
    "RF = RandomForestRegressor(n_estimators=b['n_estimators'],max_depth=b['max_depth'],min_samples_leaf=b['min_samples_leaf'],random_state=0)\n",
    "model = RF.fit(X_train,y_train)\n",
    "y_pred = model.predict(X_test)\n",
    "\n",
    "from sklearn.metrics import mean_squared_log_error\n",
    "msle=mean_squared_log_error(y_pred,y_test)\n",
    "rmsle=np.sqrt(msle)\n",
    "print('RMLSE for the data:',rmsle) # For random forest"
   ]
  },
  {
   "cell_type": "code",
   "execution_count": 62,
   "id": "injured-circumstances",
   "metadata": {},
   "outputs": [
    {
     "data": {
      "image/png": "[encoded data removed]",
      "text/plain": [
       "<Figure size 432x288 with 1 Axes>"
      ]
     },
     "metadata": {
      "needs_background": "light"
     },
     "output_type": "display_data"
    }
   ],
   "source": [
    "plt.scatter(y_test, y_pred)\n",
    "plt.show()"
   ]
  },
  {
   "cell_type": "code",
   "execution_count": 63,
   "id": "creative-steering",
   "metadata": {},
   "outputs": [],
   "source": [
    "#Adaboost Regressor\n",
    "from sklearn.ensemble import AdaBoostRegressor\n",
    "ar = AdaBoostRegressor(base_estimator=RF,random_state=0)\n",
    "ar_params = {'n_estimators':np.arange(25,200,25)}\n",
    "\n",
    "gs_ar = GridSearchCV(ar,ar_params,cv=3)\n",
    "gs_ar.fit(X_train,y_train)\n",
    "c = gs_ar.best_params_"
   ]
  },
  {
   "cell_type": "code",
   "execution_count": 64,
   "id": "variable-yield",
   "metadata": {},
   "outputs": [
    {
     "name": "stdout",
     "output_type": "stream",
     "text": [
      "RMSLE for the data: 0.9723812764755068\n"
     ]
    }
   ],
   "source": [
    "ab_rf = AdaBoostRegressor(base_estimator=RF,n_estimators=c['n_estimators'],random_state=0)\n",
    "model = ab_rf.fit(X_train,y_train)\n",
    "y_pred = model.predict(X_test)\n",
    "\n",
    "from sklearn.metrics import mean_squared_log_error\n",
    "msle=mean_squared_log_error(y_pred,y_test)\n",
    "rmsle=np.sqrt(msle)\n",
    "print('RMSLE for the data:',rmsle) # For Ada-Boost"
   ]
  },
  {
   "cell_type": "code",
   "execution_count": 65,
   "id": "descending-climate",
   "metadata": {},
   "outputs": [
    {
     "data": {
      "image/png": "[encoded data removed]",
      "text/plain": [
       "<Figure size 432x288 with 1 Axes>"
      ]
     },
     "metadata": {
      "needs_background": "light"
     },
     "output_type": "display_data"
    }
   ],
   "source": [
    "plt.scatter(y_test, y_pred)\n",
    "plt.show()"
   ]
  },
  {
   "cell_type": "markdown",
   "id": "initial-gibraltar",
   "metadata": {},
   "source": [
    "----"
   ]
  },
  {
   "cell_type": "code",
   "execution_count": 77,
   "id": "integrated-original",
   "metadata": {},
   "outputs": [
    {
     "data": {
      "text/html": [
       "<div>\n",
       "<style scoped>\n",
       "    .dataframe tbody tr th:only-of-type {\n",
       "        vertical-align: middle;\n",
       "    }\n",
       "\n",
       "    .dataframe tbody tr th {\n",
       "        vertical-align: top;\n",
       "    }\n",
       "\n",
       "    .dataframe thead th {\n",
       "        text-align: right;\n",
       "    }\n",
       "</style>\n",
       "<table border=\"1\" class=\"dataframe\">\n",
       "  <thead>\n",
       "    <tr style=\"text-align: right;\">\n",
       "      <th></th>\n",
       "      <th>walk_score</th>\n",
       "      <th>bike_score</th>\n",
       "      <th>transit_score</th>\n",
       "      <th>temp</th>\n",
       "      <th>outflow</th>\n",
       "    </tr>\n",
       "  </thead>\n",
       "  <tbody>\n",
       "    <tr>\n",
       "      <th>0</th>\n",
       "      <td>76</td>\n",
       "      <td>82</td>\n",
       "      <td>86</td>\n",
       "      <td>73.0</td>\n",
       "      <td>1</td>\n",
       "    </tr>\n",
       "    <tr>\n",
       "      <th>1</th>\n",
       "      <td>76</td>\n",
       "      <td>82</td>\n",
       "      <td>86</td>\n",
       "      <td>69.7</td>\n",
       "      <td>0</td>\n",
       "    </tr>\n",
       "    <tr>\n",
       "      <th>2</th>\n",
       "      <td>76</td>\n",
       "      <td>82</td>\n",
       "      <td>86</td>\n",
       "      <td>53.4</td>\n",
       "      <td>0</td>\n",
       "    </tr>\n",
       "    <tr>\n",
       "      <th>3</th>\n",
       "      <td>76</td>\n",
       "      <td>82</td>\n",
       "      <td>86</td>\n",
       "      <td>37.3</td>\n",
       "      <td>0</td>\n",
       "    </tr>\n",
       "    <tr>\n",
       "      <th>4</th>\n",
       "      <td>76</td>\n",
       "      <td>82</td>\n",
       "      <td>86</td>\n",
       "      <td>34.9</td>\n",
       "      <td>0</td>\n",
       "    </tr>\n",
       "  </tbody>\n",
       "</table>\n",
       "</div>"
      ],
      "text/plain": [
       "   walk_score  bike_score  transit_score  temp  outflow\n",
       "0          76          82             86  73.0        1\n",
       "1          76          82             86  69.7        0\n",
       "2          76          82             86  53.4        0\n",
       "3          76          82             86  37.3        0\n",
       "4          76          82             86  34.9        0"
      ]
     },
     "execution_count": 77,
     "metadata": {},
     "output_type": "execute_result"
    }
   ],
   "source": [
    "df = pd.read_csv('../Data/PGH/DemandPrediction/learning_set_unnormalized.csv')\n",
    "df = df.drop(columns=['Unnamed: 0', 'index', 'year', 'month'])\n",
    "df.head()"
   ]
  },
  {
   "cell_type": "code",
   "execution_count": 78,
   "id": "south-rapid",
   "metadata": {},
   "outputs": [],
   "source": [
    "X = df.iloc[:, :4].to_numpy()\n",
    "y = df.iloc[:,4].to_numpy() #add this line only if you did not define y in the second code cell make sure to change the values\n",
    "\n",
    "X_train, X_test, y_train, y_test = train_test_split(X, y, test_size=0.3, random_state=42)"
   ]
  },
  {
   "cell_type": "code",
   "execution_count": 79,
   "id": "blocked-cartridge",
   "metadata": {},
   "outputs": [
    {
     "data": {
      "text/plain": [
       "array([1, 0, 0, ..., 6, 3, 0])"
      ]
     },
     "execution_count": 79,
     "metadata": {},
     "output_type": "execute_result"
    }
   ],
   "source": [
    "y = df.iloc[:,4].to_numpy()\n",
    "y"
   ]
  },
  {
   "cell_type": "code",
   "execution_count": 80,
   "id": "fluid-economy",
   "metadata": {},
   "outputs": [
    {
     "name": "stdout",
     "output_type": "stream",
     "text": [
      "RMLSE for the data: 0.9259338465657602\n"
     ]
    }
   ],
   "source": [
    "#Decision Tree\n",
    "from sklearn.tree import DecisionTreeRegressor\n",
    "from sklearn.model_selection import GridSearchCV\n",
    "\n",
    "dt = DecisionTreeRegressor(random_state=0)\n",
    "dt_params = {'max_depth':np.arange(1,50,2),'min_samples_leaf':np.arange(2,15)}\n",
    "\n",
    "gs_dt = GridSearchCV(dt,dt_params,cv=3)\n",
    "gs_dt.fit(X_train,y_train)\n",
    "a = gs_dt.best_params_\n",
    "\n",
    "dtr=DecisionTreeRegressor(max_depth=a['max_depth'],min_samples_leaf= a['min_samples_leaf'])\n",
    "model = dtr.fit(X_train,y_train)\n",
    "y_pred = model.predict(X_test)\n",
    "\n",
    "from sklearn.metrics import mean_squared_log_error\n",
    "msle=mean_squared_log_error(y_pred,y_test)\n",
    "rmsle=np.sqrt(msle)\n",
    "print('RMLSE for the data:',rmsle) # For decision tree"
   ]
  },
  {
   "cell_type": "code",
   "execution_count": 81,
   "id": "bearing-sapphire",
   "metadata": {},
   "outputs": [
    {
     "data": {
      "text/plain": [
       "121.76271186440678"
      ]
     },
     "execution_count": 81,
     "metadata": {},
     "output_type": "execute_result"
    }
   ],
   "source": [
    "np.mean(y_test)"
   ]
  },
  {
   "cell_type": "code",
   "execution_count": 82,
   "id": "spare-cruise",
   "metadata": {},
   "outputs": [
    {
     "name": "stdout",
     "output_type": "stream",
     "text": [
      "RMLSE for the data: 0.9131260289911332\n"
     ]
    }
   ],
   "source": [
    "#Random Forest\n",
    "rf = RandomForestRegressor(random_state=0)\n",
    "rf_params = {'n_estimators':np.arange(25,150,25),'max_depth':np.arange(1,11,2),'min_samples_leaf':np.arange(2,15,3)}\n",
    "\n",
    "gs_rf = GridSearchCV(rf,rf_params,cv=3)\n",
    "gs_rf.fit(X_train,y_train)\n",
    "b = gs_rf.best_params_\n",
    "\n",
    "RF = RandomForestRegressor(n_estimators=b['n_estimators'],max_depth=b['max_depth'],min_samples_leaf=b['min_samples_leaf'],random_state=0)\n",
    "model = RF.fit(X_train,y_train)\n",
    "y_pred = model.predict(X_test)\n",
    "\n",
    "msle=mean_squared_log_error(y_pred,y_test)\n",
    "rmsle=np.sqrt(msle)\n",
    "print('RMLSE for the data:',rmsle) # For random forest"
   ]
  },
  {
   "cell_type": "code",
   "execution_count": 83,
   "id": "small-democrat",
   "metadata": {},
   "outputs": [
    {
     "data": {
      "text/plain": [
       "121.76271186440678"
      ]
     },
     "execution_count": 83,
     "metadata": {},
     "output_type": "execute_result"
    }
   ],
   "source": [
    "np.mean(y_test)"
   ]
  },
  {
   "cell_type": "code",
   "execution_count": 84,
   "id": "touched-column",
   "metadata": {},
   "outputs": [
    {
     "name": "stdout",
     "output_type": "stream",
     "text": [
      "RMSLE for the data: 1.023791335332397\n"
     ]
    }
   ],
   "source": [
    "#Adaboost Regressor\n",
    "from sklearn.ensemble import AdaBoostRegressor\n",
    "ar = AdaBoostRegressor(base_estimator=RF,random_state=0)\n",
    "ar_params = {'n_estimators':np.arange(25,200,25)}\n",
    "\n",
    "gs_ar = GridSearchCV(ar,ar_params,cv=3)\n",
    "gs_ar.fit(X_train,y_train)\n",
    "c = gs_ar.best_params_\n",
    "\n",
    "ab_rf = AdaBoostRegressor(base_estimator=RF,n_estimators=c['n_estimators'],random_state=0)\n",
    "model = ab_rf.fit(X_train,y_train)\n",
    "y_pred = model.predict(X_test)\n",
    "\n",
    "msle=mean_squared_log_error(y_pred,y_test)\n",
    "rmsle=np.sqrt(msle)\n",
    "print('RMSLE for the data:',rmsle) # For Ada-Boost"
   ]
  },
  {
   "cell_type": "code",
   "execution_count": 85,
   "id": "occupational-harvey",
   "metadata": {},
   "outputs": [
    {
     "data": {
      "text/plain": [
       "121.76271186440678"
      ]
     },
     "execution_count": 85,
     "metadata": {},
     "output_type": "execute_result"
    }
   ],
   "source": [
    "np.mean(y_test)"
   ]
  },
  {
   "cell_type": "markdown",
   "id": "concerned-credits",
   "metadata": {},
   "source": [
    "|  | RMSLE|\n",
    "|:--:|:--:|\n",
    "|Decision Tree| 0.967|\n",
    "|Random Forest| 0.914|\n",
    "|AdaBoost| 0.972|\n",
    "\n",
    "when taking our month and year but leaving outflow == 0, the models get the following RMSLE:\n",
    "\n",
    "|  | RMSLE|\n",
    "|:--:|:--:|\n",
    "|Decision Tree| 0.268|\n",
    "|Random Forest| 0.265|\n",
    "|AdaBoost| 0.265|"
   ]
  },
  {
   "cell_type": "markdown",
   "id": "alien-military",
   "metadata": {},
   "source": [
    "Trying a different verison of Df"
   ]
  },
  {
   "cell_type": "code",
   "execution_count": 86,
   "id": "mobile-major",
   "metadata": {},
   "outputs": [
    {
     "name": "stdout",
     "output_type": "stream",
     "text": [
      "RMLSE for the data: 0.7884859620609537\n"
     ]
    }
   ],
   "source": [
    "df = pd.read_csv('../Data/PGH/DemandPrediction/learning_set_unnormalized.csv')\n",
    "df = df.drop(columns=['Unnamed: 0', 'index', 'month', 'year'])\n",
    "\n",
    "df_filter = df[df['outflow']>0]\n",
    "\n",
    "X = df_filter.iloc[:, :4].to_numpy()\n",
    "y = df_filter.iloc[:,4].to_numpy()\n",
    "\n",
    "X_train, X_test, y_train, y_test = train_test_split(X, y, test_size=0.3, random_state=42)\n",
    "\n",
    "#Random Forest\n",
    "rf = RandomForestRegressor(random_state=0)\n",
    "rf_params = {'n_estimators':np.arange(25,150,25),'max_depth':np.arange(1,11,2),'min_samples_leaf':np.arange(2,15,3)}\n",
    "\n",
    "gs_rf = GridSearchCV(rf,rf_params,cv=3)\n",
    "gs_rf.fit(X_train,y_train)\n",
    "b = gs_rf.best_params_\n",
    "\n",
    "RF = RandomForestRegressor(n_estimators=b['n_estimators'],max_depth=b['max_depth'],min_samples_leaf=b['min_samples_leaf'],random_state=0)\n",
    "model = RF.fit(X_train,y_train)\n",
    "y_pred = model.predict(X_test)\n",
    "\n",
    "msle=mean_squared_log_error(y_pred,y_test)\n",
    "rmsle=np.sqrt(msle)\n",
    "print('RMLSE for the data:',rmsle)"
   ]
  },
  {
   "cell_type": "markdown",
   "id": "major-lucas",
   "metadata": {},
   "source": [
    "import plotly.express as px\n",
    "\n",
    "fig = px.scatter(df, y_test, y_pred, labels={'x':'ground truth', \n",
    "                          'y': 'predicted demand'},title=\"Random Forest\")\n",
    "fig.show()"
   ]
  },
  {
   "cell_type": "code",
   "execution_count": 28,
   "id": "wrong-corpus",
   "metadata": {},
   "outputs": [
    {
     "data": {
      "image/png": "[encoded data removed]",
      "text/plain": [
       "<Figure size 288x288 with 1 Axes>"
      ]
     },
     "metadata": {
      "needs_background": "light"
     },
     "output_type": "display_data"
    }
   ],
   "source": [
    "plt.matshow(df.corr())\n",
    "plt.show()"
   ]
  },
  {
   "cell_type": "markdown",
   "id": "applied-solid",
   "metadata": {},
   "source": [
    "___"
   ]
  },
  {
   "cell_type": "markdown",
   "id": "powered-manitoba",
   "metadata": {},
   "source": [
    "Using data set with spatial attributes - i.e. number of stations and station capacity"
   ]
  },
  {
   "cell_type": "code",
   "execution_count": 30,
   "id": "resistant-personality",
   "metadata": {},
   "outputs": [
    {
     "data": {
      "text/html": [
       "<div>\n",
       "<style scoped>\n",
       "    .dataframe tbody tr th:only-of-type {\n",
       "        vertical-align: middle;\n",
       "    }\n",
       "\n",
       "    .dataframe tbody tr th {\n",
       "        vertical-align: top;\n",
       "    }\n",
       "\n",
       "    .dataframe thead th {\n",
       "        text-align: right;\n",
       "    }\n",
       "</style>\n",
       "<table border=\"1\" class=\"dataframe\">\n",
       "  <thead>\n",
       "    <tr style=\"text-align: right;\">\n",
       "      <th></th>\n",
       "      <th>stations</th>\n",
       "      <th>capacity</th>\n",
       "      <th>walk_score</th>\n",
       "      <th>bike_score</th>\n",
       "      <th>transit_score</th>\n",
       "      <th>temp</th>\n",
       "      <th>outflow</th>\n",
       "    </tr>\n",
       "  </thead>\n",
       "  <tbody>\n",
       "    <tr>\n",
       "      <th>0</th>\n",
       "      <td>1</td>\n",
       "      <td>10</td>\n",
       "      <td>76</td>\n",
       "      <td>82</td>\n",
       "      <td>86</td>\n",
       "      <td>73.0</td>\n",
       "      <td>1</td>\n",
       "    </tr>\n",
       "    <tr>\n",
       "      <th>1</th>\n",
       "      <td>1</td>\n",
       "      <td>10</td>\n",
       "      <td>76</td>\n",
       "      <td>82</td>\n",
       "      <td>86</td>\n",
       "      <td>69.7</td>\n",
       "      <td>0</td>\n",
       "    </tr>\n",
       "    <tr>\n",
       "      <th>2</th>\n",
       "      <td>1</td>\n",
       "      <td>10</td>\n",
       "      <td>76</td>\n",
       "      <td>82</td>\n",
       "      <td>86</td>\n",
       "      <td>53.4</td>\n",
       "      <td>0</td>\n",
       "    </tr>\n",
       "    <tr>\n",
       "      <th>3</th>\n",
       "      <td>1</td>\n",
       "      <td>10</td>\n",
       "      <td>76</td>\n",
       "      <td>82</td>\n",
       "      <td>86</td>\n",
       "      <td>37.3</td>\n",
       "      <td>0</td>\n",
       "    </tr>\n",
       "  </tbody>\n",
       "</table>\n",
       "</div>"
      ],
      "text/plain": [
       "   stations  capacity  walk_score  bike_score  transit_score  temp  outflow\n",
       "0         1        10          76          82             86  73.0        1\n",
       "1         1        10          76          82             86  69.7        0\n",
       "2         1        10          76          82             86  53.4        0\n",
       "3         1        10          76          82             86  37.3        0"
      ]
     },
     "execution_count": 30,
     "metadata": {},
     "output_type": "execute_result"
    }
   ],
   "source": [
    "df = pd.read_csv('../Data/PGH/DemandPrediction/learning_set_spatial.csv')\n",
    "df = df.drop(columns=['Unnamed: 0', 'index', 'year', 'month'])\n",
    "df.head(4)"
   ]
  },
  {
   "cell_type": "code",
   "execution_count": 46,
   "id": "junior-boutique",
   "metadata": {},
   "outputs": [],
   "source": [
    "X = df.iloc[:, :6].to_numpy()\n",
    "y = df.iloc[:,6].to_numpy()\n",
    "\n",
    "X_train, X_test, y_train, y_test = train_test_split(X, y, test_size=0.3, random_state=42)"
   ]
  },
  {
   "cell_type": "code",
   "execution_count": 45,
   "id": "organic-analyst",
   "metadata": {},
   "outputs": [
    {
     "data": {
      "text/plain": [
       "array([1, 0, 0, ..., 6, 3, 0])"
      ]
     },
     "execution_count": 45,
     "metadata": {},
     "output_type": "execute_result"
    }
   ],
   "source": [
    "y = df.iloc[:,6].to_numpy()\n",
    "y"
   ]
  },
  {
   "cell_type": "code",
   "execution_count": 47,
   "id": "proper-youth",
   "metadata": {},
   "outputs": [
    {
     "name": "stdout",
     "output_type": "stream",
     "text": [
      "RMLSE for the data: 0.8150899831554358\n"
     ]
    }
   ],
   "source": [
    "from sklearn.tree import DecisionTreeRegressor\n",
    "from sklearn.model_selection import GridSearchCV\n",
    "\n",
    "dt = DecisionTreeRegressor(random_state=0)\n",
    "dt_params = {'max_depth':np.arange(1,50,2),'min_samples_leaf':np.arange(2,15)}\n",
    "\n",
    "gs_dt = GridSearchCV(dt,dt_params,cv=3)\n",
    "gs_dt.fit(X_train,y_train)\n",
    "a = gs_dt.best_params_\n",
    "\n",
    "dtr=DecisionTreeRegressor(max_depth=a['max_depth'],min_samples_leaf= a['min_samples_leaf'])\n",
    "model = dtr.fit(X_train,y_train)\n",
    "y_pred = model.predict(X_test)\n",
    "\n",
    "from sklearn.metrics import mean_squared_log_error\n",
    "msle=mean_squared_log_error(y_pred,y_test)\n",
    "rmsle=np.sqrt(msle)\n",
    "print('RMLSE for the data:',rmsle) # For decision tree"
   ]
  },
  {
   "cell_type": "code",
   "execution_count": 48,
   "id": "casual-carpet",
   "metadata": {},
   "outputs": [
    {
     "data": {
      "text/plain": [
       "121.76271186440678"
      ]
     },
     "execution_count": 48,
     "metadata": {},
     "output_type": "execute_result"
    }
   ],
   "source": [
    "np.mean(y_test)"
   ]
  },
  {
   "cell_type": "code",
   "execution_count": 49,
   "id": "arranged-preservation",
   "metadata": {},
   "outputs": [
    {
     "data": {
      "image/png": "[encoded data removed]",
      "text/plain": [
       "<Figure size 432x288 with 1 Axes>"
      ]
     },
     "metadata": {
      "needs_background": "light"
     },
     "output_type": "display_data"
    }
   ],
   "source": [
    "plt.scatter(y_test, y_pred)\n",
    "plt.show()"
   ]
  },
  {
   "cell_type": "code",
   "execution_count": 50,
   "id": "compatible-trick",
   "metadata": {},
   "outputs": [
    {
     "name": "stdout",
     "output_type": "stream",
     "text": [
      "RMLSE for the data: 0.8043421418992356\n"
     ]
    }
   ],
   "source": [
    "#Random Forest\n",
    "rf = RandomForestRegressor(random_state=0)\n",
    "rf_params = {'n_estimators':np.arange(25,150,25),'max_depth':np.arange(1,11,2),'min_samples_leaf':np.arange(2,15,3)}\n",
    "\n",
    "gs_rf = GridSearchCV(rf,rf_params,cv=3)\n",
    "gs_rf.fit(X_train,y_train)\n",
    "b = gs_rf.best_params_\n",
    "\n",
    "RF = RandomForestRegressor(n_estimators=b['n_estimators'],max_depth=b['max_depth'],min_samples_leaf=b['min_samples_leaf'],random_state=0)\n",
    "model = RF.fit(X_train,y_train)\n",
    "y_pred = model.predict(X_test)\n",
    "\n",
    "msle=mean_squared_log_error(y_pred,y_test)\n",
    "rmsle=np.sqrt(msle)\n",
    "print('RMLSE for the data:',rmsle) # For random forest"
   ]
  },
  {
   "cell_type": "code",
   "execution_count": 51,
   "id": "satisfactory-inflation",
   "metadata": {},
   "outputs": [
    {
     "name": "stdout",
     "output_type": "stream",
     "text": [
      "RMSLE for the data: 0.9498907600309728\n"
     ]
    }
   ],
   "source": [
    "#Adaboost Regressor\n",
    "from sklearn.ensemble import AdaBoostRegressor\n",
    "ar = AdaBoostRegressor(base_estimator=RF,random_state=0)\n",
    "ar_params = {'n_estimators':np.arange(25,200,25)}\n",
    "\n",
    "gs_ar = GridSearchCV(ar,ar_params,cv=3)\n",
    "gs_ar.fit(X_train,y_train)\n",
    "c = gs_ar.best_params_\n",
    "\n",
    "ab_rf = AdaBoostRegressor(base_estimator=RF,n_estimators=c['n_estimators'],random_state=0)\n",
    "model = ab_rf.fit(X_train,y_train)\n",
    "y_pred = model.predict(X_test)\n",
    "\n",
    "msle=mean_squared_log_error(y_pred,y_test)\n",
    "rmsle=np.sqrt(msle)\n",
    "print('RMSLE for the data:',rmsle) # For Ada-Boost"
   ]
  },
  {
   "cell_type": "markdown",
   "id": "wired-assumption",
   "metadata": {},
   "source": [
    "---"
   ]
  },
  {
   "cell_type": "markdown",
   "id": "floppy-james",
   "metadata": {},
   "source": [
    "Getting rid of capacity and just leaving stations"
   ]
  },
  {
   "cell_type": "code",
   "execution_count": 69,
   "id": "engaging-influence",
   "metadata": {},
   "outputs": [
    {
     "data": {
      "text/html": [
       "<div>\n",
       "<style scoped>\n",
       "    .dataframe tbody tr th:only-of-type {\n",
       "        vertical-align: middle;\n",
       "    }\n",
       "\n",
       "    .dataframe tbody tr th {\n",
       "        vertical-align: top;\n",
       "    }\n",
       "\n",
       "    .dataframe thead th {\n",
       "        text-align: right;\n",
       "    }\n",
       "</style>\n",
       "<table border=\"1\" class=\"dataframe\">\n",
       "  <thead>\n",
       "    <tr style=\"text-align: right;\">\n",
       "      <th></th>\n",
       "      <th>stations</th>\n",
       "      <th>walk_score</th>\n",
       "      <th>bike_score</th>\n",
       "      <th>transit_score</th>\n",
       "      <th>temp</th>\n",
       "      <th>outflow</th>\n",
       "    </tr>\n",
       "  </thead>\n",
       "  <tbody>\n",
       "    <tr>\n",
       "      <th>0</th>\n",
       "      <td>1</td>\n",
       "      <td>76</td>\n",
       "      <td>82</td>\n",
       "      <td>86</td>\n",
       "      <td>73.0</td>\n",
       "      <td>1</td>\n",
       "    </tr>\n",
       "    <tr>\n",
       "      <th>1</th>\n",
       "      <td>1</td>\n",
       "      <td>76</td>\n",
       "      <td>82</td>\n",
       "      <td>86</td>\n",
       "      <td>69.7</td>\n",
       "      <td>0</td>\n",
       "    </tr>\n",
       "    <tr>\n",
       "      <th>2</th>\n",
       "      <td>1</td>\n",
       "      <td>76</td>\n",
       "      <td>82</td>\n",
       "      <td>86</td>\n",
       "      <td>53.4</td>\n",
       "      <td>0</td>\n",
       "    </tr>\n",
       "    <tr>\n",
       "      <th>3</th>\n",
       "      <td>1</td>\n",
       "      <td>76</td>\n",
       "      <td>82</td>\n",
       "      <td>86</td>\n",
       "      <td>37.3</td>\n",
       "      <td>0</td>\n",
       "    </tr>\n",
       "  </tbody>\n",
       "</table>\n",
       "</div>"
      ],
      "text/plain": [
       "   stations  walk_score  bike_score  transit_score  temp  outflow\n",
       "0         1          76          82             86  73.0        1\n",
       "1         1          76          82             86  69.7        0\n",
       "2         1          76          82             86  53.4        0\n",
       "3         1          76          82             86  37.3        0"
      ]
     },
     "execution_count": 69,
     "metadata": {},
     "output_type": "execute_result"
    }
   ],
   "source": [
    "df = pd.read_csv('../Data/PGH/DemandPrediction/learning_set_spatial.csv')\n",
    "df = df.drop(columns=['Unnamed: 0', 'capacity','index', 'year', 'month'])\n",
    "df.head(4)"
   ]
  },
  {
   "cell_type": "code",
   "execution_count": 73,
   "id": "inappropriate-gilbert",
   "metadata": {},
   "outputs": [],
   "source": [
    "X = df.iloc[:, :5].to_numpy()\n",
    "y = df.iloc[:,5].to_numpy()\n",
    "\n",
    "X_train, X_test, y_train, y_test = train_test_split(X, y, test_size=0.3, random_state=42)"
   ]
  },
  {
   "cell_type": "code",
   "execution_count": 71,
   "id": "posted-carroll",
   "metadata": {},
   "outputs": [
    {
     "name": "stdout",
     "output_type": "stream",
     "text": [
      "RMLSE for the data: 0.9035244129283913\n",
      "121.76271186440678\n"
     ]
    }
   ],
   "source": [
    "from sklearn.tree import DecisionTreeRegressor\n",
    "from sklearn.model_selection import GridSearchCV\n",
    "\n",
    "dt = DecisionTreeRegressor(random_state=0)\n",
    "dt_params = {'max_depth':np.arange(1,50,2),'min_samples_leaf':np.arange(2,15)}\n",
    "\n",
    "gs_dt = GridSearchCV(dt,dt_params,cv=3)\n",
    "gs_dt.fit(X_train,y_train)\n",
    "a = gs_dt.best_params_\n",
    "\n",
    "dtr=DecisionTreeRegressor(max_depth=a['max_depth'],min_samples_leaf= a['min_samples_leaf'])\n",
    "model = dtr.fit(X_train,y_train)\n",
    "y_pred = model.predict(X_test)\n",
    "\n",
    "from sklearn.metrics import mean_squared_log_error\n",
    "msle=mean_squared_log_error(y_pred,y_test)\n",
    "rmsle=np.sqrt(msle)\n",
    "print('RMLSE for the data:',rmsle) # For decision tree\n",
    "print(np.mean(y_test))"
   ]
  },
  {
   "cell_type": "code",
   "execution_count": 75,
   "id": "alleged-malawi",
   "metadata": {},
   "outputs": [
    {
     "name": "stdout",
     "output_type": "stream",
     "text": [
      "RMLSE for the data: 0.8910642894916045\n",
      "121.76271186440678\n"
     ]
    }
   ],
   "source": [
    "#Random Forest\n",
    "rf = RandomForestRegressor(random_state=0)\n",
    "rf_params = {'n_estimators':np.arange(25,150,25),'max_depth':np.arange(1,11,2),'min_samples_leaf':np.arange(2,15,3)}\n",
    "\n",
    "gs_rf = GridSearchCV(rf,rf_params,cv=3)\n",
    "gs_rf.fit(X_train,y_train)\n",
    "b = gs_rf.best_params_\n",
    "\n",
    "RF = RandomForestRegressor(n_estimators=b['n_estimators'],max_depth=b['max_depth'],min_samples_leaf=b['min_samples_leaf'],random_state=0)\n",
    "model = RF.fit(X_train,y_train)\n",
    "y_pred = model.predict(X_test)\n",
    "\n",
    "msle=mean_squared_log_error(y_pred,y_test)\n",
    "rmsle=np.sqrt(msle)\n",
    "print('RMLSE for the data:',rmsle) # For random forest\n",
    "print(np.mean(y_test))"
   ]
  },
  {
   "cell_type": "code",
   "execution_count": 76,
   "id": "directed-account",
   "metadata": {},
   "outputs": [
    {
     "name": "stdout",
     "output_type": "stream",
     "text": [
      "RMSLE for the data: 1.0124966738506869\n",
      "121.76271186440678\n"
     ]
    }
   ],
   "source": [
    "#Adaboost Regressor\n",
    "from sklearn.ensemble import AdaBoostRegressor\n",
    "ar = AdaBoostRegressor(base_estimator=RF,random_state=0)\n",
    "ar_params = {'n_estimators':np.arange(25,200,25)}\n",
    "\n",
    "gs_ar = GridSearchCV(ar,ar_params,cv=3)\n",
    "gs_ar.fit(X_train,y_train)\n",
    "c = gs_ar.best_params_\n",
    "\n",
    "ab_rf = AdaBoostRegressor(base_estimator=RF,n_estimators=c['n_estimators'],random_state=0)\n",
    "model = ab_rf.fit(X_train,y_train)\n",
    "y_pred = model.predict(X_test)\n",
    "\n",
    "msle=mean_squared_log_error(y_pred,y_test)\n",
    "rmsle=np.sqrt(msle)\n",
    "print('RMSLE for the data:',rmsle) # For Ada-Boost\n",
    "print(np.mean(y_test))"
   ]
  },
  {
   "cell_type": "markdown",
   "id": "cooked-machine",
   "metadata": {},
   "source": [
    "----"
   ]
  },
  {
   "cell_type": "markdown",
   "id": "acting-validity",
   "metadata": {},
   "source": [
    "### Spataially sensitive training set"
   ]
  },
  {
   "cell_type": "code",
   "execution_count": 103,
   "id": "automated-delivery",
   "metadata": {},
   "outputs": [
    {
     "data": {
      "text/html": [
       "<div>\n",
       "<style scoped>\n",
       "    .dataframe tbody tr th:only-of-type {\n",
       "        vertical-align: middle;\n",
       "    }\n",
       "\n",
       "    .dataframe tbody tr th {\n",
       "        vertical-align: top;\n",
       "    }\n",
       "\n",
       "    .dataframe thead th {\n",
       "        text-align: right;\n",
       "    }\n",
       "</style>\n",
       "<table border=\"1\" class=\"dataframe\">\n",
       "  <thead>\n",
       "    <tr style=\"text-align: right;\">\n",
       "      <th></th>\n",
       "      <th>stations</th>\n",
       "      <th>walk_score</th>\n",
       "      <th>bike_score</th>\n",
       "      <th>transit_score</th>\n",
       "      <th>temp</th>\n",
       "      <th>N</th>\n",
       "      <th>S</th>\n",
       "      <th>E</th>\n",
       "      <th>W</th>\n",
       "      <th>NW</th>\n",
       "      <th>NE</th>\n",
       "      <th>SW</th>\n",
       "      <th>SE</th>\n",
       "      <th>nearby_routes</th>\n",
       "    </tr>\n",
       "  </thead>\n",
       "  <tbody>\n",
       "    <tr>\n",
       "      <th>0</th>\n",
       "      <td>1</td>\n",
       "      <td>76</td>\n",
       "      <td>82</td>\n",
       "      <td>86</td>\n",
       "      <td>73.0</td>\n",
       "      <td>0</td>\n",
       "      <td>0</td>\n",
       "      <td>0</td>\n",
       "      <td>0</td>\n",
       "      <td>0</td>\n",
       "      <td>0</td>\n",
       "      <td>0</td>\n",
       "      <td>0</td>\n",
       "      <td>63</td>\n",
       "    </tr>\n",
       "    <tr>\n",
       "      <th>1</th>\n",
       "      <td>1</td>\n",
       "      <td>76</td>\n",
       "      <td>82</td>\n",
       "      <td>86</td>\n",
       "      <td>69.7</td>\n",
       "      <td>0</td>\n",
       "      <td>0</td>\n",
       "      <td>0</td>\n",
       "      <td>0</td>\n",
       "      <td>0</td>\n",
       "      <td>0</td>\n",
       "      <td>0</td>\n",
       "      <td>0</td>\n",
       "      <td>63</td>\n",
       "    </tr>\n",
       "    <tr>\n",
       "      <th>2</th>\n",
       "      <td>1</td>\n",
       "      <td>76</td>\n",
       "      <td>82</td>\n",
       "      <td>86</td>\n",
       "      <td>53.4</td>\n",
       "      <td>3</td>\n",
       "      <td>0</td>\n",
       "      <td>0</td>\n",
       "      <td>0</td>\n",
       "      <td>0</td>\n",
       "      <td>3</td>\n",
       "      <td>0</td>\n",
       "      <td>0</td>\n",
       "      <td>63</td>\n",
       "    </tr>\n",
       "    <tr>\n",
       "      <th>3</th>\n",
       "      <td>1</td>\n",
       "      <td>76</td>\n",
       "      <td>82</td>\n",
       "      <td>86</td>\n",
       "      <td>37.3</td>\n",
       "      <td>3</td>\n",
       "      <td>0</td>\n",
       "      <td>0</td>\n",
       "      <td>0</td>\n",
       "      <td>0</td>\n",
       "      <td>3</td>\n",
       "      <td>0</td>\n",
       "      <td>0</td>\n",
       "      <td>63</td>\n",
       "    </tr>\n",
       "    <tr>\n",
       "      <th>4</th>\n",
       "      <td>1</td>\n",
       "      <td>76</td>\n",
       "      <td>82</td>\n",
       "      <td>86</td>\n",
       "      <td>34.9</td>\n",
       "      <td>3</td>\n",
       "      <td>0</td>\n",
       "      <td>0</td>\n",
       "      <td>0</td>\n",
       "      <td>0</td>\n",
       "      <td>3</td>\n",
       "      <td>0</td>\n",
       "      <td>0</td>\n",
       "      <td>63</td>\n",
       "    </tr>\n",
       "  </tbody>\n",
       "</table>\n",
       "</div>"
      ],
      "text/plain": [
       "   stations  walk_score  bike_score  transit_score  temp  N  S  E  W  NW  NE  \\\n",
       "0         1          76          82             86  73.0  0  0  0  0   0   0   \n",
       "1         1          76          82             86  69.7  0  0  0  0   0   0   \n",
       "2         1          76          82             86  53.4  3  0  0  0   0   3   \n",
       "3         1          76          82             86  37.3  3  0  0  0   0   3   \n",
       "4         1          76          82             86  34.9  3  0  0  0   0   3   \n",
       "\n",
       "   SW  SE  nearby_routes  \n",
       "0   0   0             63  \n",
       "1   0   0             63  \n",
       "2   0   0             63  \n",
       "3   0   0             63  \n",
       "4   0   0             63  "
      ]
     },
     "execution_count": 103,
     "metadata": {},
     "output_type": "execute_result"
    }
   ],
   "source": [
    "df = pd.read_csv('../Data/PGH/DemandPrediction/spatially_sensitive_train.csv')\n",
    "df = df.drop(columns=['Unnamed: 0', 'capacity','index', 'year', 'month', 'stationList', 'cell_num', 'nearby'])\n",
    "\n",
    "#labels\n",
    "y = df['outflow'].values\n",
    "df = df.drop(columns=['outflow'])\n",
    "X = df.iloc[:, :].to_numpy()\n",
    "\n",
    "df.head(5)"
   ]
  },
  {
   "cell_type": "code",
   "execution_count": 104,
   "id": "conservative-spring",
   "metadata": {},
   "outputs": [
    {
     "data": {
      "text/plain": [
       "array([1, 0, 0, ..., 6, 3, 0])"
      ]
     },
     "execution_count": 104,
     "metadata": {},
     "output_type": "execute_result"
    }
   ],
   "source": [
    "y"
   ]
  },
  {
   "cell_type": "code",
   "execution_count": 105,
   "id": "present-humanitarian",
   "metadata": {},
   "outputs": [
    {
     "data": {
      "text/plain": [
       "array([[ 1., 76., 82., ...,  0.,  0., 63.],\n",
       "       [ 1., 76., 82., ...,  0.,  0., 63.],\n",
       "       [ 1., 76., 82., ...,  0.,  0., 63.],\n",
       "       ...,\n",
       "       [ 1., 60., 74., ...,  0.,  0., 26.],\n",
       "       [ 1., 60., 74., ...,  0.,  0., 26.],\n",
       "       [ 1., 60., 74., ...,  0.,  0., 26.]])"
      ]
     },
     "execution_count": 105,
     "metadata": {},
     "output_type": "execute_result"
    }
   ],
   "source": [
    "X"
   ]
  },
  {
   "cell_type": "code",
   "execution_count": 106,
   "id": "stock-twist",
   "metadata": {},
   "outputs": [],
   "source": [
    "X_train, X_test, y_train, y_test = train_test_split(X, y, test_size=0.3, random_state=42)"
   ]
  },
  {
   "cell_type": "code",
   "execution_count": 110,
   "id": "funded-arcade",
   "metadata": {},
   "outputs": [
    {
     "name": "stdout",
     "output_type": "stream",
     "text": [
      "RMLSE for the data: 0.8832232814410339\n",
      "124.61115830863774\n"
     ]
    }
   ],
   "source": [
    "from sklearn.tree import DecisionTreeRegressor\n",
    "from sklearn.model_selection import GridSearchCV\n",
    "\n",
    "dt = DecisionTreeRegressor(random_state=0)\n",
    "dt_params = {'max_depth':np.arange(1,50,2),'min_samples_leaf':np.arange(2,15)}\n",
    "\n",
    "gs_dt = GridSearchCV(dt,dt_params,cv=3)\n",
    "gs_dt.fit(X_train,y_train)\n",
    "a = gs_dt.best_params_\n",
    "\n",
    "dtr=DecisionTreeRegressor(max_depth=a['max_depth'],min_samples_leaf= a['min_samples_leaf'])\n",
    "model = dtr.fit(X_train,y_train)\n",
    "y_pred = model.predict(X_test)\n",
    "\n",
    "from sklearn.metrics import mean_squared_log_error\n",
    "msle=mean_squared_log_error(y_pred,y_test)\n",
    "rmsle=np.sqrt(msle)\n",
    "print('RMLSE for the data:',rmsle) # For decision tree\n",
    "print(np.mean(y_pred))"
   ]
  },
  {
   "cell_type": "code",
   "execution_count": 111,
   "id": "corrected-lithuania",
   "metadata": {},
   "outputs": [
    {
     "name": "stdout",
     "output_type": "stream",
     "text": [
      "RMLSE for the data: 0.878890196310382\n",
      "122.39902834270788\n"
     ]
    }
   ],
   "source": [
    "#Random Forest\n",
    "rf = RandomForestRegressor(random_state=0)\n",
    "rf_params = {'n_estimators':np.arange(25,150,25),'max_depth':np.arange(1,11,2),'min_samples_leaf':np.arange(2,15,3)}\n",
    "\n",
    "gs_rf = GridSearchCV(rf,rf_params,cv=3)\n",
    "gs_rf.fit(X_train,y_train)\n",
    "b = gs_rf.best_params_\n",
    "\n",
    "RF = RandomForestRegressor(n_estimators=b['n_estimators'],max_depth=b['max_depth'],min_samples_leaf=b['min_samples_leaf'],random_state=0)\n",
    "model = RF.fit(X_train,y_train)\n",
    "y_pred = model.predict(X_test)\n",
    "\n",
    "msle=mean_squared_log_error(y_pred,y_test)\n",
    "rmsle=np.sqrt(msle)\n",
    "print('RMLSE for the data:',rmsle) # For random forest\n",
    "print(np.mean(y_pred))"
   ]
  },
  {
   "cell_type": "code",
   "execution_count": 112,
   "id": "respected-flash",
   "metadata": {},
   "outputs": [
    {
     "name": "stdout",
     "output_type": "stream",
     "text": [
      "RMSLE for the data: 0.9952237597397655\n",
      "132.9048977833412\n"
     ]
    }
   ],
   "source": [
    "#Adaboost Regressor\n",
    "from sklearn.ensemble import AdaBoostRegressor\n",
    "ar = AdaBoostRegressor(base_estimator=RF,random_state=0)\n",
    "ar_params = {'n_estimators':np.arange(25,200,25)}\n",
    "\n",
    "gs_ar = GridSearchCV(ar,ar_params,cv=3)\n",
    "gs_ar.fit(X_train,y_train)\n",
    "c = gs_ar.best_params_\n",
    "\n",
    "ab_rf = AdaBoostRegressor(base_estimator=RF,n_estimators=c['n_estimators'],random_state=0)\n",
    "model = ab_rf.fit(X_train,y_train)\n",
    "y_pred = model.predict(X_test)\n",
    "\n",
    "msle=mean_squared_log_error(y_pred,y_test)\n",
    "rmsle=np.sqrt(msle)\n",
    "print('RMSLE for the data:',rmsle) # For Ada-Boost\n",
    "print(np.mean(y_pred))"
   ]
  },
  {
   "cell_type": "code",
   "execution_count": null,
   "id": "defensive-environment",
   "metadata": {},
   "outputs": [],
   "source": []
  }
 ],
 "metadata": {
  "kernelspec": {
   "display_name": "Python 3",
   "language": "python",
   "name": "python3"
  },
  "language_info": {
   "codemirror_mode": {
    "name": "ipython",
    "version": 3
   },
   "file_extension": ".py",
   "mimetype": "text/x-python",
   "name": "python",
   "nbconvert_exporter": "python",
   "pygments_lexer": "ipython3",
   "version": "3.7.7"
  }
 },
 "nbformat": 4,
 "nbformat_minor": 5
}
