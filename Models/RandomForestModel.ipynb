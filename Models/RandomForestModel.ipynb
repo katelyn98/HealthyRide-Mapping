{
 "cells": [
  {
   "cell_type": "code",
   "execution_count": 321,
   "id": "noticed-location",
   "metadata": {},
   "outputs": [],
   "source": [
    "import pandas as pd\n",
    "import numpy as np\n",
    "from sklearn.model_selection import train_test_split\n",
    "from sklearn.ensemble import RandomForestRegressor\n",
    "from sklearn.model_selection import StratifiedKFold\n",
    "from sklearn.preprocessing import StandardScaler\n",
    "from sklearn import preprocessing\n",
    "from sklearn.metrics import mean_squared_error\n",
    "import matplotlib.pyplot as plt\n",
    "from scipy import stats\n",
    "from sklearn import metrics"
   ]
  },
  {
   "cell_type": "markdown",
   "id": "golden-roads",
   "metadata": {},
   "source": [
    "## Preprocessing Data"
   ]
  },
  {
   "cell_type": "markdown",
   "id": "equal-phoenix",
   "metadata": {},
   "source": [
    "### Import data"
   ]
  },
  {
   "cell_type": "code",
   "execution_count": 322,
   "id": "excellent-bolivia",
   "metadata": {},
   "outputs": [
    {
     "data": {
      "text/html": [
       "<div>\n",
       "<style scoped>\n",
       "    .dataframe tbody tr th:only-of-type {\n",
       "        vertical-align: middle;\n",
       "    }\n",
       "\n",
       "    .dataframe tbody tr th {\n",
       "        vertical-align: top;\n",
       "    }\n",
       "\n",
       "    .dataframe thead th {\n",
       "        text-align: right;\n",
       "    }\n",
       "</style>\n",
       "<table border=\"1\" class=\"dataframe\">\n",
       "  <thead>\n",
       "    <tr style=\"text-align: right;\">\n",
       "      <th></th>\n",
       "      <th>Unnamed: 0</th>\n",
       "      <th>total_households</th>\n",
       "      <th>median_hh_income</th>\n",
       "      <th>mean_hh_income</th>\n",
       "      <th>population_16yrs+</th>\n",
       "      <th>in_labor_force</th>\n",
       "      <th>civ_labor_force</th>\n",
       "      <th>employed</th>\n",
       "      <th>unemployed</th>\n",
       "      <th>perc_employed</th>\n",
       "      <th>...</th>\n",
       "      <th>wfh</th>\n",
       "      <th>mean_travel_time_to_work</th>\n",
       "      <th>perc_public</th>\n",
       "      <th>perc_alone</th>\n",
       "      <th>perc_walk</th>\n",
       "      <th>perc_other</th>\n",
       "      <th>2018_outflow</th>\n",
       "      <th>2019_outflow</th>\n",
       "      <th>2020_outflow</th>\n",
       "      <th>pred_outflow</th>\n",
       "    </tr>\n",
       "  </thead>\n",
       "  <tbody>\n",
       "    <tr>\n",
       "      <th>0</th>\n",
       "      <td>0</td>\n",
       "      <td>1306</td>\n",
       "      <td>67409</td>\n",
       "      <td>69254</td>\n",
       "      <td>2660</td>\n",
       "      <td>1845</td>\n",
       "      <td>1816</td>\n",
       "      <td>1688</td>\n",
       "      <td>128</td>\n",
       "      <td>0.634586</td>\n",
       "      <td>...</td>\n",
       "      <td>58</td>\n",
       "      <td>23</td>\n",
       "      <td>0.156342</td>\n",
       "      <td>0.638938</td>\n",
       "      <td>0.037168</td>\n",
       "      <td>0.0</td>\n",
       "      <td>0</td>\n",
       "      <td>0</td>\n",
       "      <td>0</td>\n",
       "      <td>78</td>\n",
       "    </tr>\n",
       "    <tr>\n",
       "      <th>1</th>\n",
       "      <td>1</td>\n",
       "      <td>1306</td>\n",
       "      <td>67409</td>\n",
       "      <td>69254</td>\n",
       "      <td>2660</td>\n",
       "      <td>1845</td>\n",
       "      <td>1816</td>\n",
       "      <td>1688</td>\n",
       "      <td>128</td>\n",
       "      <td>0.634586</td>\n",
       "      <td>...</td>\n",
       "      <td>58</td>\n",
       "      <td>23</td>\n",
       "      <td>0.156342</td>\n",
       "      <td>0.638938</td>\n",
       "      <td>0.037168</td>\n",
       "      <td>0.0</td>\n",
       "      <td>0</td>\n",
       "      <td>0</td>\n",
       "      <td>0</td>\n",
       "      <td>78</td>\n",
       "    </tr>\n",
       "    <tr>\n",
       "      <th>2</th>\n",
       "      <td>2</td>\n",
       "      <td>1306</td>\n",
       "      <td>67409</td>\n",
       "      <td>69254</td>\n",
       "      <td>2660</td>\n",
       "      <td>1845</td>\n",
       "      <td>1816</td>\n",
       "      <td>1688</td>\n",
       "      <td>128</td>\n",
       "      <td>0.634586</td>\n",
       "      <td>...</td>\n",
       "      <td>58</td>\n",
       "      <td>23</td>\n",
       "      <td>0.156342</td>\n",
       "      <td>0.638938</td>\n",
       "      <td>0.037168</td>\n",
       "      <td>0.0</td>\n",
       "      <td>0</td>\n",
       "      <td>0</td>\n",
       "      <td>0</td>\n",
       "      <td>78</td>\n",
       "    </tr>\n",
       "    <tr>\n",
       "      <th>3</th>\n",
       "      <td>3</td>\n",
       "      <td>1306</td>\n",
       "      <td>67409</td>\n",
       "      <td>69254</td>\n",
       "      <td>2660</td>\n",
       "      <td>1845</td>\n",
       "      <td>1816</td>\n",
       "      <td>1688</td>\n",
       "      <td>128</td>\n",
       "      <td>0.634586</td>\n",
       "      <td>...</td>\n",
       "      <td>58</td>\n",
       "      <td>23</td>\n",
       "      <td>0.156342</td>\n",
       "      <td>0.638938</td>\n",
       "      <td>0.037168</td>\n",
       "      <td>0.0</td>\n",
       "      <td>0</td>\n",
       "      <td>0</td>\n",
       "      <td>0</td>\n",
       "      <td>78</td>\n",
       "    </tr>\n",
       "  </tbody>\n",
       "</table>\n",
       "<p>4 rows × 27 columns</p>\n",
       "</div>"
      ],
      "text/plain": [
       "   Unnamed: 0  total_households median_hh_income  mean_hh_income  \\\n",
       "0           0              1306            67409           69254   \n",
       "1           1              1306            67409           69254   \n",
       "2           2              1306            67409           69254   \n",
       "3           3              1306            67409           69254   \n",
       "\n",
       "   population_16yrs+  in_labor_force  civ_labor_force  employed  unemployed  \\\n",
       "0               2660            1845             1816      1688         128   \n",
       "1               2660            1845             1816      1688         128   \n",
       "2               2660            1845             1816      1688         128   \n",
       "3               2660            1845             1816      1688         128   \n",
       "\n",
       "   perc_employed  ...  wfh  mean_travel_time_to_work  perc_public  perc_alone  \\\n",
       "0       0.634586  ...   58                        23     0.156342    0.638938   \n",
       "1       0.634586  ...   58                        23     0.156342    0.638938   \n",
       "2       0.634586  ...   58                        23     0.156342    0.638938   \n",
       "3       0.634586  ...   58                        23     0.156342    0.638938   \n",
       "\n",
       "   perc_walk  perc_other  2018_outflow  2019_outflow  2020_outflow  \\\n",
       "0   0.037168         0.0             0             0             0   \n",
       "1   0.037168         0.0             0             0             0   \n",
       "2   0.037168         0.0             0             0             0   \n",
       "3   0.037168         0.0             0             0             0   \n",
       "\n",
       "   pred_outflow  \n",
       "0            78  \n",
       "1            78  \n",
       "2            78  \n",
       "3            78  \n",
       "\n",
       "[4 rows x 27 columns]"
      ]
     },
     "execution_count": 322,
     "metadata": {},
     "output_type": "execute_result"
    }
   ],
   "source": [
    "df = pd.read_csv('../Data/PGH/DemandPrediction/ml_df.csv')\n",
    "df.head(4)"
   ]
  },
  {
   "cell_type": "code",
   "execution_count": 323,
   "id": "prostate-gravity",
   "metadata": {},
   "outputs": [
    {
     "data": {
      "text/plain": [
       "Index(['Unnamed: 0', 'total_households', 'median_hh_income', 'mean_hh_income',\n",
       "       'population_16yrs+', 'in_labor_force', 'civ_labor_force', 'employed',\n",
       "       'unemployed', 'perc_employed', 'perc_unemployed', 'Workers_16yrs+',\n",
       "       'own_alone', 'carpool', 'public_transit', 'walked', 'other', 'wfh',\n",
       "       'mean_travel_time_to_work', 'perc_public', 'perc_alone', 'perc_walk',\n",
       "       'perc_other', '2018_outflow', '2019_outflow', '2020_outflow',\n",
       "       'pred_outflow'],\n",
       "      dtype='object')"
      ]
     },
     "execution_count": 323,
     "metadata": {},
     "output_type": "execute_result"
    }
   ],
   "source": [
    "df.columns"
   ]
  },
  {
   "cell_type": "markdown",
   "id": "proud-appeal",
   "metadata": {},
   "source": [
    "## Remove Some Features"
   ]
  },
  {
   "cell_type": "code",
   "execution_count": 324,
   "id": "flush-leonard",
   "metadata": {},
   "outputs": [
    {
     "data": {
      "text/html": [
       "<div>\n",
       "<style scoped>\n",
       "    .dataframe tbody tr th:only-of-type {\n",
       "        vertical-align: middle;\n",
       "    }\n",
       "\n",
       "    .dataframe tbody tr th {\n",
       "        vertical-align: top;\n",
       "    }\n",
       "\n",
       "    .dataframe thead th {\n",
       "        text-align: right;\n",
       "    }\n",
       "</style>\n",
       "<table border=\"1\" class=\"dataframe\">\n",
       "  <thead>\n",
       "    <tr style=\"text-align: right;\">\n",
       "      <th></th>\n",
       "      <th>total_households</th>\n",
       "      <th>population_16yrs+</th>\n",
       "      <th>Workers_16yrs+</th>\n",
       "      <th>pred_outflow</th>\n",
       "    </tr>\n",
       "  </thead>\n",
       "  <tbody>\n",
       "    <tr>\n",
       "      <th>0</th>\n",
       "      <td>1306</td>\n",
       "      <td>2660</td>\n",
       "      <td>1695</td>\n",
       "      <td>78</td>\n",
       "    </tr>\n",
       "    <tr>\n",
       "      <th>1</th>\n",
       "      <td>1306</td>\n",
       "      <td>2660</td>\n",
       "      <td>1695</td>\n",
       "      <td>78</td>\n",
       "    </tr>\n",
       "    <tr>\n",
       "      <th>2</th>\n",
       "      <td>1306</td>\n",
       "      <td>2660</td>\n",
       "      <td>1695</td>\n",
       "      <td>78</td>\n",
       "    </tr>\n",
       "    <tr>\n",
       "      <th>3</th>\n",
       "      <td>1306</td>\n",
       "      <td>2660</td>\n",
       "      <td>1695</td>\n",
       "      <td>78</td>\n",
       "    </tr>\n",
       "  </tbody>\n",
       "</table>\n",
       "</div>"
      ],
      "text/plain": [
       "   total_households  population_16yrs+  Workers_16yrs+  pred_outflow\n",
       "0              1306               2660            1695            78\n",
       "1              1306               2660            1695            78\n",
       "2              1306               2660            1695            78\n",
       "3              1306               2660            1695            78"
      ]
     },
     "execution_count": 324,
     "metadata": {},
     "output_type": "execute_result"
    }
   ],
   "source": [
    "df = df.drop(columns=['Unnamed: 0', 'median_hh_income','mean_hh_income','in_labor_force', 'civ_labor_force', \n",
    "                      'employed','unemployed', 'perc_employed', 'perc_unemployed','own_alone', \n",
    "                      'carpool', 'public_transit', 'walked', 'other', 'wfh','mean_travel_time_to_work', \n",
    "                      'perc_public', 'perc_alone', 'perc_walk','perc_other', '2018_outflow', '2019_outflow', '2020_outflow'])\n",
    "df.head(4)"
   ]
  },
  {
   "cell_type": "code",
   "execution_count": 325,
   "id": "beginning-contrary",
   "metadata": {},
   "outputs": [],
   "source": [
    "for row in range(len(df)):\n",
    "    for col in df.columns:\n",
    "        if df.loc[row][col] == '-' or pd.isna(df.loc[row][col]):\n",
    "            df.at[row,col] = 0"
   ]
  },
  {
   "cell_type": "code",
   "execution_count": 326,
   "id": "cathedral-reservation",
   "metadata": {},
   "outputs": [
    {
     "data": {
      "text/plain": [
       "307.4807692307692"
      ]
     },
     "execution_count": 326,
     "metadata": {},
     "output_type": "execute_result"
    }
   ],
   "source": [
    "df['pred_outflow'].mean()"
   ]
  },
  {
   "cell_type": "code",
   "execution_count": 327,
   "id": "greatest-pension",
   "metadata": {},
   "outputs": [
    {
     "data": {
      "text/plain": [
       "5187"
      ]
     },
     "execution_count": 327,
     "metadata": {},
     "output_type": "execute_result"
    }
   ],
   "source": [
    "df['pred_outflow'].max()"
   ]
  },
  {
   "cell_type": "code",
   "execution_count": 329,
   "id": "liked-membership",
   "metadata": {},
   "outputs": [
    {
     "data": {
      "text/html": [
       "<div>\n",
       "<style scoped>\n",
       "    .dataframe tbody tr th:only-of-type {\n",
       "        vertical-align: middle;\n",
       "    }\n",
       "\n",
       "    .dataframe tbody tr th {\n",
       "        vertical-align: top;\n",
       "    }\n",
       "\n",
       "    .dataframe thead th {\n",
       "        text-align: right;\n",
       "    }\n",
       "</style>\n",
       "<table border=\"1\" class=\"dataframe\">\n",
       "  <thead>\n",
       "    <tr style=\"text-align: right;\">\n",
       "      <th></th>\n",
       "      <th>total_households</th>\n",
       "      <th>population_16yrs+</th>\n",
       "      <th>Workers_16yrs+</th>\n",
       "      <th>pred_outflow</th>\n",
       "    </tr>\n",
       "  </thead>\n",
       "  <tbody>\n",
       "    <tr>\n",
       "      <th>205</th>\n",
       "      <td>1082</td>\n",
       "      <td>1867</td>\n",
       "      <td>1046</td>\n",
       "      <td>172</td>\n",
       "    </tr>\n",
       "    <tr>\n",
       "      <th>204</th>\n",
       "      <td>1082</td>\n",
       "      <td>1867</td>\n",
       "      <td>1046</td>\n",
       "      <td>172</td>\n",
       "    </tr>\n",
       "    <tr>\n",
       "      <th>166</th>\n",
       "      <td>1212</td>\n",
       "      <td>1918</td>\n",
       "      <td>1231</td>\n",
       "      <td>332</td>\n",
       "    </tr>\n",
       "    <tr>\n",
       "      <th>449</th>\n",
       "      <td>1241</td>\n",
       "      <td>2105</td>\n",
       "      <td>1656</td>\n",
       "      <td>222</td>\n",
       "    </tr>\n",
       "    <tr>\n",
       "      <th>128</th>\n",
       "      <td>1132</td>\n",
       "      <td>2255</td>\n",
       "      <td>1229</td>\n",
       "      <td>241</td>\n",
       "    </tr>\n",
       "    <tr>\n",
       "      <th>681</th>\n",
       "      <td>378</td>\n",
       "      <td>589</td>\n",
       "      <td>171</td>\n",
       "      <td>71</td>\n",
       "    </tr>\n",
       "    <tr>\n",
       "      <th>676</th>\n",
       "      <td>1459</td>\n",
       "      <td>2577</td>\n",
       "      <td>1915</td>\n",
       "      <td>284</td>\n",
       "    </tr>\n",
       "  </tbody>\n",
       "</table>\n",
       "</div>"
      ],
      "text/plain": [
       "     total_households  population_16yrs+  Workers_16yrs+  pred_outflow\n",
       "205              1082               1867            1046           172\n",
       "204              1082               1867            1046           172\n",
       "166              1212               1918            1231           332\n",
       "449              1241               2105            1656           222\n",
       "128              1132               2255            1229           241\n",
       "681               378                589             171            71\n",
       "676              1459               2577            1915           284"
      ]
     },
     "execution_count": 329,
     "metadata": {},
     "output_type": "execute_result"
    }
   ],
   "source": [
    "df = df[df['pred_outflow']>0]\n",
    "df.sample(7)"
   ]
  },
  {
   "cell_type": "code",
   "execution_count": 320,
   "id": "hearing-video",
   "metadata": {},
   "outputs": [
    {
     "data": {
      "text/html": [
       "<div>\n",
       "<style scoped>\n",
       "    .dataframe tbody tr th:only-of-type {\n",
       "        vertical-align: middle;\n",
       "    }\n",
       "\n",
       "    .dataframe tbody tr th {\n",
       "        vertical-align: top;\n",
       "    }\n",
       "\n",
       "    .dataframe thead th {\n",
       "        text-align: right;\n",
       "    }\n",
       "</style>\n",
       "<table border=\"1\" class=\"dataframe\">\n",
       "  <thead>\n",
       "    <tr style=\"text-align: right;\">\n",
       "      <th></th>\n",
       "      <th>total_households</th>\n",
       "      <th>population_16yrs+</th>\n",
       "      <th>Workers_16yrs+</th>\n",
       "      <th>pred_outflow</th>\n",
       "    </tr>\n",
       "  </thead>\n",
       "  <tbody>\n",
       "    <tr>\n",
       "      <th>203</th>\n",
       "      <td>0</td>\n",
       "      <td>0</td>\n",
       "      <td>0</td>\n",
       "      <td>654</td>\n",
       "    </tr>\n",
       "    <tr>\n",
       "      <th>225</th>\n",
       "      <td>0</td>\n",
       "      <td>0</td>\n",
       "      <td>0</td>\n",
       "      <td>2669</td>\n",
       "    </tr>\n",
       "    <tr>\n",
       "      <th>251</th>\n",
       "      <td>2714</td>\n",
       "      <td>5318</td>\n",
       "      <td>3282</td>\n",
       "      <td>2782</td>\n",
       "    </tr>\n",
       "    <tr>\n",
       "      <th>253</th>\n",
       "      <td>2714</td>\n",
       "      <td>5318</td>\n",
       "      <td>3282</td>\n",
       "      <td>2170</td>\n",
       "    </tr>\n",
       "    <tr>\n",
       "      <th>254</th>\n",
       "      <td>2714</td>\n",
       "      <td>5318</td>\n",
       "      <td>3282</td>\n",
       "      <td>1891</td>\n",
       "    </tr>\n",
       "    <tr>\n",
       "      <th>255</th>\n",
       "      <td>2714</td>\n",
       "      <td>5318</td>\n",
       "      <td>3282</td>\n",
       "      <td>2124</td>\n",
       "    </tr>\n",
       "    <tr>\n",
       "      <th>328</th>\n",
       "      <td>2119</td>\n",
       "      <td>3641</td>\n",
       "      <td>2676</td>\n",
       "      <td>1681</td>\n",
       "    </tr>\n",
       "    <tr>\n",
       "      <th>329</th>\n",
       "      <td>2119</td>\n",
       "      <td>3641</td>\n",
       "      <td>2676</td>\n",
       "      <td>1987</td>\n",
       "    </tr>\n",
       "    <tr>\n",
       "      <th>391</th>\n",
       "      <td>1861</td>\n",
       "      <td>2824</td>\n",
       "      <td>1843</td>\n",
       "      <td>1464</td>\n",
       "    </tr>\n",
       "    <tr>\n",
       "      <th>392</th>\n",
       "      <td>1861</td>\n",
       "      <td>2824</td>\n",
       "      <td>1843</td>\n",
       "      <td>1043</td>\n",
       "    </tr>\n",
       "    <tr>\n",
       "      <th>458</th>\n",
       "      <td>1507</td>\n",
       "      <td>3298</td>\n",
       "      <td>1635</td>\n",
       "      <td>1062</td>\n",
       "    </tr>\n",
       "    <tr>\n",
       "      <th>514</th>\n",
       "      <td>2538</td>\n",
       "      <td>4091</td>\n",
       "      <td>2290</td>\n",
       "      <td>1129</td>\n",
       "    </tr>\n",
       "    <tr>\n",
       "      <th>515</th>\n",
       "      <td>2538</td>\n",
       "      <td>4091</td>\n",
       "      <td>2290</td>\n",
       "      <td>1129</td>\n",
       "    </tr>\n",
       "    <tr>\n",
       "      <th>516</th>\n",
       "      <td>2538</td>\n",
       "      <td>4091</td>\n",
       "      <td>2290</td>\n",
       "      <td>1129</td>\n",
       "    </tr>\n",
       "    <tr>\n",
       "      <th>563</th>\n",
       "      <td>2403</td>\n",
       "      <td>4450</td>\n",
       "      <td>2568</td>\n",
       "      <td>892</td>\n",
       "    </tr>\n",
       "    <tr>\n",
       "      <th>568</th>\n",
       "      <td>1720</td>\n",
       "      <td>3014</td>\n",
       "      <td>2274</td>\n",
       "      <td>739</td>\n",
       "    </tr>\n",
       "    <tr>\n",
       "      <th>569</th>\n",
       "      <td>1720</td>\n",
       "      <td>3014</td>\n",
       "      <td>2274</td>\n",
       "      <td>997</td>\n",
       "    </tr>\n",
       "    <tr>\n",
       "      <th>645</th>\n",
       "      <td>266</td>\n",
       "      <td>619</td>\n",
       "      <td>186</td>\n",
       "      <td>1178</td>\n",
       "    </tr>\n",
       "  </tbody>\n",
       "</table>\n",
       "</div>"
      ],
      "text/plain": [
       "     total_households  population_16yrs+  Workers_16yrs+  pred_outflow\n",
       "203                 0                  0               0           654\n",
       "225                 0                  0               0          2669\n",
       "251              2714               5318            3282          2782\n",
       "253              2714               5318            3282          2170\n",
       "254              2714               5318            3282          1891\n",
       "255              2714               5318            3282          2124\n",
       "328              2119               3641            2676          1681\n",
       "329              2119               3641            2676          1987\n",
       "391              1861               2824            1843          1464\n",
       "392              1861               2824            1843          1043\n",
       "458              1507               3298            1635          1062\n",
       "514              2538               4091            2290          1129\n",
       "515              2538               4091            2290          1129\n",
       "516              2538               4091            2290          1129\n",
       "563              2403               4450            2568           892\n",
       "568              1720               3014            2274           739\n",
       "569              1720               3014            2274           997\n",
       "645               266                619             186          1178"
      ]
     },
     "execution_count": 320,
     "metadata": {},
     "output_type": "execute_result"
    }
   ],
   "source": [
    "df = df[(np.abs(stats.zscore(df)) > 0.5).all(axis=1)]\n",
    "df = df[(np.abs(stats.zscore(df)) < 3).all(axis=1)]\n",
    "df"
   ]
  },
  {
   "cell_type": "code",
   "execution_count": 296,
   "id": "resident-possibility",
   "metadata": {},
   "outputs": [
    {
     "data": {
      "text/plain": [
       "302.8317757009346"
      ]
     },
     "execution_count": 296,
     "metadata": {},
     "output_type": "execute_result"
    }
   ],
   "source": [
    "df['pred_outflow'].mean()"
   ]
  },
  {
   "cell_type": "code",
   "execution_count": 297,
   "id": "patent-saver",
   "metadata": {},
   "outputs": [
    {
     "data": {
      "text/plain": [
       "2782"
      ]
     },
     "execution_count": 297,
     "metadata": {},
     "output_type": "execute_result"
    }
   ],
   "source": [
    "df['pred_outflow'].max()"
   ]
  },
  {
   "cell_type": "markdown",
   "id": "intense-single",
   "metadata": {},
   "source": [
    "### Split data for training and test"
   ]
  },
  {
   "cell_type": "markdown",
   "id": "daily-eugene",
   "metadata": {},
   "source": [
    "We have a small number of locations that have bike stations. First, we need to filter out any cell that does not have any stations."
   ]
  },
  {
   "cell_type": "code",
   "execution_count": 303,
   "id": "dynamic-green",
   "metadata": {},
   "outputs": [],
   "source": [
    "X = df.iloc[:, 0:3].to_numpy()\n",
    "y = df.iloc[:,3].to_numpy()\n",
    "\n",
    "X_train, X_test, y_train, y_test = train_test_split(X, y, test_size=0.3, random_state=42)"
   ]
  },
  {
   "cell_type": "markdown",
   "id": "received-crack",
   "metadata": {},
   "source": [
    "### Perform Feature Scaling"
   ]
  },
  {
   "cell_type": "markdown",
   "id": "sustainable-cause",
   "metadata": {},
   "source": [
    "## Defining Models"
   ]
  },
  {
   "cell_type": "code",
   "execution_count": 313,
   "id": "official-recovery",
   "metadata": {},
   "outputs": [],
   "source": [
    "#Random Forest Classifier\n",
    "rf_model = RandomForestRegressor(\n",
    "    n_estimators=30,\n",
    "    criterion='mae',\n",
    "    max_depth=15,\n",
    "    min_samples_split=2,\n",
    "    min_samples_leaf=1,\n",
    "    max_features='auto',\n",
    "    max_leaf_nodes=None,\n",
    "    bootstrap=True,\n",
    ")"
   ]
  },
  {
   "cell_type": "markdown",
   "id": "intense-blood",
   "metadata": {},
   "source": [
    "## Training our Random Forest Model"
   ]
  },
  {
   "cell_type": "code",
   "execution_count": 314,
   "id": "fresh-bankruptcy",
   "metadata": {},
   "outputs": [],
   "source": [
    "rf_model.fit(X_train, y_train)\n",
    "y_pred = rf_model.predict(X_test)"
   ]
  },
  {
   "cell_type": "code",
   "execution_count": 315,
   "id": "forward-disposition",
   "metadata": {},
   "outputs": [
    {
     "name": "stdout",
     "output_type": "stream",
     "text": [
      "Mean Absolute Error: 122.02828282828283\n",
      "Mean Squared Error: 135709.5049158249\n",
      "Root Mean Squared Error: 368.3877100499213\n"
     ]
    }
   ],
   "source": [
    "print('Mean Absolute Error:', metrics.mean_absolute_error(y_test, y_pred))\n",
    "print('Mean Squared Error:', metrics.mean_squared_error(y_test, y_pred))\n",
    "print('Root Mean Squared Error:', np.sqrt(metrics.mean_squared_error(y_test, y_pred)))"
   ]
  },
  {
   "cell_type": "code",
   "execution_count": 302,
   "id": "industrial-sacrifice",
   "metadata": {},
   "outputs": [
    {
     "data": {
      "image/png": "[encoded data removed]",
      "text/plain": [
       "<Figure size 432x288 with 1 Axes>"
      ]
     },
     "metadata": {
      "needs_background": "light"
     },
     "output_type": "display_data"
    }
   ],
   "source": [
    "plt.scatter(y_test, y_pred, s=1); plt.show()"
   ]
  },
  {
   "cell_type": "code",
   "execution_count": 274,
   "id": "higher-relay",
   "metadata": {},
   "outputs": [
    {
     "data": {
      "image/png": "[encoded data removed]",
      "text/plain": [
       "<Figure size 288x288 with 1 Axes>"
      ]
     },
     "metadata": {
      "needs_background": "light"
     },
     "output_type": "display_data"
    }
   ],
   "source": [
    "plt.matshow(df.corr())\n",
    "plt.show()"
   ]
  },
  {
   "cell_type": "code",
   "execution_count": 58,
   "id": "flying-eleven",
   "metadata": {},
   "outputs": [
    {
     "data": {
      "text/plain": [
       "(300, 3)"
      ]
     },
     "execution_count": 58,
     "metadata": {},
     "output_type": "execute_result"
    }
   ],
   "source": [
    "X_train.shape"
   ]
  },
  {
   "cell_type": "code",
   "execution_count": null,
   "id": "structural-saturday",
   "metadata": {},
   "outputs": [],
   "source": []
  }
 ],
 "metadata": {
  "kernelspec": {
   "display_name": "Python 3",
   "language": "python",
   "name": "python3"
  },
  "language_info": {
   "codemirror_mode": {
    "name": "ipython",
    "version": 3
   },
   "file_extension": ".py",
   "mimetype": "text/x-python",
   "name": "python",
   "nbconvert_exporter": "python",
   "pygments_lexer": "ipython3",
   "version": "3.7.7"
  }
 },
 "nbformat": 4,
 "nbformat_minor": 5
}
