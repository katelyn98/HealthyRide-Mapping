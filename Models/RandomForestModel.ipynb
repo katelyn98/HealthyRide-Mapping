{
 "cells": [
  {
   "cell_type": "code",
   "execution_count": 124,
   "id": "baking-republic",
   "metadata": {},
   "outputs": [],
   "source": [
    "import pandas as pd\n",
    "import numpy as np\n",
    "from sklearn.model_selection import train_test_split\n",
    "from sklearn.ensemble import RandomForestRegressor\n",
    "from sklearn.model_selection import StratifiedKFold\n",
    "from sklearn.preprocessing import StandardScaler\n",
    "from sklearn import preprocessing\n",
    "from sklearn.metrics import mean_squared_error\n",
    "import matplotlib.pyplot as plt\n",
    "from scipy import stats\n",
    "from sklearn import metrics\n",
    "import joblib"
   ]
  },
  {
   "cell_type": "markdown",
   "id": "romantic-stick",
   "metadata": {},
   "source": [
    "## Preprocessing Data"
   ]
  },
  {
   "cell_type": "markdown",
   "id": "weekly-anchor",
   "metadata": {},
   "source": [
    "### Import data"
   ]
  },
  {
   "cell_type": "code",
   "execution_count": 125,
   "id": "piano-people",
   "metadata": {},
   "outputs": [
    {
     "data": {
      "text/html": [
       "<div>\n",
       "<style scoped>\n",
       "    .dataframe tbody tr th:only-of-type {\n",
       "        vertical-align: middle;\n",
       "    }\n",
       "\n",
       "    .dataframe tbody tr th {\n",
       "        vertical-align: top;\n",
       "    }\n",
       "\n",
       "    .dataframe thead th {\n",
       "        text-align: right;\n",
       "    }\n",
       "</style>\n",
       "<table border=\"1\" class=\"dataframe\">\n",
       "  <thead>\n",
       "    <tr style=\"text-align: right;\">\n",
       "      <th></th>\n",
       "      <th>Unnamed: 0</th>\n",
       "      <th>index</th>\n",
       "      <th>walk_score</th>\n",
       "      <th>bike_score</th>\n",
       "      <th>transit_score</th>\n",
       "      <th>temp</th>\n",
       "      <th>month</th>\n",
       "      <th>year</th>\n",
       "      <th>outflow</th>\n",
       "    </tr>\n",
       "  </thead>\n",
       "  <tbody>\n",
       "    <tr>\n",
       "      <th>0</th>\n",
       "      <td>0</td>\n",
       "      <td>38</td>\n",
       "      <td>76</td>\n",
       "      <td>82</td>\n",
       "      <td>86</td>\n",
       "      <td>73.0</td>\n",
       "      <td>JUL</td>\n",
       "      <td>2018</td>\n",
       "      <td>1</td>\n",
       "    </tr>\n",
       "    <tr>\n",
       "      <th>1</th>\n",
       "      <td>1</td>\n",
       "      <td>39</td>\n",
       "      <td>76</td>\n",
       "      <td>82</td>\n",
       "      <td>86</td>\n",
       "      <td>69.7</td>\n",
       "      <td>AUG</td>\n",
       "      <td>2018</td>\n",
       "      <td>0</td>\n",
       "    </tr>\n",
       "    <tr>\n",
       "      <th>2</th>\n",
       "      <td>2</td>\n",
       "      <td>40</td>\n",
       "      <td>76</td>\n",
       "      <td>82</td>\n",
       "      <td>86</td>\n",
       "      <td>53.4</td>\n",
       "      <td>SEP</td>\n",
       "      <td>2018</td>\n",
       "      <td>0</td>\n",
       "    </tr>\n",
       "    <tr>\n",
       "      <th>3</th>\n",
       "      <td>3</td>\n",
       "      <td>41</td>\n",
       "      <td>76</td>\n",
       "      <td>82</td>\n",
       "      <td>86</td>\n",
       "      <td>37.3</td>\n",
       "      <td>OCT</td>\n",
       "      <td>2018</td>\n",
       "      <td>0</td>\n",
       "    </tr>\n",
       "  </tbody>\n",
       "</table>\n",
       "</div>"
      ],
      "text/plain": [
       "   Unnamed: 0  index  walk_score  bike_score  transit_score  temp month  year  \\\n",
       "0           0     38          76          82             86  73.0   JUL  2018   \n",
       "1           1     39          76          82             86  69.7   AUG  2018   \n",
       "2           2     40          76          82             86  53.4   SEP  2018   \n",
       "3           3     41          76          82             86  37.3   OCT  2018   \n",
       "\n",
       "   outflow  \n",
       "0        1  \n",
       "1        0  \n",
       "2        0  \n",
       "3        0  "
      ]
     },
     "execution_count": 125,
     "metadata": {},
     "output_type": "execute_result"
    }
   ],
   "source": [
    "df = pd.read_csv('../Data/PGH/DemandPrediction/learning_set_unnormalized.csv')\n",
    "df.head(4)"
   ]
  },
  {
   "cell_type": "code",
   "execution_count": 126,
   "id": "graphic-speech",
   "metadata": {},
   "outputs": [
    {
     "name": "stdout",
     "output_type": "stream",
     "text": [
      "[1 0 0 ... 6 3 0]\n"
     ]
    },
    {
     "data": {
      "text/html": [
       "<div>\n",
       "<style scoped>\n",
       "    .dataframe tbody tr th:only-of-type {\n",
       "        vertical-align: middle;\n",
       "    }\n",
       "\n",
       "    .dataframe tbody tr th {\n",
       "        vertical-align: top;\n",
       "    }\n",
       "\n",
       "    .dataframe thead th {\n",
       "        text-align: right;\n",
       "    }\n",
       "</style>\n",
       "<table border=\"1\" class=\"dataframe\">\n",
       "  <thead>\n",
       "    <tr style=\"text-align: right;\">\n",
       "      <th></th>\n",
       "      <th>walk_score</th>\n",
       "      <th>bike_score</th>\n",
       "      <th>transit_score</th>\n",
       "      <th>temp</th>\n",
       "      <th>month_AUG</th>\n",
       "      <th>month_DEC</th>\n",
       "      <th>month_FEB</th>\n",
       "      <th>month_JAN</th>\n",
       "      <th>month_JUL</th>\n",
       "      <th>month_JUN</th>\n",
       "      <th>month_MAR</th>\n",
       "      <th>month_MAY</th>\n",
       "      <th>month_NOV</th>\n",
       "      <th>month_OCT</th>\n",
       "      <th>month_SEP</th>\n",
       "    </tr>\n",
       "  </thead>\n",
       "  <tbody>\n",
       "    <tr>\n",
       "      <th>0</th>\n",
       "      <td>76</td>\n",
       "      <td>82</td>\n",
       "      <td>86</td>\n",
       "      <td>73.0</td>\n",
       "      <td>0</td>\n",
       "      <td>0</td>\n",
       "      <td>0</td>\n",
       "      <td>0</td>\n",
       "      <td>1</td>\n",
       "      <td>0</td>\n",
       "      <td>0</td>\n",
       "      <td>0</td>\n",
       "      <td>0</td>\n",
       "      <td>0</td>\n",
       "      <td>0</td>\n",
       "    </tr>\n",
       "    <tr>\n",
       "      <th>1</th>\n",
       "      <td>76</td>\n",
       "      <td>82</td>\n",
       "      <td>86</td>\n",
       "      <td>69.7</td>\n",
       "      <td>1</td>\n",
       "      <td>0</td>\n",
       "      <td>0</td>\n",
       "      <td>0</td>\n",
       "      <td>0</td>\n",
       "      <td>0</td>\n",
       "      <td>0</td>\n",
       "      <td>0</td>\n",
       "      <td>0</td>\n",
       "      <td>0</td>\n",
       "      <td>0</td>\n",
       "    </tr>\n",
       "    <tr>\n",
       "      <th>2</th>\n",
       "      <td>76</td>\n",
       "      <td>82</td>\n",
       "      <td>86</td>\n",
       "      <td>53.4</td>\n",
       "      <td>0</td>\n",
       "      <td>0</td>\n",
       "      <td>0</td>\n",
       "      <td>0</td>\n",
       "      <td>0</td>\n",
       "      <td>0</td>\n",
       "      <td>0</td>\n",
       "      <td>0</td>\n",
       "      <td>0</td>\n",
       "      <td>0</td>\n",
       "      <td>1</td>\n",
       "    </tr>\n",
       "    <tr>\n",
       "      <th>3</th>\n",
       "      <td>76</td>\n",
       "      <td>82</td>\n",
       "      <td>86</td>\n",
       "      <td>37.3</td>\n",
       "      <td>0</td>\n",
       "      <td>0</td>\n",
       "      <td>0</td>\n",
       "      <td>0</td>\n",
       "      <td>0</td>\n",
       "      <td>0</td>\n",
       "      <td>0</td>\n",
       "      <td>0</td>\n",
       "      <td>0</td>\n",
       "      <td>1</td>\n",
       "      <td>0</td>\n",
       "    </tr>\n",
       "    <tr>\n",
       "      <th>4</th>\n",
       "      <td>76</td>\n",
       "      <td>82</td>\n",
       "      <td>86</td>\n",
       "      <td>34.9</td>\n",
       "      <td>0</td>\n",
       "      <td>0</td>\n",
       "      <td>0</td>\n",
       "      <td>0</td>\n",
       "      <td>0</td>\n",
       "      <td>0</td>\n",
       "      <td>0</td>\n",
       "      <td>0</td>\n",
       "      <td>1</td>\n",
       "      <td>0</td>\n",
       "      <td>0</td>\n",
       "    </tr>\n",
       "  </tbody>\n",
       "</table>\n",
       "</div>"
      ],
      "text/plain": [
       "   walk_score  bike_score  transit_score  temp  month_AUG  month_DEC  \\\n",
       "0          76          82             86  73.0          0          0   \n",
       "1          76          82             86  69.7          1          0   \n",
       "2          76          82             86  53.4          0          0   \n",
       "3          76          82             86  37.3          0          0   \n",
       "4          76          82             86  34.9          0          0   \n",
       "\n",
       "   month_FEB  month_JAN  month_JUL  month_JUN  month_MAR  month_MAY  \\\n",
       "0          0          0          1          0          0          0   \n",
       "1          0          0          0          0          0          0   \n",
       "2          0          0          0          0          0          0   \n",
       "3          0          0          0          0          0          0   \n",
       "4          0          0          0          0          0          0   \n",
       "\n",
       "   month_NOV  month_OCT  month_SEP  \n",
       "0          0          0          0  \n",
       "1          0          0          0  \n",
       "2          0          0          1  \n",
       "3          0          1          0  \n",
       "4          1          0          0  "
      ]
     },
     "execution_count": 126,
     "metadata": {},
     "output_type": "execute_result"
    }
   ],
   "source": [
    "df = df.drop(columns=['Unnamed: 0', 'index', 'year'])\n",
    "y = df.iloc[:,5].to_numpy()\n",
    "print(y)\n",
    "df = pd.get_dummies(df,columns=['month'],drop_first=True)\n",
    "df = df.drop(columns=['outflow'])\n",
    "df.head()"
   ]
  },
  {
   "cell_type": "code",
   "execution_count": 55,
   "id": "backed-vienna",
   "metadata": {},
   "outputs": [],
   "source": [
    "#try to filter out outflow that is only greater than 0\n",
    "# df_filter = df[df['outflow']>0]\n",
    "# len(df_filter)"
   ]
  },
  {
   "cell_type": "code",
   "execution_count": null,
   "id": "above-subject",
   "metadata": {},
   "outputs": [],
   "source": [
    "# len(df)"
   ]
  },
  {
   "cell_type": "code",
   "execution_count": null,
   "id": "progressive-connection",
   "metadata": {},
   "outputs": [],
   "source": [
    "# plt.scatter(df_filter['bike_score'], df_filter['outflow'], s=1); plt.show()"
   ]
  },
  {
   "cell_type": "markdown",
   "id": "adequate-extraction",
   "metadata": {},
   "source": [
    "### Split data for training and test"
   ]
  },
  {
   "cell_type": "markdown",
   "id": "chronic-health",
   "metadata": {},
   "source": [
    "We have a small number of locations that have bike stations. First, we need to filter out any cell that does not have any stations."
   ]
  },
  {
   "cell_type": "code",
   "execution_count": 127,
   "id": "floppy-month",
   "metadata": {},
   "outputs": [],
   "source": [
    "X = df.iloc[:, :].to_numpy() #only use this line if using the first and second code cell\n",
    "\n",
    "X_train, X_test, y_train, y_test = train_test_split(X, y, test_size=0.3, random_state=42)"
   ]
  },
  {
   "cell_type": "markdown",
   "id": "typical-controversy",
   "metadata": {},
   "source": [
    "### Perform Feature Scaling"
   ]
  },
  {
   "cell_type": "markdown",
   "id": "composite-organic",
   "metadata": {},
   "source": [
    "## Defining Models\n",
    "Code from https://towardsdatascience.com/end-to-end-case-study-bike-sharing-demand-dataset-53201926c8db"
   ]
  },
  {
   "cell_type": "code",
   "execution_count": 128,
   "id": "shared-tuning",
   "metadata": {},
   "outputs": [],
   "source": [
    "#Decision Tree\n",
    "from sklearn.tree import DecisionTreeRegressor\n",
    "dt = DecisionTreeRegressor(random_state=0)\n",
    "dt_params = {'max_depth':np.arange(1,50,2),'min_samples_leaf':np.arange(2,15)}\n",
    "\n",
    "from sklearn.model_selection import GridSearchCV\n",
    "gs_dt = GridSearchCV(dt,dt_params,cv=3)\n",
    "gs_dt.fit(X_train,y_train)\n",
    "a = gs_dt.best_params_"
   ]
  },
  {
   "cell_type": "code",
   "execution_count": 129,
   "id": "thirty-individual",
   "metadata": {},
   "outputs": [
    {
     "name": "stdout",
     "output_type": "stream",
     "text": [
      "RMLSE for the data: 0.968352651329183\n"
     ]
    }
   ],
   "source": [
    "from sklearn.tree import DecisionTreeRegressor\n",
    "dtr=DecisionTreeRegressor(max_depth=a['max_depth'],min_samples_leaf= a['min_samples_leaf'])\n",
    "model = dtr.fit(X_train,y_train)\n",
    "y_pred = model.predict(X_test)\n",
    "\n",
    "from sklearn.metrics import mean_squared_log_error\n",
    "msle=mean_squared_log_error(y_pred,y_test)\n",
    "rmsle=np.sqrt(msle)\n",
    "print('RMLSE for the data:',rmsle) # For decision tree"
   ]
  },
  {
   "cell_type": "code",
   "execution_count": 130,
   "id": "laden-underwear",
   "metadata": {},
   "outputs": [
    {
     "data": {
      "text/plain": [
       "['decision_tree_dummies.sav']"
      ]
     },
     "execution_count": 130,
     "metadata": {},
     "output_type": "execute_result"
    }
   ],
   "source": [
    "# save the model to disk\n",
    "filename = 'saved_models/decision_tree_dummies.sav'\n",
    "joblib.dump(model, filename)"
   ]
  },
  {
   "cell_type": "code",
   "execution_count": 131,
   "id": "contained-adrian",
   "metadata": {},
   "outputs": [
    {
     "data": {
      "image/png": "[encoded data removed]",
      "text/plain": [
       "<Figure size 432x288 with 1 Axes>"
      ]
     },
     "metadata": {
      "needs_background": "light"
     },
     "output_type": "display_data"
    }
   ],
   "source": [
    "plt.scatter(y_test, y_pred)\n",
    "plt.show()"
   ]
  },
  {
   "cell_type": "code",
   "execution_count": 132,
   "id": "compliant-studio",
   "metadata": {},
   "outputs": [],
   "source": [
    "#Random Forest\n",
    "rf = RandomForestRegressor(random_state=0)\n",
    "rf_params = {'n_estimators':np.arange(25,150,25),'max_depth':np.arange(1,11,2),'min_samples_leaf':np.arange(2,15,3)}\n",
    "\n",
    "from sklearn.model_selection import GridSearchCV\n",
    "gs_rf = GridSearchCV(rf,rf_params,cv=3)\n",
    "gs_rf.fit(X_train,y_train)\n",
    "b = gs_rf.best_params_"
   ]
  },
  {
   "cell_type": "code",
   "execution_count": 133,
   "id": "floral-trader",
   "metadata": {},
   "outputs": [
    {
     "name": "stdout",
     "output_type": "stream",
     "text": [
      "RMLSE for the data: 0.9136267247059643\n"
     ]
    }
   ],
   "source": [
    "RF = RandomForestRegressor(n_estimators=b['n_estimators'],max_depth=b['max_depth'],min_samples_leaf=b['min_samples_leaf'],random_state=0)\n",
    "model = RF.fit(X_train,y_train)\n",
    "y_pred = model.predict(X_test)\n",
    "\n",
    "from sklearn.metrics import mean_squared_log_error\n",
    "msle=mean_squared_log_error(y_pred,y_test)\n",
    "rmsle=np.sqrt(msle)\n",
    "print('RMLSE for the data:',rmsle) # For random forest"
   ]
  },
  {
   "cell_type": "code",
   "execution_count": 134,
   "id": "finished-renaissance",
   "metadata": {},
   "outputs": [
    {
     "data": {
      "text/plain": [
       "['saved_models/random_forest_dummies.sav']"
      ]
     },
     "execution_count": 134,
     "metadata": {},
     "output_type": "execute_result"
    }
   ],
   "source": [
    "# save the model to disk\n",
    "filename = 'saved_models/random_forest_dummies.sav'\n",
    "joblib.dump(model, filename)"
   ]
  },
  {
   "cell_type": "code",
   "execution_count": 135,
   "id": "annual-fleece",
   "metadata": {},
   "outputs": [
    {
     "data": {
      "image/png": "[encoded data removed]",
      "text/plain": [
       "<Figure size 432x288 with 1 Axes>"
      ]
     },
     "metadata": {
      "needs_background": "light"
     },
     "output_type": "display_data"
    }
   ],
   "source": [
    "plt.scatter(y_test, y_pred)\n",
    "plt.show()"
   ]
  },
  {
   "cell_type": "code",
   "execution_count": 136,
   "id": "extraordinary-oklahoma",
   "metadata": {},
   "outputs": [],
   "source": [
    "#Adaboost Regressor\n",
    "from sklearn.ensemble import AdaBoostRegressor\n",
    "ar = AdaBoostRegressor(base_estimator=RF,random_state=0)\n",
    "ar_params = {'n_estimators':np.arange(25,200,25)}\n",
    "\n",
    "gs_ar = GridSearchCV(ar,ar_params,cv=3)\n",
    "gs_ar.fit(X_train,y_train)\n",
    "c = gs_ar.best_params_"
   ]
  },
  {
   "cell_type": "code",
   "execution_count": 137,
   "id": "tamil-tunnel",
   "metadata": {},
   "outputs": [
    {
     "name": "stdout",
     "output_type": "stream",
     "text": [
      "RMSLE for the data: 0.9723812764755068\n"
     ]
    }
   ],
   "source": [
    "ab_rf = AdaBoostRegressor(base_estimator=RF,n_estimators=c['n_estimators'],random_state=0)\n",
    "model = ab_rf.fit(X_train,y_train)\n",
    "y_pred = model.predict(X_test)\n",
    "\n",
    "from sklearn.metrics import mean_squared_log_error\n",
    "msle=mean_squared_log_error(y_pred,y_test)\n",
    "rmsle=np.sqrt(msle)\n",
    "print('RMSLE for the data:',rmsle) # For Ada-Boost"
   ]
  },
  {
   "cell_type": "code",
   "execution_count": 138,
   "id": "assured-sender",
   "metadata": {},
   "outputs": [
    {
     "data": {
      "text/plain": [
       "['saved_models/adaboost_dummies.sav']"
      ]
     },
     "execution_count": 138,
     "metadata": {},
     "output_type": "execute_result"
    }
   ],
   "source": [
    "# save the model to disk\n",
    "filename = 'saved_models/adaboost_dummies.sav'\n",
    "joblib.dump(model, filename)"
   ]
  },
  {
   "cell_type": "code",
   "execution_count": 139,
   "id": "whole-qatar",
   "metadata": {},
   "outputs": [
    {
     "data": {
      "image/png": "[encoded data removed]",
      "text/plain": [
       "<Figure size 432x288 with 1 Axes>"
      ]
     },
     "metadata": {
      "needs_background": "light"
     },
     "output_type": "display_data"
    }
   ],
   "source": [
    "plt.scatter(y_test, y_pred)\n",
    "plt.show()"
   ]
  },
  {
   "cell_type": "markdown",
   "id": "introductory-hollow",
   "metadata": {},
   "source": [
    "----"
   ]
  },
  {
   "cell_type": "markdown",
   "id": "lyric-courtesy",
   "metadata": {},
   "source": [
    "Getting rid of the one hot encoding"
   ]
  },
  {
   "cell_type": "code",
   "execution_count": 140,
   "id": "residential-fossil",
   "metadata": {},
   "outputs": [
    {
     "data": {
      "text/html": [
       "<div>\n",
       "<style scoped>\n",
       "    .dataframe tbody tr th:only-of-type {\n",
       "        vertical-align: middle;\n",
       "    }\n",
       "\n",
       "    .dataframe tbody tr th {\n",
       "        vertical-align: top;\n",
       "    }\n",
       "\n",
       "    .dataframe thead th {\n",
       "        text-align: right;\n",
       "    }\n",
       "</style>\n",
       "<table border=\"1\" class=\"dataframe\">\n",
       "  <thead>\n",
       "    <tr style=\"text-align: right;\">\n",
       "      <th></th>\n",
       "      <th>walk_score</th>\n",
       "      <th>bike_score</th>\n",
       "      <th>transit_score</th>\n",
       "      <th>temp</th>\n",
       "      <th>outflow</th>\n",
       "    </tr>\n",
       "  </thead>\n",
       "  <tbody>\n",
       "    <tr>\n",
       "      <th>0</th>\n",
       "      <td>76</td>\n",
       "      <td>82</td>\n",
       "      <td>86</td>\n",
       "      <td>73.0</td>\n",
       "      <td>1</td>\n",
       "    </tr>\n",
       "    <tr>\n",
       "      <th>1</th>\n",
       "      <td>76</td>\n",
       "      <td>82</td>\n",
       "      <td>86</td>\n",
       "      <td>69.7</td>\n",
       "      <td>0</td>\n",
       "    </tr>\n",
       "    <tr>\n",
       "      <th>2</th>\n",
       "      <td>76</td>\n",
       "      <td>82</td>\n",
       "      <td>86</td>\n",
       "      <td>53.4</td>\n",
       "      <td>0</td>\n",
       "    </tr>\n",
       "    <tr>\n",
       "      <th>3</th>\n",
       "      <td>76</td>\n",
       "      <td>82</td>\n",
       "      <td>86</td>\n",
       "      <td>37.3</td>\n",
       "      <td>0</td>\n",
       "    </tr>\n",
       "    <tr>\n",
       "      <th>4</th>\n",
       "      <td>76</td>\n",
       "      <td>82</td>\n",
       "      <td>86</td>\n",
       "      <td>34.9</td>\n",
       "      <td>0</td>\n",
       "    </tr>\n",
       "  </tbody>\n",
       "</table>\n",
       "</div>"
      ],
      "text/plain": [
       "   walk_score  bike_score  transit_score  temp  outflow\n",
       "0          76          82             86  73.0        1\n",
       "1          76          82             86  69.7        0\n",
       "2          76          82             86  53.4        0\n",
       "3          76          82             86  37.3        0\n",
       "4          76          82             86  34.9        0"
      ]
     },
     "execution_count": 140,
     "metadata": {},
     "output_type": "execute_result"
    }
   ],
   "source": [
    "df = pd.read_csv('../Data/PGH/DemandPrediction/learning_set_unnormalized.csv')\n",
    "df = df.drop(columns=['Unnamed: 0', 'index', 'year', 'month'])\n",
    "df.head()"
   ]
  },
  {
   "cell_type": "code",
   "execution_count": 141,
   "id": "civilian-magnet",
   "metadata": {},
   "outputs": [],
   "source": [
    "X = df.iloc[:, :4].to_numpy()\n",
    "y = df.iloc[:,4].to_numpy() #add this line only if you did not define y in the second code cell make sure to change the values\n",
    "\n",
    "X_train, X_test, y_train, y_test = train_test_split(X, y, test_size=0.3, random_state=42)"
   ]
  },
  {
   "cell_type": "code",
   "execution_count": 142,
   "id": "excess-affairs",
   "metadata": {},
   "outputs": [
    {
     "data": {
      "text/plain": [
       "array([1, 0, 0, ..., 6, 3, 0])"
      ]
     },
     "execution_count": 142,
     "metadata": {},
     "output_type": "execute_result"
    }
   ],
   "source": [
    "y = df.iloc[:,4].to_numpy()\n",
    "y"
   ]
  },
  {
   "cell_type": "code",
   "execution_count": 143,
   "id": "criminal-logistics",
   "metadata": {},
   "outputs": [
    {
     "name": "stdout",
     "output_type": "stream",
     "text": [
      "RMLSE for the data: 0.9266363582121049\n"
     ]
    }
   ],
   "source": [
    "#Decision Tree\n",
    "from sklearn.tree import DecisionTreeRegressor\n",
    "from sklearn.model_selection import GridSearchCV\n",
    "\n",
    "dt = DecisionTreeRegressor(random_state=0)\n",
    "dt_params = {'max_depth':np.arange(1,50,2),'min_samples_leaf':np.arange(2,15)}\n",
    "\n",
    "gs_dt = GridSearchCV(dt,dt_params,cv=3)\n",
    "gs_dt.fit(X_train,y_train)\n",
    "a = gs_dt.best_params_\n",
    "\n",
    "dtr=DecisionTreeRegressor(max_depth=a['max_depth'],min_samples_leaf= a['min_samples_leaf'])\n",
    "model = dtr.fit(X_train,y_train)\n",
    "y_pred = model.predict(X_test)\n",
    "\n",
    "from sklearn.metrics import mean_squared_log_error\n",
    "msle=mean_squared_log_error(y_pred,y_test)\n",
    "rmsle=np.sqrt(msle)\n",
    "print('RMLSE for the data:',rmsle) # For decision tree"
   ]
  },
  {
   "cell_type": "code",
   "execution_count": 144,
   "id": "therapeutic-novel",
   "metadata": {},
   "outputs": [
    {
     "data": {
      "text/plain": [
       "['saved_models/decision_tree_nodummies.sav']"
      ]
     },
     "execution_count": 144,
     "metadata": {},
     "output_type": "execute_result"
    }
   ],
   "source": [
    "# save the model to disk\n",
    "filename = 'saved_models/decision_tree_nodummies.sav'\n",
    "joblib.dump(model, filename)"
   ]
  },
  {
   "cell_type": "code",
   "execution_count": 145,
   "id": "comprehensive-eligibility",
   "metadata": {},
   "outputs": [
    {
     "data": {
      "text/plain": [
       "121.76271186440678"
      ]
     },
     "execution_count": 145,
     "metadata": {},
     "output_type": "execute_result"
    }
   ],
   "source": [
    "np.mean(y_test)"
   ]
  },
  {
   "cell_type": "code",
   "execution_count": 146,
   "id": "cross-beaver",
   "metadata": {},
   "outputs": [
    {
     "name": "stdout",
     "output_type": "stream",
     "text": [
      "RMLSE for the data: 0.9131260289911332\n"
     ]
    }
   ],
   "source": [
    "#Random Forest\n",
    "rf = RandomForestRegressor(random_state=0)\n",
    "rf_params = {'n_estimators':np.arange(25,150,25),'max_depth':np.arange(1,11,2),'min_samples_leaf':np.arange(2,15,3)}\n",
    "\n",
    "gs_rf = GridSearchCV(rf,rf_params,cv=3)\n",
    "gs_rf.fit(X_train,y_train)\n",
    "b = gs_rf.best_params_\n",
    "\n",
    "RF = RandomForestRegressor(n_estimators=b['n_estimators'],max_depth=b['max_depth'],min_samples_leaf=b['min_samples_leaf'],random_state=0)\n",
    "model = RF.fit(X_train,y_train)\n",
    "y_pred = model.predict(X_test)\n",
    "\n",
    "msle=mean_squared_log_error(y_pred,y_test)\n",
    "rmsle=np.sqrt(msle)\n",
    "print('RMLSE for the data:',rmsle) # For random forest"
   ]
  },
  {
   "cell_type": "code",
   "execution_count": 147,
   "id": "optional-supplier",
   "metadata": {},
   "outputs": [
    {
     "data": {
      "text/plain": [
       "['saved_models/random_forest_nodummies.sav']"
      ]
     },
     "execution_count": 147,
     "metadata": {},
     "output_type": "execute_result"
    }
   ],
   "source": [
    "# save the model to disk\n",
    "filename = 'saved_models/random_forest_nodummies.sav'\n",
    "joblib.dump(model, filename)"
   ]
  },
  {
   "cell_type": "code",
   "execution_count": 148,
   "id": "valued-grant",
   "metadata": {},
   "outputs": [
    {
     "data": {
      "text/plain": [
       "121.76271186440678"
      ]
     },
     "execution_count": 148,
     "metadata": {},
     "output_type": "execute_result"
    }
   ],
   "source": [
    "np.mean(y_test)"
   ]
  },
  {
   "cell_type": "code",
   "execution_count": 149,
   "id": "asian-conservative",
   "metadata": {},
   "outputs": [
    {
     "name": "stdout",
     "output_type": "stream",
     "text": [
      "RMSLE for the data: 1.023791335332397\n"
     ]
    }
   ],
   "source": [
    "#Adaboost Regressor\n",
    "from sklearn.ensemble import AdaBoostRegressor\n",
    "ar = AdaBoostRegressor(base_estimator=RF,random_state=0)\n",
    "ar_params = {'n_estimators':np.arange(25,200,25)}\n",
    "\n",
    "gs_ar = GridSearchCV(ar,ar_params,cv=3)\n",
    "gs_ar.fit(X_train,y_train)\n",
    "c = gs_ar.best_params_\n",
    "\n",
    "ab_rf = AdaBoostRegressor(base_estimator=RF,n_estimators=c['n_estimators'],random_state=0)\n",
    "model = ab_rf.fit(X_train,y_train)\n",
    "y_pred = model.predict(X_test)\n",
    "\n",
    "msle=mean_squared_log_error(y_pred,y_test)\n",
    "rmsle=np.sqrt(msle)\n",
    "print('RMSLE for the data:',rmsle) # For Ada-Boost"
   ]
  },
  {
   "cell_type": "code",
   "execution_count": 150,
   "id": "unexpected-version",
   "metadata": {},
   "outputs": [
    {
     "data": {
      "text/plain": [
       "['saved_models/adaboost_nodummies.sav']"
      ]
     },
     "execution_count": 150,
     "metadata": {},
     "output_type": "execute_result"
    }
   ],
   "source": [
    "# save the model to disk\n",
    "filename = 'saved_models/adaboost_nodummies.sav'\n",
    "joblib.dump(model, filename)"
   ]
  },
  {
   "cell_type": "code",
   "execution_count": 151,
   "id": "perceived-dryer",
   "metadata": {},
   "outputs": [
    {
     "data": {
      "text/plain": [
       "121.76271186440678"
      ]
     },
     "execution_count": 151,
     "metadata": {},
     "output_type": "execute_result"
    }
   ],
   "source": [
    "np.mean(y_test)"
   ]
  },
  {
   "cell_type": "markdown",
   "id": "scheduled-johnston",
   "metadata": {},
   "source": [
    "|  | RMSLE|\n",
    "|:--:|:--:|\n",
    "|Decision Tree| 0.967|\n",
    "|Random Forest| 0.914|\n",
    "|AdaBoost| 0.972|\n",
    "\n",
    "when taking our month and year, the models get the following RMSLE:\n",
    "\n",
    "|  | RMSLE|\n",
    "|:--:|:--:|\n",
    "|Decision Tree| |\n",
    "|Random Forest| |\n",
    "|AdaBoost| |"
   ]
  },
  {
   "cell_type": "markdown",
   "id": "popular-drive",
   "metadata": {},
   "source": [
    "Trying a different verison of Df"
   ]
  },
  {
   "cell_type": "code",
   "execution_count": 152,
   "id": "passive-sodium",
   "metadata": {},
   "outputs": [
    {
     "name": "stdout",
     "output_type": "stream",
     "text": [
      "RMLSE for the data: 0.7884859620609537\n"
     ]
    }
   ],
   "source": [
    "df = pd.read_csv('../Data/PGH/DemandPrediction/learning_set_unnormalized.csv')\n",
    "df = df.drop(columns=['Unnamed: 0', 'index', 'month', 'year'])\n",
    "\n",
    "#filtering out any spot where outflow is greater than 0\n",
    "df_filter = df[df['outflow']>0]\n",
    "\n",
    "X = df_filter.iloc[:, :4].to_numpy()\n",
    "y = df_filter.iloc[:,4].to_numpy()\n",
    "\n",
    "X_train, X_test, y_train, y_test = train_test_split(X, y, test_size=0.3, random_state=42)\n",
    "\n",
    "#Random Forest\n",
    "rf = RandomForestRegressor(random_state=0)\n",
    "rf_params = {'n_estimators':np.arange(25,150,25),'max_depth':np.arange(1,11,2),'min_samples_leaf':np.arange(2,15,3)}\n",
    "\n",
    "gs_rf = GridSearchCV(rf,rf_params,cv=3)\n",
    "gs_rf.fit(X_train,y_train)\n",
    "b = gs_rf.best_params_\n",
    "\n",
    "RF = RandomForestRegressor(n_estimators=b['n_estimators'],max_depth=b['max_depth'],min_samples_leaf=b['min_samples_leaf'],random_state=0)\n",
    "model = RF.fit(X_train,y_train)\n",
    "y_pred = model.predict(X_test)\n",
    "\n",
    "msle=mean_squared_log_error(y_pred,y_test)\n",
    "rmsle=np.sqrt(msle)\n",
    "print('RMLSE for the data:',rmsle)"
   ]
  },
  {
   "cell_type": "code",
   "execution_count": 153,
   "id": "developmental-maldives",
   "metadata": {},
   "outputs": [
    {
     "data": {
      "text/plain": [
       "['saved_models/random_forest_nodummies_nozeros.sav']"
      ]
     },
     "execution_count": 153,
     "metadata": {},
     "output_type": "execute_result"
    }
   ],
   "source": [
    "# save the model to disk\n",
    "filename = 'saved_models/random_forest_nodummies_nozeros.sav'\n",
    "joblib.dump(model, filename)"
   ]
  },
  {
   "cell_type": "markdown",
   "id": "floppy-portuguese",
   "metadata": {},
   "source": [
    "import plotly.express as px\n",
    "\n",
    "fig = px.scatter(df, y_test, y_pred, labels={'x':'ground truth', \n",
    "                          'y': 'predicted demand'},title=\"Random Forest\")\n",
    "fig.show()"
   ]
  },
  {
   "cell_type": "code",
   "execution_count": 28,
   "id": "endangered-float",
   "metadata": {},
   "outputs": [
    {
     "data": {
      "image/png": "[encoded data removed]",
      "text/plain": [
       "<Figure size 288x288 with 1 Axes>"
      ]
     },
     "metadata": {
      "needs_background": "light"
     },
     "output_type": "display_data"
    }
   ],
   "source": [
    "plt.matshow(df.corr())\n",
    "plt.show()"
   ]
  },
  {
   "cell_type": "markdown",
   "id": "recognized-belarus",
   "metadata": {},
   "source": [
    "___"
   ]
  },
  {
   "cell_type": "markdown",
   "id": "whole-headset",
   "metadata": {},
   "source": [
    "Using data set with spatial attributes - i.e. number of stations and station capacity"
   ]
  },
  {
   "cell_type": "code",
   "execution_count": 154,
   "id": "heard-interference",
   "metadata": {},
   "outputs": [
    {
     "data": {
      "text/html": [
       "<div>\n",
       "<style scoped>\n",
       "    .dataframe tbody tr th:only-of-type {\n",
       "        vertical-align: middle;\n",
       "    }\n",
       "\n",
       "    .dataframe tbody tr th {\n",
       "        vertical-align: top;\n",
       "    }\n",
       "\n",
       "    .dataframe thead th {\n",
       "        text-align: right;\n",
       "    }\n",
       "</style>\n",
       "<table border=\"1\" class=\"dataframe\">\n",
       "  <thead>\n",
       "    <tr style=\"text-align: right;\">\n",
       "      <th></th>\n",
       "      <th>stations</th>\n",
       "      <th>capacity</th>\n",
       "      <th>walk_score</th>\n",
       "      <th>bike_score</th>\n",
       "      <th>transit_score</th>\n",
       "      <th>temp</th>\n",
       "      <th>outflow</th>\n",
       "    </tr>\n",
       "  </thead>\n",
       "  <tbody>\n",
       "    <tr>\n",
       "      <th>0</th>\n",
       "      <td>1</td>\n",
       "      <td>10</td>\n",
       "      <td>76</td>\n",
       "      <td>82</td>\n",
       "      <td>86</td>\n",
       "      <td>73.0</td>\n",
       "      <td>1</td>\n",
       "    </tr>\n",
       "    <tr>\n",
       "      <th>1</th>\n",
       "      <td>1</td>\n",
       "      <td>10</td>\n",
       "      <td>76</td>\n",
       "      <td>82</td>\n",
       "      <td>86</td>\n",
       "      <td>69.7</td>\n",
       "      <td>0</td>\n",
       "    </tr>\n",
       "    <tr>\n",
       "      <th>2</th>\n",
       "      <td>1</td>\n",
       "      <td>10</td>\n",
       "      <td>76</td>\n",
       "      <td>82</td>\n",
       "      <td>86</td>\n",
       "      <td>53.4</td>\n",
       "      <td>0</td>\n",
       "    </tr>\n",
       "    <tr>\n",
       "      <th>3</th>\n",
       "      <td>1</td>\n",
       "      <td>10</td>\n",
       "      <td>76</td>\n",
       "      <td>82</td>\n",
       "      <td>86</td>\n",
       "      <td>37.3</td>\n",
       "      <td>0</td>\n",
       "    </tr>\n",
       "  </tbody>\n",
       "</table>\n",
       "</div>"
      ],
      "text/plain": [
       "   stations  capacity  walk_score  bike_score  transit_score  temp  outflow\n",
       "0         1        10          76          82             86  73.0        1\n",
       "1         1        10          76          82             86  69.7        0\n",
       "2         1        10          76          82             86  53.4        0\n",
       "3         1        10          76          82             86  37.3        0"
      ]
     },
     "execution_count": 154,
     "metadata": {},
     "output_type": "execute_result"
    }
   ],
   "source": [
    "df = pd.read_csv('../Data/PGH/DemandPrediction/learning_set_spatial.csv')\n",
    "df = df.drop(columns=['Unnamed: 0', 'index', 'year', 'month'])\n",
    "df.head(4)"
   ]
  },
  {
   "cell_type": "code",
   "execution_count": 155,
   "id": "nutritional-egyptian",
   "metadata": {},
   "outputs": [],
   "source": [
    "X = df.iloc[:, :6].to_numpy()\n",
    "y = df.iloc[:,6].to_numpy()\n",
    "\n",
    "X_train, X_test, y_train, y_test = train_test_split(X, y, test_size=0.3, random_state=42)"
   ]
  },
  {
   "cell_type": "code",
   "execution_count": 156,
   "id": "wired-compromise",
   "metadata": {},
   "outputs": [
    {
     "data": {
      "text/plain": [
       "array([1, 0, 0, ..., 6, 3, 0])"
      ]
     },
     "execution_count": 156,
     "metadata": {},
     "output_type": "execute_result"
    }
   ],
   "source": [
    "y = df.iloc[:,6].to_numpy()\n",
    "y"
   ]
  },
  {
   "cell_type": "code",
   "execution_count": 157,
   "id": "otherwise-richards",
   "metadata": {},
   "outputs": [
    {
     "name": "stdout",
     "output_type": "stream",
     "text": [
      "RMLSE for the data: 0.8161503049739915\n"
     ]
    }
   ],
   "source": [
    "from sklearn.tree import DecisionTreeRegressor\n",
    "from sklearn.model_selection import GridSearchCV\n",
    "\n",
    "dt = DecisionTreeRegressor(random_state=0)\n",
    "dt_params = {'max_depth':np.arange(1,50,2),'min_samples_leaf':np.arange(2,15)}\n",
    "\n",
    "gs_dt = GridSearchCV(dt,dt_params,cv=3)\n",
    "gs_dt.fit(X_train,y_train)\n",
    "a = gs_dt.best_params_\n",
    "\n",
    "dtr=DecisionTreeRegressor(max_depth=a['max_depth'],min_samples_leaf= a['min_samples_leaf'])\n",
    "model = dtr.fit(X_train,y_train)\n",
    "y_pred = model.predict(X_test)\n",
    "\n",
    "from sklearn.metrics import mean_squared_log_error\n",
    "msle=mean_squared_log_error(y_pred,y_test)\n",
    "rmsle=np.sqrt(msle)\n",
    "print('RMLSE for the data:',rmsle) # For decision tree"
   ]
  },
  {
   "cell_type": "code",
   "execution_count": 158,
   "id": "aerial-diesel",
   "metadata": {},
   "outputs": [
    {
     "data": {
      "text/plain": [
       "['saved_models/decision_tree_spatial.sav']"
      ]
     },
     "execution_count": 158,
     "metadata": {},
     "output_type": "execute_result"
    }
   ],
   "source": [
    "# save the model to disk\n",
    "filename = 'saved_models/decision_tree_spatial.sav'\n",
    "joblib.dump(model, filename)"
   ]
  },
  {
   "cell_type": "code",
   "execution_count": 159,
   "id": "applicable-pledge",
   "metadata": {},
   "outputs": [
    {
     "data": {
      "text/plain": [
       "121.76271186440678"
      ]
     },
     "execution_count": 159,
     "metadata": {},
     "output_type": "execute_result"
    }
   ],
   "source": [
    "np.mean(y_test)"
   ]
  },
  {
   "cell_type": "code",
   "execution_count": 160,
   "id": "failing-poster",
   "metadata": {},
   "outputs": [
    {
     "data": {
      "image/png": "[encoded data removed]",
      "text/plain": [
       "<Figure size 432x288 with 1 Axes>"
      ]
     },
     "metadata": {
      "needs_background": "light"
     },
     "output_type": "display_data"
    }
   ],
   "source": [
    "plt.scatter(y_test, y_pred)\n",
    "plt.show()"
   ]
  },
  {
   "cell_type": "code",
   "execution_count": 161,
   "id": "mechanical-bracelet",
   "metadata": {},
   "outputs": [
    {
     "name": "stdout",
     "output_type": "stream",
     "text": [
      "RMLSE for the data: 0.8043421418992356\n"
     ]
    }
   ],
   "source": [
    "#Random Forest\n",
    "rf = RandomForestRegressor(random_state=0)\n",
    "rf_params = {'n_estimators':np.arange(25,150,25),'max_depth':np.arange(1,11,2),'min_samples_leaf':np.arange(2,15,3)}\n",
    "\n",
    "gs_rf = GridSearchCV(rf,rf_params,cv=3)\n",
    "gs_rf.fit(X_train,y_train)\n",
    "b = gs_rf.best_params_\n",
    "\n",
    "RF = RandomForestRegressor(n_estimators=b['n_estimators'],max_depth=b['max_depth'],min_samples_leaf=b['min_samples_leaf'],random_state=0)\n",
    "model = RF.fit(X_train,y_train)\n",
    "y_pred = model.predict(X_test)\n",
    "\n",
    "msle=mean_squared_log_error(y_pred,y_test)\n",
    "rmsle=np.sqrt(msle)\n",
    "print('RMLSE for the data:',rmsle) # For random forest"
   ]
  },
  {
   "cell_type": "code",
   "execution_count": 162,
   "id": "blocked-seeking",
   "metadata": {},
   "outputs": [
    {
     "data": {
      "text/plain": [
       "['saved_models/random_forest_spatial.sav']"
      ]
     },
     "execution_count": 162,
     "metadata": {},
     "output_type": "execute_result"
    }
   ],
   "source": [
    "# save the model to disk\n",
    "filename = 'saved_models/random_forest_spatial.sav'\n",
    "joblib.dump(model, filename)"
   ]
  },
  {
   "cell_type": "code",
   "execution_count": 163,
   "id": "loved-debate",
   "metadata": {},
   "outputs": [
    {
     "name": "stdout",
     "output_type": "stream",
     "text": [
      "RMSLE for the data: 0.9498907600309728\n"
     ]
    }
   ],
   "source": [
    "#Adaboost Regressor\n",
    "from sklearn.ensemble import AdaBoostRegressor\n",
    "ar = AdaBoostRegressor(base_estimator=RF,random_state=0)\n",
    "ar_params = {'n_estimators':np.arange(25,200,25)}\n",
    "\n",
    "gs_ar = GridSearchCV(ar,ar_params,cv=3)\n",
    "gs_ar.fit(X_train,y_train)\n",
    "c = gs_ar.best_params_\n",
    "\n",
    "ab_rf = AdaBoostRegressor(base_estimator=RF,n_estimators=c['n_estimators'],random_state=0)\n",
    "model = ab_rf.fit(X_train,y_train)\n",
    "y_pred = model.predict(X_test)\n",
    "\n",
    "msle=mean_squared_log_error(y_pred,y_test)\n",
    "rmsle=np.sqrt(msle)\n",
    "print('RMSLE for the data:',rmsle) # For Ada-Boost"
   ]
  },
  {
   "cell_type": "code",
   "execution_count": 164,
   "id": "careful-uganda",
   "metadata": {},
   "outputs": [
    {
     "data": {
      "text/plain": [
       "['saved_models/adaboost_spatial.sav']"
      ]
     },
     "execution_count": 164,
     "metadata": {},
     "output_type": "execute_result"
    }
   ],
   "source": [
    "# save the model to disk\n",
    "filename = 'saved_models/adaboost_spatial.sav'\n",
    "joblib.dump(model, filename)"
   ]
  },
  {
   "cell_type": "markdown",
   "id": "undefined-fields",
   "metadata": {},
   "source": [
    "---"
   ]
  },
  {
   "cell_type": "markdown",
   "id": "explicit-houston",
   "metadata": {},
   "source": [
    "Getting rid of capacity and just leaving stations"
   ]
  },
  {
   "cell_type": "code",
   "execution_count": 165,
   "id": "solid-alaska",
   "metadata": {},
   "outputs": [
    {
     "data": {
      "text/html": [
       "<div>\n",
       "<style scoped>\n",
       "    .dataframe tbody tr th:only-of-type {\n",
       "        vertical-align: middle;\n",
       "    }\n",
       "\n",
       "    .dataframe tbody tr th {\n",
       "        vertical-align: top;\n",
       "    }\n",
       "\n",
       "    .dataframe thead th {\n",
       "        text-align: right;\n",
       "    }\n",
       "</style>\n",
       "<table border=\"1\" class=\"dataframe\">\n",
       "  <thead>\n",
       "    <tr style=\"text-align: right;\">\n",
       "      <th></th>\n",
       "      <th>stations</th>\n",
       "      <th>walk_score</th>\n",
       "      <th>bike_score</th>\n",
       "      <th>transit_score</th>\n",
       "      <th>temp</th>\n",
       "      <th>outflow</th>\n",
       "    </tr>\n",
       "  </thead>\n",
       "  <tbody>\n",
       "    <tr>\n",
       "      <th>0</th>\n",
       "      <td>1</td>\n",
       "      <td>76</td>\n",
       "      <td>82</td>\n",
       "      <td>86</td>\n",
       "      <td>73.0</td>\n",
       "      <td>1</td>\n",
       "    </tr>\n",
       "    <tr>\n",
       "      <th>1</th>\n",
       "      <td>1</td>\n",
       "      <td>76</td>\n",
       "      <td>82</td>\n",
       "      <td>86</td>\n",
       "      <td>69.7</td>\n",
       "      <td>0</td>\n",
       "    </tr>\n",
       "    <tr>\n",
       "      <th>2</th>\n",
       "      <td>1</td>\n",
       "      <td>76</td>\n",
       "      <td>82</td>\n",
       "      <td>86</td>\n",
       "      <td>53.4</td>\n",
       "      <td>0</td>\n",
       "    </tr>\n",
       "    <tr>\n",
       "      <th>3</th>\n",
       "      <td>1</td>\n",
       "      <td>76</td>\n",
       "      <td>82</td>\n",
       "      <td>86</td>\n",
       "      <td>37.3</td>\n",
       "      <td>0</td>\n",
       "    </tr>\n",
       "  </tbody>\n",
       "</table>\n",
       "</div>"
      ],
      "text/plain": [
       "   stations  walk_score  bike_score  transit_score  temp  outflow\n",
       "0         1          76          82             86  73.0        1\n",
       "1         1          76          82             86  69.7        0\n",
       "2         1          76          82             86  53.4        0\n",
       "3         1          76          82             86  37.3        0"
      ]
     },
     "execution_count": 165,
     "metadata": {},
     "output_type": "execute_result"
    }
   ],
   "source": [
    "df = pd.read_csv('../Data/PGH/DemandPrediction/learning_set_spatial.csv')\n",
    "df = df.drop(columns=['Unnamed: 0', 'capacity','index', 'year', 'month'])\n",
    "df.head(4)"
   ]
  },
  {
   "cell_type": "code",
   "execution_count": 166,
   "id": "durable-convention",
   "metadata": {},
   "outputs": [],
   "source": [
    "X = df.iloc[:, :5].to_numpy()\n",
    "y = df.iloc[:,5].to_numpy()\n",
    "\n",
    "X_train, X_test, y_train, y_test = train_test_split(X, y, test_size=0.3, random_state=42)"
   ]
  },
  {
   "cell_type": "code",
   "execution_count": 167,
   "id": "corresponding-reaction",
   "metadata": {},
   "outputs": [
    {
     "name": "stdout",
     "output_type": "stream",
     "text": [
      "RMLSE for the data: 0.90412181469817\n",
      "121.76271186440678\n"
     ]
    }
   ],
   "source": [
    "from sklearn.tree import DecisionTreeRegressor\n",
    "from sklearn.model_selection import GridSearchCV\n",
    "\n",
    "dt = DecisionTreeRegressor(random_state=0)\n",
    "dt_params = {'max_depth':np.arange(1,50,2),'min_samples_leaf':np.arange(2,15)}\n",
    "\n",
    "gs_dt = GridSearchCV(dt,dt_params,cv=3)\n",
    "gs_dt.fit(X_train,y_train)\n",
    "a = gs_dt.best_params_\n",
    "\n",
    "dtr=DecisionTreeRegressor(max_depth=a['max_depth'],min_samples_leaf= a['min_samples_leaf'])\n",
    "model = dtr.fit(X_train,y_train)\n",
    "y_pred = model.predict(X_test)\n",
    "\n",
    "from sklearn.metrics import mean_squared_log_error\n",
    "msle=mean_squared_log_error(y_pred,y_test)\n",
    "rmsle=np.sqrt(msle)\n",
    "print('RMLSE for the data:',rmsle) # For decision tree\n",
    "print(np.mean(y_test))"
   ]
  },
  {
   "cell_type": "code",
   "execution_count": 168,
   "id": "together-jenny",
   "metadata": {},
   "outputs": [
    {
     "data": {
      "text/plain": [
       "['saved_models/decision_tree_spatial2.sav']"
      ]
     },
     "execution_count": 168,
     "metadata": {},
     "output_type": "execute_result"
    }
   ],
   "source": [
    "# save the model to disk\n",
    "filename = 'saved_models/decision_tree_spatial2.sav'\n",
    "joblib.dump(model, filename)"
   ]
  },
  {
   "cell_type": "code",
   "execution_count": 169,
   "id": "headed-ridge",
   "metadata": {},
   "outputs": [
    {
     "name": "stdout",
     "output_type": "stream",
     "text": [
      "RMLSE for the data: 0.8910642894916045\n",
      "121.76271186440678\n"
     ]
    }
   ],
   "source": [
    "#Random Forest\n",
    "rf = RandomForestRegressor(random_state=0)\n",
    "rf_params = {'n_estimators':np.arange(25,150,25),'max_depth':np.arange(1,11,2),'min_samples_leaf':np.arange(2,15,3)}\n",
    "\n",
    "gs_rf = GridSearchCV(rf,rf_params,cv=3)\n",
    "gs_rf.fit(X_train,y_train)\n",
    "b = gs_rf.best_params_\n",
    "\n",
    "RF = RandomForestRegressor(n_estimators=b['n_estimators'],max_depth=b['max_depth'],min_samples_leaf=b['min_samples_leaf'],random_state=0)\n",
    "model = RF.fit(X_train,y_train)\n",
    "y_pred = model.predict(X_test)\n",
    "\n",
    "msle=mean_squared_log_error(y_pred,y_test)\n",
    "rmsle=np.sqrt(msle)\n",
    "print('RMLSE for the data:',rmsle) # For random forest\n",
    "print(np.mean(y_test))"
   ]
  },
  {
   "cell_type": "code",
   "execution_count": 170,
   "id": "hungarian-overview",
   "metadata": {},
   "outputs": [
    {
     "data": {
      "text/plain": [
       "['saved_models/random_forest_spatial2.sav']"
      ]
     },
     "execution_count": 170,
     "metadata": {},
     "output_type": "execute_result"
    }
   ],
   "source": [
    "# save the model to disk\n",
    "filename = 'saved_models/random_forest_spatial2.sav'\n",
    "joblib.dump(model, filename)"
   ]
  },
  {
   "cell_type": "code",
   "execution_count": 171,
   "id": "funny-symposium",
   "metadata": {},
   "outputs": [
    {
     "name": "stdout",
     "output_type": "stream",
     "text": [
      "RMSLE for the data: 1.0124966738506869\n",
      "121.76271186440678\n"
     ]
    }
   ],
   "source": [
    "#Adaboost Regressor\n",
    "from sklearn.ensemble import AdaBoostRegressor\n",
    "ar = AdaBoostRegressor(base_estimator=RF,random_state=0)\n",
    "ar_params = {'n_estimators':np.arange(25,200,25)}\n",
    "\n",
    "gs_ar = GridSearchCV(ar,ar_params,cv=3)\n",
    "gs_ar.fit(X_train,y_train)\n",
    "c = gs_ar.best_params_\n",
    "\n",
    "ab_rf = AdaBoostRegressor(base_estimator=RF,n_estimators=c['n_estimators'],random_state=0)\n",
    "model = ab_rf.fit(X_train,y_train)\n",
    "y_pred = model.predict(X_test)\n",
    "\n",
    "msle=mean_squared_log_error(y_pred,y_test)\n",
    "rmsle=np.sqrt(msle)\n",
    "print('RMSLE for the data:',rmsle) # For Ada-Boost\n",
    "print(np.mean(y_test))"
   ]
  },
  {
   "cell_type": "code",
   "execution_count": 172,
   "id": "affiliated-attempt",
   "metadata": {},
   "outputs": [
    {
     "data": {
      "text/plain": [
       "['saved_models/adaboost_spatial2.sav']"
      ]
     },
     "execution_count": 172,
     "metadata": {},
     "output_type": "execute_result"
    }
   ],
   "source": [
    "# save the model to disk\n",
    "filename = 'saved_models/adaboost_spatial2.sav'\n",
    "joblib.dump(model, filename)"
   ]
  },
  {
   "cell_type": "markdown",
   "id": "realistic-emerald",
   "metadata": {},
   "source": [
    "----"
   ]
  },
  {
   "cell_type": "markdown",
   "id": "sacred-screw",
   "metadata": {},
   "source": [
    "### Spataially sensitive training set"
   ]
  },
  {
   "cell_type": "code",
   "execution_count": 173,
   "id": "simple-aggregate",
   "metadata": {},
   "outputs": [
    {
     "data": {
      "text/html": [
       "<div>\n",
       "<style scoped>\n",
       "    .dataframe tbody tr th:only-of-type {\n",
       "        vertical-align: middle;\n",
       "    }\n",
       "\n",
       "    .dataframe tbody tr th {\n",
       "        vertical-align: top;\n",
       "    }\n",
       "\n",
       "    .dataframe thead th {\n",
       "        text-align: right;\n",
       "    }\n",
       "</style>\n",
       "<table border=\"1\" class=\"dataframe\">\n",
       "  <thead>\n",
       "    <tr style=\"text-align: right;\">\n",
       "      <th></th>\n",
       "      <th>stations</th>\n",
       "      <th>walk_score</th>\n",
       "      <th>bike_score</th>\n",
       "      <th>transit_score</th>\n",
       "      <th>temp</th>\n",
       "      <th>N</th>\n",
       "      <th>S</th>\n",
       "      <th>E</th>\n",
       "      <th>W</th>\n",
       "      <th>NW</th>\n",
       "      <th>NE</th>\n",
       "      <th>SW</th>\n",
       "      <th>SE</th>\n",
       "      <th>nearby_routes</th>\n",
       "    </tr>\n",
       "  </thead>\n",
       "  <tbody>\n",
       "    <tr>\n",
       "      <th>0</th>\n",
       "      <td>1</td>\n",
       "      <td>76</td>\n",
       "      <td>82</td>\n",
       "      <td>86</td>\n",
       "      <td>73.0</td>\n",
       "      <td>0</td>\n",
       "      <td>0</td>\n",
       "      <td>0</td>\n",
       "      <td>0</td>\n",
       "      <td>0</td>\n",
       "      <td>0</td>\n",
       "      <td>0</td>\n",
       "      <td>0</td>\n",
       "      <td>63</td>\n",
       "    </tr>\n",
       "    <tr>\n",
       "      <th>1</th>\n",
       "      <td>1</td>\n",
       "      <td>76</td>\n",
       "      <td>82</td>\n",
       "      <td>86</td>\n",
       "      <td>69.7</td>\n",
       "      <td>0</td>\n",
       "      <td>0</td>\n",
       "      <td>0</td>\n",
       "      <td>0</td>\n",
       "      <td>0</td>\n",
       "      <td>0</td>\n",
       "      <td>0</td>\n",
       "      <td>0</td>\n",
       "      <td>63</td>\n",
       "    </tr>\n",
       "    <tr>\n",
       "      <th>2</th>\n",
       "      <td>1</td>\n",
       "      <td>76</td>\n",
       "      <td>82</td>\n",
       "      <td>86</td>\n",
       "      <td>53.4</td>\n",
       "      <td>3</td>\n",
       "      <td>0</td>\n",
       "      <td>0</td>\n",
       "      <td>0</td>\n",
       "      <td>0</td>\n",
       "      <td>3</td>\n",
       "      <td>0</td>\n",
       "      <td>0</td>\n",
       "      <td>63</td>\n",
       "    </tr>\n",
       "    <tr>\n",
       "      <th>3</th>\n",
       "      <td>1</td>\n",
       "      <td>76</td>\n",
       "      <td>82</td>\n",
       "      <td>86</td>\n",
       "      <td>37.3</td>\n",
       "      <td>3</td>\n",
       "      <td>0</td>\n",
       "      <td>0</td>\n",
       "      <td>0</td>\n",
       "      <td>0</td>\n",
       "      <td>3</td>\n",
       "      <td>0</td>\n",
       "      <td>0</td>\n",
       "      <td>63</td>\n",
       "    </tr>\n",
       "    <tr>\n",
       "      <th>4</th>\n",
       "      <td>1</td>\n",
       "      <td>76</td>\n",
       "      <td>82</td>\n",
       "      <td>86</td>\n",
       "      <td>34.9</td>\n",
       "      <td>3</td>\n",
       "      <td>0</td>\n",
       "      <td>0</td>\n",
       "      <td>0</td>\n",
       "      <td>0</td>\n",
       "      <td>3</td>\n",
       "      <td>0</td>\n",
       "      <td>0</td>\n",
       "      <td>63</td>\n",
       "    </tr>\n",
       "  </tbody>\n",
       "</table>\n",
       "</div>"
      ],
      "text/plain": [
       "   stations  walk_score  bike_score  transit_score  temp  N  S  E  W  NW  NE  \\\n",
       "0         1          76          82             86  73.0  0  0  0  0   0   0   \n",
       "1         1          76          82             86  69.7  0  0  0  0   0   0   \n",
       "2         1          76          82             86  53.4  3  0  0  0   0   3   \n",
       "3         1          76          82             86  37.3  3  0  0  0   0   3   \n",
       "4         1          76          82             86  34.9  3  0  0  0   0   3   \n",
       "\n",
       "   SW  SE  nearby_routes  \n",
       "0   0   0             63  \n",
       "1   0   0             63  \n",
       "2   0   0             63  \n",
       "3   0   0             63  \n",
       "4   0   0             63  "
      ]
     },
     "execution_count": 173,
     "metadata": {},
     "output_type": "execute_result"
    }
   ],
   "source": [
    "df = pd.read_csv('../Data/PGH/DemandPrediction/spatially_sensitive_train.csv')\n",
    "df = df.drop(columns=['Unnamed: 0', 'capacity','index', 'year', 'month', 'stationList', 'cell_num', 'nearby'])\n",
    "\n",
    "#labels\n",
    "y = df['outflow'].values\n",
    "df = df.drop(columns=['outflow'])\n",
    "X = df.iloc[:, :].to_numpy()\n",
    "\n",
    "df.head(5)"
   ]
  },
  {
   "cell_type": "code",
   "execution_count": 174,
   "id": "incorrect-yacht",
   "metadata": {},
   "outputs": [
    {
     "data": {
      "text/plain": [
       "array([1, 0, 0, ..., 6, 3, 0])"
      ]
     },
     "execution_count": 174,
     "metadata": {},
     "output_type": "execute_result"
    }
   ],
   "source": [
    "y"
   ]
  },
  {
   "cell_type": "code",
   "execution_count": 175,
   "id": "outside-opposition",
   "metadata": {},
   "outputs": [
    {
     "data": {
      "text/plain": [
       "array([[ 1., 76., 82., ...,  0.,  0., 63.],\n",
       "       [ 1., 76., 82., ...,  0.,  0., 63.],\n",
       "       [ 1., 76., 82., ...,  0.,  0., 63.],\n",
       "       ...,\n",
       "       [ 1., 60., 74., ...,  0.,  0., 26.],\n",
       "       [ 1., 60., 74., ...,  0.,  0., 26.],\n",
       "       [ 1., 60., 74., ...,  0.,  0., 26.]])"
      ]
     },
     "execution_count": 175,
     "metadata": {},
     "output_type": "execute_result"
    }
   ],
   "source": [
    "X"
   ]
  },
  {
   "cell_type": "code",
   "execution_count": 176,
   "id": "confident-stewart",
   "metadata": {},
   "outputs": [],
   "source": [
    "X_train, X_test, y_train, y_test = train_test_split(X, y, test_size=0.3, random_state=42)"
   ]
  },
  {
   "cell_type": "code",
   "execution_count": 177,
   "id": "described-phone",
   "metadata": {},
   "outputs": [
    {
     "name": "stdout",
     "output_type": "stream",
     "text": [
      "RMLSE for the data: 0.8832232814410339\n",
      "124.61115830863774\n"
     ]
    }
   ],
   "source": [
    "from sklearn.tree import DecisionTreeRegressor\n",
    "from sklearn.model_selection import GridSearchCV\n",
    "\n",
    "dt = DecisionTreeRegressor(random_state=0)\n",
    "dt_params = {'max_depth':np.arange(1,50,2),'min_samples_leaf':np.arange(2,15)}\n",
    "\n",
    "gs_dt = GridSearchCV(dt,dt_params,cv=3)\n",
    "gs_dt.fit(X_train,y_train)\n",
    "a = gs_dt.best_params_\n",
    "\n",
    "dtr=DecisionTreeRegressor(max_depth=a['max_depth'],min_samples_leaf= a['min_samples_leaf'])\n",
    "model = dtr.fit(X_train,y_train)\n",
    "y_pred = model.predict(X_test)\n",
    "\n",
    "from sklearn.metrics import mean_squared_log_error\n",
    "msle=mean_squared_log_error(y_pred,y_test)\n",
    "rmsle=np.sqrt(msle)\n",
    "print('RMLSE for the data:',rmsle) # For decision tree\n",
    "print(np.mean(y_pred))"
   ]
  },
  {
   "cell_type": "code",
   "execution_count": 178,
   "id": "usual-queens",
   "metadata": {},
   "outputs": [
    {
     "data": {
      "text/plain": [
       "['saved_models/decision_tree_spatial_sensitive.sav']"
      ]
     },
     "execution_count": 178,
     "metadata": {},
     "output_type": "execute_result"
    }
   ],
   "source": [
    "# save the model to disk\n",
    "filename = 'saved_models/decision_tree_spatial_sensitive.sav'\n",
    "joblib.dump(model, filename)"
   ]
  },
  {
   "cell_type": "code",
   "execution_count": 179,
   "id": "inclusive-filter",
   "metadata": {},
   "outputs": [
    {
     "name": "stdout",
     "output_type": "stream",
     "text": [
      "RMLSE for the data: 0.878890196310382\n",
      "122.39902834270788\n"
     ]
    }
   ],
   "source": [
    "#Random Forest\n",
    "rf = RandomForestRegressor(random_state=0)\n",
    "rf_params = {'n_estimators':np.arange(25,150,25),'max_depth':np.arange(1,11,2),'min_samples_leaf':np.arange(2,15,3)}\n",
    "\n",
    "gs_rf = GridSearchCV(rf,rf_params,cv=3)\n",
    "gs_rf.fit(X_train,y_train)\n",
    "b = gs_rf.best_params_\n",
    "\n",
    "RF = RandomForestRegressor(n_estimators=b['n_estimators'],max_depth=b['max_depth'],min_samples_leaf=b['min_samples_leaf'],random_state=0)\n",
    "model = RF.fit(X_train,y_train)\n",
    "y_pred = model.predict(X_test)\n",
    "\n",
    "msle=mean_squared_log_error(y_pred,y_test)\n",
    "rmsle=np.sqrt(msle)\n",
    "print('RMLSE for the data:',rmsle) # For random forest\n",
    "print(np.mean(y_pred))"
   ]
  },
  {
   "cell_type": "code",
   "execution_count": 180,
   "id": "understanding-natural",
   "metadata": {},
   "outputs": [
    {
     "data": {
      "text/plain": [
       "['saved_models/random_forest_spatial_sensitive.sav']"
      ]
     },
     "execution_count": 180,
     "metadata": {},
     "output_type": "execute_result"
    }
   ],
   "source": [
    "# save the model to disk\n",
    "filename = 'saved_models/random_forest_spatial_sensitive.sav'\n",
    "joblib.dump(model, filename)"
   ]
  },
  {
   "cell_type": "code",
   "execution_count": 181,
   "id": "latin-mediterranean",
   "metadata": {},
   "outputs": [
    {
     "name": "stdout",
     "output_type": "stream",
     "text": [
      "RMSLE for the data: 0.9952237597397655\n",
      "132.9048977833412\n"
     ]
    }
   ],
   "source": [
    "#Adaboost Regressor\n",
    "from sklearn.ensemble import AdaBoostRegressor\n",
    "ar = AdaBoostRegressor(base_estimator=RF,random_state=0)\n",
    "ar_params = {'n_estimators':np.arange(25,200,25)}\n",
    "\n",
    "gs_ar = GridSearchCV(ar,ar_params,cv=3)\n",
    "gs_ar.fit(X_train,y_train)\n",
    "c = gs_ar.best_params_\n",
    "\n",
    "ab_rf = AdaBoostRegressor(base_estimator=RF,n_estimators=c['n_estimators'],random_state=0)\n",
    "model = ab_rf.fit(X_train,y_train)\n",
    "y_pred = model.predict(X_test)\n",
    "\n",
    "msle=mean_squared_log_error(y_pred,y_test)\n",
    "rmsle=np.sqrt(msle)\n",
    "print('RMSLE for the data:',rmsle) # For Ada-Boost\n",
    "print(np.mean(y_pred))"
   ]
  },
  {
   "cell_type": "code",
   "execution_count": 182,
   "id": "planned-michigan",
   "metadata": {},
   "outputs": [
    {
     "data": {
      "text/plain": [
       "['saved_models/adaboost_spatial_sensitive.sav']"
      ]
     },
     "execution_count": 182,
     "metadata": {},
     "output_type": "execute_result"
    }
   ],
   "source": [
    "# save the model to disk\n",
    "filename = 'saved_models/adaboost_spatial_sensitive.sav'\n",
    "joblib.dump(model, filename)"
   ]
  },
  {
   "cell_type": "markdown",
   "id": "significant-radio",
   "metadata": {},
   "source": [
    "----"
   ]
  },
  {
   "cell_type": "markdown",
   "id": "silver-decline",
   "metadata": {},
   "source": [
    "Taking the stations attribute out...I don't think we want that. "
   ]
  },
  {
   "cell_type": "code",
   "execution_count": 183,
   "id": "accomplished-wheat",
   "metadata": {},
   "outputs": [
    {
     "data": {
      "text/html": [
       "<div>\n",
       "<style scoped>\n",
       "    .dataframe tbody tr th:only-of-type {\n",
       "        vertical-align: middle;\n",
       "    }\n",
       "\n",
       "    .dataframe tbody tr th {\n",
       "        vertical-align: top;\n",
       "    }\n",
       "\n",
       "    .dataframe thead th {\n",
       "        text-align: right;\n",
       "    }\n",
       "</style>\n",
       "<table border=\"1\" class=\"dataframe\">\n",
       "  <thead>\n",
       "    <tr style=\"text-align: right;\">\n",
       "      <th></th>\n",
       "      <th>walk_score</th>\n",
       "      <th>bike_score</th>\n",
       "      <th>transit_score</th>\n",
       "      <th>temp</th>\n",
       "      <th>N</th>\n",
       "      <th>S</th>\n",
       "      <th>E</th>\n",
       "      <th>W</th>\n",
       "      <th>NW</th>\n",
       "      <th>NE</th>\n",
       "      <th>SW</th>\n",
       "      <th>SE</th>\n",
       "      <th>nearby_routes</th>\n",
       "    </tr>\n",
       "  </thead>\n",
       "  <tbody>\n",
       "    <tr>\n",
       "      <th>0</th>\n",
       "      <td>76</td>\n",
       "      <td>82</td>\n",
       "      <td>86</td>\n",
       "      <td>73.0</td>\n",
       "      <td>0</td>\n",
       "      <td>0</td>\n",
       "      <td>0</td>\n",
       "      <td>0</td>\n",
       "      <td>0</td>\n",
       "      <td>0</td>\n",
       "      <td>0</td>\n",
       "      <td>0</td>\n",
       "      <td>63</td>\n",
       "    </tr>\n",
       "    <tr>\n",
       "      <th>1</th>\n",
       "      <td>76</td>\n",
       "      <td>82</td>\n",
       "      <td>86</td>\n",
       "      <td>69.7</td>\n",
       "      <td>0</td>\n",
       "      <td>0</td>\n",
       "      <td>0</td>\n",
       "      <td>0</td>\n",
       "      <td>0</td>\n",
       "      <td>0</td>\n",
       "      <td>0</td>\n",
       "      <td>0</td>\n",
       "      <td>63</td>\n",
       "    </tr>\n",
       "    <tr>\n",
       "      <th>2</th>\n",
       "      <td>76</td>\n",
       "      <td>82</td>\n",
       "      <td>86</td>\n",
       "      <td>53.4</td>\n",
       "      <td>3</td>\n",
       "      <td>0</td>\n",
       "      <td>0</td>\n",
       "      <td>0</td>\n",
       "      <td>0</td>\n",
       "      <td>3</td>\n",
       "      <td>0</td>\n",
       "      <td>0</td>\n",
       "      <td>63</td>\n",
       "    </tr>\n",
       "    <tr>\n",
       "      <th>3</th>\n",
       "      <td>76</td>\n",
       "      <td>82</td>\n",
       "      <td>86</td>\n",
       "      <td>37.3</td>\n",
       "      <td>3</td>\n",
       "      <td>0</td>\n",
       "      <td>0</td>\n",
       "      <td>0</td>\n",
       "      <td>0</td>\n",
       "      <td>3</td>\n",
       "      <td>0</td>\n",
       "      <td>0</td>\n",
       "      <td>63</td>\n",
       "    </tr>\n",
       "    <tr>\n",
       "      <th>4</th>\n",
       "      <td>76</td>\n",
       "      <td>82</td>\n",
       "      <td>86</td>\n",
       "      <td>34.9</td>\n",
       "      <td>3</td>\n",
       "      <td>0</td>\n",
       "      <td>0</td>\n",
       "      <td>0</td>\n",
       "      <td>0</td>\n",
       "      <td>3</td>\n",
       "      <td>0</td>\n",
       "      <td>0</td>\n",
       "      <td>63</td>\n",
       "    </tr>\n",
       "  </tbody>\n",
       "</table>\n",
       "</div>"
      ],
      "text/plain": [
       "   walk_score  bike_score  transit_score  temp  N  S  E  W  NW  NE  SW  SE  \\\n",
       "0          76          82             86  73.0  0  0  0  0   0   0   0   0   \n",
       "1          76          82             86  69.7  0  0  0  0   0   0   0   0   \n",
       "2          76          82             86  53.4  3  0  0  0   0   3   0   0   \n",
       "3          76          82             86  37.3  3  0  0  0   0   3   0   0   \n",
       "4          76          82             86  34.9  3  0  0  0   0   3   0   0   \n",
       "\n",
       "   nearby_routes  \n",
       "0             63  \n",
       "1             63  \n",
       "2             63  \n",
       "3             63  \n",
       "4             63  "
      ]
     },
     "execution_count": 183,
     "metadata": {},
     "output_type": "execute_result"
    }
   ],
   "source": [
    "df = pd.read_csv('../Data/PGH/DemandPrediction/spatially_sensitive_train.csv')\n",
    "df = df.drop(columns=['Unnamed: 0', 'stations','capacity','index', 'year', 'month', 'stationList', 'cell_num', 'nearby'])\n",
    "\n",
    "#labels\n",
    "y = df['outflow'].values\n",
    "df = df.drop(columns=['outflow'])\n",
    "X = df.iloc[:, :].to_numpy()\n",
    "\n",
    "df.head(5)"
   ]
  },
  {
   "cell_type": "code",
   "execution_count": 184,
   "id": "close-valentine",
   "metadata": {},
   "outputs": [],
   "source": [
    "X_train, X_test, y_train, y_test = train_test_split(X, y, test_size=0.3, random_state=42)"
   ]
  },
  {
   "cell_type": "code",
   "execution_count": 185,
   "id": "changing-working",
   "metadata": {},
   "outputs": [
    {
     "name": "stdout",
     "output_type": "stream",
     "text": [
      "RMLSE for the data: 0.9078563992774833\n",
      "125.72487002383251\n"
     ]
    }
   ],
   "source": [
    "from sklearn.tree import DecisionTreeRegressor\n",
    "from sklearn.model_selection import GridSearchCV\n",
    "\n",
    "dt = DecisionTreeRegressor(random_state=0)\n",
    "dt_params = {'max_depth':np.arange(1,50,2),'min_samples_leaf':np.arange(2,15)}\n",
    "\n",
    "gs_dt = GridSearchCV(dt,dt_params,cv=3)\n",
    "gs_dt.fit(X_train,y_train)\n",
    "a = gs_dt.best_params_\n",
    "\n",
    "dtr=DecisionTreeRegressor(max_depth=a['max_depth'],min_samples_leaf= a['min_samples_leaf'])\n",
    "model = dtr.fit(X_train,y_train)\n",
    "y_pred = model.predict(X_test)\n",
    "\n",
    "from sklearn.metrics import mean_squared_log_error\n",
    "msle=mean_squared_log_error(y_pred,y_test)\n",
    "rmsle=np.sqrt(msle)\n",
    "print('RMLSE for the data:',rmsle) # For decision tree\n",
    "print(np.mean(y_pred))"
   ]
  },
  {
   "cell_type": "code",
   "execution_count": 186,
   "id": "lovely-absolute",
   "metadata": {},
   "outputs": [
    {
     "data": {
      "text/plain": [
       "['saved_models/decision_tree_spatial_sensitive2.sav']"
      ]
     },
     "execution_count": 186,
     "metadata": {},
     "output_type": "execute_result"
    }
   ],
   "source": [
    "# save the model to disk\n",
    "filename = 'saved_models/decision_tree_spatial_sensitive2.sav'\n",
    "joblib.dump(model, filename)"
   ]
  },
  {
   "cell_type": "code",
   "execution_count": 187,
   "id": "cardiovascular-cotton",
   "metadata": {},
   "outputs": [
    {
     "name": "stdout",
     "output_type": "stream",
     "text": [
      "RMLSE for the data: 0.9048022253814225\n",
      "123.38639137662969\n"
     ]
    }
   ],
   "source": [
    "#Random Forest\n",
    "rf = RandomForestRegressor(random_state=0)\n",
    "rf_params = {'n_estimators':np.arange(25,150,25),'max_depth':np.arange(1,11,2),'min_samples_leaf':np.arange(2,15,3)}\n",
    "\n",
    "gs_rf = GridSearchCV(rf,rf_params,cv=3)\n",
    "gs_rf.fit(X_train,y_train)\n",
    "b = gs_rf.best_params_\n",
    "\n",
    "RF = RandomForestRegressor(n_estimators=b['n_estimators'],max_depth=b['max_depth'],min_samples_leaf=b['min_samples_leaf'],random_state=0)\n",
    "model = RF.fit(X_train,y_train)\n",
    "y_pred = model.predict(X_test)\n",
    "\n",
    "msle=mean_squared_log_error(y_pred,y_test)\n",
    "rmsle=np.sqrt(msle)\n",
    "print('RMLSE for the data:',rmsle) # For random forest\n",
    "print(np.mean(y_pred))"
   ]
  },
  {
   "cell_type": "code",
   "execution_count": 188,
   "id": "smooth-speaking",
   "metadata": {},
   "outputs": [
    {
     "data": {
      "text/plain": [
       "['saved_models/random_forest_spatial_sensitive2.sav']"
      ]
     },
     "execution_count": 188,
     "metadata": {},
     "output_type": "execute_result"
    }
   ],
   "source": [
    "# save the model to disk\n",
    "filename = 'saved_models/random_forest_spatial_sensitive2.sav'\n",
    "joblib.dump(model, filename)"
   ]
  },
  {
   "cell_type": "code",
   "execution_count": 189,
   "id": "dramatic-breathing",
   "metadata": {},
   "outputs": [
    {
     "name": "stdout",
     "output_type": "stream",
     "text": [
      "RMSLE for the data: 1.0138594822924447\n",
      "133.18009645234318\n"
     ]
    }
   ],
   "source": [
    "#Adaboost Regressor\n",
    "from sklearn.ensemble import AdaBoostRegressor\n",
    "ar = AdaBoostRegressor(base_estimator=RF,random_state=0)\n",
    "ar_params = {'n_estimators':np.arange(25,200,25)}\n",
    "\n",
    "gs_ar = GridSearchCV(ar,ar_params,cv=3)\n",
    "gs_ar.fit(X_train,y_train)\n",
    "c = gs_ar.best_params_\n",
    "\n",
    "ab_rf = AdaBoostRegressor(base_estimator=RF,n_estimators=c['n_estimators'],random_state=0)\n",
    "model = ab_rf.fit(X_train,y_train)\n",
    "y_pred = model.predict(X_test)\n",
    "\n",
    "msle=mean_squared_log_error(y_pred,y_test)\n",
    "rmsle=np.sqrt(msle)\n",
    "print('RMSLE for the data:',rmsle) # For Ada-Boost\n",
    "print(np.mean(y_pred))"
   ]
  },
  {
   "cell_type": "code",
   "execution_count": 190,
   "id": "divine-consumption",
   "metadata": {},
   "outputs": [
    {
     "data": {
      "text/plain": [
       "['saved_models/adaboost_spatial_sensitive.sav']"
      ]
     },
     "execution_count": 190,
     "metadata": {},
     "output_type": "execute_result"
    }
   ],
   "source": [
    "# save the model to disk\n",
    "filename = 'saved_models/adaboost_spatial_sensitive.sav'\n",
    "joblib.dump(model, filename)"
   ]
  },
  {
   "cell_type": "code",
   "execution_count": 122,
   "id": "going-success",
   "metadata": {},
   "outputs": [],
   "source": [
    "# def get_model_performance(X_test, y_true, y_pred, probs):\n",
    "#     accuracy = accuracy_score(y_true, y_pred)\n",
    "#     matrix = confusion_matrix(y_true, y_pred)\n",
    "#     f1 = f1_score(y_true, y_pred)\n",
    "#     preds = probs[:, 1]\n",
    "#     fpr, tpr, threshold = roc_curve(y_true, preds)\n",
    "#     roc_auc = auc(fpr, tpr)\n",
    "\n",
    "#     return accuracy, matrix, f1, fpr, tpr, roc_auc\n",
    "\n",
    "# def plot_model_performance(model, X_test, y_true):\n",
    "#     y_pred = model.predict(X_test)\n",
    "#     probs = model.predict_proba(X_test)\n",
    "#     accuracy, matrix, f1, fpr, tpr, roc_auc = get_model_performance(X_test, y_true, y_pred, probs)\n",
    "\n",
    "#     display(Markdown('#### Accuracy of the model :'))\n",
    "#     print(accuracy)\n",
    "#     display(Markdown('#### F1 score of the model :'))\n",
    "#     print(f1)\n",
    "\n",
    "#     fig = plt.figure(figsize=(15, 6))\n",
    "#     ax = fig.add_subplot(1, 2, 1)\n",
    "#     sns.heatmap(matrix, annot=True, cmap='Blues', fmt='g')\n",
    "#     plt.title('Confusion Matrix')\n",
    "\n",
    "#     ax = fig.add_subplot(1, 2, 2)\n",
    "#     lw = 2\n",
    "#     plt.plot(fpr, tpr, color='darkorange', lw=lw, label='ROC curve (area = %0.2f)' % roc_auc)\n",
    "#     plt.plot([0, 1], [0, 1], color='navy', lw=lw, linestyle='--')\n",
    "#     plt.xlim([0.0, 1.0])\n",
    "#     plt.ylim([0.0, 1.05])\n",
    "#     plt.xlabel('False Positive Rate')\n",
    "#     plt.ylabel('True Positive Rate')\n",
    "#     plt.title('Receiver Operating Characteristic curve')\n",
    "#     plt.legend(loc=\"lower right\")"
   ]
  },
  {
   "cell_type": "code",
   "execution_count": 191,
   "id": "designing-outside",
   "metadata": {},
   "outputs": [],
   "source": [
    "# plot_model_performance(RF, X_test.features, y_test)"
   ]
  },
  {
   "cell_type": "markdown",
   "id": "physical-titanium",
   "metadata": {},
   "source": [
    "---"
   ]
  },
  {
   "cell_type": "markdown",
   "id": "composite-welding",
   "metadata": {},
   "source": [
    "Filtering out when outflow is 0"
   ]
  },
  {
   "cell_type": "code",
   "execution_count": 192,
   "id": "peripheral-holder",
   "metadata": {},
   "outputs": [
    {
     "data": {
      "text/html": [
       "<div>\n",
       "<style scoped>\n",
       "    .dataframe tbody tr th:only-of-type {\n",
       "        vertical-align: middle;\n",
       "    }\n",
       "\n",
       "    .dataframe tbody tr th {\n",
       "        vertical-align: top;\n",
       "    }\n",
       "\n",
       "    .dataframe thead th {\n",
       "        text-align: right;\n",
       "    }\n",
       "</style>\n",
       "<table border=\"1\" class=\"dataframe\">\n",
       "  <thead>\n",
       "    <tr style=\"text-align: right;\">\n",
       "      <th></th>\n",
       "      <th>walk_score</th>\n",
       "      <th>bike_score</th>\n",
       "      <th>transit_score</th>\n",
       "      <th>temp</th>\n",
       "      <th>N</th>\n",
       "      <th>S</th>\n",
       "      <th>E</th>\n",
       "      <th>W</th>\n",
       "      <th>NW</th>\n",
       "      <th>NE</th>\n",
       "      <th>SW</th>\n",
       "      <th>SE</th>\n",
       "      <th>nearby_routes</th>\n",
       "    </tr>\n",
       "  </thead>\n",
       "  <tbody>\n",
       "    <tr>\n",
       "      <th>0</th>\n",
       "      <td>76</td>\n",
       "      <td>82</td>\n",
       "      <td>86</td>\n",
       "      <td>73.0</td>\n",
       "      <td>0</td>\n",
       "      <td>0</td>\n",
       "      <td>0</td>\n",
       "      <td>0</td>\n",
       "      <td>0</td>\n",
       "      <td>0</td>\n",
       "      <td>0</td>\n",
       "      <td>0</td>\n",
       "      <td>63</td>\n",
       "    </tr>\n",
       "    <tr>\n",
       "      <th>9</th>\n",
       "      <td>76</td>\n",
       "      <td>82</td>\n",
       "      <td>86</td>\n",
       "      <td>37.7</td>\n",
       "      <td>3</td>\n",
       "      <td>0</td>\n",
       "      <td>0</td>\n",
       "      <td>0</td>\n",
       "      <td>0</td>\n",
       "      <td>3</td>\n",
       "      <td>0</td>\n",
       "      <td>0</td>\n",
       "      <td>63</td>\n",
       "    </tr>\n",
       "    <tr>\n",
       "      <th>10</th>\n",
       "      <td>76</td>\n",
       "      <td>82</td>\n",
       "      <td>86</td>\n",
       "      <td>35.4</td>\n",
       "      <td>3</td>\n",
       "      <td>0</td>\n",
       "      <td>0</td>\n",
       "      <td>0</td>\n",
       "      <td>0</td>\n",
       "      <td>3</td>\n",
       "      <td>0</td>\n",
       "      <td>0</td>\n",
       "      <td>63</td>\n",
       "    </tr>\n",
       "    <tr>\n",
       "      <th>11</th>\n",
       "      <td>76</td>\n",
       "      <td>82</td>\n",
       "      <td>86</td>\n",
       "      <td>52.4</td>\n",
       "      <td>3</td>\n",
       "      <td>0</td>\n",
       "      <td>0</td>\n",
       "      <td>0</td>\n",
       "      <td>0</td>\n",
       "      <td>3</td>\n",
       "      <td>0</td>\n",
       "      <td>0</td>\n",
       "      <td>63</td>\n",
       "    </tr>\n",
       "    <tr>\n",
       "      <th>12</th>\n",
       "      <td>76</td>\n",
       "      <td>82</td>\n",
       "      <td>86</td>\n",
       "      <td>73.2</td>\n",
       "      <td>0</td>\n",
       "      <td>0</td>\n",
       "      <td>0</td>\n",
       "      <td>0</td>\n",
       "      <td>0</td>\n",
       "      <td>0</td>\n",
       "      <td>0</td>\n",
       "      <td>0</td>\n",
       "      <td>63</td>\n",
       "    </tr>\n",
       "  </tbody>\n",
       "</table>\n",
       "</div>"
      ],
      "text/plain": [
       "    walk_score  bike_score  transit_score  temp  N  S  E  W  NW  NE  SW  SE  \\\n",
       "0           76          82             86  73.0  0  0  0  0   0   0   0   0   \n",
       "9           76          82             86  37.7  3  0  0  0   0   3   0   0   \n",
       "10          76          82             86  35.4  3  0  0  0   0   3   0   0   \n",
       "11          76          82             86  52.4  3  0  0  0   0   3   0   0   \n",
       "12          76          82             86  73.2  0  0  0  0   0   0   0   0   \n",
       "\n",
       "    nearby_routes  \n",
       "0              63  \n",
       "9              63  \n",
       "10             63  \n",
       "11             63  \n",
       "12             63  "
      ]
     },
     "execution_count": 192,
     "metadata": {},
     "output_type": "execute_result"
    }
   ],
   "source": [
    "df = pd.read_csv('../Data/PGH/DemandPrediction/spatially_sensitive_train.csv')\n",
    "df = df.drop(columns=['Unnamed: 0', 'stations','capacity','index', 'year', 'month', 'stationList', 'cell_num', 'nearby'])\n",
    "df = df[df['outflow']>0]\n",
    "#labels\n",
    "y = df['outflow'].values\n",
    "df = df.drop(columns=['outflow'])\n",
    "X = df.iloc[:, :].to_numpy()\n",
    "\n",
    "df.head(5)"
   ]
  },
  {
   "cell_type": "code",
   "execution_count": 193,
   "id": "documented-newport",
   "metadata": {},
   "outputs": [],
   "source": [
    "X_train, X_test, y_train, y_test = train_test_split(X, y, test_size=0.3, random_state=42)"
   ]
  },
  {
   "cell_type": "code",
   "execution_count": 194,
   "id": "authentic-shark",
   "metadata": {},
   "outputs": [
    {
     "name": "stdout",
     "output_type": "stream",
     "text": [
      "RMLSE for the data: 0.7426415318800693\n",
      "117.20489611311413\n"
     ]
    }
   ],
   "source": [
    "from sklearn.tree import DecisionTreeRegressor\n",
    "from sklearn.model_selection import GridSearchCV\n",
    "\n",
    "dt = DecisionTreeRegressor(random_state=0)\n",
    "dt_params = {'max_depth':np.arange(1,50,2),'min_samples_leaf':np.arange(2,15)}\n",
    "\n",
    "gs_dt = GridSearchCV(dt,dt_params,cv=3)\n",
    "gs_dt.fit(X_train,y_train)\n",
    "a = gs_dt.best_params_\n",
    "\n",
    "dtr=DecisionTreeRegressor(max_depth=a['max_depth'],min_samples_leaf= a['min_samples_leaf'])\n",
    "model = dtr.fit(X_train,y_train)\n",
    "y_pred = model.predict(X_test)\n",
    "\n",
    "from sklearn.metrics import mean_squared_log_error\n",
    "msle=mean_squared_log_error(y_pred,y_test)\n",
    "rmsle=np.sqrt(msle)\n",
    "print('RMLSE for the data:',rmsle) # For decision tree\n",
    "print(np.mean(y_pred))"
   ]
  },
  {
   "cell_type": "code",
   "execution_count": 195,
   "id": "helpful-group",
   "metadata": {},
   "outputs": [
    {
     "data": {
      "text/plain": [
       "['saved_models/decision_tree_spatial_sensitive_nozeros.sav']"
      ]
     },
     "execution_count": 195,
     "metadata": {},
     "output_type": "execute_result"
    }
   ],
   "source": [
    "# save the model to disk\n",
    "filename = 'saved_models/decision_tree_spatial_sensitive_nozeros.sav'\n",
    "joblib.dump(model, filename)"
   ]
  },
  {
   "cell_type": "code",
   "execution_count": 196,
   "id": "ambient-batman",
   "metadata": {},
   "outputs": [
    {
     "name": "stdout",
     "output_type": "stream",
     "text": [
      "RMLSE for the data: 0.757308759053377\n",
      "118.34324608344217\n"
     ]
    }
   ],
   "source": [
    "#Random Forest\n",
    "rf = RandomForestRegressor(random_state=0)\n",
    "rf_params = {'n_estimators':np.arange(25,150,25),'max_depth':np.arange(1,11,2),'min_samples_leaf':np.arange(2,15,3)}\n",
    "\n",
    "gs_rf = GridSearchCV(rf,rf_params,cv=3)\n",
    "gs_rf.fit(X_train,y_train)\n",
    "b = gs_rf.best_params_\n",
    "\n",
    "RF = RandomForestRegressor(n_estimators=b['n_estimators'],max_depth=b['max_depth'],min_samples_leaf=b['min_samples_leaf'],random_state=0)\n",
    "model = RF.fit(X_train,y_train)\n",
    "y_pred = model.predict(X_test)\n",
    "\n",
    "msle=mean_squared_log_error(y_pred,y_test)\n",
    "rmsle=np.sqrt(msle)\n",
    "print('RMLSE for the data:',rmsle) # For random forest\n",
    "print(np.mean(y_pred))"
   ]
  },
  {
   "cell_type": "code",
   "execution_count": 197,
   "id": "individual-weight",
   "metadata": {},
   "outputs": [
    {
     "data": {
      "text/plain": [
       "['saved_models/random_forest_spatial_sensitive_nozeros.sav']"
      ]
     },
     "execution_count": 197,
     "metadata": {},
     "output_type": "execute_result"
    }
   ],
   "source": [
    "# save the model to disk\n",
    "filename = 'saved_models/random_forest_spatial_sensitive_nozeros.sav'\n",
    "joblib.dump(model, filename)"
   ]
  },
  {
   "cell_type": "code",
   "execution_count": 198,
   "id": "sapphire-centre",
   "metadata": {},
   "outputs": [
    {
     "name": "stdout",
     "output_type": "stream",
     "text": [
      "RMSLE for the data: 0.8647012934723373\n",
      "127.468696753917\n"
     ]
    }
   ],
   "source": [
    "#Adaboost Regressor\n",
    "from sklearn.ensemble import AdaBoostRegressor\n",
    "ar = AdaBoostRegressor(base_estimator=RF,random_state=0)\n",
    "ar_params = {'n_estimators':np.arange(25,200,25)}\n",
    "\n",
    "gs_ar = GridSearchCV(ar,ar_params,cv=3)\n",
    "gs_ar.fit(X_train,y_train)\n",
    "c = gs_ar.best_params_\n",
    "\n",
    "ab_rf = AdaBoostRegressor(base_estimator=RF,n_estimators=c['n_estimators'],random_state=0)\n",
    "model = ab_rf.fit(X_train,y_train)\n",
    "y_pred = model.predict(X_test)\n",
    "\n",
    "msle=mean_squared_log_error(y_pred,y_test)\n",
    "rmsle=np.sqrt(msle)\n",
    "print('RMSLE for the data:',rmsle) # For Ada-Boost\n",
    "print(np.mean(y_pred))"
   ]
  },
  {
   "cell_type": "code",
   "execution_count": 199,
   "id": "attractive-consultation",
   "metadata": {},
   "outputs": [
    {
     "data": {
      "text/plain": [
       "['saved_models/adaboost_spatial_sensitive_nozeros.sav']"
      ]
     },
     "execution_count": 199,
     "metadata": {},
     "output_type": "execute_result"
    }
   ],
   "source": [
    "# save the model to disk\n",
    "filename = 'saved_models/adaboost_spatial_sensitive_nozeros.sav'\n",
    "joblib.dump(model, filename)"
   ]
  }
 ],
 "metadata": {
  "kernelspec": {
   "display_name": "Python 3",
   "language": "python",
   "name": "python3"
  },
  "language_info": {
   "codemirror_mode": {
    "name": "ipython",
    "version": 3
   },
   "file_extension": ".py",
   "mimetype": "text/x-python",
   "name": "python",
   "nbconvert_exporter": "python",
   "pygments_lexer": "ipython3",
   "version": "3.7.7"
  }
 },
 "nbformat": 4,
 "nbformat_minor": 5
}
