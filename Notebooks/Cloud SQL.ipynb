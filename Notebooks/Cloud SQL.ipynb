{
 "cells": [
  {
   "cell_type": "code",
   "execution_count": 2,
   "metadata": {},
   "outputs": [],
   "source": [
    "import mysql.connector\n",
    "from mysql.connector.constants import ClientFlag\n",
    "\n",
    "file = open(\"../Data/cloudsqlpassword.txt\", \"r\")\n",
    "pwd = file.read()\n",
    "print(pwd)\n",
    "\n",
    "config = {\n",
    "    'user': 'root',\n",
    "    'password': 'bikepgh',\n",
    "    'host': '35.199.36.223',\n",
    "    'client_flags': [ClientFlag.SSL],\n",
    "    'ssl_ca': '../Data/ssl/server-ca.pem',\n",
    "    'ssl_cert': '../Data/ssl/client-cert.pem',\n",
    "    'ssl_key': '../Data/ssl/client-key.pem'\n",
    "}\n",
    "\n",
    "# now we establish our connection\n",
    "cnxn = mysql.connector.connect(**config)"
   ]
  },
  {
   "cell_type": "code",
   "execution_count": null,
   "metadata": {},
   "outputs": [],
   "source": []
  }
 ],
 "metadata": {
  "kernelspec": {
   "display_name": "Python 3",
   "language": "python",
   "name": "python3"
  },
  "language_info": {
   "codemirror_mode": {
    "name": "ipython",
    "version": 3
   },
   "file_extension": ".py",
   "mimetype": "text/x-python",
   "name": "python",
   "nbconvert_exporter": "python",
   "pygments_lexer": "ipython3",
   "version": "3.9.1"
  }
 },
 "nbformat": 4,
 "nbformat_minor": 4
}
