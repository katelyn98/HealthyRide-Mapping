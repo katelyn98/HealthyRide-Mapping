{
 "cells": [
  {
   "cell_type": "code",
   "execution_count": 16,
   "metadata": {},
   "outputs": [],
   "source": [
    "import pandas as pd\n",
    "import plotly.express as px\n",
    "import shapely.wkt\n",
    "import geopandas as gpd\n",
    "from shapely.geometry import Point, Polygon\n",
    "import matplotlib.pyplot as plt\n",
    "import descartes"
   ]
  },
  {
   "cell_type": "code",
   "execution_count": 17,
   "metadata": {
    "scrolled": true
   },
   "outputs": [
    {
     "data": {
      "text/plain": [
       "Station #                               1000\n",
       "Station Name        Liberty Ave & Stanwix St\n",
       "NumRacks                                  16\n",
       "Latitude                           40.441326\n",
       "Longitude                         -80.004679\n",
       "coordinates     POINT (-80.004679 40.441326)\n",
       "Name: 0, dtype: object"
      ]
     },
     "execution_count": 17,
     "metadata": {},
     "output_type": "execute_result"
    }
   ],
   "source": [
    "df = pd.read_csv('../Data/bikes_station_location.csv')\n",
    "df.loc[0]"
   ]
  },
  {
   "cell_type": "code",
   "execution_count": 18,
   "metadata": {},
   "outputs": [],
   "source": [
    "df = df.rename(columns={\"Station Name\": \"Station_Name\"})\n",
    "\n",
    "for row in range(len(df)):\n",
    "    df.at[row,\"coordinates\"] = shapely.wkt.loads(df.loc[row][\"coordinates\"])"
   ]
  },
  {
   "cell_type": "markdown",
   "metadata": {},
   "source": [
    "### Location of Bike Stations\n",
    "Size of each circle for the bike station location represents the number of bike racks at that station"
   ]
  },
  {
   "cell_type": "code",
   "execution_count": 20,
   "metadata": {},
   "outputs": [
    {
     "data": {
      "application/vnd.plotly.v1+json": {
       "config": {
        "plotlyServerURL": "https://plot.ly"
       },
       "data": [
        {
         "hovertemplate": "Station_Name=Liberty Ave & Stanwix St<br>NumRacks=%{marker.size}<br>Latitude=%{lat}<br>Longitude=%{lon}<extra></extra>",
         "lat": [
          40.441326
         ],
         "legendgroup": "Liberty Ave & Stanwix St",
         "lon": [
          -80.004679
         ],
         "marker": {
          "color": "#636efa",
          "size": [
           16
          ],
          "sizemode": "area",
          "sizeref": 0.13777777777777778
         },
         "mode": "markers",
         "name": "Liberty Ave & Stanwix St",
         "showlegend": true,
         "subplot": "mapbox",
         "type": "scattermapbox"
        },
        {
         "hovertemplate": "Station_Name=Forbes Ave & Market Square<br>NumRacks=%{marker.size}<br>Latitude=%{lat}<br>Longitude=%{lon}<extra></extra>",
         "lat": [
          40.440877
         ],
         "legendgroup": "Forbes Ave & Market Square",
         "lon": [
          -80.00308
         ],
         "marker": {
          "color": "#EF553B",
          "size": [
           19
          ],
          "sizemode": "area",
          "sizeref": 0.13777777777777778
         },
         "mode": "markers",
         "name": "Forbes Ave & Market Square",
         "showlegend": true,
         "subplot": "mapbox",
         "type": "scattermapbox"
        },
        {
         "hovertemplate": "Station_Name=Third Ave & Wood St<br>NumRacks=%{marker.size}<br>Latitude=%{lat}<br>Longitude=%{lon}<extra></extra>",
         "lat": [
          40.43903
         ],
         "legendgroup": "Third Ave & Wood St",
         "lon": [
          -80.00186
         ],
         "marker": {
          "color": "#00cc96",
          "size": [
           15
          ],
          "sizemode": "area",
          "sizeref": 0.13777777777777778
         },
         "mode": "markers",
         "name": "Third Ave & Wood St",
         "showlegend": true,
         "subplot": "mapbox",
         "type": "scattermapbox"
        },
        {
         "hovertemplate": "Station_Name=First Ave & Smithfield St (Art Institute)<br>NumRacks=%{marker.size}<br>Latitude=%{lat}<br>Longitude=%{lon}<extra></extra>",
         "lat": [
          40.4372
         ],
         "legendgroup": "First Ave & Smithfield St (Art Institute)",
         "lon": [
          -80.000375
         ],
         "marker": {
          "color": "#ab63fa",
          "size": [
           15
          ],
          "sizemode": "area",
          "sizeref": 0.13777777777777778
         },
         "mode": "markers",
         "name": "First Ave & Smithfield St (Art Institute)",
         "showlegend": true,
         "subplot": "mapbox",
         "type": "scattermapbox"
        },
        {
         "hovertemplate": "Station_Name=First Ave & B St (T Station)<br>NumRacks=%{marker.size}<br>Latitude=%{lat}<br>Longitude=%{lon}<extra></extra>",
         "lat": [
          40.435887
         ],
         "legendgroup": "First Ave & B St (T Station)",
         "lon": [
          -79.997102
         ],
         "marker": {
          "color": "#FFA15A",
          "size": [
           15
          ],
          "sizemode": "area",
          "sizeref": 0.13777777777777778
         },
         "mode": "markers",
         "name": "First Ave & B St (T Station)",
         "showlegend": true,
         "subplot": "mapbox",
         "type": "scattermapbox"
        },
        {
         "hovertemplate": "Station_Name=Forbes Ave & Grant St<br>NumRacks=%{marker.size}<br>Latitude=%{lat}<br>Longitude=%{lon}<extra></extra>",
         "lat": [
          40.438882
         ],
         "legendgroup": "Forbes Ave & Grant St",
         "lon": [
          -79.997592
         ],
         "marker": {
          "color": "#19d3f3",
          "size": [
           13
          ],
          "sizemode": "area",
          "sizeref": 0.13777777777777778
         },
         "mode": "markers",
         "name": "Forbes Ave & Grant St",
         "showlegend": true,
         "subplot": "mapbox",
         "type": "scattermapbox"
        },
        {
         "hovertemplate": "Station_Name=Ross St & Sixth Ave (Steel Plaza T Station)<br>NumRacks=%{marker.size}<br>Latitude=%{lat}<br>Longitude=%{lon}<extra></extra>",
         "lat": [
          40.440193
         ],
         "legendgroup": "Ross St & Sixth Ave (Steel Plaza T Station)",
         "lon": [
          -79.995084
         ],
         "marker": {
          "color": "#FF6692",
          "size": [
           7
          ],
          "sizemode": "area",
          "sizeref": 0.13777777777777778
         },
         "mode": "markers",
         "name": "Ross St & Sixth Ave (Steel Plaza T Station)",
         "showlegend": true,
         "subplot": "mapbox",
         "type": "scattermapbox"
        },
        {
         "hovertemplate": "Station_Name=Stevenson St & Forbes Ave<br>NumRacks=%{marker.size}<br>Latitude=%{lat}<br>Longitude=%{lon}<extra></extra>",
         "lat": [
          40.437643
         ],
         "legendgroup": "Stevenson St & Forbes Ave",
         "lon": [
          -79.986695
         ],
         "marker": {
          "color": "#B6E880",
          "size": [
           15
          ],
          "sizemode": "area",
          "sizeref": 0.13777777777777778
         },
         "mode": "markers",
         "name": "Stevenson St & Forbes Ave",
         "showlegend": true,
         "subplot": "mapbox",
         "type": "scattermapbox"
        },
        {
         "hovertemplate": "Station_Name=Centre Ave & PPG Paints Arena<br>NumRacks=%{marker.size}<br>Latitude=%{lat}<br>Longitude=%{lon}<extra></extra>",
         "lat": [
          40.440368
         ],
         "legendgroup": "Centre Ave & PPG Paints Arena",
         "lon": [
          -79.988636
         ],
         "marker": {
          "color": "#FF97FF",
          "size": [
           5
          ],
          "sizemode": "area",
          "sizeref": 0.13777777777777778
         },
         "mode": "markers",
         "name": "Centre Ave & PPG Paints Arena",
         "showlegend": true,
         "subplot": "mapbox",
         "type": "scattermapbox"
        },
        {
         "hovertemplate": "Station_Name=12th St & Penn Ave<br>NumRacks=%{marker.size}<br>Latitude=%{lat}<br>Longitude=%{lon}<extra></extra>",
         "lat": [
          40.445844
         ],
         "legendgroup": "12th St & Penn Ave",
         "lon": [
          -79.99238
         ],
         "marker": {
          "color": "#FECB52",
          "size": [
           19
          ],
          "sizemode": "area",
          "sizeref": 0.13777777777777778
         },
         "mode": "markers",
         "name": "12th St & Penn Ave",
         "showlegend": true,
         "subplot": "mapbox",
         "type": "scattermapbox"
        },
        {
         "hovertemplate": "Station_Name=10th St & Penn Ave (David L. Lawrence Convention Center)<br>NumRacks=%{marker.size}<br>Latitude=%{lat}<br>Longitude=%{lon}<extra></extra>",
         "lat": [
          40.444665
         ],
         "legendgroup": "10th St & Penn Ave (David L. Lawrence Convention Center)",
         "lon": [
          -79.995798
         ],
         "marker": {
          "color": "#636efa",
          "size": [
           15
          ],
          "sizemode": "area",
          "sizeref": 0.13777777777777778
         },
         "mode": "markers",
         "name": "10th St & Penn Ave (David L. Lawrence Convention Center)",
         "showlegend": true,
         "subplot": "mapbox",
         "type": "scattermapbox"
        },
        {
         "hovertemplate": "Station_Name=Fort Duquesne Blvd & 7th<br>NumRacks=%{marker.size}<br>Latitude=%{lat}<br>Longitude=%{lon}<extra></extra>",
         "lat": [
          40.444777
         ],
         "legendgroup": "Fort Duquesne Blvd & 7th",
         "lon": [
          -80.000831
         ],
         "marker": {
          "color": "#EF553B",
          "size": [
           15
          ],
          "sizemode": "area",
          "sizeref": 0.13777777777777778
         },
         "mode": "markers",
         "name": "Fort Duquesne Blvd & 7th",
         "showlegend": true,
         "subplot": "mapbox",
         "type": "scattermapbox"
        },
        {
         "hovertemplate": "Station_Name=North Shore Trail & Ft Duquesne Bridge<br>NumRacks=%{marker.size}<br>Latitude=%{lat}<br>Longitude=%{lon}<extra></extra>",
         "lat": [
          40.445834
         ],
         "legendgroup": "North Shore Trail & Ft Duquesne Bridge",
         "lon": [
          -80.008882
         ],
         "marker": {
          "color": "#00cc96",
          "size": [
           31
          ],
          "sizemode": "area",
          "sizeref": 0.13777777777777778
         },
         "mode": "markers",
         "name": "North Shore Trail & Ft Duquesne Bridge",
         "showlegend": true,
         "subplot": "mapbox",
         "type": "scattermapbox"
        },
        {
         "hovertemplate": "Station_Name=Isabella St & Federal St (PNC Park)<br>NumRacks=%{marker.size}<br>Latitude=%{lat}<br>Longitude=%{lon}<extra></extra>",
         "lat": [
          40.447166
         ],
         "legendgroup": "Isabella St & Federal St (PNC Park)",
         "lon": [
          -80.003566
         ],
         "marker": {
          "color": "#ab63fa",
          "size": [
           15
          ],
          "sizemode": "area",
          "sizeref": 0.13777777777777778
         },
         "mode": "markers",
         "name": "Isabella St & Federal St (PNC Park)",
         "showlegend": true,
         "subplot": "mapbox",
         "type": "scattermapbox"
        },
        {
         "hovertemplate": "Station_Name=Ridge Ave & Brighton Rd (CCAC)<br>NumRacks=%{marker.size}<br>Latitude=%{lat}<br>Longitude=%{lon}<extra></extra>",
         "lat": [
          40.450595
         ],
         "legendgroup": "Ridge Ave & Brighton Rd (CCAC)",
         "lon": [
          -80.013204
         ],
         "marker": {
          "color": "#FFA15A",
          "size": [
           19
          ],
          "sizemode": "area",
          "sizeref": 0.13777777777777778
         },
         "mode": "markers",
         "name": "Ridge Ave & Brighton Rd (CCAC)",
         "showlegend": true,
         "subplot": "mapbox",
         "type": "scattermapbox"
        },
        {
         "hovertemplate": "Station_Name=Federal St & E North Ave<br>NumRacks=%{marker.size}<br>Latitude=%{lat}<br>Longitude=%{lon}<extra></extra>",
         "lat": [
          40.45509087
         ],
         "legendgroup": "Federal St & E North Ave",
         "lon": [
          -80.0063467
         ],
         "marker": {
          "color": "#19d3f3",
          "size": [
           12
          ],
          "sizemode": "area",
          "sizeref": 0.13777777777777778
         },
         "mode": "markers",
         "name": "Federal St & E North Ave",
         "showlegend": true,
         "subplot": "mapbox",
         "type": "scattermapbox"
        },
        {
         "hovertemplate": "Station_Name=17th St & Penn Ave<br>NumRacks=%{marker.size}<br>Latitude=%{lat}<br>Longitude=%{lon}<extra></extra>",
         "lat": [
          40.449631
         ],
         "legendgroup": "17th St & Penn Ave",
         "lon": [
          -79.985893
         ],
         "marker": {
          "color": "#FF6692",
          "size": [
           19
          ],
          "sizemode": "area",
          "sizeref": 0.13777777777777778
         },
         "mode": "markers",
         "name": "17th St & Penn Ave",
         "showlegend": true,
         "subplot": "mapbox",
         "type": "scattermapbox"
        },
        {
         "hovertemplate": "Station_Name=21st St & Penn Ave<br>NumRacks=%{marker.size}<br>Latitude=%{lat}<br>Longitude=%{lon}<extra></extra>",
         "lat": [
          40.451742
         ],
         "legendgroup": "21st St & Penn Ave",
         "lon": [
          -79.983217
         ],
         "marker": {
          "color": "#B6E880",
          "size": [
           18
          ],
          "sizemode": "area",
          "sizeref": 0.13777777777777778
         },
         "mode": "markers",
         "name": "21st St & Penn Ave",
         "showlegend": true,
         "subplot": "mapbox",
         "type": "scattermapbox"
        },
        {
         "hovertemplate": "Station_Name=Butler St & Stanton Ave<br>NumRacks=%{marker.size}<br>Latitude=%{lat}<br>Longitude=%{lon}<extra></extra>",
         "lat": [
          40.47815
         ],
         "legendgroup": "Butler St & Stanton Ave",
         "lon": [
          -79.9557
         ],
         "marker": {
          "color": "#FF97FF",
          "size": [
           5
          ],
          "sizemode": "area",
          "sizeref": 0.13777777777777778
         },
         "mode": "markers",
         "name": "Butler St & Stanton Ave",
         "showlegend": true,
         "subplot": "mapbox",
         "type": "scattermapbox"
        },
        {
         "hovertemplate": "Station_Name=42nd St & Butler St<br>NumRacks=%{marker.size}<br>Latitude=%{lat}<br>Longitude=%{lon}<extra></extra>",
         "lat": [
          40.47021248
         ],
         "legendgroup": "42nd St & Butler St",
         "lon": [
          -79.96066332
         ],
         "marker": {
          "color": "#FECB52",
          "size": [
           17
          ],
          "sizemode": "area",
          "sizeref": 0.13777777777777778
         },
         "mode": "markers",
         "name": "42nd St & Butler St",
         "showlegend": true,
         "subplot": "mapbox",
         "type": "scattermapbox"
        },
        {
         "hovertemplate": "Station_Name=42nd St & Penn Ave (Children's Hospital)<br>NumRacks=%{marker.size}<br>Latitude=%{lat}<br>Longitude=%{lon}<extra></extra>",
         "lat": [
          40.465893
         ],
         "legendgroup": "42nd St & Penn Ave (Children's Hospital)",
         "lon": [
          -79.954417
         ],
         "marker": {
          "color": "#636efa",
          "size": [
           8
          ],
          "sizemode": "area",
          "sizeref": 0.13777777777777778
         },
         "mode": "markers",
         "name": "42nd St & Penn Ave (Children's Hospital)",
         "showlegend": true,
         "subplot": "mapbox",
         "type": "scattermapbox"
        },
        {
         "hovertemplate": "Station_Name=Taylor St & Liberty Ave<br>NumRacks=%{marker.size}<br>Latitude=%{lat}<br>Longitude=%{lon}<extra></extra>",
         "lat": [
          40.462769
         ],
         "legendgroup": "Taylor St & Liberty Ave",
         "lon": [
          -79.950867
         ],
         "marker": {
          "color": "#EF553B",
          "size": [
           19
          ],
          "sizemode": "area",
          "sizeref": 0.13777777777777778
         },
         "mode": "markers",
         "name": "Taylor St & Liberty Ave",
         "showlegend": true,
         "subplot": "mapbox",
         "type": "scattermapbox"
        },
        {
         "hovertemplate": "Station_Name=Liberty Ave & S Millvale (West Penn Hospital)<br>NumRacks=%{marker.size}<br>Latitude=%{lat}<br>Longitude=%{lon}<extra></extra>",
         "lat": [
          40.459812
         ],
         "legendgroup": "Liberty Ave & S Millvale (West Penn Hospital)",
         "lon": [
          -79.945548
         ],
         "marker": {
          "color": "#00cc96",
          "size": [
           15
          ],
          "sizemode": "area",
          "sizeref": 0.13777777777777778
         },
         "mode": "markers",
         "name": "Liberty Ave & S Millvale (West Penn Hospital)",
         "showlegend": true,
         "subplot": "mapbox",
         "type": "scattermapbox"
        },
        {
         "hovertemplate": "Station_Name=Liberty Ave & Baum Blvd<br>NumRacks=%{marker.size}<br>Latitude=%{lat}<br>Longitude=%{lon}<extra></extra>",
         "lat": [
          40.456505
         ],
         "legendgroup": "Liberty Ave & Baum Blvd",
         "lon": [
          -79.939362
         ],
         "marker": {
          "color": "#ab63fa",
          "size": [
           15
          ],
          "sizemode": "area",
          "sizeref": 0.13777777777777778
         },
         "mode": "markers",
         "name": "Liberty Ave & Baum Blvd",
         "showlegend": true,
         "subplot": "mapbox",
         "type": "scattermapbox"
        },
        {
         "hovertemplate": "Station_Name=S Negley Ave & Baum Blvd<br>NumRacks=%{marker.size}<br>Latitude=%{lat}<br>Longitude=%{lon}<extra></extra>",
         "lat": [
          40.458714
         ],
         "legendgroup": "S Negley Ave & Baum Blvd",
         "lon": [
          -79.933483
         ],
         "marker": {
          "color": "#FFA15A",
          "size": [
           17
          ],
          "sizemode": "area",
          "sizeref": 0.13777777777777778
         },
         "mode": "markers",
         "name": "S Negley Ave & Baum Blvd",
         "showlegend": true,
         "subplot": "mapbox",
         "type": "scattermapbox"
        },
        {
         "hovertemplate": "Station_Name=Penn Ave & N Fairmount St<br>NumRacks=%{marker.size}<br>Latitude=%{lat}<br>Longitude=%{lon}<extra></extra>",
         "lat": [
          40.464443
         ],
         "legendgroup": "Penn Ave & N Fairmount St",
         "lon": [
          -79.933188
         ],
         "marker": {
          "color": "#19d3f3",
          "size": [
           15
          ],
          "sizemode": "area",
          "sizeref": 0.13777777777777778
         },
         "mode": "markers",
         "name": "Penn Ave & N Fairmount St",
         "showlegend": true,
         "subplot": "mapbox",
         "type": "scattermapbox"
        },
        {
         "hovertemplate": "Station_Name=Penn Ave & S Whitfield St<br>NumRacks=%{marker.size}<br>Latitude=%{lat}<br>Longitude=%{lon}<extra></extra>",
         "lat": [
          40.461603
         ],
         "legendgroup": "Penn Ave & S Whitfield St",
         "lon": [
          -79.925624
         ],
         "marker": {
          "color": "#FF6692",
          "size": [
           13
          ],
          "sizemode": "area",
          "sizeref": 0.13777777777777778
         },
         "mode": "markers",
         "name": "Penn Ave & S Whitfield St",
         "showlegend": true,
         "subplot": "mapbox",
         "type": "scattermapbox"
        },
        {
         "hovertemplate": "Station_Name=Shady Ave & Ellsworth Ave<br>NumRacks=%{marker.size}<br>Latitude=%{lat}<br>Longitude=%{lon}<extra></extra>",
         "lat": [
          40.458972
         ],
         "legendgroup": "Shady Ave & Ellsworth Ave",
         "lon": [
          -79.922023
         ],
         "marker": {
          "color": "#B6E880",
          "size": [
           19
          ],
          "sizemode": "area",
          "sizeref": 0.13777777777777778
         },
         "mode": "markers",
         "name": "Shady Ave & Ellsworth Ave",
         "showlegend": true,
         "subplot": "mapbox",
         "type": "scattermapbox"
        },
        {
         "hovertemplate": "Station_Name=Penn Ave & Putnam St (Bakery Square)<br>NumRacks=%{marker.size}<br>Latitude=%{lat}<br>Longitude=%{lon}<extra></extra>",
         "lat": [
          40.455821
         ],
         "legendgroup": "Penn Ave & Putnam St (Bakery Square)",
         "lon": [
          -79.915248
         ],
         "marker": {
          "color": "#FF97FF",
          "size": [
           8
          ],
          "sizemode": "area",
          "sizeref": 0.13777777777777778
         },
         "mode": "markers",
         "name": "Penn Ave & Putnam St (Bakery Square)",
         "showlegend": true,
         "subplot": "mapbox",
         "type": "scattermapbox"
        },
        {
         "hovertemplate": "Station_Name=Alder St & S Higland Ave<br>NumRacks=%{marker.size}<br>Latitude=%{lat}<br>Longitude=%{lon}<extra></extra>",
         "lat": [
          40.457415
         ],
         "legendgroup": "Alder St & S Higland Ave",
         "lon": [
          -79.92492
         ],
         "marker": {
          "color": "#FECB52",
          "size": [
           19
          ],
          "sizemode": "area",
          "sizeref": 0.13777777777777778
         },
         "mode": "markers",
         "name": "Alder St & S Higland Ave",
         "showlegend": true,
         "subplot": "mapbox",
         "type": "scattermapbox"
        },
        {
         "hovertemplate": "Station_Name=Maryland Ave & Ellsworth Ave<br>NumRacks=%{marker.size}<br>Latitude=%{lat}<br>Longitude=%{lon}<extra></extra>",
         "lat": [
          40.45628
         ],
         "legendgroup": "Maryland Ave & Ellsworth Ave",
         "lon": [
          -79.930962
         ],
         "marker": {
          "color": "#636efa",
          "size": [
           19
          ],
          "sizemode": "area",
          "sizeref": 0.13777777777777778
         },
         "mode": "markers",
         "name": "Maryland Ave & Ellsworth Ave",
         "showlegend": true,
         "subplot": "mapbox",
         "type": "scattermapbox"
        },
        {
         "hovertemplate": "Station_Name=Walnut St & College St<br>NumRacks=%{marker.size}<br>Latitude=%{lat}<br>Longitude=%{lon}<extra></extra>",
         "lat": [
          40.453382
         ],
         "legendgroup": "Walnut St & College St",
         "lon": [
          -79.92731
         ],
         "marker": {
          "color": "#EF553B",
          "size": [
           14
          ],
          "sizemode": "area",
          "sizeref": 0.13777777777777778
         },
         "mode": "markers",
         "name": "Walnut St & College St",
         "showlegend": true,
         "subplot": "mapbox",
         "type": "scattermapbox"
        },
        {
         "hovertemplate": "Station_Name=Ivy St & Walnut St<br>NumRacks=%{marker.size}<br>Latitude=%{lat}<br>Longitude=%{lon}<extra></extra>",
         "lat": [
          40.45177
         ],
         "legendgroup": "Ivy St & Walnut St",
         "lon": [
          -79.932324
         ],
         "marker": {
          "color": "#00cc96",
          "size": [
           19
          ],
          "sizemode": "area",
          "sizeref": 0.13777777777777778
         },
         "mode": "markers",
         "name": "Ivy St & Walnut St",
         "showlegend": true,
         "subplot": "mapbox",
         "type": "scattermapbox"
        },
        {
         "hovertemplate": "Station_Name=Ellsworth Ave & N Neville St<br>NumRacks=%{marker.size}<br>Latitude=%{lat}<br>Longitude=%{lon}<extra></extra>",
         "lat": [
          40.448419
         ],
         "legendgroup": "Ellsworth Ave & N Neville St",
         "lon": [
          -79.947401
         ],
         "marker": {
          "color": "#ab63fa",
          "size": [
           15
          ],
          "sizemode": "area",
          "sizeref": 0.13777777777777778
         },
         "mode": "markers",
         "name": "Ellsworth Ave & N Neville St",
         "showlegend": true,
         "subplot": "mapbox",
         "type": "scattermapbox"
        },
        {
         "hovertemplate": "Station_Name=Fifth Ave & S Dithridge St<br>NumRacks=%{marker.size}<br>Latitude=%{lat}<br>Longitude=%{lon}<extra></extra>",
         "lat": [
          40.446744
         ],
         "legendgroup": "Fifth Ave & S Dithridge St",
         "lon": [
          -79.950881
         ],
         "marker": {
          "color": "#FFA15A",
          "size": [
           8
          ],
          "sizemode": "area",
          "sizeref": 0.13777777777777778
         },
         "mode": "markers",
         "name": "Fifth Ave & S Dithridge St",
         "showlegend": true,
         "subplot": "mapbox",
         "type": "scattermapbox"
        },
        {
         "hovertemplate": "Station_Name=Schenley Dr at Schenley Plaza (Carnegie Library Main)<br>NumRacks=%{marker.size}<br>Latitude=%{lat}<br>Longitude=%{lon}<extra></extra>",
         "lat": [
          40.442398
         ],
         "legendgroup": "Schenley Dr at Schenley Plaza (Carnegie Library Main)",
         "lon": [
          -79.951479
         ],
         "marker": {
          "color": "#19d3f3",
          "size": [
           19
          ],
          "sizemode": "area",
          "sizeref": 0.13777777777777778
         },
         "mode": "markers",
         "name": "Schenley Dr at Schenley Plaza (Carnegie Library Main)",
         "showlegend": true,
         "subplot": "mapbox",
         "type": "scattermapbox"
        },
        {
         "hovertemplate": "Station_Name=Frew St & Schenley Dr<br>NumRacks=%{marker.size}<br>Latitude=%{lat}<br>Longitude=%{lon}<extra></extra>",
         "lat": [
          40.441032
         ],
         "legendgroup": "Frew St & Schenley Dr",
         "lon": [
          -79.948042
         ],
         "marker": {
          "color": "#FF6692",
          "size": [
           20
          ],
          "sizemode": "area",
          "sizeref": 0.13777777777777778
         },
         "mode": "markers",
         "name": "Frew St & Schenley Dr",
         "showlegend": true,
         "subplot": "mapbox",
         "type": "scattermapbox"
        },
        {
         "hovertemplate": "Station_Name=Boulevard of the Allies & Parkview Ave<br>NumRacks=%{marker.size}<br>Latitude=%{lat}<br>Longitude=%{lon}<extra></extra>",
         "lat": [
          40.434338
         ],
         "legendgroup": "Boulevard of the Allies & Parkview Ave",
         "lon": [
          -79.951877
         ],
         "marker": {
          "color": "#B6E880",
          "size": [
           19
          ],
          "sizemode": "area",
          "sizeref": 0.13777777777777778
         },
         "mode": "markers",
         "name": "Boulevard of the Allies & Parkview Ave",
         "showlegend": true,
         "subplot": "mapbox",
         "type": "scattermapbox"
        },
        {
         "hovertemplate": "Station_Name=Atwood St & Bates<br>NumRacks=%{marker.size}<br>Latitude=%{lat}<br>Longitude=%{lon}<extra></extra>",
         "lat": [
          40.437987
         ],
         "legendgroup": "Atwood St & Bates",
         "lon": [
          -79.95367
         ],
         "marker": {
          "color": "#FF97FF",
          "size": [
           8
          ],
          "sizemode": "area",
          "sizeref": 0.13777777777777778
         },
         "mode": "markers",
         "name": "Atwood St & Bates",
         "showlegend": true,
         "subplot": "mapbox",
         "type": "scattermapbox"
        },
        {
         "hovertemplate": "Station_Name=O'Hara St and University Place (Soldiers and Sailors Memorial)<br>NumRacks=%{marker.size}<br>Latitude=%{lat}<br>Longitude=%{lon}<extra></extra>",
         "lat": [
          40.445128
         ],
         "legendgroup": "O'Hara St and University Place (Soldiers and Sailors Memorial)",
         "lon": [
          -79.957102
         ],
         "marker": {
          "color": "#FECB52",
          "size": [
           21
          ],
          "sizemode": "area",
          "sizeref": 0.13777777777777778
         },
         "mode": "markers",
         "name": "O'Hara St and University Place (Soldiers and Sailors Memorial)",
         "showlegend": true,
         "subplot": "mapbox",
         "type": "scattermapbox"
        },
        {
         "hovertemplate": "Station_Name=Fifth Ave & S Bouquet St<br>NumRacks=%{marker.size}<br>Latitude=%{lat}<br>Longitude=%{lon}<extra></extra>",
         "lat": [
          40.442325
         ],
         "legendgroup": "Fifth Ave & S Bouquet St",
         "lon": [
          -79.957604
         ],
         "marker": {
          "color": "#636efa",
          "size": [
           19
          ],
          "sizemode": "area",
          "sizeref": 0.13777777777777778
         },
         "mode": "markers",
         "name": "Fifth Ave & S Bouquet St",
         "showlegend": true,
         "subplot": "mapbox",
         "type": "scattermapbox"
        },
        {
         "hovertemplate": "Station_Name=Centre Ave & Kirkpatrick St<br>NumRacks=%{marker.size}<br>Latitude=%{lat}<br>Longitude=%{lon}<extra></extra>",
         "lat": [
          40.445236
         ],
         "legendgroup": "Centre Ave & Kirkpatrick St",
         "lon": [
          -79.976911
         ],
         "marker": {
          "color": "#EF553B",
          "size": [
           12
          ],
          "sizemode": "area",
          "sizeref": 0.13777777777777778
         },
         "mode": "markers",
         "name": "Centre Ave & Kirkpatrick St",
         "showlegend": true,
         "subplot": "mapbox",
         "type": "scattermapbox"
        },
        {
         "hovertemplate": "Station_Name=S Millvale Ave & Centre Ave<br>NumRacks=%{marker.size}<br>Latitude=%{lat}<br>Longitude=%{lon}<extra></extra>",
         "lat": [
          40.45351
         ],
         "legendgroup": "S Millvale Ave & Centre Ave",
         "lon": [
          -79.94747
         ],
         "marker": {
          "color": "#00cc96",
          "size": [
           13
          ],
          "sizemode": "area",
          "sizeref": 0.13777777777777778
         },
         "mode": "markers",
         "name": "S Millvale Ave & Centre Ave",
         "showlegend": true,
         "subplot": "mapbox",
         "type": "scattermapbox"
        },
        {
         "hovertemplate": "Station_Name=Zulema St & Coltart Ave<br>NumRacks=%{marker.size}<br>Latitude=%{lat}<br>Longitude=%{lon}<extra></extra>",
         "lat": [
          40.435986
         ],
         "legendgroup": "Zulema St & Coltart Ave",
         "lon": [
          -79.956942
         ],
         "marker": {
          "color": "#ab63fa",
          "size": [
           19
          ],
          "sizemode": "area",
          "sizeref": 0.13777777777777778
         },
         "mode": "markers",
         "name": "Zulema St & Coltart Ave",
         "showlegend": true,
         "subplot": "mapbox",
         "type": "scattermapbox"
        },
        {
         "hovertemplate": "Station_Name=S 27th St & Sidney St. (Southside Works)<br>NumRacks=%{marker.size}<br>Latitude=%{lat}<br>Longitude=%{lon}<extra></extra>",
         "lat": [
          40.4279
         ],
         "legendgroup": "S 27th St & Sidney St. (Southside Works)",
         "lon": [
          -79.966112
         ],
         "marker": {
          "color": "#FFA15A",
          "size": [
           19
          ],
          "sizemode": "area",
          "sizeref": 0.13777777777777778
         },
         "mode": "markers",
         "name": "S 27th St & Sidney St. (Southside Works)",
         "showlegend": true,
         "subplot": "mapbox",
         "type": "scattermapbox"
        },
        {
         "hovertemplate": "Station_Name=S 25th St & E Carson St<br>NumRacks=%{marker.size}<br>Latitude=%{lat}<br>Longitude=%{lon}<extra></extra>",
         "lat": [
          40.42802
         ],
         "legendgroup": "S 25th St & E Carson St",
         "lon": [
          -79.969799
         ],
         "marker": {
          "color": "#19d3f3",
          "size": [
           19
          ],
          "sizemode": "area",
          "sizeref": 0.13777777777777778
         },
         "mode": "markers",
         "name": "S 25th St & E Carson St",
         "showlegend": true,
         "subplot": "mapbox",
         "type": "scattermapbox"
        },
        {
         "hovertemplate": "Station_Name=S 22nd St & E Carson St<br>NumRacks=%{marker.size}<br>Latitude=%{lat}<br>Longitude=%{lon}<extra></extra>",
         "lat": [
          40.428576
         ],
         "legendgroup": "S 22nd St & E Carson St",
         "lon": [
          -79.974559
         ],
         "marker": {
          "color": "#FF6692",
          "size": [
           19
          ],
          "sizemode": "area",
          "sizeref": 0.13777777777777778
         },
         "mode": "markers",
         "name": "S 22nd St & E Carson St",
         "showlegend": true,
         "subplot": "mapbox",
         "type": "scattermapbox"
        },
        {
         "hovertemplate": "Station_Name=S 18th St & Sidney St<br>NumRacks=%{marker.size}<br>Latitude=%{lat}<br>Longitude=%{lon}<extra></extra>",
         "lat": [
          40.429338
         ],
         "legendgroup": "S 18th St & Sidney St",
         "lon": [
          -79.980684
         ],
         "marker": {
          "color": "#B6E880",
          "size": [
           16
          ],
          "sizemode": "area",
          "sizeref": 0.13777777777777778
         },
         "mode": "markers",
         "name": "S 18th St & Sidney St",
         "showlegend": true,
         "subplot": "mapbox",
         "type": "scattermapbox"
        },
        {
         "hovertemplate": "Station_Name=S 12th St & E Carson St<br>NumRacks=%{marker.size}<br>Latitude=%{lat}<br>Longitude=%{lon}<extra></extra>",
         "lat": [
          40.428661
         ],
         "legendgroup": "S 12th St & E Carson St",
         "lon": [
          -79.986358
         ],
         "marker": {
          "color": "#FF97FF",
          "size": [
           19
          ],
          "sizemode": "area",
          "sizeref": 0.13777777777777778
         },
         "mode": "markers",
         "name": "S 12th St & E Carson St",
         "showlegend": true,
         "subplot": "mapbox",
         "type": "scattermapbox"
        },
        {
         "hovertemplate": "Station_Name=McNulty Dr & Forbes Ave<br>NumRacks=%{marker.size}<br>Latitude=%{lat}<br>Longitude=%{lon}<extra></extra>",
         "lat": [
          40.4377657
         ],
         "legendgroup": "McNulty Dr & Forbes Ave",
         "lon": [
          -79.9906531
         ],
         "marker": {
          "color": "#FECB52",
          "size": [
           6
          ],
          "sizemode": "area",
          "sizeref": 0.13777777777777778
         },
         "mode": "markers",
         "name": "McNulty Dr & Forbes Ave",
         "showlegend": true,
         "subplot": "mapbox",
         "type": "scattermapbox"
        },
        {
         "hovertemplate": "Station_Name=Hamilton Ave & Zodiac Way<br>NumRacks=%{marker.size}<br>Latitude=%{lat}<br>Longitude=%{lon}<extra></extra>",
         "lat": [
          40.45803
         ],
         "legendgroup": "Hamilton Ave & Zodiac Way",
         "lon": [
          -79.9112
         ],
         "marker": {
          "color": "#636efa",
          "size": [
           5
          ],
          "sizemode": "area",
          "sizeref": 0.13777777777777778
         },
         "mode": "markers",
         "name": "Hamilton Ave & Zodiac Way",
         "showlegend": true,
         "subplot": "mapbox",
         "type": "scattermapbox"
        },
        {
         "hovertemplate": "Station_Name=Smithfield St & Fourth Ave<br>NumRacks=%{marker.size}<br>Latitude=%{lat}<br>Longitude=%{lon}<extra></extra>",
         "lat": [
          40.43866
         ],
         "legendgroup": "Smithfield St & Fourth Ave",
         "lon": [
          -79.9997
         ],
         "marker": {
          "color": "#EF553B",
          "size": [
           6
          ],
          "sizemode": "area",
          "sizeref": 0.13777777777777778
         },
         "mode": "markers",
         "name": "Smithfield St & Fourth Ave",
         "showlegend": true,
         "subplot": "mapbox",
         "type": "scattermapbox"
        },
        {
         "hovertemplate": "Station_Name=Wood St & Sixth Ave<br>NumRacks=%{marker.size}<br>Latitude=%{lat}<br>Longitude=%{lon}<extra></extra>",
         "lat": [
          40.44197
         ],
         "legendgroup": "Wood St & Sixth Ave",
         "lon": [
          -79.9997
         ],
         "marker": {
          "color": "#00cc96",
          "size": [
           7
          ],
          "sizemode": "area",
          "sizeref": 0.13777777777777778
         },
         "mode": "markers",
         "name": "Wood St & Sixth Ave",
         "showlegend": true,
         "subplot": "mapbox",
         "type": "scattermapbox"
        },
        {
         "hovertemplate": "Station_Name=Burns White Centre at 3 Crossings<br>NumRacks=%{marker.size}<br>Latitude=%{lat}<br>Longitude=%{lon}<extra></extra>",
         "lat": [
          40.45632767
         ],
         "legendgroup": "Burns White Centre at 3 Crossings",
         "lon": [
          -79.98021126
         ],
         "marker": {
          "color": "#ab63fa",
          "size": [
           12
          ],
          "sizemode": "area",
          "sizeref": 0.13777777777777778
         },
         "mode": "markers",
         "name": "Burns White Centre at 3 Crossings",
         "showlegend": true,
         "subplot": "mapbox",
         "type": "scattermapbox"
        },
        {
         "hovertemplate": "Station_Name=Penn Ave and 29th St<br>NumRacks=%{marker.size}<br>Latitude=%{lat}<br>Longitude=%{lon}<extra></extra>",
         "lat": [
          40.45814812
         ],
         "legendgroup": "Penn Ave and 29th St",
         "lon": [
          -79.97383833
         ],
         "marker": {
          "color": "#FFA15A",
          "size": [
           8
          ],
          "sizemode": "area",
          "sizeref": 0.13777777777777778
         },
         "mode": "markers",
         "name": "Penn Ave and 29th St",
         "showlegend": true,
         "subplot": "mapbox",
         "type": "scattermapbox"
        },
        {
         "hovertemplate": "Station_Name=33rd St and Penn Ave<br>NumRacks=%{marker.size}<br>Latitude=%{lat}<br>Longitude=%{lon}<extra></extra>",
         "lat": [
          40.4620256
         ],
         "legendgroup": "33rd St and Penn Ave",
         "lon": [
          -79.9681145
         ],
         "marker": {
          "color": "#19d3f3",
          "size": [
           6
          ],
          "sizemode": "area",
          "sizeref": 0.13777777777777778
         },
         "mode": "markers",
         "name": "33rd St and Penn Ave",
         "showlegend": true,
         "subplot": "mapbox",
         "type": "scattermapbox"
        },
        {
         "hovertemplate": "Station_Name=S Winebiddle St & Penn Ave<br>NumRacks=%{marker.size}<br>Latitude=%{lat}<br>Longitude=%{lon}<extra></extra>",
         "lat": [
          40.46473563
         ],
         "legendgroup": "S Winebiddle St & Penn Ave",
         "lon": [
          -79.94282663
         ],
         "marker": {
          "color": "#FF6692",
          "size": [
           5
          ],
          "sizemode": "area",
          "sizeref": 0.13777777777777778
         },
         "mode": "markers",
         "name": "S Winebiddle St & Penn Ave",
         "showlegend": true,
         "subplot": "mapbox",
         "type": "scattermapbox"
        },
        {
         "hovertemplate": "Station_Name=Penn Ave & N Atlantic Ave<br>NumRacks=%{marker.size}<br>Latitude=%{lat}<br>Longitude=%{lon}<extra></extra>",
         "lat": [
          40.46460503
         ],
         "legendgroup": "Penn Ave & N Atlantic Ave",
         "lon": [
          -79.9387604
         ],
         "marker": {
          "color": "#B6E880",
          "size": [
           5
          ],
          "sizemode": "area",
          "sizeref": 0.13777777777777778
         },
         "mode": "markers",
         "name": "Penn Ave & N Atlantic Ave",
         "showlegend": true,
         "subplot": "mapbox",
         "type": "scattermapbox"
        },
        {
         "hovertemplate": "Station_Name=Frankstown Ave & E Liberty Blvd<br>NumRacks=%{marker.size}<br>Latitude=%{lat}<br>Longitude=%{lon}<extra></extra>",
         "lat": [
          40.46089095
         ],
         "legendgroup": "Frankstown Ave & E Liberty Blvd",
         "lon": [
          -79.91583824
         ],
         "marker": {
          "color": "#FF97FF",
          "size": [
           6
          ],
          "sizemode": "area",
          "sizeref": 0.13777777777777778
         },
         "mode": "markers",
         "name": "Frankstown Ave & E Liberty Blvd",
         "showlegend": true,
         "subplot": "mapbox",
         "type": "scattermapbox"
        },
        {
         "hovertemplate": "Station_Name=N Homewood Ave & Finance St (Homewood Station)<br>NumRacks=%{marker.size}<br>Latitude=%{lat}<br>Longitude=%{lon}<extra></extra>",
         "lat": [
          40.45304583
         ],
         "legendgroup": "N Homewood Ave & Finance St (Homewood Station)",
         "lon": [
          -79.89847898
         ],
         "marker": {
          "color": "#FECB52",
          "size": [
           8
          ],
          "sizemode": "area",
          "sizeref": 0.13777777777777778
         },
         "mode": "markers",
         "name": "N Homewood Ave & Finance St (Homewood Station)",
         "showlegend": true,
         "subplot": "mapbox",
         "type": "scattermapbox"
        },
        {
         "hovertemplate": "Station_Name=Forbes Ave & Murray Ave<br>NumRacks=%{marker.size}<br>Latitude=%{lat}<br>Longitude=%{lon}<extra></extra>",
         "lat": [
          40.4380532
         ],
         "legendgroup": "Forbes Ave & Murray Ave",
         "lon": [
          -79.9229474
         ],
         "marker": {
          "color": "#636efa",
          "size": [
           5
          ],
          "sizemode": "area",
          "sizeref": 0.13777777777777778
         },
         "mode": "markers",
         "name": "Forbes Ave & Murray Ave",
         "showlegend": true,
         "subplot": "mapbox",
         "type": "scattermapbox"
        },
        {
         "hovertemplate": "Station_Name=Beacon St & Murray Ave<br>NumRacks=%{marker.size}<br>Latitude=%{lat}<br>Longitude=%{lon}<extra></extra>",
         "lat": [
          40.43531949
         ],
         "legendgroup": "Beacon St & Murray Ave",
         "lon": [
          -79.92288709
         ],
         "marker": {
          "color": "#EF553B",
          "size": [
           6
          ],
          "sizemode": "area",
          "sizeref": 0.13777777777777778
         },
         "mode": "markers",
         "name": "Beacon St & Murray Ave",
         "showlegend": true,
         "subplot": "mapbox",
         "type": "scattermapbox"
        },
        {
         "hovertemplate": "Station_Name=Hobart St & Wightman St<br>NumRacks=%{marker.size}<br>Latitude=%{lat}<br>Longitude=%{lon}<extra></extra>",
         "lat": [
          40.43251029
         ],
         "legendgroup": "Hobart St & Wightman St",
         "lon": [
          -79.92733955
         ],
         "marker": {
          "color": "#00cc96",
          "size": [
           5
          ],
          "sizemode": "area",
          "sizeref": 0.13777777777777778
         },
         "mode": "markers",
         "name": "Hobart St & Wightman St",
         "showlegend": true,
         "subplot": "mapbox",
         "type": "scattermapbox"
        },
        {
         "hovertemplate": "Station_Name=Glasshouse<br>NumRacks=%{marker.size}<br>Latitude=%{lat}<br>Longitude=%{lon}<extra></extra>",
         "lat": [
          40.43268995
         ],
         "legendgroup": "Glasshouse",
         "lon": [
          -80.00302076
         ],
         "marker": {
          "color": "#ab63fa",
          "size": [
           10
          ],
          "sizemode": "area",
          "sizeref": 0.13777777777777778
         },
         "mode": "markers",
         "name": "Glasshouse",
         "showlegend": true,
         "subplot": "mapbox",
         "type": "scattermapbox"
        },
        {
         "hovertemplate": "Station_Name=South Side Trail & S 4th St<br>NumRacks=%{marker.size}<br>Latitude=%{lat}<br>Longitude=%{lon}<extra></extra>",
         "lat": [
          40.43128939
         ],
         "legendgroup": "South Side Trail & S 4th St",
         "lon": [
          -79.99526918
         ],
         "marker": {
          "color": "#FFA15A",
          "size": [
           5
          ],
          "sizemode": "area",
          "sizeref": 0.13777777777777778
         },
         "mode": "markers",
         "name": "South Side Trail & S 4th St",
         "showlegend": true,
         "subplot": "mapbox",
         "type": "scattermapbox"
        },
        {
         "hovertemplate": "Station_Name=Hot Metal St & Tunnel Blvd<br>NumRacks=%{marker.size}<br>Latitude=%{lat}<br>Longitude=%{lon}<extra></extra>",
         "lat": [
          40.42708753
         ],
         "legendgroup": "Hot Metal St & Tunnel Blvd",
         "lon": [
          -79.96279836
         ],
         "marker": {
          "color": "#19d3f3",
          "size": [
           13
          ],
          "sizemode": "area",
          "sizeref": 0.13777777777777778
         },
         "mode": "markers",
         "name": "Hot Metal St & Tunnel Blvd",
         "showlegend": true,
         "subplot": "mapbox",
         "type": "scattermapbox"
        },
        {
         "hovertemplate": "Station_Name=Frazier St & Dawson St<br>NumRacks=%{marker.size}<br>Latitude=%{lat}<br>Longitude=%{lon}<extra></extra>",
         "lat": [
          40.42968463
         ],
         "legendgroup": "Frazier St & Dawson St",
         "lon": [
          -79.95414019
         ],
         "marker": {
          "color": "#FF6692",
          "size": [
           5
          ],
          "sizemode": "area",
          "sizeref": 0.13777777777777778
         },
         "mode": "markers",
         "name": "Frazier St & Dawson St",
         "showlegend": true,
         "subplot": "mapbox",
         "type": "scattermapbox"
        },
        {
         "hovertemplate": "Station_Name=Semple St & Louisa St<br>NumRacks=%{marker.size}<br>Latitude=%{lat}<br>Longitude=%{lon}<extra></extra>",
         "lat": [
          40.43874918
         ],
         "legendgroup": "Semple St & Louisa St",
         "lon": [
          -79.95703161
         ],
         "marker": {
          "color": "#B6E880",
          "size": [
           5
          ],
          "sizemode": "area",
          "sizeref": 0.13777777777777778
         },
         "mode": "markers",
         "name": "Semple St & Louisa St",
         "showlegend": true,
         "subplot": "mapbox",
         "type": "scattermapbox"
        },
        {
         "hovertemplate": "Station_Name=S Bouquet Ave & Sennott St<br>NumRacks=%{marker.size}<br>Latitude=%{lat}<br>Longitude=%{lon}<extra></extra>",
         "lat": [
          40.44136216
         ],
         "legendgroup": "S Bouquet Ave & Sennott St",
         "lon": [
          -79.95555639
         ],
         "marker": {
          "color": "#FF97FF",
          "size": [
           6
          ],
          "sizemode": "area",
          "sizeref": 0.13777777777777778
         },
         "mode": "markers",
         "name": "S Bouquet Ave & Sennott St",
         "showlegend": true,
         "subplot": "mapbox",
         "type": "scattermapbox"
        },
        {
         "hovertemplate": "Station_Name=O'Hara St & Desoto St<br>NumRacks=%{marker.size}<br>Latitude=%{lat}<br>Longitude=%{lon}<extra></extra>",
         "lat": [
          40.44324426
         ],
         "legendgroup": "O'Hara St & Desoto St",
         "lon": [
          -79.95984256
         ],
         "marker": {
          "color": "#FECB52",
          "size": [
           5
          ],
          "sizemode": "area",
          "sizeref": 0.13777777777777778
         },
         "mode": "markers",
         "name": "O'Hara St & Desoto St",
         "showlegend": true,
         "subplot": "mapbox",
         "type": "scattermapbox"
        },
        {
         "hovertemplate": "Station_Name=Schenley Dr & Forbes Ave (Schenley Plaza)<br>NumRacks=%{marker.size}<br>Latitude=%{lat}<br>Longitude=%{lon}<extra></extra>",
         "lat": [
          40.44301971
         ],
         "legendgroup": "Schenley Dr & Forbes Ave (Schenley Plaza)",
         "lon": [
          -79.95331407
         ],
         "marker": {
          "color": "#636efa",
          "size": [
           7
          ],
          "sizemode": "area",
          "sizeref": 0.13777777777777778
         },
         "mode": "markers",
         "name": "Schenley Dr & Forbes Ave (Schenley Plaza)",
         "showlegend": true,
         "subplot": "mapbox",
         "type": "scattermapbox"
        },
        {
         "hovertemplate": "Station_Name=Tennyson Ave & Fifth Ave<br>NumRacks=%{marker.size}<br>Latitude=%{lat}<br>Longitude=%{lon}<extra></extra>",
         "lat": [
          40.44564886
         ],
         "legendgroup": "Tennyson Ave & Fifth Ave",
         "lon": [
          -79.95327652
         ],
         "marker": {
          "color": "#EF553B",
          "size": [
           6
          ],
          "sizemode": "area",
          "sizeref": 0.13777777777777778
         },
         "mode": "markers",
         "name": "Tennyson Ave & Fifth Ave",
         "showlegend": true,
         "subplot": "mapbox",
         "type": "scattermapbox"
        },
        {
         "hovertemplate": "Station_Name=Forbes Ave & S Craig St<br>NumRacks=%{marker.size}<br>Latitude=%{lat}<br>Longitude=%{lon}<extra></extra>",
         "lat": [
          40.44424448
         ],
         "legendgroup": "Forbes Ave & S Craig St",
         "lon": [
          -79.94895279
         ],
         "marker": {
          "color": "#00cc96",
          "size": [
           5
          ],
          "sizemode": "area",
          "sizeref": 0.13777777777777778
         },
         "mode": "markers",
         "name": "Forbes Ave & S Craig St",
         "showlegend": true,
         "subplot": "mapbox",
         "type": "scattermapbox"
        },
        {
         "hovertemplate": "Station_Name=Schenley Dr & Forbes Ave (Squirrel Hill)<br>NumRacks=%{marker.size}<br>Latitude=%{lat}<br>Longitude=%{lon}<extra></extra>",
         "lat": [
          40.43775296
         ],
         "legendgroup": "Schenley Dr & Forbes Ave (Squirrel Hill)",
         "lon": [
          -79.93363738
         ],
         "marker": {
          "color": "#ab63fa",
          "size": [
           6
          ],
          "sizemode": "area",
          "sizeref": 0.13777777777777778
         },
         "mode": "markers",
         "name": "Schenley Dr & Forbes Ave (Squirrel Hill)",
         "showlegend": true,
         "subplot": "mapbox",
         "type": "scattermapbox"
        },
        {
         "hovertemplate": "Station_Name=Wightman St & Forbes Ave<br>NumRacks=%{marker.size}<br>Latitude=%{lat}<br>Longitude=%{lon}<extra></extra>",
         "lat": [
          40.43791627
         ],
         "legendgroup": "Wightman St & Forbes Ave",
         "lon": [
          -79.92781162
         ],
         "marker": {
          "color": "#FFA15A",
          "size": [
           5
          ],
          "sizemode": "area",
          "sizeref": 0.13777777777777778
         },
         "mode": "markers",
         "name": "Wightman St & Forbes Ave",
         "showlegend": true,
         "subplot": "mapbox",
         "type": "scattermapbox"
        },
        {
         "hovertemplate": "Station_Name=S Craig St & 5th Ave<br>NumRacks=%{marker.size}<br>Latitude=%{lat}<br>Longitude=%{lon}<extra></extra>",
         "lat": [
          40.446739
         ],
         "legendgroup": "S Craig St & 5th Ave",
         "lon": [
          -79.94893
         ],
         "marker": {
          "color": "#19d3f3",
          "size": [
           6
          ],
          "sizemode": "area",
          "sizeref": 0.13777777777777778
         },
         "mode": "markers",
         "name": "S Craig St & 5th Ave",
         "showlegend": true,
         "subplot": "mapbox",
         "type": "scattermapbox"
        },
        {
         "hovertemplate": "Station_Name=Centre Ave & N Craig St<br>NumRacks=%{marker.size}<br>Latitude=%{lat}<br>Longitude=%{lon}<extra></extra>",
         "lat": [
          40.45186204
         ],
         "legendgroup": "Centre Ave & N Craig St",
         "lon": [
          -79.95173693
         ],
         "marker": {
          "color": "#FF6692",
          "size": [
           6
          ],
          "sizemode": "area",
          "sizeref": 0.13777777777777778
         },
         "mode": "markers",
         "name": "Centre Ave & N Craig St",
         "showlegend": true,
         "subplot": "mapbox",
         "type": "scattermapbox"
        },
        {
         "hovertemplate": "Station_Name=Hamilton Ave & N Dallas Ave<br>NumRacks=%{marker.size}<br>Latitude=%{lat}<br>Longitude=%{lon}<extra></extra>",
         "lat": [
          40.45623787
         ],
         "legendgroup": "Hamilton Ave & N Dallas Ave",
         "lon": [
          -79.90505576
         ],
         "marker": {
          "color": "#B6E880",
          "size": [
           6
          ],
          "sizemode": "area",
          "sizeref": 0.13777777777777778
         },
         "mode": "markers",
         "name": "Hamilton Ave & N Dallas Ave",
         "showlegend": true,
         "subplot": "mapbox",
         "type": "scattermapbox"
        },
        {
         "hovertemplate": "Station_Name=Bennett St & Eccrue Way<br>NumRacks=%{marker.size}<br>Latitude=%{lat}<br>Longitude=%{lon}<extra></extra>",
         "lat": [
          40.45668686
         ],
         "legendgroup": "Bennett St & Eccrue Way",
         "lon": [
          -79.89813566
         ],
         "marker": {
          "color": "#FF97FF",
          "size": [
           7
          ],
          "sizemode": "area",
          "sizeref": 0.13777777777777778
         },
         "mode": "markers",
         "name": "Bennett St & Eccrue Way",
         "showlegend": true,
         "subplot": "mapbox",
         "type": "scattermapbox"
        },
        {
         "hovertemplate": "Station_Name=E Liberty Blvd & Larimer Ave<br>NumRacks=%{marker.size}<br>Latitude=%{lat}<br>Longitude=%{lon}<extra></extra>",
         "lat": [
          40.46361735
         ],
         "legendgroup": "E Liberty Blvd & Larimer Ave",
         "lon": [
          -79.91746902
         ],
         "marker": {
          "color": "#FECB52",
          "size": [
           6
          ],
          "sizemode": "area",
          "sizeref": 0.13777777777777778
         },
         "mode": "markers",
         "name": "E Liberty Blvd & Larimer Ave",
         "showlegend": true,
         "subplot": "mapbox",
         "type": "scattermapbox"
        },
        {
         "hovertemplate": "Station_Name=E Liberty Blvd & Negley Ave<br>NumRacks=%{marker.size}<br>Latitude=%{lat}<br>Longitude=%{lon}<extra></extra>",
         "lat": [
          40.467715
         ],
         "legendgroup": "E Liberty Blvd & Negley Ave",
         "lon": [
          -79.92787
         ],
         "marker": {
          "color": "#636efa",
          "size": [
           5
          ],
          "sizemode": "area",
          "sizeref": 0.13777777777777778
         },
         "mode": "markers",
         "name": "E Liberty Blvd & Negley Ave",
         "showlegend": true,
         "subplot": "mapbox",
         "type": "scattermapbox"
        },
        {
         "hovertemplate": "Station_Name=Stanton Ave & N Negley Ave<br>NumRacks=%{marker.size}<br>Latitude=%{lat}<br>Longitude=%{lon}<extra></extra>",
         "lat": [
          40.47122337
         ],
         "legendgroup": "Stanton Ave & N Negley Ave",
         "lon": [
          -79.92560189
         ],
         "marker": {
          "color": "#EF553B",
          "size": [
           6
          ],
          "sizemode": "area",
          "sizeref": 0.13777777777777778
         },
         "mode": "markers",
         "name": "Stanton Ave & N Negley Ave",
         "showlegend": true,
         "subplot": "mapbox",
         "type": "scattermapbox"
        },
        {
         "hovertemplate": "Station_Name=Roup Ave & Friendship Ave<br>NumRacks=%{marker.size}<br>Latitude=%{lat}<br>Longitude=%{lon}<extra></extra>",
         "lat": [
          40.46150726
         ],
         "legendgroup": "Roup Ave & Friendship Ave",
         "lon": [
          -79.93510187
         ],
         "marker": {
          "color": "#00cc96",
          "size": [
           5
          ],
          "sizemode": "area",
          "sizeref": 0.13777777777777778
         },
         "mode": "markers",
         "name": "Roup Ave & Friendship Ave",
         "showlegend": true,
         "subplot": "mapbox",
         "type": "scattermapbox"
        },
        {
         "hovertemplate": "Station_Name=Penn Ave & 39th St<br>NumRacks=%{marker.size}<br>Latitude=%{lat}<br>Longitude=%{lon}<extra></extra>",
         "lat": [
          40.46490704
         ],
         "legendgroup": "Penn Ave & 39th St",
         "lon": [
          -79.96008396
         ],
         "marker": {
          "color": "#ab63fa",
          "size": [
           6
          ],
          "sizemode": "area",
          "sizeref": 0.13777777777777778
         },
         "mode": "markers",
         "name": "Penn Ave & 39th St",
         "showlegend": true,
         "subplot": "mapbox",
         "type": "scattermapbox"
        },
        {
         "hovertemplate": "Station_Name=Butler St & 48th St<br>NumRacks=%{marker.size}<br>Latitude=%{lat}<br>Longitude=%{lon}<extra></extra>",
         "lat": [
          40.47603982
         ],
         "legendgroup": "Butler St & 48th St",
         "lon": [
          -79.95763779
         ],
         "marker": {
          "color": "#FFA15A",
          "size": [
           6
          ],
          "sizemode": "area",
          "sizeref": 0.13777777777777778
         },
         "mode": "markers",
         "name": "Butler St & 48th St",
         "showlegend": true,
         "subplot": "mapbox",
         "type": "scattermapbox"
        },
        {
         "hovertemplate": "Station_Name=Liberty Ave & 37th St<br>NumRacks=%{marker.size}<br>Latitude=%{lat}<br>Longitude=%{lon}<extra></extra>",
         "lat": [
          40.462184
         ],
         "legendgroup": "Liberty Ave & 37th St",
         "lon": [
          -79.96162
         ],
         "marker": {
          "color": "#19d3f3",
          "size": [
           6
          ],
          "sizemode": "area",
          "sizeref": 0.13777777777777778
         },
         "mode": "markers",
         "name": "Liberty Ave & 37th St",
         "showlegend": true,
         "subplot": "mapbox",
         "type": "scattermapbox"
        },
        {
         "hovertemplate": "Station_Name=Smallman St & 31st St<br>NumRacks=%{marker.size}<br>Latitude=%{lat}<br>Longitude=%{lon}<extra></extra>",
         "lat": [
          40.46011138
         ],
         "legendgroup": "Smallman St & 31st St",
         "lon": [
          -79.97276008
         ],
         "marker": {
          "color": "#FF6692",
          "size": [
           6
          ],
          "sizemode": "area",
          "sizeref": 0.13777777777777778
         },
         "mode": "markers",
         "name": "Smallman St & 31st St",
         "showlegend": true,
         "subplot": "mapbox",
         "type": "scattermapbox"
        },
        {
         "hovertemplate": "Station_Name=24th St & Smallman St<br>NumRacks=%{marker.size}<br>Latitude=%{lat}<br>Longitude=%{lon}<extra></extra>",
         "lat": [
          40.45400101
         ],
         "legendgroup": "24th St & Smallman St",
         "lon": [
          -79.98171329
         ],
         "marker": {
          "color": "#B6E880",
          "size": [
           6
          ],
          "sizemode": "area",
          "sizeref": 0.13777777777777778
         },
         "mode": "markers",
         "name": "24th St & Smallman St",
         "showlegend": true,
         "subplot": "mapbox",
         "type": "scattermapbox"
        },
        {
         "hovertemplate": "Station_Name=14th St & Penn Ave<br>NumRacks=%{marker.size}<br>Latitude=%{lat}<br>Longitude=%{lon}<extra></extra>",
         "lat": [
          40.447208
         ],
         "legendgroup": "14th St & Penn Ave",
         "lon": [
          -79.989725
         ],
         "marker": {
          "color": "#FF97FF",
          "size": [
           6
          ],
          "sizemode": "area",
          "sizeref": 0.13777777777777778
         },
         "mode": "markers",
         "name": "14th St & Penn Ave",
         "showlegend": true,
         "subplot": "mapbox",
         "type": "scattermapbox"
        },
        {
         "hovertemplate": "Station_Name=11th St & Penn Ave<br>NumRacks=%{marker.size}<br>Latitude=%{lat}<br>Longitude=%{lon}<extra></extra>",
         "lat": [
          40.44475071
         ],
         "legendgroup": "11th St & Penn Ave",
         "lon": [
          -79.99391198
         ],
         "marker": {
          "color": "#FECB52",
          "size": [
           6
          ],
          "sizemode": "area",
          "sizeref": 0.13777777777777778
         },
         "mode": "markers",
         "name": "11th St & Penn Ave",
         "showlegend": true,
         "subplot": "mapbox",
         "type": "scattermapbox"
        },
        {
         "hovertemplate": "Station_Name=Grant St & Strawberry Way<br>NumRacks=%{marker.size}<br>Latitude=%{lat}<br>Longitude=%{lon}<extra></extra>",
         "lat": [
          40.44170511
         ],
         "legendgroup": "Grant St & Strawberry Way",
         "lon": [
          -79.99510288
         ],
         "marker": {
          "color": "#636efa",
          "size": [
           7
          ],
          "sizemode": "area",
          "sizeref": 0.13777777777777778
         },
         "mode": "markers",
         "name": "Grant St & Strawberry Way",
         "showlegend": true,
         "subplot": "mapbox",
         "type": "scattermapbox"
        },
        {
         "hovertemplate": "Station_Name=9th St & Penn Ave<br>NumRacks=%{marker.size}<br>Latitude=%{lat}<br>Longitude=%{lon}<extra></extra>",
         "lat": [
          40.44353412
         ],
         "legendgroup": "9th St & Penn Ave",
         "lon": [
          -79.99839664
         ],
         "marker": {
          "color": "#EF553B",
          "size": [
           5
          ],
          "sizemode": "area",
          "sizeref": 0.13777777777777778
         },
         "mode": "markers",
         "name": "9th St & Penn Ave",
         "showlegend": true,
         "subplot": "mapbox",
         "type": "scattermapbox"
        },
        {
         "hovertemplate": "Station_Name=Liberty Ave & 6th St<br>NumRacks=%{marker.size}<br>Latitude=%{lat}<br>Longitude=%{lon}<extra></extra>",
         "lat": [
          40.44193373
         ],
         "legendgroup": "Liberty Ave & 6th St",
         "lon": [
          -80.00207126
         ],
         "marker": {
          "color": "#00cc96",
          "size": [
           6
          ],
          "sizemode": "area",
          "sizeref": 0.13777777777777778
         },
         "mode": "markers",
         "name": "Liberty Ave & 6th St",
         "showlegend": true,
         "subplot": "mapbox",
         "type": "scattermapbox"
        },
        {
         "hovertemplate": "Station_Name=Third Ave & Stanwix St<br>NumRacks=%{marker.size}<br>Latitude=%{lat}<br>Longitude=%{lon}<extra></extra>",
         "lat": [
          40.44001486
         ],
         "legendgroup": "Third Ave & Stanwix St",
         "lon": [
          -80.00447989
         ],
         "marker": {
          "color": "#ab63fa",
          "size": [
           5
          ],
          "sizemode": "area",
          "sizeref": 0.13777777777777778
         },
         "mode": "markers",
         "name": "Third Ave & Stanwix St",
         "showlegend": true,
         "subplot": "mapbox",
         "type": "scattermapbox"
        },
        {
         "hovertemplate": "Station_Name=Ross St & Fourth Ave<br>NumRacks=%{marker.size}<br>Latitude=%{lat}<br>Longitude=%{lon}<extra></extra>",
         "lat": [
          40.43766313
         ],
         "legendgroup": "Ross St & Fourth Ave",
         "lon": [
          -79.99629378
         ],
         "marker": {
          "color": "#FFA15A",
          "size": [
           7
          ],
          "sizemode": "area",
          "sizeref": 0.13777777777777778
         },
         "mode": "markers",
         "name": "Ross St & Fourth Ave",
         "showlegend": true,
         "subplot": "mapbox",
         "type": "scattermapbox"
        },
        {
         "hovertemplate": "Station_Name=Fifth Ave & Miltenberger<br>NumRacks=%{marker.size}<br>Latitude=%{lat}<br>Longitude=%{lon}<extra></extra>",
         "lat": [
          40.43829598
         ],
         "legendgroup": "Fifth Ave & Miltenberger",
         "lon": [
          -79.98117685
         ],
         "marker": {
          "color": "#19d3f3",
          "size": [
           6
          ],
          "sizemode": "area",
          "sizeref": 0.13777777777777778
         },
         "mode": "markers",
         "name": "Fifth Ave & Miltenberger",
         "showlegend": true,
         "subplot": "mapbox",
         "type": "scattermapbox"
        },
        {
         "hovertemplate": "Station_Name=Microsoft<br>NumRacks=%{marker.size}<br>Latitude=%{lat}<br>Longitude=%{lon}<extra></extra>",
         "lat": [
          40.45379691
         ],
         "legendgroup": "Microsoft",
         "lon": [
          -79.99094009
         ],
         "marker": {
          "color": "#FF6692",
          "size": [
           6
          ],
          "sizemode": "area",
          "sizeref": 0.13777777777777778
         },
         "mode": "markers",
         "name": "Microsoft",
         "showlegend": true,
         "subplot": "mapbox",
         "type": "scattermapbox"
        },
        {
         "hovertemplate": "Station_Name=Arch St & Jacksonia St<br>NumRacks=%{marker.size}<br>Latitude=%{lat}<br>Longitude=%{lon}<extra></extra>",
         "lat": [
          40.45777261
         ],
         "legendgroup": "Arch St & Jacksonia St",
         "lon": [
          -80.00945807
         ],
         "marker": {
          "color": "#B6E880",
          "size": [
           5
          ],
          "sizemode": "area",
          "sizeref": 0.13777777777777778
         },
         "mode": "markers",
         "name": "Arch St & Jacksonia St",
         "showlegend": true,
         "subplot": "mapbox",
         "type": "scattermapbox"
        },
        {
         "hovertemplate": "Station_Name=W General Robinson St & Chuck Noll Way<br>NumRacks=%{marker.size}<br>Latitude=%{lat}<br>Longitude=%{lon}<extra></extra>",
         "lat": [
          40.44741245
         ],
         "legendgroup": "W General Robinson St & Chuck Noll Way",
         "lon": [
          -80.01206517
         ],
         "marker": {
          "color": "#FF97FF",
          "size": [
           5
          ],
          "sizemode": "area",
          "sizeref": 0.13777777777777778
         },
         "mode": "markers",
         "name": "W General Robinson St & Chuck Noll Way",
         "showlegend": true,
         "subplot": "mapbox",
         "type": "scattermapbox"
        },
        {
         "hovertemplate": "Station_Name=Butler St & 36th St<br>NumRacks=%{marker.size}<br>Latitude=%{lat}<br>Longitude=%{lon}<extra></extra>",
         "lat": [
          40.46529884
         ],
         "legendgroup": "Butler St & 36th St",
         "lon": [
          -79.96527672
         ],
         "marker": {
          "color": "#FECB52",
          "size": [
           6
          ],
          "sizemode": "area",
          "sizeref": 0.13777777777777778
         },
         "mode": "markers",
         "name": "Butler St & 36th St",
         "showlegend": true,
         "subplot": "mapbox",
         "type": "scattermapbox"
        }
       ],
       "layout": {
        "legend": {
         "itemsizing": "constant",
         "title": {
          "text": "Station_Name"
         },
         "tracegroupgap": 0
        },
        "mapbox": {
         "center": {
          "lat": 40.4482108569,
          "lon": -79.96373512509999
         },
         "domain": {
          "x": [
           0,
           1
          ],
          "y": [
           0,
           1
          ]
         },
         "style": "carto-positron",
         "zoom": 10
        },
        "margin": {
         "t": 60
        },
        "template": {
         "data": {
          "bar": [
           {
            "error_x": {
             "color": "#2a3f5f"
            },
            "error_y": {
             "color": "#2a3f5f"
            },
            "marker": {
             "line": {
              "color": "#E5ECF6",
              "width": 0.5
             }
            },
            "type": "bar"
           }
          ],
          "barpolar": [
           {
            "marker": {
             "line": {
              "color": "#E5ECF6",
              "width": 0.5
             }
            },
            "type": "barpolar"
           }
          ],
          "carpet": [
           {
            "aaxis": {
             "endlinecolor": "#2a3f5f",
             "gridcolor": "white",
             "linecolor": "white",
             "minorgridcolor": "white",
             "startlinecolor": "#2a3f5f"
            },
            "baxis": {
             "endlinecolor": "#2a3f5f",
             "gridcolor": "white",
             "linecolor": "white",
             "minorgridcolor": "white",
             "startlinecolor": "#2a3f5f"
            },
            "type": "carpet"
           }
          ],
          "choropleth": [
           {
            "colorbar": {
             "outlinewidth": 0,
             "ticks": ""
            },
            "type": "choropleth"
           }
          ],
          "contour": [
           {
            "colorbar": {
             "outlinewidth": 0,
             "ticks": ""
            },
            "colorscale": [
             [
              0,
              "#0d0887"
             ],
             [
              0.1111111111111111,
              "#46039f"
             ],
             [
              0.2222222222222222,
              "#7201a8"
             ],
             [
              0.3333333333333333,
              "#9c179e"
             ],
             [
              0.4444444444444444,
              "#bd3786"
             ],
             [
              0.5555555555555556,
              "#d8576b"
             ],
             [
              0.6666666666666666,
              "#ed7953"
             ],
             [
              0.7777777777777778,
              "#fb9f3a"
             ],
             [
              0.8888888888888888,
              "#fdca26"
             ],
             [
              1,
              "#f0f921"
             ]
            ],
            "type": "contour"
           }
          ],
          "contourcarpet": [
           {
            "colorbar": {
             "outlinewidth": 0,
             "ticks": ""
            },
            "type": "contourcarpet"
           }
          ],
          "heatmap": [
           {
            "colorbar": {
             "outlinewidth": 0,
             "ticks": ""
            },
            "colorscale": [
             [
              0,
              "#0d0887"
             ],
             [
              0.1111111111111111,
              "#46039f"
             ],
             [
              0.2222222222222222,
              "#7201a8"
             ],
             [
              0.3333333333333333,
              "#9c179e"
             ],
             [
              0.4444444444444444,
              "#bd3786"
             ],
             [
              0.5555555555555556,
              "#d8576b"
             ],
             [
              0.6666666666666666,
              "#ed7953"
             ],
             [
              0.7777777777777778,
              "#fb9f3a"
             ],
             [
              0.8888888888888888,
              "#fdca26"
             ],
             [
              1,
              "#f0f921"
             ]
            ],
            "type": "heatmap"
           }
          ],
          "heatmapgl": [
           {
            "colorbar": {
             "outlinewidth": 0,
             "ticks": ""
            },
            "colorscale": [
             [
              0,
              "#0d0887"
             ],
             [
              0.1111111111111111,
              "#46039f"
             ],
             [
              0.2222222222222222,
              "#7201a8"
             ],
             [
              0.3333333333333333,
              "#9c179e"
             ],
             [
              0.4444444444444444,
              "#bd3786"
             ],
             [
              0.5555555555555556,
              "#d8576b"
             ],
             [
              0.6666666666666666,
              "#ed7953"
             ],
             [
              0.7777777777777778,
              "#fb9f3a"
             ],
             [
              0.8888888888888888,
              "#fdca26"
             ],
             [
              1,
              "#f0f921"
             ]
            ],
            "type": "heatmapgl"
           }
          ],
          "histogram": [
           {
            "marker": {
             "colorbar": {
              "outlinewidth": 0,
              "ticks": ""
             }
            },
            "type": "histogram"
           }
          ],
          "histogram2d": [
           {
            "colorbar": {
             "outlinewidth": 0,
             "ticks": ""
            },
            "colorscale": [
             [
              0,
              "#0d0887"
             ],
             [
              0.1111111111111111,
              "#46039f"
             ],
             [
              0.2222222222222222,
              "#7201a8"
             ],
             [
              0.3333333333333333,
              "#9c179e"
             ],
             [
              0.4444444444444444,
              "#bd3786"
             ],
             [
              0.5555555555555556,
              "#d8576b"
             ],
             [
              0.6666666666666666,
              "#ed7953"
             ],
             [
              0.7777777777777778,
              "#fb9f3a"
             ],
             [
              0.8888888888888888,
              "#fdca26"
             ],
             [
              1,
              "#f0f921"
             ]
            ],
            "type": "histogram2d"
           }
          ],
          "histogram2dcontour": [
           {
            "colorbar": {
             "outlinewidth": 0,
             "ticks": ""
            },
            "colorscale": [
             [
              0,
              "#0d0887"
             ],
             [
              0.1111111111111111,
              "#46039f"
             ],
             [
              0.2222222222222222,
              "#7201a8"
             ],
             [
              0.3333333333333333,
              "#9c179e"
             ],
             [
              0.4444444444444444,
              "#bd3786"
             ],
             [
              0.5555555555555556,
              "#d8576b"
             ],
             [
              0.6666666666666666,
              "#ed7953"
             ],
             [
              0.7777777777777778,
              "#fb9f3a"
             ],
             [
              0.8888888888888888,
              "#fdca26"
             ],
             [
              1,
              "#f0f921"
             ]
            ],
            "type": "histogram2dcontour"
           }
          ],
          "mesh3d": [
           {
            "colorbar": {
             "outlinewidth": 0,
             "ticks": ""
            },
            "type": "mesh3d"
           }
          ],
          "parcoords": [
           {
            "line": {
             "colorbar": {
              "outlinewidth": 0,
              "ticks": ""
             }
            },
            "type": "parcoords"
           }
          ],
          "pie": [
           {
            "automargin": true,
            "type": "pie"
           }
          ],
          "scatter": [
           {
            "marker": {
             "colorbar": {
              "outlinewidth": 0,
              "ticks": ""
             }
            },
            "type": "scatter"
           }
          ],
          "scatter3d": [
           {
            "line": {
             "colorbar": {
              "outlinewidth": 0,
              "ticks": ""
             }
            },
            "marker": {
             "colorbar": {
              "outlinewidth": 0,
              "ticks": ""
             }
            },
            "type": "scatter3d"
           }
          ],
          "scattercarpet": [
           {
            "marker": {
             "colorbar": {
              "outlinewidth": 0,
              "ticks": ""
             }
            },
            "type": "scattercarpet"
           }
          ],
          "scattergeo": [
           {
            "marker": {
             "colorbar": {
              "outlinewidth": 0,
              "ticks": ""
             }
            },
            "type": "scattergeo"
           }
          ],
          "scattergl": [
           {
            "marker": {
             "colorbar": {
              "outlinewidth": 0,
              "ticks": ""
             }
            },
            "type": "scattergl"
           }
          ],
          "scattermapbox": [
           {
            "marker": {
             "colorbar": {
              "outlinewidth": 0,
              "ticks": ""
             }
            },
            "type": "scattermapbox"
           }
          ],
          "scatterpolar": [
           {
            "marker": {
             "colorbar": {
              "outlinewidth": 0,
              "ticks": ""
             }
            },
            "type": "scatterpolar"
           }
          ],
          "scatterpolargl": [
           {
            "marker": {
             "colorbar": {
              "outlinewidth": 0,
              "ticks": ""
             }
            },
            "type": "scatterpolargl"
           }
          ],
          "scatterternary": [
           {
            "marker": {
             "colorbar": {
              "outlinewidth": 0,
              "ticks": ""
             }
            },
            "type": "scatterternary"
           }
          ],
          "surface": [
           {
            "colorbar": {
             "outlinewidth": 0,
             "ticks": ""
            },
            "colorscale": [
             [
              0,
              "#0d0887"
             ],
             [
              0.1111111111111111,
              "#46039f"
             ],
             [
              0.2222222222222222,
              "#7201a8"
             ],
             [
              0.3333333333333333,
              "#9c179e"
             ],
             [
              0.4444444444444444,
              "#bd3786"
             ],
             [
              0.5555555555555556,
              "#d8576b"
             ],
             [
              0.6666666666666666,
              "#ed7953"
             ],
             [
              0.7777777777777778,
              "#fb9f3a"
             ],
             [
              0.8888888888888888,
              "#fdca26"
             ],
             [
              1,
              "#f0f921"
             ]
            ],
            "type": "surface"
           }
          ],
          "table": [
           {
            "cells": {
             "fill": {
              "color": "#EBF0F8"
             },
             "line": {
              "color": "white"
             }
            },
            "header": {
             "fill": {
              "color": "#C8D4E3"
             },
             "line": {
              "color": "white"
             }
            },
            "type": "table"
           }
          ]
         },
         "layout": {
          "annotationdefaults": {
           "arrowcolor": "#2a3f5f",
           "arrowhead": 0,
           "arrowwidth": 1
          },
          "autotypenumbers": "strict",
          "coloraxis": {
           "colorbar": {
            "outlinewidth": 0,
            "ticks": ""
           }
          },
          "colorscale": {
           "diverging": [
            [
             0,
             "#8e0152"
            ],
            [
             0.1,
             "#c51b7d"
            ],
            [
             0.2,
             "#de77ae"
            ],
            [
             0.3,
             "#f1b6da"
            ],
            [
             0.4,
             "#fde0ef"
            ],
            [
             0.5,
             "#f7f7f7"
            ],
            [
             0.6,
             "#e6f5d0"
            ],
            [
             0.7,
             "#b8e186"
            ],
            [
             0.8,
             "#7fbc41"
            ],
            [
             0.9,
             "#4d9221"
            ],
            [
             1,
             "#276419"
            ]
           ],
           "sequential": [
            [
             0,
             "#0d0887"
            ],
            [
             0.1111111111111111,
             "#46039f"
            ],
            [
             0.2222222222222222,
             "#7201a8"
            ],
            [
             0.3333333333333333,
             "#9c179e"
            ],
            [
             0.4444444444444444,
             "#bd3786"
            ],
            [
             0.5555555555555556,
             "#d8576b"
            ],
            [
             0.6666666666666666,
             "#ed7953"
            ],
            [
             0.7777777777777778,
             "#fb9f3a"
            ],
            [
             0.8888888888888888,
             "#fdca26"
            ],
            [
             1,
             "#f0f921"
            ]
           ],
           "sequentialminus": [
            [
             0,
             "#0d0887"
            ],
            [
             0.1111111111111111,
             "#46039f"
            ],
            [
             0.2222222222222222,
             "#7201a8"
            ],
            [
             0.3333333333333333,
             "#9c179e"
            ],
            [
             0.4444444444444444,
             "#bd3786"
            ],
            [
             0.5555555555555556,
             "#d8576b"
            ],
            [
             0.6666666666666666,
             "#ed7953"
            ],
            [
             0.7777777777777778,
             "#fb9f3a"
            ],
            [
             0.8888888888888888,
             "#fdca26"
            ],
            [
             1,
             "#f0f921"
            ]
           ]
          },
          "colorway": [
           "#636efa",
           "#EF553B",
           "#00cc96",
           "#ab63fa",
           "#FFA15A",
           "#19d3f3",
           "#FF6692",
           "#B6E880",
           "#FF97FF",
           "#FECB52"
          ],
          "font": {
           "color": "#2a3f5f"
          },
          "geo": {
           "bgcolor": "white",
           "lakecolor": "white",
           "landcolor": "#E5ECF6",
           "showlakes": true,
           "showland": true,
           "subunitcolor": "white"
          },
          "hoverlabel": {
           "align": "left"
          },
          "hovermode": "closest",
          "mapbox": {
           "style": "light"
          },
          "paper_bgcolor": "white",
          "plot_bgcolor": "#E5ECF6",
          "polar": {
           "angularaxis": {
            "gridcolor": "white",
            "linecolor": "white",
            "ticks": ""
           },
           "bgcolor": "#E5ECF6",
           "radialaxis": {
            "gridcolor": "white",
            "linecolor": "white",
            "ticks": ""
           }
          },
          "scene": {
           "xaxis": {
            "backgroundcolor": "#E5ECF6",
            "gridcolor": "white",
            "gridwidth": 2,
            "linecolor": "white",
            "showbackground": true,
            "ticks": "",
            "zerolinecolor": "white"
           },
           "yaxis": {
            "backgroundcolor": "#E5ECF6",
            "gridcolor": "white",
            "gridwidth": 2,
            "linecolor": "white",
            "showbackground": true,
            "ticks": "",
            "zerolinecolor": "white"
           },
           "zaxis": {
            "backgroundcolor": "#E5ECF6",
            "gridcolor": "white",
            "gridwidth": 2,
            "linecolor": "white",
            "showbackground": true,
            "ticks": "",
            "zerolinecolor": "white"
           }
          },
          "shapedefaults": {
           "line": {
            "color": "#2a3f5f"
           }
          },
          "ternary": {
           "aaxis": {
            "gridcolor": "white",
            "linecolor": "white",
            "ticks": ""
           },
           "baxis": {
            "gridcolor": "white",
            "linecolor": "white",
            "ticks": ""
           },
           "bgcolor": "#E5ECF6",
           "caxis": {
            "gridcolor": "white",
            "linecolor": "white",
            "ticks": ""
           }
          },
          "title": {
           "x": 0.05
          },
          "xaxis": {
           "automargin": true,
           "gridcolor": "white",
           "linecolor": "white",
           "ticks": "",
           "title": {
            "standoff": 15
           },
           "zerolinecolor": "white",
           "zerolinewidth": 2
          },
          "yaxis": {
           "automargin": true,
           "gridcolor": "white",
           "linecolor": "white",
           "ticks": "",
           "title": {
            "standoff": 15
           },
           "zerolinecolor": "white",
           "zerolinewidth": 2
          }
         }
        }
       }
      },
      "text/html": [
       "<div>                            <div id=\"0fa70067-76b4-434e-a0f4-5b791d2ad9db\" class=\"plotly-graph-div\" style=\"height:525px; width:100%;\"></div>            <script type=\"text/javascript\">                require([\"plotly\"], function(Plotly) {                    window.PLOTLYENV=window.PLOTLYENV || {};                                    if (document.getElementById(\"0fa70067-76b4-434e-a0f4-5b791d2ad9db\")) {                    Plotly.newPlot(                        \"0fa70067-76b4-434e-a0f4-5b791d2ad9db\",                        [{\"hovertemplate\": \"Station_Name=Liberty Ave & Stanwix St<br>NumRacks=%{marker.size}<br>Latitude=%{lat}<br>Longitude=%{lon}<extra></extra>\", \"lat\": [40.441326], \"legendgroup\": \"Liberty Ave & Stanwix St\", \"lon\": [-80.004679], \"marker\": {\"color\": \"#636efa\", \"size\": [16], \"sizemode\": \"area\", \"sizeref\": 0.13777777777777778}, \"mode\": \"markers\", \"name\": \"Liberty Ave & Stanwix St\", \"showlegend\": true, \"subplot\": \"mapbox\", \"type\": \"scattermapbox\"}, {\"hovertemplate\": \"Station_Name=Forbes Ave & Market Square<br>NumRacks=%{marker.size}<br>Latitude=%{lat}<br>Longitude=%{lon}<extra></extra>\", \"lat\": [40.440877], \"legendgroup\": \"Forbes Ave & Market Square\", \"lon\": [-80.00308], \"marker\": {\"color\": \"#EF553B\", \"size\": [19], \"sizemode\": \"area\", \"sizeref\": 0.13777777777777778}, \"mode\": \"markers\", \"name\": \"Forbes Ave & Market Square\", \"showlegend\": true, \"subplot\": \"mapbox\", \"type\": \"scattermapbox\"}, {\"hovertemplate\": \"Station_Name=Third Ave & Wood St<br>NumRacks=%{marker.size}<br>Latitude=%{lat}<br>Longitude=%{lon}<extra></extra>\", \"lat\": [40.43903], \"legendgroup\": \"Third Ave & Wood St\", \"lon\": [-80.00186], \"marker\": {\"color\": \"#00cc96\", \"size\": [15], \"sizemode\": \"area\", \"sizeref\": 0.13777777777777778}, \"mode\": \"markers\", \"name\": \"Third Ave & Wood St\", \"showlegend\": true, \"subplot\": \"mapbox\", \"type\": \"scattermapbox\"}, {\"hovertemplate\": \"Station_Name=First Ave & Smithfield St (Art Institute)<br>NumRacks=%{marker.size}<br>Latitude=%{lat}<br>Longitude=%{lon}<extra></extra>\", \"lat\": [40.4372], \"legendgroup\": \"First Ave & Smithfield St (Art Institute)\", \"lon\": [-80.000375], \"marker\": {\"color\": \"#ab63fa\", \"size\": [15], \"sizemode\": \"area\", \"sizeref\": 0.13777777777777778}, \"mode\": \"markers\", \"name\": \"First Ave & Smithfield St (Art Institute)\", \"showlegend\": true, \"subplot\": \"mapbox\", \"type\": \"scattermapbox\"}, {\"hovertemplate\": \"Station_Name=First Ave & B St (T Station)<br>NumRacks=%{marker.size}<br>Latitude=%{lat}<br>Longitude=%{lon}<extra></extra>\", \"lat\": [40.435887], \"legendgroup\": \"First Ave & B St (T Station)\", \"lon\": [-79.997102], \"marker\": {\"color\": \"#FFA15A\", \"size\": [15], \"sizemode\": \"area\", \"sizeref\": 0.13777777777777778}, \"mode\": \"markers\", \"name\": \"First Ave & B St (T Station)\", \"showlegend\": true, \"subplot\": \"mapbox\", \"type\": \"scattermapbox\"}, {\"hovertemplate\": \"Station_Name=Forbes Ave & Grant St<br>NumRacks=%{marker.size}<br>Latitude=%{lat}<br>Longitude=%{lon}<extra></extra>\", \"lat\": [40.438882], \"legendgroup\": \"Forbes Ave & Grant St\", \"lon\": [-79.997592], \"marker\": {\"color\": \"#19d3f3\", \"size\": [13], \"sizemode\": \"area\", \"sizeref\": 0.13777777777777778}, \"mode\": \"markers\", \"name\": \"Forbes Ave & Grant St\", \"showlegend\": true, \"subplot\": \"mapbox\", \"type\": \"scattermapbox\"}, {\"hovertemplate\": \"Station_Name=Ross St & Sixth Ave (Steel Plaza T Station)<br>NumRacks=%{marker.size}<br>Latitude=%{lat}<br>Longitude=%{lon}<extra></extra>\", \"lat\": [40.440193], \"legendgroup\": \"Ross St & Sixth Ave (Steel Plaza T Station)\", \"lon\": [-79.995084], \"marker\": {\"color\": \"#FF6692\", \"size\": [7], \"sizemode\": \"area\", \"sizeref\": 0.13777777777777778}, \"mode\": \"markers\", \"name\": \"Ross St & Sixth Ave (Steel Plaza T Station)\", \"showlegend\": true, \"subplot\": \"mapbox\", \"type\": \"scattermapbox\"}, {\"hovertemplate\": \"Station_Name=Stevenson St & Forbes Ave<br>NumRacks=%{marker.size}<br>Latitude=%{lat}<br>Longitude=%{lon}<extra></extra>\", \"lat\": [40.437643], \"legendgroup\": \"Stevenson St & Forbes Ave\", \"lon\": [-79.986695], \"marker\": {\"color\": \"#B6E880\", \"size\": [15], \"sizemode\": \"area\", \"sizeref\": 0.13777777777777778}, \"mode\": \"markers\", \"name\": \"Stevenson St & Forbes Ave\", \"showlegend\": true, \"subplot\": \"mapbox\", \"type\": \"scattermapbox\"}, {\"hovertemplate\": \"Station_Name=Centre Ave & PPG Paints Arena<br>NumRacks=%{marker.size}<br>Latitude=%{lat}<br>Longitude=%{lon}<extra></extra>\", \"lat\": [40.440368], \"legendgroup\": \"Centre Ave & PPG Paints Arena\", \"lon\": [-79.988636], \"marker\": {\"color\": \"#FF97FF\", \"size\": [5], \"sizemode\": \"area\", \"sizeref\": 0.13777777777777778}, \"mode\": \"markers\", \"name\": \"Centre Ave & PPG Paints Arena\", \"showlegend\": true, \"subplot\": \"mapbox\", \"type\": \"scattermapbox\"}, {\"hovertemplate\": \"Station_Name=12th St & Penn Ave<br>NumRacks=%{marker.size}<br>Latitude=%{lat}<br>Longitude=%{lon}<extra></extra>\", \"lat\": [40.445844], \"legendgroup\": \"12th St & Penn Ave\", \"lon\": [-79.99238], \"marker\": {\"color\": \"#FECB52\", \"size\": [19], \"sizemode\": \"area\", \"sizeref\": 0.13777777777777778}, \"mode\": \"markers\", \"name\": \"12th St & Penn Ave\", \"showlegend\": true, \"subplot\": \"mapbox\", \"type\": \"scattermapbox\"}, {\"hovertemplate\": \"Station_Name=10th St & Penn Ave (David L. Lawrence Convention Center)<br>NumRacks=%{marker.size}<br>Latitude=%{lat}<br>Longitude=%{lon}<extra></extra>\", \"lat\": [40.444665], \"legendgroup\": \"10th St & Penn Ave (David L. Lawrence Convention Center)\", \"lon\": [-79.995798], \"marker\": {\"color\": \"#636efa\", \"size\": [15], \"sizemode\": \"area\", \"sizeref\": 0.13777777777777778}, \"mode\": \"markers\", \"name\": \"10th St & Penn Ave (David L. Lawrence Convention Center)\", \"showlegend\": true, \"subplot\": \"mapbox\", \"type\": \"scattermapbox\"}, {\"hovertemplate\": \"Station_Name=Fort Duquesne Blvd & 7th<br>NumRacks=%{marker.size}<br>Latitude=%{lat}<br>Longitude=%{lon}<extra></extra>\", \"lat\": [40.444777], \"legendgroup\": \"Fort Duquesne Blvd & 7th\", \"lon\": [-80.000831], \"marker\": {\"color\": \"#EF553B\", \"size\": [15], \"sizemode\": \"area\", \"sizeref\": 0.13777777777777778}, \"mode\": \"markers\", \"name\": \"Fort Duquesne Blvd & 7th\", \"showlegend\": true, \"subplot\": \"mapbox\", \"type\": \"scattermapbox\"}, {\"hovertemplate\": \"Station_Name=North Shore Trail & Ft Duquesne Bridge<br>NumRacks=%{marker.size}<br>Latitude=%{lat}<br>Longitude=%{lon}<extra></extra>\", \"lat\": [40.445834], \"legendgroup\": \"North Shore Trail & Ft Duquesne Bridge\", \"lon\": [-80.008882], \"marker\": {\"color\": \"#00cc96\", \"size\": [31], \"sizemode\": \"area\", \"sizeref\": 0.13777777777777778}, \"mode\": \"markers\", \"name\": \"North Shore Trail & Ft Duquesne Bridge\", \"showlegend\": true, \"subplot\": \"mapbox\", \"type\": \"scattermapbox\"}, {\"hovertemplate\": \"Station_Name=Isabella St & Federal St (PNC Park)<br>NumRacks=%{marker.size}<br>Latitude=%{lat}<br>Longitude=%{lon}<extra></extra>\", \"lat\": [40.447166], \"legendgroup\": \"Isabella St & Federal St (PNC Park)\", \"lon\": [-80.003566], \"marker\": {\"color\": \"#ab63fa\", \"size\": [15], \"sizemode\": \"area\", \"sizeref\": 0.13777777777777778}, \"mode\": \"markers\", \"name\": \"Isabella St & Federal St (PNC Park)\", \"showlegend\": true, \"subplot\": \"mapbox\", \"type\": \"scattermapbox\"}, {\"hovertemplate\": \"Station_Name=Ridge Ave & Brighton Rd (CCAC)<br>NumRacks=%{marker.size}<br>Latitude=%{lat}<br>Longitude=%{lon}<extra></extra>\", \"lat\": [40.450595], \"legendgroup\": \"Ridge Ave & Brighton Rd (CCAC)\", \"lon\": [-80.013204], \"marker\": {\"color\": \"#FFA15A\", \"size\": [19], \"sizemode\": \"area\", \"sizeref\": 0.13777777777777778}, \"mode\": \"markers\", \"name\": \"Ridge Ave & Brighton Rd (CCAC)\", \"showlegend\": true, \"subplot\": \"mapbox\", \"type\": \"scattermapbox\"}, {\"hovertemplate\": \"Station_Name=Federal St & E North Ave<br>NumRacks=%{marker.size}<br>Latitude=%{lat}<br>Longitude=%{lon}<extra></extra>\", \"lat\": [40.45509087], \"legendgroup\": \"Federal St & E North Ave\", \"lon\": [-80.0063467], \"marker\": {\"color\": \"#19d3f3\", \"size\": [12], \"sizemode\": \"area\", \"sizeref\": 0.13777777777777778}, \"mode\": \"markers\", \"name\": \"Federal St & E North Ave\", \"showlegend\": true, \"subplot\": \"mapbox\", \"type\": \"scattermapbox\"}, {\"hovertemplate\": \"Station_Name=17th St & Penn Ave<br>NumRacks=%{marker.size}<br>Latitude=%{lat}<br>Longitude=%{lon}<extra></extra>\", \"lat\": [40.449631], \"legendgroup\": \"17th St & Penn Ave\", \"lon\": [-79.985893], \"marker\": {\"color\": \"#FF6692\", \"size\": [19], \"sizemode\": \"area\", \"sizeref\": 0.13777777777777778}, \"mode\": \"markers\", \"name\": \"17th St & Penn Ave\", \"showlegend\": true, \"subplot\": \"mapbox\", \"type\": \"scattermapbox\"}, {\"hovertemplate\": \"Station_Name=21st St & Penn Ave<br>NumRacks=%{marker.size}<br>Latitude=%{lat}<br>Longitude=%{lon}<extra></extra>\", \"lat\": [40.451742], \"legendgroup\": \"21st St & Penn Ave\", \"lon\": [-79.983217], \"marker\": {\"color\": \"#B6E880\", \"size\": [18], \"sizemode\": \"area\", \"sizeref\": 0.13777777777777778}, \"mode\": \"markers\", \"name\": \"21st St & Penn Ave\", \"showlegend\": true, \"subplot\": \"mapbox\", \"type\": \"scattermapbox\"}, {\"hovertemplate\": \"Station_Name=Butler St & Stanton Ave<br>NumRacks=%{marker.size}<br>Latitude=%{lat}<br>Longitude=%{lon}<extra></extra>\", \"lat\": [40.47815], \"legendgroup\": \"Butler St & Stanton Ave\", \"lon\": [-79.9557], \"marker\": {\"color\": \"#FF97FF\", \"size\": [5], \"sizemode\": \"area\", \"sizeref\": 0.13777777777777778}, \"mode\": \"markers\", \"name\": \"Butler St & Stanton Ave\", \"showlegend\": true, \"subplot\": \"mapbox\", \"type\": \"scattermapbox\"}, {\"hovertemplate\": \"Station_Name=42nd St & Butler St<br>NumRacks=%{marker.size}<br>Latitude=%{lat}<br>Longitude=%{lon}<extra></extra>\", \"lat\": [40.47021248], \"legendgroup\": \"42nd St & Butler St\", \"lon\": [-79.96066332], \"marker\": {\"color\": \"#FECB52\", \"size\": [17], \"sizemode\": \"area\", \"sizeref\": 0.13777777777777778}, \"mode\": \"markers\", \"name\": \"42nd St & Butler St\", \"showlegend\": true, \"subplot\": \"mapbox\", \"type\": \"scattermapbox\"}, {\"hovertemplate\": \"Station_Name=42nd St & Penn Ave (Children's Hospital)<br>NumRacks=%{marker.size}<br>Latitude=%{lat}<br>Longitude=%{lon}<extra></extra>\", \"lat\": [40.465893], \"legendgroup\": \"42nd St & Penn Ave (Children's Hospital)\", \"lon\": [-79.954417], \"marker\": {\"color\": \"#636efa\", \"size\": [8], \"sizemode\": \"area\", \"sizeref\": 0.13777777777777778}, \"mode\": \"markers\", \"name\": \"42nd St & Penn Ave (Children's Hospital)\", \"showlegend\": true, \"subplot\": \"mapbox\", \"type\": \"scattermapbox\"}, {\"hovertemplate\": \"Station_Name=Taylor St & Liberty Ave<br>NumRacks=%{marker.size}<br>Latitude=%{lat}<br>Longitude=%{lon}<extra></extra>\", \"lat\": [40.462769], \"legendgroup\": \"Taylor St & Liberty Ave\", \"lon\": [-79.950867], \"marker\": {\"color\": \"#EF553B\", \"size\": [19], \"sizemode\": \"area\", \"sizeref\": 0.13777777777777778}, \"mode\": \"markers\", \"name\": \"Taylor St & Liberty Ave\", \"showlegend\": true, \"subplot\": \"mapbox\", \"type\": \"scattermapbox\"}, {\"hovertemplate\": \"Station_Name=Liberty Ave & S Millvale (West Penn Hospital)<br>NumRacks=%{marker.size}<br>Latitude=%{lat}<br>Longitude=%{lon}<extra></extra>\", \"lat\": [40.459812], \"legendgroup\": \"Liberty Ave & S Millvale (West Penn Hospital)\", \"lon\": [-79.945548], \"marker\": {\"color\": \"#00cc96\", \"size\": [15], \"sizemode\": \"area\", \"sizeref\": 0.13777777777777778}, \"mode\": \"markers\", \"name\": \"Liberty Ave & S Millvale (West Penn Hospital)\", \"showlegend\": true, \"subplot\": \"mapbox\", \"type\": \"scattermapbox\"}, {\"hovertemplate\": \"Station_Name=Liberty Ave & Baum Blvd<br>NumRacks=%{marker.size}<br>Latitude=%{lat}<br>Longitude=%{lon}<extra></extra>\", \"lat\": [40.456505], \"legendgroup\": \"Liberty Ave & Baum Blvd\", \"lon\": [-79.939362], \"marker\": {\"color\": \"#ab63fa\", \"size\": [15], \"sizemode\": \"area\", \"sizeref\": 0.13777777777777778}, \"mode\": \"markers\", \"name\": \"Liberty Ave & Baum Blvd\", \"showlegend\": true, \"subplot\": \"mapbox\", \"type\": \"scattermapbox\"}, {\"hovertemplate\": \"Station_Name=S Negley Ave & Baum Blvd<br>NumRacks=%{marker.size}<br>Latitude=%{lat}<br>Longitude=%{lon}<extra></extra>\", \"lat\": [40.458714], \"legendgroup\": \"S Negley Ave & Baum Blvd\", \"lon\": [-79.933483], \"marker\": {\"color\": \"#FFA15A\", \"size\": [17], \"sizemode\": \"area\", \"sizeref\": 0.13777777777777778}, \"mode\": \"markers\", \"name\": \"S Negley Ave & Baum Blvd\", \"showlegend\": true, \"subplot\": \"mapbox\", \"type\": \"scattermapbox\"}, {\"hovertemplate\": \"Station_Name=Penn Ave & N Fairmount St<br>NumRacks=%{marker.size}<br>Latitude=%{lat}<br>Longitude=%{lon}<extra></extra>\", \"lat\": [40.464443], \"legendgroup\": \"Penn Ave & N Fairmount St\", \"lon\": [-79.933188], \"marker\": {\"color\": \"#19d3f3\", \"size\": [15], \"sizemode\": \"area\", \"sizeref\": 0.13777777777777778}, \"mode\": \"markers\", \"name\": \"Penn Ave & N Fairmount St\", \"showlegend\": true, \"subplot\": \"mapbox\", \"type\": \"scattermapbox\"}, {\"hovertemplate\": \"Station_Name=Penn Ave & S Whitfield St<br>NumRacks=%{marker.size}<br>Latitude=%{lat}<br>Longitude=%{lon}<extra></extra>\", \"lat\": [40.461603], \"legendgroup\": \"Penn Ave & S Whitfield St\", \"lon\": [-79.925624], \"marker\": {\"color\": \"#FF6692\", \"size\": [13], \"sizemode\": \"area\", \"sizeref\": 0.13777777777777778}, \"mode\": \"markers\", \"name\": \"Penn Ave & S Whitfield St\", \"showlegend\": true, \"subplot\": \"mapbox\", \"type\": \"scattermapbox\"}, {\"hovertemplate\": \"Station_Name=Shady Ave & Ellsworth Ave<br>NumRacks=%{marker.size}<br>Latitude=%{lat}<br>Longitude=%{lon}<extra></extra>\", \"lat\": [40.458972], \"legendgroup\": \"Shady Ave & Ellsworth Ave\", \"lon\": [-79.922023], \"marker\": {\"color\": \"#B6E880\", \"size\": [19], \"sizemode\": \"area\", \"sizeref\": 0.13777777777777778}, \"mode\": \"markers\", \"name\": \"Shady Ave & Ellsworth Ave\", \"showlegend\": true, \"subplot\": \"mapbox\", \"type\": \"scattermapbox\"}, {\"hovertemplate\": \"Station_Name=Penn Ave & Putnam St (Bakery Square)<br>NumRacks=%{marker.size}<br>Latitude=%{lat}<br>Longitude=%{lon}<extra></extra>\", \"lat\": [40.455821], \"legendgroup\": \"Penn Ave & Putnam St (Bakery Square)\", \"lon\": [-79.915248], \"marker\": {\"color\": \"#FF97FF\", \"size\": [8], \"sizemode\": \"area\", \"sizeref\": 0.13777777777777778}, \"mode\": \"markers\", \"name\": \"Penn Ave & Putnam St (Bakery Square)\", \"showlegend\": true, \"subplot\": \"mapbox\", \"type\": \"scattermapbox\"}, {\"hovertemplate\": \"Station_Name=Alder St & S Higland Ave<br>NumRacks=%{marker.size}<br>Latitude=%{lat}<br>Longitude=%{lon}<extra></extra>\", \"lat\": [40.457415], \"legendgroup\": \"Alder St & S Higland Ave\", \"lon\": [-79.92492], \"marker\": {\"color\": \"#FECB52\", \"size\": [19], \"sizemode\": \"area\", \"sizeref\": 0.13777777777777778}, \"mode\": \"markers\", \"name\": \"Alder St & S Higland Ave\", \"showlegend\": true, \"subplot\": \"mapbox\", \"type\": \"scattermapbox\"}, {\"hovertemplate\": \"Station_Name=Maryland Ave & Ellsworth Ave<br>NumRacks=%{marker.size}<br>Latitude=%{lat}<br>Longitude=%{lon}<extra></extra>\", \"lat\": [40.45628], \"legendgroup\": \"Maryland Ave & Ellsworth Ave\", \"lon\": [-79.930962], \"marker\": {\"color\": \"#636efa\", \"size\": [19], \"sizemode\": \"area\", \"sizeref\": 0.13777777777777778}, \"mode\": \"markers\", \"name\": \"Maryland Ave & Ellsworth Ave\", \"showlegend\": true, \"subplot\": \"mapbox\", \"type\": \"scattermapbox\"}, {\"hovertemplate\": \"Station_Name=Walnut St & College St<br>NumRacks=%{marker.size}<br>Latitude=%{lat}<br>Longitude=%{lon}<extra></extra>\", \"lat\": [40.453382], \"legendgroup\": \"Walnut St & College St\", \"lon\": [-79.92731], \"marker\": {\"color\": \"#EF553B\", \"size\": [14], \"sizemode\": \"area\", \"sizeref\": 0.13777777777777778}, \"mode\": \"markers\", \"name\": \"Walnut St & College St\", \"showlegend\": true, \"subplot\": \"mapbox\", \"type\": \"scattermapbox\"}, {\"hovertemplate\": \"Station_Name=Ivy St & Walnut St<br>NumRacks=%{marker.size}<br>Latitude=%{lat}<br>Longitude=%{lon}<extra></extra>\", \"lat\": [40.45177], \"legendgroup\": \"Ivy St & Walnut St\", \"lon\": [-79.932324], \"marker\": {\"color\": \"#00cc96\", \"size\": [19], \"sizemode\": \"area\", \"sizeref\": 0.13777777777777778}, \"mode\": \"markers\", \"name\": \"Ivy St & Walnut St\", \"showlegend\": true, \"subplot\": \"mapbox\", \"type\": \"scattermapbox\"}, {\"hovertemplate\": \"Station_Name=Ellsworth Ave & N Neville St<br>NumRacks=%{marker.size}<br>Latitude=%{lat}<br>Longitude=%{lon}<extra></extra>\", \"lat\": [40.448419], \"legendgroup\": \"Ellsworth Ave & N Neville St\", \"lon\": [-79.947401], \"marker\": {\"color\": \"#ab63fa\", \"size\": [15], \"sizemode\": \"area\", \"sizeref\": 0.13777777777777778}, \"mode\": \"markers\", \"name\": \"Ellsworth Ave & N Neville St\", \"showlegend\": true, \"subplot\": \"mapbox\", \"type\": \"scattermapbox\"}, {\"hovertemplate\": \"Station_Name=Fifth Ave & S Dithridge St<br>NumRacks=%{marker.size}<br>Latitude=%{lat}<br>Longitude=%{lon}<extra></extra>\", \"lat\": [40.446744], \"legendgroup\": \"Fifth Ave & S Dithridge St\", \"lon\": [-79.950881], \"marker\": {\"color\": \"#FFA15A\", \"size\": [8], \"sizemode\": \"area\", \"sizeref\": 0.13777777777777778}, \"mode\": \"markers\", \"name\": \"Fifth Ave & S Dithridge St\", \"showlegend\": true, \"subplot\": \"mapbox\", \"type\": \"scattermapbox\"}, {\"hovertemplate\": \"Station_Name=Schenley Dr at Schenley Plaza (Carnegie Library Main)<br>NumRacks=%{marker.size}<br>Latitude=%{lat}<br>Longitude=%{lon}<extra></extra>\", \"lat\": [40.442398], \"legendgroup\": \"Schenley Dr at Schenley Plaza (Carnegie Library Main)\", \"lon\": [-79.951479], \"marker\": {\"color\": \"#19d3f3\", \"size\": [19], \"sizemode\": \"area\", \"sizeref\": 0.13777777777777778}, \"mode\": \"markers\", \"name\": \"Schenley Dr at Schenley Plaza (Carnegie Library Main)\", \"showlegend\": true, \"subplot\": \"mapbox\", \"type\": \"scattermapbox\"}, {\"hovertemplate\": \"Station_Name=Frew St & Schenley Dr<br>NumRacks=%{marker.size}<br>Latitude=%{lat}<br>Longitude=%{lon}<extra></extra>\", \"lat\": [40.441032], \"legendgroup\": \"Frew St & Schenley Dr\", \"lon\": [-79.948042], \"marker\": {\"color\": \"#FF6692\", \"size\": [20], \"sizemode\": \"area\", \"sizeref\": 0.13777777777777778}, \"mode\": \"markers\", \"name\": \"Frew St & Schenley Dr\", \"showlegend\": true, \"subplot\": \"mapbox\", \"type\": \"scattermapbox\"}, {\"hovertemplate\": \"Station_Name=Boulevard of the Allies & Parkview Ave<br>NumRacks=%{marker.size}<br>Latitude=%{lat}<br>Longitude=%{lon}<extra></extra>\", \"lat\": [40.434338], \"legendgroup\": \"Boulevard of the Allies & Parkview Ave\", \"lon\": [-79.951877], \"marker\": {\"color\": \"#B6E880\", \"size\": [19], \"sizemode\": \"area\", \"sizeref\": 0.13777777777777778}, \"mode\": \"markers\", \"name\": \"Boulevard of the Allies & Parkview Ave\", \"showlegend\": true, \"subplot\": \"mapbox\", \"type\": \"scattermapbox\"}, {\"hovertemplate\": \"Station_Name=Atwood St & Bates<br>NumRacks=%{marker.size}<br>Latitude=%{lat}<br>Longitude=%{lon}<extra></extra>\", \"lat\": [40.437987], \"legendgroup\": \"Atwood St & Bates\", \"lon\": [-79.95367], \"marker\": {\"color\": \"#FF97FF\", \"size\": [8], \"sizemode\": \"area\", \"sizeref\": 0.13777777777777778}, \"mode\": \"markers\", \"name\": \"Atwood St & Bates\", \"showlegend\": true, \"subplot\": \"mapbox\", \"type\": \"scattermapbox\"}, {\"hovertemplate\": \"Station_Name=O'Hara St and University Place (Soldiers and Sailors Memorial)<br>NumRacks=%{marker.size}<br>Latitude=%{lat}<br>Longitude=%{lon}<extra></extra>\", \"lat\": [40.445128], \"legendgroup\": \"O'Hara St and University Place (Soldiers and Sailors Memorial)\", \"lon\": [-79.957102], \"marker\": {\"color\": \"#FECB52\", \"size\": [21], \"sizemode\": \"area\", \"sizeref\": 0.13777777777777778}, \"mode\": \"markers\", \"name\": \"O'Hara St and University Place (Soldiers and Sailors Memorial)\", \"showlegend\": true, \"subplot\": \"mapbox\", \"type\": \"scattermapbox\"}, {\"hovertemplate\": \"Station_Name=Fifth Ave & S Bouquet St<br>NumRacks=%{marker.size}<br>Latitude=%{lat}<br>Longitude=%{lon}<extra></extra>\", \"lat\": [40.442325], \"legendgroup\": \"Fifth Ave & S Bouquet St\", \"lon\": [-79.957604], \"marker\": {\"color\": \"#636efa\", \"size\": [19], \"sizemode\": \"area\", \"sizeref\": 0.13777777777777778}, \"mode\": \"markers\", \"name\": \"Fifth Ave & S Bouquet St\", \"showlegend\": true, \"subplot\": \"mapbox\", \"type\": \"scattermapbox\"}, {\"hovertemplate\": \"Station_Name=Centre Ave & Kirkpatrick St<br>NumRacks=%{marker.size}<br>Latitude=%{lat}<br>Longitude=%{lon}<extra></extra>\", \"lat\": [40.445236], \"legendgroup\": \"Centre Ave & Kirkpatrick St\", \"lon\": [-79.976911], \"marker\": {\"color\": \"#EF553B\", \"size\": [12], \"sizemode\": \"area\", \"sizeref\": 0.13777777777777778}, \"mode\": \"markers\", \"name\": \"Centre Ave & Kirkpatrick St\", \"showlegend\": true, \"subplot\": \"mapbox\", \"type\": \"scattermapbox\"}, {\"hovertemplate\": \"Station_Name=S Millvale Ave & Centre Ave<br>NumRacks=%{marker.size}<br>Latitude=%{lat}<br>Longitude=%{lon}<extra></extra>\", \"lat\": [40.45351], \"legendgroup\": \"S Millvale Ave & Centre Ave\", \"lon\": [-79.94747], \"marker\": {\"color\": \"#00cc96\", \"size\": [13], \"sizemode\": \"area\", \"sizeref\": 0.13777777777777778}, \"mode\": \"markers\", \"name\": \"S Millvale Ave & Centre Ave\", \"showlegend\": true, \"subplot\": \"mapbox\", \"type\": \"scattermapbox\"}, {\"hovertemplate\": \"Station_Name=Zulema St & Coltart Ave<br>NumRacks=%{marker.size}<br>Latitude=%{lat}<br>Longitude=%{lon}<extra></extra>\", \"lat\": [40.435986], \"legendgroup\": \"Zulema St & Coltart Ave\", \"lon\": [-79.956942], \"marker\": {\"color\": \"#ab63fa\", \"size\": [19], \"sizemode\": \"area\", \"sizeref\": 0.13777777777777778}, \"mode\": \"markers\", \"name\": \"Zulema St & Coltart Ave\", \"showlegend\": true, \"subplot\": \"mapbox\", \"type\": \"scattermapbox\"}, {\"hovertemplate\": \"Station_Name=S 27th St & Sidney St. (Southside Works)<br>NumRacks=%{marker.size}<br>Latitude=%{lat}<br>Longitude=%{lon}<extra></extra>\", \"lat\": [40.4279], \"legendgroup\": \"S 27th St & Sidney St. (Southside Works)\", \"lon\": [-79.966112], \"marker\": {\"color\": \"#FFA15A\", \"size\": [19], \"sizemode\": \"area\", \"sizeref\": 0.13777777777777778}, \"mode\": \"markers\", \"name\": \"S 27th St & Sidney St. (Southside Works)\", \"showlegend\": true, \"subplot\": \"mapbox\", \"type\": \"scattermapbox\"}, {\"hovertemplate\": \"Station_Name=S 25th St & E Carson St<br>NumRacks=%{marker.size}<br>Latitude=%{lat}<br>Longitude=%{lon}<extra></extra>\", \"lat\": [40.42802], \"legendgroup\": \"S 25th St & E Carson St\", \"lon\": [-79.969799], \"marker\": {\"color\": \"#19d3f3\", \"size\": [19], \"sizemode\": \"area\", \"sizeref\": 0.13777777777777778}, \"mode\": \"markers\", \"name\": \"S 25th St & E Carson St\", \"showlegend\": true, \"subplot\": \"mapbox\", \"type\": \"scattermapbox\"}, {\"hovertemplate\": \"Station_Name=S 22nd St & E Carson St<br>NumRacks=%{marker.size}<br>Latitude=%{lat}<br>Longitude=%{lon}<extra></extra>\", \"lat\": [40.428576], \"legendgroup\": \"S 22nd St & E Carson St\", \"lon\": [-79.974559], \"marker\": {\"color\": \"#FF6692\", \"size\": [19], \"sizemode\": \"area\", \"sizeref\": 0.13777777777777778}, \"mode\": \"markers\", \"name\": \"S 22nd St & E Carson St\", \"showlegend\": true, \"subplot\": \"mapbox\", \"type\": \"scattermapbox\"}, {\"hovertemplate\": \"Station_Name=S 18th St & Sidney St<br>NumRacks=%{marker.size}<br>Latitude=%{lat}<br>Longitude=%{lon}<extra></extra>\", \"lat\": [40.429338], \"legendgroup\": \"S 18th St & Sidney St\", \"lon\": [-79.980684], \"marker\": {\"color\": \"#B6E880\", \"size\": [16], \"sizemode\": \"area\", \"sizeref\": 0.13777777777777778}, \"mode\": \"markers\", \"name\": \"S 18th St & Sidney St\", \"showlegend\": true, \"subplot\": \"mapbox\", \"type\": \"scattermapbox\"}, {\"hovertemplate\": \"Station_Name=S 12th St & E Carson St<br>NumRacks=%{marker.size}<br>Latitude=%{lat}<br>Longitude=%{lon}<extra></extra>\", \"lat\": [40.428661], \"legendgroup\": \"S 12th St & E Carson St\", \"lon\": [-79.986358], \"marker\": {\"color\": \"#FF97FF\", \"size\": [19], \"sizemode\": \"area\", \"sizeref\": 0.13777777777777778}, \"mode\": \"markers\", \"name\": \"S 12th St & E Carson St\", \"showlegend\": true, \"subplot\": \"mapbox\", \"type\": \"scattermapbox\"}, {\"hovertemplate\": \"Station_Name=McNulty Dr & Forbes Ave<br>NumRacks=%{marker.size}<br>Latitude=%{lat}<br>Longitude=%{lon}<extra></extra>\", \"lat\": [40.4377657], \"legendgroup\": \"McNulty Dr & Forbes Ave\", \"lon\": [-79.9906531], \"marker\": {\"color\": \"#FECB52\", \"size\": [6], \"sizemode\": \"area\", \"sizeref\": 0.13777777777777778}, \"mode\": \"markers\", \"name\": \"McNulty Dr & Forbes Ave\", \"showlegend\": true, \"subplot\": \"mapbox\", \"type\": \"scattermapbox\"}, {\"hovertemplate\": \"Station_Name=Hamilton Ave & Zodiac Way<br>NumRacks=%{marker.size}<br>Latitude=%{lat}<br>Longitude=%{lon}<extra></extra>\", \"lat\": [40.45803], \"legendgroup\": \"Hamilton Ave & Zodiac Way\", \"lon\": [-79.9112], \"marker\": {\"color\": \"#636efa\", \"size\": [5], \"sizemode\": \"area\", \"sizeref\": 0.13777777777777778}, \"mode\": \"markers\", \"name\": \"Hamilton Ave & Zodiac Way\", \"showlegend\": true, \"subplot\": \"mapbox\", \"type\": \"scattermapbox\"}, {\"hovertemplate\": \"Station_Name=Smithfield St & Fourth Ave<br>NumRacks=%{marker.size}<br>Latitude=%{lat}<br>Longitude=%{lon}<extra></extra>\", \"lat\": [40.43866], \"legendgroup\": \"Smithfield St & Fourth Ave\", \"lon\": [-79.9997], \"marker\": {\"color\": \"#EF553B\", \"size\": [6], \"sizemode\": \"area\", \"sizeref\": 0.13777777777777778}, \"mode\": \"markers\", \"name\": \"Smithfield St & Fourth Ave\", \"showlegend\": true, \"subplot\": \"mapbox\", \"type\": \"scattermapbox\"}, {\"hovertemplate\": \"Station_Name=Wood St & Sixth Ave<br>NumRacks=%{marker.size}<br>Latitude=%{lat}<br>Longitude=%{lon}<extra></extra>\", \"lat\": [40.44197], \"legendgroup\": \"Wood St & Sixth Ave\", \"lon\": [-79.9997], \"marker\": {\"color\": \"#00cc96\", \"size\": [7], \"sizemode\": \"area\", \"sizeref\": 0.13777777777777778}, \"mode\": \"markers\", \"name\": \"Wood St & Sixth Ave\", \"showlegend\": true, \"subplot\": \"mapbox\", \"type\": \"scattermapbox\"}, {\"hovertemplate\": \"Station_Name=Burns White Centre at 3 Crossings<br>NumRacks=%{marker.size}<br>Latitude=%{lat}<br>Longitude=%{lon}<extra></extra>\", \"lat\": [40.45632767], \"legendgroup\": \"Burns White Centre at 3 Crossings\", \"lon\": [-79.98021126], \"marker\": {\"color\": \"#ab63fa\", \"size\": [12], \"sizemode\": \"area\", \"sizeref\": 0.13777777777777778}, \"mode\": \"markers\", \"name\": \"Burns White Centre at 3 Crossings\", \"showlegend\": true, \"subplot\": \"mapbox\", \"type\": \"scattermapbox\"}, {\"hovertemplate\": \"Station_Name=Penn Ave and 29th St<br>NumRacks=%{marker.size}<br>Latitude=%{lat}<br>Longitude=%{lon}<extra></extra>\", \"lat\": [40.45814812], \"legendgroup\": \"Penn Ave and 29th St\", \"lon\": [-79.97383833], \"marker\": {\"color\": \"#FFA15A\", \"size\": [8], \"sizemode\": \"area\", \"sizeref\": 0.13777777777777778}, \"mode\": \"markers\", \"name\": \"Penn Ave and 29th St\", \"showlegend\": true, \"subplot\": \"mapbox\", \"type\": \"scattermapbox\"}, {\"hovertemplate\": \"Station_Name=33rd St and Penn Ave<br>NumRacks=%{marker.size}<br>Latitude=%{lat}<br>Longitude=%{lon}<extra></extra>\", \"lat\": [40.4620256], \"legendgroup\": \"33rd St and Penn Ave\", \"lon\": [-79.9681145], \"marker\": {\"color\": \"#19d3f3\", \"size\": [6], \"sizemode\": \"area\", \"sizeref\": 0.13777777777777778}, \"mode\": \"markers\", \"name\": \"33rd St and Penn Ave\", \"showlegend\": true, \"subplot\": \"mapbox\", \"type\": \"scattermapbox\"}, {\"hovertemplate\": \"Station_Name=S Winebiddle St & Penn Ave<br>NumRacks=%{marker.size}<br>Latitude=%{lat}<br>Longitude=%{lon}<extra></extra>\", \"lat\": [40.46473563], \"legendgroup\": \"S Winebiddle St & Penn Ave\", \"lon\": [-79.94282663], \"marker\": {\"color\": \"#FF6692\", \"size\": [5], \"sizemode\": \"area\", \"sizeref\": 0.13777777777777778}, \"mode\": \"markers\", \"name\": \"S Winebiddle St & Penn Ave\", \"showlegend\": true, \"subplot\": \"mapbox\", \"type\": \"scattermapbox\"}, {\"hovertemplate\": \"Station_Name=Penn Ave & N Atlantic Ave<br>NumRacks=%{marker.size}<br>Latitude=%{lat}<br>Longitude=%{lon}<extra></extra>\", \"lat\": [40.46460503], \"legendgroup\": \"Penn Ave & N Atlantic Ave\", \"lon\": [-79.9387604], \"marker\": {\"color\": \"#B6E880\", \"size\": [5], \"sizemode\": \"area\", \"sizeref\": 0.13777777777777778}, \"mode\": \"markers\", \"name\": \"Penn Ave & N Atlantic Ave\", \"showlegend\": true, \"subplot\": \"mapbox\", \"type\": \"scattermapbox\"}, {\"hovertemplate\": \"Station_Name=Frankstown Ave & E Liberty Blvd<br>NumRacks=%{marker.size}<br>Latitude=%{lat}<br>Longitude=%{lon}<extra></extra>\", \"lat\": [40.46089095], \"legendgroup\": \"Frankstown Ave & E Liberty Blvd\", \"lon\": [-79.91583824], \"marker\": {\"color\": \"#FF97FF\", \"size\": [6], \"sizemode\": \"area\", \"sizeref\": 0.13777777777777778}, \"mode\": \"markers\", \"name\": \"Frankstown Ave & E Liberty Blvd\", \"showlegend\": true, \"subplot\": \"mapbox\", \"type\": \"scattermapbox\"}, {\"hovertemplate\": \"Station_Name=N Homewood Ave & Finance St (Homewood Station)<br>NumRacks=%{marker.size}<br>Latitude=%{lat}<br>Longitude=%{lon}<extra></extra>\", \"lat\": [40.45304583], \"legendgroup\": \"N Homewood Ave & Finance St (Homewood Station)\", \"lon\": [-79.89847898], \"marker\": {\"color\": \"#FECB52\", \"size\": [8], \"sizemode\": \"area\", \"sizeref\": 0.13777777777777778}, \"mode\": \"markers\", \"name\": \"N Homewood Ave & Finance St (Homewood Station)\", \"showlegend\": true, \"subplot\": \"mapbox\", \"type\": \"scattermapbox\"}, {\"hovertemplate\": \"Station_Name=Forbes Ave & Murray Ave<br>NumRacks=%{marker.size}<br>Latitude=%{lat}<br>Longitude=%{lon}<extra></extra>\", \"lat\": [40.4380532], \"legendgroup\": \"Forbes Ave & Murray Ave\", \"lon\": [-79.9229474], \"marker\": {\"color\": \"#636efa\", \"size\": [5], \"sizemode\": \"area\", \"sizeref\": 0.13777777777777778}, \"mode\": \"markers\", \"name\": \"Forbes Ave & Murray Ave\", \"showlegend\": true, \"subplot\": \"mapbox\", \"type\": \"scattermapbox\"}, {\"hovertemplate\": \"Station_Name=Beacon St & Murray Ave<br>NumRacks=%{marker.size}<br>Latitude=%{lat}<br>Longitude=%{lon}<extra></extra>\", \"lat\": [40.43531949], \"legendgroup\": \"Beacon St & Murray Ave\", \"lon\": [-79.92288709], \"marker\": {\"color\": \"#EF553B\", \"size\": [6], \"sizemode\": \"area\", \"sizeref\": 0.13777777777777778}, \"mode\": \"markers\", \"name\": \"Beacon St & Murray Ave\", \"showlegend\": true, \"subplot\": \"mapbox\", \"type\": \"scattermapbox\"}, {\"hovertemplate\": \"Station_Name=Hobart St & Wightman St<br>NumRacks=%{marker.size}<br>Latitude=%{lat}<br>Longitude=%{lon}<extra></extra>\", \"lat\": [40.43251029], \"legendgroup\": \"Hobart St & Wightman St\", \"lon\": [-79.92733955], \"marker\": {\"color\": \"#00cc96\", \"size\": [5], \"sizemode\": \"area\", \"sizeref\": 0.13777777777777778}, \"mode\": \"markers\", \"name\": \"Hobart St & Wightman St\", \"showlegend\": true, \"subplot\": \"mapbox\", \"type\": \"scattermapbox\"}, {\"hovertemplate\": \"Station_Name=Glasshouse<br>NumRacks=%{marker.size}<br>Latitude=%{lat}<br>Longitude=%{lon}<extra></extra>\", \"lat\": [40.43268995], \"legendgroup\": \"Glasshouse\", \"lon\": [-80.00302076], \"marker\": {\"color\": \"#ab63fa\", \"size\": [10], \"sizemode\": \"area\", \"sizeref\": 0.13777777777777778}, \"mode\": \"markers\", \"name\": \"Glasshouse\", \"showlegend\": true, \"subplot\": \"mapbox\", \"type\": \"scattermapbox\"}, {\"hovertemplate\": \"Station_Name=South Side Trail & S 4th St<br>NumRacks=%{marker.size}<br>Latitude=%{lat}<br>Longitude=%{lon}<extra></extra>\", \"lat\": [40.43128939], \"legendgroup\": \"South Side Trail & S 4th St\", \"lon\": [-79.99526918], \"marker\": {\"color\": \"#FFA15A\", \"size\": [5], \"sizemode\": \"area\", \"sizeref\": 0.13777777777777778}, \"mode\": \"markers\", \"name\": \"South Side Trail & S 4th St\", \"showlegend\": true, \"subplot\": \"mapbox\", \"type\": \"scattermapbox\"}, {\"hovertemplate\": \"Station_Name=Hot Metal St & Tunnel Blvd<br>NumRacks=%{marker.size}<br>Latitude=%{lat}<br>Longitude=%{lon}<extra></extra>\", \"lat\": [40.42708753], \"legendgroup\": \"Hot Metal St & Tunnel Blvd\", \"lon\": [-79.96279836], \"marker\": {\"color\": \"#19d3f3\", \"size\": [13], \"sizemode\": \"area\", \"sizeref\": 0.13777777777777778}, \"mode\": \"markers\", \"name\": \"Hot Metal St & Tunnel Blvd\", \"showlegend\": true, \"subplot\": \"mapbox\", \"type\": \"scattermapbox\"}, {\"hovertemplate\": \"Station_Name=Frazier St & Dawson St<br>NumRacks=%{marker.size}<br>Latitude=%{lat}<br>Longitude=%{lon}<extra></extra>\", \"lat\": [40.42968463], \"legendgroup\": \"Frazier St & Dawson St\", \"lon\": [-79.95414019], \"marker\": {\"color\": \"#FF6692\", \"size\": [5], \"sizemode\": \"area\", \"sizeref\": 0.13777777777777778}, \"mode\": \"markers\", \"name\": \"Frazier St & Dawson St\", \"showlegend\": true, \"subplot\": \"mapbox\", \"type\": \"scattermapbox\"}, {\"hovertemplate\": \"Station_Name=Semple St & Louisa St<br>NumRacks=%{marker.size}<br>Latitude=%{lat}<br>Longitude=%{lon}<extra></extra>\", \"lat\": [40.43874918], \"legendgroup\": \"Semple St & Louisa St\", \"lon\": [-79.95703161], \"marker\": {\"color\": \"#B6E880\", \"size\": [5], \"sizemode\": \"area\", \"sizeref\": 0.13777777777777778}, \"mode\": \"markers\", \"name\": \"Semple St & Louisa St\", \"showlegend\": true, \"subplot\": \"mapbox\", \"type\": \"scattermapbox\"}, {\"hovertemplate\": \"Station_Name=S Bouquet Ave & Sennott St<br>NumRacks=%{marker.size}<br>Latitude=%{lat}<br>Longitude=%{lon}<extra></extra>\", \"lat\": [40.44136216], \"legendgroup\": \"S Bouquet Ave & Sennott St\", \"lon\": [-79.95555639], \"marker\": {\"color\": \"#FF97FF\", \"size\": [6], \"sizemode\": \"area\", \"sizeref\": 0.13777777777777778}, \"mode\": \"markers\", \"name\": \"S Bouquet Ave & Sennott St\", \"showlegend\": true, \"subplot\": \"mapbox\", \"type\": \"scattermapbox\"}, {\"hovertemplate\": \"Station_Name=O'Hara St & Desoto St<br>NumRacks=%{marker.size}<br>Latitude=%{lat}<br>Longitude=%{lon}<extra></extra>\", \"lat\": [40.44324426], \"legendgroup\": \"O'Hara St & Desoto St\", \"lon\": [-79.95984256], \"marker\": {\"color\": \"#FECB52\", \"size\": [5], \"sizemode\": \"area\", \"sizeref\": 0.13777777777777778}, \"mode\": \"markers\", \"name\": \"O'Hara St & Desoto St\", \"showlegend\": true, \"subplot\": \"mapbox\", \"type\": \"scattermapbox\"}, {\"hovertemplate\": \"Station_Name=Schenley Dr & Forbes Ave (Schenley Plaza)<br>NumRacks=%{marker.size}<br>Latitude=%{lat}<br>Longitude=%{lon}<extra></extra>\", \"lat\": [40.44301971], \"legendgroup\": \"Schenley Dr & Forbes Ave (Schenley Plaza)\", \"lon\": [-79.95331407], \"marker\": {\"color\": \"#636efa\", \"size\": [7], \"sizemode\": \"area\", \"sizeref\": 0.13777777777777778}, \"mode\": \"markers\", \"name\": \"Schenley Dr & Forbes Ave (Schenley Plaza)\", \"showlegend\": true, \"subplot\": \"mapbox\", \"type\": \"scattermapbox\"}, {\"hovertemplate\": \"Station_Name=Tennyson Ave & Fifth Ave<br>NumRacks=%{marker.size}<br>Latitude=%{lat}<br>Longitude=%{lon}<extra></extra>\", \"lat\": [40.44564886], \"legendgroup\": \"Tennyson Ave & Fifth Ave\", \"lon\": [-79.95327652], \"marker\": {\"color\": \"#EF553B\", \"size\": [6], \"sizemode\": \"area\", \"sizeref\": 0.13777777777777778}, \"mode\": \"markers\", \"name\": \"Tennyson Ave & Fifth Ave\", \"showlegend\": true, \"subplot\": \"mapbox\", \"type\": \"scattermapbox\"}, {\"hovertemplate\": \"Station_Name=Forbes Ave & S Craig St<br>NumRacks=%{marker.size}<br>Latitude=%{lat}<br>Longitude=%{lon}<extra></extra>\", \"lat\": [40.44424448], \"legendgroup\": \"Forbes Ave & S Craig St\", \"lon\": [-79.94895279], \"marker\": {\"color\": \"#00cc96\", \"size\": [5], \"sizemode\": \"area\", \"sizeref\": 0.13777777777777778}, \"mode\": \"markers\", \"name\": \"Forbes Ave & S Craig St\", \"showlegend\": true, \"subplot\": \"mapbox\", \"type\": \"scattermapbox\"}, {\"hovertemplate\": \"Station_Name=Schenley Dr & Forbes Ave (Squirrel Hill)<br>NumRacks=%{marker.size}<br>Latitude=%{lat}<br>Longitude=%{lon}<extra></extra>\", \"lat\": [40.43775296], \"legendgroup\": \"Schenley Dr & Forbes Ave (Squirrel Hill)\", \"lon\": [-79.93363738], \"marker\": {\"color\": \"#ab63fa\", \"size\": [6], \"sizemode\": \"area\", \"sizeref\": 0.13777777777777778}, \"mode\": \"markers\", \"name\": \"Schenley Dr & Forbes Ave (Squirrel Hill)\", \"showlegend\": true, \"subplot\": \"mapbox\", \"type\": \"scattermapbox\"}, {\"hovertemplate\": \"Station_Name=Wightman St & Forbes Ave<br>NumRacks=%{marker.size}<br>Latitude=%{lat}<br>Longitude=%{lon}<extra></extra>\", \"lat\": [40.43791627], \"legendgroup\": \"Wightman St & Forbes Ave\", \"lon\": [-79.92781162], \"marker\": {\"color\": \"#FFA15A\", \"size\": [5], \"sizemode\": \"area\", \"sizeref\": 0.13777777777777778}, \"mode\": \"markers\", \"name\": \"Wightman St & Forbes Ave\", \"showlegend\": true, \"subplot\": \"mapbox\", \"type\": \"scattermapbox\"}, {\"hovertemplate\": \"Station_Name=S Craig St & 5th Ave<br>NumRacks=%{marker.size}<br>Latitude=%{lat}<br>Longitude=%{lon}<extra></extra>\", \"lat\": [40.446739], \"legendgroup\": \"S Craig St & 5th Ave\", \"lon\": [-79.94893], \"marker\": {\"color\": \"#19d3f3\", \"size\": [6], \"sizemode\": \"area\", \"sizeref\": 0.13777777777777778}, \"mode\": \"markers\", \"name\": \"S Craig St & 5th Ave\", \"showlegend\": true, \"subplot\": \"mapbox\", \"type\": \"scattermapbox\"}, {\"hovertemplate\": \"Station_Name=Centre Ave & N Craig St<br>NumRacks=%{marker.size}<br>Latitude=%{lat}<br>Longitude=%{lon}<extra></extra>\", \"lat\": [40.45186204], \"legendgroup\": \"Centre Ave & N Craig St\", \"lon\": [-79.95173693], \"marker\": {\"color\": \"#FF6692\", \"size\": [6], \"sizemode\": \"area\", \"sizeref\": 0.13777777777777778}, \"mode\": \"markers\", \"name\": \"Centre Ave & N Craig St\", \"showlegend\": true, \"subplot\": \"mapbox\", \"type\": \"scattermapbox\"}, {\"hovertemplate\": \"Station_Name=Hamilton Ave & N Dallas Ave<br>NumRacks=%{marker.size}<br>Latitude=%{lat}<br>Longitude=%{lon}<extra></extra>\", \"lat\": [40.45623787], \"legendgroup\": \"Hamilton Ave & N Dallas Ave\", \"lon\": [-79.90505576], \"marker\": {\"color\": \"#B6E880\", \"size\": [6], \"sizemode\": \"area\", \"sizeref\": 0.13777777777777778}, \"mode\": \"markers\", \"name\": \"Hamilton Ave & N Dallas Ave\", \"showlegend\": true, \"subplot\": \"mapbox\", \"type\": \"scattermapbox\"}, {\"hovertemplate\": \"Station_Name=Bennett St & Eccrue Way<br>NumRacks=%{marker.size}<br>Latitude=%{lat}<br>Longitude=%{lon}<extra></extra>\", \"lat\": [40.45668686], \"legendgroup\": \"Bennett St & Eccrue Way\", \"lon\": [-79.89813566], \"marker\": {\"color\": \"#FF97FF\", \"size\": [7], \"sizemode\": \"area\", \"sizeref\": 0.13777777777777778}, \"mode\": \"markers\", \"name\": \"Bennett St & Eccrue Way\", \"showlegend\": true, \"subplot\": \"mapbox\", \"type\": \"scattermapbox\"}, {\"hovertemplate\": \"Station_Name=E Liberty Blvd & Larimer Ave<br>NumRacks=%{marker.size}<br>Latitude=%{lat}<br>Longitude=%{lon}<extra></extra>\", \"lat\": [40.46361735], \"legendgroup\": \"E Liberty Blvd & Larimer Ave\", \"lon\": [-79.91746902], \"marker\": {\"color\": \"#FECB52\", \"size\": [6], \"sizemode\": \"area\", \"sizeref\": 0.13777777777777778}, \"mode\": \"markers\", \"name\": \"E Liberty Blvd & Larimer Ave\", \"showlegend\": true, \"subplot\": \"mapbox\", \"type\": \"scattermapbox\"}, {\"hovertemplate\": \"Station_Name=E Liberty Blvd & Negley Ave<br>NumRacks=%{marker.size}<br>Latitude=%{lat}<br>Longitude=%{lon}<extra></extra>\", \"lat\": [40.467715], \"legendgroup\": \"E Liberty Blvd & Negley Ave\", \"lon\": [-79.92787], \"marker\": {\"color\": \"#636efa\", \"size\": [5], \"sizemode\": \"area\", \"sizeref\": 0.13777777777777778}, \"mode\": \"markers\", \"name\": \"E Liberty Blvd & Negley Ave\", \"showlegend\": true, \"subplot\": \"mapbox\", \"type\": \"scattermapbox\"}, {\"hovertemplate\": \"Station_Name=Stanton Ave & N Negley Ave<br>NumRacks=%{marker.size}<br>Latitude=%{lat}<br>Longitude=%{lon}<extra></extra>\", \"lat\": [40.47122337], \"legendgroup\": \"Stanton Ave & N Negley Ave\", \"lon\": [-79.92560189], \"marker\": {\"color\": \"#EF553B\", \"size\": [6], \"sizemode\": \"area\", \"sizeref\": 0.13777777777777778}, \"mode\": \"markers\", \"name\": \"Stanton Ave & N Negley Ave\", \"showlegend\": true, \"subplot\": \"mapbox\", \"type\": \"scattermapbox\"}, {\"hovertemplate\": \"Station_Name=Roup Ave & Friendship Ave<br>NumRacks=%{marker.size}<br>Latitude=%{lat}<br>Longitude=%{lon}<extra></extra>\", \"lat\": [40.46150726], \"legendgroup\": \"Roup Ave & Friendship Ave\", \"lon\": [-79.93510187], \"marker\": {\"color\": \"#00cc96\", \"size\": [5], \"sizemode\": \"area\", \"sizeref\": 0.13777777777777778}, \"mode\": \"markers\", \"name\": \"Roup Ave & Friendship Ave\", \"showlegend\": true, \"subplot\": \"mapbox\", \"type\": \"scattermapbox\"}, {\"hovertemplate\": \"Station_Name=Penn Ave & 39th St<br>NumRacks=%{marker.size}<br>Latitude=%{lat}<br>Longitude=%{lon}<extra></extra>\", \"lat\": [40.46490704], \"legendgroup\": \"Penn Ave & 39th St\", \"lon\": [-79.96008396], \"marker\": {\"color\": \"#ab63fa\", \"size\": [6], \"sizemode\": \"area\", \"sizeref\": 0.13777777777777778}, \"mode\": \"markers\", \"name\": \"Penn Ave & 39th St\", \"showlegend\": true, \"subplot\": \"mapbox\", \"type\": \"scattermapbox\"}, {\"hovertemplate\": \"Station_Name=Butler St & 48th St<br>NumRacks=%{marker.size}<br>Latitude=%{lat}<br>Longitude=%{lon}<extra></extra>\", \"lat\": [40.47603982], \"legendgroup\": \"Butler St & 48th St\", \"lon\": [-79.95763779], \"marker\": {\"color\": \"#FFA15A\", \"size\": [6], \"sizemode\": \"area\", \"sizeref\": 0.13777777777777778}, \"mode\": \"markers\", \"name\": \"Butler St & 48th St\", \"showlegend\": true, \"subplot\": \"mapbox\", \"type\": \"scattermapbox\"}, {\"hovertemplate\": \"Station_Name=Liberty Ave & 37th St<br>NumRacks=%{marker.size}<br>Latitude=%{lat}<br>Longitude=%{lon}<extra></extra>\", \"lat\": [40.462184], \"legendgroup\": \"Liberty Ave & 37th St\", \"lon\": [-79.96162], \"marker\": {\"color\": \"#19d3f3\", \"size\": [6], \"sizemode\": \"area\", \"sizeref\": 0.13777777777777778}, \"mode\": \"markers\", \"name\": \"Liberty Ave & 37th St\", \"showlegend\": true, \"subplot\": \"mapbox\", \"type\": \"scattermapbox\"}, {\"hovertemplate\": \"Station_Name=Smallman St & 31st St<br>NumRacks=%{marker.size}<br>Latitude=%{lat}<br>Longitude=%{lon}<extra></extra>\", \"lat\": [40.46011138], \"legendgroup\": \"Smallman St & 31st St\", \"lon\": [-79.97276008], \"marker\": {\"color\": \"#FF6692\", \"size\": [6], \"sizemode\": \"area\", \"sizeref\": 0.13777777777777778}, \"mode\": \"markers\", \"name\": \"Smallman St & 31st St\", \"showlegend\": true, \"subplot\": \"mapbox\", \"type\": \"scattermapbox\"}, {\"hovertemplate\": \"Station_Name=24th St & Smallman St<br>NumRacks=%{marker.size}<br>Latitude=%{lat}<br>Longitude=%{lon}<extra></extra>\", \"lat\": [40.45400101], \"legendgroup\": \"24th St & Smallman St\", \"lon\": [-79.98171329], \"marker\": {\"color\": \"#B6E880\", \"size\": [6], \"sizemode\": \"area\", \"sizeref\": 0.13777777777777778}, \"mode\": \"markers\", \"name\": \"24th St & Smallman St\", \"showlegend\": true, \"subplot\": \"mapbox\", \"type\": \"scattermapbox\"}, {\"hovertemplate\": \"Station_Name=14th St & Penn Ave<br>NumRacks=%{marker.size}<br>Latitude=%{lat}<br>Longitude=%{lon}<extra></extra>\", \"lat\": [40.447208], \"legendgroup\": \"14th St & Penn Ave\", \"lon\": [-79.989725], \"marker\": {\"color\": \"#FF97FF\", \"size\": [6], \"sizemode\": \"area\", \"sizeref\": 0.13777777777777778}, \"mode\": \"markers\", \"name\": \"14th St & Penn Ave\", \"showlegend\": true, \"subplot\": \"mapbox\", \"type\": \"scattermapbox\"}, {\"hovertemplate\": \"Station_Name=11th St & Penn Ave<br>NumRacks=%{marker.size}<br>Latitude=%{lat}<br>Longitude=%{lon}<extra></extra>\", \"lat\": [40.44475071], \"legendgroup\": \"11th St & Penn Ave\", \"lon\": [-79.99391198], \"marker\": {\"color\": \"#FECB52\", \"size\": [6], \"sizemode\": \"area\", \"sizeref\": 0.13777777777777778}, \"mode\": \"markers\", \"name\": \"11th St & Penn Ave\", \"showlegend\": true, \"subplot\": \"mapbox\", \"type\": \"scattermapbox\"}, {\"hovertemplate\": \"Station_Name=Grant St & Strawberry Way<br>NumRacks=%{marker.size}<br>Latitude=%{lat}<br>Longitude=%{lon}<extra></extra>\", \"lat\": [40.44170511], \"legendgroup\": \"Grant St & Strawberry Way\", \"lon\": [-79.99510288], \"marker\": {\"color\": \"#636efa\", \"size\": [7], \"sizemode\": \"area\", \"sizeref\": 0.13777777777777778}, \"mode\": \"markers\", \"name\": \"Grant St & Strawberry Way\", \"showlegend\": true, \"subplot\": \"mapbox\", \"type\": \"scattermapbox\"}, {\"hovertemplate\": \"Station_Name=9th St & Penn Ave<br>NumRacks=%{marker.size}<br>Latitude=%{lat}<br>Longitude=%{lon}<extra></extra>\", \"lat\": [40.44353412], \"legendgroup\": \"9th St & Penn Ave\", \"lon\": [-79.99839664], \"marker\": {\"color\": \"#EF553B\", \"size\": [5], \"sizemode\": \"area\", \"sizeref\": 0.13777777777777778}, \"mode\": \"markers\", \"name\": \"9th St & Penn Ave\", \"showlegend\": true, \"subplot\": \"mapbox\", \"type\": \"scattermapbox\"}, {\"hovertemplate\": \"Station_Name=Liberty Ave & 6th St<br>NumRacks=%{marker.size}<br>Latitude=%{lat}<br>Longitude=%{lon}<extra></extra>\", \"lat\": [40.44193373], \"legendgroup\": \"Liberty Ave & 6th St\", \"lon\": [-80.00207126], \"marker\": {\"color\": \"#00cc96\", \"size\": [6], \"sizemode\": \"area\", \"sizeref\": 0.13777777777777778}, \"mode\": \"markers\", \"name\": \"Liberty Ave & 6th St\", \"showlegend\": true, \"subplot\": \"mapbox\", \"type\": \"scattermapbox\"}, {\"hovertemplate\": \"Station_Name=Third Ave & Stanwix St<br>NumRacks=%{marker.size}<br>Latitude=%{lat}<br>Longitude=%{lon}<extra></extra>\", \"lat\": [40.44001486], \"legendgroup\": \"Third Ave & Stanwix St\", \"lon\": [-80.00447989], \"marker\": {\"color\": \"#ab63fa\", \"size\": [5], \"sizemode\": \"area\", \"sizeref\": 0.13777777777777778}, \"mode\": \"markers\", \"name\": \"Third Ave & Stanwix St\", \"showlegend\": true, \"subplot\": \"mapbox\", \"type\": \"scattermapbox\"}, {\"hovertemplate\": \"Station_Name=Ross St & Fourth Ave<br>NumRacks=%{marker.size}<br>Latitude=%{lat}<br>Longitude=%{lon}<extra></extra>\", \"lat\": [40.43766313], \"legendgroup\": \"Ross St & Fourth Ave\", \"lon\": [-79.99629378], \"marker\": {\"color\": \"#FFA15A\", \"size\": [7], \"sizemode\": \"area\", \"sizeref\": 0.13777777777777778}, \"mode\": \"markers\", \"name\": \"Ross St & Fourth Ave\", \"showlegend\": true, \"subplot\": \"mapbox\", \"type\": \"scattermapbox\"}, {\"hovertemplate\": \"Station_Name=Fifth Ave & Miltenberger<br>NumRacks=%{marker.size}<br>Latitude=%{lat}<br>Longitude=%{lon}<extra></extra>\", \"lat\": [40.43829598], \"legendgroup\": \"Fifth Ave & Miltenberger\", \"lon\": [-79.98117685], \"marker\": {\"color\": \"#19d3f3\", \"size\": [6], \"sizemode\": \"area\", \"sizeref\": 0.13777777777777778}, \"mode\": \"markers\", \"name\": \"Fifth Ave & Miltenberger\", \"showlegend\": true, \"subplot\": \"mapbox\", \"type\": \"scattermapbox\"}, {\"hovertemplate\": \"Station_Name=Microsoft<br>NumRacks=%{marker.size}<br>Latitude=%{lat}<br>Longitude=%{lon}<extra></extra>\", \"lat\": [40.45379691], \"legendgroup\": \"Microsoft\", \"lon\": [-79.99094009], \"marker\": {\"color\": \"#FF6692\", \"size\": [6], \"sizemode\": \"area\", \"sizeref\": 0.13777777777777778}, \"mode\": \"markers\", \"name\": \"Microsoft\", \"showlegend\": true, \"subplot\": \"mapbox\", \"type\": \"scattermapbox\"}, {\"hovertemplate\": \"Station_Name=Arch St & Jacksonia St<br>NumRacks=%{marker.size}<br>Latitude=%{lat}<br>Longitude=%{lon}<extra></extra>\", \"lat\": [40.45777261], \"legendgroup\": \"Arch St & Jacksonia St\", \"lon\": [-80.00945807], \"marker\": {\"color\": \"#B6E880\", \"size\": [5], \"sizemode\": \"area\", \"sizeref\": 0.13777777777777778}, \"mode\": \"markers\", \"name\": \"Arch St & Jacksonia St\", \"showlegend\": true, \"subplot\": \"mapbox\", \"type\": \"scattermapbox\"}, {\"hovertemplate\": \"Station_Name=W General Robinson St & Chuck Noll Way<br>NumRacks=%{marker.size}<br>Latitude=%{lat}<br>Longitude=%{lon}<extra></extra>\", \"lat\": [40.44741245], \"legendgroup\": \"W General Robinson St & Chuck Noll Way\", \"lon\": [-80.01206517], \"marker\": {\"color\": \"#FF97FF\", \"size\": [5], \"sizemode\": \"area\", \"sizeref\": 0.13777777777777778}, \"mode\": \"markers\", \"name\": \"W General Robinson St & Chuck Noll Way\", \"showlegend\": true, \"subplot\": \"mapbox\", \"type\": \"scattermapbox\"}, {\"hovertemplate\": \"Station_Name=Butler St & 36th St<br>NumRacks=%{marker.size}<br>Latitude=%{lat}<br>Longitude=%{lon}<extra></extra>\", \"lat\": [40.46529884], \"legendgroup\": \"Butler St & 36th St\", \"lon\": [-79.96527672], \"marker\": {\"color\": \"#FECB52\", \"size\": [6], \"sizemode\": \"area\", \"sizeref\": 0.13777777777777778}, \"mode\": \"markers\", \"name\": \"Butler St & 36th St\", \"showlegend\": true, \"subplot\": \"mapbox\", \"type\": \"scattermapbox\"}],                        {\"legend\": {\"itemsizing\": \"constant\", \"title\": {\"text\": \"Station_Name\"}, \"tracegroupgap\": 0}, \"mapbox\": {\"center\": {\"lat\": 40.4482108569, \"lon\": -79.96373512509999}, \"domain\": {\"x\": [0.0, 1.0], \"y\": [0.0, 1.0]}, \"style\": \"carto-positron\", \"zoom\": 10}, \"margin\": {\"t\": 60}, \"template\": {\"data\": {\"bar\": [{\"error_x\": {\"color\": \"#2a3f5f\"}, \"error_y\": {\"color\": \"#2a3f5f\"}, \"marker\": {\"line\": {\"color\": \"#E5ECF6\", \"width\": 0.5}}, \"type\": \"bar\"}], \"barpolar\": [{\"marker\": {\"line\": {\"color\": \"#E5ECF6\", \"width\": 0.5}}, \"type\": \"barpolar\"}], \"carpet\": [{\"aaxis\": {\"endlinecolor\": \"#2a3f5f\", \"gridcolor\": \"white\", \"linecolor\": \"white\", \"minorgridcolor\": \"white\", \"startlinecolor\": \"#2a3f5f\"}, \"baxis\": {\"endlinecolor\": \"#2a3f5f\", \"gridcolor\": \"white\", \"linecolor\": \"white\", \"minorgridcolor\": \"white\", \"startlinecolor\": \"#2a3f5f\"}, \"type\": \"carpet\"}], \"choropleth\": [{\"colorbar\": {\"outlinewidth\": 0, \"ticks\": \"\"}, \"type\": \"choropleth\"}], \"contour\": [{\"colorbar\": {\"outlinewidth\": 0, \"ticks\": \"\"}, \"colorscale\": [[0.0, \"#0d0887\"], [0.1111111111111111, \"#46039f\"], [0.2222222222222222, \"#7201a8\"], [0.3333333333333333, \"#9c179e\"], [0.4444444444444444, \"#bd3786\"], [0.5555555555555556, \"#d8576b\"], [0.6666666666666666, \"#ed7953\"], [0.7777777777777778, \"#fb9f3a\"], [0.8888888888888888, \"#fdca26\"], [1.0, \"#f0f921\"]], \"type\": \"contour\"}], \"contourcarpet\": [{\"colorbar\": {\"outlinewidth\": 0, \"ticks\": \"\"}, \"type\": \"contourcarpet\"}], \"heatmap\": [{\"colorbar\": {\"outlinewidth\": 0, \"ticks\": \"\"}, \"colorscale\": [[0.0, \"#0d0887\"], [0.1111111111111111, \"#46039f\"], [0.2222222222222222, \"#7201a8\"], [0.3333333333333333, \"#9c179e\"], [0.4444444444444444, \"#bd3786\"], [0.5555555555555556, \"#d8576b\"], [0.6666666666666666, \"#ed7953\"], [0.7777777777777778, \"#fb9f3a\"], [0.8888888888888888, \"#fdca26\"], [1.0, \"#f0f921\"]], \"type\": \"heatmap\"}], \"heatmapgl\": [{\"colorbar\": {\"outlinewidth\": 0, \"ticks\": \"\"}, \"colorscale\": [[0.0, \"#0d0887\"], [0.1111111111111111, \"#46039f\"], [0.2222222222222222, \"#7201a8\"], [0.3333333333333333, \"#9c179e\"], [0.4444444444444444, \"#bd3786\"], [0.5555555555555556, \"#d8576b\"], [0.6666666666666666, \"#ed7953\"], [0.7777777777777778, \"#fb9f3a\"], [0.8888888888888888, \"#fdca26\"], [1.0, \"#f0f921\"]], \"type\": \"heatmapgl\"}], \"histogram\": [{\"marker\": {\"colorbar\": {\"outlinewidth\": 0, \"ticks\": \"\"}}, \"type\": \"histogram\"}], \"histogram2d\": [{\"colorbar\": {\"outlinewidth\": 0, \"ticks\": \"\"}, \"colorscale\": [[0.0, \"#0d0887\"], [0.1111111111111111, \"#46039f\"], [0.2222222222222222, \"#7201a8\"], [0.3333333333333333, \"#9c179e\"], [0.4444444444444444, \"#bd3786\"], [0.5555555555555556, \"#d8576b\"], [0.6666666666666666, \"#ed7953\"], [0.7777777777777778, \"#fb9f3a\"], [0.8888888888888888, \"#fdca26\"], [1.0, \"#f0f921\"]], \"type\": \"histogram2d\"}], \"histogram2dcontour\": [{\"colorbar\": {\"outlinewidth\": 0, \"ticks\": \"\"}, \"colorscale\": [[0.0, \"#0d0887\"], [0.1111111111111111, \"#46039f\"], [0.2222222222222222, \"#7201a8\"], [0.3333333333333333, \"#9c179e\"], [0.4444444444444444, \"#bd3786\"], [0.5555555555555556, \"#d8576b\"], [0.6666666666666666, \"#ed7953\"], [0.7777777777777778, \"#fb9f3a\"], [0.8888888888888888, \"#fdca26\"], [1.0, \"#f0f921\"]], \"type\": \"histogram2dcontour\"}], \"mesh3d\": [{\"colorbar\": {\"outlinewidth\": 0, \"ticks\": \"\"}, \"type\": \"mesh3d\"}], \"parcoords\": [{\"line\": {\"colorbar\": {\"outlinewidth\": 0, \"ticks\": \"\"}}, \"type\": \"parcoords\"}], \"pie\": [{\"automargin\": true, \"type\": \"pie\"}], \"scatter\": [{\"marker\": {\"colorbar\": {\"outlinewidth\": 0, \"ticks\": \"\"}}, \"type\": \"scatter\"}], \"scatter3d\": [{\"line\": {\"colorbar\": {\"outlinewidth\": 0, \"ticks\": \"\"}}, \"marker\": {\"colorbar\": {\"outlinewidth\": 0, \"ticks\": \"\"}}, \"type\": \"scatter3d\"}], \"scattercarpet\": [{\"marker\": {\"colorbar\": {\"outlinewidth\": 0, \"ticks\": \"\"}}, \"type\": \"scattercarpet\"}], \"scattergeo\": [{\"marker\": {\"colorbar\": {\"outlinewidth\": 0, \"ticks\": \"\"}}, \"type\": \"scattergeo\"}], \"scattergl\": [{\"marker\": {\"colorbar\": {\"outlinewidth\": 0, \"ticks\": \"\"}}, \"type\": \"scattergl\"}], \"scattermapbox\": [{\"marker\": {\"colorbar\": {\"outlinewidth\": 0, \"ticks\": \"\"}}, \"type\": \"scattermapbox\"}], \"scatterpolar\": [{\"marker\": {\"colorbar\": {\"outlinewidth\": 0, \"ticks\": \"\"}}, \"type\": \"scatterpolar\"}], \"scatterpolargl\": [{\"marker\": {\"colorbar\": {\"outlinewidth\": 0, \"ticks\": \"\"}}, \"type\": \"scatterpolargl\"}], \"scatterternary\": [{\"marker\": {\"colorbar\": {\"outlinewidth\": 0, \"ticks\": \"\"}}, \"type\": \"scatterternary\"}], \"surface\": [{\"colorbar\": {\"outlinewidth\": 0, \"ticks\": \"\"}, \"colorscale\": [[0.0, \"#0d0887\"], [0.1111111111111111, \"#46039f\"], [0.2222222222222222, \"#7201a8\"], [0.3333333333333333, \"#9c179e\"], [0.4444444444444444, \"#bd3786\"], [0.5555555555555556, \"#d8576b\"], [0.6666666666666666, \"#ed7953\"], [0.7777777777777778, \"#fb9f3a\"], [0.8888888888888888, \"#fdca26\"], [1.0, \"#f0f921\"]], \"type\": \"surface\"}], \"table\": [{\"cells\": {\"fill\": {\"color\": \"#EBF0F8\"}, \"line\": {\"color\": \"white\"}}, \"header\": {\"fill\": {\"color\": \"#C8D4E3\"}, \"line\": {\"color\": \"white\"}}, \"type\": \"table\"}]}, \"layout\": {\"annotationdefaults\": {\"arrowcolor\": \"#2a3f5f\", \"arrowhead\": 0, \"arrowwidth\": 1}, \"autotypenumbers\": \"strict\", \"coloraxis\": {\"colorbar\": {\"outlinewidth\": 0, \"ticks\": \"\"}}, \"colorscale\": {\"diverging\": [[0, \"#8e0152\"], [0.1, \"#c51b7d\"], [0.2, \"#de77ae\"], [0.3, \"#f1b6da\"], [0.4, \"#fde0ef\"], [0.5, \"#f7f7f7\"], [0.6, \"#e6f5d0\"], [0.7, \"#b8e186\"], [0.8, \"#7fbc41\"], [0.9, \"#4d9221\"], [1, \"#276419\"]], \"sequential\": [[0.0, \"#0d0887\"], [0.1111111111111111, \"#46039f\"], [0.2222222222222222, \"#7201a8\"], [0.3333333333333333, \"#9c179e\"], [0.4444444444444444, \"#bd3786\"], [0.5555555555555556, \"#d8576b\"], [0.6666666666666666, \"#ed7953\"], [0.7777777777777778, \"#fb9f3a\"], [0.8888888888888888, \"#fdca26\"], [1.0, \"#f0f921\"]], \"sequentialminus\": [[0.0, \"#0d0887\"], [0.1111111111111111, \"#46039f\"], [0.2222222222222222, \"#7201a8\"], [0.3333333333333333, \"#9c179e\"], [0.4444444444444444, \"#bd3786\"], [0.5555555555555556, \"#d8576b\"], [0.6666666666666666, \"#ed7953\"], [0.7777777777777778, \"#fb9f3a\"], [0.8888888888888888, \"#fdca26\"], [1.0, \"#f0f921\"]]}, \"colorway\": [\"#636efa\", \"#EF553B\", \"#00cc96\", \"#ab63fa\", \"#FFA15A\", \"#19d3f3\", \"#FF6692\", \"#B6E880\", \"#FF97FF\", \"#FECB52\"], \"font\": {\"color\": \"#2a3f5f\"}, \"geo\": {\"bgcolor\": \"white\", \"lakecolor\": \"white\", \"landcolor\": \"#E5ECF6\", \"showlakes\": true, \"showland\": true, \"subunitcolor\": \"white\"}, \"hoverlabel\": {\"align\": \"left\"}, \"hovermode\": \"closest\", \"mapbox\": {\"style\": \"light\"}, \"paper_bgcolor\": \"white\", \"plot_bgcolor\": \"#E5ECF6\", \"polar\": {\"angularaxis\": {\"gridcolor\": \"white\", \"linecolor\": \"white\", \"ticks\": \"\"}, \"bgcolor\": \"#E5ECF6\", \"radialaxis\": {\"gridcolor\": \"white\", \"linecolor\": \"white\", \"ticks\": \"\"}}, \"scene\": {\"xaxis\": {\"backgroundcolor\": \"#E5ECF6\", \"gridcolor\": \"white\", \"gridwidth\": 2, \"linecolor\": \"white\", \"showbackground\": true, \"ticks\": \"\", \"zerolinecolor\": \"white\"}, \"yaxis\": {\"backgroundcolor\": \"#E5ECF6\", \"gridcolor\": \"white\", \"gridwidth\": 2, \"linecolor\": \"white\", \"showbackground\": true, \"ticks\": \"\", \"zerolinecolor\": \"white\"}, \"zaxis\": {\"backgroundcolor\": \"#E5ECF6\", \"gridcolor\": \"white\", \"gridwidth\": 2, \"linecolor\": \"white\", \"showbackground\": true, \"ticks\": \"\", \"zerolinecolor\": \"white\"}}, \"shapedefaults\": {\"line\": {\"color\": \"#2a3f5f\"}}, \"ternary\": {\"aaxis\": {\"gridcolor\": \"white\", \"linecolor\": \"white\", \"ticks\": \"\"}, \"baxis\": {\"gridcolor\": \"white\", \"linecolor\": \"white\", \"ticks\": \"\"}, \"bgcolor\": \"#E5ECF6\", \"caxis\": {\"gridcolor\": \"white\", \"linecolor\": \"white\", \"ticks\": \"\"}}, \"title\": {\"x\": 0.05}, \"xaxis\": {\"automargin\": true, \"gridcolor\": \"white\", \"linecolor\": \"white\", \"ticks\": \"\", \"title\": {\"standoff\": 15}, \"zerolinecolor\": \"white\", \"zerolinewidth\": 2}, \"yaxis\": {\"automargin\": true, \"gridcolor\": \"white\", \"linecolor\": \"white\", \"ticks\": \"\", \"title\": {\"standoff\": 15}, \"zerolinecolor\": \"white\", \"zerolinewidth\": 2}}}},                        {\"responsive\": true}                    ).then(function(){\n",
       "                            \n",
       "var gd = document.getElementById('0fa70067-76b4-434e-a0f4-5b791d2ad9db');\n",
       "var x = new MutationObserver(function (mutations, observer) {{\n",
       "        var display = window.getComputedStyle(gd).display;\n",
       "        if (!display || display === 'none') {{\n",
       "            console.log([gd, 'removed!']);\n",
       "            Plotly.purge(gd);\n",
       "            observer.disconnect();\n",
       "        }}\n",
       "}});\n",
       "\n",
       "// Listen for the removal of the full notebook cells\n",
       "var notebookContainer = gd.closest('#notebook-container');\n",
       "if (notebookContainer) {{\n",
       "    x.observe(notebookContainer, {childList: true});\n",
       "}}\n",
       "\n",
       "// Listen for the clearing of the current output cell\n",
       "var outputEl = gd.closest('.output');\n",
       "if (outputEl) {{\n",
       "    x.observe(outputEl, {childList: true});\n",
       "}}\n",
       "\n",
       "                        })                };                });            </script>        </div>"
      ]
     },
     "metadata": {},
     "output_type": "display_data"
    }
   ],
   "source": [
    "fig = px.scatter_mapbox(df, lat=\"Latitude\", lon=\"Longitude\", color=\"Station_Name\", size=\"NumRacks\",\n",
    "                  color_continuous_scale=px.colors.diverging.Picnic, size_max=15, zoom=10,\n",
    "                  mapbox_style=\"carto-positron\")\n",
    "fig.show()"
   ]
  },
  {
   "cell_type": "markdown",
   "metadata": {},
   "source": [
    "# Annotating"
   ]
  },
  {
   "cell_type": "code",
   "execution_count": 7,
   "metadata": {},
   "outputs": [
    {
     "data": {
      "text/html": [
       "<div>\n",
       "<style scoped>\n",
       "    .dataframe tbody tr th:only-of-type {\n",
       "        vertical-align: middle;\n",
       "    }\n",
       "\n",
       "    .dataframe tbody tr th {\n",
       "        vertical-align: top;\n",
       "    }\n",
       "\n",
       "    .dataframe thead th {\n",
       "        text-align: right;\n",
       "    }\n",
       "</style>\n",
       "<table border=\"1\" class=\"dataframe\">\n",
       "  <thead>\n",
       "    <tr style=\"text-align: right;\">\n",
       "      <th></th>\n",
       "      <th>objectid</th>\n",
       "      <th>statefp10</th>\n",
       "      <th>countyfp10</th>\n",
       "      <th>tractce10</th>\n",
       "      <th>blkgrpce10</th>\n",
       "      <th>geoid10</th>\n",
       "      <th>namelsad10</th>\n",
       "      <th>mtfcc10</th>\n",
       "      <th>funcstat10</th>\n",
       "      <th>aland10</th>\n",
       "      <th>...</th>\n",
       "      <th>tractce10_</th>\n",
       "      <th>cnt_tractc</th>\n",
       "      <th>sum_lowmod</th>\n",
       "      <th>sum_lowm_1</th>\n",
       "      <th>lowmodperc</th>\n",
       "      <th>lowmodpe_1</th>\n",
       "      <th>cdbg2018</th>\n",
       "      <th>Shape__Are</th>\n",
       "      <th>Shape__Len</th>\n",
       "      <th>geometry</th>\n",
       "    </tr>\n",
       "  </thead>\n",
       "  <tbody>\n",
       "    <tr>\n",
       "      <th>0</th>\n",
       "      <td>1</td>\n",
       "      <td>42</td>\n",
       "      <td>003</td>\n",
       "      <td>040500</td>\n",
       "      <td>1</td>\n",
       "      <td>420030405001</td>\n",
       "      <td>Block Group 1</td>\n",
       "      <td>G5030</td>\n",
       "      <td>S</td>\n",
       "      <td>268195</td>\n",
       "      <td>...</td>\n",
       "      <td>040500</td>\n",
       "      <td>2</td>\n",
       "      <td>2775</td>\n",
       "      <td>2985</td>\n",
       "      <td>92.964824</td>\n",
       "      <td>92.96</td>\n",
       "      <td>Yes</td>\n",
       "      <td>5.079492e+06</td>\n",
       "      <td>10442.03645</td>\n",
       "      <td>POLYGON ((-79.95304 40.44203, -79.95302 40.442...</td>\n",
       "    </tr>\n",
       "  </tbody>\n",
       "</table>\n",
       "<p>1 rows × 32 columns</p>\n",
       "</div>"
      ],
      "text/plain": [
       "   objectid statefp10 countyfp10 tractce10 blkgrpce10       geoid10  \\\n",
       "0         1        42        003    040500          1  420030405001   \n",
       "\n",
       "      namelsad10 mtfcc10 funcstat10  aland10  ...  tractce10_ cnt_tractc  \\\n",
       "0  Block Group 1   G5030          S   268195  ...      040500          2   \n",
       "\n",
       "  sum_lowmod sum_lowm_1  lowmodperc  lowmodpe_1  cdbg2018    Shape__Are  \\\n",
       "0       2775       2985   92.964824       92.96       Yes  5.079492e+06   \n",
       "\n",
       "    Shape__Len                                           geometry  \n",
       "0  10442.03645  POLYGON ((-79.95304 40.44203, -79.95302 40.442...  \n",
       "\n",
       "[1 rows x 32 columns]"
      ]
     },
     "execution_count": 7,
     "metadata": {},
     "output_type": "execute_result"
    }
   ],
   "source": [
    "#get the 2010 census tract neighborhoods in Pittsburgh\n",
    "cenTract = gpd.read_file('../Data/2010_Census_Tracts/a36fc9b1-4e53-4fd1-80fb-db1554e213422020328-1-nbfxcj.l6b8.shp')\n",
    "cenTract.head(1)"
   ]
  },
  {
   "cell_type": "code",
   "execution_count": 8,
   "metadata": {},
   "outputs": [],
   "source": [
    "cenTractPHC = pd.read_csv('../Data/cenTractPHC.csv')"
   ]
  },
  {
   "cell_type": "code",
   "execution_count": 9,
   "metadata": {},
   "outputs": [],
   "source": [
    "#for every point (bike station), check if if it exists in that polygon (census tract)\n",
    "df.at[80,\"coordinates\"] = Point(-79.92787,40.4677154)\n",
    "for row in range(len(df)):\n",
    "    for tract in range(len(cenTract)):\n",
    "        if df.loc[row][\"coordinates\"].within(cenTract.loc[tract][\"geometry\"]):\n",
    "            df.at[row,\"tractce10\"] = cenTract.loc[tract][\"tractce10\"] "
   ]
  },
  {
   "cell_type": "markdown",
   "metadata": {},
   "source": [
    "### Plot by census tract"
   ]
  },
  {
   "cell_type": "code",
   "execution_count": 10,
   "metadata": {},
   "outputs": [
    {
     "data": {
      "application/vnd.plotly.v1+json": {
       "config": {
        "plotlyServerURL": "https://plot.ly"
       },
       "data": [
        {
         "hovertemplate": "tractce10=020100<br>NumRacks=%{marker.size}<br>Latitude=%{lat}<br>Longitude=%{lon}<extra></extra>",
         "lat": [
          40.441326,
          40.440877,
          40.43903,
          40.4372,
          40.435887,
          40.438882,
          40.440193,
          40.440368,
          40.444665,
          40.444777,
          40.43866,
          40.44197,
          40.44475071,
          40.44170511,
          40.44353412,
          40.44193373,
          40.44001486,
          40.43766313
         ],
         "legendgroup": "020100",
         "lon": [
          -80.004679,
          -80.00308,
          -80.00186,
          -80.000375,
          -79.997102,
          -79.997592,
          -79.995084,
          -79.988636,
          -79.995798,
          -80.000831,
          -79.9997,
          -79.9997,
          -79.99391198,
          -79.99510288,
          -79.99839664,
          -80.00207126,
          -80.00447989,
          -79.99629378
         ],
         "marker": {
          "color": "#AA0DFE",
          "size": [
           16,
           19,
           15,
           15,
           15,
           13,
           7,
           5,
           15,
           15,
           6,
           7,
           6,
           7,
           5,
           6,
           5,
           7
          ],
          "sizemode": "area",
          "sizeref": 0.13777777777777778
         },
         "mode": "markers",
         "name": "020100",
         "showlegend": true,
         "subplot": "mapbox",
         "type": "scattermapbox"
        },
        {
         "hovertemplate": "tractce10=010300<br>NumRacks=%{marker.size}<br>Latitude=%{lat}<br>Longitude=%{lon}<extra></extra>",
         "lat": [
          40.437643,
          40.4377657,
          40.43829598
         ],
         "legendgroup": "010300",
         "lon": [
          -79.986695,
          -79.9906531,
          -79.98117685
         ],
         "marker": {
          "color": "#3283FE",
          "size": [
           15,
           6,
           6
          ],
          "sizemode": "area",
          "sizeref": 0.13777777777777778
         },
         "mode": "markers",
         "name": "010300",
         "showlegend": true,
         "subplot": "mapbox",
         "type": "scattermapbox"
        },
        {
         "hovertemplate": "tractce10=020300<br>NumRacks=%{marker.size}<br>Latitude=%{lat}<br>Longitude=%{lon}<extra></extra>",
         "lat": [
          40.445844,
          40.449631,
          40.451742,
          40.45632767,
          40.45814812,
          40.46011138,
          40.45400101,
          40.447208
         ],
         "legendgroup": "020300",
         "lon": [
          -79.99238,
          -79.985893,
          -79.983217,
          -79.98021126,
          -79.97383833,
          -79.97276008,
          -79.98171329,
          -79.989725
         ],
         "marker": {
          "color": "#85660D",
          "size": [
           19,
           19,
           18,
           12,
           8,
           6,
           6,
           6
          ],
          "sizemode": "area",
          "sizeref": 0.13777777777777778
         },
         "mode": "markers",
         "name": "020300",
         "showlegend": true,
         "subplot": "mapbox",
         "type": "scattermapbox"
        },
        {
         "hovertemplate": "tractce10=981200<br>NumRacks=%{marker.size}<br>Latitude=%{lat}<br>Longitude=%{lon}<extra></extra>",
         "lat": [
          40.445834,
          40.44741245
         ],
         "legendgroup": "981200",
         "lon": [
          -80.008882,
          -80.01206517
         ],
         "marker": {
          "color": "#782AB6",
          "size": [
           31,
           5
          ],
          "sizemode": "area",
          "sizeref": 0.13777777777777778
         },
         "mode": "markers",
         "name": "981200",
         "showlegend": true,
         "subplot": "mapbox",
         "type": "scattermapbox"
        },
        {
         "hovertemplate": "tractce10=563200<br>NumRacks=%{marker.size}<br>Latitude=%{lat}<br>Longitude=%{lon}<extra></extra>",
         "lat": [
          40.447166
         ],
         "legendgroup": "563200",
         "lon": [
          -80.003566
         ],
         "marker": {
          "color": "#565656",
          "size": [
           15
          ],
          "sizemode": "area",
          "sizeref": 0.13777777777777778
         },
         "mode": "markers",
         "name": "563200",
         "showlegend": true,
         "subplot": "mapbox",
         "type": "scattermapbox"
        },
        {
         "hovertemplate": "tractce10=562700<br>NumRacks=%{marker.size}<br>Latitude=%{lat}<br>Longitude=%{lon}<extra></extra>",
         "lat": [
          40.450595,
          40.45509087
         ],
         "legendgroup": "562700",
         "lon": [
          -80.013204,
          -80.0063467
         ],
         "marker": {
          "color": "#1C8356",
          "size": [
           19,
           12
          ],
          "sizemode": "area",
          "sizeref": 0.13777777777777778
         },
         "mode": "markers",
         "name": "562700",
         "showlegend": true,
         "subplot": "mapbox",
         "type": "scattermapbox"
        },
        {
         "hovertemplate": "tractce10=981000<br>NumRacks=%{marker.size}<br>Latitude=%{lat}<br>Longitude=%{lon}<extra></extra>",
         "lat": [
          40.47815
         ],
         "legendgroup": "981000",
         "lon": [
          -79.9557
         ],
         "marker": {
          "color": "#16FF32",
          "size": [
           5
          ],
          "sizemode": "area",
          "sizeref": 0.13777777777777778
         },
         "mode": "markers",
         "name": "981000",
         "showlegend": true,
         "subplot": "mapbox",
         "type": "scattermapbox"
        },
        {
         "hovertemplate": "tractce10=090100<br>NumRacks=%{marker.size}<br>Latitude=%{lat}<br>Longitude=%{lon}<extra></extra>",
         "lat": [
          40.47021248,
          40.47603982
         ],
         "legendgroup": "090100",
         "lon": [
          -79.96066332,
          -79.95763779
         ],
         "marker": {
          "color": "#F7E1A0",
          "size": [
           17,
           6
          ],
          "sizemode": "area",
          "sizeref": 0.13777777777777778
         },
         "mode": "markers",
         "name": "090100",
         "showlegend": true,
         "subplot": "mapbox",
         "type": "scattermapbox"
        },
        {
         "hovertemplate": "tractce10=090200<br>NumRacks=%{marker.size}<br>Latitude=%{lat}<br>Longitude=%{lon}<extra></extra>",
         "lat": [
          40.465893
         ],
         "legendgroup": "090200",
         "lon": [
          -79.954417
         ],
         "marker": {
          "color": "#E2E2E2",
          "size": [
           8
          ],
          "sizemode": "area",
          "sizeref": 0.13777777777777778
         },
         "mode": "markers",
         "name": "090200",
         "showlegend": true,
         "subplot": "mapbox",
         "type": "scattermapbox"
        },
        {
         "hovertemplate": "tractce10=090300<br>NumRacks=%{marker.size}<br>Latitude=%{lat}<br>Longitude=%{lon}<extra></extra>",
         "lat": [
          40.462769
         ],
         "legendgroup": "090300",
         "lon": [
          -79.950867
         ],
         "marker": {
          "color": "#1CBE4F",
          "size": [
           19
          ],
          "sizemode": "area",
          "sizeref": 0.13777777777777778
         },
         "mode": "markers",
         "name": "090300",
         "showlegend": true,
         "subplot": "mapbox",
         "type": "scattermapbox"
        },
        {
         "hovertemplate": "tractce10=080900<br>NumRacks=%{marker.size}<br>Latitude=%{lat}<br>Longitude=%{lon}<extra></extra>",
         "lat": [
          40.459812,
          40.46473563
         ],
         "legendgroup": "080900",
         "lon": [
          -79.945548,
          -79.94282663
         ],
         "marker": {
          "color": "#C4451C",
          "size": [
           15,
           5
          ],
          "sizemode": "area",
          "sizeref": 0.13777777777777778
         },
         "mode": "markers",
         "name": "080900",
         "showlegend": true,
         "subplot": "mapbox",
         "type": "scattermapbox"
        },
        {
         "hovertemplate": "tractce10=080600<br>NumRacks=%{marker.size}<br>Latitude=%{lat}<br>Longitude=%{lon}<extra></extra>",
         "lat": [
          40.456505
         ],
         "legendgroup": "080600",
         "lon": [
          -79.939362
         ],
         "marker": {
          "color": "#DEA0FD",
          "size": [
           15
          ],
          "sizemode": "area",
          "sizeref": 0.13777777777777778
         },
         "mode": "markers",
         "name": "080600",
         "showlegend": true,
         "subplot": "mapbox",
         "type": "scattermapbox"
        },
        {
         "hovertemplate": "tractce10=111500<br>NumRacks=%{marker.size}<br>Latitude=%{lat}<br>Longitude=%{lon}<extra></extra>",
         "lat": [
          40.458714,
          40.461603,
          40.46089095
         ],
         "legendgroup": "111500",
         "lon": [
          -79.933483,
          -79.925624,
          -79.91583824
         ],
         "marker": {
          "color": "#FE00FA",
          "size": [
           17,
           13,
           6
          ],
          "sizemode": "area",
          "sizeref": 0.13777777777777778
         },
         "mode": "markers",
         "name": "111500",
         "showlegend": true,
         "subplot": "mapbox",
         "type": "scattermapbox"
        },
        {
         "hovertemplate": "tractce10=111400<br>NumRacks=%{marker.size}<br>Latitude=%{lat}<br>Longitude=%{lon}<extra></extra>",
         "lat": [
          40.464443
         ],
         "legendgroup": "111400",
         "lon": [
          -79.933188
         ],
         "marker": {
          "color": "#325A9B",
          "size": [
           15
          ],
          "sizemode": "area",
          "sizeref": 0.13777777777777778
         },
         "mode": "markers",
         "name": "111400",
         "showlegend": true,
         "subplot": "mapbox",
         "type": "scattermapbox"
        },
        {
         "hovertemplate": "tractce10=070800<br>NumRacks=%{marker.size}<br>Latitude=%{lat}<br>Longitude=%{lon}<extra></extra>",
         "lat": [
          40.458972,
          40.455821,
          40.457415
         ],
         "legendgroup": "070800",
         "lon": [
          -79.922023,
          -79.915248,
          -79.92492
         ],
         "marker": {
          "color": "#FEAF16",
          "size": [
           19,
           8,
           19
          ],
          "sizemode": "area",
          "sizeref": 0.13777777777777778
         },
         "mode": "markers",
         "name": "070800",
         "showlegend": true,
         "subplot": "mapbox",
         "type": "scattermapbox"
        },
        {
         "hovertemplate": "tractce10=070500<br>NumRacks=%{marker.size}<br>Latitude=%{lat}<br>Longitude=%{lon}<extra></extra>",
         "lat": [
          40.45628,
          40.453382
         ],
         "legendgroup": "070500",
         "lon": [
          -79.930962,
          -79.92731
         ],
         "marker": {
          "color": "#F8A19F",
          "size": [
           19,
           14
          ],
          "sizemode": "area",
          "sizeref": 0.13777777777777778
         },
         "mode": "markers",
         "name": "070500",
         "showlegend": true,
         "subplot": "mapbox",
         "type": "scattermapbox"
        },
        {
         "hovertemplate": "tractce10=070300<br>NumRacks=%{marker.size}<br>Latitude=%{lat}<br>Longitude=%{lon}<extra></extra>",
         "lat": [
          40.45177
         ],
         "legendgroup": "070300",
         "lon": [
          -79.932324
         ],
         "marker": {
          "color": "#90AD1C",
          "size": [
           19
          ],
          "sizemode": "area",
          "sizeref": 0.13777777777777778
         },
         "mode": "markers",
         "name": "070300",
         "showlegend": true,
         "subplot": "mapbox",
         "type": "scattermapbox"
        },
        {
         "hovertemplate": "tractce10=070900<br>NumRacks=%{marker.size}<br>Latitude=%{lat}<br>Longitude=%{lon}<extra></extra>",
         "lat": [
          40.448419
         ],
         "legendgroup": "070900",
         "lon": [
          -79.947401
         ],
         "marker": {
          "color": "#F6222E",
          "size": [
           15
          ],
          "sizemode": "area",
          "sizeref": 0.13777777777777778
         },
         "mode": "markers",
         "name": "070900",
         "showlegend": true,
         "subplot": "mapbox",
         "type": "scattermapbox"
        },
        {
         "hovertemplate": "tractce10=982200<br>NumRacks=%{marker.size}<br>Latitude=%{lat}<br>Longitude=%{lon}<extra></extra>",
         "lat": [
          40.446744,
          40.442398,
          40.445128,
          40.44324426,
          40.44301971,
          40.44564886,
          40.44424448
         ],
         "legendgroup": "982200",
         "lon": [
          -79.950881,
          -79.951479,
          -79.957102,
          -79.95984256,
          -79.95331407,
          -79.95327652,
          -79.94895279
         ],
         "marker": {
          "color": "#1CFFCE",
          "size": [
           8,
           19,
           21,
           5,
           7,
           6,
           5
          ],
          "sizemode": "area",
          "sizeref": 0.13777777777777778
         },
         "mode": "markers",
         "name": "982200",
         "showlegend": true,
         "subplot": "mapbox",
         "type": "scattermapbox"
        },
        {
         "hovertemplate": "tractce10=140100<br>NumRacks=%{marker.size}<br>Latitude=%{lat}<br>Longitude=%{lon}<extra></extra>",
         "lat": [
          40.441032,
          40.43775296
         ],
         "legendgroup": "140100",
         "lon": [
          -79.948042,
          -79.93363738
         ],
         "marker": {
          "color": "#2ED9FF",
          "size": [
           20,
           6
          ],
          "sizemode": "area",
          "sizeref": 0.13777777777777778
         },
         "mode": "markers",
         "name": "140100",
         "showlegend": true,
         "subplot": "mapbox",
         "type": "scattermapbox"
        },
        {
         "hovertemplate": "tractce10=040600<br>NumRacks=%{marker.size}<br>Latitude=%{lat}<br>Longitude=%{lon}<extra></extra>",
         "lat": [
          40.434338,
          40.437987
         ],
         "legendgroup": "040600",
         "lon": [
          -79.951877,
          -79.95367
         ],
         "marker": {
          "color": "#B10DA1",
          "size": [
           19,
           8
          ],
          "sizemode": "area",
          "sizeref": 0.13777777777777778
         },
         "mode": "markers",
         "name": "040600",
         "showlegend": true,
         "subplot": "mapbox",
         "type": "scattermapbox"
        },
        {
         "hovertemplate": "tractce10=040500<br>NumRacks=%{marker.size}<br>Latitude=%{lat}<br>Longitude=%{lon}<extra></extra>",
         "lat": [
          40.442325,
          40.435986,
          40.43874918,
          40.44136216
         ],
         "legendgroup": "040500",
         "lon": [
          -79.957604,
          -79.956942,
          -79.95703161,
          -79.95555639
         ],
         "marker": {
          "color": "#C075A6",
          "size": [
           19,
           19,
           5,
           6
          ],
          "sizemode": "area",
          "sizeref": 0.13777777777777778
         },
         "mode": "markers",
         "name": "040500",
         "showlegend": true,
         "subplot": "mapbox",
         "type": "scattermapbox"
        },
        {
         "hovertemplate": "tractce10=050100<br>NumRacks=%{marker.size}<br>Latitude=%{lat}<br>Longitude=%{lon}<extra></extra>",
         "lat": [
          40.445236
         ],
         "legendgroup": "050100",
         "lon": [
          -79.976911
         ],
         "marker": {
          "color": "#FC1CBF",
          "size": [
           12
          ],
          "sizemode": "area",
          "sizeref": 0.13777777777777778
         },
         "mode": "markers",
         "name": "050100",
         "showlegend": true,
         "subplot": "mapbox",
         "type": "scattermapbox"
        },
        {
         "hovertemplate": "tractce10=080400<br>NumRacks=%{marker.size}<br>Latitude=%{lat}<br>Longitude=%{lon}<extra></extra>",
         "lat": [
          40.45351
         ],
         "legendgroup": "080400",
         "lon": [
          -79.94747
         ],
         "marker": {
          "color": "#B00068",
          "size": [
           13
          ],
          "sizemode": "area",
          "sizeref": 0.13777777777777778
         },
         "mode": "markers",
         "name": "080400",
         "showlegend": true,
         "subplot": "mapbox",
         "type": "scattermapbox"
        },
        {
         "hovertemplate": "tractce10=160900<br>NumRacks=%{marker.size}<br>Latitude=%{lat}<br>Longitude=%{lon}<extra></extra>",
         "lat": [
          40.4279,
          40.42802,
          40.428576,
          40.42708753
         ],
         "legendgroup": "160900",
         "lon": [
          -79.966112,
          -79.969799,
          -79.974559,
          -79.96279836
         ],
         "marker": {
          "color": "#FBE426",
          "size": [
           19,
           19,
           19,
           13
          ],
          "sizemode": "area",
          "sizeref": 0.13777777777777778
         },
         "mode": "markers",
         "name": "160900",
         "showlegend": true,
         "subplot": "mapbox",
         "type": "scattermapbox"
        },
        {
         "hovertemplate": "tractce10=170200<br>NumRacks=%{marker.size}<br>Latitude=%{lat}<br>Longitude=%{lon}<extra></extra>",
         "lat": [
          40.429338,
          40.428661,
          40.43128939
         ],
         "legendgroup": "170200",
         "lon": [
          -79.980684,
          -79.986358,
          -79.99526918
         ],
         "marker": {
          "color": "#FA0087",
          "size": [
           16,
           19,
           5
          ],
          "sizemode": "area",
          "sizeref": 0.13777777777777778
         },
         "mode": "markers",
         "name": "170200",
         "showlegend": true,
         "subplot": "mapbox",
         "type": "scattermapbox"
        },
        {
         "hovertemplate": "tractce10=120800<br>NumRacks=%{marker.size}<br>Latitude=%{lat}<br>Longitude=%{lon}<extra></extra>",
         "lat": [
          40.45803,
          40.46361735
         ],
         "legendgroup": "120800",
         "lon": [
          -79.9112,
          -79.91746902
         ],
         "marker": {
          "color": "#AA0DFE",
          "size": [
           5,
           6
          ],
          "sizemode": "area",
          "sizeref": 0.13777777777777778
         },
         "mode": "markers",
         "name": "120800",
         "showlegend": true,
         "subplot": "mapbox",
         "type": "scattermapbox"
        },
        {
         "hovertemplate": "tractce10=060300<br>NumRacks=%{marker.size}<br>Latitude=%{lat}<br>Longitude=%{lon}<extra></extra>",
         "lat": [
          40.4620256,
          40.46490704,
          40.462184,
          40.46529884
         ],
         "legendgroup": "060300",
         "lon": [
          -79.9681145,
          -79.96008396,
          -79.96162,
          -79.96527672
         ],
         "marker": {
          "color": "#3283FE",
          "size": [
           6,
           6,
           6,
           6
          ],
          "sizemode": "area",
          "sizeref": 0.13777777777777778
         },
         "mode": "markers",
         "name": "060300",
         "showlegend": true,
         "subplot": "mapbox",
         "type": "scattermapbox"
        },
        {
         "hovertemplate": "tractce10=101700<br>NumRacks=%{marker.size}<br>Latitude=%{lat}<br>Longitude=%{lon}<extra></extra>",
         "lat": [
          40.46460503
         ],
         "legendgroup": "101700",
         "lon": [
          -79.9387604
         ],
         "marker": {
          "color": "#85660D",
          "size": [
           5
          ],
          "sizemode": "area",
          "sizeref": 0.13777777777777778
         },
         "mode": "markers",
         "name": "101700",
         "showlegend": true,
         "subplot": "mapbox",
         "type": "scattermapbox"
        },
        {
         "hovertemplate": "tractce10=130300<br>NumRacks=%{marker.size}<br>Latitude=%{lat}<br>Longitude=%{lon}<extra></extra>",
         "lat": [
          40.45304583,
          40.45668686
         ],
         "legendgroup": "130300",
         "lon": [
          -79.89847898,
          -79.89813566
         ],
         "marker": {
          "color": "#782AB6",
          "size": [
           8,
           7
          ],
          "sizemode": "area",
          "sizeref": 0.13777777777777778
         },
         "mode": "markers",
         "name": "130300",
         "showlegend": true,
         "subplot": "mapbox",
         "type": "scattermapbox"
        },
        {
         "hovertemplate": "tractce10=140800<br>NumRacks=%{marker.size}<br>Latitude=%{lat}<br>Longitude=%{lon}<extra></extra>",
         "lat": [
          40.4380532
         ],
         "legendgroup": "140800",
         "lon": [
          -79.9229474
         ],
         "marker": {
          "color": "#565656",
          "size": [
           5
          ],
          "sizemode": "area",
          "sizeref": 0.13777777777777778
         },
         "mode": "markers",
         "name": "140800",
         "showlegend": true,
         "subplot": "mapbox",
         "type": "scattermapbox"
        },
        {
         "hovertemplate": "tractce10=141300<br>NumRacks=%{marker.size}<br>Latitude=%{lat}<br>Longitude=%{lon}<extra></extra>",
         "lat": [
          40.43531949,
          40.43251029,
          40.43791627
         ],
         "legendgroup": "141300",
         "lon": [
          -79.92288709,
          -79.92733955,
          -79.92781162
         ],
         "marker": {
          "color": "#1C8356",
          "size": [
           6,
           5,
           5
          ],
          "sizemode": "area",
          "sizeref": 0.13777777777777778
         },
         "mode": "markers",
         "name": "141300",
         "showlegend": true,
         "subplot": "mapbox",
         "type": "scattermapbox"
        },
        {
         "hovertemplate": "tractce10=980700<br>NumRacks=%{marker.size}<br>Latitude=%{lat}<br>Longitude=%{lon}<extra></extra>",
         "lat": [
          40.43268995
         ],
         "legendgroup": "980700",
         "lon": [
          -80.00302076
         ],
         "marker": {
          "color": "#16FF32",
          "size": [
           10
          ],
          "sizemode": "area",
          "sizeref": 0.13777777777777778
         },
         "mode": "markers",
         "name": "980700",
         "showlegend": true,
         "subplot": "mapbox",
         "type": "scattermapbox"
        },
        {
         "hovertemplate": "tractce10=040900<br>NumRacks=%{marker.size}<br>Latitude=%{lat}<br>Longitude=%{lon}<extra></extra>",
         "lat": [
          40.42968463
         ],
         "legendgroup": "040900",
         "lon": [
          -79.95414019
         ],
         "marker": {
          "color": "#F7E1A0",
          "size": [
           5
          ],
          "sizemode": "area",
          "sizeref": 0.13777777777777778
         },
         "mode": "markers",
         "name": "040900",
         "showlegend": true,
         "subplot": "mapbox",
         "type": "scattermapbox"
        },
        {
         "hovertemplate": "tractce10=040400<br>NumRacks=%{marker.size}<br>Latitude=%{lat}<br>Longitude=%{lon}<extra></extra>",
         "lat": [
          40.446739
         ],
         "legendgroup": "040400",
         "lon": [
          -79.94893
         ],
         "marker": {
          "color": "#E2E2E2",
          "size": [
           6
          ],
          "sizemode": "area",
          "sizeref": 0.13777777777777778
         },
         "mode": "markers",
         "name": "040400",
         "showlegend": true,
         "subplot": "mapbox",
         "type": "scattermapbox"
        },
        {
         "hovertemplate": "tractce10=562000<br>NumRacks=%{marker.size}<br>Latitude=%{lat}<br>Longitude=%{lon}<extra></extra>",
         "lat": [
          40.45186204
         ],
         "legendgroup": "562000",
         "lon": [
          -79.95173693
         ],
         "marker": {
          "color": "#1CBE4F",
          "size": [
           6
          ],
          "sizemode": "area",
          "sizeref": 0.13777777777777778
         },
         "mode": "markers",
         "name": "562000",
         "showlegend": true,
         "subplot": "mapbox",
         "type": "scattermapbox"
        },
        {
         "hovertemplate": "tractce10=120700<br>NumRacks=%{marker.size}<br>Latitude=%{lat}<br>Longitude=%{lon}<extra></extra>",
         "lat": [
          40.45623787
         ],
         "legendgroup": "120700",
         "lon": [
          -79.90505576
         ],
         "marker": {
          "color": "#C4451C",
          "size": [
           6
          ],
          "sizemode": "area",
          "sizeref": 0.13777777777777778
         },
         "mode": "markers",
         "name": "120700",
         "showlegend": true,
         "subplot": "mapbox",
         "type": "scattermapbox"
        },
        {
         "hovertemplate": "tractce10=111300<br>NumRacks=%{marker.size}<br>Latitude=%{lat}<br>Longitude=%{lon}<extra></extra>",
         "lat": [
          40.467715,
          40.47122337
         ],
         "legendgroup": "111300",
         "lon": [
          -79.92787,
          -79.92560189
         ],
         "marker": {
          "color": "#DEA0FD",
          "size": [
           5,
           6
          ],
          "sizemode": "area",
          "sizeref": 0.13777777777777778
         },
         "mode": "markers",
         "name": "111300",
         "showlegend": true,
         "subplot": "mapbox",
         "type": "scattermapbox"
        },
        {
         "hovertemplate": "tractce10=080700<br>NumRacks=%{marker.size}<br>Latitude=%{lat}<br>Longitude=%{lon}<extra></extra>",
         "lat": [
          40.46150726
         ],
         "legendgroup": "080700",
         "lon": [
          -79.93510187
         ],
         "marker": {
          "color": "#FE00FA",
          "size": [
           5
          ],
          "sizemode": "area",
          "sizeref": 0.13777777777777778
         },
         "mode": "markers",
         "name": "080700",
         "showlegend": true,
         "subplot": "mapbox",
         "type": "scattermapbox"
        },
        {
         "hovertemplate": "tractce10=240600<br>NumRacks=%{marker.size}<br>Latitude=%{lat}<br>Longitude=%{lon}<extra></extra>",
         "lat": [
          40.45379691
         ],
         "legendgroup": "240600",
         "lon": [
          -79.99094009
         ],
         "marker": {
          "color": "#325A9B",
          "size": [
           6
          ],
          "sizemode": "area",
          "sizeref": 0.13777777777777778
         },
         "mode": "markers",
         "name": "240600",
         "showlegend": true,
         "subplot": "mapbox",
         "type": "scattermapbox"
        },
        {
         "hovertemplate": "tractce10=250300<br>NumRacks=%{marker.size}<br>Latitude=%{lat}<br>Longitude=%{lon}<extra></extra>",
         "lat": [
          40.45777261
         ],
         "legendgroup": "250300",
         "lon": [
          -80.00945807
         ],
         "marker": {
          "color": "#FEAF16",
          "size": [
           5
          ],
          "sizemode": "area",
          "sizeref": 0.13777777777777778
         },
         "mode": "markers",
         "name": "250300",
         "showlegend": true,
         "subplot": "mapbox",
         "type": "scattermapbox"
        }
       ],
       "layout": {
        "legend": {
         "itemsizing": "constant",
         "title": {
          "text": "tractce10"
         },
         "tracegroupgap": 0
        },
        "mapbox": {
         "center": {
          "lat": 40.4482108569,
          "lon": -79.96373512509999
         },
         "domain": {
          "x": [
           0,
           1
          ],
          "y": [
           0,
           1
          ]
         },
         "style": "carto-positron",
         "zoom": 10
        },
        "margin": {
         "t": 60
        },
        "template": {
         "data": {
          "bar": [
           {
            "error_x": {
             "color": "#2a3f5f"
            },
            "error_y": {
             "color": "#2a3f5f"
            },
            "marker": {
             "line": {
              "color": "#E5ECF6",
              "width": 0.5
             }
            },
            "type": "bar"
           }
          ],
          "barpolar": [
           {
            "marker": {
             "line": {
              "color": "#E5ECF6",
              "width": 0.5
             }
            },
            "type": "barpolar"
           }
          ],
          "carpet": [
           {
            "aaxis": {
             "endlinecolor": "#2a3f5f",
             "gridcolor": "white",
             "linecolor": "white",
             "minorgridcolor": "white",
             "startlinecolor": "#2a3f5f"
            },
            "baxis": {
             "endlinecolor": "#2a3f5f",
             "gridcolor": "white",
             "linecolor": "white",
             "minorgridcolor": "white",
             "startlinecolor": "#2a3f5f"
            },
            "type": "carpet"
           }
          ],
          "choropleth": [
           {
            "colorbar": {
             "outlinewidth": 0,
             "ticks": ""
            },
            "type": "choropleth"
           }
          ],
          "contour": [
           {
            "colorbar": {
             "outlinewidth": 0,
             "ticks": ""
            },
            "colorscale": [
             [
              0,
              "#0d0887"
             ],
             [
              0.1111111111111111,
              "#46039f"
             ],
             [
              0.2222222222222222,
              "#7201a8"
             ],
             [
              0.3333333333333333,
              "#9c179e"
             ],
             [
              0.4444444444444444,
              "#bd3786"
             ],
             [
              0.5555555555555556,
              "#d8576b"
             ],
             [
              0.6666666666666666,
              "#ed7953"
             ],
             [
              0.7777777777777778,
              "#fb9f3a"
             ],
             [
              0.8888888888888888,
              "#fdca26"
             ],
             [
              1,
              "#f0f921"
             ]
            ],
            "type": "contour"
           }
          ],
          "contourcarpet": [
           {
            "colorbar": {
             "outlinewidth": 0,
             "ticks": ""
            },
            "type": "contourcarpet"
           }
          ],
          "heatmap": [
           {
            "colorbar": {
             "outlinewidth": 0,
             "ticks": ""
            },
            "colorscale": [
             [
              0,
              "#0d0887"
             ],
             [
              0.1111111111111111,
              "#46039f"
             ],
             [
              0.2222222222222222,
              "#7201a8"
             ],
             [
              0.3333333333333333,
              "#9c179e"
             ],
             [
              0.4444444444444444,
              "#bd3786"
             ],
             [
              0.5555555555555556,
              "#d8576b"
             ],
             [
              0.6666666666666666,
              "#ed7953"
             ],
             [
              0.7777777777777778,
              "#fb9f3a"
             ],
             [
              0.8888888888888888,
              "#fdca26"
             ],
             [
              1,
              "#f0f921"
             ]
            ],
            "type": "heatmap"
           }
          ],
          "heatmapgl": [
           {
            "colorbar": {
             "outlinewidth": 0,
             "ticks": ""
            },
            "colorscale": [
             [
              0,
              "#0d0887"
             ],
             [
              0.1111111111111111,
              "#46039f"
             ],
             [
              0.2222222222222222,
              "#7201a8"
             ],
             [
              0.3333333333333333,
              "#9c179e"
             ],
             [
              0.4444444444444444,
              "#bd3786"
             ],
             [
              0.5555555555555556,
              "#d8576b"
             ],
             [
              0.6666666666666666,
              "#ed7953"
             ],
             [
              0.7777777777777778,
              "#fb9f3a"
             ],
             [
              0.8888888888888888,
              "#fdca26"
             ],
             [
              1,
              "#f0f921"
             ]
            ],
            "type": "heatmapgl"
           }
          ],
          "histogram": [
           {
            "marker": {
             "colorbar": {
              "outlinewidth": 0,
              "ticks": ""
             }
            },
            "type": "histogram"
           }
          ],
          "histogram2d": [
           {
            "colorbar": {
             "outlinewidth": 0,
             "ticks": ""
            },
            "colorscale": [
             [
              0,
              "#0d0887"
             ],
             [
              0.1111111111111111,
              "#46039f"
             ],
             [
              0.2222222222222222,
              "#7201a8"
             ],
             [
              0.3333333333333333,
              "#9c179e"
             ],
             [
              0.4444444444444444,
              "#bd3786"
             ],
             [
              0.5555555555555556,
              "#d8576b"
             ],
             [
              0.6666666666666666,
              "#ed7953"
             ],
             [
              0.7777777777777778,
              "#fb9f3a"
             ],
             [
              0.8888888888888888,
              "#fdca26"
             ],
             [
              1,
              "#f0f921"
             ]
            ],
            "type": "histogram2d"
           }
          ],
          "histogram2dcontour": [
           {
            "colorbar": {
             "outlinewidth": 0,
             "ticks": ""
            },
            "colorscale": [
             [
              0,
              "#0d0887"
             ],
             [
              0.1111111111111111,
              "#46039f"
             ],
             [
              0.2222222222222222,
              "#7201a8"
             ],
             [
              0.3333333333333333,
              "#9c179e"
             ],
             [
              0.4444444444444444,
              "#bd3786"
             ],
             [
              0.5555555555555556,
              "#d8576b"
             ],
             [
              0.6666666666666666,
              "#ed7953"
             ],
             [
              0.7777777777777778,
              "#fb9f3a"
             ],
             [
              0.8888888888888888,
              "#fdca26"
             ],
             [
              1,
              "#f0f921"
             ]
            ],
            "type": "histogram2dcontour"
           }
          ],
          "mesh3d": [
           {
            "colorbar": {
             "outlinewidth": 0,
             "ticks": ""
            },
            "type": "mesh3d"
           }
          ],
          "parcoords": [
           {
            "line": {
             "colorbar": {
              "outlinewidth": 0,
              "ticks": ""
             }
            },
            "type": "parcoords"
           }
          ],
          "pie": [
           {
            "automargin": true,
            "type": "pie"
           }
          ],
          "scatter": [
           {
            "marker": {
             "colorbar": {
              "outlinewidth": 0,
              "ticks": ""
             }
            },
            "type": "scatter"
           }
          ],
          "scatter3d": [
           {
            "line": {
             "colorbar": {
              "outlinewidth": 0,
              "ticks": ""
             }
            },
            "marker": {
             "colorbar": {
              "outlinewidth": 0,
              "ticks": ""
             }
            },
            "type": "scatter3d"
           }
          ],
          "scattercarpet": [
           {
            "marker": {
             "colorbar": {
              "outlinewidth": 0,
              "ticks": ""
             }
            },
            "type": "scattercarpet"
           }
          ],
          "scattergeo": [
           {
            "marker": {
             "colorbar": {
              "outlinewidth": 0,
              "ticks": ""
             }
            },
            "type": "scattergeo"
           }
          ],
          "scattergl": [
           {
            "marker": {
             "colorbar": {
              "outlinewidth": 0,
              "ticks": ""
             }
            },
            "type": "scattergl"
           }
          ],
          "scattermapbox": [
           {
            "marker": {
             "colorbar": {
              "outlinewidth": 0,
              "ticks": ""
             }
            },
            "type": "scattermapbox"
           }
          ],
          "scatterpolar": [
           {
            "marker": {
             "colorbar": {
              "outlinewidth": 0,
              "ticks": ""
             }
            },
            "type": "scatterpolar"
           }
          ],
          "scatterpolargl": [
           {
            "marker": {
             "colorbar": {
              "outlinewidth": 0,
              "ticks": ""
             }
            },
            "type": "scatterpolargl"
           }
          ],
          "scatterternary": [
           {
            "marker": {
             "colorbar": {
              "outlinewidth": 0,
              "ticks": ""
             }
            },
            "type": "scatterternary"
           }
          ],
          "surface": [
           {
            "colorbar": {
             "outlinewidth": 0,
             "ticks": ""
            },
            "colorscale": [
             [
              0,
              "#0d0887"
             ],
             [
              0.1111111111111111,
              "#46039f"
             ],
             [
              0.2222222222222222,
              "#7201a8"
             ],
             [
              0.3333333333333333,
              "#9c179e"
             ],
             [
              0.4444444444444444,
              "#bd3786"
             ],
             [
              0.5555555555555556,
              "#d8576b"
             ],
             [
              0.6666666666666666,
              "#ed7953"
             ],
             [
              0.7777777777777778,
              "#fb9f3a"
             ],
             [
              0.8888888888888888,
              "#fdca26"
             ],
             [
              1,
              "#f0f921"
             ]
            ],
            "type": "surface"
           }
          ],
          "table": [
           {
            "cells": {
             "fill": {
              "color": "#EBF0F8"
             },
             "line": {
              "color": "white"
             }
            },
            "header": {
             "fill": {
              "color": "#C8D4E3"
             },
             "line": {
              "color": "white"
             }
            },
            "type": "table"
           }
          ]
         },
         "layout": {
          "annotationdefaults": {
           "arrowcolor": "#2a3f5f",
           "arrowhead": 0,
           "arrowwidth": 1
          },
          "autotypenumbers": "strict",
          "coloraxis": {
           "colorbar": {
            "outlinewidth": 0,
            "ticks": ""
           }
          },
          "colorscale": {
           "diverging": [
            [
             0,
             "#8e0152"
            ],
            [
             0.1,
             "#c51b7d"
            ],
            [
             0.2,
             "#de77ae"
            ],
            [
             0.3,
             "#f1b6da"
            ],
            [
             0.4,
             "#fde0ef"
            ],
            [
             0.5,
             "#f7f7f7"
            ],
            [
             0.6,
             "#e6f5d0"
            ],
            [
             0.7,
             "#b8e186"
            ],
            [
             0.8,
             "#7fbc41"
            ],
            [
             0.9,
             "#4d9221"
            ],
            [
             1,
             "#276419"
            ]
           ],
           "sequential": [
            [
             0,
             "#0d0887"
            ],
            [
             0.1111111111111111,
             "#46039f"
            ],
            [
             0.2222222222222222,
             "#7201a8"
            ],
            [
             0.3333333333333333,
             "#9c179e"
            ],
            [
             0.4444444444444444,
             "#bd3786"
            ],
            [
             0.5555555555555556,
             "#d8576b"
            ],
            [
             0.6666666666666666,
             "#ed7953"
            ],
            [
             0.7777777777777778,
             "#fb9f3a"
            ],
            [
             0.8888888888888888,
             "#fdca26"
            ],
            [
             1,
             "#f0f921"
            ]
           ],
           "sequentialminus": [
            [
             0,
             "#0d0887"
            ],
            [
             0.1111111111111111,
             "#46039f"
            ],
            [
             0.2222222222222222,
             "#7201a8"
            ],
            [
             0.3333333333333333,
             "#9c179e"
            ],
            [
             0.4444444444444444,
             "#bd3786"
            ],
            [
             0.5555555555555556,
             "#d8576b"
            ],
            [
             0.6666666666666666,
             "#ed7953"
            ],
            [
             0.7777777777777778,
             "#fb9f3a"
            ],
            [
             0.8888888888888888,
             "#fdca26"
            ],
            [
             1,
             "#f0f921"
            ]
           ]
          },
          "colorway": [
           "#636efa",
           "#EF553B",
           "#00cc96",
           "#ab63fa",
           "#FFA15A",
           "#19d3f3",
           "#FF6692",
           "#B6E880",
           "#FF97FF",
           "#FECB52"
          ],
          "font": {
           "color": "#2a3f5f"
          },
          "geo": {
           "bgcolor": "white",
           "lakecolor": "white",
           "landcolor": "#E5ECF6",
           "showlakes": true,
           "showland": true,
           "subunitcolor": "white"
          },
          "hoverlabel": {
           "align": "left"
          },
          "hovermode": "closest",
          "mapbox": {
           "style": "light"
          },
          "paper_bgcolor": "white",
          "plot_bgcolor": "#E5ECF6",
          "polar": {
           "angularaxis": {
            "gridcolor": "white",
            "linecolor": "white",
            "ticks": ""
           },
           "bgcolor": "#E5ECF6",
           "radialaxis": {
            "gridcolor": "white",
            "linecolor": "white",
            "ticks": ""
           }
          },
          "scene": {
           "xaxis": {
            "backgroundcolor": "#E5ECF6",
            "gridcolor": "white",
            "gridwidth": 2,
            "linecolor": "white",
            "showbackground": true,
            "ticks": "",
            "zerolinecolor": "white"
           },
           "yaxis": {
            "backgroundcolor": "#E5ECF6",
            "gridcolor": "white",
            "gridwidth": 2,
            "linecolor": "white",
            "showbackground": true,
            "ticks": "",
            "zerolinecolor": "white"
           },
           "zaxis": {
            "backgroundcolor": "#E5ECF6",
            "gridcolor": "white",
            "gridwidth": 2,
            "linecolor": "white",
            "showbackground": true,
            "ticks": "",
            "zerolinecolor": "white"
           }
          },
          "shapedefaults": {
           "line": {
            "color": "#2a3f5f"
           }
          },
          "ternary": {
           "aaxis": {
            "gridcolor": "white",
            "linecolor": "white",
            "ticks": ""
           },
           "baxis": {
            "gridcolor": "white",
            "linecolor": "white",
            "ticks": ""
           },
           "bgcolor": "#E5ECF6",
           "caxis": {
            "gridcolor": "white",
            "linecolor": "white",
            "ticks": ""
           }
          },
          "title": {
           "x": 0.05
          },
          "xaxis": {
           "automargin": true,
           "gridcolor": "white",
           "linecolor": "white",
           "ticks": "",
           "title": {
            "standoff": 15
           },
           "zerolinecolor": "white",
           "zerolinewidth": 2
          },
          "yaxis": {
           "automargin": true,
           "gridcolor": "white",
           "linecolor": "white",
           "ticks": "",
           "title": {
            "standoff": 15
           },
           "zerolinecolor": "white",
           "zerolinewidth": 2
          }
         }
        }
       }
      },
      "text/html": [
       "<div>                            <div id=\"66c2c27f-0c25-4b3d-a022-acf6be937236\" class=\"plotly-graph-div\" style=\"height:525px; width:100%;\"></div>            <script type=\"text/javascript\">                require([\"plotly\"], function(Plotly) {                    window.PLOTLYENV=window.PLOTLYENV || {};                                    if (document.getElementById(\"66c2c27f-0c25-4b3d-a022-acf6be937236\")) {                    Plotly.newPlot(                        \"66c2c27f-0c25-4b3d-a022-acf6be937236\",                        [{\"hovertemplate\": \"tractce10=020100<br>NumRacks=%{marker.size}<br>Latitude=%{lat}<br>Longitude=%{lon}<extra></extra>\", \"lat\": [40.441326, 40.440877, 40.43903, 40.4372, 40.435887, 40.438882, 40.440193, 40.440368, 40.444665, 40.444777, 40.43866, 40.44197, 40.44475071, 40.44170511, 40.44353412, 40.44193373, 40.44001486, 40.43766313], \"legendgroup\": \"020100\", \"lon\": [-80.004679, -80.00308, -80.00186, -80.000375, -79.997102, -79.997592, -79.995084, -79.988636, -79.995798, -80.000831, -79.9997, -79.9997, -79.99391198, -79.99510288, -79.99839664, -80.00207126, -80.00447989, -79.99629378], \"marker\": {\"color\": \"#AA0DFE\", \"size\": [16, 19, 15, 15, 15, 13, 7, 5, 15, 15, 6, 7, 6, 7, 5, 6, 5, 7], \"sizemode\": \"area\", \"sizeref\": 0.13777777777777778}, \"mode\": \"markers\", \"name\": \"020100\", \"showlegend\": true, \"subplot\": \"mapbox\", \"type\": \"scattermapbox\"}, {\"hovertemplate\": \"tractce10=010300<br>NumRacks=%{marker.size}<br>Latitude=%{lat}<br>Longitude=%{lon}<extra></extra>\", \"lat\": [40.437643, 40.4377657, 40.43829598], \"legendgroup\": \"010300\", \"lon\": [-79.986695, -79.9906531, -79.98117685], \"marker\": {\"color\": \"#3283FE\", \"size\": [15, 6, 6], \"sizemode\": \"area\", \"sizeref\": 0.13777777777777778}, \"mode\": \"markers\", \"name\": \"010300\", \"showlegend\": true, \"subplot\": \"mapbox\", \"type\": \"scattermapbox\"}, {\"hovertemplate\": \"tractce10=020300<br>NumRacks=%{marker.size}<br>Latitude=%{lat}<br>Longitude=%{lon}<extra></extra>\", \"lat\": [40.445844, 40.449631, 40.451742, 40.45632767, 40.45814812, 40.46011138, 40.45400101, 40.447208], \"legendgroup\": \"020300\", \"lon\": [-79.99238, -79.985893, -79.983217, -79.98021126, -79.97383833, -79.97276008, -79.98171329, -79.989725], \"marker\": {\"color\": \"#85660D\", \"size\": [19, 19, 18, 12, 8, 6, 6, 6], \"sizemode\": \"area\", \"sizeref\": 0.13777777777777778}, \"mode\": \"markers\", \"name\": \"020300\", \"showlegend\": true, \"subplot\": \"mapbox\", \"type\": \"scattermapbox\"}, {\"hovertemplate\": \"tractce10=981200<br>NumRacks=%{marker.size}<br>Latitude=%{lat}<br>Longitude=%{lon}<extra></extra>\", \"lat\": [40.445834, 40.44741245], \"legendgroup\": \"981200\", \"lon\": [-80.008882, -80.01206517], \"marker\": {\"color\": \"#782AB6\", \"size\": [31, 5], \"sizemode\": \"area\", \"sizeref\": 0.13777777777777778}, \"mode\": \"markers\", \"name\": \"981200\", \"showlegend\": true, \"subplot\": \"mapbox\", \"type\": \"scattermapbox\"}, {\"hovertemplate\": \"tractce10=563200<br>NumRacks=%{marker.size}<br>Latitude=%{lat}<br>Longitude=%{lon}<extra></extra>\", \"lat\": [40.447166], \"legendgroup\": \"563200\", \"lon\": [-80.003566], \"marker\": {\"color\": \"#565656\", \"size\": [15], \"sizemode\": \"area\", \"sizeref\": 0.13777777777777778}, \"mode\": \"markers\", \"name\": \"563200\", \"showlegend\": true, \"subplot\": \"mapbox\", \"type\": \"scattermapbox\"}, {\"hovertemplate\": \"tractce10=562700<br>NumRacks=%{marker.size}<br>Latitude=%{lat}<br>Longitude=%{lon}<extra></extra>\", \"lat\": [40.450595, 40.45509087], \"legendgroup\": \"562700\", \"lon\": [-80.013204, -80.0063467], \"marker\": {\"color\": \"#1C8356\", \"size\": [19, 12], \"sizemode\": \"area\", \"sizeref\": 0.13777777777777778}, \"mode\": \"markers\", \"name\": \"562700\", \"showlegend\": true, \"subplot\": \"mapbox\", \"type\": \"scattermapbox\"}, {\"hovertemplate\": \"tractce10=981000<br>NumRacks=%{marker.size}<br>Latitude=%{lat}<br>Longitude=%{lon}<extra></extra>\", \"lat\": [40.47815], \"legendgroup\": \"981000\", \"lon\": [-79.9557], \"marker\": {\"color\": \"#16FF32\", \"size\": [5], \"sizemode\": \"area\", \"sizeref\": 0.13777777777777778}, \"mode\": \"markers\", \"name\": \"981000\", \"showlegend\": true, \"subplot\": \"mapbox\", \"type\": \"scattermapbox\"}, {\"hovertemplate\": \"tractce10=090100<br>NumRacks=%{marker.size}<br>Latitude=%{lat}<br>Longitude=%{lon}<extra></extra>\", \"lat\": [40.47021248, 40.47603982], \"legendgroup\": \"090100\", \"lon\": [-79.96066332, -79.95763779], \"marker\": {\"color\": \"#F7E1A0\", \"size\": [17, 6], \"sizemode\": \"area\", \"sizeref\": 0.13777777777777778}, \"mode\": \"markers\", \"name\": \"090100\", \"showlegend\": true, \"subplot\": \"mapbox\", \"type\": \"scattermapbox\"}, {\"hovertemplate\": \"tractce10=090200<br>NumRacks=%{marker.size}<br>Latitude=%{lat}<br>Longitude=%{lon}<extra></extra>\", \"lat\": [40.465893], \"legendgroup\": \"090200\", \"lon\": [-79.954417], \"marker\": {\"color\": \"#E2E2E2\", \"size\": [8], \"sizemode\": \"area\", \"sizeref\": 0.13777777777777778}, \"mode\": \"markers\", \"name\": \"090200\", \"showlegend\": true, \"subplot\": \"mapbox\", \"type\": \"scattermapbox\"}, {\"hovertemplate\": \"tractce10=090300<br>NumRacks=%{marker.size}<br>Latitude=%{lat}<br>Longitude=%{lon}<extra></extra>\", \"lat\": [40.462769], \"legendgroup\": \"090300\", \"lon\": [-79.950867], \"marker\": {\"color\": \"#1CBE4F\", \"size\": [19], \"sizemode\": \"area\", \"sizeref\": 0.13777777777777778}, \"mode\": \"markers\", \"name\": \"090300\", \"showlegend\": true, \"subplot\": \"mapbox\", \"type\": \"scattermapbox\"}, {\"hovertemplate\": \"tractce10=080900<br>NumRacks=%{marker.size}<br>Latitude=%{lat}<br>Longitude=%{lon}<extra></extra>\", \"lat\": [40.459812, 40.46473563], \"legendgroup\": \"080900\", \"lon\": [-79.945548, -79.94282663], \"marker\": {\"color\": \"#C4451C\", \"size\": [15, 5], \"sizemode\": \"area\", \"sizeref\": 0.13777777777777778}, \"mode\": \"markers\", \"name\": \"080900\", \"showlegend\": true, \"subplot\": \"mapbox\", \"type\": \"scattermapbox\"}, {\"hovertemplate\": \"tractce10=080600<br>NumRacks=%{marker.size}<br>Latitude=%{lat}<br>Longitude=%{lon}<extra></extra>\", \"lat\": [40.456505], \"legendgroup\": \"080600\", \"lon\": [-79.939362], \"marker\": {\"color\": \"#DEA0FD\", \"size\": [15], \"sizemode\": \"area\", \"sizeref\": 0.13777777777777778}, \"mode\": \"markers\", \"name\": \"080600\", \"showlegend\": true, \"subplot\": \"mapbox\", \"type\": \"scattermapbox\"}, {\"hovertemplate\": \"tractce10=111500<br>NumRacks=%{marker.size}<br>Latitude=%{lat}<br>Longitude=%{lon}<extra></extra>\", \"lat\": [40.458714, 40.461603, 40.46089095], \"legendgroup\": \"111500\", \"lon\": [-79.933483, -79.925624, -79.91583824], \"marker\": {\"color\": \"#FE00FA\", \"size\": [17, 13, 6], \"sizemode\": \"area\", \"sizeref\": 0.13777777777777778}, \"mode\": \"markers\", \"name\": \"111500\", \"showlegend\": true, \"subplot\": \"mapbox\", \"type\": \"scattermapbox\"}, {\"hovertemplate\": \"tractce10=111400<br>NumRacks=%{marker.size}<br>Latitude=%{lat}<br>Longitude=%{lon}<extra></extra>\", \"lat\": [40.464443], \"legendgroup\": \"111400\", \"lon\": [-79.933188], \"marker\": {\"color\": \"#325A9B\", \"size\": [15], \"sizemode\": \"area\", \"sizeref\": 0.13777777777777778}, \"mode\": \"markers\", \"name\": \"111400\", \"showlegend\": true, \"subplot\": \"mapbox\", \"type\": \"scattermapbox\"}, {\"hovertemplate\": \"tractce10=070800<br>NumRacks=%{marker.size}<br>Latitude=%{lat}<br>Longitude=%{lon}<extra></extra>\", \"lat\": [40.458972, 40.455821, 40.457415], \"legendgroup\": \"070800\", \"lon\": [-79.922023, -79.915248, -79.92492], \"marker\": {\"color\": \"#FEAF16\", \"size\": [19, 8, 19], \"sizemode\": \"area\", \"sizeref\": 0.13777777777777778}, \"mode\": \"markers\", \"name\": \"070800\", \"showlegend\": true, \"subplot\": \"mapbox\", \"type\": \"scattermapbox\"}, {\"hovertemplate\": \"tractce10=070500<br>NumRacks=%{marker.size}<br>Latitude=%{lat}<br>Longitude=%{lon}<extra></extra>\", \"lat\": [40.45628, 40.453382], \"legendgroup\": \"070500\", \"lon\": [-79.930962, -79.92731], \"marker\": {\"color\": \"#F8A19F\", \"size\": [19, 14], \"sizemode\": \"area\", \"sizeref\": 0.13777777777777778}, \"mode\": \"markers\", \"name\": \"070500\", \"showlegend\": true, \"subplot\": \"mapbox\", \"type\": \"scattermapbox\"}, {\"hovertemplate\": \"tractce10=070300<br>NumRacks=%{marker.size}<br>Latitude=%{lat}<br>Longitude=%{lon}<extra></extra>\", \"lat\": [40.45177], \"legendgroup\": \"070300\", \"lon\": [-79.932324], \"marker\": {\"color\": \"#90AD1C\", \"size\": [19], \"sizemode\": \"area\", \"sizeref\": 0.13777777777777778}, \"mode\": \"markers\", \"name\": \"070300\", \"showlegend\": true, \"subplot\": \"mapbox\", \"type\": \"scattermapbox\"}, {\"hovertemplate\": \"tractce10=070900<br>NumRacks=%{marker.size}<br>Latitude=%{lat}<br>Longitude=%{lon}<extra></extra>\", \"lat\": [40.448419], \"legendgroup\": \"070900\", \"lon\": [-79.947401], \"marker\": {\"color\": \"#F6222E\", \"size\": [15], \"sizemode\": \"area\", \"sizeref\": 0.13777777777777778}, \"mode\": \"markers\", \"name\": \"070900\", \"showlegend\": true, \"subplot\": \"mapbox\", \"type\": \"scattermapbox\"}, {\"hovertemplate\": \"tractce10=982200<br>NumRacks=%{marker.size}<br>Latitude=%{lat}<br>Longitude=%{lon}<extra></extra>\", \"lat\": [40.446744, 40.442398, 40.445128, 40.44324426, 40.44301971, 40.44564886, 40.44424448], \"legendgroup\": \"982200\", \"lon\": [-79.950881, -79.951479, -79.957102, -79.95984256, -79.95331407, -79.95327652, -79.94895279], \"marker\": {\"color\": \"#1CFFCE\", \"size\": [8, 19, 21, 5, 7, 6, 5], \"sizemode\": \"area\", \"sizeref\": 0.13777777777777778}, \"mode\": \"markers\", \"name\": \"982200\", \"showlegend\": true, \"subplot\": \"mapbox\", \"type\": \"scattermapbox\"}, {\"hovertemplate\": \"tractce10=140100<br>NumRacks=%{marker.size}<br>Latitude=%{lat}<br>Longitude=%{lon}<extra></extra>\", \"lat\": [40.441032, 40.43775296], \"legendgroup\": \"140100\", \"lon\": [-79.948042, -79.93363738], \"marker\": {\"color\": \"#2ED9FF\", \"size\": [20, 6], \"sizemode\": \"area\", \"sizeref\": 0.13777777777777778}, \"mode\": \"markers\", \"name\": \"140100\", \"showlegend\": true, \"subplot\": \"mapbox\", \"type\": \"scattermapbox\"}, {\"hovertemplate\": \"tractce10=040600<br>NumRacks=%{marker.size}<br>Latitude=%{lat}<br>Longitude=%{lon}<extra></extra>\", \"lat\": [40.434338, 40.437987], \"legendgroup\": \"040600\", \"lon\": [-79.951877, -79.95367], \"marker\": {\"color\": \"#B10DA1\", \"size\": [19, 8], \"sizemode\": \"area\", \"sizeref\": 0.13777777777777778}, \"mode\": \"markers\", \"name\": \"040600\", \"showlegend\": true, \"subplot\": \"mapbox\", \"type\": \"scattermapbox\"}, {\"hovertemplate\": \"tractce10=040500<br>NumRacks=%{marker.size}<br>Latitude=%{lat}<br>Longitude=%{lon}<extra></extra>\", \"lat\": [40.442325, 40.435986, 40.43874918, 40.44136216], \"legendgroup\": \"040500\", \"lon\": [-79.957604, -79.956942, -79.95703161, -79.95555639], \"marker\": {\"color\": \"#C075A6\", \"size\": [19, 19, 5, 6], \"sizemode\": \"area\", \"sizeref\": 0.13777777777777778}, \"mode\": \"markers\", \"name\": \"040500\", \"showlegend\": true, \"subplot\": \"mapbox\", \"type\": \"scattermapbox\"}, {\"hovertemplate\": \"tractce10=050100<br>NumRacks=%{marker.size}<br>Latitude=%{lat}<br>Longitude=%{lon}<extra></extra>\", \"lat\": [40.445236], \"legendgroup\": \"050100\", \"lon\": [-79.976911], \"marker\": {\"color\": \"#FC1CBF\", \"size\": [12], \"sizemode\": \"area\", \"sizeref\": 0.13777777777777778}, \"mode\": \"markers\", \"name\": \"050100\", \"showlegend\": true, \"subplot\": \"mapbox\", \"type\": \"scattermapbox\"}, {\"hovertemplate\": \"tractce10=080400<br>NumRacks=%{marker.size}<br>Latitude=%{lat}<br>Longitude=%{lon}<extra></extra>\", \"lat\": [40.45351], \"legendgroup\": \"080400\", \"lon\": [-79.94747], \"marker\": {\"color\": \"#B00068\", \"size\": [13], \"sizemode\": \"area\", \"sizeref\": 0.13777777777777778}, \"mode\": \"markers\", \"name\": \"080400\", \"showlegend\": true, \"subplot\": \"mapbox\", \"type\": \"scattermapbox\"}, {\"hovertemplate\": \"tractce10=160900<br>NumRacks=%{marker.size}<br>Latitude=%{lat}<br>Longitude=%{lon}<extra></extra>\", \"lat\": [40.4279, 40.42802, 40.428576, 40.42708753], \"legendgroup\": \"160900\", \"lon\": [-79.966112, -79.969799, -79.974559, -79.96279836], \"marker\": {\"color\": \"#FBE426\", \"size\": [19, 19, 19, 13], \"sizemode\": \"area\", \"sizeref\": 0.13777777777777778}, \"mode\": \"markers\", \"name\": \"160900\", \"showlegend\": true, \"subplot\": \"mapbox\", \"type\": \"scattermapbox\"}, {\"hovertemplate\": \"tractce10=170200<br>NumRacks=%{marker.size}<br>Latitude=%{lat}<br>Longitude=%{lon}<extra></extra>\", \"lat\": [40.429338, 40.428661, 40.43128939], \"legendgroup\": \"170200\", \"lon\": [-79.980684, -79.986358, -79.99526918], \"marker\": {\"color\": \"#FA0087\", \"size\": [16, 19, 5], \"sizemode\": \"area\", \"sizeref\": 0.13777777777777778}, \"mode\": \"markers\", \"name\": \"170200\", \"showlegend\": true, \"subplot\": \"mapbox\", \"type\": \"scattermapbox\"}, {\"hovertemplate\": \"tractce10=120800<br>NumRacks=%{marker.size}<br>Latitude=%{lat}<br>Longitude=%{lon}<extra></extra>\", \"lat\": [40.45803, 40.46361735], \"legendgroup\": \"120800\", \"lon\": [-79.9112, -79.91746902], \"marker\": {\"color\": \"#AA0DFE\", \"size\": [5, 6], \"sizemode\": \"area\", \"sizeref\": 0.13777777777777778}, \"mode\": \"markers\", \"name\": \"120800\", \"showlegend\": true, \"subplot\": \"mapbox\", \"type\": \"scattermapbox\"}, {\"hovertemplate\": \"tractce10=060300<br>NumRacks=%{marker.size}<br>Latitude=%{lat}<br>Longitude=%{lon}<extra></extra>\", \"lat\": [40.4620256, 40.46490704, 40.462184, 40.46529884], \"legendgroup\": \"060300\", \"lon\": [-79.9681145, -79.96008396, -79.96162, -79.96527672], \"marker\": {\"color\": \"#3283FE\", \"size\": [6, 6, 6, 6], \"sizemode\": \"area\", \"sizeref\": 0.13777777777777778}, \"mode\": \"markers\", \"name\": \"060300\", \"showlegend\": true, \"subplot\": \"mapbox\", \"type\": \"scattermapbox\"}, {\"hovertemplate\": \"tractce10=101700<br>NumRacks=%{marker.size}<br>Latitude=%{lat}<br>Longitude=%{lon}<extra></extra>\", \"lat\": [40.46460503], \"legendgroup\": \"101700\", \"lon\": [-79.9387604], \"marker\": {\"color\": \"#85660D\", \"size\": [5], \"sizemode\": \"area\", \"sizeref\": 0.13777777777777778}, \"mode\": \"markers\", \"name\": \"101700\", \"showlegend\": true, \"subplot\": \"mapbox\", \"type\": \"scattermapbox\"}, {\"hovertemplate\": \"tractce10=130300<br>NumRacks=%{marker.size}<br>Latitude=%{lat}<br>Longitude=%{lon}<extra></extra>\", \"lat\": [40.45304583, 40.45668686], \"legendgroup\": \"130300\", \"lon\": [-79.89847898, -79.89813566], \"marker\": {\"color\": \"#782AB6\", \"size\": [8, 7], \"sizemode\": \"area\", \"sizeref\": 0.13777777777777778}, \"mode\": \"markers\", \"name\": \"130300\", \"showlegend\": true, \"subplot\": \"mapbox\", \"type\": \"scattermapbox\"}, {\"hovertemplate\": \"tractce10=140800<br>NumRacks=%{marker.size}<br>Latitude=%{lat}<br>Longitude=%{lon}<extra></extra>\", \"lat\": [40.4380532], \"legendgroup\": \"140800\", \"lon\": [-79.9229474], \"marker\": {\"color\": \"#565656\", \"size\": [5], \"sizemode\": \"area\", \"sizeref\": 0.13777777777777778}, \"mode\": \"markers\", \"name\": \"140800\", \"showlegend\": true, \"subplot\": \"mapbox\", \"type\": \"scattermapbox\"}, {\"hovertemplate\": \"tractce10=141300<br>NumRacks=%{marker.size}<br>Latitude=%{lat}<br>Longitude=%{lon}<extra></extra>\", \"lat\": [40.43531949, 40.43251029, 40.43791627], \"legendgroup\": \"141300\", \"lon\": [-79.92288709, -79.92733955, -79.92781162], \"marker\": {\"color\": \"#1C8356\", \"size\": [6, 5, 5], \"sizemode\": \"area\", \"sizeref\": 0.13777777777777778}, \"mode\": \"markers\", \"name\": \"141300\", \"showlegend\": true, \"subplot\": \"mapbox\", \"type\": \"scattermapbox\"}, {\"hovertemplate\": \"tractce10=980700<br>NumRacks=%{marker.size}<br>Latitude=%{lat}<br>Longitude=%{lon}<extra></extra>\", \"lat\": [40.43268995], \"legendgroup\": \"980700\", \"lon\": [-80.00302076], \"marker\": {\"color\": \"#16FF32\", \"size\": [10], \"sizemode\": \"area\", \"sizeref\": 0.13777777777777778}, \"mode\": \"markers\", \"name\": \"980700\", \"showlegend\": true, \"subplot\": \"mapbox\", \"type\": \"scattermapbox\"}, {\"hovertemplate\": \"tractce10=040900<br>NumRacks=%{marker.size}<br>Latitude=%{lat}<br>Longitude=%{lon}<extra></extra>\", \"lat\": [40.42968463], \"legendgroup\": \"040900\", \"lon\": [-79.95414019], \"marker\": {\"color\": \"#F7E1A0\", \"size\": [5], \"sizemode\": \"area\", \"sizeref\": 0.13777777777777778}, \"mode\": \"markers\", \"name\": \"040900\", \"showlegend\": true, \"subplot\": \"mapbox\", \"type\": \"scattermapbox\"}, {\"hovertemplate\": \"tractce10=040400<br>NumRacks=%{marker.size}<br>Latitude=%{lat}<br>Longitude=%{lon}<extra></extra>\", \"lat\": [40.446739], \"legendgroup\": \"040400\", \"lon\": [-79.94893], \"marker\": {\"color\": \"#E2E2E2\", \"size\": [6], \"sizemode\": \"area\", \"sizeref\": 0.13777777777777778}, \"mode\": \"markers\", \"name\": \"040400\", \"showlegend\": true, \"subplot\": \"mapbox\", \"type\": \"scattermapbox\"}, {\"hovertemplate\": \"tractce10=562000<br>NumRacks=%{marker.size}<br>Latitude=%{lat}<br>Longitude=%{lon}<extra></extra>\", \"lat\": [40.45186204], \"legendgroup\": \"562000\", \"lon\": [-79.95173693], \"marker\": {\"color\": \"#1CBE4F\", \"size\": [6], \"sizemode\": \"area\", \"sizeref\": 0.13777777777777778}, \"mode\": \"markers\", \"name\": \"562000\", \"showlegend\": true, \"subplot\": \"mapbox\", \"type\": \"scattermapbox\"}, {\"hovertemplate\": \"tractce10=120700<br>NumRacks=%{marker.size}<br>Latitude=%{lat}<br>Longitude=%{lon}<extra></extra>\", \"lat\": [40.45623787], \"legendgroup\": \"120700\", \"lon\": [-79.90505576], \"marker\": {\"color\": \"#C4451C\", \"size\": [6], \"sizemode\": \"area\", \"sizeref\": 0.13777777777777778}, \"mode\": \"markers\", \"name\": \"120700\", \"showlegend\": true, \"subplot\": \"mapbox\", \"type\": \"scattermapbox\"}, {\"hovertemplate\": \"tractce10=111300<br>NumRacks=%{marker.size}<br>Latitude=%{lat}<br>Longitude=%{lon}<extra></extra>\", \"lat\": [40.467715, 40.47122337], \"legendgroup\": \"111300\", \"lon\": [-79.92787, -79.92560189], \"marker\": {\"color\": \"#DEA0FD\", \"size\": [5, 6], \"sizemode\": \"area\", \"sizeref\": 0.13777777777777778}, \"mode\": \"markers\", \"name\": \"111300\", \"showlegend\": true, \"subplot\": \"mapbox\", \"type\": \"scattermapbox\"}, {\"hovertemplate\": \"tractce10=080700<br>NumRacks=%{marker.size}<br>Latitude=%{lat}<br>Longitude=%{lon}<extra></extra>\", \"lat\": [40.46150726], \"legendgroup\": \"080700\", \"lon\": [-79.93510187], \"marker\": {\"color\": \"#FE00FA\", \"size\": [5], \"sizemode\": \"area\", \"sizeref\": 0.13777777777777778}, \"mode\": \"markers\", \"name\": \"080700\", \"showlegend\": true, \"subplot\": \"mapbox\", \"type\": \"scattermapbox\"}, {\"hovertemplate\": \"tractce10=240600<br>NumRacks=%{marker.size}<br>Latitude=%{lat}<br>Longitude=%{lon}<extra></extra>\", \"lat\": [40.45379691], \"legendgroup\": \"240600\", \"lon\": [-79.99094009], \"marker\": {\"color\": \"#325A9B\", \"size\": [6], \"sizemode\": \"area\", \"sizeref\": 0.13777777777777778}, \"mode\": \"markers\", \"name\": \"240600\", \"showlegend\": true, \"subplot\": \"mapbox\", \"type\": \"scattermapbox\"}, {\"hovertemplate\": \"tractce10=250300<br>NumRacks=%{marker.size}<br>Latitude=%{lat}<br>Longitude=%{lon}<extra></extra>\", \"lat\": [40.45777261], \"legendgroup\": \"250300\", \"lon\": [-80.00945807], \"marker\": {\"color\": \"#FEAF16\", \"size\": [5], \"sizemode\": \"area\", \"sizeref\": 0.13777777777777778}, \"mode\": \"markers\", \"name\": \"250300\", \"showlegend\": true, \"subplot\": \"mapbox\", \"type\": \"scattermapbox\"}],                        {\"legend\": {\"itemsizing\": \"constant\", \"title\": {\"text\": \"tractce10\"}, \"tracegroupgap\": 0}, \"mapbox\": {\"center\": {\"lat\": 40.4482108569, \"lon\": -79.96373512509999}, \"domain\": {\"x\": [0.0, 1.0], \"y\": [0.0, 1.0]}, \"style\": \"carto-positron\", \"zoom\": 10}, \"margin\": {\"t\": 60}, \"template\": {\"data\": {\"bar\": [{\"error_x\": {\"color\": \"#2a3f5f\"}, \"error_y\": {\"color\": \"#2a3f5f\"}, \"marker\": {\"line\": {\"color\": \"#E5ECF6\", \"width\": 0.5}}, \"type\": \"bar\"}], \"barpolar\": [{\"marker\": {\"line\": {\"color\": \"#E5ECF6\", \"width\": 0.5}}, \"type\": \"barpolar\"}], \"carpet\": [{\"aaxis\": {\"endlinecolor\": \"#2a3f5f\", \"gridcolor\": \"white\", \"linecolor\": \"white\", \"minorgridcolor\": \"white\", \"startlinecolor\": \"#2a3f5f\"}, \"baxis\": {\"endlinecolor\": \"#2a3f5f\", \"gridcolor\": \"white\", \"linecolor\": \"white\", \"minorgridcolor\": \"white\", \"startlinecolor\": \"#2a3f5f\"}, \"type\": \"carpet\"}], \"choropleth\": [{\"colorbar\": {\"outlinewidth\": 0, \"ticks\": \"\"}, \"type\": \"choropleth\"}], \"contour\": [{\"colorbar\": {\"outlinewidth\": 0, \"ticks\": \"\"}, \"colorscale\": [[0.0, \"#0d0887\"], [0.1111111111111111, \"#46039f\"], [0.2222222222222222, \"#7201a8\"], [0.3333333333333333, \"#9c179e\"], [0.4444444444444444, \"#bd3786\"], [0.5555555555555556, \"#d8576b\"], [0.6666666666666666, \"#ed7953\"], [0.7777777777777778, \"#fb9f3a\"], [0.8888888888888888, \"#fdca26\"], [1.0, \"#f0f921\"]], \"type\": \"contour\"}], \"contourcarpet\": [{\"colorbar\": {\"outlinewidth\": 0, \"ticks\": \"\"}, \"type\": \"contourcarpet\"}], \"heatmap\": [{\"colorbar\": {\"outlinewidth\": 0, \"ticks\": \"\"}, \"colorscale\": [[0.0, \"#0d0887\"], [0.1111111111111111, \"#46039f\"], [0.2222222222222222, \"#7201a8\"], [0.3333333333333333, \"#9c179e\"], [0.4444444444444444, \"#bd3786\"], [0.5555555555555556, \"#d8576b\"], [0.6666666666666666, \"#ed7953\"], [0.7777777777777778, \"#fb9f3a\"], [0.8888888888888888, \"#fdca26\"], [1.0, \"#f0f921\"]], \"type\": \"heatmap\"}], \"heatmapgl\": [{\"colorbar\": {\"outlinewidth\": 0, \"ticks\": \"\"}, \"colorscale\": [[0.0, \"#0d0887\"], [0.1111111111111111, \"#46039f\"], [0.2222222222222222, \"#7201a8\"], [0.3333333333333333, \"#9c179e\"], [0.4444444444444444, \"#bd3786\"], [0.5555555555555556, \"#d8576b\"], [0.6666666666666666, \"#ed7953\"], [0.7777777777777778, \"#fb9f3a\"], [0.8888888888888888, \"#fdca26\"], [1.0, \"#f0f921\"]], \"type\": \"heatmapgl\"}], \"histogram\": [{\"marker\": {\"colorbar\": {\"outlinewidth\": 0, \"ticks\": \"\"}}, \"type\": \"histogram\"}], \"histogram2d\": [{\"colorbar\": {\"outlinewidth\": 0, \"ticks\": \"\"}, \"colorscale\": [[0.0, \"#0d0887\"], [0.1111111111111111, \"#46039f\"], [0.2222222222222222, \"#7201a8\"], [0.3333333333333333, \"#9c179e\"], [0.4444444444444444, \"#bd3786\"], [0.5555555555555556, \"#d8576b\"], [0.6666666666666666, \"#ed7953\"], [0.7777777777777778, \"#fb9f3a\"], [0.8888888888888888, \"#fdca26\"], [1.0, \"#f0f921\"]], \"type\": \"histogram2d\"}], \"histogram2dcontour\": [{\"colorbar\": {\"outlinewidth\": 0, \"ticks\": \"\"}, \"colorscale\": [[0.0, \"#0d0887\"], [0.1111111111111111, \"#46039f\"], [0.2222222222222222, \"#7201a8\"], [0.3333333333333333, \"#9c179e\"], [0.4444444444444444, \"#bd3786\"], [0.5555555555555556, \"#d8576b\"], [0.6666666666666666, \"#ed7953\"], [0.7777777777777778, \"#fb9f3a\"], [0.8888888888888888, \"#fdca26\"], [1.0, \"#f0f921\"]], \"type\": \"histogram2dcontour\"}], \"mesh3d\": [{\"colorbar\": {\"outlinewidth\": 0, \"ticks\": \"\"}, \"type\": \"mesh3d\"}], \"parcoords\": [{\"line\": {\"colorbar\": {\"outlinewidth\": 0, \"ticks\": \"\"}}, \"type\": \"parcoords\"}], \"pie\": [{\"automargin\": true, \"type\": \"pie\"}], \"scatter\": [{\"marker\": {\"colorbar\": {\"outlinewidth\": 0, \"ticks\": \"\"}}, \"type\": \"scatter\"}], \"scatter3d\": [{\"line\": {\"colorbar\": {\"outlinewidth\": 0, \"ticks\": \"\"}}, \"marker\": {\"colorbar\": {\"outlinewidth\": 0, \"ticks\": \"\"}}, \"type\": \"scatter3d\"}], \"scattercarpet\": [{\"marker\": {\"colorbar\": {\"outlinewidth\": 0, \"ticks\": \"\"}}, \"type\": \"scattercarpet\"}], \"scattergeo\": [{\"marker\": {\"colorbar\": {\"outlinewidth\": 0, \"ticks\": \"\"}}, \"type\": \"scattergeo\"}], \"scattergl\": [{\"marker\": {\"colorbar\": {\"outlinewidth\": 0, \"ticks\": \"\"}}, \"type\": \"scattergl\"}], \"scattermapbox\": [{\"marker\": {\"colorbar\": {\"outlinewidth\": 0, \"ticks\": \"\"}}, \"type\": \"scattermapbox\"}], \"scatterpolar\": [{\"marker\": {\"colorbar\": {\"outlinewidth\": 0, \"ticks\": \"\"}}, \"type\": \"scatterpolar\"}], \"scatterpolargl\": [{\"marker\": {\"colorbar\": {\"outlinewidth\": 0, \"ticks\": \"\"}}, \"type\": \"scatterpolargl\"}], \"scatterternary\": [{\"marker\": {\"colorbar\": {\"outlinewidth\": 0, \"ticks\": \"\"}}, \"type\": \"scatterternary\"}], \"surface\": [{\"colorbar\": {\"outlinewidth\": 0, \"ticks\": \"\"}, \"colorscale\": [[0.0, \"#0d0887\"], [0.1111111111111111, \"#46039f\"], [0.2222222222222222, \"#7201a8\"], [0.3333333333333333, \"#9c179e\"], [0.4444444444444444, \"#bd3786\"], [0.5555555555555556, \"#d8576b\"], [0.6666666666666666, \"#ed7953\"], [0.7777777777777778, \"#fb9f3a\"], [0.8888888888888888, \"#fdca26\"], [1.0, \"#f0f921\"]], \"type\": \"surface\"}], \"table\": [{\"cells\": {\"fill\": {\"color\": \"#EBF0F8\"}, \"line\": {\"color\": \"white\"}}, \"header\": {\"fill\": {\"color\": \"#C8D4E3\"}, \"line\": {\"color\": \"white\"}}, \"type\": \"table\"}]}, \"layout\": {\"annotationdefaults\": {\"arrowcolor\": \"#2a3f5f\", \"arrowhead\": 0, \"arrowwidth\": 1}, \"autotypenumbers\": \"strict\", \"coloraxis\": {\"colorbar\": {\"outlinewidth\": 0, \"ticks\": \"\"}}, \"colorscale\": {\"diverging\": [[0, \"#8e0152\"], [0.1, \"#c51b7d\"], [0.2, \"#de77ae\"], [0.3, \"#f1b6da\"], [0.4, \"#fde0ef\"], [0.5, \"#f7f7f7\"], [0.6, \"#e6f5d0\"], [0.7, \"#b8e186\"], [0.8, \"#7fbc41\"], [0.9, \"#4d9221\"], [1, \"#276419\"]], \"sequential\": [[0.0, \"#0d0887\"], [0.1111111111111111, \"#46039f\"], [0.2222222222222222, \"#7201a8\"], [0.3333333333333333, \"#9c179e\"], [0.4444444444444444, \"#bd3786\"], [0.5555555555555556, \"#d8576b\"], [0.6666666666666666, \"#ed7953\"], [0.7777777777777778, \"#fb9f3a\"], [0.8888888888888888, \"#fdca26\"], [1.0, \"#f0f921\"]], \"sequentialminus\": [[0.0, \"#0d0887\"], [0.1111111111111111, \"#46039f\"], [0.2222222222222222, \"#7201a8\"], [0.3333333333333333, \"#9c179e\"], [0.4444444444444444, \"#bd3786\"], [0.5555555555555556, \"#d8576b\"], [0.6666666666666666, \"#ed7953\"], [0.7777777777777778, \"#fb9f3a\"], [0.8888888888888888, \"#fdca26\"], [1.0, \"#f0f921\"]]}, \"colorway\": [\"#636efa\", \"#EF553B\", \"#00cc96\", \"#ab63fa\", \"#FFA15A\", \"#19d3f3\", \"#FF6692\", \"#B6E880\", \"#FF97FF\", \"#FECB52\"], \"font\": {\"color\": \"#2a3f5f\"}, \"geo\": {\"bgcolor\": \"white\", \"lakecolor\": \"white\", \"landcolor\": \"#E5ECF6\", \"showlakes\": true, \"showland\": true, \"subunitcolor\": \"white\"}, \"hoverlabel\": {\"align\": \"left\"}, \"hovermode\": \"closest\", \"mapbox\": {\"style\": \"light\"}, \"paper_bgcolor\": \"white\", \"plot_bgcolor\": \"#E5ECF6\", \"polar\": {\"angularaxis\": {\"gridcolor\": \"white\", \"linecolor\": \"white\", \"ticks\": \"\"}, \"bgcolor\": \"#E5ECF6\", \"radialaxis\": {\"gridcolor\": \"white\", \"linecolor\": \"white\", \"ticks\": \"\"}}, \"scene\": {\"xaxis\": {\"backgroundcolor\": \"#E5ECF6\", \"gridcolor\": \"white\", \"gridwidth\": 2, \"linecolor\": \"white\", \"showbackground\": true, \"ticks\": \"\", \"zerolinecolor\": \"white\"}, \"yaxis\": {\"backgroundcolor\": \"#E5ECF6\", \"gridcolor\": \"white\", \"gridwidth\": 2, \"linecolor\": \"white\", \"showbackground\": true, \"ticks\": \"\", \"zerolinecolor\": \"white\"}, \"zaxis\": {\"backgroundcolor\": \"#E5ECF6\", \"gridcolor\": \"white\", \"gridwidth\": 2, \"linecolor\": \"white\", \"showbackground\": true, \"ticks\": \"\", \"zerolinecolor\": \"white\"}}, \"shapedefaults\": {\"line\": {\"color\": \"#2a3f5f\"}}, \"ternary\": {\"aaxis\": {\"gridcolor\": \"white\", \"linecolor\": \"white\", \"ticks\": \"\"}, \"baxis\": {\"gridcolor\": \"white\", \"linecolor\": \"white\", \"ticks\": \"\"}, \"bgcolor\": \"#E5ECF6\", \"caxis\": {\"gridcolor\": \"white\", \"linecolor\": \"white\", \"ticks\": \"\"}}, \"title\": {\"x\": 0.05}, \"xaxis\": {\"automargin\": true, \"gridcolor\": \"white\", \"linecolor\": \"white\", \"ticks\": \"\", \"title\": {\"standoff\": 15}, \"zerolinecolor\": \"white\", \"zerolinewidth\": 2}, \"yaxis\": {\"automargin\": true, \"gridcolor\": \"white\", \"linecolor\": \"white\", \"ticks\": \"\", \"title\": {\"standoff\": 15}, \"zerolinecolor\": \"white\", \"zerolinewidth\": 2}}}},                        {\"responsive\": true}                    ).then(function(){\n",
       "                            \n",
       "var gd = document.getElementById('66c2c27f-0c25-4b3d-a022-acf6be937236');\n",
       "var x = new MutationObserver(function (mutations, observer) {{\n",
       "        var display = window.getComputedStyle(gd).display;\n",
       "        if (!display || display === 'none') {{\n",
       "            console.log([gd, 'removed!']);\n",
       "            Plotly.purge(gd);\n",
       "            observer.disconnect();\n",
       "        }}\n",
       "}});\n",
       "\n",
       "// Listen for the removal of the full notebook cells\n",
       "var notebookContainer = gd.closest('#notebook-container');\n",
       "if (notebookContainer) {{\n",
       "    x.observe(notebookContainer, {childList: true});\n",
       "}}\n",
       "\n",
       "// Listen for the clearing of the current output cell\n",
       "var outputEl = gd.closest('.output');\n",
       "if (outputEl) {{\n",
       "    x.observe(outputEl, {childList: true});\n",
       "}}\n",
       "\n",
       "                        })                };                });            </script>        </div>"
      ]
     },
     "metadata": {},
     "output_type": "display_data"
    }
   ],
   "source": [
    "df['tractce10'] = df.tractce10.astype(str)\n",
    "\n",
    "fig = px.scatter_mapbox(df, lat=\"Latitude\", lon=\"Longitude\", color=\"tractce10\", size=\"NumRacks\",\n",
    "                color_discrete_sequence=px.colors.qualitative.Alphabet, size_max=15, zoom=10,\n",
    "                  mapbox_style=\"carto-positron\")\n",
    "fig.show()"
   ]
  },
  {
   "cell_type": "code",
   "execution_count": 11,
   "metadata": {},
   "outputs": [],
   "source": [
    "df.to_csv('../Data/stations_census_tracts.csv', index=False)"
   ]
  },
  {
   "cell_type": "code",
   "execution_count": 85,
   "metadata": {},
   "outputs": [
    {
     "data": {
      "text/html": [
       "<div>\n",
       "<style scoped>\n",
       "    .dataframe tbody tr th:only-of-type {\n",
       "        vertical-align: middle;\n",
       "    }\n",
       "\n",
       "    .dataframe tbody tr th {\n",
       "        vertical-align: top;\n",
       "    }\n",
       "\n",
       "    .dataframe thead th {\n",
       "        text-align: right;\n",
       "    }\n",
       "</style>\n",
       "<table border=\"1\" class=\"dataframe\">\n",
       "  <thead>\n",
       "    <tr style=\"text-align: right;\">\n",
       "      <th></th>\n",
       "      <th>Station #</th>\n",
       "      <th>Station_Name</th>\n",
       "      <th>NumRacks</th>\n",
       "      <th>Latitude</th>\n",
       "      <th>Longitude</th>\n",
       "      <th>coordinates</th>\n",
       "      <th>tractce10</th>\n",
       "      <th>TractIncomeLevel</th>\n",
       "      <th>2015_tract_med_hhincome</th>\n",
       "    </tr>\n",
       "  </thead>\n",
       "  <tbody>\n",
       "    <tr>\n",
       "      <th>0</th>\n",
       "      <td>1000</td>\n",
       "      <td>Liberty Ave &amp; Stanwix St</td>\n",
       "      <td>16</td>\n",
       "      <td>40.441326</td>\n",
       "      <td>-80.004679</td>\n",
       "      <td>POINT (-80.00467900000001 40.441326)</td>\n",
       "      <td>020100</td>\n",
       "      <td>Upper</td>\n",
       "      <td>67750.0</td>\n",
       "    </tr>\n",
       "  </tbody>\n",
       "</table>\n",
       "</div>"
      ],
      "text/plain": [
       "   Station #              Station_Name  NumRacks   Latitude  Longitude  \\\n",
       "0       1000  Liberty Ave & Stanwix St        16  40.441326 -80.004679   \n",
       "\n",
       "                            coordinates tractce10 TractIncomeLevel  \\\n",
       "0  POINT (-80.00467900000001 40.441326)    020100            Upper   \n",
       "\n",
       "   2015_tract_med_hhincome  \n",
       "0                  67750.0  "
      ]
     },
     "execution_count": 85,
     "metadata": {},
     "output_type": "execute_result"
    }
   ],
   "source": [
    "inc_df = pd.read_csv('../Data/IncomeCensusData.csv')\n",
    "inc_df = inc_df.rename(columns={\"CensusTract\": \"tractce10\", '2015TractMedianHouseHoldIncome': '2015_tract_med_hhincome'})\n",
    "inc_df = inc_df.astype({'tractce10': 'str'})\n",
    "\n",
    "for i in range(len(inc_df)):\n",
    "    tract = inc_df.loc[i]['tractce10']\n",
    "    if len(tract) == 5:\n",
    "        inc_df.at[i,'tractce10'] = str(0) + inc_df.loc[i]['tractce10']\n",
    "\n",
    "combo_df = df.merge(inc_df, on='tractce10')\n",
    "combo_df.head(1)"
   ]
  },
  {
   "cell_type": "code",
   "execution_count": 86,
   "metadata": {},
   "outputs": [
    {
     "data": {
      "application/vnd.plotly.v1+json": {
       "config": {
        "plotlyServerURL": "https://plot.ly"
       },
       "data": [
        {
         "customdata": [
          [
           "020100",
           67750,
           40.441326,
           -80.00467900000001
          ],
          [
           "020100",
           67750,
           40.440877,
           -80.00308000000001
          ],
          [
           "020100",
           67750,
           40.43903,
           -80.00186
          ],
          [
           "020100",
           67750,
           40.4372,
           -80.000375
          ],
          [
           "020100",
           67750,
           40.435887,
           -79.997102
          ],
          [
           "020100",
           67750,
           40.438882,
           -79.997592
          ],
          [
           "020100",
           67750,
           40.440193,
           -79.99508399999999
          ],
          [
           "020100",
           67750,
           40.440368,
           -79.988636
          ],
          [
           "020100",
           67750,
           40.444665,
           -79.995798
          ],
          [
           "020100",
           67750,
           40.444777,
           -80.000831
          ],
          [
           "020100",
           67750,
           40.43866,
           -79.9997
          ],
          [
           "020100",
           67750,
           40.44197,
           -79.9997
          ],
          [
           "020100",
           67750,
           40.44475071,
           -79.99391198
          ],
          [
           "020100",
           67750,
           40.44170511,
           -79.99510288
          ],
          [
           "020100",
           67750,
           40.44353412,
           -79.99839664
          ],
          [
           "020100",
           67750,
           40.44193373,
           -80.00207126
          ],
          [
           "020100",
           67750,
           40.44001486,
           -80.00447989
          ],
          [
           "020100",
           67750,
           40.43766313,
           -79.99629378
          ]
         ],
         "hovertemplate": "<b>%{hovertext}</b><br><br>tractce10=%{customdata[0]}<br>NumRacks=%{marker.size}<br>2015_tract_med_hhincome=%{customdata[1]}<extra></extra>",
         "hovertext": [
          "Liberty Ave & Stanwix St",
          "Forbes Ave & Market Square",
          "Third Ave & Wood St",
          "First Ave & Smithfield St (Art Institute)",
          "First Ave & B St (T Station)",
          "Forbes Ave & Grant St",
          "Ross St & Sixth Ave (Steel Plaza T Station)",
          "Centre Ave & PPG Paints Arena",
          "10th St & Penn Ave (David L. Lawrence Convention Center)",
          "Fort Duquesne Blvd & 7th",
          "Smithfield St & Fourth Ave",
          "Wood St & Sixth Ave",
          "11th St & Penn Ave",
          "Grant St & Strawberry Way",
          "9th St & Penn Ave",
          "Liberty Ave & 6th St",
          "Third Ave & Stanwix St",
          "Ross St & Fourth Ave"
         ],
         "lat": [
          40.441326,
          40.440877,
          40.43903,
          40.4372,
          40.435887,
          40.438882,
          40.440193,
          40.440368,
          40.444665,
          40.444777,
          40.43866,
          40.44197,
          40.44475071,
          40.44170511,
          40.44353412,
          40.44193373,
          40.44001486,
          40.43766313
         ],
         "legendgroup": "020100",
         "lon": [
          -80.00467900000001,
          -80.00308000000001,
          -80.00186,
          -80.000375,
          -79.997102,
          -79.997592,
          -79.99508399999999,
          -79.988636,
          -79.995798,
          -80.000831,
          -79.9997,
          -79.9997,
          -79.99391198,
          -79.99510288,
          -79.99839664,
          -80.00207126,
          -80.00447989,
          -79.99629378
         ],
         "marker": {
          "color": "#AA0DFE",
          "size": [
           16,
           19,
           15,
           15,
           15,
           13,
           7,
           5,
           15,
           15,
           6,
           7,
           6,
           7,
           5,
           6,
           5,
           7
          ],
          "sizemode": "area",
          "sizeref": 0.13777777777777778
         },
         "mode": "markers",
         "name": "020100",
         "showlegend": true,
         "subplot": "mapbox",
         "type": "scattermapbox"
        },
        {
         "customdata": [
          [
           "010300",
           41071,
           40.437643,
           -79.986695
          ],
          [
           "010300",
           41071,
           40.4377657,
           -79.9906531
          ],
          [
           "010300",
           41071,
           40.43829598,
           -79.98117685
          ]
         ],
         "hovertemplate": "<b>%{hovertext}</b><br><br>tractce10=%{customdata[0]}<br>NumRacks=%{marker.size}<br>2015_tract_med_hhincome=%{customdata[1]}<extra></extra>",
         "hovertext": [
          "Stevenson St & Forbes Ave",
          "McNulty Dr & Forbes Ave",
          "Fifth Ave & Miltenberger"
         ],
         "lat": [
          40.437643,
          40.4377657,
          40.43829598
         ],
         "legendgroup": "010300",
         "lon": [
          -79.986695,
          -79.9906531,
          -79.98117685
         ],
         "marker": {
          "color": "#3283FE",
          "size": [
           15,
           6,
           6
          ],
          "sizemode": "area",
          "sizeref": 0.13777777777777778
         },
         "mode": "markers",
         "name": "010300",
         "showlegend": true,
         "subplot": "mapbox",
         "type": "scattermapbox"
        },
        {
         "customdata": [
          [
           "020300",
           94643,
           40.445844,
           -79.99238000000001
          ],
          [
           "020300",
           94643,
           40.449631,
           -79.985893
          ],
          [
           "020300",
           94643,
           40.451742,
           -79.98321700000001
          ],
          [
           "020300",
           94643,
           40.45632767,
           -79.98021126
          ],
          [
           "020300",
           94643,
           40.45814812,
           -79.97383833
          ],
          [
           "020300",
           94643,
           40.46011138,
           -79.97276008
          ],
          [
           "020300",
           94643,
           40.45400101,
           -79.98171329
          ],
          [
           "020300",
           94643,
           40.447208,
           -79.989725
          ]
         ],
         "hovertemplate": "<b>%{hovertext}</b><br><br>tractce10=%{customdata[0]}<br>NumRacks=%{marker.size}<br>2015_tract_med_hhincome=%{customdata[1]}<extra></extra>",
         "hovertext": [
          "12th St & Penn Ave",
          "17th St & Penn Ave",
          "21st St & Penn Ave",
          "Burns White Centre at 3 Crossings",
          "Penn Ave and 29th St",
          "Smallman St & 31st St",
          "24th St & Smallman St",
          "14th St & Penn Ave"
         ],
         "lat": [
          40.445844,
          40.449631,
          40.451742,
          40.45632767,
          40.45814812,
          40.46011138,
          40.45400101,
          40.447208
         ],
         "legendgroup": "020300",
         "lon": [
          -79.99238000000001,
          -79.985893,
          -79.98321700000001,
          -79.98021126,
          -79.97383833,
          -79.97276008,
          -79.98171329,
          -79.989725
         ],
         "marker": {
          "color": "#85660D",
          "size": [
           19,
           19,
           18,
           12,
           8,
           6,
           6,
           6
          ],
          "sizemode": "area",
          "sizeref": 0.13777777777777778
         },
         "mode": "markers",
         "name": "020300",
         "showlegend": true,
         "subplot": "mapbox",
         "type": "scattermapbox"
        },
        {
         "customdata": [
          [
           "981200",
           0,
           40.445834000000005,
           -80.008882
          ],
          [
           "981200",
           0,
           40.44741245,
           -80.01206517
          ]
         ],
         "hovertemplate": "<b>%{hovertext}</b><br><br>tractce10=%{customdata[0]}<br>NumRacks=%{marker.size}<br>2015_tract_med_hhincome=%{customdata[1]}<extra></extra>",
         "hovertext": [
          "North Shore Trail & Ft Duquesne Bridge",
          "W General Robinson St & Chuck Noll Way"
         ],
         "lat": [
          40.445834000000005,
          40.44741245
         ],
         "legendgroup": "981200",
         "lon": [
          -80.008882,
          -80.01206517
         ],
         "marker": {
          "color": "#782AB6",
          "size": [
           31,
           5
          ],
          "sizemode": "area",
          "sizeref": 0.13777777777777778
         },
         "mode": "markers",
         "name": "981200",
         "showlegend": true,
         "subplot": "mapbox",
         "type": "scattermapbox"
        },
        {
         "customdata": [
          [
           "563200",
           30543,
           40.447166,
           -80.003566
          ]
         ],
         "hovertemplate": "<b>%{hovertext}</b><br><br>tractce10=%{customdata[0]}<br>NumRacks=%{marker.size}<br>2015_tract_med_hhincome=%{customdata[1]}<extra></extra>",
         "hovertext": [
          "Isabella St & Federal St (PNC Park)"
         ],
         "lat": [
          40.447166
         ],
         "legendgroup": "563200",
         "lon": [
          -80.003566
         ],
         "marker": {
          "color": "#565656",
          "size": [
           15
          ],
          "sizemode": "area",
          "sizeref": 0.13777777777777778
         },
         "mode": "markers",
         "name": "563200",
         "showlegend": true,
         "subplot": "mapbox",
         "type": "scattermapbox"
        },
        {
         "customdata": [
          [
           "562700",
           33938,
           40.450595,
           -80.013204
          ],
          [
           "562700",
           33938,
           40.45509087,
           -80.00634670000001
          ]
         ],
         "hovertemplate": "<b>%{hovertext}</b><br><br>tractce10=%{customdata[0]}<br>NumRacks=%{marker.size}<br>2015_tract_med_hhincome=%{customdata[1]}<extra></extra>",
         "hovertext": [
          "Ridge Ave & Brighton Rd (CCAC)",
          "Federal St & E North Ave"
         ],
         "lat": [
          40.450595,
          40.45509087
         ],
         "legendgroup": "562700",
         "lon": [
          -80.013204,
          -80.00634670000001
         ],
         "marker": {
          "color": "#1C8356",
          "size": [
           19,
           12
          ],
          "sizemode": "area",
          "sizeref": 0.13777777777777778
         },
         "mode": "markers",
         "name": "562700",
         "showlegend": true,
         "subplot": "mapbox",
         "type": "scattermapbox"
        },
        {
         "customdata": [
          [
           "981000",
           0,
           40.47815,
           -79.9557
          ]
         ],
         "hovertemplate": "<b>%{hovertext}</b><br><br>tractce10=%{customdata[0]}<br>NumRacks=%{marker.size}<br>2015_tract_med_hhincome=%{customdata[1]}<extra></extra>",
         "hovertext": [
          "Butler St & Stanton Ave"
         ],
         "lat": [
          40.47815
         ],
         "legendgroup": "981000",
         "lon": [
          -79.9557
         ],
         "marker": {
          "color": "#16FF32",
          "size": [
           5
          ],
          "sizemode": "area",
          "sizeref": 0.13777777777777778
         },
         "mode": "markers",
         "name": "981000",
         "showlegend": true,
         "subplot": "mapbox",
         "type": "scattermapbox"
        },
        {
         "customdata": [
          [
           "090100",
           50781,
           40.47021248,
           -79.96066332
          ],
          [
           "090100",
           50781,
           40.47603982,
           -79.95763779
          ]
         ],
         "hovertemplate": "<b>%{hovertext}</b><br><br>tractce10=%{customdata[0]}<br>NumRacks=%{marker.size}<br>2015_tract_med_hhincome=%{customdata[1]}<extra></extra>",
         "hovertext": [
          "42nd St & Butler St",
          "Butler St & 48th St"
         ],
         "lat": [
          40.47021248,
          40.47603982
         ],
         "legendgroup": "090100",
         "lon": [
          -79.96066332,
          -79.95763779
         ],
         "marker": {
          "color": "#F7E1A0",
          "size": [
           17,
           6
          ],
          "sizemode": "area",
          "sizeref": 0.13777777777777778
         },
         "mode": "markers",
         "name": "090100",
         "showlegend": true,
         "subplot": "mapbox",
         "type": "scattermapbox"
        },
        {
         "customdata": [
          [
           "090200",
           53724,
           40.465893,
           -79.954417
          ]
         ],
         "hovertemplate": "<b>%{hovertext}</b><br><br>tractce10=%{customdata[0]}<br>NumRacks=%{marker.size}<br>2015_tract_med_hhincome=%{customdata[1]}<extra></extra>",
         "hovertext": [
          "42nd St & Penn Ave (Children's Hospital)"
         ],
         "lat": [
          40.465893
         ],
         "legendgroup": "090200",
         "lon": [
          -79.954417
         ],
         "marker": {
          "color": "#E2E2E2",
          "size": [
           8
          ],
          "sizemode": "area",
          "sizeref": 0.13777777777777778
         },
         "mode": "markers",
         "name": "090200",
         "showlegend": true,
         "subplot": "mapbox",
         "type": "scattermapbox"
        },
        {
         "customdata": [
          [
           "090300",
           33816,
           40.462769,
           -79.950867
          ]
         ],
         "hovertemplate": "<b>%{hovertext}</b><br><br>tractce10=%{customdata[0]}<br>NumRacks=%{marker.size}<br>2015_tract_med_hhincome=%{customdata[1]}<extra></extra>",
         "hovertext": [
          "Taylor St & Liberty Ave"
         ],
         "lat": [
          40.462769
         ],
         "legendgroup": "090300",
         "lon": [
          -79.950867
         ],
         "marker": {
          "color": "#1CBE4F",
          "size": [
           19
          ],
          "sizemode": "area",
          "sizeref": 0.13777777777777778
         },
         "mode": "markers",
         "name": "090300",
         "showlegend": true,
         "subplot": "mapbox",
         "type": "scattermapbox"
        },
        {
         "customdata": [
          [
           "080900",
           49750,
           40.459812,
           -79.945548
          ],
          [
           "080900",
           49750,
           40.46473563,
           -79.94282663
          ]
         ],
         "hovertemplate": "<b>%{hovertext}</b><br><br>tractce10=%{customdata[0]}<br>NumRacks=%{marker.size}<br>2015_tract_med_hhincome=%{customdata[1]}<extra></extra>",
         "hovertext": [
          "Liberty Ave & S Millvale (West Penn Hospital)",
          "S Winebiddle St & Penn Ave"
         ],
         "lat": [
          40.459812,
          40.46473563
         ],
         "legendgroup": "080900",
         "lon": [
          -79.945548,
          -79.94282663
         ],
         "marker": {
          "color": "#C4451C",
          "size": [
           15,
           5
          ],
          "sizemode": "area",
          "sizeref": 0.13777777777777778
         },
         "mode": "markers",
         "name": "080900",
         "showlegend": true,
         "subplot": "mapbox",
         "type": "scattermapbox"
        },
        {
         "customdata": [
          [
           "080600",
           51509,
           40.456505,
           -79.939362
          ]
         ],
         "hovertemplate": "<b>%{hovertext}</b><br><br>tractce10=%{customdata[0]}<br>NumRacks=%{marker.size}<br>2015_tract_med_hhincome=%{customdata[1]}<extra></extra>",
         "hovertext": [
          "Liberty Ave & Baum Blvd"
         ],
         "lat": [
          40.456505
         ],
         "legendgroup": "080600",
         "lon": [
          -79.939362
         ],
         "marker": {
          "color": "#DEA0FD",
          "size": [
           15
          ],
          "sizemode": "area",
          "sizeref": 0.13777777777777778
         },
         "mode": "markers",
         "name": "080600",
         "showlegend": true,
         "subplot": "mapbox",
         "type": "scattermapbox"
        },
        {
         "customdata": [
          [
           "111500",
           24308,
           40.458714,
           -79.933483
          ],
          [
           "111500",
           24308,
           40.461603,
           -79.925624
          ],
          [
           "111500",
           24308,
           40.46089095,
           -79.91583824
          ]
         ],
         "hovertemplate": "<b>%{hovertext}</b><br><br>tractce10=%{customdata[0]}<br>NumRacks=%{marker.size}<br>2015_tract_med_hhincome=%{customdata[1]}<extra></extra>",
         "hovertext": [
          "S Negley Ave & Baum Blvd",
          "Penn Ave & S Whitfield St",
          "Frankstown Ave & E Liberty Blvd"
         ],
         "lat": [
          40.458714,
          40.461603,
          40.46089095
         ],
         "legendgroup": "111500",
         "lon": [
          -79.933483,
          -79.925624,
          -79.91583824
         ],
         "marker": {
          "color": "#FE00FA",
          "size": [
           17,
           13,
           6
          ],
          "sizemode": "area",
          "sizeref": 0.13777777777777778
         },
         "mode": "markers",
         "name": "111500",
         "showlegend": true,
         "subplot": "mapbox",
         "type": "scattermapbox"
        },
        {
         "customdata": [
          [
           "111400",
           21154,
           40.464443,
           -79.933188
          ]
         ],
         "hovertemplate": "<b>%{hovertext}</b><br><br>tractce10=%{customdata[0]}<br>NumRacks=%{marker.size}<br>2015_tract_med_hhincome=%{customdata[1]}<extra></extra>",
         "hovertext": [
          "Penn Ave & N Fairmount St"
         ],
         "lat": [
          40.464443
         ],
         "legendgroup": "111400",
         "lon": [
          -79.933188
         ],
         "marker": {
          "color": "#325A9B",
          "size": [
           15
          ],
          "sizemode": "area",
          "sizeref": 0.13777777777777778
         },
         "mode": "markers",
         "name": "111400",
         "showlegend": true,
         "subplot": "mapbox",
         "type": "scattermapbox"
        },
        {
         "customdata": [
          [
           "070800",
           51703,
           40.458972,
           -79.922023
          ],
          [
           "070800",
           51703,
           40.455821,
           -79.91524799999999
          ],
          [
           "070800",
           51703,
           40.457415000000005,
           -79.92492
          ]
         ],
         "hovertemplate": "<b>%{hovertext}</b><br><br>tractce10=%{customdata[0]}<br>NumRacks=%{marker.size}<br>2015_tract_med_hhincome=%{customdata[1]}<extra></extra>",
         "hovertext": [
          "Shady Ave & Ellsworth Ave",
          "Penn Ave & Putnam St (Bakery Square)",
          "Alder St & S Higland Ave"
         ],
         "lat": [
          40.458972,
          40.455821,
          40.457415000000005
         ],
         "legendgroup": "070800",
         "lon": [
          -79.922023,
          -79.91524799999999,
          -79.92492
         ],
         "marker": {
          "color": "#FEAF16",
          "size": [
           19,
           8,
           19
          ],
          "sizemode": "area",
          "sizeref": 0.13777777777777778
         },
         "mode": "markers",
         "name": "070800",
         "showlegend": true,
         "subplot": "mapbox",
         "type": "scattermapbox"
        },
        {
         "customdata": [
          [
           "070500",
           51250,
           40.45628,
           -79.930962
          ],
          [
           "070500",
           51250,
           40.453382,
           -79.92730999999999
          ]
         ],
         "hovertemplate": "<b>%{hovertext}</b><br><br>tractce10=%{customdata[0]}<br>NumRacks=%{marker.size}<br>2015_tract_med_hhincome=%{customdata[1]}<extra></extra>",
         "hovertext": [
          "Maryland Ave & Ellsworth Ave",
          "Walnut St & College St"
         ],
         "lat": [
          40.45628,
          40.453382
         ],
         "legendgroup": "070500",
         "lon": [
          -79.930962,
          -79.92730999999999
         ],
         "marker": {
          "color": "#F8A19F",
          "size": [
           19,
           14
          ],
          "sizemode": "area",
          "sizeref": 0.13777777777777778
         },
         "mode": "markers",
         "name": "070500",
         "showlegend": true,
         "subplot": "mapbox",
         "type": "scattermapbox"
        },
        {
         "customdata": [
          [
           "070300",
           54821,
           40.45177,
           -79.932324
          ]
         ],
         "hovertemplate": "<b>%{hovertext}</b><br><br>tractce10=%{customdata[0]}<br>NumRacks=%{marker.size}<br>2015_tract_med_hhincome=%{customdata[1]}<extra></extra>",
         "hovertext": [
          "Ivy St & Walnut St"
         ],
         "lat": [
          40.45177
         ],
         "legendgroup": "070300",
         "lon": [
          -79.932324
         ],
         "marker": {
          "color": "#90AD1C",
          "size": [
           19
          ],
          "sizemode": "area",
          "sizeref": 0.13777777777777778
         },
         "mode": "markers",
         "name": "070300",
         "showlegend": true,
         "subplot": "mapbox",
         "type": "scattermapbox"
        },
        {
         "customdata": [
          [
           "070900",
           33929,
           40.448419,
           -79.947401
          ]
         ],
         "hovertemplate": "<b>%{hovertext}</b><br><br>tractce10=%{customdata[0]}<br>NumRacks=%{marker.size}<br>2015_tract_med_hhincome=%{customdata[1]}<extra></extra>",
         "hovertext": [
          "Ellsworth Ave & N Neville St"
         ],
         "lat": [
          40.448419
         ],
         "legendgroup": "070900",
         "lon": [
          -79.947401
         ],
         "marker": {
          "color": "#F6222E",
          "size": [
           15
          ],
          "sizemode": "area",
          "sizeref": 0.13777777777777778
         },
         "mode": "markers",
         "name": "070900",
         "showlegend": true,
         "subplot": "mapbox",
         "type": "scattermapbox"
        },
        {
         "customdata": [
          [
           "982200",
           0,
           40.446744,
           -79.95088100000001
          ],
          [
           "982200",
           0,
           40.442398,
           -79.951479
          ],
          [
           "982200",
           0,
           40.445128,
           -79.957102
          ],
          [
           "982200",
           0,
           40.44324426,
           -79.95984256
          ],
          [
           "982200",
           0,
           40.44301971,
           -79.95331407
          ],
          [
           "982200",
           0,
           40.44564886,
           -79.95327652
          ],
          [
           "982200",
           0,
           40.44424448,
           -79.94895279
          ]
         ],
         "hovertemplate": "<b>%{hovertext}</b><br><br>tractce10=%{customdata[0]}<br>NumRacks=%{marker.size}<br>2015_tract_med_hhincome=%{customdata[1]}<extra></extra>",
         "hovertext": [
          "Fifth Ave & S Dithridge St",
          "Schenley Dr at Schenley Plaza (Carnegie Library Main)",
          "O'Hara St and University Place (Soldiers and Sailors Memorial)",
          "O'Hara St & Desoto St",
          "Schenley Dr & Forbes Ave (Schenley Plaza)",
          "Tennyson Ave & Fifth Ave",
          "Forbes Ave & S Craig St"
         ],
         "lat": [
          40.446744,
          40.442398,
          40.445128,
          40.44324426,
          40.44301971,
          40.44564886,
          40.44424448
         ],
         "legendgroup": "982200",
         "lon": [
          -79.95088100000001,
          -79.951479,
          -79.957102,
          -79.95984256,
          -79.95331407,
          -79.95327652,
          -79.94895279
         ],
         "marker": {
          "color": "#1CFFCE",
          "size": [
           8,
           19,
           21,
           5,
           7,
           6,
           5
          ],
          "sizemode": "area",
          "sizeref": 0.13777777777777778
         },
         "mode": "markers",
         "name": "982200",
         "showlegend": true,
         "subplot": "mapbox",
         "type": "scattermapbox"
        },
        {
         "customdata": [
          [
           "140100",
           119688,
           40.441032,
           -79.948042
          ],
          [
           "140100",
           119688,
           40.43775296,
           -79.93363738
          ]
         ],
         "hovertemplate": "<b>%{hovertext}</b><br><br>tractce10=%{customdata[0]}<br>NumRacks=%{marker.size}<br>2015_tract_med_hhincome=%{customdata[1]}<extra></extra>",
         "hovertext": [
          "Frew St & Schenley Dr",
          "Schenley Dr & Forbes Ave (Squirrel Hill)"
         ],
         "lat": [
          40.441032,
          40.43775296
         ],
         "legendgroup": "140100",
         "lon": [
          -79.948042,
          -79.93363738
         ],
         "marker": {
          "color": "#2ED9FF",
          "size": [
           20,
           6
          ],
          "sizemode": "area",
          "sizeref": 0.13777777777777778
         },
         "mode": "markers",
         "name": "140100",
         "showlegend": true,
         "subplot": "mapbox",
         "type": "scattermapbox"
        },
        {
         "customdata": [
          [
           "040600",
           21277,
           40.434338,
           -79.951877
          ],
          [
           "040600",
           21277,
           40.437987,
           -79.95366999999999
          ]
         ],
         "hovertemplate": "<b>%{hovertext}</b><br><br>tractce10=%{customdata[0]}<br>NumRacks=%{marker.size}<br>2015_tract_med_hhincome=%{customdata[1]}<extra></extra>",
         "hovertext": [
          "Boulevard of the Allies & Parkview Ave",
          "Atwood St & Bates"
         ],
         "lat": [
          40.434338,
          40.437987
         ],
         "legendgroup": "040600",
         "lon": [
          -79.951877,
          -79.95366999999999
         ],
         "marker": {
          "color": "#B10DA1",
          "size": [
           19,
           8
          ],
          "sizemode": "area",
          "sizeref": 0.13777777777777778
         },
         "mode": "markers",
         "name": "040600",
         "showlegend": true,
         "subplot": "mapbox",
         "type": "scattermapbox"
        },
        {
         "customdata": [
          [
           "040500",
           17441,
           40.442325,
           -79.957604
          ],
          [
           "040500",
           17441,
           40.435986,
           -79.956942
          ],
          [
           "040500",
           17441,
           40.43874918,
           -79.95703161
          ],
          [
           "040500",
           17441,
           40.44136216,
           -79.95555639
          ]
         ],
         "hovertemplate": "<b>%{hovertext}</b><br><br>tractce10=%{customdata[0]}<br>NumRacks=%{marker.size}<br>2015_tract_med_hhincome=%{customdata[1]}<extra></extra>",
         "hovertext": [
          "Fifth Ave & S Bouquet St",
          "Zulema St & Coltart Ave",
          "Semple St & Louisa St",
          "S Bouquet Ave & Sennott St"
         ],
         "lat": [
          40.442325,
          40.435986,
          40.43874918,
          40.44136216
         ],
         "legendgroup": "040500",
         "lon": [
          -79.957604,
          -79.956942,
          -79.95703161,
          -79.95555639
         ],
         "marker": {
          "color": "#C075A6",
          "size": [
           19,
           19,
           5,
           6
          ],
          "sizemode": "area",
          "sizeref": 0.13777777777777778
         },
         "mode": "markers",
         "name": "040500",
         "showlegend": true,
         "subplot": "mapbox",
         "type": "scattermapbox"
        },
        {
         "customdata": [
          [
           "050100",
           17692,
           40.445236,
           -79.976911
          ]
         ],
         "hovertemplate": "<b>%{hovertext}</b><br><br>tractce10=%{customdata[0]}<br>NumRacks=%{marker.size}<br>2015_tract_med_hhincome=%{customdata[1]}<extra></extra>",
         "hovertext": [
          "Centre Ave & Kirkpatrick St"
         ],
         "lat": [
          40.445236
         ],
         "legendgroup": "050100",
         "lon": [
          -79.976911
         ],
         "marker": {
          "color": "#FC1CBF",
          "size": [
           12
          ],
          "sizemode": "area",
          "sizeref": 0.13777777777777778
         },
         "mode": "markers",
         "name": "050100",
         "showlegend": true,
         "subplot": "mapbox",
         "type": "scattermapbox"
        },
        {
         "customdata": [
          [
           "080400",
           32837,
           40.45351,
           -79.94747
          ]
         ],
         "hovertemplate": "<b>%{hovertext}</b><br><br>tractce10=%{customdata[0]}<br>NumRacks=%{marker.size}<br>2015_tract_med_hhincome=%{customdata[1]}<extra></extra>",
         "hovertext": [
          "S Millvale Ave & Centre Ave"
         ],
         "lat": [
          40.45351
         ],
         "legendgroup": "080400",
         "lon": [
          -79.94747
         ],
         "marker": {
          "color": "#B00068",
          "size": [
           13
          ],
          "sizemode": "area",
          "sizeref": 0.13777777777777778
         },
         "mode": "markers",
         "name": "080400",
         "showlegend": true,
         "subplot": "mapbox",
         "type": "scattermapbox"
        },
        {
         "customdata": [
          [
           "160900",
           53241,
           40.4279,
           -79.966112
          ],
          [
           "160900",
           53241,
           40.42802,
           -79.969799
          ],
          [
           "160900",
           53241,
           40.428576,
           -79.974559
          ],
          [
           "160900",
           53241,
           40.42708753,
           -79.96279836
          ]
         ],
         "hovertemplate": "<b>%{hovertext}</b><br><br>tractce10=%{customdata[0]}<br>NumRacks=%{marker.size}<br>2015_tract_med_hhincome=%{customdata[1]}<extra></extra>",
         "hovertext": [
          "S 27th St & Sidney St. (Southside Works)",
          "S 25th St & E Carson St",
          "S 22nd St & E Carson St",
          "Hot Metal St & Tunnel Blvd"
         ],
         "lat": [
          40.4279,
          40.42802,
          40.428576,
          40.42708753
         ],
         "legendgroup": "160900",
         "lon": [
          -79.966112,
          -79.969799,
          -79.974559,
          -79.96279836
         ],
         "marker": {
          "color": "#FBE426",
          "size": [
           19,
           19,
           19,
           13
          ],
          "sizemode": "area",
          "sizeref": 0.13777777777777778
         },
         "mode": "markers",
         "name": "160900",
         "showlegend": true,
         "subplot": "mapbox",
         "type": "scattermapbox"
        },
        {
         "customdata": [
          [
           "170200",
           43750,
           40.429338,
           -79.980684
          ],
          [
           "170200",
           43750,
           40.428661,
           -79.986358
          ],
          [
           "170200",
           43750,
           40.43128939,
           -79.99526918
          ]
         ],
         "hovertemplate": "<b>%{hovertext}</b><br><br>tractce10=%{customdata[0]}<br>NumRacks=%{marker.size}<br>2015_tract_med_hhincome=%{customdata[1]}<extra></extra>",
         "hovertext": [
          "S 18th St & Sidney St",
          "S 12th St & E Carson St",
          "South Side Trail & S 4th St"
         ],
         "lat": [
          40.429338,
          40.428661,
          40.43128939
         ],
         "legendgroup": "170200",
         "lon": [
          -79.980684,
          -79.986358,
          -79.99526918
         ],
         "marker": {
          "color": "#FA0087",
          "size": [
           16,
           19,
           5
          ],
          "sizemode": "area",
          "sizeref": 0.13777777777777778
         },
         "mode": "markers",
         "name": "170200",
         "showlegend": true,
         "subplot": "mapbox",
         "type": "scattermapbox"
        },
        {
         "customdata": [
          [
           "120800",
           25689,
           40.45803,
           -79.9112
          ],
          [
           "120800",
           25689,
           40.46361735,
           -79.91746902
          ]
         ],
         "hovertemplate": "<b>%{hovertext}</b><br><br>tractce10=%{customdata[0]}<br>NumRacks=%{marker.size}<br>2015_tract_med_hhincome=%{customdata[1]}<extra></extra>",
         "hovertext": [
          "Hamilton Ave & Zodiac Way",
          "E Liberty Blvd & Larimer Ave"
         ],
         "lat": [
          40.45803,
          40.46361735
         ],
         "legendgroup": "120800",
         "lon": [
          -79.9112,
          -79.91746902
         ],
         "marker": {
          "color": "#AA0DFE",
          "size": [
           5,
           6
          ],
          "sizemode": "area",
          "sizeref": 0.13777777777777778
         },
         "mode": "markers",
         "name": "120800",
         "showlegend": true,
         "subplot": "mapbox",
         "type": "scattermapbox"
        },
        {
         "customdata": [
          [
           "060300",
           37431,
           40.4620256,
           -79.9681145
          ],
          [
           "060300",
           37431,
           40.46490704,
           -79.96008396
          ],
          [
           "060300",
           37431,
           40.462184,
           -79.96162
          ],
          [
           "060300",
           37431,
           40.46529884,
           -79.96527672
          ]
         ],
         "hovertemplate": "<b>%{hovertext}</b><br><br>tractce10=%{customdata[0]}<br>NumRacks=%{marker.size}<br>2015_tract_med_hhincome=%{customdata[1]}<extra></extra>",
         "hovertext": [
          "33rd St and Penn Ave",
          "Penn Ave & 39th St",
          "Liberty Ave & 37th St",
          "Butler St & 36th St"
         ],
         "lat": [
          40.4620256,
          40.46490704,
          40.462184,
          40.46529884
         ],
         "legendgroup": "060300",
         "lon": [
          -79.9681145,
          -79.96008396,
          -79.96162,
          -79.96527672
         ],
         "marker": {
          "color": "#3283FE",
          "size": [
           6,
           6,
           6,
           6
          ],
          "sizemode": "area",
          "sizeref": 0.13777777777777778
         },
         "mode": "markers",
         "name": "060300",
         "showlegend": true,
         "subplot": "mapbox",
         "type": "scattermapbox"
        },
        {
         "customdata": [
          [
           "101700",
           32163,
           40.46460503,
           -79.9387604
          ]
         ],
         "hovertemplate": "<b>%{hovertext}</b><br><br>tractce10=%{customdata[0]}<br>NumRacks=%{marker.size}<br>2015_tract_med_hhincome=%{customdata[1]}<extra></extra>",
         "hovertext": [
          "Penn Ave & N Atlantic Ave"
         ],
         "lat": [
          40.46460503
         ],
         "legendgroup": "101700",
         "lon": [
          -79.9387604
         ],
         "marker": {
          "color": "#85660D",
          "size": [
           5
          ],
          "sizemode": "area",
          "sizeref": 0.13777777777777778
         },
         "mode": "markers",
         "name": "101700",
         "showlegend": true,
         "subplot": "mapbox",
         "type": "scattermapbox"
        },
        {
         "customdata": [
          [
           "130300",
           13986,
           40.45304583,
           -79.89847898
          ],
          [
           "130300",
           13986,
           40.45668686,
           -79.89813566
          ]
         ],
         "hovertemplate": "<b>%{hovertext}</b><br><br>tractce10=%{customdata[0]}<br>NumRacks=%{marker.size}<br>2015_tract_med_hhincome=%{customdata[1]}<extra></extra>",
         "hovertext": [
          "N Homewood Ave & Finance St (Homewood Station)",
          "Bennett St & Eccrue Way"
         ],
         "lat": [
          40.45304583,
          40.45668686
         ],
         "legendgroup": "130300",
         "lon": [
          -79.89847898,
          -79.89813566
         ],
         "marker": {
          "color": "#782AB6",
          "size": [
           8,
           7
          ],
          "sizemode": "area",
          "sizeref": 0.13777777777777778
         },
         "mode": "markers",
         "name": "130300",
         "showlegend": true,
         "subplot": "mapbox",
         "type": "scattermapbox"
        },
        {
         "customdata": [
          [
           "140800",
           67944,
           40.4380532,
           -79.9229474
          ]
         ],
         "hovertemplate": "<b>%{hovertext}</b><br><br>tractce10=%{customdata[0]}<br>NumRacks=%{marker.size}<br>2015_tract_med_hhincome=%{customdata[1]}<extra></extra>",
         "hovertext": [
          "Forbes Ave & Murray Ave"
         ],
         "lat": [
          40.4380532
         ],
         "legendgroup": "140800",
         "lon": [
          -79.9229474
         ],
         "marker": {
          "color": "#565656",
          "size": [
           5
          ],
          "sizemode": "area",
          "sizeref": 0.13777777777777778
         },
         "mode": "markers",
         "name": "140800",
         "showlegend": true,
         "subplot": "mapbox",
         "type": "scattermapbox"
        },
        {
         "customdata": [
          [
           "141300",
           48000,
           40.43531949,
           -79.92288709
          ],
          [
           "141300",
           48000,
           40.43251029,
           -79.92733955
          ],
          [
           "141300",
           48000,
           40.43791627,
           -79.92781162
          ]
         ],
         "hovertemplate": "<b>%{hovertext}</b><br><br>tractce10=%{customdata[0]}<br>NumRacks=%{marker.size}<br>2015_tract_med_hhincome=%{customdata[1]}<extra></extra>",
         "hovertext": [
          "Beacon St & Murray Ave",
          "Hobart St & Wightman St",
          "Wightman St & Forbes Ave"
         ],
         "lat": [
          40.43531949,
          40.43251029,
          40.43791627
         ],
         "legendgroup": "141300",
         "lon": [
          -79.92288709,
          -79.92733955,
          -79.92781162
         ],
         "marker": {
          "color": "#1C8356",
          "size": [
           6,
           5,
           5
          ],
          "sizemode": "area",
          "sizeref": 0.13777777777777778
         },
         "mode": "markers",
         "name": "141300",
         "showlegend": true,
         "subplot": "mapbox",
         "type": "scattermapbox"
        },
        {
         "customdata": [
          [
           "980700",
           0,
           40.43268995,
           -80.00302076
          ]
         ],
         "hovertemplate": "<b>%{hovertext}</b><br><br>tractce10=%{customdata[0]}<br>NumRacks=%{marker.size}<br>2015_tract_med_hhincome=%{customdata[1]}<extra></extra>",
         "hovertext": [
          "Glasshouse"
         ],
         "lat": [
          40.43268995
         ],
         "legendgroup": "980700",
         "lon": [
          -80.00302076
         ],
         "marker": {
          "color": "#16FF32",
          "size": [
           10
          ],
          "sizemode": "area",
          "sizeref": 0.13777777777777778
         },
         "mode": "markers",
         "name": "980700",
         "showlegend": true,
         "subplot": "mapbox",
         "type": "scattermapbox"
        },
        {
         "customdata": [
          [
           "040900",
           26964,
           40.42968463,
           -79.95414019
          ]
         ],
         "hovertemplate": "<b>%{hovertext}</b><br><br>tractce10=%{customdata[0]}<br>NumRacks=%{marker.size}<br>2015_tract_med_hhincome=%{customdata[1]}<extra></extra>",
         "hovertext": [
          "Frazier St & Dawson St"
         ],
         "lat": [
          40.42968463
         ],
         "legendgroup": "040900",
         "lon": [
          -79.95414019
         ],
         "marker": {
          "color": "#F7E1A0",
          "size": [
           5
          ],
          "sizemode": "area",
          "sizeref": 0.13777777777777778
         },
         "mode": "markers",
         "name": "040900",
         "showlegend": true,
         "subplot": "mapbox",
         "type": "scattermapbox"
        },
        {
         "customdata": [
          [
           "040400",
           26196,
           40.446739,
           -79.94893
          ]
         ],
         "hovertemplate": "<b>%{hovertext}</b><br><br>tractce10=%{customdata[0]}<br>NumRacks=%{marker.size}<br>2015_tract_med_hhincome=%{customdata[1]}<extra></extra>",
         "hovertext": [
          "S Craig St & 5th Ave"
         ],
         "lat": [
          40.446739
         ],
         "legendgroup": "040400",
         "lon": [
          -79.94893
         ],
         "marker": {
          "color": "#E2E2E2",
          "size": [
           6
          ],
          "sizemode": "area",
          "sizeref": 0.13777777777777778
         },
         "mode": "markers",
         "name": "040400",
         "showlegend": true,
         "subplot": "mapbox",
         "type": "scattermapbox"
        },
        {
         "customdata": [
          [
           "562000",
           16318,
           40.45186204,
           -79.95173693
          ]
         ],
         "hovertemplate": "<b>%{hovertext}</b><br><br>tractce10=%{customdata[0]}<br>NumRacks=%{marker.size}<br>2015_tract_med_hhincome=%{customdata[1]}<extra></extra>",
         "hovertext": [
          "Centre Ave & N Craig St"
         ],
         "lat": [
          40.45186204
         ],
         "legendgroup": "562000",
         "lon": [
          -79.95173693
         ],
         "marker": {
          "color": "#1CBE4F",
          "size": [
           6
          ],
          "sizemode": "area",
          "sizeref": 0.13777777777777778
         },
         "mode": "markers",
         "name": "562000",
         "showlegend": true,
         "subplot": "mapbox",
         "type": "scattermapbox"
        },
        {
         "customdata": [
          [
           "120700",
           19762,
           40.45623787,
           -79.90505576
          ]
         ],
         "hovertemplate": "<b>%{hovertext}</b><br><br>tractce10=%{customdata[0]}<br>NumRacks=%{marker.size}<br>2015_tract_med_hhincome=%{customdata[1]}<extra></extra>",
         "hovertext": [
          "Hamilton Ave & N Dallas Ave"
         ],
         "lat": [
          40.45623787
         ],
         "legendgroup": "120700",
         "lon": [
          -79.90505576
         ],
         "marker": {
          "color": "#C4451C",
          "size": [
           6
          ],
          "sizemode": "area",
          "sizeref": 0.13777777777777778
         },
         "mode": "markers",
         "name": "120700",
         "showlegend": true,
         "subplot": "mapbox",
         "type": "scattermapbox"
        },
        {
         "customdata": [
          [
           "111300",
           33400,
           40.467715,
           -79.92787
          ],
          [
           "111300",
           33400,
           40.47122337,
           -79.92560189
          ]
         ],
         "hovertemplate": "<b>%{hovertext}</b><br><br>tractce10=%{customdata[0]}<br>NumRacks=%{marker.size}<br>2015_tract_med_hhincome=%{customdata[1]}<extra></extra>",
         "hovertext": [
          "E Liberty Blvd & Negley Ave",
          "Stanton Ave & N Negley Ave"
         ],
         "lat": [
          40.467715,
          40.47122337
         ],
         "legendgroup": "111300",
         "lon": [
          -79.92787,
          -79.92560189
         ],
         "marker": {
          "color": "#DEA0FD",
          "size": [
           5,
           6
          ],
          "sizemode": "area",
          "sizeref": 0.13777777777777778
         },
         "mode": "markers",
         "name": "111300",
         "showlegend": true,
         "subplot": "mapbox",
         "type": "scattermapbox"
        },
        {
         "customdata": [
          [
           "080700",
           36944,
           40.46150726,
           -79.93510187
          ]
         ],
         "hovertemplate": "<b>%{hovertext}</b><br><br>tractce10=%{customdata[0]}<br>NumRacks=%{marker.size}<br>2015_tract_med_hhincome=%{customdata[1]}<extra></extra>",
         "hovertext": [
          "Roup Ave & Friendship Ave"
         ],
         "lat": [
          40.46150726
         ],
         "legendgroup": "080700",
         "lon": [
          -79.93510187
         ],
         "marker": {
          "color": "#FE00FA",
          "size": [
           5
          ],
          "sizemode": "area",
          "sizeref": 0.13777777777777778
         },
         "mode": "markers",
         "name": "080700",
         "showlegend": true,
         "subplot": "mapbox",
         "type": "scattermapbox"
        },
        {
         "customdata": [
          [
           "240600",
           40566,
           40.45379691,
           -79.99094009
          ]
         ],
         "hovertemplate": "<b>%{hovertext}</b><br><br>tractce10=%{customdata[0]}<br>NumRacks=%{marker.size}<br>2015_tract_med_hhincome=%{customdata[1]}<extra></extra>",
         "hovertext": [
          "Microsoft"
         ],
         "lat": [
          40.45379691
         ],
         "legendgroup": "240600",
         "lon": [
          -79.99094009
         ],
         "marker": {
          "color": "#325A9B",
          "size": [
           6
          ],
          "sizemode": "area",
          "sizeref": 0.13777777777777778
         },
         "mode": "markers",
         "name": "240600",
         "showlegend": true,
         "subplot": "mapbox",
         "type": "scattermapbox"
        },
        {
         "customdata": [
          [
           "250300",
           43750,
           40.45777261,
           -80.00945807
          ]
         ],
         "hovertemplate": "<b>%{hovertext}</b><br><br>tractce10=%{customdata[0]}<br>NumRacks=%{marker.size}<br>2015_tract_med_hhincome=%{customdata[1]}<extra></extra>",
         "hovertext": [
          "Arch St & Jacksonia St"
         ],
         "lat": [
          40.45777261
         ],
         "legendgroup": "250300",
         "lon": [
          -80.00945807
         ],
         "marker": {
          "color": "#FEAF16",
          "size": [
           5
          ],
          "sizemode": "area",
          "sizeref": 0.13777777777777778
         },
         "mode": "markers",
         "name": "250300",
         "showlegend": true,
         "subplot": "mapbox",
         "type": "scattermapbox"
        }
       ],
       "layout": {
        "legend": {
         "itemsizing": "constant",
         "title": {
          "text": "tractce10"
         },
         "tracegroupgap": 0
        },
        "mapbox": {
         "center": {
          "lat": 40.4482108569,
          "lon": -79.96373512509999
         },
         "domain": {
          "x": [
           0,
           1
          ],
          "y": [
           0,
           1
          ]
         },
         "style": "carto-darkmatter",
         "zoom": 10
        },
        "margin": {
         "t": 60
        },
        "template": {
         "data": {
          "bar": [
           {
            "error_x": {
             "color": "#2a3f5f"
            },
            "error_y": {
             "color": "#2a3f5f"
            },
            "marker": {
             "line": {
              "color": "#E5ECF6",
              "width": 0.5
             }
            },
            "type": "bar"
           }
          ],
          "barpolar": [
           {
            "marker": {
             "line": {
              "color": "#E5ECF6",
              "width": 0.5
             }
            },
            "type": "barpolar"
           }
          ],
          "carpet": [
           {
            "aaxis": {
             "endlinecolor": "#2a3f5f",
             "gridcolor": "white",
             "linecolor": "white",
             "minorgridcolor": "white",
             "startlinecolor": "#2a3f5f"
            },
            "baxis": {
             "endlinecolor": "#2a3f5f",
             "gridcolor": "white",
             "linecolor": "white",
             "minorgridcolor": "white",
             "startlinecolor": "#2a3f5f"
            },
            "type": "carpet"
           }
          ],
          "choropleth": [
           {
            "colorbar": {
             "outlinewidth": 0,
             "ticks": ""
            },
            "type": "choropleth"
           }
          ],
          "contour": [
           {
            "colorbar": {
             "outlinewidth": 0,
             "ticks": ""
            },
            "colorscale": [
             [
              0,
              "#0d0887"
             ],
             [
              0.1111111111111111,
              "#46039f"
             ],
             [
              0.2222222222222222,
              "#7201a8"
             ],
             [
              0.3333333333333333,
              "#9c179e"
             ],
             [
              0.4444444444444444,
              "#bd3786"
             ],
             [
              0.5555555555555556,
              "#d8576b"
             ],
             [
              0.6666666666666666,
              "#ed7953"
             ],
             [
              0.7777777777777778,
              "#fb9f3a"
             ],
             [
              0.8888888888888888,
              "#fdca26"
             ],
             [
              1,
              "#f0f921"
             ]
            ],
            "type": "contour"
           }
          ],
          "contourcarpet": [
           {
            "colorbar": {
             "outlinewidth": 0,
             "ticks": ""
            },
            "type": "contourcarpet"
           }
          ],
          "heatmap": [
           {
            "colorbar": {
             "outlinewidth": 0,
             "ticks": ""
            },
            "colorscale": [
             [
              0,
              "#0d0887"
             ],
             [
              0.1111111111111111,
              "#46039f"
             ],
             [
              0.2222222222222222,
              "#7201a8"
             ],
             [
              0.3333333333333333,
              "#9c179e"
             ],
             [
              0.4444444444444444,
              "#bd3786"
             ],
             [
              0.5555555555555556,
              "#d8576b"
             ],
             [
              0.6666666666666666,
              "#ed7953"
             ],
             [
              0.7777777777777778,
              "#fb9f3a"
             ],
             [
              0.8888888888888888,
              "#fdca26"
             ],
             [
              1,
              "#f0f921"
             ]
            ],
            "type": "heatmap"
           }
          ],
          "heatmapgl": [
           {
            "colorbar": {
             "outlinewidth": 0,
             "ticks": ""
            },
            "colorscale": [
             [
              0,
              "#0d0887"
             ],
             [
              0.1111111111111111,
              "#46039f"
             ],
             [
              0.2222222222222222,
              "#7201a8"
             ],
             [
              0.3333333333333333,
              "#9c179e"
             ],
             [
              0.4444444444444444,
              "#bd3786"
             ],
             [
              0.5555555555555556,
              "#d8576b"
             ],
             [
              0.6666666666666666,
              "#ed7953"
             ],
             [
              0.7777777777777778,
              "#fb9f3a"
             ],
             [
              0.8888888888888888,
              "#fdca26"
             ],
             [
              1,
              "#f0f921"
             ]
            ],
            "type": "heatmapgl"
           }
          ],
          "histogram": [
           {
            "marker": {
             "colorbar": {
              "outlinewidth": 0,
              "ticks": ""
             }
            },
            "type": "histogram"
           }
          ],
          "histogram2d": [
           {
            "colorbar": {
             "outlinewidth": 0,
             "ticks": ""
            },
            "colorscale": [
             [
              0,
              "#0d0887"
             ],
             [
              0.1111111111111111,
              "#46039f"
             ],
             [
              0.2222222222222222,
              "#7201a8"
             ],
             [
              0.3333333333333333,
              "#9c179e"
             ],
             [
              0.4444444444444444,
              "#bd3786"
             ],
             [
              0.5555555555555556,
              "#d8576b"
             ],
             [
              0.6666666666666666,
              "#ed7953"
             ],
             [
              0.7777777777777778,
              "#fb9f3a"
             ],
             [
              0.8888888888888888,
              "#fdca26"
             ],
             [
              1,
              "#f0f921"
             ]
            ],
            "type": "histogram2d"
           }
          ],
          "histogram2dcontour": [
           {
            "colorbar": {
             "outlinewidth": 0,
             "ticks": ""
            },
            "colorscale": [
             [
              0,
              "#0d0887"
             ],
             [
              0.1111111111111111,
              "#46039f"
             ],
             [
              0.2222222222222222,
              "#7201a8"
             ],
             [
              0.3333333333333333,
              "#9c179e"
             ],
             [
              0.4444444444444444,
              "#bd3786"
             ],
             [
              0.5555555555555556,
              "#d8576b"
             ],
             [
              0.6666666666666666,
              "#ed7953"
             ],
             [
              0.7777777777777778,
              "#fb9f3a"
             ],
             [
              0.8888888888888888,
              "#fdca26"
             ],
             [
              1,
              "#f0f921"
             ]
            ],
            "type": "histogram2dcontour"
           }
          ],
          "mesh3d": [
           {
            "colorbar": {
             "outlinewidth": 0,
             "ticks": ""
            },
            "type": "mesh3d"
           }
          ],
          "parcoords": [
           {
            "line": {
             "colorbar": {
              "outlinewidth": 0,
              "ticks": ""
             }
            },
            "type": "parcoords"
           }
          ],
          "pie": [
           {
            "automargin": true,
            "type": "pie"
           }
          ],
          "scatter": [
           {
            "marker": {
             "colorbar": {
              "outlinewidth": 0,
              "ticks": ""
             }
            },
            "type": "scatter"
           }
          ],
          "scatter3d": [
           {
            "line": {
             "colorbar": {
              "outlinewidth": 0,
              "ticks": ""
             }
            },
            "marker": {
             "colorbar": {
              "outlinewidth": 0,
              "ticks": ""
             }
            },
            "type": "scatter3d"
           }
          ],
          "scattercarpet": [
           {
            "marker": {
             "colorbar": {
              "outlinewidth": 0,
              "ticks": ""
             }
            },
            "type": "scattercarpet"
           }
          ],
          "scattergeo": [
           {
            "marker": {
             "colorbar": {
              "outlinewidth": 0,
              "ticks": ""
             }
            },
            "type": "scattergeo"
           }
          ],
          "scattergl": [
           {
            "marker": {
             "colorbar": {
              "outlinewidth": 0,
              "ticks": ""
             }
            },
            "type": "scattergl"
           }
          ],
          "scattermapbox": [
           {
            "marker": {
             "colorbar": {
              "outlinewidth": 0,
              "ticks": ""
             }
            },
            "type": "scattermapbox"
           }
          ],
          "scatterpolar": [
           {
            "marker": {
             "colorbar": {
              "outlinewidth": 0,
              "ticks": ""
             }
            },
            "type": "scatterpolar"
           }
          ],
          "scatterpolargl": [
           {
            "marker": {
             "colorbar": {
              "outlinewidth": 0,
              "ticks": ""
             }
            },
            "type": "scatterpolargl"
           }
          ],
          "scatterternary": [
           {
            "marker": {
             "colorbar": {
              "outlinewidth": 0,
              "ticks": ""
             }
            },
            "type": "scatterternary"
           }
          ],
          "surface": [
           {
            "colorbar": {
             "outlinewidth": 0,
             "ticks": ""
            },
            "colorscale": [
             [
              0,
              "#0d0887"
             ],
             [
              0.1111111111111111,
              "#46039f"
             ],
             [
              0.2222222222222222,
              "#7201a8"
             ],
             [
              0.3333333333333333,
              "#9c179e"
             ],
             [
              0.4444444444444444,
              "#bd3786"
             ],
             [
              0.5555555555555556,
              "#d8576b"
             ],
             [
              0.6666666666666666,
              "#ed7953"
             ],
             [
              0.7777777777777778,
              "#fb9f3a"
             ],
             [
              0.8888888888888888,
              "#fdca26"
             ],
             [
              1,
              "#f0f921"
             ]
            ],
            "type": "surface"
           }
          ],
          "table": [
           {
            "cells": {
             "fill": {
              "color": "#EBF0F8"
             },
             "line": {
              "color": "white"
             }
            },
            "header": {
             "fill": {
              "color": "#C8D4E3"
             },
             "line": {
              "color": "white"
             }
            },
            "type": "table"
           }
          ]
         },
         "layout": {
          "annotationdefaults": {
           "arrowcolor": "#2a3f5f",
           "arrowhead": 0,
           "arrowwidth": 1
          },
          "autotypenumbers": "strict",
          "coloraxis": {
           "colorbar": {
            "outlinewidth": 0,
            "ticks": ""
           }
          },
          "colorscale": {
           "diverging": [
            [
             0,
             "#8e0152"
            ],
            [
             0.1,
             "#c51b7d"
            ],
            [
             0.2,
             "#de77ae"
            ],
            [
             0.3,
             "#f1b6da"
            ],
            [
             0.4,
             "#fde0ef"
            ],
            [
             0.5,
             "#f7f7f7"
            ],
            [
             0.6,
             "#e6f5d0"
            ],
            [
             0.7,
             "#b8e186"
            ],
            [
             0.8,
             "#7fbc41"
            ],
            [
             0.9,
             "#4d9221"
            ],
            [
             1,
             "#276419"
            ]
           ],
           "sequential": [
            [
             0,
             "#0d0887"
            ],
            [
             0.1111111111111111,
             "#46039f"
            ],
            [
             0.2222222222222222,
             "#7201a8"
            ],
            [
             0.3333333333333333,
             "#9c179e"
            ],
            [
             0.4444444444444444,
             "#bd3786"
            ],
            [
             0.5555555555555556,
             "#d8576b"
            ],
            [
             0.6666666666666666,
             "#ed7953"
            ],
            [
             0.7777777777777778,
             "#fb9f3a"
            ],
            [
             0.8888888888888888,
             "#fdca26"
            ],
            [
             1,
             "#f0f921"
            ]
           ],
           "sequentialminus": [
            [
             0,
             "#0d0887"
            ],
            [
             0.1111111111111111,
             "#46039f"
            ],
            [
             0.2222222222222222,
             "#7201a8"
            ],
            [
             0.3333333333333333,
             "#9c179e"
            ],
            [
             0.4444444444444444,
             "#bd3786"
            ],
            [
             0.5555555555555556,
             "#d8576b"
            ],
            [
             0.6666666666666666,
             "#ed7953"
            ],
            [
             0.7777777777777778,
             "#fb9f3a"
            ],
            [
             0.8888888888888888,
             "#fdca26"
            ],
            [
             1,
             "#f0f921"
            ]
           ]
          },
          "colorway": [
           "#636efa",
           "#EF553B",
           "#00cc96",
           "#ab63fa",
           "#FFA15A",
           "#19d3f3",
           "#FF6692",
           "#B6E880",
           "#FF97FF",
           "#FECB52"
          ],
          "font": {
           "color": "#2a3f5f"
          },
          "geo": {
           "bgcolor": "white",
           "lakecolor": "white",
           "landcolor": "#E5ECF6",
           "showlakes": true,
           "showland": true,
           "subunitcolor": "white"
          },
          "hoverlabel": {
           "align": "left"
          },
          "hovermode": "closest",
          "mapbox": {
           "style": "light"
          },
          "paper_bgcolor": "white",
          "plot_bgcolor": "#E5ECF6",
          "polar": {
           "angularaxis": {
            "gridcolor": "white",
            "linecolor": "white",
            "ticks": ""
           },
           "bgcolor": "#E5ECF6",
           "radialaxis": {
            "gridcolor": "white",
            "linecolor": "white",
            "ticks": ""
           }
          },
          "scene": {
           "xaxis": {
            "backgroundcolor": "#E5ECF6",
            "gridcolor": "white",
            "gridwidth": 2,
            "linecolor": "white",
            "showbackground": true,
            "ticks": "",
            "zerolinecolor": "white"
           },
           "yaxis": {
            "backgroundcolor": "#E5ECF6",
            "gridcolor": "white",
            "gridwidth": 2,
            "linecolor": "white",
            "showbackground": true,
            "ticks": "",
            "zerolinecolor": "white"
           },
           "zaxis": {
            "backgroundcolor": "#E5ECF6",
            "gridcolor": "white",
            "gridwidth": 2,
            "linecolor": "white",
            "showbackground": true,
            "ticks": "",
            "zerolinecolor": "white"
           }
          },
          "shapedefaults": {
           "line": {
            "color": "#2a3f5f"
           }
          },
          "ternary": {
           "aaxis": {
            "gridcolor": "white",
            "linecolor": "white",
            "ticks": ""
           },
           "baxis": {
            "gridcolor": "white",
            "linecolor": "white",
            "ticks": ""
           },
           "bgcolor": "#E5ECF6",
           "caxis": {
            "gridcolor": "white",
            "linecolor": "white",
            "ticks": ""
           }
          },
          "title": {
           "x": 0.05
          },
          "xaxis": {
           "automargin": true,
           "gridcolor": "white",
           "linecolor": "white",
           "ticks": "",
           "title": {
            "standoff": 15
           },
           "zerolinecolor": "white",
           "zerolinewidth": 2
          },
          "yaxis": {
           "automargin": true,
           "gridcolor": "white",
           "linecolor": "white",
           "ticks": "",
           "title": {
            "standoff": 15
           },
           "zerolinecolor": "white",
           "zerolinewidth": 2
          }
         }
        }
       }
      },
      "text/html": [
       "<div>                            <div id=\"2b05f80c-baab-45a6-9f9a-064883af1966\" class=\"plotly-graph-div\" style=\"height:525px; width:100%;\"></div>            <script type=\"text/javascript\">                require([\"plotly\"], function(Plotly) {                    window.PLOTLYENV=window.PLOTLYENV || {};                                    if (document.getElementById(\"2b05f80c-baab-45a6-9f9a-064883af1966\")) {                    Plotly.newPlot(                        \"2b05f80c-baab-45a6-9f9a-064883af1966\",                        [{\"customdata\": [[\"020100\", 67750.0, 40.441326, -80.00467900000001], [\"020100\", 67750.0, 40.440877, -80.00308000000001], [\"020100\", 67750.0, 40.43903, -80.00186], [\"020100\", 67750.0, 40.4372, -80.000375], [\"020100\", 67750.0, 40.435887, -79.997102], [\"020100\", 67750.0, 40.438882, -79.997592], [\"020100\", 67750.0, 40.440193, -79.99508399999999], [\"020100\", 67750.0, 40.440368, -79.988636], [\"020100\", 67750.0, 40.444665, -79.995798], [\"020100\", 67750.0, 40.444777, -80.000831], [\"020100\", 67750.0, 40.43866, -79.9997], [\"020100\", 67750.0, 40.44197, -79.9997], [\"020100\", 67750.0, 40.44475071, -79.99391198], [\"020100\", 67750.0, 40.44170511, -79.99510288], [\"020100\", 67750.0, 40.44353412, -79.99839664], [\"020100\", 67750.0, 40.44193373, -80.00207126], [\"020100\", 67750.0, 40.44001486, -80.00447989], [\"020100\", 67750.0, 40.43766313, -79.99629378]], \"hovertemplate\": \"<b>%{hovertext}</b><br><br>tractce10=%{customdata[0]}<br>NumRacks=%{marker.size}<br>2015_tract_med_hhincome=%{customdata[1]}<extra></extra>\", \"hovertext\": [\"Liberty Ave & Stanwix St\", \"Forbes Ave & Market Square\", \"Third Ave & Wood St\", \"First Ave & Smithfield St (Art Institute)\", \"First Ave & B St (T Station)\", \"Forbes Ave & Grant St\", \"Ross St & Sixth Ave (Steel Plaza T Station)\", \"Centre Ave & PPG Paints Arena\", \"10th St & Penn Ave (David L. Lawrence Convention Center)\", \"Fort Duquesne Blvd & 7th\", \"Smithfield St & Fourth Ave\", \"Wood St & Sixth Ave\", \"11th St & Penn Ave\", \"Grant St & Strawberry Way\", \"9th St & Penn Ave\", \"Liberty Ave & 6th St\", \"Third Ave & Stanwix St\", \"Ross St & Fourth Ave\"], \"lat\": [40.441326, 40.440877, 40.43903, 40.4372, 40.435887, 40.438882, 40.440193, 40.440368, 40.444665, 40.444777, 40.43866, 40.44197, 40.44475071, 40.44170511, 40.44353412, 40.44193373, 40.44001486, 40.43766313], \"legendgroup\": \"020100\", \"lon\": [-80.00467900000001, -80.00308000000001, -80.00186, -80.000375, -79.997102, -79.997592, -79.99508399999999, -79.988636, -79.995798, -80.000831, -79.9997, -79.9997, -79.99391198, -79.99510288, -79.99839664, -80.00207126, -80.00447989, -79.99629378], \"marker\": {\"color\": \"#AA0DFE\", \"size\": [16, 19, 15, 15, 15, 13, 7, 5, 15, 15, 6, 7, 6, 7, 5, 6, 5, 7], \"sizemode\": \"area\", \"sizeref\": 0.13777777777777778}, \"mode\": \"markers\", \"name\": \"020100\", \"showlegend\": true, \"subplot\": \"mapbox\", \"type\": \"scattermapbox\"}, {\"customdata\": [[\"010300\", 41071.0, 40.437643, -79.986695], [\"010300\", 41071.0, 40.4377657, -79.9906531], [\"010300\", 41071.0, 40.43829598, -79.98117685]], \"hovertemplate\": \"<b>%{hovertext}</b><br><br>tractce10=%{customdata[0]}<br>NumRacks=%{marker.size}<br>2015_tract_med_hhincome=%{customdata[1]}<extra></extra>\", \"hovertext\": [\"Stevenson St & Forbes Ave\", \"McNulty Dr & Forbes Ave\", \"Fifth Ave & Miltenberger\"], \"lat\": [40.437643, 40.4377657, 40.43829598], \"legendgroup\": \"010300\", \"lon\": [-79.986695, -79.9906531, -79.98117685], \"marker\": {\"color\": \"#3283FE\", \"size\": [15, 6, 6], \"sizemode\": \"area\", \"sizeref\": 0.13777777777777778}, \"mode\": \"markers\", \"name\": \"010300\", \"showlegend\": true, \"subplot\": \"mapbox\", \"type\": \"scattermapbox\"}, {\"customdata\": [[\"020300\", 94643.0, 40.445844, -79.99238000000001], [\"020300\", 94643.0, 40.449631, -79.985893], [\"020300\", 94643.0, 40.451742, -79.98321700000001], [\"020300\", 94643.0, 40.45632767, -79.98021126], [\"020300\", 94643.0, 40.45814812, -79.97383833], [\"020300\", 94643.0, 40.46011138, -79.97276008], [\"020300\", 94643.0, 40.45400101, -79.98171329], [\"020300\", 94643.0, 40.447208, -79.989725]], \"hovertemplate\": \"<b>%{hovertext}</b><br><br>tractce10=%{customdata[0]}<br>NumRacks=%{marker.size}<br>2015_tract_med_hhincome=%{customdata[1]}<extra></extra>\", \"hovertext\": [\"12th St & Penn Ave\", \"17th St & Penn Ave\", \"21st St & Penn Ave\", \"Burns White Centre at 3 Crossings\", \"Penn Ave and 29th St\", \"Smallman St & 31st St\", \"24th St & Smallman St\", \"14th St & Penn Ave\"], \"lat\": [40.445844, 40.449631, 40.451742, 40.45632767, 40.45814812, 40.46011138, 40.45400101, 40.447208], \"legendgroup\": \"020300\", \"lon\": [-79.99238000000001, -79.985893, -79.98321700000001, -79.98021126, -79.97383833, -79.97276008, -79.98171329, -79.989725], \"marker\": {\"color\": \"#85660D\", \"size\": [19, 19, 18, 12, 8, 6, 6, 6], \"sizemode\": \"area\", \"sizeref\": 0.13777777777777778}, \"mode\": \"markers\", \"name\": \"020300\", \"showlegend\": true, \"subplot\": \"mapbox\", \"type\": \"scattermapbox\"}, {\"customdata\": [[\"981200\", 0.0, 40.445834000000005, -80.008882], [\"981200\", 0.0, 40.44741245, -80.01206517]], \"hovertemplate\": \"<b>%{hovertext}</b><br><br>tractce10=%{customdata[0]}<br>NumRacks=%{marker.size}<br>2015_tract_med_hhincome=%{customdata[1]}<extra></extra>\", \"hovertext\": [\"North Shore Trail & Ft Duquesne Bridge\", \"W General Robinson St & Chuck Noll Way\"], \"lat\": [40.445834000000005, 40.44741245], \"legendgroup\": \"981200\", \"lon\": [-80.008882, -80.01206517], \"marker\": {\"color\": \"#782AB6\", \"size\": [31, 5], \"sizemode\": \"area\", \"sizeref\": 0.13777777777777778}, \"mode\": \"markers\", \"name\": \"981200\", \"showlegend\": true, \"subplot\": \"mapbox\", \"type\": \"scattermapbox\"}, {\"customdata\": [[\"563200\", 30543.0, 40.447166, -80.003566]], \"hovertemplate\": \"<b>%{hovertext}</b><br><br>tractce10=%{customdata[0]}<br>NumRacks=%{marker.size}<br>2015_tract_med_hhincome=%{customdata[1]}<extra></extra>\", \"hovertext\": [\"Isabella St & Federal St (PNC Park)\"], \"lat\": [40.447166], \"legendgroup\": \"563200\", \"lon\": [-80.003566], \"marker\": {\"color\": \"#565656\", \"size\": [15], \"sizemode\": \"area\", \"sizeref\": 0.13777777777777778}, \"mode\": \"markers\", \"name\": \"563200\", \"showlegend\": true, \"subplot\": \"mapbox\", \"type\": \"scattermapbox\"}, {\"customdata\": [[\"562700\", 33938.0, 40.450595, -80.013204], [\"562700\", 33938.0, 40.45509087, -80.00634670000001]], \"hovertemplate\": \"<b>%{hovertext}</b><br><br>tractce10=%{customdata[0]}<br>NumRacks=%{marker.size}<br>2015_tract_med_hhincome=%{customdata[1]}<extra></extra>\", \"hovertext\": [\"Ridge Ave & Brighton Rd (CCAC)\", \"Federal St & E North Ave\"], \"lat\": [40.450595, 40.45509087], \"legendgroup\": \"562700\", \"lon\": [-80.013204, -80.00634670000001], \"marker\": {\"color\": \"#1C8356\", \"size\": [19, 12], \"sizemode\": \"area\", \"sizeref\": 0.13777777777777778}, \"mode\": \"markers\", \"name\": \"562700\", \"showlegend\": true, \"subplot\": \"mapbox\", \"type\": \"scattermapbox\"}, {\"customdata\": [[\"981000\", 0.0, 40.47815, -79.9557]], \"hovertemplate\": \"<b>%{hovertext}</b><br><br>tractce10=%{customdata[0]}<br>NumRacks=%{marker.size}<br>2015_tract_med_hhincome=%{customdata[1]}<extra></extra>\", \"hovertext\": [\"Butler St & Stanton Ave\"], \"lat\": [40.47815], \"legendgroup\": \"981000\", \"lon\": [-79.9557], \"marker\": {\"color\": \"#16FF32\", \"size\": [5], \"sizemode\": \"area\", \"sizeref\": 0.13777777777777778}, \"mode\": \"markers\", \"name\": \"981000\", \"showlegend\": true, \"subplot\": \"mapbox\", \"type\": \"scattermapbox\"}, {\"customdata\": [[\"090100\", 50781.0, 40.47021248, -79.96066332], [\"090100\", 50781.0, 40.47603982, -79.95763779]], \"hovertemplate\": \"<b>%{hovertext}</b><br><br>tractce10=%{customdata[0]}<br>NumRacks=%{marker.size}<br>2015_tract_med_hhincome=%{customdata[1]}<extra></extra>\", \"hovertext\": [\"42nd St & Butler St\", \"Butler St & 48th St\"], \"lat\": [40.47021248, 40.47603982], \"legendgroup\": \"090100\", \"lon\": [-79.96066332, -79.95763779], \"marker\": {\"color\": \"#F7E1A0\", \"size\": [17, 6], \"sizemode\": \"area\", \"sizeref\": 0.13777777777777778}, \"mode\": \"markers\", \"name\": \"090100\", \"showlegend\": true, \"subplot\": \"mapbox\", \"type\": \"scattermapbox\"}, {\"customdata\": [[\"090200\", 53724.0, 40.465893, -79.954417]], \"hovertemplate\": \"<b>%{hovertext}</b><br><br>tractce10=%{customdata[0]}<br>NumRacks=%{marker.size}<br>2015_tract_med_hhincome=%{customdata[1]}<extra></extra>\", \"hovertext\": [\"42nd St & Penn Ave (Children's Hospital)\"], \"lat\": [40.465893], \"legendgroup\": \"090200\", \"lon\": [-79.954417], \"marker\": {\"color\": \"#E2E2E2\", \"size\": [8], \"sizemode\": \"area\", \"sizeref\": 0.13777777777777778}, \"mode\": \"markers\", \"name\": \"090200\", \"showlegend\": true, \"subplot\": \"mapbox\", \"type\": \"scattermapbox\"}, {\"customdata\": [[\"090300\", 33816.0, 40.462769, -79.950867]], \"hovertemplate\": \"<b>%{hovertext}</b><br><br>tractce10=%{customdata[0]}<br>NumRacks=%{marker.size}<br>2015_tract_med_hhincome=%{customdata[1]}<extra></extra>\", \"hovertext\": [\"Taylor St & Liberty Ave\"], \"lat\": [40.462769], \"legendgroup\": \"090300\", \"lon\": [-79.950867], \"marker\": {\"color\": \"#1CBE4F\", \"size\": [19], \"sizemode\": \"area\", \"sizeref\": 0.13777777777777778}, \"mode\": \"markers\", \"name\": \"090300\", \"showlegend\": true, \"subplot\": \"mapbox\", \"type\": \"scattermapbox\"}, {\"customdata\": [[\"080900\", 49750.0, 40.459812, -79.945548], [\"080900\", 49750.0, 40.46473563, -79.94282663]], \"hovertemplate\": \"<b>%{hovertext}</b><br><br>tractce10=%{customdata[0]}<br>NumRacks=%{marker.size}<br>2015_tract_med_hhincome=%{customdata[1]}<extra></extra>\", \"hovertext\": [\"Liberty Ave & S Millvale (West Penn Hospital)\", \"S Winebiddle St & Penn Ave\"], \"lat\": [40.459812, 40.46473563], \"legendgroup\": \"080900\", \"lon\": [-79.945548, -79.94282663], \"marker\": {\"color\": \"#C4451C\", \"size\": [15, 5], \"sizemode\": \"area\", \"sizeref\": 0.13777777777777778}, \"mode\": \"markers\", \"name\": \"080900\", \"showlegend\": true, \"subplot\": \"mapbox\", \"type\": \"scattermapbox\"}, {\"customdata\": [[\"080600\", 51509.0, 40.456505, -79.939362]], \"hovertemplate\": \"<b>%{hovertext}</b><br><br>tractce10=%{customdata[0]}<br>NumRacks=%{marker.size}<br>2015_tract_med_hhincome=%{customdata[1]}<extra></extra>\", \"hovertext\": [\"Liberty Ave & Baum Blvd\"], \"lat\": [40.456505], \"legendgroup\": \"080600\", \"lon\": [-79.939362], \"marker\": {\"color\": \"#DEA0FD\", \"size\": [15], \"sizemode\": \"area\", \"sizeref\": 0.13777777777777778}, \"mode\": \"markers\", \"name\": \"080600\", \"showlegend\": true, \"subplot\": \"mapbox\", \"type\": \"scattermapbox\"}, {\"customdata\": [[\"111500\", 24308.0, 40.458714, -79.933483], [\"111500\", 24308.0, 40.461603, -79.925624], [\"111500\", 24308.0, 40.46089095, -79.91583824]], \"hovertemplate\": \"<b>%{hovertext}</b><br><br>tractce10=%{customdata[0]}<br>NumRacks=%{marker.size}<br>2015_tract_med_hhincome=%{customdata[1]}<extra></extra>\", \"hovertext\": [\"S Negley Ave & Baum Blvd\", \"Penn Ave & S Whitfield St\", \"Frankstown Ave & E Liberty Blvd\"], \"lat\": [40.458714, 40.461603, 40.46089095], \"legendgroup\": \"111500\", \"lon\": [-79.933483, -79.925624, -79.91583824], \"marker\": {\"color\": \"#FE00FA\", \"size\": [17, 13, 6], \"sizemode\": \"area\", \"sizeref\": 0.13777777777777778}, \"mode\": \"markers\", \"name\": \"111500\", \"showlegend\": true, \"subplot\": \"mapbox\", \"type\": \"scattermapbox\"}, {\"customdata\": [[\"111400\", 21154.0, 40.464443, -79.933188]], \"hovertemplate\": \"<b>%{hovertext}</b><br><br>tractce10=%{customdata[0]}<br>NumRacks=%{marker.size}<br>2015_tract_med_hhincome=%{customdata[1]}<extra></extra>\", \"hovertext\": [\"Penn Ave & N Fairmount St\"], \"lat\": [40.464443], \"legendgroup\": \"111400\", \"lon\": [-79.933188], \"marker\": {\"color\": \"#325A9B\", \"size\": [15], \"sizemode\": \"area\", \"sizeref\": 0.13777777777777778}, \"mode\": \"markers\", \"name\": \"111400\", \"showlegend\": true, \"subplot\": \"mapbox\", \"type\": \"scattermapbox\"}, {\"customdata\": [[\"070800\", 51703.0, 40.458972, -79.922023], [\"070800\", 51703.0, 40.455821, -79.91524799999999], [\"070800\", 51703.0, 40.457415000000005, -79.92492]], \"hovertemplate\": \"<b>%{hovertext}</b><br><br>tractce10=%{customdata[0]}<br>NumRacks=%{marker.size}<br>2015_tract_med_hhincome=%{customdata[1]}<extra></extra>\", \"hovertext\": [\"Shady Ave & Ellsworth Ave\", \"Penn Ave & Putnam St (Bakery Square)\", \"Alder St & S Higland Ave\"], \"lat\": [40.458972, 40.455821, 40.457415000000005], \"legendgroup\": \"070800\", \"lon\": [-79.922023, -79.91524799999999, -79.92492], \"marker\": {\"color\": \"#FEAF16\", \"size\": [19, 8, 19], \"sizemode\": \"area\", \"sizeref\": 0.13777777777777778}, \"mode\": \"markers\", \"name\": \"070800\", \"showlegend\": true, \"subplot\": \"mapbox\", \"type\": \"scattermapbox\"}, {\"customdata\": [[\"070500\", 51250.0, 40.45628, -79.930962], [\"070500\", 51250.0, 40.453382, -79.92730999999999]], \"hovertemplate\": \"<b>%{hovertext}</b><br><br>tractce10=%{customdata[0]}<br>NumRacks=%{marker.size}<br>2015_tract_med_hhincome=%{customdata[1]}<extra></extra>\", \"hovertext\": [\"Maryland Ave & Ellsworth Ave\", \"Walnut St & College St\"], \"lat\": [40.45628, 40.453382], \"legendgroup\": \"070500\", \"lon\": [-79.930962, -79.92730999999999], \"marker\": {\"color\": \"#F8A19F\", \"size\": [19, 14], \"sizemode\": \"area\", \"sizeref\": 0.13777777777777778}, \"mode\": \"markers\", \"name\": \"070500\", \"showlegend\": true, \"subplot\": \"mapbox\", \"type\": \"scattermapbox\"}, {\"customdata\": [[\"070300\", 54821.0, 40.45177, -79.932324]], \"hovertemplate\": \"<b>%{hovertext}</b><br><br>tractce10=%{customdata[0]}<br>NumRacks=%{marker.size}<br>2015_tract_med_hhincome=%{customdata[1]}<extra></extra>\", \"hovertext\": [\"Ivy St & Walnut St\"], \"lat\": [40.45177], \"legendgroup\": \"070300\", \"lon\": [-79.932324], \"marker\": {\"color\": \"#90AD1C\", \"size\": [19], \"sizemode\": \"area\", \"sizeref\": 0.13777777777777778}, \"mode\": \"markers\", \"name\": \"070300\", \"showlegend\": true, \"subplot\": \"mapbox\", \"type\": \"scattermapbox\"}, {\"customdata\": [[\"070900\", 33929.0, 40.448419, -79.947401]], \"hovertemplate\": \"<b>%{hovertext}</b><br><br>tractce10=%{customdata[0]}<br>NumRacks=%{marker.size}<br>2015_tract_med_hhincome=%{customdata[1]}<extra></extra>\", \"hovertext\": [\"Ellsworth Ave & N Neville St\"], \"lat\": [40.448419], \"legendgroup\": \"070900\", \"lon\": [-79.947401], \"marker\": {\"color\": \"#F6222E\", \"size\": [15], \"sizemode\": \"area\", \"sizeref\": 0.13777777777777778}, \"mode\": \"markers\", \"name\": \"070900\", \"showlegend\": true, \"subplot\": \"mapbox\", \"type\": \"scattermapbox\"}, {\"customdata\": [[\"982200\", 0.0, 40.446744, -79.95088100000001], [\"982200\", 0.0, 40.442398, -79.951479], [\"982200\", 0.0, 40.445128, -79.957102], [\"982200\", 0.0, 40.44324426, -79.95984256], [\"982200\", 0.0, 40.44301971, -79.95331407], [\"982200\", 0.0, 40.44564886, -79.95327652], [\"982200\", 0.0, 40.44424448, -79.94895279]], \"hovertemplate\": \"<b>%{hovertext}</b><br><br>tractce10=%{customdata[0]}<br>NumRacks=%{marker.size}<br>2015_tract_med_hhincome=%{customdata[1]}<extra></extra>\", \"hovertext\": [\"Fifth Ave & S Dithridge St\", \"Schenley Dr at Schenley Plaza (Carnegie Library Main)\", \"O'Hara St and University Place (Soldiers and Sailors Memorial)\", \"O'Hara St & Desoto St\", \"Schenley Dr & Forbes Ave (Schenley Plaza)\", \"Tennyson Ave & Fifth Ave\", \"Forbes Ave & S Craig St\"], \"lat\": [40.446744, 40.442398, 40.445128, 40.44324426, 40.44301971, 40.44564886, 40.44424448], \"legendgroup\": \"982200\", \"lon\": [-79.95088100000001, -79.951479, -79.957102, -79.95984256, -79.95331407, -79.95327652, -79.94895279], \"marker\": {\"color\": \"#1CFFCE\", \"size\": [8, 19, 21, 5, 7, 6, 5], \"sizemode\": \"area\", \"sizeref\": 0.13777777777777778}, \"mode\": \"markers\", \"name\": \"982200\", \"showlegend\": true, \"subplot\": \"mapbox\", \"type\": \"scattermapbox\"}, {\"customdata\": [[\"140100\", 119688.0, 40.441032, -79.948042], [\"140100\", 119688.0, 40.43775296, -79.93363738]], \"hovertemplate\": \"<b>%{hovertext}</b><br><br>tractce10=%{customdata[0]}<br>NumRacks=%{marker.size}<br>2015_tract_med_hhincome=%{customdata[1]}<extra></extra>\", \"hovertext\": [\"Frew St & Schenley Dr\", \"Schenley Dr & Forbes Ave (Squirrel Hill)\"], \"lat\": [40.441032, 40.43775296], \"legendgroup\": \"140100\", \"lon\": [-79.948042, -79.93363738], \"marker\": {\"color\": \"#2ED9FF\", \"size\": [20, 6], \"sizemode\": \"area\", \"sizeref\": 0.13777777777777778}, \"mode\": \"markers\", \"name\": \"140100\", \"showlegend\": true, \"subplot\": \"mapbox\", \"type\": \"scattermapbox\"}, {\"customdata\": [[\"040600\", 21277.0, 40.434338, -79.951877], [\"040600\", 21277.0, 40.437987, -79.95366999999999]], \"hovertemplate\": \"<b>%{hovertext}</b><br><br>tractce10=%{customdata[0]}<br>NumRacks=%{marker.size}<br>2015_tract_med_hhincome=%{customdata[1]}<extra></extra>\", \"hovertext\": [\"Boulevard of the Allies & Parkview Ave\", \"Atwood St & Bates\"], \"lat\": [40.434338, 40.437987], \"legendgroup\": \"040600\", \"lon\": [-79.951877, -79.95366999999999], \"marker\": {\"color\": \"#B10DA1\", \"size\": [19, 8], \"sizemode\": \"area\", \"sizeref\": 0.13777777777777778}, \"mode\": \"markers\", \"name\": \"040600\", \"showlegend\": true, \"subplot\": \"mapbox\", \"type\": \"scattermapbox\"}, {\"customdata\": [[\"040500\", 17441.0, 40.442325, -79.957604], [\"040500\", 17441.0, 40.435986, -79.956942], [\"040500\", 17441.0, 40.43874918, -79.95703161], [\"040500\", 17441.0, 40.44136216, -79.95555639]], \"hovertemplate\": \"<b>%{hovertext}</b><br><br>tractce10=%{customdata[0]}<br>NumRacks=%{marker.size}<br>2015_tract_med_hhincome=%{customdata[1]}<extra></extra>\", \"hovertext\": [\"Fifth Ave & S Bouquet St\", \"Zulema St & Coltart Ave\", \"Semple St & Louisa St\", \"S Bouquet Ave & Sennott St\"], \"lat\": [40.442325, 40.435986, 40.43874918, 40.44136216], \"legendgroup\": \"040500\", \"lon\": [-79.957604, -79.956942, -79.95703161, -79.95555639], \"marker\": {\"color\": \"#C075A6\", \"size\": [19, 19, 5, 6], \"sizemode\": \"area\", \"sizeref\": 0.13777777777777778}, \"mode\": \"markers\", \"name\": \"040500\", \"showlegend\": true, \"subplot\": \"mapbox\", \"type\": \"scattermapbox\"}, {\"customdata\": [[\"050100\", 17692.0, 40.445236, -79.976911]], \"hovertemplate\": \"<b>%{hovertext}</b><br><br>tractce10=%{customdata[0]}<br>NumRacks=%{marker.size}<br>2015_tract_med_hhincome=%{customdata[1]}<extra></extra>\", \"hovertext\": [\"Centre Ave & Kirkpatrick St\"], \"lat\": [40.445236], \"legendgroup\": \"050100\", \"lon\": [-79.976911], \"marker\": {\"color\": \"#FC1CBF\", \"size\": [12], \"sizemode\": \"area\", \"sizeref\": 0.13777777777777778}, \"mode\": \"markers\", \"name\": \"050100\", \"showlegend\": true, \"subplot\": \"mapbox\", \"type\": \"scattermapbox\"}, {\"customdata\": [[\"080400\", 32837.0, 40.45351, -79.94747]], \"hovertemplate\": \"<b>%{hovertext}</b><br><br>tractce10=%{customdata[0]}<br>NumRacks=%{marker.size}<br>2015_tract_med_hhincome=%{customdata[1]}<extra></extra>\", \"hovertext\": [\"S Millvale Ave & Centre Ave\"], \"lat\": [40.45351], \"legendgroup\": \"080400\", \"lon\": [-79.94747], \"marker\": {\"color\": \"#B00068\", \"size\": [13], \"sizemode\": \"area\", \"sizeref\": 0.13777777777777778}, \"mode\": \"markers\", \"name\": \"080400\", \"showlegend\": true, \"subplot\": \"mapbox\", \"type\": \"scattermapbox\"}, {\"customdata\": [[\"160900\", 53241.0, 40.4279, -79.966112], [\"160900\", 53241.0, 40.42802, -79.969799], [\"160900\", 53241.0, 40.428576, -79.974559], [\"160900\", 53241.0, 40.42708753, -79.96279836]], \"hovertemplate\": \"<b>%{hovertext}</b><br><br>tractce10=%{customdata[0]}<br>NumRacks=%{marker.size}<br>2015_tract_med_hhincome=%{customdata[1]}<extra></extra>\", \"hovertext\": [\"S 27th St & Sidney St. (Southside Works)\", \"S 25th St & E Carson St\", \"S 22nd St & E Carson St\", \"Hot Metal St & Tunnel Blvd\"], \"lat\": [40.4279, 40.42802, 40.428576, 40.42708753], \"legendgroup\": \"160900\", \"lon\": [-79.966112, -79.969799, -79.974559, -79.96279836], \"marker\": {\"color\": \"#FBE426\", \"size\": [19, 19, 19, 13], \"sizemode\": \"area\", \"sizeref\": 0.13777777777777778}, \"mode\": \"markers\", \"name\": \"160900\", \"showlegend\": true, \"subplot\": \"mapbox\", \"type\": \"scattermapbox\"}, {\"customdata\": [[\"170200\", 43750.0, 40.429338, -79.980684], [\"170200\", 43750.0, 40.428661, -79.986358], [\"170200\", 43750.0, 40.43128939, -79.99526918]], \"hovertemplate\": \"<b>%{hovertext}</b><br><br>tractce10=%{customdata[0]}<br>NumRacks=%{marker.size}<br>2015_tract_med_hhincome=%{customdata[1]}<extra></extra>\", \"hovertext\": [\"S 18th St & Sidney St\", \"S 12th St & E Carson St\", \"South Side Trail & S 4th St\"], \"lat\": [40.429338, 40.428661, 40.43128939], \"legendgroup\": \"170200\", \"lon\": [-79.980684, -79.986358, -79.99526918], \"marker\": {\"color\": \"#FA0087\", \"size\": [16, 19, 5], \"sizemode\": \"area\", \"sizeref\": 0.13777777777777778}, \"mode\": \"markers\", \"name\": \"170200\", \"showlegend\": true, \"subplot\": \"mapbox\", \"type\": \"scattermapbox\"}, {\"customdata\": [[\"120800\", 25689.0, 40.45803, -79.9112], [\"120800\", 25689.0, 40.46361735, -79.91746902]], \"hovertemplate\": \"<b>%{hovertext}</b><br><br>tractce10=%{customdata[0]}<br>NumRacks=%{marker.size}<br>2015_tract_med_hhincome=%{customdata[1]}<extra></extra>\", \"hovertext\": [\"Hamilton Ave & Zodiac Way\", \"E Liberty Blvd & Larimer Ave\"], \"lat\": [40.45803, 40.46361735], \"legendgroup\": \"120800\", \"lon\": [-79.9112, -79.91746902], \"marker\": {\"color\": \"#AA0DFE\", \"size\": [5, 6], \"sizemode\": \"area\", \"sizeref\": 0.13777777777777778}, \"mode\": \"markers\", \"name\": \"120800\", \"showlegend\": true, \"subplot\": \"mapbox\", \"type\": \"scattermapbox\"}, {\"customdata\": [[\"060300\", 37431.0, 40.4620256, -79.9681145], [\"060300\", 37431.0, 40.46490704, -79.96008396], [\"060300\", 37431.0, 40.462184, -79.96162], [\"060300\", 37431.0, 40.46529884, -79.96527672]], \"hovertemplate\": \"<b>%{hovertext}</b><br><br>tractce10=%{customdata[0]}<br>NumRacks=%{marker.size}<br>2015_tract_med_hhincome=%{customdata[1]}<extra></extra>\", \"hovertext\": [\"33rd St and Penn Ave\", \"Penn Ave & 39th St\", \"Liberty Ave & 37th St\", \"Butler St & 36th St\"], \"lat\": [40.4620256, 40.46490704, 40.462184, 40.46529884], \"legendgroup\": \"060300\", \"lon\": [-79.9681145, -79.96008396, -79.96162, -79.96527672], \"marker\": {\"color\": \"#3283FE\", \"size\": [6, 6, 6, 6], \"sizemode\": \"area\", \"sizeref\": 0.13777777777777778}, \"mode\": \"markers\", \"name\": \"060300\", \"showlegend\": true, \"subplot\": \"mapbox\", \"type\": \"scattermapbox\"}, {\"customdata\": [[\"101700\", 32163.0, 40.46460503, -79.9387604]], \"hovertemplate\": \"<b>%{hovertext}</b><br><br>tractce10=%{customdata[0]}<br>NumRacks=%{marker.size}<br>2015_tract_med_hhincome=%{customdata[1]}<extra></extra>\", \"hovertext\": [\"Penn Ave & N Atlantic Ave\"], \"lat\": [40.46460503], \"legendgroup\": \"101700\", \"lon\": [-79.9387604], \"marker\": {\"color\": \"#85660D\", \"size\": [5], \"sizemode\": \"area\", \"sizeref\": 0.13777777777777778}, \"mode\": \"markers\", \"name\": \"101700\", \"showlegend\": true, \"subplot\": \"mapbox\", \"type\": \"scattermapbox\"}, {\"customdata\": [[\"130300\", 13986.0, 40.45304583, -79.89847898], [\"130300\", 13986.0, 40.45668686, -79.89813566]], \"hovertemplate\": \"<b>%{hovertext}</b><br><br>tractce10=%{customdata[0]}<br>NumRacks=%{marker.size}<br>2015_tract_med_hhincome=%{customdata[1]}<extra></extra>\", \"hovertext\": [\"N Homewood Ave & Finance St (Homewood Station)\", \"Bennett St & Eccrue Way\"], \"lat\": [40.45304583, 40.45668686], \"legendgroup\": \"130300\", \"lon\": [-79.89847898, -79.89813566], \"marker\": {\"color\": \"#782AB6\", \"size\": [8, 7], \"sizemode\": \"area\", \"sizeref\": 0.13777777777777778}, \"mode\": \"markers\", \"name\": \"130300\", \"showlegend\": true, \"subplot\": \"mapbox\", \"type\": \"scattermapbox\"}, {\"customdata\": [[\"140800\", 67944.0, 40.4380532, -79.9229474]], \"hovertemplate\": \"<b>%{hovertext}</b><br><br>tractce10=%{customdata[0]}<br>NumRacks=%{marker.size}<br>2015_tract_med_hhincome=%{customdata[1]}<extra></extra>\", \"hovertext\": [\"Forbes Ave & Murray Ave\"], \"lat\": [40.4380532], \"legendgroup\": \"140800\", \"lon\": [-79.9229474], \"marker\": {\"color\": \"#565656\", \"size\": [5], \"sizemode\": \"area\", \"sizeref\": 0.13777777777777778}, \"mode\": \"markers\", \"name\": \"140800\", \"showlegend\": true, \"subplot\": \"mapbox\", \"type\": \"scattermapbox\"}, {\"customdata\": [[\"141300\", 48000.0, 40.43531949, -79.92288709], [\"141300\", 48000.0, 40.43251029, -79.92733955], [\"141300\", 48000.0, 40.43791627, -79.92781162]], \"hovertemplate\": \"<b>%{hovertext}</b><br><br>tractce10=%{customdata[0]}<br>NumRacks=%{marker.size}<br>2015_tract_med_hhincome=%{customdata[1]}<extra></extra>\", \"hovertext\": [\"Beacon St & Murray Ave\", \"Hobart St & Wightman St\", \"Wightman St & Forbes Ave\"], \"lat\": [40.43531949, 40.43251029, 40.43791627], \"legendgroup\": \"141300\", \"lon\": [-79.92288709, -79.92733955, -79.92781162], \"marker\": {\"color\": \"#1C8356\", \"size\": [6, 5, 5], \"sizemode\": \"area\", \"sizeref\": 0.13777777777777778}, \"mode\": \"markers\", \"name\": \"141300\", \"showlegend\": true, \"subplot\": \"mapbox\", \"type\": \"scattermapbox\"}, {\"customdata\": [[\"980700\", 0.0, 40.43268995, -80.00302076]], \"hovertemplate\": \"<b>%{hovertext}</b><br><br>tractce10=%{customdata[0]}<br>NumRacks=%{marker.size}<br>2015_tract_med_hhincome=%{customdata[1]}<extra></extra>\", \"hovertext\": [\"Glasshouse\"], \"lat\": [40.43268995], \"legendgroup\": \"980700\", \"lon\": [-80.00302076], \"marker\": {\"color\": \"#16FF32\", \"size\": [10], \"sizemode\": \"area\", \"sizeref\": 0.13777777777777778}, \"mode\": \"markers\", \"name\": \"980700\", \"showlegend\": true, \"subplot\": \"mapbox\", \"type\": \"scattermapbox\"}, {\"customdata\": [[\"040900\", 26964.0, 40.42968463, -79.95414019]], \"hovertemplate\": \"<b>%{hovertext}</b><br><br>tractce10=%{customdata[0]}<br>NumRacks=%{marker.size}<br>2015_tract_med_hhincome=%{customdata[1]}<extra></extra>\", \"hovertext\": [\"Frazier St & Dawson St\"], \"lat\": [40.42968463], \"legendgroup\": \"040900\", \"lon\": [-79.95414019], \"marker\": {\"color\": \"#F7E1A0\", \"size\": [5], \"sizemode\": \"area\", \"sizeref\": 0.13777777777777778}, \"mode\": \"markers\", \"name\": \"040900\", \"showlegend\": true, \"subplot\": \"mapbox\", \"type\": \"scattermapbox\"}, {\"customdata\": [[\"040400\", 26196.0, 40.446739, -79.94893]], \"hovertemplate\": \"<b>%{hovertext}</b><br><br>tractce10=%{customdata[0]}<br>NumRacks=%{marker.size}<br>2015_tract_med_hhincome=%{customdata[1]}<extra></extra>\", \"hovertext\": [\"S Craig St & 5th Ave\"], \"lat\": [40.446739], \"legendgroup\": \"040400\", \"lon\": [-79.94893], \"marker\": {\"color\": \"#E2E2E2\", \"size\": [6], \"sizemode\": \"area\", \"sizeref\": 0.13777777777777778}, \"mode\": \"markers\", \"name\": \"040400\", \"showlegend\": true, \"subplot\": \"mapbox\", \"type\": \"scattermapbox\"}, {\"customdata\": [[\"562000\", 16318.0, 40.45186204, -79.95173693]], \"hovertemplate\": \"<b>%{hovertext}</b><br><br>tractce10=%{customdata[0]}<br>NumRacks=%{marker.size}<br>2015_tract_med_hhincome=%{customdata[1]}<extra></extra>\", \"hovertext\": [\"Centre Ave & N Craig St\"], \"lat\": [40.45186204], \"legendgroup\": \"562000\", \"lon\": [-79.95173693], \"marker\": {\"color\": \"#1CBE4F\", \"size\": [6], \"sizemode\": \"area\", \"sizeref\": 0.13777777777777778}, \"mode\": \"markers\", \"name\": \"562000\", \"showlegend\": true, \"subplot\": \"mapbox\", \"type\": \"scattermapbox\"}, {\"customdata\": [[\"120700\", 19762.0, 40.45623787, -79.90505576]], \"hovertemplate\": \"<b>%{hovertext}</b><br><br>tractce10=%{customdata[0]}<br>NumRacks=%{marker.size}<br>2015_tract_med_hhincome=%{customdata[1]}<extra></extra>\", \"hovertext\": [\"Hamilton Ave & N Dallas Ave\"], \"lat\": [40.45623787], \"legendgroup\": \"120700\", \"lon\": [-79.90505576], \"marker\": {\"color\": \"#C4451C\", \"size\": [6], \"sizemode\": \"area\", \"sizeref\": 0.13777777777777778}, \"mode\": \"markers\", \"name\": \"120700\", \"showlegend\": true, \"subplot\": \"mapbox\", \"type\": \"scattermapbox\"}, {\"customdata\": [[\"111300\", 33400.0, 40.467715, -79.92787], [\"111300\", 33400.0, 40.47122337, -79.92560189]], \"hovertemplate\": \"<b>%{hovertext}</b><br><br>tractce10=%{customdata[0]}<br>NumRacks=%{marker.size}<br>2015_tract_med_hhincome=%{customdata[1]}<extra></extra>\", \"hovertext\": [\"E Liberty Blvd & Negley Ave\", \"Stanton Ave & N Negley Ave\"], \"lat\": [40.467715, 40.47122337], \"legendgroup\": \"111300\", \"lon\": [-79.92787, -79.92560189], \"marker\": {\"color\": \"#DEA0FD\", \"size\": [5, 6], \"sizemode\": \"area\", \"sizeref\": 0.13777777777777778}, \"mode\": \"markers\", \"name\": \"111300\", \"showlegend\": true, \"subplot\": \"mapbox\", \"type\": \"scattermapbox\"}, {\"customdata\": [[\"080700\", 36944.0, 40.46150726, -79.93510187]], \"hovertemplate\": \"<b>%{hovertext}</b><br><br>tractce10=%{customdata[0]}<br>NumRacks=%{marker.size}<br>2015_tract_med_hhincome=%{customdata[1]}<extra></extra>\", \"hovertext\": [\"Roup Ave & Friendship Ave\"], \"lat\": [40.46150726], \"legendgroup\": \"080700\", \"lon\": [-79.93510187], \"marker\": {\"color\": \"#FE00FA\", \"size\": [5], \"sizemode\": \"area\", \"sizeref\": 0.13777777777777778}, \"mode\": \"markers\", \"name\": \"080700\", \"showlegend\": true, \"subplot\": \"mapbox\", \"type\": \"scattermapbox\"}, {\"customdata\": [[\"240600\", 40566.0, 40.45379691, -79.99094009]], \"hovertemplate\": \"<b>%{hovertext}</b><br><br>tractce10=%{customdata[0]}<br>NumRacks=%{marker.size}<br>2015_tract_med_hhincome=%{customdata[1]}<extra></extra>\", \"hovertext\": [\"Microsoft\"], \"lat\": [40.45379691], \"legendgroup\": \"240600\", \"lon\": [-79.99094009], \"marker\": {\"color\": \"#325A9B\", \"size\": [6], \"sizemode\": \"area\", \"sizeref\": 0.13777777777777778}, \"mode\": \"markers\", \"name\": \"240600\", \"showlegend\": true, \"subplot\": \"mapbox\", \"type\": \"scattermapbox\"}, {\"customdata\": [[\"250300\", 43750.0, 40.45777261, -80.00945807]], \"hovertemplate\": \"<b>%{hovertext}</b><br><br>tractce10=%{customdata[0]}<br>NumRacks=%{marker.size}<br>2015_tract_med_hhincome=%{customdata[1]}<extra></extra>\", \"hovertext\": [\"Arch St & Jacksonia St\"], \"lat\": [40.45777261], \"legendgroup\": \"250300\", \"lon\": [-80.00945807], \"marker\": {\"color\": \"#FEAF16\", \"size\": [5], \"sizemode\": \"area\", \"sizeref\": 0.13777777777777778}, \"mode\": \"markers\", \"name\": \"250300\", \"showlegend\": true, \"subplot\": \"mapbox\", \"type\": \"scattermapbox\"}],                        {\"legend\": {\"itemsizing\": \"constant\", \"title\": {\"text\": \"tractce10\"}, \"tracegroupgap\": 0}, \"mapbox\": {\"center\": {\"lat\": 40.4482108569, \"lon\": -79.96373512509999}, \"domain\": {\"x\": [0.0, 1.0], \"y\": [0.0, 1.0]}, \"style\": \"carto-darkmatter\", \"zoom\": 10}, \"margin\": {\"t\": 60}, \"template\": {\"data\": {\"bar\": [{\"error_x\": {\"color\": \"#2a3f5f\"}, \"error_y\": {\"color\": \"#2a3f5f\"}, \"marker\": {\"line\": {\"color\": \"#E5ECF6\", \"width\": 0.5}}, \"type\": \"bar\"}], \"barpolar\": [{\"marker\": {\"line\": {\"color\": \"#E5ECF6\", \"width\": 0.5}}, \"type\": \"barpolar\"}], \"carpet\": [{\"aaxis\": {\"endlinecolor\": \"#2a3f5f\", \"gridcolor\": \"white\", \"linecolor\": \"white\", \"minorgridcolor\": \"white\", \"startlinecolor\": \"#2a3f5f\"}, \"baxis\": {\"endlinecolor\": \"#2a3f5f\", \"gridcolor\": \"white\", \"linecolor\": \"white\", \"minorgridcolor\": \"white\", \"startlinecolor\": \"#2a3f5f\"}, \"type\": \"carpet\"}], \"choropleth\": [{\"colorbar\": {\"outlinewidth\": 0, \"ticks\": \"\"}, \"type\": \"choropleth\"}], \"contour\": [{\"colorbar\": {\"outlinewidth\": 0, \"ticks\": \"\"}, \"colorscale\": [[0.0, \"#0d0887\"], [0.1111111111111111, \"#46039f\"], [0.2222222222222222, \"#7201a8\"], [0.3333333333333333, \"#9c179e\"], [0.4444444444444444, \"#bd3786\"], [0.5555555555555556, \"#d8576b\"], [0.6666666666666666, \"#ed7953\"], [0.7777777777777778, \"#fb9f3a\"], [0.8888888888888888, \"#fdca26\"], [1.0, \"#f0f921\"]], \"type\": \"contour\"}], \"contourcarpet\": [{\"colorbar\": {\"outlinewidth\": 0, \"ticks\": \"\"}, \"type\": \"contourcarpet\"}], \"heatmap\": [{\"colorbar\": {\"outlinewidth\": 0, \"ticks\": \"\"}, \"colorscale\": [[0.0, \"#0d0887\"], [0.1111111111111111, \"#46039f\"], [0.2222222222222222, \"#7201a8\"], [0.3333333333333333, \"#9c179e\"], [0.4444444444444444, \"#bd3786\"], [0.5555555555555556, \"#d8576b\"], [0.6666666666666666, \"#ed7953\"], [0.7777777777777778, \"#fb9f3a\"], [0.8888888888888888, \"#fdca26\"], [1.0, \"#f0f921\"]], \"type\": \"heatmap\"}], \"heatmapgl\": [{\"colorbar\": {\"outlinewidth\": 0, \"ticks\": \"\"}, \"colorscale\": [[0.0, \"#0d0887\"], [0.1111111111111111, \"#46039f\"], [0.2222222222222222, \"#7201a8\"], [0.3333333333333333, \"#9c179e\"], [0.4444444444444444, \"#bd3786\"], [0.5555555555555556, \"#d8576b\"], [0.6666666666666666, \"#ed7953\"], [0.7777777777777778, \"#fb9f3a\"], [0.8888888888888888, \"#fdca26\"], [1.0, \"#f0f921\"]], \"type\": \"heatmapgl\"}], \"histogram\": [{\"marker\": {\"colorbar\": {\"outlinewidth\": 0, \"ticks\": \"\"}}, \"type\": \"histogram\"}], \"histogram2d\": [{\"colorbar\": {\"outlinewidth\": 0, \"ticks\": \"\"}, \"colorscale\": [[0.0, \"#0d0887\"], [0.1111111111111111, \"#46039f\"], [0.2222222222222222, \"#7201a8\"], [0.3333333333333333, \"#9c179e\"], [0.4444444444444444, \"#bd3786\"], [0.5555555555555556, \"#d8576b\"], [0.6666666666666666, \"#ed7953\"], [0.7777777777777778, \"#fb9f3a\"], [0.8888888888888888, \"#fdca26\"], [1.0, \"#f0f921\"]], \"type\": \"histogram2d\"}], \"histogram2dcontour\": [{\"colorbar\": {\"outlinewidth\": 0, \"ticks\": \"\"}, \"colorscale\": [[0.0, \"#0d0887\"], [0.1111111111111111, \"#46039f\"], [0.2222222222222222, \"#7201a8\"], [0.3333333333333333, \"#9c179e\"], [0.4444444444444444, \"#bd3786\"], [0.5555555555555556, \"#d8576b\"], [0.6666666666666666, \"#ed7953\"], [0.7777777777777778, \"#fb9f3a\"], [0.8888888888888888, \"#fdca26\"], [1.0, \"#f0f921\"]], \"type\": \"histogram2dcontour\"}], \"mesh3d\": [{\"colorbar\": {\"outlinewidth\": 0, \"ticks\": \"\"}, \"type\": \"mesh3d\"}], \"parcoords\": [{\"line\": {\"colorbar\": {\"outlinewidth\": 0, \"ticks\": \"\"}}, \"type\": \"parcoords\"}], \"pie\": [{\"automargin\": true, \"type\": \"pie\"}], \"scatter\": [{\"marker\": {\"colorbar\": {\"outlinewidth\": 0, \"ticks\": \"\"}}, \"type\": \"scatter\"}], \"scatter3d\": [{\"line\": {\"colorbar\": {\"outlinewidth\": 0, \"ticks\": \"\"}}, \"marker\": {\"colorbar\": {\"outlinewidth\": 0, \"ticks\": \"\"}}, \"type\": \"scatter3d\"}], \"scattercarpet\": [{\"marker\": {\"colorbar\": {\"outlinewidth\": 0, \"ticks\": \"\"}}, \"type\": \"scattercarpet\"}], \"scattergeo\": [{\"marker\": {\"colorbar\": {\"outlinewidth\": 0, \"ticks\": \"\"}}, \"type\": \"scattergeo\"}], \"scattergl\": [{\"marker\": {\"colorbar\": {\"outlinewidth\": 0, \"ticks\": \"\"}}, \"type\": \"scattergl\"}], \"scattermapbox\": [{\"marker\": {\"colorbar\": {\"outlinewidth\": 0, \"ticks\": \"\"}}, \"type\": \"scattermapbox\"}], \"scatterpolar\": [{\"marker\": {\"colorbar\": {\"outlinewidth\": 0, \"ticks\": \"\"}}, \"type\": \"scatterpolar\"}], \"scatterpolargl\": [{\"marker\": {\"colorbar\": {\"outlinewidth\": 0, \"ticks\": \"\"}}, \"type\": \"scatterpolargl\"}], \"scatterternary\": [{\"marker\": {\"colorbar\": {\"outlinewidth\": 0, \"ticks\": \"\"}}, \"type\": \"scatterternary\"}], \"surface\": [{\"colorbar\": {\"outlinewidth\": 0, \"ticks\": \"\"}, \"colorscale\": [[0.0, \"#0d0887\"], [0.1111111111111111, \"#46039f\"], [0.2222222222222222, \"#7201a8\"], [0.3333333333333333, \"#9c179e\"], [0.4444444444444444, \"#bd3786\"], [0.5555555555555556, \"#d8576b\"], [0.6666666666666666, \"#ed7953\"], [0.7777777777777778, \"#fb9f3a\"], [0.8888888888888888, \"#fdca26\"], [1.0, \"#f0f921\"]], \"type\": \"surface\"}], \"table\": [{\"cells\": {\"fill\": {\"color\": \"#EBF0F8\"}, \"line\": {\"color\": \"white\"}}, \"header\": {\"fill\": {\"color\": \"#C8D4E3\"}, \"line\": {\"color\": \"white\"}}, \"type\": \"table\"}]}, \"layout\": {\"annotationdefaults\": {\"arrowcolor\": \"#2a3f5f\", \"arrowhead\": 0, \"arrowwidth\": 1}, \"autotypenumbers\": \"strict\", \"coloraxis\": {\"colorbar\": {\"outlinewidth\": 0, \"ticks\": \"\"}}, \"colorscale\": {\"diverging\": [[0, \"#8e0152\"], [0.1, \"#c51b7d\"], [0.2, \"#de77ae\"], [0.3, \"#f1b6da\"], [0.4, \"#fde0ef\"], [0.5, \"#f7f7f7\"], [0.6, \"#e6f5d0\"], [0.7, \"#b8e186\"], [0.8, \"#7fbc41\"], [0.9, \"#4d9221\"], [1, \"#276419\"]], \"sequential\": [[0.0, \"#0d0887\"], [0.1111111111111111, \"#46039f\"], [0.2222222222222222, \"#7201a8\"], [0.3333333333333333, \"#9c179e\"], [0.4444444444444444, \"#bd3786\"], [0.5555555555555556, \"#d8576b\"], [0.6666666666666666, \"#ed7953\"], [0.7777777777777778, \"#fb9f3a\"], [0.8888888888888888, \"#fdca26\"], [1.0, \"#f0f921\"]], \"sequentialminus\": [[0.0, \"#0d0887\"], [0.1111111111111111, \"#46039f\"], [0.2222222222222222, \"#7201a8\"], [0.3333333333333333, \"#9c179e\"], [0.4444444444444444, \"#bd3786\"], [0.5555555555555556, \"#d8576b\"], [0.6666666666666666, \"#ed7953\"], [0.7777777777777778, \"#fb9f3a\"], [0.8888888888888888, \"#fdca26\"], [1.0, \"#f0f921\"]]}, \"colorway\": [\"#636efa\", \"#EF553B\", \"#00cc96\", \"#ab63fa\", \"#FFA15A\", \"#19d3f3\", \"#FF6692\", \"#B6E880\", \"#FF97FF\", \"#FECB52\"], \"font\": {\"color\": \"#2a3f5f\"}, \"geo\": {\"bgcolor\": \"white\", \"lakecolor\": \"white\", \"landcolor\": \"#E5ECF6\", \"showlakes\": true, \"showland\": true, \"subunitcolor\": \"white\"}, \"hoverlabel\": {\"align\": \"left\"}, \"hovermode\": \"closest\", \"mapbox\": {\"style\": \"light\"}, \"paper_bgcolor\": \"white\", \"plot_bgcolor\": \"#E5ECF6\", \"polar\": {\"angularaxis\": {\"gridcolor\": \"white\", \"linecolor\": \"white\", \"ticks\": \"\"}, \"bgcolor\": \"#E5ECF6\", \"radialaxis\": {\"gridcolor\": \"white\", \"linecolor\": \"white\", \"ticks\": \"\"}}, \"scene\": {\"xaxis\": {\"backgroundcolor\": \"#E5ECF6\", \"gridcolor\": \"white\", \"gridwidth\": 2, \"linecolor\": \"white\", \"showbackground\": true, \"ticks\": \"\", \"zerolinecolor\": \"white\"}, \"yaxis\": {\"backgroundcolor\": \"#E5ECF6\", \"gridcolor\": \"white\", \"gridwidth\": 2, \"linecolor\": \"white\", \"showbackground\": true, \"ticks\": \"\", \"zerolinecolor\": \"white\"}, \"zaxis\": {\"backgroundcolor\": \"#E5ECF6\", \"gridcolor\": \"white\", \"gridwidth\": 2, \"linecolor\": \"white\", \"showbackground\": true, \"ticks\": \"\", \"zerolinecolor\": \"white\"}}, \"shapedefaults\": {\"line\": {\"color\": \"#2a3f5f\"}}, \"ternary\": {\"aaxis\": {\"gridcolor\": \"white\", \"linecolor\": \"white\", \"ticks\": \"\"}, \"baxis\": {\"gridcolor\": \"white\", \"linecolor\": \"white\", \"ticks\": \"\"}, \"bgcolor\": \"#E5ECF6\", \"caxis\": {\"gridcolor\": \"white\", \"linecolor\": \"white\", \"ticks\": \"\"}}, \"title\": {\"x\": 0.05}, \"xaxis\": {\"automargin\": true, \"gridcolor\": \"white\", \"linecolor\": \"white\", \"ticks\": \"\", \"title\": {\"standoff\": 15}, \"zerolinecolor\": \"white\", \"zerolinewidth\": 2}, \"yaxis\": {\"automargin\": true, \"gridcolor\": \"white\", \"linecolor\": \"white\", \"ticks\": \"\", \"title\": {\"standoff\": 15}, \"zerolinecolor\": \"white\", \"zerolinewidth\": 2}}}},                        {\"responsive\": true}                    ).then(function(){\n",
       "                            \n",
       "var gd = document.getElementById('2b05f80c-baab-45a6-9f9a-064883af1966');\n",
       "var x = new MutationObserver(function (mutations, observer) {{\n",
       "        var display = window.getComputedStyle(gd).display;\n",
       "        if (!display || display === 'none') {{\n",
       "            console.log([gd, 'removed!']);\n",
       "            Plotly.purge(gd);\n",
       "            observer.disconnect();\n",
       "        }}\n",
       "}});\n",
       "\n",
       "// Listen for the removal of the full notebook cells\n",
       "var notebookContainer = gd.closest('#notebook-container');\n",
       "if (notebookContainer) {{\n",
       "    x.observe(notebookContainer, {childList: true});\n",
       "}}\n",
       "\n",
       "// Listen for the clearing of the current output cell\n",
       "var outputEl = gd.closest('.output');\n",
       "if (outputEl) {{\n",
       "    x.observe(outputEl, {childList: true});\n",
       "}}\n",
       "\n",
       "                        })                };                });            </script>        </div>"
      ]
     },
     "metadata": {},
     "output_type": "display_data"
    }
   ],
   "source": [
    "fig = px.scatter_mapbox(combo_df, lat=\"Latitude\", lon=\"Longitude\", \n",
    "                        color=\"tractce10\", \n",
    "                        size=\"NumRacks\",\n",
    "                        hover_name=\"Station_Name\", \n",
    "                        hover_data={\"tractce10\":True, \n",
    "                                    \"2015_tract_med_hhincome\":True,\n",
    "                                   \"Latitude\": False,\n",
    "                                   \"Longitude\": False},\n",
    "                        color_discrete_sequence=px.colors.qualitative.Alphabet, size_max=15, zoom=10,\n",
    "                        mapbox_style=\"carto-darkmatter\")\n",
    "fig.show()"
   ]
  },
  {
   "cell_type": "markdown",
   "metadata": {},
   "source": [
    "### Counting Number of Stations per Tract"
   ]
  },
  {
   "cell_type": "code",
   "execution_count": 87,
   "metadata": {},
   "outputs": [],
   "source": [
    "data = []\n",
    "count = 0\n",
    "\n",
    "for row in range(len(cenTract)):\n",
    "    data.append([cenTract.loc[row]['tractce10'], count])\n",
    "    \n",
    "tracts_df = pd.DataFrame(data, columns = ['tractce10', 'count'])\n",
    "\n",
    "for row in range(len(cenTract)):\n",
    "    count = 0\n",
    "    cen = cenTract.loc[row]['tractce10']\n",
    "#     print(\"Census Tract: \", cen)\n",
    "    for row2 in range(len(df)):\n",
    "        dfcen = df.loc[row2]['tractce10']\n",
    "#         print(\"Current Row Tract: \", dfcen)\n",
    "        if cen == dfcen:\n",
    "#             print(\"adding\")\n",
    "            count += 1\n",
    "#             print(\"count is now: \", count)\n",
    "#     print(\"End of dataframe - adding total\")\n",
    "#     print(\"total is \", count)\n",
    "#     print(tracts_df.loc[tracts_df['tractce10'] == cen])\n",
    "    idx = tracts_df.loc[tracts_df['tractce10'] == cen].index\n",
    "    tracts_df.at[idx,'count'] = count\n",
    "#     print(\"added\")\n",
    "#     print(tracts_df.loc[tracts_df['tractce10'] == cen])\n"
   ]
  },
  {
   "cell_type": "markdown",
   "metadata": {},
   "source": [
    "### Mapping count of stations per census tract"
   ]
  },
  {
   "cell_type": "code",
   "execution_count": 88,
   "metadata": {
    "scrolled": true
   },
   "outputs": [
    {
     "name": "stderr",
     "output_type": "stream",
     "text": [
      "/Users/katelyncmorrison/opt/anaconda3/envs/fair_demand_prediction/lib/python3.7/site-packages/ipykernel_launcher.py:4: UserWarning:\n",
      "\n",
      "Geometry is in a geographic CRS. Results from 'centroid' are likely incorrect. Use 'GeoSeries.to_crs()' to re-project geometries to a projected CRS before this operation.\n",
      "\n",
      "\n"
     ]
    },
    {
     "data": {
      "image/png": "[encoded data removed]",
      "text/plain": [
       "<Figure size 1080x864 with 2 Axes>"
      ]
     },
     "metadata": {
      "needs_background": "light"
     },
     "output_type": "display_data"
    }
   ],
   "source": [
    "final_df = cenTract.merge(tracts_df, on='tractce10')\n",
    "\n",
    "#find the centroids of each neighborhood for labeling\n",
    "final_df[\"center\"] = final_df[\"geometry\"].centroid\n",
    "map_points = final_df.copy()\n",
    "map_points.set_geometry(\"center\", inplace = True)\n",
    "#plot the neighborhood ids on the map\n",
    "final_df.plot(column=\"count\", cmap='BuPu', figsize = (15, 12), edgecolor = \"grey\", linewidth = 0.5, legend=True, legend_kwds={'label': \"Poor Housing Conditions\",'orientation': \"horizontal\"})\n",
    "    \n",
    "texts = []\n",
    "\n",
    "for x, y, label in zip(map_points.geometry.x, map_points.geometry.y, map_points[\"count\"]):\n",
    "    texts.append(plt.text(x, y, label, fontsize = 8))"
   ]
  },
  {
   "cell_type": "markdown",
   "metadata": {},
   "source": [
    "### Mapping Count Relative to Poor Housing Conditions"
   ]
  },
  {
   "cell_type": "code",
   "execution_count": 90,
   "metadata": {},
   "outputs": [
    {
     "name": "stdout",
     "output_type": "stream",
     "text": [
      "040500\n",
      "040400\n",
      "040200\n",
      "030500\n",
      "980000\n",
      "020300\n",
      "020100\n",
      "262000\n",
      "261500\n",
      "261400\n",
      "261200\n",
      "260900\n",
      "260700\n",
      "563100\n",
      "562400\n",
      "981000\n",
      "170200\n",
      "180300\n",
      "170600\n",
      "010300\n",
      "260200\n",
      "180700\n",
      "250900\n",
      "562900\n",
      "561900\n",
      "130600\n",
      "040900\n",
      "562300\n",
      "151700\n",
      "151600\n",
      "141400\n",
      "141300\n",
      "250300\n",
      "241200\n",
      "562000\n",
      "080900\n",
      "240600\n",
      "220600\n",
      "981800\n",
      "080200\n",
      "160800\n",
      "101800\n",
      "060300\n",
      "080700\n",
      "290400\n",
      "981100\n",
      "190300\n",
      "101600\n",
      "191100\n",
      "191400\n",
      "110600\n",
      "141100\n",
      "110200\n",
      "101700\n",
      "210700\n",
      "980100\n",
      "101100\n",
      "140600\n",
      "120400\n",
      "191600\n",
      "191700\n",
      "101400\n",
      "100500\n",
      "090100\n",
      "090200\n",
      "090300\n",
      "982200\n",
      "191800\n",
      "202300\n",
      "563000\n",
      "561600\n",
      "561700\n",
      "202200\n",
      "980700\n",
      "562700\n",
      "562600\n",
      "191900\n",
      "080600\n",
      "080400\n",
      "070900\n",
      "070800\n",
      "300100\n",
      "270800\n",
      "981200\n",
      "281400\n",
      "281500\n",
      "140500\n",
      "290200\n",
      "070600\n",
      "070500\n",
      "070300\n",
      "060500\n",
      "980600\n",
      "140100\n",
      "290100\n",
      "051100\n",
      "051000\n",
      "050900\n",
      "141000\n",
      "140800\n",
      "140400\n",
      "191500\n",
      "562500\n",
      "310200\n",
      "320400\n",
      "140300\n",
      "140200\n",
      "271500\n",
      "563200\n",
      "192000\n",
      "320600\n",
      "320700\n",
      "130400\n",
      "130300\n",
      "130200\n",
      "270300\n",
      "980400\n",
      "481000\n",
      "130100\n",
      "120800\n",
      "120700\n",
      "980300\n",
      "562800\n",
      "120300\n",
      "111500\n",
      "310300\n",
      "111400\n",
      "111300\n",
      "050600\n",
      "980500\n",
      "160900\n",
      "050100\n",
      "040600\n",
      "270100\n",
      "980900\n",
      "250700\n",
      "270400\n",
      "980800\n"
     ]
    }
   ],
   "source": [
    "final_PHC_df = final_df.join(cenTractPHC['PPoorCon'])\n",
    "\n",
    "\n",
    "for i in range(len(final_PHC_df)):\n",
    "    print(final_PHC_df.loc[i]['tractce10'])"
   ]
  },
  {
   "cell_type": "code",
   "execution_count": 15,
   "metadata": {},
   "outputs": [
    {
     "name": "stderr",
     "output_type": "stream",
     "text": [
      "/Users/katelyncmorrison/opt/anaconda3/envs/fair_demand_prediction/lib/python3.7/site-packages/ipykernel_launcher.py:2: UserWarning:\n",
      "\n",
      "Geometry is in a geographic CRS. Results from 'centroid' are likely incorrect. Use 'GeoSeries.to_crs()' to re-project geometries to a projected CRS before this operation.\n",
      "\n",
      "\n"
     ]
    },
    {
     "data": {
      "image/png": "[encoded data removed]",
      "text/plain": [
       "<Figure size 1080x864 with 2 Axes>"
      ]
     },
     "metadata": {
      "needs_background": "light"
     },
     "output_type": "display_data"
    }
   ],
   "source": [
    "#find the centroids of each neighborhood for labeling\n",
    "final_PHC_df[\"center\"] = final_PHC_df[\"geometry\"].centroid\n",
    "map_points = final_PHC_df.copy()\n",
    "map_points.set_geometry(\"center\", inplace = True)\n",
    "\n",
    "final_PHC_df.plot(column=\"PPoorCon\", cmap='BuPu', figsize = (15, 12), edgecolor = \"grey\", linewidth = 0.5, legend=True, legend_kwds={'label': \"Poor Housing Conditions\",'orientation': \"vertical\"})\n",
    "#now adding the bike station location data on top of this map. \n",
    "result = plt.scatter(combo_df['Longitude'], combo_df['Latitude'], 15, marker='o', color='Purple')\n",
    "texts = []\n",
    "\n",
    "for x, y, label in zip(map_points.geometry.x, map_points.geometry.y, map_points[\"count\"]):\n",
    "    texts.append(plt.text(x, y, label, fontsize = 8))\n",
    "    \n",
    "#save figure and label it\n",
    "resultFig = result.get_figure()\n",
    "resultFig.suptitle('Number of Bike Stations/Census Tract: Pittsburgh, PA', fontsize=24)\n",
    "resultFig.savefig(\"../Results/stat_count_PHC.png\")"
   ]
  },
  {
   "cell_type": "markdown",
   "metadata": {},
   "source": [
    "#### number of racks in census tracts with poor housing conditions are \n",
    "12 + 5 + 6 + 7 + 8 = 38\n",
    "#### how many racks total? \n",
    "1085\n",
    "#### how many bike stations total? \n",
    "100\n",
    "#### how many bikes total?\n",
    "550\n",
    "#### which census tracts are those 5 bike stations in? \n",
    "120700, 130300, 050100, 101700"
   ]
  },
  {
   "cell_type": "code",
   "execution_count": 19,
   "metadata": {},
   "outputs": [
    {
     "name": "stdout",
     "output_type": "stream",
     "text": [
      "1085\n"
     ]
    }
   ],
   "source": [
    "total = 0\n",
    "for i in range(len(combo_df)):\n",
    "    total += combo_df.loc[i]['NumRacks']\n",
    "    \n",
    "print(total)"
   ]
  },
  {
   "cell_type": "code",
   "execution_count": 61,
   "metadata": {},
   "outputs": [],
   "source": [
    "upper_df = combo_df.loc[(combo_df['tractce10'] != '120700') & (combo_df['tractce10'] != '130300') & (combo_df['tractce10'] != '050100') & (combo_df['tractce10'] != '101700')]"
   ]
  },
  {
   "cell_type": "markdown",
   "metadata": {},
   "source": [
    "### Modified Map\n",
    "Below the map shows all bike stations that are not in census tracts with a significant percentage of poor housing conditions."
   ]
  },
  {
   "cell_type": "code",
   "execution_count": 62,
   "metadata": {},
   "outputs": [
    {
     "data": {
      "application/vnd.plotly.v1+json": {
       "config": {
        "plotlyServerURL": "https://plot.ly"
       },
       "data": [
        {
         "customdata": [
          [
           "020100",
           67750,
           40.441326,
           -80.00467900000001
          ],
          [
           "020100",
           67750,
           40.440877,
           -80.00308000000001
          ],
          [
           "020100",
           67750,
           40.43903,
           -80.00186
          ],
          [
           "020100",
           67750,
           40.4372,
           -80.000375
          ],
          [
           "020100",
           67750,
           40.435887,
           -79.997102
          ],
          [
           "020100",
           67750,
           40.438882,
           -79.997592
          ],
          [
           "020100",
           67750,
           40.440193,
           -79.99508399999999
          ],
          [
           "020100",
           67750,
           40.440368,
           -79.988636
          ],
          [
           "020100",
           67750,
           40.444665,
           -79.995798
          ],
          [
           "020100",
           67750,
           40.444777,
           -80.000831
          ],
          [
           "020100",
           67750,
           40.43866,
           -79.9997
          ],
          [
           "020100",
           67750,
           40.44197,
           -79.9997
          ],
          [
           "020100",
           67750,
           40.44475071,
           -79.99391198
          ],
          [
           "020100",
           67750,
           40.44170511,
           -79.99510288
          ],
          [
           "020100",
           67750,
           40.44353412,
           -79.99839664
          ],
          [
           "020100",
           67750,
           40.44193373,
           -80.00207126
          ],
          [
           "020100",
           67750,
           40.44001486,
           -80.00447989
          ],
          [
           "020100",
           67750,
           40.43766313,
           -79.99629378
          ]
         ],
         "hovertemplate": "<b>%{hovertext}</b><br><br>tractce10=%{customdata[0]}<br>NumRacks=%{marker.size}<br>2015_tract_med_hhincome=%{customdata[1]}<extra></extra>",
         "hovertext": [
          "Liberty Ave & Stanwix St",
          "Forbes Ave & Market Square",
          "Third Ave & Wood St",
          "First Ave & Smithfield St (Art Institute)",
          "First Ave & B St (T Station)",
          "Forbes Ave & Grant St",
          "Ross St & Sixth Ave (Steel Plaza T Station)",
          "Centre Ave & PPG Paints Arena",
          "10th St & Penn Ave (David L. Lawrence Convention Center)",
          "Fort Duquesne Blvd & 7th",
          "Smithfield St & Fourth Ave",
          "Wood St & Sixth Ave",
          "11th St & Penn Ave",
          "Grant St & Strawberry Way",
          "9th St & Penn Ave",
          "Liberty Ave & 6th St",
          "Third Ave & Stanwix St",
          "Ross St & Fourth Ave"
         ],
         "lat": [
          40.441326,
          40.440877,
          40.43903,
          40.4372,
          40.435887,
          40.438882,
          40.440193,
          40.440368,
          40.444665,
          40.444777,
          40.43866,
          40.44197,
          40.44475071,
          40.44170511,
          40.44353412,
          40.44193373,
          40.44001486,
          40.43766313
         ],
         "legendgroup": "020100",
         "lon": [
          -80.00467900000001,
          -80.00308000000001,
          -80.00186,
          -80.000375,
          -79.997102,
          -79.997592,
          -79.99508399999999,
          -79.988636,
          -79.995798,
          -80.000831,
          -79.9997,
          -79.9997,
          -79.99391198,
          -79.99510288,
          -79.99839664,
          -80.00207126,
          -80.00447989,
          -79.99629378
         ],
         "marker": {
          "color": "#AA0DFE",
          "size": [
           16,
           19,
           15,
           15,
           15,
           13,
           7,
           5,
           15,
           15,
           6,
           7,
           6,
           7,
           5,
           6,
           5,
           7
          ],
          "sizemode": "area",
          "sizeref": 0.13777777777777778
         },
         "mode": "markers",
         "name": "020100",
         "showlegend": true,
         "subplot": "mapbox",
         "type": "scattermapbox"
        },
        {
         "customdata": [
          [
           "010300",
           41071,
           40.437643,
           -79.986695
          ],
          [
           "010300",
           41071,
           40.4377657,
           -79.9906531
          ],
          [
           "010300",
           41071,
           40.43829598,
           -79.98117685
          ]
         ],
         "hovertemplate": "<b>%{hovertext}</b><br><br>tractce10=%{customdata[0]}<br>NumRacks=%{marker.size}<br>2015_tract_med_hhincome=%{customdata[1]}<extra></extra>",
         "hovertext": [
          "Stevenson St & Forbes Ave",
          "McNulty Dr & Forbes Ave",
          "Fifth Ave & Miltenberger"
         ],
         "lat": [
          40.437643,
          40.4377657,
          40.43829598
         ],
         "legendgroup": "010300",
         "lon": [
          -79.986695,
          -79.9906531,
          -79.98117685
         ],
         "marker": {
          "color": "#3283FE",
          "size": [
           15,
           6,
           6
          ],
          "sizemode": "area",
          "sizeref": 0.13777777777777778
         },
         "mode": "markers",
         "name": "010300",
         "showlegend": true,
         "subplot": "mapbox",
         "type": "scattermapbox"
        },
        {
         "customdata": [
          [
           "020300",
           94643,
           40.445844,
           -79.99238000000001
          ],
          [
           "020300",
           94643,
           40.449631,
           -79.985893
          ],
          [
           "020300",
           94643,
           40.451742,
           -79.98321700000001
          ],
          [
           "020300",
           94643,
           40.45632767,
           -79.98021126
          ],
          [
           "020300",
           94643,
           40.45814812,
           -79.97383833
          ],
          [
           "020300",
           94643,
           40.46011138,
           -79.97276008
          ],
          [
           "020300",
           94643,
           40.45400101,
           -79.98171329
          ],
          [
           "020300",
           94643,
           40.447208,
           -79.989725
          ]
         ],
         "hovertemplate": "<b>%{hovertext}</b><br><br>tractce10=%{customdata[0]}<br>NumRacks=%{marker.size}<br>2015_tract_med_hhincome=%{customdata[1]}<extra></extra>",
         "hovertext": [
          "12th St & Penn Ave",
          "17th St & Penn Ave",
          "21st St & Penn Ave",
          "Burns White Centre at 3 Crossings",
          "Penn Ave and 29th St",
          "Smallman St & 31st St",
          "24th St & Smallman St",
          "14th St & Penn Ave"
         ],
         "lat": [
          40.445844,
          40.449631,
          40.451742,
          40.45632767,
          40.45814812,
          40.46011138,
          40.45400101,
          40.447208
         ],
         "legendgroup": "020300",
         "lon": [
          -79.99238000000001,
          -79.985893,
          -79.98321700000001,
          -79.98021126,
          -79.97383833,
          -79.97276008,
          -79.98171329,
          -79.989725
         ],
         "marker": {
          "color": "#85660D",
          "size": [
           19,
           19,
           18,
           12,
           8,
           6,
           6,
           6
          ],
          "sizemode": "area",
          "sizeref": 0.13777777777777778
         },
         "mode": "markers",
         "name": "020300",
         "showlegend": true,
         "subplot": "mapbox",
         "type": "scattermapbox"
        },
        {
         "customdata": [
          [
           "981200",
           0,
           40.445834000000005,
           -80.008882
          ],
          [
           "981200",
           0,
           40.44741245,
           -80.01206517
          ]
         ],
         "hovertemplate": "<b>%{hovertext}</b><br><br>tractce10=%{customdata[0]}<br>NumRacks=%{marker.size}<br>2015_tract_med_hhincome=%{customdata[1]}<extra></extra>",
         "hovertext": [
          "North Shore Trail & Ft Duquesne Bridge",
          "W General Robinson St & Chuck Noll Way"
         ],
         "lat": [
          40.445834000000005,
          40.44741245
         ],
         "legendgroup": "981200",
         "lon": [
          -80.008882,
          -80.01206517
         ],
         "marker": {
          "color": "#782AB6",
          "size": [
           31,
           5
          ],
          "sizemode": "area",
          "sizeref": 0.13777777777777778
         },
         "mode": "markers",
         "name": "981200",
         "showlegend": true,
         "subplot": "mapbox",
         "type": "scattermapbox"
        },
        {
         "customdata": [
          [
           "563200",
           30543,
           40.447166,
           -80.003566
          ]
         ],
         "hovertemplate": "<b>%{hovertext}</b><br><br>tractce10=%{customdata[0]}<br>NumRacks=%{marker.size}<br>2015_tract_med_hhincome=%{customdata[1]}<extra></extra>",
         "hovertext": [
          "Isabella St & Federal St (PNC Park)"
         ],
         "lat": [
          40.447166
         ],
         "legendgroup": "563200",
         "lon": [
          -80.003566
         ],
         "marker": {
          "color": "#565656",
          "size": [
           15
          ],
          "sizemode": "area",
          "sizeref": 0.13777777777777778
         },
         "mode": "markers",
         "name": "563200",
         "showlegend": true,
         "subplot": "mapbox",
         "type": "scattermapbox"
        },
        {
         "customdata": [
          [
           "562700",
           33938,
           40.450595,
           -80.013204
          ],
          [
           "562700",
           33938,
           40.45509087,
           -80.00634670000001
          ]
         ],
         "hovertemplate": "<b>%{hovertext}</b><br><br>tractce10=%{customdata[0]}<br>NumRacks=%{marker.size}<br>2015_tract_med_hhincome=%{customdata[1]}<extra></extra>",
         "hovertext": [
          "Ridge Ave & Brighton Rd (CCAC)",
          "Federal St & E North Ave"
         ],
         "lat": [
          40.450595,
          40.45509087
         ],
         "legendgroup": "562700",
         "lon": [
          -80.013204,
          -80.00634670000001
         ],
         "marker": {
          "color": "#1C8356",
          "size": [
           19,
           12
          ],
          "sizemode": "area",
          "sizeref": 0.13777777777777778
         },
         "mode": "markers",
         "name": "562700",
         "showlegend": true,
         "subplot": "mapbox",
         "type": "scattermapbox"
        },
        {
         "customdata": [
          [
           "981000",
           0,
           40.47815,
           -79.9557
          ]
         ],
         "hovertemplate": "<b>%{hovertext}</b><br><br>tractce10=%{customdata[0]}<br>NumRacks=%{marker.size}<br>2015_tract_med_hhincome=%{customdata[1]}<extra></extra>",
         "hovertext": [
          "Butler St & Stanton Ave"
         ],
         "lat": [
          40.47815
         ],
         "legendgroup": "981000",
         "lon": [
          -79.9557
         ],
         "marker": {
          "color": "#16FF32",
          "size": [
           5
          ],
          "sizemode": "area",
          "sizeref": 0.13777777777777778
         },
         "mode": "markers",
         "name": "981000",
         "showlegend": true,
         "subplot": "mapbox",
         "type": "scattermapbox"
        },
        {
         "customdata": [
          [
           "090100",
           50781,
           40.47021248,
           -79.96066332
          ],
          [
           "090100",
           50781,
           40.47603982,
           -79.95763779
          ]
         ],
         "hovertemplate": "<b>%{hovertext}</b><br><br>tractce10=%{customdata[0]}<br>NumRacks=%{marker.size}<br>2015_tract_med_hhincome=%{customdata[1]}<extra></extra>",
         "hovertext": [
          "42nd St & Butler St",
          "Butler St & 48th St"
         ],
         "lat": [
          40.47021248,
          40.47603982
         ],
         "legendgroup": "090100",
         "lon": [
          -79.96066332,
          -79.95763779
         ],
         "marker": {
          "color": "#F7E1A0",
          "size": [
           17,
           6
          ],
          "sizemode": "area",
          "sizeref": 0.13777777777777778
         },
         "mode": "markers",
         "name": "090100",
         "showlegend": true,
         "subplot": "mapbox",
         "type": "scattermapbox"
        },
        {
         "customdata": [
          [
           "090200",
           53724,
           40.465893,
           -79.954417
          ]
         ],
         "hovertemplate": "<b>%{hovertext}</b><br><br>tractce10=%{customdata[0]}<br>NumRacks=%{marker.size}<br>2015_tract_med_hhincome=%{customdata[1]}<extra></extra>",
         "hovertext": [
          "42nd St & Penn Ave (Children's Hospital)"
         ],
         "lat": [
          40.465893
         ],
         "legendgroup": "090200",
         "lon": [
          -79.954417
         ],
         "marker": {
          "color": "#E2E2E2",
          "size": [
           8
          ],
          "sizemode": "area",
          "sizeref": 0.13777777777777778
         },
         "mode": "markers",
         "name": "090200",
         "showlegend": true,
         "subplot": "mapbox",
         "type": "scattermapbox"
        },
        {
         "customdata": [
          [
           "090300",
           33816,
           40.462769,
           -79.950867
          ]
         ],
         "hovertemplate": "<b>%{hovertext}</b><br><br>tractce10=%{customdata[0]}<br>NumRacks=%{marker.size}<br>2015_tract_med_hhincome=%{customdata[1]}<extra></extra>",
         "hovertext": [
          "Taylor St & Liberty Ave"
         ],
         "lat": [
          40.462769
         ],
         "legendgroup": "090300",
         "lon": [
          -79.950867
         ],
         "marker": {
          "color": "#1CBE4F",
          "size": [
           19
          ],
          "sizemode": "area",
          "sizeref": 0.13777777777777778
         },
         "mode": "markers",
         "name": "090300",
         "showlegend": true,
         "subplot": "mapbox",
         "type": "scattermapbox"
        },
        {
         "customdata": [
          [
           "080900",
           49750,
           40.459812,
           -79.945548
          ],
          [
           "080900",
           49750,
           40.46473563,
           -79.94282663
          ]
         ],
         "hovertemplate": "<b>%{hovertext}</b><br><br>tractce10=%{customdata[0]}<br>NumRacks=%{marker.size}<br>2015_tract_med_hhincome=%{customdata[1]}<extra></extra>",
         "hovertext": [
          "Liberty Ave & S Millvale (West Penn Hospital)",
          "S Winebiddle St & Penn Ave"
         ],
         "lat": [
          40.459812,
          40.46473563
         ],
         "legendgroup": "080900",
         "lon": [
          -79.945548,
          -79.94282663
         ],
         "marker": {
          "color": "#C4451C",
          "size": [
           15,
           5
          ],
          "sizemode": "area",
          "sizeref": 0.13777777777777778
         },
         "mode": "markers",
         "name": "080900",
         "showlegend": true,
         "subplot": "mapbox",
         "type": "scattermapbox"
        },
        {
         "customdata": [
          [
           "080600",
           51509,
           40.456505,
           -79.939362
          ]
         ],
         "hovertemplate": "<b>%{hovertext}</b><br><br>tractce10=%{customdata[0]}<br>NumRacks=%{marker.size}<br>2015_tract_med_hhincome=%{customdata[1]}<extra></extra>",
         "hovertext": [
          "Liberty Ave & Baum Blvd"
         ],
         "lat": [
          40.456505
         ],
         "legendgroup": "080600",
         "lon": [
          -79.939362
         ],
         "marker": {
          "color": "#DEA0FD",
          "size": [
           15
          ],
          "sizemode": "area",
          "sizeref": 0.13777777777777778
         },
         "mode": "markers",
         "name": "080600",
         "showlegend": true,
         "subplot": "mapbox",
         "type": "scattermapbox"
        },
        {
         "customdata": [
          [
           "111500",
           24308,
           40.458714,
           -79.933483
          ],
          [
           "111500",
           24308,
           40.461603,
           -79.925624
          ],
          [
           "111500",
           24308,
           40.46089095,
           -79.91583824
          ]
         ],
         "hovertemplate": "<b>%{hovertext}</b><br><br>tractce10=%{customdata[0]}<br>NumRacks=%{marker.size}<br>2015_tract_med_hhincome=%{customdata[1]}<extra></extra>",
         "hovertext": [
          "S Negley Ave & Baum Blvd",
          "Penn Ave & S Whitfield St",
          "Frankstown Ave & E Liberty Blvd"
         ],
         "lat": [
          40.458714,
          40.461603,
          40.46089095
         ],
         "legendgroup": "111500",
         "lon": [
          -79.933483,
          -79.925624,
          -79.91583824
         ],
         "marker": {
          "color": "#FE00FA",
          "size": [
           17,
           13,
           6
          ],
          "sizemode": "area",
          "sizeref": 0.13777777777777778
         },
         "mode": "markers",
         "name": "111500",
         "showlegend": true,
         "subplot": "mapbox",
         "type": "scattermapbox"
        },
        {
         "customdata": [
          [
           "111400",
           21154,
           40.464443,
           -79.933188
          ]
         ],
         "hovertemplate": "<b>%{hovertext}</b><br><br>tractce10=%{customdata[0]}<br>NumRacks=%{marker.size}<br>2015_tract_med_hhincome=%{customdata[1]}<extra></extra>",
         "hovertext": [
          "Penn Ave & N Fairmount St"
         ],
         "lat": [
          40.464443
         ],
         "legendgroup": "111400",
         "lon": [
          -79.933188
         ],
         "marker": {
          "color": "#325A9B",
          "size": [
           15
          ],
          "sizemode": "area",
          "sizeref": 0.13777777777777778
         },
         "mode": "markers",
         "name": "111400",
         "showlegend": true,
         "subplot": "mapbox",
         "type": "scattermapbox"
        },
        {
         "customdata": [
          [
           "070800",
           51703,
           40.458972,
           -79.922023
          ],
          [
           "070800",
           51703,
           40.455821,
           -79.91524799999999
          ],
          [
           "070800",
           51703,
           40.457415000000005,
           -79.92492
          ]
         ],
         "hovertemplate": "<b>%{hovertext}</b><br><br>tractce10=%{customdata[0]}<br>NumRacks=%{marker.size}<br>2015_tract_med_hhincome=%{customdata[1]}<extra></extra>",
         "hovertext": [
          "Shady Ave & Ellsworth Ave",
          "Penn Ave & Putnam St (Bakery Square)",
          "Alder St & S Higland Ave"
         ],
         "lat": [
          40.458972,
          40.455821,
          40.457415000000005
         ],
         "legendgroup": "070800",
         "lon": [
          -79.922023,
          -79.91524799999999,
          -79.92492
         ],
         "marker": {
          "color": "#FEAF16",
          "size": [
           19,
           8,
           19
          ],
          "sizemode": "area",
          "sizeref": 0.13777777777777778
         },
         "mode": "markers",
         "name": "070800",
         "showlegend": true,
         "subplot": "mapbox",
         "type": "scattermapbox"
        },
        {
         "customdata": [
          [
           "070500",
           51250,
           40.45628,
           -79.930962
          ],
          [
           "070500",
           51250,
           40.453382,
           -79.92730999999999
          ]
         ],
         "hovertemplate": "<b>%{hovertext}</b><br><br>tractce10=%{customdata[0]}<br>NumRacks=%{marker.size}<br>2015_tract_med_hhincome=%{customdata[1]}<extra></extra>",
         "hovertext": [
          "Maryland Ave & Ellsworth Ave",
          "Walnut St & College St"
         ],
         "lat": [
          40.45628,
          40.453382
         ],
         "legendgroup": "070500",
         "lon": [
          -79.930962,
          -79.92730999999999
         ],
         "marker": {
          "color": "#F8A19F",
          "size": [
           19,
           14
          ],
          "sizemode": "area",
          "sizeref": 0.13777777777777778
         },
         "mode": "markers",
         "name": "070500",
         "showlegend": true,
         "subplot": "mapbox",
         "type": "scattermapbox"
        },
        {
         "customdata": [
          [
           "070300",
           54821,
           40.45177,
           -79.932324
          ]
         ],
         "hovertemplate": "<b>%{hovertext}</b><br><br>tractce10=%{customdata[0]}<br>NumRacks=%{marker.size}<br>2015_tract_med_hhincome=%{customdata[1]}<extra></extra>",
         "hovertext": [
          "Ivy St & Walnut St"
         ],
         "lat": [
          40.45177
         ],
         "legendgroup": "070300",
         "lon": [
          -79.932324
         ],
         "marker": {
          "color": "#90AD1C",
          "size": [
           19
          ],
          "sizemode": "area",
          "sizeref": 0.13777777777777778
         },
         "mode": "markers",
         "name": "070300",
         "showlegend": true,
         "subplot": "mapbox",
         "type": "scattermapbox"
        },
        {
         "customdata": [
          [
           "070900",
           33929,
           40.448419,
           -79.947401
          ]
         ],
         "hovertemplate": "<b>%{hovertext}</b><br><br>tractce10=%{customdata[0]}<br>NumRacks=%{marker.size}<br>2015_tract_med_hhincome=%{customdata[1]}<extra></extra>",
         "hovertext": [
          "Ellsworth Ave & N Neville St"
         ],
         "lat": [
          40.448419
         ],
         "legendgroup": "070900",
         "lon": [
          -79.947401
         ],
         "marker": {
          "color": "#F6222E",
          "size": [
           15
          ],
          "sizemode": "area",
          "sizeref": 0.13777777777777778
         },
         "mode": "markers",
         "name": "070900",
         "showlegend": true,
         "subplot": "mapbox",
         "type": "scattermapbox"
        },
        {
         "customdata": [
          [
           "982200",
           0,
           40.446744,
           -79.95088100000001
          ],
          [
           "982200",
           0,
           40.442398,
           -79.951479
          ],
          [
           "982200",
           0,
           40.445128,
           -79.957102
          ],
          [
           "982200",
           0,
           40.44324426,
           -79.95984256
          ],
          [
           "982200",
           0,
           40.44301971,
           -79.95331407
          ],
          [
           "982200",
           0,
           40.44564886,
           -79.95327652
          ],
          [
           "982200",
           0,
           40.44424448,
           -79.94895279
          ]
         ],
         "hovertemplate": "<b>%{hovertext}</b><br><br>tractce10=%{customdata[0]}<br>NumRacks=%{marker.size}<br>2015_tract_med_hhincome=%{customdata[1]}<extra></extra>",
         "hovertext": [
          "Fifth Ave & S Dithridge St",
          "Schenley Dr at Schenley Plaza (Carnegie Library Main)",
          "O'Hara St and University Place (Soldiers and Sailors Memorial)",
          "O'Hara St & Desoto St",
          "Schenley Dr & Forbes Ave (Schenley Plaza)",
          "Tennyson Ave & Fifth Ave",
          "Forbes Ave & S Craig St"
         ],
         "lat": [
          40.446744,
          40.442398,
          40.445128,
          40.44324426,
          40.44301971,
          40.44564886,
          40.44424448
         ],
         "legendgroup": "982200",
         "lon": [
          -79.95088100000001,
          -79.951479,
          -79.957102,
          -79.95984256,
          -79.95331407,
          -79.95327652,
          -79.94895279
         ],
         "marker": {
          "color": "#1CFFCE",
          "size": [
           8,
           19,
           21,
           5,
           7,
           6,
           5
          ],
          "sizemode": "area",
          "sizeref": 0.13777777777777778
         },
         "mode": "markers",
         "name": "982200",
         "showlegend": true,
         "subplot": "mapbox",
         "type": "scattermapbox"
        },
        {
         "customdata": [
          [
           "140100",
           119688,
           40.441032,
           -79.948042
          ],
          [
           "140100",
           119688,
           40.43775296,
           -79.93363738
          ]
         ],
         "hovertemplate": "<b>%{hovertext}</b><br><br>tractce10=%{customdata[0]}<br>NumRacks=%{marker.size}<br>2015_tract_med_hhincome=%{customdata[1]}<extra></extra>",
         "hovertext": [
          "Frew St & Schenley Dr",
          "Schenley Dr & Forbes Ave (Squirrel Hill)"
         ],
         "lat": [
          40.441032,
          40.43775296
         ],
         "legendgroup": "140100",
         "lon": [
          -79.948042,
          -79.93363738
         ],
         "marker": {
          "color": "#2ED9FF",
          "size": [
           20,
           6
          ],
          "sizemode": "area",
          "sizeref": 0.13777777777777778
         },
         "mode": "markers",
         "name": "140100",
         "showlegend": true,
         "subplot": "mapbox",
         "type": "scattermapbox"
        },
        {
         "customdata": [
          [
           "040600",
           21277,
           40.434338,
           -79.951877
          ],
          [
           "040600",
           21277,
           40.437987,
           -79.95366999999999
          ]
         ],
         "hovertemplate": "<b>%{hovertext}</b><br><br>tractce10=%{customdata[0]}<br>NumRacks=%{marker.size}<br>2015_tract_med_hhincome=%{customdata[1]}<extra></extra>",
         "hovertext": [
          "Boulevard of the Allies & Parkview Ave",
          "Atwood St & Bates"
         ],
         "lat": [
          40.434338,
          40.437987
         ],
         "legendgroup": "040600",
         "lon": [
          -79.951877,
          -79.95366999999999
         ],
         "marker": {
          "color": "#B10DA1",
          "size": [
           19,
           8
          ],
          "sizemode": "area",
          "sizeref": 0.13777777777777778
         },
         "mode": "markers",
         "name": "040600",
         "showlegend": true,
         "subplot": "mapbox",
         "type": "scattermapbox"
        },
        {
         "customdata": [
          [
           "040500",
           17441,
           40.442325,
           -79.957604
          ],
          [
           "040500",
           17441,
           40.435986,
           -79.956942
          ],
          [
           "040500",
           17441,
           40.43874918,
           -79.95703161
          ],
          [
           "040500",
           17441,
           40.44136216,
           -79.95555639
          ]
         ],
         "hovertemplate": "<b>%{hovertext}</b><br><br>tractce10=%{customdata[0]}<br>NumRacks=%{marker.size}<br>2015_tract_med_hhincome=%{customdata[1]}<extra></extra>",
         "hovertext": [
          "Fifth Ave & S Bouquet St",
          "Zulema St & Coltart Ave",
          "Semple St & Louisa St",
          "S Bouquet Ave & Sennott St"
         ],
         "lat": [
          40.442325,
          40.435986,
          40.43874918,
          40.44136216
         ],
         "legendgroup": "040500",
         "lon": [
          -79.957604,
          -79.956942,
          -79.95703161,
          -79.95555639
         ],
         "marker": {
          "color": "#C075A6",
          "size": [
           19,
           19,
           5,
           6
          ],
          "sizemode": "area",
          "sizeref": 0.13777777777777778
         },
         "mode": "markers",
         "name": "040500",
         "showlegend": true,
         "subplot": "mapbox",
         "type": "scattermapbox"
        },
        {
         "customdata": [
          [
           "080400",
           32837,
           40.45351,
           -79.94747
          ]
         ],
         "hovertemplate": "<b>%{hovertext}</b><br><br>tractce10=%{customdata[0]}<br>NumRacks=%{marker.size}<br>2015_tract_med_hhincome=%{customdata[1]}<extra></extra>",
         "hovertext": [
          "S Millvale Ave & Centre Ave"
         ],
         "lat": [
          40.45351
         ],
         "legendgroup": "080400",
         "lon": [
          -79.94747
         ],
         "marker": {
          "color": "#FC1CBF",
          "size": [
           13
          ],
          "sizemode": "area",
          "sizeref": 0.13777777777777778
         },
         "mode": "markers",
         "name": "080400",
         "showlegend": true,
         "subplot": "mapbox",
         "type": "scattermapbox"
        },
        {
         "customdata": [
          [
           "160900",
           53241,
           40.4279,
           -79.966112
          ],
          [
           "160900",
           53241,
           40.42802,
           -79.969799
          ],
          [
           "160900",
           53241,
           40.428576,
           -79.974559
          ],
          [
           "160900",
           53241,
           40.42708753,
           -79.96279836
          ]
         ],
         "hovertemplate": "<b>%{hovertext}</b><br><br>tractce10=%{customdata[0]}<br>NumRacks=%{marker.size}<br>2015_tract_med_hhincome=%{customdata[1]}<extra></extra>",
         "hovertext": [
          "S 27th St & Sidney St. (Southside Works)",
          "S 25th St & E Carson St",
          "S 22nd St & E Carson St",
          "Hot Metal St & Tunnel Blvd"
         ],
         "lat": [
          40.4279,
          40.42802,
          40.428576,
          40.42708753
         ],
         "legendgroup": "160900",
         "lon": [
          -79.966112,
          -79.969799,
          -79.974559,
          -79.96279836
         ],
         "marker": {
          "color": "#B00068",
          "size": [
           19,
           19,
           19,
           13
          ],
          "sizemode": "area",
          "sizeref": 0.13777777777777778
         },
         "mode": "markers",
         "name": "160900",
         "showlegend": true,
         "subplot": "mapbox",
         "type": "scattermapbox"
        },
        {
         "customdata": [
          [
           "170200",
           43750,
           40.429338,
           -79.980684
          ],
          [
           "170200",
           43750,
           40.428661,
           -79.986358
          ],
          [
           "170200",
           43750,
           40.43128939,
           -79.99526918
          ]
         ],
         "hovertemplate": "<b>%{hovertext}</b><br><br>tractce10=%{customdata[0]}<br>NumRacks=%{marker.size}<br>2015_tract_med_hhincome=%{customdata[1]}<extra></extra>",
         "hovertext": [
          "S 18th St & Sidney St",
          "S 12th St & E Carson St",
          "South Side Trail & S 4th St"
         ],
         "lat": [
          40.429338,
          40.428661,
          40.43128939
         ],
         "legendgroup": "170200",
         "lon": [
          -79.980684,
          -79.986358,
          -79.99526918
         ],
         "marker": {
          "color": "#FBE426",
          "size": [
           16,
           19,
           5
          ],
          "sizemode": "area",
          "sizeref": 0.13777777777777778
         },
         "mode": "markers",
         "name": "170200",
         "showlegend": true,
         "subplot": "mapbox",
         "type": "scattermapbox"
        },
        {
         "customdata": [
          [
           "120800",
           25689,
           40.45803,
           -79.9112
          ],
          [
           "120800",
           25689,
           40.46361735,
           -79.91746902
          ]
         ],
         "hovertemplate": "<b>%{hovertext}</b><br><br>tractce10=%{customdata[0]}<br>NumRacks=%{marker.size}<br>2015_tract_med_hhincome=%{customdata[1]}<extra></extra>",
         "hovertext": [
          "Hamilton Ave & Zodiac Way",
          "E Liberty Blvd & Larimer Ave"
         ],
         "lat": [
          40.45803,
          40.46361735
         ],
         "legendgroup": "120800",
         "lon": [
          -79.9112,
          -79.91746902
         ],
         "marker": {
          "color": "#FA0087",
          "size": [
           5,
           6
          ],
          "sizemode": "area",
          "sizeref": 0.13777777777777778
         },
         "mode": "markers",
         "name": "120800",
         "showlegend": true,
         "subplot": "mapbox",
         "type": "scattermapbox"
        },
        {
         "customdata": [
          [
           "060300",
           37431,
           40.4620256,
           -79.9681145
          ],
          [
           "060300",
           37431,
           40.46490704,
           -79.96008396
          ],
          [
           "060300",
           37431,
           40.462184,
           -79.96162
          ],
          [
           "060300",
           37431,
           40.46529884,
           -79.96527672
          ]
         ],
         "hovertemplate": "<b>%{hovertext}</b><br><br>tractce10=%{customdata[0]}<br>NumRacks=%{marker.size}<br>2015_tract_med_hhincome=%{customdata[1]}<extra></extra>",
         "hovertext": [
          "33rd St and Penn Ave",
          "Penn Ave & 39th St",
          "Liberty Ave & 37th St",
          "Butler St & 36th St"
         ],
         "lat": [
          40.4620256,
          40.46490704,
          40.462184,
          40.46529884
         ],
         "legendgroup": "060300",
         "lon": [
          -79.9681145,
          -79.96008396,
          -79.96162,
          -79.96527672
         ],
         "marker": {
          "color": "#AA0DFE",
          "size": [
           6,
           6,
           6,
           6
          ],
          "sizemode": "area",
          "sizeref": 0.13777777777777778
         },
         "mode": "markers",
         "name": "060300",
         "showlegend": true,
         "subplot": "mapbox",
         "type": "scattermapbox"
        },
        {
         "customdata": [
          [
           "140800",
           67944,
           40.4380532,
           -79.9229474
          ]
         ],
         "hovertemplate": "<b>%{hovertext}</b><br><br>tractce10=%{customdata[0]}<br>NumRacks=%{marker.size}<br>2015_tract_med_hhincome=%{customdata[1]}<extra></extra>",
         "hovertext": [
          "Forbes Ave & Murray Ave"
         ],
         "lat": [
          40.4380532
         ],
         "legendgroup": "140800",
         "lon": [
          -79.9229474
         ],
         "marker": {
          "color": "#3283FE",
          "size": [
           5
          ],
          "sizemode": "area",
          "sizeref": 0.13777777777777778
         },
         "mode": "markers",
         "name": "140800",
         "showlegend": true,
         "subplot": "mapbox",
         "type": "scattermapbox"
        },
        {
         "customdata": [
          [
           "141300",
           48000,
           40.43531949,
           -79.92288709
          ],
          [
           "141300",
           48000,
           40.43251029,
           -79.92733955
          ],
          [
           "141300",
           48000,
           40.43791627,
           -79.92781162
          ]
         ],
         "hovertemplate": "<b>%{hovertext}</b><br><br>tractce10=%{customdata[0]}<br>NumRacks=%{marker.size}<br>2015_tract_med_hhincome=%{customdata[1]}<extra></extra>",
         "hovertext": [
          "Beacon St & Murray Ave",
          "Hobart St & Wightman St",
          "Wightman St & Forbes Ave"
         ],
         "lat": [
          40.43531949,
          40.43251029,
          40.43791627
         ],
         "legendgroup": "141300",
         "lon": [
          -79.92288709,
          -79.92733955,
          -79.92781162
         ],
         "marker": {
          "color": "#85660D",
          "size": [
           6,
           5,
           5
          ],
          "sizemode": "area",
          "sizeref": 0.13777777777777778
         },
         "mode": "markers",
         "name": "141300",
         "showlegend": true,
         "subplot": "mapbox",
         "type": "scattermapbox"
        },
        {
         "customdata": [
          [
           "980700",
           0,
           40.43268995,
           -80.00302076
          ]
         ],
         "hovertemplate": "<b>%{hovertext}</b><br><br>tractce10=%{customdata[0]}<br>NumRacks=%{marker.size}<br>2015_tract_med_hhincome=%{customdata[1]}<extra></extra>",
         "hovertext": [
          "Glasshouse"
         ],
         "lat": [
          40.43268995
         ],
         "legendgroup": "980700",
         "lon": [
          -80.00302076
         ],
         "marker": {
          "color": "#782AB6",
          "size": [
           10
          ],
          "sizemode": "area",
          "sizeref": 0.13777777777777778
         },
         "mode": "markers",
         "name": "980700",
         "showlegend": true,
         "subplot": "mapbox",
         "type": "scattermapbox"
        },
        {
         "customdata": [
          [
           "040900",
           26964,
           40.42968463,
           -79.95414019
          ]
         ],
         "hovertemplate": "<b>%{hovertext}</b><br><br>tractce10=%{customdata[0]}<br>NumRacks=%{marker.size}<br>2015_tract_med_hhincome=%{customdata[1]}<extra></extra>",
         "hovertext": [
          "Frazier St & Dawson St"
         ],
         "lat": [
          40.42968463
         ],
         "legendgroup": "040900",
         "lon": [
          -79.95414019
         ],
         "marker": {
          "color": "#565656",
          "size": [
           5
          ],
          "sizemode": "area",
          "sizeref": 0.13777777777777778
         },
         "mode": "markers",
         "name": "040900",
         "showlegend": true,
         "subplot": "mapbox",
         "type": "scattermapbox"
        },
        {
         "customdata": [
          [
           "040400",
           26196,
           40.446739,
           -79.94893
          ]
         ],
         "hovertemplate": "<b>%{hovertext}</b><br><br>tractce10=%{customdata[0]}<br>NumRacks=%{marker.size}<br>2015_tract_med_hhincome=%{customdata[1]}<extra></extra>",
         "hovertext": [
          "S Craig St & 5th Ave"
         ],
         "lat": [
          40.446739
         ],
         "legendgroup": "040400",
         "lon": [
          -79.94893
         ],
         "marker": {
          "color": "#1C8356",
          "size": [
           6
          ],
          "sizemode": "area",
          "sizeref": 0.13777777777777778
         },
         "mode": "markers",
         "name": "040400",
         "showlegend": true,
         "subplot": "mapbox",
         "type": "scattermapbox"
        },
        {
         "customdata": [
          [
           "562000",
           16318,
           40.45186204,
           -79.95173693
          ]
         ],
         "hovertemplate": "<b>%{hovertext}</b><br><br>tractce10=%{customdata[0]}<br>NumRacks=%{marker.size}<br>2015_tract_med_hhincome=%{customdata[1]}<extra></extra>",
         "hovertext": [
          "Centre Ave & N Craig St"
         ],
         "lat": [
          40.45186204
         ],
         "legendgroup": "562000",
         "lon": [
          -79.95173693
         ],
         "marker": {
          "color": "#16FF32",
          "size": [
           6
          ],
          "sizemode": "area",
          "sizeref": 0.13777777777777778
         },
         "mode": "markers",
         "name": "562000",
         "showlegend": true,
         "subplot": "mapbox",
         "type": "scattermapbox"
        },
        {
         "customdata": [
          [
           "111300",
           33400,
           40.467715,
           -79.92787
          ],
          [
           "111300",
           33400,
           40.47122337,
           -79.92560189
          ]
         ],
         "hovertemplate": "<b>%{hovertext}</b><br><br>tractce10=%{customdata[0]}<br>NumRacks=%{marker.size}<br>2015_tract_med_hhincome=%{customdata[1]}<extra></extra>",
         "hovertext": [
          "E Liberty Blvd & Negley Ave",
          "Stanton Ave & N Negley Ave"
         ],
         "lat": [
          40.467715,
          40.47122337
         ],
         "legendgroup": "111300",
         "lon": [
          -79.92787,
          -79.92560189
         ],
         "marker": {
          "color": "#F7E1A0",
          "size": [
           5,
           6
          ],
          "sizemode": "area",
          "sizeref": 0.13777777777777778
         },
         "mode": "markers",
         "name": "111300",
         "showlegend": true,
         "subplot": "mapbox",
         "type": "scattermapbox"
        },
        {
         "customdata": [
          [
           "080700",
           36944,
           40.46150726,
           -79.93510187
          ]
         ],
         "hovertemplate": "<b>%{hovertext}</b><br><br>tractce10=%{customdata[0]}<br>NumRacks=%{marker.size}<br>2015_tract_med_hhincome=%{customdata[1]}<extra></extra>",
         "hovertext": [
          "Roup Ave & Friendship Ave"
         ],
         "lat": [
          40.46150726
         ],
         "legendgroup": "080700",
         "lon": [
          -79.93510187
         ],
         "marker": {
          "color": "#E2E2E2",
          "size": [
           5
          ],
          "sizemode": "area",
          "sizeref": 0.13777777777777778
         },
         "mode": "markers",
         "name": "080700",
         "showlegend": true,
         "subplot": "mapbox",
         "type": "scattermapbox"
        },
        {
         "customdata": [
          [
           "240600",
           40566,
           40.45379691,
           -79.99094009
          ]
         ],
         "hovertemplate": "<b>%{hovertext}</b><br><br>tractce10=%{customdata[0]}<br>NumRacks=%{marker.size}<br>2015_tract_med_hhincome=%{customdata[1]}<extra></extra>",
         "hovertext": [
          "Microsoft"
         ],
         "lat": [
          40.45379691
         ],
         "legendgroup": "240600",
         "lon": [
          -79.99094009
         ],
         "marker": {
          "color": "#1CBE4F",
          "size": [
           6
          ],
          "sizemode": "area",
          "sizeref": 0.13777777777777778
         },
         "mode": "markers",
         "name": "240600",
         "showlegend": true,
         "subplot": "mapbox",
         "type": "scattermapbox"
        },
        {
         "customdata": [
          [
           "250300",
           43750,
           40.45777261,
           -80.00945807
          ]
         ],
         "hovertemplate": "<b>%{hovertext}</b><br><br>tractce10=%{customdata[0]}<br>NumRacks=%{marker.size}<br>2015_tract_med_hhincome=%{customdata[1]}<extra></extra>",
         "hovertext": [
          "Arch St & Jacksonia St"
         ],
         "lat": [
          40.45777261
         ],
         "legendgroup": "250300",
         "lon": [
          -80.00945807
         ],
         "marker": {
          "color": "#C4451C",
          "size": [
           5
          ],
          "sizemode": "area",
          "sizeref": 0.13777777777777778
         },
         "mode": "markers",
         "name": "250300",
         "showlegend": true,
         "subplot": "mapbox",
         "type": "scattermapbox"
        }
       ],
       "layout": {
        "legend": {
         "itemsizing": "constant",
         "title": {
          "text": "tractce10"
         },
         "tracegroupgap": 0
        },
        "mapbox": {
         "center": {
          "lat": 40.44784499052632,
          "lon": -79.9658544285263
         },
         "domain": {
          "x": [
           0,
           1
          ],
          "y": [
           0,
           1
          ]
         },
         "style": "carto-darkmatter",
         "zoom": 10
        },
        "margin": {
         "t": 60
        },
        "template": {
         "data": {
          "bar": [
           {
            "error_x": {
             "color": "#2a3f5f"
            },
            "error_y": {
             "color": "#2a3f5f"
            },
            "marker": {
             "line": {
              "color": "#E5ECF6",
              "width": 0.5
             }
            },
            "type": "bar"
           }
          ],
          "barpolar": [
           {
            "marker": {
             "line": {
              "color": "#E5ECF6",
              "width": 0.5
             }
            },
            "type": "barpolar"
           }
          ],
          "carpet": [
           {
            "aaxis": {
             "endlinecolor": "#2a3f5f",
             "gridcolor": "white",
             "linecolor": "white",
             "minorgridcolor": "white",
             "startlinecolor": "#2a3f5f"
            },
            "baxis": {
             "endlinecolor": "#2a3f5f",
             "gridcolor": "white",
             "linecolor": "white",
             "minorgridcolor": "white",
             "startlinecolor": "#2a3f5f"
            },
            "type": "carpet"
           }
          ],
          "choropleth": [
           {
            "colorbar": {
             "outlinewidth": 0,
             "ticks": ""
            },
            "type": "choropleth"
           }
          ],
          "contour": [
           {
            "colorbar": {
             "outlinewidth": 0,
             "ticks": ""
            },
            "colorscale": [
             [
              0,
              "#0d0887"
             ],
             [
              0.1111111111111111,
              "#46039f"
             ],
             [
              0.2222222222222222,
              "#7201a8"
             ],
             [
              0.3333333333333333,
              "#9c179e"
             ],
             [
              0.4444444444444444,
              "#bd3786"
             ],
             [
              0.5555555555555556,
              "#d8576b"
             ],
             [
              0.6666666666666666,
              "#ed7953"
             ],
             [
              0.7777777777777778,
              "#fb9f3a"
             ],
             [
              0.8888888888888888,
              "#fdca26"
             ],
             [
              1,
              "#f0f921"
             ]
            ],
            "type": "contour"
           }
          ],
          "contourcarpet": [
           {
            "colorbar": {
             "outlinewidth": 0,
             "ticks": ""
            },
            "type": "contourcarpet"
           }
          ],
          "heatmap": [
           {
            "colorbar": {
             "outlinewidth": 0,
             "ticks": ""
            },
            "colorscale": [
             [
              0,
              "#0d0887"
             ],
             [
              0.1111111111111111,
              "#46039f"
             ],
             [
              0.2222222222222222,
              "#7201a8"
             ],
             [
              0.3333333333333333,
              "#9c179e"
             ],
             [
              0.4444444444444444,
              "#bd3786"
             ],
             [
              0.5555555555555556,
              "#d8576b"
             ],
             [
              0.6666666666666666,
              "#ed7953"
             ],
             [
              0.7777777777777778,
              "#fb9f3a"
             ],
             [
              0.8888888888888888,
              "#fdca26"
             ],
             [
              1,
              "#f0f921"
             ]
            ],
            "type": "heatmap"
           }
          ],
          "heatmapgl": [
           {
            "colorbar": {
             "outlinewidth": 0,
             "ticks": ""
            },
            "colorscale": [
             [
              0,
              "#0d0887"
             ],
             [
              0.1111111111111111,
              "#46039f"
             ],
             [
              0.2222222222222222,
              "#7201a8"
             ],
             [
              0.3333333333333333,
              "#9c179e"
             ],
             [
              0.4444444444444444,
              "#bd3786"
             ],
             [
              0.5555555555555556,
              "#d8576b"
             ],
             [
              0.6666666666666666,
              "#ed7953"
             ],
             [
              0.7777777777777778,
              "#fb9f3a"
             ],
             [
              0.8888888888888888,
              "#fdca26"
             ],
             [
              1,
              "#f0f921"
             ]
            ],
            "type": "heatmapgl"
           }
          ],
          "histogram": [
           {
            "marker": {
             "colorbar": {
              "outlinewidth": 0,
              "ticks": ""
             }
            },
            "type": "histogram"
           }
          ],
          "histogram2d": [
           {
            "colorbar": {
             "outlinewidth": 0,
             "ticks": ""
            },
            "colorscale": [
             [
              0,
              "#0d0887"
             ],
             [
              0.1111111111111111,
              "#46039f"
             ],
             [
              0.2222222222222222,
              "#7201a8"
             ],
             [
              0.3333333333333333,
              "#9c179e"
             ],
             [
              0.4444444444444444,
              "#bd3786"
             ],
             [
              0.5555555555555556,
              "#d8576b"
             ],
             [
              0.6666666666666666,
              "#ed7953"
             ],
             [
              0.7777777777777778,
              "#fb9f3a"
             ],
             [
              0.8888888888888888,
              "#fdca26"
             ],
             [
              1,
              "#f0f921"
             ]
            ],
            "type": "histogram2d"
           }
          ],
          "histogram2dcontour": [
           {
            "colorbar": {
             "outlinewidth": 0,
             "ticks": ""
            },
            "colorscale": [
             [
              0,
              "#0d0887"
             ],
             [
              0.1111111111111111,
              "#46039f"
             ],
             [
              0.2222222222222222,
              "#7201a8"
             ],
             [
              0.3333333333333333,
              "#9c179e"
             ],
             [
              0.4444444444444444,
              "#bd3786"
             ],
             [
              0.5555555555555556,
              "#d8576b"
             ],
             [
              0.6666666666666666,
              "#ed7953"
             ],
             [
              0.7777777777777778,
              "#fb9f3a"
             ],
             [
              0.8888888888888888,
              "#fdca26"
             ],
             [
              1,
              "#f0f921"
             ]
            ],
            "type": "histogram2dcontour"
           }
          ],
          "mesh3d": [
           {
            "colorbar": {
             "outlinewidth": 0,
             "ticks": ""
            },
            "type": "mesh3d"
           }
          ],
          "parcoords": [
           {
            "line": {
             "colorbar": {
              "outlinewidth": 0,
              "ticks": ""
             }
            },
            "type": "parcoords"
           }
          ],
          "pie": [
           {
            "automargin": true,
            "type": "pie"
           }
          ],
          "scatter": [
           {
            "marker": {
             "colorbar": {
              "outlinewidth": 0,
              "ticks": ""
             }
            },
            "type": "scatter"
           }
          ],
          "scatter3d": [
           {
            "line": {
             "colorbar": {
              "outlinewidth": 0,
              "ticks": ""
             }
            },
            "marker": {
             "colorbar": {
              "outlinewidth": 0,
              "ticks": ""
             }
            },
            "type": "scatter3d"
           }
          ],
          "scattercarpet": [
           {
            "marker": {
             "colorbar": {
              "outlinewidth": 0,
              "ticks": ""
             }
            },
            "type": "scattercarpet"
           }
          ],
          "scattergeo": [
           {
            "marker": {
             "colorbar": {
              "outlinewidth": 0,
              "ticks": ""
             }
            },
            "type": "scattergeo"
           }
          ],
          "scattergl": [
           {
            "marker": {
             "colorbar": {
              "outlinewidth": 0,
              "ticks": ""
             }
            },
            "type": "scattergl"
           }
          ],
          "scattermapbox": [
           {
            "marker": {
             "colorbar": {
              "outlinewidth": 0,
              "ticks": ""
             }
            },
            "type": "scattermapbox"
           }
          ],
          "scatterpolar": [
           {
            "marker": {
             "colorbar": {
              "outlinewidth": 0,
              "ticks": ""
             }
            },
            "type": "scatterpolar"
           }
          ],
          "scatterpolargl": [
           {
            "marker": {
             "colorbar": {
              "outlinewidth": 0,
              "ticks": ""
             }
            },
            "type": "scatterpolargl"
           }
          ],
          "scatterternary": [
           {
            "marker": {
             "colorbar": {
              "outlinewidth": 0,
              "ticks": ""
             }
            },
            "type": "scatterternary"
           }
          ],
          "surface": [
           {
            "colorbar": {
             "outlinewidth": 0,
             "ticks": ""
            },
            "colorscale": [
             [
              0,
              "#0d0887"
             ],
             [
              0.1111111111111111,
              "#46039f"
             ],
             [
              0.2222222222222222,
              "#7201a8"
             ],
             [
              0.3333333333333333,
              "#9c179e"
             ],
             [
              0.4444444444444444,
              "#bd3786"
             ],
             [
              0.5555555555555556,
              "#d8576b"
             ],
             [
              0.6666666666666666,
              "#ed7953"
             ],
             [
              0.7777777777777778,
              "#fb9f3a"
             ],
             [
              0.8888888888888888,
              "#fdca26"
             ],
             [
              1,
              "#f0f921"
             ]
            ],
            "type": "surface"
           }
          ],
          "table": [
           {
            "cells": {
             "fill": {
              "color": "#EBF0F8"
             },
             "line": {
              "color": "white"
             }
            },
            "header": {
             "fill": {
              "color": "#C8D4E3"
             },
             "line": {
              "color": "white"
             }
            },
            "type": "table"
           }
          ]
         },
         "layout": {
          "annotationdefaults": {
           "arrowcolor": "#2a3f5f",
           "arrowhead": 0,
           "arrowwidth": 1
          },
          "autotypenumbers": "strict",
          "coloraxis": {
           "colorbar": {
            "outlinewidth": 0,
            "ticks": ""
           }
          },
          "colorscale": {
           "diverging": [
            [
             0,
             "#8e0152"
            ],
            [
             0.1,
             "#c51b7d"
            ],
            [
             0.2,
             "#de77ae"
            ],
            [
             0.3,
             "#f1b6da"
            ],
            [
             0.4,
             "#fde0ef"
            ],
            [
             0.5,
             "#f7f7f7"
            ],
            [
             0.6,
             "#e6f5d0"
            ],
            [
             0.7,
             "#b8e186"
            ],
            [
             0.8,
             "#7fbc41"
            ],
            [
             0.9,
             "#4d9221"
            ],
            [
             1,
             "#276419"
            ]
           ],
           "sequential": [
            [
             0,
             "#0d0887"
            ],
            [
             0.1111111111111111,
             "#46039f"
            ],
            [
             0.2222222222222222,
             "#7201a8"
            ],
            [
             0.3333333333333333,
             "#9c179e"
            ],
            [
             0.4444444444444444,
             "#bd3786"
            ],
            [
             0.5555555555555556,
             "#d8576b"
            ],
            [
             0.6666666666666666,
             "#ed7953"
            ],
            [
             0.7777777777777778,
             "#fb9f3a"
            ],
            [
             0.8888888888888888,
             "#fdca26"
            ],
            [
             1,
             "#f0f921"
            ]
           ],
           "sequentialminus": [
            [
             0,
             "#0d0887"
            ],
            [
             0.1111111111111111,
             "#46039f"
            ],
            [
             0.2222222222222222,
             "#7201a8"
            ],
            [
             0.3333333333333333,
             "#9c179e"
            ],
            [
             0.4444444444444444,
             "#bd3786"
            ],
            [
             0.5555555555555556,
             "#d8576b"
            ],
            [
             0.6666666666666666,
             "#ed7953"
            ],
            [
             0.7777777777777778,
             "#fb9f3a"
            ],
            [
             0.8888888888888888,
             "#fdca26"
            ],
            [
             1,
             "#f0f921"
            ]
           ]
          },
          "colorway": [
           "#636efa",
           "#EF553B",
           "#00cc96",
           "#ab63fa",
           "#FFA15A",
           "#19d3f3",
           "#FF6692",
           "#B6E880",
           "#FF97FF",
           "#FECB52"
          ],
          "font": {
           "color": "#2a3f5f"
          },
          "geo": {
           "bgcolor": "white",
           "lakecolor": "white",
           "landcolor": "#E5ECF6",
           "showlakes": true,
           "showland": true,
           "subunitcolor": "white"
          },
          "hoverlabel": {
           "align": "left"
          },
          "hovermode": "closest",
          "mapbox": {
           "style": "light"
          },
          "paper_bgcolor": "white",
          "plot_bgcolor": "#E5ECF6",
          "polar": {
           "angularaxis": {
            "gridcolor": "white",
            "linecolor": "white",
            "ticks": ""
           },
           "bgcolor": "#E5ECF6",
           "radialaxis": {
            "gridcolor": "white",
            "linecolor": "white",
            "ticks": ""
           }
          },
          "scene": {
           "xaxis": {
            "backgroundcolor": "#E5ECF6",
            "gridcolor": "white",
            "gridwidth": 2,
            "linecolor": "white",
            "showbackground": true,
            "ticks": "",
            "zerolinecolor": "white"
           },
           "yaxis": {
            "backgroundcolor": "#E5ECF6",
            "gridcolor": "white",
            "gridwidth": 2,
            "linecolor": "white",
            "showbackground": true,
            "ticks": "",
            "zerolinecolor": "white"
           },
           "zaxis": {
            "backgroundcolor": "#E5ECF6",
            "gridcolor": "white",
            "gridwidth": 2,
            "linecolor": "white",
            "showbackground": true,
            "ticks": "",
            "zerolinecolor": "white"
           }
          },
          "shapedefaults": {
           "line": {
            "color": "#2a3f5f"
           }
          },
          "ternary": {
           "aaxis": {
            "gridcolor": "white",
            "linecolor": "white",
            "ticks": ""
           },
           "baxis": {
            "gridcolor": "white",
            "linecolor": "white",
            "ticks": ""
           },
           "bgcolor": "#E5ECF6",
           "caxis": {
            "gridcolor": "white",
            "linecolor": "white",
            "ticks": ""
           }
          },
          "title": {
           "x": 0.05
          },
          "xaxis": {
           "automargin": true,
           "gridcolor": "white",
           "linecolor": "white",
           "ticks": "",
           "title": {
            "standoff": 15
           },
           "zerolinecolor": "white",
           "zerolinewidth": 2
          },
          "yaxis": {
           "automargin": true,
           "gridcolor": "white",
           "linecolor": "white",
           "ticks": "",
           "title": {
            "standoff": 15
           },
           "zerolinecolor": "white",
           "zerolinewidth": 2
          }
         }
        }
       }
      },
      "text/html": [
       "<div>                            <div id=\"745cf01f-be5e-487f-9787-7fcec809bc60\" class=\"plotly-graph-div\" style=\"height:525px; width:100%;\"></div>            <script type=\"text/javascript\">                require([\"plotly\"], function(Plotly) {                    window.PLOTLYENV=window.PLOTLYENV || {};                                    if (document.getElementById(\"745cf01f-be5e-487f-9787-7fcec809bc60\")) {                    Plotly.newPlot(                        \"745cf01f-be5e-487f-9787-7fcec809bc60\",                        [{\"customdata\": [[\"020100\", 67750.0, 40.441326, -80.00467900000001], [\"020100\", 67750.0, 40.440877, -80.00308000000001], [\"020100\", 67750.0, 40.43903, -80.00186], [\"020100\", 67750.0, 40.4372, -80.000375], [\"020100\", 67750.0, 40.435887, -79.997102], [\"020100\", 67750.0, 40.438882, -79.997592], [\"020100\", 67750.0, 40.440193, -79.99508399999999], [\"020100\", 67750.0, 40.440368, -79.988636], [\"020100\", 67750.0, 40.444665, -79.995798], [\"020100\", 67750.0, 40.444777, -80.000831], [\"020100\", 67750.0, 40.43866, -79.9997], [\"020100\", 67750.0, 40.44197, -79.9997], [\"020100\", 67750.0, 40.44475071, -79.99391198], [\"020100\", 67750.0, 40.44170511, -79.99510288], [\"020100\", 67750.0, 40.44353412, -79.99839664], [\"020100\", 67750.0, 40.44193373, -80.00207126], [\"020100\", 67750.0, 40.44001486, -80.00447989], [\"020100\", 67750.0, 40.43766313, -79.99629378]], \"hovertemplate\": \"<b>%{hovertext}</b><br><br>tractce10=%{customdata[0]}<br>NumRacks=%{marker.size}<br>2015_tract_med_hhincome=%{customdata[1]}<extra></extra>\", \"hovertext\": [\"Liberty Ave & Stanwix St\", \"Forbes Ave & Market Square\", \"Third Ave & Wood St\", \"First Ave & Smithfield St (Art Institute)\", \"First Ave & B St (T Station)\", \"Forbes Ave & Grant St\", \"Ross St & Sixth Ave (Steel Plaza T Station)\", \"Centre Ave & PPG Paints Arena\", \"10th St & Penn Ave (David L. Lawrence Convention Center)\", \"Fort Duquesne Blvd & 7th\", \"Smithfield St & Fourth Ave\", \"Wood St & Sixth Ave\", \"11th St & Penn Ave\", \"Grant St & Strawberry Way\", \"9th St & Penn Ave\", \"Liberty Ave & 6th St\", \"Third Ave & Stanwix St\", \"Ross St & Fourth Ave\"], \"lat\": [40.441326, 40.440877, 40.43903, 40.4372, 40.435887, 40.438882, 40.440193, 40.440368, 40.444665, 40.444777, 40.43866, 40.44197, 40.44475071, 40.44170511, 40.44353412, 40.44193373, 40.44001486, 40.43766313], \"legendgroup\": \"020100\", \"lon\": [-80.00467900000001, -80.00308000000001, -80.00186, -80.000375, -79.997102, -79.997592, -79.99508399999999, -79.988636, -79.995798, -80.000831, -79.9997, -79.9997, -79.99391198, -79.99510288, -79.99839664, -80.00207126, -80.00447989, -79.99629378], \"marker\": {\"color\": \"#AA0DFE\", \"size\": [16, 19, 15, 15, 15, 13, 7, 5, 15, 15, 6, 7, 6, 7, 5, 6, 5, 7], \"sizemode\": \"area\", \"sizeref\": 0.13777777777777778}, \"mode\": \"markers\", \"name\": \"020100\", \"showlegend\": true, \"subplot\": \"mapbox\", \"type\": \"scattermapbox\"}, {\"customdata\": [[\"010300\", 41071.0, 40.437643, -79.986695], [\"010300\", 41071.0, 40.4377657, -79.9906531], [\"010300\", 41071.0, 40.43829598, -79.98117685]], \"hovertemplate\": \"<b>%{hovertext}</b><br><br>tractce10=%{customdata[0]}<br>NumRacks=%{marker.size}<br>2015_tract_med_hhincome=%{customdata[1]}<extra></extra>\", \"hovertext\": [\"Stevenson St & Forbes Ave\", \"McNulty Dr & Forbes Ave\", \"Fifth Ave & Miltenberger\"], \"lat\": [40.437643, 40.4377657, 40.43829598], \"legendgroup\": \"010300\", \"lon\": [-79.986695, -79.9906531, -79.98117685], \"marker\": {\"color\": \"#3283FE\", \"size\": [15, 6, 6], \"sizemode\": \"area\", \"sizeref\": 0.13777777777777778}, \"mode\": \"markers\", \"name\": \"010300\", \"showlegend\": true, \"subplot\": \"mapbox\", \"type\": \"scattermapbox\"}, {\"customdata\": [[\"020300\", 94643.0, 40.445844, -79.99238000000001], [\"020300\", 94643.0, 40.449631, -79.985893], [\"020300\", 94643.0, 40.451742, -79.98321700000001], [\"020300\", 94643.0, 40.45632767, -79.98021126], [\"020300\", 94643.0, 40.45814812, -79.97383833], [\"020300\", 94643.0, 40.46011138, -79.97276008], [\"020300\", 94643.0, 40.45400101, -79.98171329], [\"020300\", 94643.0, 40.447208, -79.989725]], \"hovertemplate\": \"<b>%{hovertext}</b><br><br>tractce10=%{customdata[0]}<br>NumRacks=%{marker.size}<br>2015_tract_med_hhincome=%{customdata[1]}<extra></extra>\", \"hovertext\": [\"12th St & Penn Ave\", \"17th St & Penn Ave\", \"21st St & Penn Ave\", \"Burns White Centre at 3 Crossings\", \"Penn Ave and 29th St\", \"Smallman St & 31st St\", \"24th St & Smallman St\", \"14th St & Penn Ave\"], \"lat\": [40.445844, 40.449631, 40.451742, 40.45632767, 40.45814812, 40.46011138, 40.45400101, 40.447208], \"legendgroup\": \"020300\", \"lon\": [-79.99238000000001, -79.985893, -79.98321700000001, -79.98021126, -79.97383833, -79.97276008, -79.98171329, -79.989725], \"marker\": {\"color\": \"#85660D\", \"size\": [19, 19, 18, 12, 8, 6, 6, 6], \"sizemode\": \"area\", \"sizeref\": 0.13777777777777778}, \"mode\": \"markers\", \"name\": \"020300\", \"showlegend\": true, \"subplot\": \"mapbox\", \"type\": \"scattermapbox\"}, {\"customdata\": [[\"981200\", 0.0, 40.445834000000005, -80.008882], [\"981200\", 0.0, 40.44741245, -80.01206517]], \"hovertemplate\": \"<b>%{hovertext}</b><br><br>tractce10=%{customdata[0]}<br>NumRacks=%{marker.size}<br>2015_tract_med_hhincome=%{customdata[1]}<extra></extra>\", \"hovertext\": [\"North Shore Trail & Ft Duquesne Bridge\", \"W General Robinson St & Chuck Noll Way\"], \"lat\": [40.445834000000005, 40.44741245], \"legendgroup\": \"981200\", \"lon\": [-80.008882, -80.01206517], \"marker\": {\"color\": \"#782AB6\", \"size\": [31, 5], \"sizemode\": \"area\", \"sizeref\": 0.13777777777777778}, \"mode\": \"markers\", \"name\": \"981200\", \"showlegend\": true, \"subplot\": \"mapbox\", \"type\": \"scattermapbox\"}, {\"customdata\": [[\"563200\", 30543.0, 40.447166, -80.003566]], \"hovertemplate\": \"<b>%{hovertext}</b><br><br>tractce10=%{customdata[0]}<br>NumRacks=%{marker.size}<br>2015_tract_med_hhincome=%{customdata[1]}<extra></extra>\", \"hovertext\": [\"Isabella St & Federal St (PNC Park)\"], \"lat\": [40.447166], \"legendgroup\": \"563200\", \"lon\": [-80.003566], \"marker\": {\"color\": \"#565656\", \"size\": [15], \"sizemode\": \"area\", \"sizeref\": 0.13777777777777778}, \"mode\": \"markers\", \"name\": \"563200\", \"showlegend\": true, \"subplot\": \"mapbox\", \"type\": \"scattermapbox\"}, {\"customdata\": [[\"562700\", 33938.0, 40.450595, -80.013204], [\"562700\", 33938.0, 40.45509087, -80.00634670000001]], \"hovertemplate\": \"<b>%{hovertext}</b><br><br>tractce10=%{customdata[0]}<br>NumRacks=%{marker.size}<br>2015_tract_med_hhincome=%{customdata[1]}<extra></extra>\", \"hovertext\": [\"Ridge Ave & Brighton Rd (CCAC)\", \"Federal St & E North Ave\"], \"lat\": [40.450595, 40.45509087], \"legendgroup\": \"562700\", \"lon\": [-80.013204, -80.00634670000001], \"marker\": {\"color\": \"#1C8356\", \"size\": [19, 12], \"sizemode\": \"area\", \"sizeref\": 0.13777777777777778}, \"mode\": \"markers\", \"name\": \"562700\", \"showlegend\": true, \"subplot\": \"mapbox\", \"type\": \"scattermapbox\"}, {\"customdata\": [[\"981000\", 0.0, 40.47815, -79.9557]], \"hovertemplate\": \"<b>%{hovertext}</b><br><br>tractce10=%{customdata[0]}<br>NumRacks=%{marker.size}<br>2015_tract_med_hhincome=%{customdata[1]}<extra></extra>\", \"hovertext\": [\"Butler St & Stanton Ave\"], \"lat\": [40.47815], \"legendgroup\": \"981000\", \"lon\": [-79.9557], \"marker\": {\"color\": \"#16FF32\", \"size\": [5], \"sizemode\": \"area\", \"sizeref\": 0.13777777777777778}, \"mode\": \"markers\", \"name\": \"981000\", \"showlegend\": true, \"subplot\": \"mapbox\", \"type\": \"scattermapbox\"}, {\"customdata\": [[\"090100\", 50781.0, 40.47021248, -79.96066332], [\"090100\", 50781.0, 40.47603982, -79.95763779]], \"hovertemplate\": \"<b>%{hovertext}</b><br><br>tractce10=%{customdata[0]}<br>NumRacks=%{marker.size}<br>2015_tract_med_hhincome=%{customdata[1]}<extra></extra>\", \"hovertext\": [\"42nd St & Butler St\", \"Butler St & 48th St\"], \"lat\": [40.47021248, 40.47603982], \"legendgroup\": \"090100\", \"lon\": [-79.96066332, -79.95763779], \"marker\": {\"color\": \"#F7E1A0\", \"size\": [17, 6], \"sizemode\": \"area\", \"sizeref\": 0.13777777777777778}, \"mode\": \"markers\", \"name\": \"090100\", \"showlegend\": true, \"subplot\": \"mapbox\", \"type\": \"scattermapbox\"}, {\"customdata\": [[\"090200\", 53724.0, 40.465893, -79.954417]], \"hovertemplate\": \"<b>%{hovertext}</b><br><br>tractce10=%{customdata[0]}<br>NumRacks=%{marker.size}<br>2015_tract_med_hhincome=%{customdata[1]}<extra></extra>\", \"hovertext\": [\"42nd St & Penn Ave (Children's Hospital)\"], \"lat\": [40.465893], \"legendgroup\": \"090200\", \"lon\": [-79.954417], \"marker\": {\"color\": \"#E2E2E2\", \"size\": [8], \"sizemode\": \"area\", \"sizeref\": 0.13777777777777778}, \"mode\": \"markers\", \"name\": \"090200\", \"showlegend\": true, \"subplot\": \"mapbox\", \"type\": \"scattermapbox\"}, {\"customdata\": [[\"090300\", 33816.0, 40.462769, -79.950867]], \"hovertemplate\": \"<b>%{hovertext}</b><br><br>tractce10=%{customdata[0]}<br>NumRacks=%{marker.size}<br>2015_tract_med_hhincome=%{customdata[1]}<extra></extra>\", \"hovertext\": [\"Taylor St & Liberty Ave\"], \"lat\": [40.462769], \"legendgroup\": \"090300\", \"lon\": [-79.950867], \"marker\": {\"color\": \"#1CBE4F\", \"size\": [19], \"sizemode\": \"area\", \"sizeref\": 0.13777777777777778}, \"mode\": \"markers\", \"name\": \"090300\", \"showlegend\": true, \"subplot\": \"mapbox\", \"type\": \"scattermapbox\"}, {\"customdata\": [[\"080900\", 49750.0, 40.459812, -79.945548], [\"080900\", 49750.0, 40.46473563, -79.94282663]], \"hovertemplate\": \"<b>%{hovertext}</b><br><br>tractce10=%{customdata[0]}<br>NumRacks=%{marker.size}<br>2015_tract_med_hhincome=%{customdata[1]}<extra></extra>\", \"hovertext\": [\"Liberty Ave & S Millvale (West Penn Hospital)\", \"S Winebiddle St & Penn Ave\"], \"lat\": [40.459812, 40.46473563], \"legendgroup\": \"080900\", \"lon\": [-79.945548, -79.94282663], \"marker\": {\"color\": \"#C4451C\", \"size\": [15, 5], \"sizemode\": \"area\", \"sizeref\": 0.13777777777777778}, \"mode\": \"markers\", \"name\": \"080900\", \"showlegend\": true, \"subplot\": \"mapbox\", \"type\": \"scattermapbox\"}, {\"customdata\": [[\"080600\", 51509.0, 40.456505, -79.939362]], \"hovertemplate\": \"<b>%{hovertext}</b><br><br>tractce10=%{customdata[0]}<br>NumRacks=%{marker.size}<br>2015_tract_med_hhincome=%{customdata[1]}<extra></extra>\", \"hovertext\": [\"Liberty Ave & Baum Blvd\"], \"lat\": [40.456505], \"legendgroup\": \"080600\", \"lon\": [-79.939362], \"marker\": {\"color\": \"#DEA0FD\", \"size\": [15], \"sizemode\": \"area\", \"sizeref\": 0.13777777777777778}, \"mode\": \"markers\", \"name\": \"080600\", \"showlegend\": true, \"subplot\": \"mapbox\", \"type\": \"scattermapbox\"}, {\"customdata\": [[\"111500\", 24308.0, 40.458714, -79.933483], [\"111500\", 24308.0, 40.461603, -79.925624], [\"111500\", 24308.0, 40.46089095, -79.91583824]], \"hovertemplate\": \"<b>%{hovertext}</b><br><br>tractce10=%{customdata[0]}<br>NumRacks=%{marker.size}<br>2015_tract_med_hhincome=%{customdata[1]}<extra></extra>\", \"hovertext\": [\"S Negley Ave & Baum Blvd\", \"Penn Ave & S Whitfield St\", \"Frankstown Ave & E Liberty Blvd\"], \"lat\": [40.458714, 40.461603, 40.46089095], \"legendgroup\": \"111500\", \"lon\": [-79.933483, -79.925624, -79.91583824], \"marker\": {\"color\": \"#FE00FA\", \"size\": [17, 13, 6], \"sizemode\": \"area\", \"sizeref\": 0.13777777777777778}, \"mode\": \"markers\", \"name\": \"111500\", \"showlegend\": true, \"subplot\": \"mapbox\", \"type\": \"scattermapbox\"}, {\"customdata\": [[\"111400\", 21154.0, 40.464443, -79.933188]], \"hovertemplate\": \"<b>%{hovertext}</b><br><br>tractce10=%{customdata[0]}<br>NumRacks=%{marker.size}<br>2015_tract_med_hhincome=%{customdata[1]}<extra></extra>\", \"hovertext\": [\"Penn Ave & N Fairmount St\"], \"lat\": [40.464443], \"legendgroup\": \"111400\", \"lon\": [-79.933188], \"marker\": {\"color\": \"#325A9B\", \"size\": [15], \"sizemode\": \"area\", \"sizeref\": 0.13777777777777778}, \"mode\": \"markers\", \"name\": \"111400\", \"showlegend\": true, \"subplot\": \"mapbox\", \"type\": \"scattermapbox\"}, {\"customdata\": [[\"070800\", 51703.0, 40.458972, -79.922023], [\"070800\", 51703.0, 40.455821, -79.91524799999999], [\"070800\", 51703.0, 40.457415000000005, -79.92492]], \"hovertemplate\": \"<b>%{hovertext}</b><br><br>tractce10=%{customdata[0]}<br>NumRacks=%{marker.size}<br>2015_tract_med_hhincome=%{customdata[1]}<extra></extra>\", \"hovertext\": [\"Shady Ave & Ellsworth Ave\", \"Penn Ave & Putnam St (Bakery Square)\", \"Alder St & S Higland Ave\"], \"lat\": [40.458972, 40.455821, 40.457415000000005], \"legendgroup\": \"070800\", \"lon\": [-79.922023, -79.91524799999999, -79.92492], \"marker\": {\"color\": \"#FEAF16\", \"size\": [19, 8, 19], \"sizemode\": \"area\", \"sizeref\": 0.13777777777777778}, \"mode\": \"markers\", \"name\": \"070800\", \"showlegend\": true, \"subplot\": \"mapbox\", \"type\": \"scattermapbox\"}, {\"customdata\": [[\"070500\", 51250.0, 40.45628, -79.930962], [\"070500\", 51250.0, 40.453382, -79.92730999999999]], \"hovertemplate\": \"<b>%{hovertext}</b><br><br>tractce10=%{customdata[0]}<br>NumRacks=%{marker.size}<br>2015_tract_med_hhincome=%{customdata[1]}<extra></extra>\", \"hovertext\": [\"Maryland Ave & Ellsworth Ave\", \"Walnut St & College St\"], \"lat\": [40.45628, 40.453382], \"legendgroup\": \"070500\", \"lon\": [-79.930962, -79.92730999999999], \"marker\": {\"color\": \"#F8A19F\", \"size\": [19, 14], \"sizemode\": \"area\", \"sizeref\": 0.13777777777777778}, \"mode\": \"markers\", \"name\": \"070500\", \"showlegend\": true, \"subplot\": \"mapbox\", \"type\": \"scattermapbox\"}, {\"customdata\": [[\"070300\", 54821.0, 40.45177, -79.932324]], \"hovertemplate\": \"<b>%{hovertext}</b><br><br>tractce10=%{customdata[0]}<br>NumRacks=%{marker.size}<br>2015_tract_med_hhincome=%{customdata[1]}<extra></extra>\", \"hovertext\": [\"Ivy St & Walnut St\"], \"lat\": [40.45177], \"legendgroup\": \"070300\", \"lon\": [-79.932324], \"marker\": {\"color\": \"#90AD1C\", \"size\": [19], \"sizemode\": \"area\", \"sizeref\": 0.13777777777777778}, \"mode\": \"markers\", \"name\": \"070300\", \"showlegend\": true, \"subplot\": \"mapbox\", \"type\": \"scattermapbox\"}, {\"customdata\": [[\"070900\", 33929.0, 40.448419, -79.947401]], \"hovertemplate\": \"<b>%{hovertext}</b><br><br>tractce10=%{customdata[0]}<br>NumRacks=%{marker.size}<br>2015_tract_med_hhincome=%{customdata[1]}<extra></extra>\", \"hovertext\": [\"Ellsworth Ave & N Neville St\"], \"lat\": [40.448419], \"legendgroup\": \"070900\", \"lon\": [-79.947401], \"marker\": {\"color\": \"#F6222E\", \"size\": [15], \"sizemode\": \"area\", \"sizeref\": 0.13777777777777778}, \"mode\": \"markers\", \"name\": \"070900\", \"showlegend\": true, \"subplot\": \"mapbox\", \"type\": \"scattermapbox\"}, {\"customdata\": [[\"982200\", 0.0, 40.446744, -79.95088100000001], [\"982200\", 0.0, 40.442398, -79.951479], [\"982200\", 0.0, 40.445128, -79.957102], [\"982200\", 0.0, 40.44324426, -79.95984256], [\"982200\", 0.0, 40.44301971, -79.95331407], [\"982200\", 0.0, 40.44564886, -79.95327652], [\"982200\", 0.0, 40.44424448, -79.94895279]], \"hovertemplate\": \"<b>%{hovertext}</b><br><br>tractce10=%{customdata[0]}<br>NumRacks=%{marker.size}<br>2015_tract_med_hhincome=%{customdata[1]}<extra></extra>\", \"hovertext\": [\"Fifth Ave & S Dithridge St\", \"Schenley Dr at Schenley Plaza (Carnegie Library Main)\", \"O'Hara St and University Place (Soldiers and Sailors Memorial)\", \"O'Hara St & Desoto St\", \"Schenley Dr & Forbes Ave (Schenley Plaza)\", \"Tennyson Ave & Fifth Ave\", \"Forbes Ave & S Craig St\"], \"lat\": [40.446744, 40.442398, 40.445128, 40.44324426, 40.44301971, 40.44564886, 40.44424448], \"legendgroup\": \"982200\", \"lon\": [-79.95088100000001, -79.951479, -79.957102, -79.95984256, -79.95331407, -79.95327652, -79.94895279], \"marker\": {\"color\": \"#1CFFCE\", \"size\": [8, 19, 21, 5, 7, 6, 5], \"sizemode\": \"area\", \"sizeref\": 0.13777777777777778}, \"mode\": \"markers\", \"name\": \"982200\", \"showlegend\": true, \"subplot\": \"mapbox\", \"type\": \"scattermapbox\"}, {\"customdata\": [[\"140100\", 119688.0, 40.441032, -79.948042], [\"140100\", 119688.0, 40.43775296, -79.93363738]], \"hovertemplate\": \"<b>%{hovertext}</b><br><br>tractce10=%{customdata[0]}<br>NumRacks=%{marker.size}<br>2015_tract_med_hhincome=%{customdata[1]}<extra></extra>\", \"hovertext\": [\"Frew St & Schenley Dr\", \"Schenley Dr & Forbes Ave (Squirrel Hill)\"], \"lat\": [40.441032, 40.43775296], \"legendgroup\": \"140100\", \"lon\": [-79.948042, -79.93363738], \"marker\": {\"color\": \"#2ED9FF\", \"size\": [20, 6], \"sizemode\": \"area\", \"sizeref\": 0.13777777777777778}, \"mode\": \"markers\", \"name\": \"140100\", \"showlegend\": true, \"subplot\": \"mapbox\", \"type\": \"scattermapbox\"}, {\"customdata\": [[\"040600\", 21277.0, 40.434338, -79.951877], [\"040600\", 21277.0, 40.437987, -79.95366999999999]], \"hovertemplate\": \"<b>%{hovertext}</b><br><br>tractce10=%{customdata[0]}<br>NumRacks=%{marker.size}<br>2015_tract_med_hhincome=%{customdata[1]}<extra></extra>\", \"hovertext\": [\"Boulevard of the Allies & Parkview Ave\", \"Atwood St & Bates\"], \"lat\": [40.434338, 40.437987], \"legendgroup\": \"040600\", \"lon\": [-79.951877, -79.95366999999999], \"marker\": {\"color\": \"#B10DA1\", \"size\": [19, 8], \"sizemode\": \"area\", \"sizeref\": 0.13777777777777778}, \"mode\": \"markers\", \"name\": \"040600\", \"showlegend\": true, \"subplot\": \"mapbox\", \"type\": \"scattermapbox\"}, {\"customdata\": [[\"040500\", 17441.0, 40.442325, -79.957604], [\"040500\", 17441.0, 40.435986, -79.956942], [\"040500\", 17441.0, 40.43874918, -79.95703161], [\"040500\", 17441.0, 40.44136216, -79.95555639]], \"hovertemplate\": \"<b>%{hovertext}</b><br><br>tractce10=%{customdata[0]}<br>NumRacks=%{marker.size}<br>2015_tract_med_hhincome=%{customdata[1]}<extra></extra>\", \"hovertext\": [\"Fifth Ave & S Bouquet St\", \"Zulema St & Coltart Ave\", \"Semple St & Louisa St\", \"S Bouquet Ave & Sennott St\"], \"lat\": [40.442325, 40.435986, 40.43874918, 40.44136216], \"legendgroup\": \"040500\", \"lon\": [-79.957604, -79.956942, -79.95703161, -79.95555639], \"marker\": {\"color\": \"#C075A6\", \"size\": [19, 19, 5, 6], \"sizemode\": \"area\", \"sizeref\": 0.13777777777777778}, \"mode\": \"markers\", \"name\": \"040500\", \"showlegend\": true, \"subplot\": \"mapbox\", \"type\": \"scattermapbox\"}, {\"customdata\": [[\"080400\", 32837.0, 40.45351, -79.94747]], \"hovertemplate\": \"<b>%{hovertext}</b><br><br>tractce10=%{customdata[0]}<br>NumRacks=%{marker.size}<br>2015_tract_med_hhincome=%{customdata[1]}<extra></extra>\", \"hovertext\": [\"S Millvale Ave & Centre Ave\"], \"lat\": [40.45351], \"legendgroup\": \"080400\", \"lon\": [-79.94747], \"marker\": {\"color\": \"#FC1CBF\", \"size\": [13], \"sizemode\": \"area\", \"sizeref\": 0.13777777777777778}, \"mode\": \"markers\", \"name\": \"080400\", \"showlegend\": true, \"subplot\": \"mapbox\", \"type\": \"scattermapbox\"}, {\"customdata\": [[\"160900\", 53241.0, 40.4279, -79.966112], [\"160900\", 53241.0, 40.42802, -79.969799], [\"160900\", 53241.0, 40.428576, -79.974559], [\"160900\", 53241.0, 40.42708753, -79.96279836]], \"hovertemplate\": \"<b>%{hovertext}</b><br><br>tractce10=%{customdata[0]}<br>NumRacks=%{marker.size}<br>2015_tract_med_hhincome=%{customdata[1]}<extra></extra>\", \"hovertext\": [\"S 27th St & Sidney St. (Southside Works)\", \"S 25th St & E Carson St\", \"S 22nd St & E Carson St\", \"Hot Metal St & Tunnel Blvd\"], \"lat\": [40.4279, 40.42802, 40.428576, 40.42708753], \"legendgroup\": \"160900\", \"lon\": [-79.966112, -79.969799, -79.974559, -79.96279836], \"marker\": {\"color\": \"#B00068\", \"size\": [19, 19, 19, 13], \"sizemode\": \"area\", \"sizeref\": 0.13777777777777778}, \"mode\": \"markers\", \"name\": \"160900\", \"showlegend\": true, \"subplot\": \"mapbox\", \"type\": \"scattermapbox\"}, {\"customdata\": [[\"170200\", 43750.0, 40.429338, -79.980684], [\"170200\", 43750.0, 40.428661, -79.986358], [\"170200\", 43750.0, 40.43128939, -79.99526918]], \"hovertemplate\": \"<b>%{hovertext}</b><br><br>tractce10=%{customdata[0]}<br>NumRacks=%{marker.size}<br>2015_tract_med_hhincome=%{customdata[1]}<extra></extra>\", \"hovertext\": [\"S 18th St & Sidney St\", \"S 12th St & E Carson St\", \"South Side Trail & S 4th St\"], \"lat\": [40.429338, 40.428661, 40.43128939], \"legendgroup\": \"170200\", \"lon\": [-79.980684, -79.986358, -79.99526918], \"marker\": {\"color\": \"#FBE426\", \"size\": [16, 19, 5], \"sizemode\": \"area\", \"sizeref\": 0.13777777777777778}, \"mode\": \"markers\", \"name\": \"170200\", \"showlegend\": true, \"subplot\": \"mapbox\", \"type\": \"scattermapbox\"}, {\"customdata\": [[\"120800\", 25689.0, 40.45803, -79.9112], [\"120800\", 25689.0, 40.46361735, -79.91746902]], \"hovertemplate\": \"<b>%{hovertext}</b><br><br>tractce10=%{customdata[0]}<br>NumRacks=%{marker.size}<br>2015_tract_med_hhincome=%{customdata[1]}<extra></extra>\", \"hovertext\": [\"Hamilton Ave & Zodiac Way\", \"E Liberty Blvd & Larimer Ave\"], \"lat\": [40.45803, 40.46361735], \"legendgroup\": \"120800\", \"lon\": [-79.9112, -79.91746902], \"marker\": {\"color\": \"#FA0087\", \"size\": [5, 6], \"sizemode\": \"area\", \"sizeref\": 0.13777777777777778}, \"mode\": \"markers\", \"name\": \"120800\", \"showlegend\": true, \"subplot\": \"mapbox\", \"type\": \"scattermapbox\"}, {\"customdata\": [[\"060300\", 37431.0, 40.4620256, -79.9681145], [\"060300\", 37431.0, 40.46490704, -79.96008396], [\"060300\", 37431.0, 40.462184, -79.96162], [\"060300\", 37431.0, 40.46529884, -79.96527672]], \"hovertemplate\": \"<b>%{hovertext}</b><br><br>tractce10=%{customdata[0]}<br>NumRacks=%{marker.size}<br>2015_tract_med_hhincome=%{customdata[1]}<extra></extra>\", \"hovertext\": [\"33rd St and Penn Ave\", \"Penn Ave & 39th St\", \"Liberty Ave & 37th St\", \"Butler St & 36th St\"], \"lat\": [40.4620256, 40.46490704, 40.462184, 40.46529884], \"legendgroup\": \"060300\", \"lon\": [-79.9681145, -79.96008396, -79.96162, -79.96527672], \"marker\": {\"color\": \"#AA0DFE\", \"size\": [6, 6, 6, 6], \"sizemode\": \"area\", \"sizeref\": 0.13777777777777778}, \"mode\": \"markers\", \"name\": \"060300\", \"showlegend\": true, \"subplot\": \"mapbox\", \"type\": \"scattermapbox\"}, {\"customdata\": [[\"140800\", 67944.0, 40.4380532, -79.9229474]], \"hovertemplate\": \"<b>%{hovertext}</b><br><br>tractce10=%{customdata[0]}<br>NumRacks=%{marker.size}<br>2015_tract_med_hhincome=%{customdata[1]}<extra></extra>\", \"hovertext\": [\"Forbes Ave & Murray Ave\"], \"lat\": [40.4380532], \"legendgroup\": \"140800\", \"lon\": [-79.9229474], \"marker\": {\"color\": \"#3283FE\", \"size\": [5], \"sizemode\": \"area\", \"sizeref\": 0.13777777777777778}, \"mode\": \"markers\", \"name\": \"140800\", \"showlegend\": true, \"subplot\": \"mapbox\", \"type\": \"scattermapbox\"}, {\"customdata\": [[\"141300\", 48000.0, 40.43531949, -79.92288709], [\"141300\", 48000.0, 40.43251029, -79.92733955], [\"141300\", 48000.0, 40.43791627, -79.92781162]], \"hovertemplate\": \"<b>%{hovertext}</b><br><br>tractce10=%{customdata[0]}<br>NumRacks=%{marker.size}<br>2015_tract_med_hhincome=%{customdata[1]}<extra></extra>\", \"hovertext\": [\"Beacon St & Murray Ave\", \"Hobart St & Wightman St\", \"Wightman St & Forbes Ave\"], \"lat\": [40.43531949, 40.43251029, 40.43791627], \"legendgroup\": \"141300\", \"lon\": [-79.92288709, -79.92733955, -79.92781162], \"marker\": {\"color\": \"#85660D\", \"size\": [6, 5, 5], \"sizemode\": \"area\", \"sizeref\": 0.13777777777777778}, \"mode\": \"markers\", \"name\": \"141300\", \"showlegend\": true, \"subplot\": \"mapbox\", \"type\": \"scattermapbox\"}, {\"customdata\": [[\"980700\", 0.0, 40.43268995, -80.00302076]], \"hovertemplate\": \"<b>%{hovertext}</b><br><br>tractce10=%{customdata[0]}<br>NumRacks=%{marker.size}<br>2015_tract_med_hhincome=%{customdata[1]}<extra></extra>\", \"hovertext\": [\"Glasshouse\"], \"lat\": [40.43268995], \"legendgroup\": \"980700\", \"lon\": [-80.00302076], \"marker\": {\"color\": \"#782AB6\", \"size\": [10], \"sizemode\": \"area\", \"sizeref\": 0.13777777777777778}, \"mode\": \"markers\", \"name\": \"980700\", \"showlegend\": true, \"subplot\": \"mapbox\", \"type\": \"scattermapbox\"}, {\"customdata\": [[\"040900\", 26964.0, 40.42968463, -79.95414019]], \"hovertemplate\": \"<b>%{hovertext}</b><br><br>tractce10=%{customdata[0]}<br>NumRacks=%{marker.size}<br>2015_tract_med_hhincome=%{customdata[1]}<extra></extra>\", \"hovertext\": [\"Frazier St & Dawson St\"], \"lat\": [40.42968463], \"legendgroup\": \"040900\", \"lon\": [-79.95414019], \"marker\": {\"color\": \"#565656\", \"size\": [5], \"sizemode\": \"area\", \"sizeref\": 0.13777777777777778}, \"mode\": \"markers\", \"name\": \"040900\", \"showlegend\": true, \"subplot\": \"mapbox\", \"type\": \"scattermapbox\"}, {\"customdata\": [[\"040400\", 26196.0, 40.446739, -79.94893]], \"hovertemplate\": \"<b>%{hovertext}</b><br><br>tractce10=%{customdata[0]}<br>NumRacks=%{marker.size}<br>2015_tract_med_hhincome=%{customdata[1]}<extra></extra>\", \"hovertext\": [\"S Craig St & 5th Ave\"], \"lat\": [40.446739], \"legendgroup\": \"040400\", \"lon\": [-79.94893], \"marker\": {\"color\": \"#1C8356\", \"size\": [6], \"sizemode\": \"area\", \"sizeref\": 0.13777777777777778}, \"mode\": \"markers\", \"name\": \"040400\", \"showlegend\": true, \"subplot\": \"mapbox\", \"type\": \"scattermapbox\"}, {\"customdata\": [[\"562000\", 16318.0, 40.45186204, -79.95173693]], \"hovertemplate\": \"<b>%{hovertext}</b><br><br>tractce10=%{customdata[0]}<br>NumRacks=%{marker.size}<br>2015_tract_med_hhincome=%{customdata[1]}<extra></extra>\", \"hovertext\": [\"Centre Ave & N Craig St\"], \"lat\": [40.45186204], \"legendgroup\": \"562000\", \"lon\": [-79.95173693], \"marker\": {\"color\": \"#16FF32\", \"size\": [6], \"sizemode\": \"area\", \"sizeref\": 0.13777777777777778}, \"mode\": \"markers\", \"name\": \"562000\", \"showlegend\": true, \"subplot\": \"mapbox\", \"type\": \"scattermapbox\"}, {\"customdata\": [[\"111300\", 33400.0, 40.467715, -79.92787], [\"111300\", 33400.0, 40.47122337, -79.92560189]], \"hovertemplate\": \"<b>%{hovertext}</b><br><br>tractce10=%{customdata[0]}<br>NumRacks=%{marker.size}<br>2015_tract_med_hhincome=%{customdata[1]}<extra></extra>\", \"hovertext\": [\"E Liberty Blvd & Negley Ave\", \"Stanton Ave & N Negley Ave\"], \"lat\": [40.467715, 40.47122337], \"legendgroup\": \"111300\", \"lon\": [-79.92787, -79.92560189], \"marker\": {\"color\": \"#F7E1A0\", \"size\": [5, 6], \"sizemode\": \"area\", \"sizeref\": 0.13777777777777778}, \"mode\": \"markers\", \"name\": \"111300\", \"showlegend\": true, \"subplot\": \"mapbox\", \"type\": \"scattermapbox\"}, {\"customdata\": [[\"080700\", 36944.0, 40.46150726, -79.93510187]], \"hovertemplate\": \"<b>%{hovertext}</b><br><br>tractce10=%{customdata[0]}<br>NumRacks=%{marker.size}<br>2015_tract_med_hhincome=%{customdata[1]}<extra></extra>\", \"hovertext\": [\"Roup Ave & Friendship Ave\"], \"lat\": [40.46150726], \"legendgroup\": \"080700\", \"lon\": [-79.93510187], \"marker\": {\"color\": \"#E2E2E2\", \"size\": [5], \"sizemode\": \"area\", \"sizeref\": 0.13777777777777778}, \"mode\": \"markers\", \"name\": \"080700\", \"showlegend\": true, \"subplot\": \"mapbox\", \"type\": \"scattermapbox\"}, {\"customdata\": [[\"240600\", 40566.0, 40.45379691, -79.99094009]], \"hovertemplate\": \"<b>%{hovertext}</b><br><br>tractce10=%{customdata[0]}<br>NumRacks=%{marker.size}<br>2015_tract_med_hhincome=%{customdata[1]}<extra></extra>\", \"hovertext\": [\"Microsoft\"], \"lat\": [40.45379691], \"legendgroup\": \"240600\", \"lon\": [-79.99094009], \"marker\": {\"color\": \"#1CBE4F\", \"size\": [6], \"sizemode\": \"area\", \"sizeref\": 0.13777777777777778}, \"mode\": \"markers\", \"name\": \"240600\", \"showlegend\": true, \"subplot\": \"mapbox\", \"type\": \"scattermapbox\"}, {\"customdata\": [[\"250300\", 43750.0, 40.45777261, -80.00945807]], \"hovertemplate\": \"<b>%{hovertext}</b><br><br>tractce10=%{customdata[0]}<br>NumRacks=%{marker.size}<br>2015_tract_med_hhincome=%{customdata[1]}<extra></extra>\", \"hovertext\": [\"Arch St & Jacksonia St\"], \"lat\": [40.45777261], \"legendgroup\": \"250300\", \"lon\": [-80.00945807], \"marker\": {\"color\": \"#C4451C\", \"size\": [5], \"sizemode\": \"area\", \"sizeref\": 0.13777777777777778}, \"mode\": \"markers\", \"name\": \"250300\", \"showlegend\": true, \"subplot\": \"mapbox\", \"type\": \"scattermapbox\"}],                        {\"legend\": {\"itemsizing\": \"constant\", \"title\": {\"text\": \"tractce10\"}, \"tracegroupgap\": 0}, \"mapbox\": {\"center\": {\"lat\": 40.44784499052632, \"lon\": -79.9658544285263}, \"domain\": {\"x\": [0.0, 1.0], \"y\": [0.0, 1.0]}, \"style\": \"carto-darkmatter\", \"zoom\": 10}, \"margin\": {\"t\": 60}, \"template\": {\"data\": {\"bar\": [{\"error_x\": {\"color\": \"#2a3f5f\"}, \"error_y\": {\"color\": \"#2a3f5f\"}, \"marker\": {\"line\": {\"color\": \"#E5ECF6\", \"width\": 0.5}}, \"type\": \"bar\"}], \"barpolar\": [{\"marker\": {\"line\": {\"color\": \"#E5ECF6\", \"width\": 0.5}}, \"type\": \"barpolar\"}], \"carpet\": [{\"aaxis\": {\"endlinecolor\": \"#2a3f5f\", \"gridcolor\": \"white\", \"linecolor\": \"white\", \"minorgridcolor\": \"white\", \"startlinecolor\": \"#2a3f5f\"}, \"baxis\": {\"endlinecolor\": \"#2a3f5f\", \"gridcolor\": \"white\", \"linecolor\": \"white\", \"minorgridcolor\": \"white\", \"startlinecolor\": \"#2a3f5f\"}, \"type\": \"carpet\"}], \"choropleth\": [{\"colorbar\": {\"outlinewidth\": 0, \"ticks\": \"\"}, \"type\": \"choropleth\"}], \"contour\": [{\"colorbar\": {\"outlinewidth\": 0, \"ticks\": \"\"}, \"colorscale\": [[0.0, \"#0d0887\"], [0.1111111111111111, \"#46039f\"], [0.2222222222222222, \"#7201a8\"], [0.3333333333333333, \"#9c179e\"], [0.4444444444444444, \"#bd3786\"], [0.5555555555555556, \"#d8576b\"], [0.6666666666666666, \"#ed7953\"], [0.7777777777777778, \"#fb9f3a\"], [0.8888888888888888, \"#fdca26\"], [1.0, \"#f0f921\"]], \"type\": \"contour\"}], \"contourcarpet\": [{\"colorbar\": {\"outlinewidth\": 0, \"ticks\": \"\"}, \"type\": \"contourcarpet\"}], \"heatmap\": [{\"colorbar\": {\"outlinewidth\": 0, \"ticks\": \"\"}, \"colorscale\": [[0.0, \"#0d0887\"], [0.1111111111111111, \"#46039f\"], [0.2222222222222222, \"#7201a8\"], [0.3333333333333333, \"#9c179e\"], [0.4444444444444444, \"#bd3786\"], [0.5555555555555556, \"#d8576b\"], [0.6666666666666666, \"#ed7953\"], [0.7777777777777778, \"#fb9f3a\"], [0.8888888888888888, \"#fdca26\"], [1.0, \"#f0f921\"]], \"type\": \"heatmap\"}], \"heatmapgl\": [{\"colorbar\": {\"outlinewidth\": 0, \"ticks\": \"\"}, \"colorscale\": [[0.0, \"#0d0887\"], [0.1111111111111111, \"#46039f\"], [0.2222222222222222, \"#7201a8\"], [0.3333333333333333, \"#9c179e\"], [0.4444444444444444, \"#bd3786\"], [0.5555555555555556, \"#d8576b\"], [0.6666666666666666, \"#ed7953\"], [0.7777777777777778, \"#fb9f3a\"], [0.8888888888888888, \"#fdca26\"], [1.0, \"#f0f921\"]], \"type\": \"heatmapgl\"}], \"histogram\": [{\"marker\": {\"colorbar\": {\"outlinewidth\": 0, \"ticks\": \"\"}}, \"type\": \"histogram\"}], \"histogram2d\": [{\"colorbar\": {\"outlinewidth\": 0, \"ticks\": \"\"}, \"colorscale\": [[0.0, \"#0d0887\"], [0.1111111111111111, \"#46039f\"], [0.2222222222222222, \"#7201a8\"], [0.3333333333333333, \"#9c179e\"], [0.4444444444444444, \"#bd3786\"], [0.5555555555555556, \"#d8576b\"], [0.6666666666666666, \"#ed7953\"], [0.7777777777777778, \"#fb9f3a\"], [0.8888888888888888, \"#fdca26\"], [1.0, \"#f0f921\"]], \"type\": \"histogram2d\"}], \"histogram2dcontour\": [{\"colorbar\": {\"outlinewidth\": 0, \"ticks\": \"\"}, \"colorscale\": [[0.0, \"#0d0887\"], [0.1111111111111111, \"#46039f\"], [0.2222222222222222, \"#7201a8\"], [0.3333333333333333, \"#9c179e\"], [0.4444444444444444, \"#bd3786\"], [0.5555555555555556, \"#d8576b\"], [0.6666666666666666, \"#ed7953\"], [0.7777777777777778, \"#fb9f3a\"], [0.8888888888888888, \"#fdca26\"], [1.0, \"#f0f921\"]], \"type\": \"histogram2dcontour\"}], \"mesh3d\": [{\"colorbar\": {\"outlinewidth\": 0, \"ticks\": \"\"}, \"type\": \"mesh3d\"}], \"parcoords\": [{\"line\": {\"colorbar\": {\"outlinewidth\": 0, \"ticks\": \"\"}}, \"type\": \"parcoords\"}], \"pie\": [{\"automargin\": true, \"type\": \"pie\"}], \"scatter\": [{\"marker\": {\"colorbar\": {\"outlinewidth\": 0, \"ticks\": \"\"}}, \"type\": \"scatter\"}], \"scatter3d\": [{\"line\": {\"colorbar\": {\"outlinewidth\": 0, \"ticks\": \"\"}}, \"marker\": {\"colorbar\": {\"outlinewidth\": 0, \"ticks\": \"\"}}, \"type\": \"scatter3d\"}], \"scattercarpet\": [{\"marker\": {\"colorbar\": {\"outlinewidth\": 0, \"ticks\": \"\"}}, \"type\": \"scattercarpet\"}], \"scattergeo\": [{\"marker\": {\"colorbar\": {\"outlinewidth\": 0, \"ticks\": \"\"}}, \"type\": \"scattergeo\"}], \"scattergl\": [{\"marker\": {\"colorbar\": {\"outlinewidth\": 0, \"ticks\": \"\"}}, \"type\": \"scattergl\"}], \"scattermapbox\": [{\"marker\": {\"colorbar\": {\"outlinewidth\": 0, \"ticks\": \"\"}}, \"type\": \"scattermapbox\"}], \"scatterpolar\": [{\"marker\": {\"colorbar\": {\"outlinewidth\": 0, \"ticks\": \"\"}}, \"type\": \"scatterpolar\"}], \"scatterpolargl\": [{\"marker\": {\"colorbar\": {\"outlinewidth\": 0, \"ticks\": \"\"}}, \"type\": \"scatterpolargl\"}], \"scatterternary\": [{\"marker\": {\"colorbar\": {\"outlinewidth\": 0, \"ticks\": \"\"}}, \"type\": \"scatterternary\"}], \"surface\": [{\"colorbar\": {\"outlinewidth\": 0, \"ticks\": \"\"}, \"colorscale\": [[0.0, \"#0d0887\"], [0.1111111111111111, \"#46039f\"], [0.2222222222222222, \"#7201a8\"], [0.3333333333333333, \"#9c179e\"], [0.4444444444444444, \"#bd3786\"], [0.5555555555555556, \"#d8576b\"], [0.6666666666666666, \"#ed7953\"], [0.7777777777777778, \"#fb9f3a\"], [0.8888888888888888, \"#fdca26\"], [1.0, \"#f0f921\"]], \"type\": \"surface\"}], \"table\": [{\"cells\": {\"fill\": {\"color\": \"#EBF0F8\"}, \"line\": {\"color\": \"white\"}}, \"header\": {\"fill\": {\"color\": \"#C8D4E3\"}, \"line\": {\"color\": \"white\"}}, \"type\": \"table\"}]}, \"layout\": {\"annotationdefaults\": {\"arrowcolor\": \"#2a3f5f\", \"arrowhead\": 0, \"arrowwidth\": 1}, \"autotypenumbers\": \"strict\", \"coloraxis\": {\"colorbar\": {\"outlinewidth\": 0, \"ticks\": \"\"}}, \"colorscale\": {\"diverging\": [[0, \"#8e0152\"], [0.1, \"#c51b7d\"], [0.2, \"#de77ae\"], [0.3, \"#f1b6da\"], [0.4, \"#fde0ef\"], [0.5, \"#f7f7f7\"], [0.6, \"#e6f5d0\"], [0.7, \"#b8e186\"], [0.8, \"#7fbc41\"], [0.9, \"#4d9221\"], [1, \"#276419\"]], \"sequential\": [[0.0, \"#0d0887\"], [0.1111111111111111, \"#46039f\"], [0.2222222222222222, \"#7201a8\"], [0.3333333333333333, \"#9c179e\"], [0.4444444444444444, \"#bd3786\"], [0.5555555555555556, \"#d8576b\"], [0.6666666666666666, \"#ed7953\"], [0.7777777777777778, \"#fb9f3a\"], [0.8888888888888888, \"#fdca26\"], [1.0, \"#f0f921\"]], \"sequentialminus\": [[0.0, \"#0d0887\"], [0.1111111111111111, \"#46039f\"], [0.2222222222222222, \"#7201a8\"], [0.3333333333333333, \"#9c179e\"], [0.4444444444444444, \"#bd3786\"], [0.5555555555555556, \"#d8576b\"], [0.6666666666666666, \"#ed7953\"], [0.7777777777777778, \"#fb9f3a\"], [0.8888888888888888, \"#fdca26\"], [1.0, \"#f0f921\"]]}, \"colorway\": [\"#636efa\", \"#EF553B\", \"#00cc96\", \"#ab63fa\", \"#FFA15A\", \"#19d3f3\", \"#FF6692\", \"#B6E880\", \"#FF97FF\", \"#FECB52\"], \"font\": {\"color\": \"#2a3f5f\"}, \"geo\": {\"bgcolor\": \"white\", \"lakecolor\": \"white\", \"landcolor\": \"#E5ECF6\", \"showlakes\": true, \"showland\": true, \"subunitcolor\": \"white\"}, \"hoverlabel\": {\"align\": \"left\"}, \"hovermode\": \"closest\", \"mapbox\": {\"style\": \"light\"}, \"paper_bgcolor\": \"white\", \"plot_bgcolor\": \"#E5ECF6\", \"polar\": {\"angularaxis\": {\"gridcolor\": \"white\", \"linecolor\": \"white\", \"ticks\": \"\"}, \"bgcolor\": \"#E5ECF6\", \"radialaxis\": {\"gridcolor\": \"white\", \"linecolor\": \"white\", \"ticks\": \"\"}}, \"scene\": {\"xaxis\": {\"backgroundcolor\": \"#E5ECF6\", \"gridcolor\": \"white\", \"gridwidth\": 2, \"linecolor\": \"white\", \"showbackground\": true, \"ticks\": \"\", \"zerolinecolor\": \"white\"}, \"yaxis\": {\"backgroundcolor\": \"#E5ECF6\", \"gridcolor\": \"white\", \"gridwidth\": 2, \"linecolor\": \"white\", \"showbackground\": true, \"ticks\": \"\", \"zerolinecolor\": \"white\"}, \"zaxis\": {\"backgroundcolor\": \"#E5ECF6\", \"gridcolor\": \"white\", \"gridwidth\": 2, \"linecolor\": \"white\", \"showbackground\": true, \"ticks\": \"\", \"zerolinecolor\": \"white\"}}, \"shapedefaults\": {\"line\": {\"color\": \"#2a3f5f\"}}, \"ternary\": {\"aaxis\": {\"gridcolor\": \"white\", \"linecolor\": \"white\", \"ticks\": \"\"}, \"baxis\": {\"gridcolor\": \"white\", \"linecolor\": \"white\", \"ticks\": \"\"}, \"bgcolor\": \"#E5ECF6\", \"caxis\": {\"gridcolor\": \"white\", \"linecolor\": \"white\", \"ticks\": \"\"}}, \"title\": {\"x\": 0.05}, \"xaxis\": {\"automargin\": true, \"gridcolor\": \"white\", \"linecolor\": \"white\", \"ticks\": \"\", \"title\": {\"standoff\": 15}, \"zerolinecolor\": \"white\", \"zerolinewidth\": 2}, \"yaxis\": {\"automargin\": true, \"gridcolor\": \"white\", \"linecolor\": \"white\", \"ticks\": \"\", \"title\": {\"standoff\": 15}, \"zerolinecolor\": \"white\", \"zerolinewidth\": 2}}}},                        {\"responsive\": true}                    ).then(function(){\n",
       "                            \n",
       "var gd = document.getElementById('745cf01f-be5e-487f-9787-7fcec809bc60');\n",
       "var x = new MutationObserver(function (mutations, observer) {{\n",
       "        var display = window.getComputedStyle(gd).display;\n",
       "        if (!display || display === 'none') {{\n",
       "            console.log([gd, 'removed!']);\n",
       "            Plotly.purge(gd);\n",
       "            observer.disconnect();\n",
       "        }}\n",
       "}});\n",
       "\n",
       "// Listen for the removal of the full notebook cells\n",
       "var notebookContainer = gd.closest('#notebook-container');\n",
       "if (notebookContainer) {{\n",
       "    x.observe(notebookContainer, {childList: true});\n",
       "}}\n",
       "\n",
       "// Listen for the clearing of the current output cell\n",
       "var outputEl = gd.closest('.output');\n",
       "if (outputEl) {{\n",
       "    x.observe(outputEl, {childList: true});\n",
       "}}\n",
       "\n",
       "                        })                };                });            </script>        </div>"
      ]
     },
     "metadata": {},
     "output_type": "display_data"
    }
   ],
   "source": [
    "fig_upper = px.scatter_mapbox(upper_df, lat=\"Latitude\", lon=\"Longitude\", \n",
    "                        color=\"tractce10\", \n",
    "                        size=\"NumRacks\",\n",
    "                        hover_name=\"Station_Name\", \n",
    "                        hover_data={\"tractce10\":True, \n",
    "                                    \"2015_tract_med_hhincome\":True,\n",
    "                                   \"Latitude\": False,\n",
    "                                   \"Longitude\": False},\n",
    "                        color_discrete_sequence=px.colors.qualitative.Alphabet, size_max=15, zoom=10,\n",
    "                        mapbox_style=\"carto-darkmatter\")\n",
    "fig_upper.show()"
   ]
  },
  {
   "cell_type": "code",
   "execution_count": 63,
   "metadata": {
    "scrolled": true
   },
   "outputs": [
    {
     "name": "stdout",
     "output_type": "stream",
     "text": [
      "67750.0\n",
      "67750.0\n",
      "67750.0\n",
      "67750.0\n",
      "67750.0\n",
      "67750.0\n",
      "67750.0\n",
      "67750.0\n",
      "67750.0\n",
      "67750.0\n",
      "67750.0\n",
      "67750.0\n",
      "67750.0\n",
      "67750.0\n",
      "67750.0\n",
      "67750.0\n",
      "67750.0\n",
      "67750.0\n",
      "41071.0\n",
      "41071.0\n",
      "41071.0\n",
      "94643.0\n",
      "94643.0\n",
      "94643.0\n",
      "94643.0\n",
      "94643.0\n",
      "94643.0\n",
      "94643.0\n",
      "94643.0\n",
      "30543.0\n",
      "33938.0\n",
      "33938.0\n",
      "50781.0\n",
      "50781.0\n",
      "53724.0\n",
      "33816.0\n",
      "49750.0\n",
      "49750.0\n",
      "51509.0\n",
      "24308.0\n",
      "24308.0\n",
      "24308.0\n",
      "21154.0\n",
      "51703.0\n",
      "51703.0\n",
      "51703.0\n",
      "51250.0\n",
      "51250.0\n",
      "54821.0\n",
      "33929.0\n",
      "119688.0\n",
      "119688.0\n",
      "21277.0\n",
      "21277.0\n",
      "17441.0\n",
      "17441.0\n",
      "17441.0\n",
      "17441.0\n",
      "32837.0\n",
      "53241.0\n",
      "53241.0\n",
      "53241.0\n",
      "53241.0\n",
      "43750.0\n",
      "43750.0\n",
      "43750.0\n",
      "25689.0\n",
      "25689.0\n",
      "37431.0\n",
      "37431.0\n",
      "37431.0\n",
      "37431.0\n",
      "67944.0\n",
      "48000.0\n",
      "48000.0\n",
      "48000.0\n",
      "26964.0\n",
      "26196.0\n",
      "16318.0\n",
      "33400.0\n",
      "33400.0\n",
      "36944.0\n",
      "40566.0\n",
      "43750.0\n"
     ]
    }
   ],
   "source": [
    "upper_df = upper_df.reset_index()\n",
    "fixed_df = upper_df.loc[upper_df['2015_tract_med_hhincome'] > 0.0]\n",
    "fixed_df = fixed_df.reset_index()\n",
    "for i in range(len(fixed_df)):\n",
    "    print(fixed_df.loc[i]['2015_tract_med_hhincome'])"
   ]
  },
  {
   "cell_type": "code",
   "execution_count": 64,
   "metadata": {},
   "outputs": [
    {
     "data": {
      "text/plain": [
       "52120.869047619046"
      ]
     },
     "execution_count": 64,
     "metadata": {},
     "output_type": "execute_result"
    }
   ],
   "source": [
    "fixed_df['2015_tract_med_hhincome'].mean()"
   ]
  },
  {
   "cell_type": "code",
   "execution_count": 65,
   "metadata": {},
   "outputs": [
    {
     "data": {
      "text/plain": [
       "16318.0"
      ]
     },
     "execution_count": 65,
     "metadata": {},
     "output_type": "execute_result"
    }
   ],
   "source": [
    "fixed_df['2015_tract_med_hhincome'].min()"
   ]
  },
  {
   "cell_type": "code",
   "execution_count": 66,
   "metadata": {},
   "outputs": [
    {
     "data": {
      "text/plain": [
       "119688.0"
      ]
     },
     "execution_count": 66,
     "metadata": {},
     "output_type": "execute_result"
    }
   ],
   "source": [
    "fixed_df['2015_tract_med_hhincome'].max()"
   ]
  },
  {
   "cell_type": "markdown",
   "metadata": {},
   "source": [
    "The mean 2015 median household income for the census tracts that do not have poor housing condition is $52120.87"
   ]
  },
  {
   "cell_type": "code",
   "execution_count": 70,
   "metadata": {},
   "outputs": [],
   "source": [
    "lower_df = combo_df.loc[(combo_df['tractce10'] == '120700') | (combo_df['tractce10'] == '130300') | (combo_df['tractce10'] == '050100') | (combo_df['tractce10'] == '101700')]"
   ]
  },
  {
   "cell_type": "code",
   "execution_count": 71,
   "metadata": {},
   "outputs": [
    {
     "data": {
      "text/html": [
       "<div>\n",
       "<style scoped>\n",
       "    .dataframe tbody tr th:only-of-type {\n",
       "        vertical-align: middle;\n",
       "    }\n",
       "\n",
       "    .dataframe tbody tr th {\n",
       "        vertical-align: top;\n",
       "    }\n",
       "\n",
       "    .dataframe thead th {\n",
       "        text-align: right;\n",
       "    }\n",
       "</style>\n",
       "<table border=\"1\" class=\"dataframe\">\n",
       "  <thead>\n",
       "    <tr style=\"text-align: right;\">\n",
       "      <th></th>\n",
       "      <th>Station #</th>\n",
       "      <th>Station_Name</th>\n",
       "      <th>NumRacks</th>\n",
       "      <th>Latitude</th>\n",
       "      <th>Longitude</th>\n",
       "      <th>coordinates</th>\n",
       "      <th>tractce10</th>\n",
       "      <th>TractIncomeLevel</th>\n",
       "      <th>2015_tract_med_hhincome</th>\n",
       "    </tr>\n",
       "  </thead>\n",
       "  <tbody>\n",
       "    <tr>\n",
       "      <th>68</th>\n",
       "      <td>1042</td>\n",
       "      <td>Centre Ave &amp; Kirkpatrick St</td>\n",
       "      <td>12</td>\n",
       "      <td>40.445236</td>\n",
       "      <td>-79.976911</td>\n",
       "      <td>POINT (-79.976911 40.445236)</td>\n",
       "      <td>050100</td>\n",
       "      <td>Low</td>\n",
       "      <td>17692.0</td>\n",
       "    </tr>\n",
       "    <tr>\n",
       "      <th>83</th>\n",
       "      <td>1063</td>\n",
       "      <td>Penn Ave &amp; N Atlantic Ave</td>\n",
       "      <td>5</td>\n",
       "      <td>40.464605</td>\n",
       "      <td>-79.938760</td>\n",
       "      <td>POINT (-79.93876040000001 40.46460503)</td>\n",
       "      <td>101700</td>\n",
       "      <td>Low</td>\n",
       "      <td>32163.0</td>\n",
       "    </tr>\n",
       "    <tr>\n",
       "      <th>84</th>\n",
       "      <td>1066</td>\n",
       "      <td>N Homewood Ave &amp; Finance St (Homewood Station)</td>\n",
       "      <td>8</td>\n",
       "      <td>40.453046</td>\n",
       "      <td>-79.898479</td>\n",
       "      <td>POINT (-79.89847897999999 40.45304583)</td>\n",
       "      <td>130300</td>\n",
       "      <td>Moderate</td>\n",
       "      <td>13986.0</td>\n",
       "    </tr>\n",
       "    <tr>\n",
       "      <th>85</th>\n",
       "      <td>49321</td>\n",
       "      <td>Bennett St &amp; Eccrue Way</td>\n",
       "      <td>7</td>\n",
       "      <td>40.456687</td>\n",
       "      <td>-79.898136</td>\n",
       "      <td>POINT (-79.89813565999999 40.45668686)</td>\n",
       "      <td>130300</td>\n",
       "      <td>Moderate</td>\n",
       "      <td>13986.0</td>\n",
       "    </tr>\n",
       "    <tr>\n",
       "      <th>94</th>\n",
       "      <td>49311</td>\n",
       "      <td>Hamilton Ave &amp; N Dallas Ave</td>\n",
       "      <td>6</td>\n",
       "      <td>40.456238</td>\n",
       "      <td>-79.905056</td>\n",
       "      <td>POINT (-79.90505576 40.45623787)</td>\n",
       "      <td>120700</td>\n",
       "      <td>Moderate</td>\n",
       "      <td>19762.0</td>\n",
       "    </tr>\n",
       "  </tbody>\n",
       "</table>\n",
       "</div>"
      ],
      "text/plain": [
       "    Station #                                    Station_Name  NumRacks  \\\n",
       "68       1042                     Centre Ave & Kirkpatrick St        12   \n",
       "83       1063                       Penn Ave & N Atlantic Ave         5   \n",
       "84       1066  N Homewood Ave & Finance St (Homewood Station)         8   \n",
       "85      49321                         Bennett St & Eccrue Way         7   \n",
       "94      49311                     Hamilton Ave & N Dallas Ave         6   \n",
       "\n",
       "     Latitude  Longitude                             coordinates tractce10  \\\n",
       "68  40.445236 -79.976911            POINT (-79.976911 40.445236)    050100   \n",
       "83  40.464605 -79.938760  POINT (-79.93876040000001 40.46460503)    101700   \n",
       "84  40.453046 -79.898479  POINT (-79.89847897999999 40.45304583)    130300   \n",
       "85  40.456687 -79.898136  POINT (-79.89813565999999 40.45668686)    130300   \n",
       "94  40.456238 -79.905056        POINT (-79.90505576 40.45623787)    120700   \n",
       "\n",
       "   TractIncomeLevel  2015_tract_med_hhincome  \n",
       "68              Low                  17692.0  \n",
       "83              Low                  32163.0  \n",
       "84         Moderate                  13986.0  \n",
       "85         Moderate                  13986.0  \n",
       "94         Moderate                  19762.0  "
      ]
     },
     "execution_count": 71,
     "metadata": {},
     "output_type": "execute_result"
    }
   ],
   "source": [
    "lower_df"
   ]
  },
  {
   "cell_type": "markdown",
   "metadata": {},
   "source": [
    "## Modified Map\n",
    "The below map shows the five bike stations that are in census tracts with a significant percentage of poor housing conditions"
   ]
  },
  {
   "cell_type": "code",
   "execution_count": 37,
   "metadata": {},
   "outputs": [
    {
     "data": {
      "application/vnd.plotly.v1+json": {
       "config": {
        "plotlyServerURL": "https://plot.ly"
       },
       "data": [
        {
         "customdata": [
          [
           "050100",
           17692,
           40.445236,
           -79.976911
          ]
         ],
         "hovertemplate": "<b>%{hovertext}</b><br><br>tractce10=%{customdata[0]}<br>NumRacks=%{marker.size}<br>2015_tract_med_hhincome=%{customdata[1]}<extra></extra>",
         "hovertext": [
          "Centre Ave & Kirkpatrick St"
         ],
         "lat": [
          40.445236
         ],
         "legendgroup": "050100",
         "lon": [
          -79.976911
         ],
         "marker": {
          "color": "#AA0DFE",
          "size": [
           12
          ],
          "sizemode": "area",
          "sizeref": 0.05333333333333334
         },
         "mode": "markers",
         "name": "050100",
         "showlegend": true,
         "subplot": "mapbox",
         "type": "scattermapbox"
        },
        {
         "customdata": [
          [
           "101700",
           32163,
           40.46460503,
           -79.9387604
          ]
         ],
         "hovertemplate": "<b>%{hovertext}</b><br><br>tractce10=%{customdata[0]}<br>NumRacks=%{marker.size}<br>2015_tract_med_hhincome=%{customdata[1]}<extra></extra>",
         "hovertext": [
          "Penn Ave & N Atlantic Ave"
         ],
         "lat": [
          40.46460503
         ],
         "legendgroup": "101700",
         "lon": [
          -79.9387604
         ],
         "marker": {
          "color": "#3283FE",
          "size": [
           5
          ],
          "sizemode": "area",
          "sizeref": 0.05333333333333334
         },
         "mode": "markers",
         "name": "101700",
         "showlegend": true,
         "subplot": "mapbox",
         "type": "scattermapbox"
        },
        {
         "customdata": [
          [
           "130300",
           13986,
           40.45304583,
           -79.89847898
          ],
          [
           "130300",
           13986,
           40.45668686,
           -79.89813566
          ]
         ],
         "hovertemplate": "<b>%{hovertext}</b><br><br>tractce10=%{customdata[0]}<br>NumRacks=%{marker.size}<br>2015_tract_med_hhincome=%{customdata[1]}<extra></extra>",
         "hovertext": [
          "N Homewood Ave & Finance St (Homewood Station)",
          "Bennett St & Eccrue Way"
         ],
         "lat": [
          40.45304583,
          40.45668686
         ],
         "legendgroup": "130300",
         "lon": [
          -79.89847898,
          -79.89813566
         ],
         "marker": {
          "color": "#85660D",
          "size": [
           8,
           7
          ],
          "sizemode": "area",
          "sizeref": 0.05333333333333334
         },
         "mode": "markers",
         "name": "130300",
         "showlegend": true,
         "subplot": "mapbox",
         "type": "scattermapbox"
        },
        {
         "customdata": [
          [
           "120700",
           19762,
           40.45623787,
           -79.90505576
          ]
         ],
         "hovertemplate": "<b>%{hovertext}</b><br><br>tractce10=%{customdata[0]}<br>NumRacks=%{marker.size}<br>2015_tract_med_hhincome=%{customdata[1]}<extra></extra>",
         "hovertext": [
          "Hamilton Ave & N Dallas Ave"
         ],
         "lat": [
          40.45623787
         ],
         "legendgroup": "120700",
         "lon": [
          -79.90505576
         ],
         "marker": {
          "color": "#782AB6",
          "size": [
           6
          ],
          "sizemode": "area",
          "sizeref": 0.05333333333333334
         },
         "mode": "markers",
         "name": "120700",
         "showlegend": true,
         "subplot": "mapbox",
         "type": "scattermapbox"
        }
       ],
       "layout": {
        "legend": {
         "itemsizing": "constant",
         "title": {
          "text": "tractce10"
         },
         "tracegroupgap": 0
        },
        "mapbox": {
         "center": {
          "lat": 40.455162318,
          "lon": -79.92346835999999
         },
         "domain": {
          "x": [
           0,
           1
          ],
          "y": [
           0,
           1
          ]
         },
         "style": "carto-darkmatter",
         "zoom": 10
        },
        "margin": {
         "t": 60
        },
        "template": {
         "data": {
          "bar": [
           {
            "error_x": {
             "color": "#2a3f5f"
            },
            "error_y": {
             "color": "#2a3f5f"
            },
            "marker": {
             "line": {
              "color": "#E5ECF6",
              "width": 0.5
             }
            },
            "type": "bar"
           }
          ],
          "barpolar": [
           {
            "marker": {
             "line": {
              "color": "#E5ECF6",
              "width": 0.5
             }
            },
            "type": "barpolar"
           }
          ],
          "carpet": [
           {
            "aaxis": {
             "endlinecolor": "#2a3f5f",
             "gridcolor": "white",
             "linecolor": "white",
             "minorgridcolor": "white",
             "startlinecolor": "#2a3f5f"
            },
            "baxis": {
             "endlinecolor": "#2a3f5f",
             "gridcolor": "white",
             "linecolor": "white",
             "minorgridcolor": "white",
             "startlinecolor": "#2a3f5f"
            },
            "type": "carpet"
           }
          ],
          "choropleth": [
           {
            "colorbar": {
             "outlinewidth": 0,
             "ticks": ""
            },
            "type": "choropleth"
           }
          ],
          "contour": [
           {
            "colorbar": {
             "outlinewidth": 0,
             "ticks": ""
            },
            "colorscale": [
             [
              0,
              "#0d0887"
             ],
             [
              0.1111111111111111,
              "#46039f"
             ],
             [
              0.2222222222222222,
              "#7201a8"
             ],
             [
              0.3333333333333333,
              "#9c179e"
             ],
             [
              0.4444444444444444,
              "#bd3786"
             ],
             [
              0.5555555555555556,
              "#d8576b"
             ],
             [
              0.6666666666666666,
              "#ed7953"
             ],
             [
              0.7777777777777778,
              "#fb9f3a"
             ],
             [
              0.8888888888888888,
              "#fdca26"
             ],
             [
              1,
              "#f0f921"
             ]
            ],
            "type": "contour"
           }
          ],
          "contourcarpet": [
           {
            "colorbar": {
             "outlinewidth": 0,
             "ticks": ""
            },
            "type": "contourcarpet"
           }
          ],
          "heatmap": [
           {
            "colorbar": {
             "outlinewidth": 0,
             "ticks": ""
            },
            "colorscale": [
             [
              0,
              "#0d0887"
             ],
             [
              0.1111111111111111,
              "#46039f"
             ],
             [
              0.2222222222222222,
              "#7201a8"
             ],
             [
              0.3333333333333333,
              "#9c179e"
             ],
             [
              0.4444444444444444,
              "#bd3786"
             ],
             [
              0.5555555555555556,
              "#d8576b"
             ],
             [
              0.6666666666666666,
              "#ed7953"
             ],
             [
              0.7777777777777778,
              "#fb9f3a"
             ],
             [
              0.8888888888888888,
              "#fdca26"
             ],
             [
              1,
              "#f0f921"
             ]
            ],
            "type": "heatmap"
           }
          ],
          "heatmapgl": [
           {
            "colorbar": {
             "outlinewidth": 0,
             "ticks": ""
            },
            "colorscale": [
             [
              0,
              "#0d0887"
             ],
             [
              0.1111111111111111,
              "#46039f"
             ],
             [
              0.2222222222222222,
              "#7201a8"
             ],
             [
              0.3333333333333333,
              "#9c179e"
             ],
             [
              0.4444444444444444,
              "#bd3786"
             ],
             [
              0.5555555555555556,
              "#d8576b"
             ],
             [
              0.6666666666666666,
              "#ed7953"
             ],
             [
              0.7777777777777778,
              "#fb9f3a"
             ],
             [
              0.8888888888888888,
              "#fdca26"
             ],
             [
              1,
              "#f0f921"
             ]
            ],
            "type": "heatmapgl"
           }
          ],
          "histogram": [
           {
            "marker": {
             "colorbar": {
              "outlinewidth": 0,
              "ticks": ""
             }
            },
            "type": "histogram"
           }
          ],
          "histogram2d": [
           {
            "colorbar": {
             "outlinewidth": 0,
             "ticks": ""
            },
            "colorscale": [
             [
              0,
              "#0d0887"
             ],
             [
              0.1111111111111111,
              "#46039f"
             ],
             [
              0.2222222222222222,
              "#7201a8"
             ],
             [
              0.3333333333333333,
              "#9c179e"
             ],
             [
              0.4444444444444444,
              "#bd3786"
             ],
             [
              0.5555555555555556,
              "#d8576b"
             ],
             [
              0.6666666666666666,
              "#ed7953"
             ],
             [
              0.7777777777777778,
              "#fb9f3a"
             ],
             [
              0.8888888888888888,
              "#fdca26"
             ],
             [
              1,
              "#f0f921"
             ]
            ],
            "type": "histogram2d"
           }
          ],
          "histogram2dcontour": [
           {
            "colorbar": {
             "outlinewidth": 0,
             "ticks": ""
            },
            "colorscale": [
             [
              0,
              "#0d0887"
             ],
             [
              0.1111111111111111,
              "#46039f"
             ],
             [
              0.2222222222222222,
              "#7201a8"
             ],
             [
              0.3333333333333333,
              "#9c179e"
             ],
             [
              0.4444444444444444,
              "#bd3786"
             ],
             [
              0.5555555555555556,
              "#d8576b"
             ],
             [
              0.6666666666666666,
              "#ed7953"
             ],
             [
              0.7777777777777778,
              "#fb9f3a"
             ],
             [
              0.8888888888888888,
              "#fdca26"
             ],
             [
              1,
              "#f0f921"
             ]
            ],
            "type": "histogram2dcontour"
           }
          ],
          "mesh3d": [
           {
            "colorbar": {
             "outlinewidth": 0,
             "ticks": ""
            },
            "type": "mesh3d"
           }
          ],
          "parcoords": [
           {
            "line": {
             "colorbar": {
              "outlinewidth": 0,
              "ticks": ""
             }
            },
            "type": "parcoords"
           }
          ],
          "pie": [
           {
            "automargin": true,
            "type": "pie"
           }
          ],
          "scatter": [
           {
            "marker": {
             "colorbar": {
              "outlinewidth": 0,
              "ticks": ""
             }
            },
            "type": "scatter"
           }
          ],
          "scatter3d": [
           {
            "line": {
             "colorbar": {
              "outlinewidth": 0,
              "ticks": ""
             }
            },
            "marker": {
             "colorbar": {
              "outlinewidth": 0,
              "ticks": ""
             }
            },
            "type": "scatter3d"
           }
          ],
          "scattercarpet": [
           {
            "marker": {
             "colorbar": {
              "outlinewidth": 0,
              "ticks": ""
             }
            },
            "type": "scattercarpet"
           }
          ],
          "scattergeo": [
           {
            "marker": {
             "colorbar": {
              "outlinewidth": 0,
              "ticks": ""
             }
            },
            "type": "scattergeo"
           }
          ],
          "scattergl": [
           {
            "marker": {
             "colorbar": {
              "outlinewidth": 0,
              "ticks": ""
             }
            },
            "type": "scattergl"
           }
          ],
          "scattermapbox": [
           {
            "marker": {
             "colorbar": {
              "outlinewidth": 0,
              "ticks": ""
             }
            },
            "type": "scattermapbox"
           }
          ],
          "scatterpolar": [
           {
            "marker": {
             "colorbar": {
              "outlinewidth": 0,
              "ticks": ""
             }
            },
            "type": "scatterpolar"
           }
          ],
          "scatterpolargl": [
           {
            "marker": {
             "colorbar": {
              "outlinewidth": 0,
              "ticks": ""
             }
            },
            "type": "scatterpolargl"
           }
          ],
          "scatterternary": [
           {
            "marker": {
             "colorbar": {
              "outlinewidth": 0,
              "ticks": ""
             }
            },
            "type": "scatterternary"
           }
          ],
          "surface": [
           {
            "colorbar": {
             "outlinewidth": 0,
             "ticks": ""
            },
            "colorscale": [
             [
              0,
              "#0d0887"
             ],
             [
              0.1111111111111111,
              "#46039f"
             ],
             [
              0.2222222222222222,
              "#7201a8"
             ],
             [
              0.3333333333333333,
              "#9c179e"
             ],
             [
              0.4444444444444444,
              "#bd3786"
             ],
             [
              0.5555555555555556,
              "#d8576b"
             ],
             [
              0.6666666666666666,
              "#ed7953"
             ],
             [
              0.7777777777777778,
              "#fb9f3a"
             ],
             [
              0.8888888888888888,
              "#fdca26"
             ],
             [
              1,
              "#f0f921"
             ]
            ],
            "type": "surface"
           }
          ],
          "table": [
           {
            "cells": {
             "fill": {
              "color": "#EBF0F8"
             },
             "line": {
              "color": "white"
             }
            },
            "header": {
             "fill": {
              "color": "#C8D4E3"
             },
             "line": {
              "color": "white"
             }
            },
            "type": "table"
           }
          ]
         },
         "layout": {
          "annotationdefaults": {
           "arrowcolor": "#2a3f5f",
           "arrowhead": 0,
           "arrowwidth": 1
          },
          "autotypenumbers": "strict",
          "coloraxis": {
           "colorbar": {
            "outlinewidth": 0,
            "ticks": ""
           }
          },
          "colorscale": {
           "diverging": [
            [
             0,
             "#8e0152"
            ],
            [
             0.1,
             "#c51b7d"
            ],
            [
             0.2,
             "#de77ae"
            ],
            [
             0.3,
             "#f1b6da"
            ],
            [
             0.4,
             "#fde0ef"
            ],
            [
             0.5,
             "#f7f7f7"
            ],
            [
             0.6,
             "#e6f5d0"
            ],
            [
             0.7,
             "#b8e186"
            ],
            [
             0.8,
             "#7fbc41"
            ],
            [
             0.9,
             "#4d9221"
            ],
            [
             1,
             "#276419"
            ]
           ],
           "sequential": [
            [
             0,
             "#0d0887"
            ],
            [
             0.1111111111111111,
             "#46039f"
            ],
            [
             0.2222222222222222,
             "#7201a8"
            ],
            [
             0.3333333333333333,
             "#9c179e"
            ],
            [
             0.4444444444444444,
             "#bd3786"
            ],
            [
             0.5555555555555556,
             "#d8576b"
            ],
            [
             0.6666666666666666,
             "#ed7953"
            ],
            [
             0.7777777777777778,
             "#fb9f3a"
            ],
            [
             0.8888888888888888,
             "#fdca26"
            ],
            [
             1,
             "#f0f921"
            ]
           ],
           "sequentialminus": [
            [
             0,
             "#0d0887"
            ],
            [
             0.1111111111111111,
             "#46039f"
            ],
            [
             0.2222222222222222,
             "#7201a8"
            ],
            [
             0.3333333333333333,
             "#9c179e"
            ],
            [
             0.4444444444444444,
             "#bd3786"
            ],
            [
             0.5555555555555556,
             "#d8576b"
            ],
            [
             0.6666666666666666,
             "#ed7953"
            ],
            [
             0.7777777777777778,
             "#fb9f3a"
            ],
            [
             0.8888888888888888,
             "#fdca26"
            ],
            [
             1,
             "#f0f921"
            ]
           ]
          },
          "colorway": [
           "#636efa",
           "#EF553B",
           "#00cc96",
           "#ab63fa",
           "#FFA15A",
           "#19d3f3",
           "#FF6692",
           "#B6E880",
           "#FF97FF",
           "#FECB52"
          ],
          "font": {
           "color": "#2a3f5f"
          },
          "geo": {
           "bgcolor": "white",
           "lakecolor": "white",
           "landcolor": "#E5ECF6",
           "showlakes": true,
           "showland": true,
           "subunitcolor": "white"
          },
          "hoverlabel": {
           "align": "left"
          },
          "hovermode": "closest",
          "mapbox": {
           "style": "light"
          },
          "paper_bgcolor": "white",
          "plot_bgcolor": "#E5ECF6",
          "polar": {
           "angularaxis": {
            "gridcolor": "white",
            "linecolor": "white",
            "ticks": ""
           },
           "bgcolor": "#E5ECF6",
           "radialaxis": {
            "gridcolor": "white",
            "linecolor": "white",
            "ticks": ""
           }
          },
          "scene": {
           "xaxis": {
            "backgroundcolor": "#E5ECF6",
            "gridcolor": "white",
            "gridwidth": 2,
            "linecolor": "white",
            "showbackground": true,
            "ticks": "",
            "zerolinecolor": "white"
           },
           "yaxis": {
            "backgroundcolor": "#E5ECF6",
            "gridcolor": "white",
            "gridwidth": 2,
            "linecolor": "white",
            "showbackground": true,
            "ticks": "",
            "zerolinecolor": "white"
           },
           "zaxis": {
            "backgroundcolor": "#E5ECF6",
            "gridcolor": "white",
            "gridwidth": 2,
            "linecolor": "white",
            "showbackground": true,
            "ticks": "",
            "zerolinecolor": "white"
           }
          },
          "shapedefaults": {
           "line": {
            "color": "#2a3f5f"
           }
          },
          "ternary": {
           "aaxis": {
            "gridcolor": "white",
            "linecolor": "white",
            "ticks": ""
           },
           "baxis": {
            "gridcolor": "white",
            "linecolor": "white",
            "ticks": ""
           },
           "bgcolor": "#E5ECF6",
           "caxis": {
            "gridcolor": "white",
            "linecolor": "white",
            "ticks": ""
           }
          },
          "title": {
           "x": 0.05
          },
          "xaxis": {
           "automargin": true,
           "gridcolor": "white",
           "linecolor": "white",
           "ticks": "",
           "title": {
            "standoff": 15
           },
           "zerolinecolor": "white",
           "zerolinewidth": 2
          },
          "yaxis": {
           "automargin": true,
           "gridcolor": "white",
           "linecolor": "white",
           "ticks": "",
           "title": {
            "standoff": 15
           },
           "zerolinecolor": "white",
           "zerolinewidth": 2
          }
         }
        }
       }
      },
      "text/html": [
       "<div>                            <div id=\"e44335bc-f5ca-48e3-b6df-8b748bf82df6\" class=\"plotly-graph-div\" style=\"height:525px; width:100%;\"></div>            <script type=\"text/javascript\">                require([\"plotly\"], function(Plotly) {                    window.PLOTLYENV=window.PLOTLYENV || {};                                    if (document.getElementById(\"e44335bc-f5ca-48e3-b6df-8b748bf82df6\")) {                    Plotly.newPlot(                        \"e44335bc-f5ca-48e3-b6df-8b748bf82df6\",                        [{\"customdata\": [[\"050100\", 17692.0, 40.445236, -79.976911]], \"hovertemplate\": \"<b>%{hovertext}</b><br><br>tractce10=%{customdata[0]}<br>NumRacks=%{marker.size}<br>2015_tract_med_hhincome=%{customdata[1]}<extra></extra>\", \"hovertext\": [\"Centre Ave & Kirkpatrick St\"], \"lat\": [40.445236], \"legendgroup\": \"050100\", \"lon\": [-79.976911], \"marker\": {\"color\": \"#AA0DFE\", \"size\": [12], \"sizemode\": \"area\", \"sizeref\": 0.05333333333333334}, \"mode\": \"markers\", \"name\": \"050100\", \"showlegend\": true, \"subplot\": \"mapbox\", \"type\": \"scattermapbox\"}, {\"customdata\": [[\"101700\", 32163.0, 40.46460503, -79.9387604]], \"hovertemplate\": \"<b>%{hovertext}</b><br><br>tractce10=%{customdata[0]}<br>NumRacks=%{marker.size}<br>2015_tract_med_hhincome=%{customdata[1]}<extra></extra>\", \"hovertext\": [\"Penn Ave & N Atlantic Ave\"], \"lat\": [40.46460503], \"legendgroup\": \"101700\", \"lon\": [-79.9387604], \"marker\": {\"color\": \"#3283FE\", \"size\": [5], \"sizemode\": \"area\", \"sizeref\": 0.05333333333333334}, \"mode\": \"markers\", \"name\": \"101700\", \"showlegend\": true, \"subplot\": \"mapbox\", \"type\": \"scattermapbox\"}, {\"customdata\": [[\"130300\", 13986.0, 40.45304583, -79.89847898], [\"130300\", 13986.0, 40.45668686, -79.89813566]], \"hovertemplate\": \"<b>%{hovertext}</b><br><br>tractce10=%{customdata[0]}<br>NumRacks=%{marker.size}<br>2015_tract_med_hhincome=%{customdata[1]}<extra></extra>\", \"hovertext\": [\"N Homewood Ave & Finance St (Homewood Station)\", \"Bennett St & Eccrue Way\"], \"lat\": [40.45304583, 40.45668686], \"legendgroup\": \"130300\", \"lon\": [-79.89847898, -79.89813566], \"marker\": {\"color\": \"#85660D\", \"size\": [8, 7], \"sizemode\": \"area\", \"sizeref\": 0.05333333333333334}, \"mode\": \"markers\", \"name\": \"130300\", \"showlegend\": true, \"subplot\": \"mapbox\", \"type\": \"scattermapbox\"}, {\"customdata\": [[\"120700\", 19762.0, 40.45623787, -79.90505576]], \"hovertemplate\": \"<b>%{hovertext}</b><br><br>tractce10=%{customdata[0]}<br>NumRacks=%{marker.size}<br>2015_tract_med_hhincome=%{customdata[1]}<extra></extra>\", \"hovertext\": [\"Hamilton Ave & N Dallas Ave\"], \"lat\": [40.45623787], \"legendgroup\": \"120700\", \"lon\": [-79.90505576], \"marker\": {\"color\": \"#782AB6\", \"size\": [6], \"sizemode\": \"area\", \"sizeref\": 0.05333333333333334}, \"mode\": \"markers\", \"name\": \"120700\", \"showlegend\": true, \"subplot\": \"mapbox\", \"type\": \"scattermapbox\"}],                        {\"legend\": {\"itemsizing\": \"constant\", \"title\": {\"text\": \"tractce10\"}, \"tracegroupgap\": 0}, \"mapbox\": {\"center\": {\"lat\": 40.455162318, \"lon\": -79.92346835999999}, \"domain\": {\"x\": [0.0, 1.0], \"y\": [0.0, 1.0]}, \"style\": \"carto-darkmatter\", \"zoom\": 10}, \"margin\": {\"t\": 60}, \"template\": {\"data\": {\"bar\": [{\"error_x\": {\"color\": \"#2a3f5f\"}, \"error_y\": {\"color\": \"#2a3f5f\"}, \"marker\": {\"line\": {\"color\": \"#E5ECF6\", \"width\": 0.5}}, \"type\": \"bar\"}], \"barpolar\": [{\"marker\": {\"line\": {\"color\": \"#E5ECF6\", \"width\": 0.5}}, \"type\": \"barpolar\"}], \"carpet\": [{\"aaxis\": {\"endlinecolor\": \"#2a3f5f\", \"gridcolor\": \"white\", \"linecolor\": \"white\", \"minorgridcolor\": \"white\", \"startlinecolor\": \"#2a3f5f\"}, \"baxis\": {\"endlinecolor\": \"#2a3f5f\", \"gridcolor\": \"white\", \"linecolor\": \"white\", \"minorgridcolor\": \"white\", \"startlinecolor\": \"#2a3f5f\"}, \"type\": \"carpet\"}], \"choropleth\": [{\"colorbar\": {\"outlinewidth\": 0, \"ticks\": \"\"}, \"type\": \"choropleth\"}], \"contour\": [{\"colorbar\": {\"outlinewidth\": 0, \"ticks\": \"\"}, \"colorscale\": [[0.0, \"#0d0887\"], [0.1111111111111111, \"#46039f\"], [0.2222222222222222, \"#7201a8\"], [0.3333333333333333, \"#9c179e\"], [0.4444444444444444, \"#bd3786\"], [0.5555555555555556, \"#d8576b\"], [0.6666666666666666, \"#ed7953\"], [0.7777777777777778, \"#fb9f3a\"], [0.8888888888888888, \"#fdca26\"], [1.0, \"#f0f921\"]], \"type\": \"contour\"}], \"contourcarpet\": [{\"colorbar\": {\"outlinewidth\": 0, \"ticks\": \"\"}, \"type\": \"contourcarpet\"}], \"heatmap\": [{\"colorbar\": {\"outlinewidth\": 0, \"ticks\": \"\"}, \"colorscale\": [[0.0, \"#0d0887\"], [0.1111111111111111, \"#46039f\"], [0.2222222222222222, \"#7201a8\"], [0.3333333333333333, \"#9c179e\"], [0.4444444444444444, \"#bd3786\"], [0.5555555555555556, \"#d8576b\"], [0.6666666666666666, \"#ed7953\"], [0.7777777777777778, \"#fb9f3a\"], [0.8888888888888888, \"#fdca26\"], [1.0, \"#f0f921\"]], \"type\": \"heatmap\"}], \"heatmapgl\": [{\"colorbar\": {\"outlinewidth\": 0, \"ticks\": \"\"}, \"colorscale\": [[0.0, \"#0d0887\"], [0.1111111111111111, \"#46039f\"], [0.2222222222222222, \"#7201a8\"], [0.3333333333333333, \"#9c179e\"], [0.4444444444444444, \"#bd3786\"], [0.5555555555555556, \"#d8576b\"], [0.6666666666666666, \"#ed7953\"], [0.7777777777777778, \"#fb9f3a\"], [0.8888888888888888, \"#fdca26\"], [1.0, \"#f0f921\"]], \"type\": \"heatmapgl\"}], \"histogram\": [{\"marker\": {\"colorbar\": {\"outlinewidth\": 0, \"ticks\": \"\"}}, \"type\": \"histogram\"}], \"histogram2d\": [{\"colorbar\": {\"outlinewidth\": 0, \"ticks\": \"\"}, \"colorscale\": [[0.0, \"#0d0887\"], [0.1111111111111111, \"#46039f\"], [0.2222222222222222, \"#7201a8\"], [0.3333333333333333, \"#9c179e\"], [0.4444444444444444, \"#bd3786\"], [0.5555555555555556, \"#d8576b\"], [0.6666666666666666, \"#ed7953\"], [0.7777777777777778, \"#fb9f3a\"], [0.8888888888888888, \"#fdca26\"], [1.0, \"#f0f921\"]], \"type\": \"histogram2d\"}], \"histogram2dcontour\": [{\"colorbar\": {\"outlinewidth\": 0, \"ticks\": \"\"}, \"colorscale\": [[0.0, \"#0d0887\"], [0.1111111111111111, \"#46039f\"], [0.2222222222222222, \"#7201a8\"], [0.3333333333333333, \"#9c179e\"], [0.4444444444444444, \"#bd3786\"], [0.5555555555555556, \"#d8576b\"], [0.6666666666666666, \"#ed7953\"], [0.7777777777777778, \"#fb9f3a\"], [0.8888888888888888, \"#fdca26\"], [1.0, \"#f0f921\"]], \"type\": \"histogram2dcontour\"}], \"mesh3d\": [{\"colorbar\": {\"outlinewidth\": 0, \"ticks\": \"\"}, \"type\": \"mesh3d\"}], \"parcoords\": [{\"line\": {\"colorbar\": {\"outlinewidth\": 0, \"ticks\": \"\"}}, \"type\": \"parcoords\"}], \"pie\": [{\"automargin\": true, \"type\": \"pie\"}], \"scatter\": [{\"marker\": {\"colorbar\": {\"outlinewidth\": 0, \"ticks\": \"\"}}, \"type\": \"scatter\"}], \"scatter3d\": [{\"line\": {\"colorbar\": {\"outlinewidth\": 0, \"ticks\": \"\"}}, \"marker\": {\"colorbar\": {\"outlinewidth\": 0, \"ticks\": \"\"}}, \"type\": \"scatter3d\"}], \"scattercarpet\": [{\"marker\": {\"colorbar\": {\"outlinewidth\": 0, \"ticks\": \"\"}}, \"type\": \"scattercarpet\"}], \"scattergeo\": [{\"marker\": {\"colorbar\": {\"outlinewidth\": 0, \"ticks\": \"\"}}, \"type\": \"scattergeo\"}], \"scattergl\": [{\"marker\": {\"colorbar\": {\"outlinewidth\": 0, \"ticks\": \"\"}}, \"type\": \"scattergl\"}], \"scattermapbox\": [{\"marker\": {\"colorbar\": {\"outlinewidth\": 0, \"ticks\": \"\"}}, \"type\": \"scattermapbox\"}], \"scatterpolar\": [{\"marker\": {\"colorbar\": {\"outlinewidth\": 0, \"ticks\": \"\"}}, \"type\": \"scatterpolar\"}], \"scatterpolargl\": [{\"marker\": {\"colorbar\": {\"outlinewidth\": 0, \"ticks\": \"\"}}, \"type\": \"scatterpolargl\"}], \"scatterternary\": [{\"marker\": {\"colorbar\": {\"outlinewidth\": 0, \"ticks\": \"\"}}, \"type\": \"scatterternary\"}], \"surface\": [{\"colorbar\": {\"outlinewidth\": 0, \"ticks\": \"\"}, \"colorscale\": [[0.0, \"#0d0887\"], [0.1111111111111111, \"#46039f\"], [0.2222222222222222, \"#7201a8\"], [0.3333333333333333, \"#9c179e\"], [0.4444444444444444, \"#bd3786\"], [0.5555555555555556, \"#d8576b\"], [0.6666666666666666, \"#ed7953\"], [0.7777777777777778, \"#fb9f3a\"], [0.8888888888888888, \"#fdca26\"], [1.0, \"#f0f921\"]], \"type\": \"surface\"}], \"table\": [{\"cells\": {\"fill\": {\"color\": \"#EBF0F8\"}, \"line\": {\"color\": \"white\"}}, \"header\": {\"fill\": {\"color\": \"#C8D4E3\"}, \"line\": {\"color\": \"white\"}}, \"type\": \"table\"}]}, \"layout\": {\"annotationdefaults\": {\"arrowcolor\": \"#2a3f5f\", \"arrowhead\": 0, \"arrowwidth\": 1}, \"autotypenumbers\": \"strict\", \"coloraxis\": {\"colorbar\": {\"outlinewidth\": 0, \"ticks\": \"\"}}, \"colorscale\": {\"diverging\": [[0, \"#8e0152\"], [0.1, \"#c51b7d\"], [0.2, \"#de77ae\"], [0.3, \"#f1b6da\"], [0.4, \"#fde0ef\"], [0.5, \"#f7f7f7\"], [0.6, \"#e6f5d0\"], [0.7, \"#b8e186\"], [0.8, \"#7fbc41\"], [0.9, \"#4d9221\"], [1, \"#276419\"]], \"sequential\": [[0.0, \"#0d0887\"], [0.1111111111111111, \"#46039f\"], [0.2222222222222222, \"#7201a8\"], [0.3333333333333333, \"#9c179e\"], [0.4444444444444444, \"#bd3786\"], [0.5555555555555556, \"#d8576b\"], [0.6666666666666666, \"#ed7953\"], [0.7777777777777778, \"#fb9f3a\"], [0.8888888888888888, \"#fdca26\"], [1.0, \"#f0f921\"]], \"sequentialminus\": [[0.0, \"#0d0887\"], [0.1111111111111111, \"#46039f\"], [0.2222222222222222, \"#7201a8\"], [0.3333333333333333, \"#9c179e\"], [0.4444444444444444, \"#bd3786\"], [0.5555555555555556, \"#d8576b\"], [0.6666666666666666, \"#ed7953\"], [0.7777777777777778, \"#fb9f3a\"], [0.8888888888888888, \"#fdca26\"], [1.0, \"#f0f921\"]]}, \"colorway\": [\"#636efa\", \"#EF553B\", \"#00cc96\", \"#ab63fa\", \"#FFA15A\", \"#19d3f3\", \"#FF6692\", \"#B6E880\", \"#FF97FF\", \"#FECB52\"], \"font\": {\"color\": \"#2a3f5f\"}, \"geo\": {\"bgcolor\": \"white\", \"lakecolor\": \"white\", \"landcolor\": \"#E5ECF6\", \"showlakes\": true, \"showland\": true, \"subunitcolor\": \"white\"}, \"hoverlabel\": {\"align\": \"left\"}, \"hovermode\": \"closest\", \"mapbox\": {\"style\": \"light\"}, \"paper_bgcolor\": \"white\", \"plot_bgcolor\": \"#E5ECF6\", \"polar\": {\"angularaxis\": {\"gridcolor\": \"white\", \"linecolor\": \"white\", \"ticks\": \"\"}, \"bgcolor\": \"#E5ECF6\", \"radialaxis\": {\"gridcolor\": \"white\", \"linecolor\": \"white\", \"ticks\": \"\"}}, \"scene\": {\"xaxis\": {\"backgroundcolor\": \"#E5ECF6\", \"gridcolor\": \"white\", \"gridwidth\": 2, \"linecolor\": \"white\", \"showbackground\": true, \"ticks\": \"\", \"zerolinecolor\": \"white\"}, \"yaxis\": {\"backgroundcolor\": \"#E5ECF6\", \"gridcolor\": \"white\", \"gridwidth\": 2, \"linecolor\": \"white\", \"showbackground\": true, \"ticks\": \"\", \"zerolinecolor\": \"white\"}, \"zaxis\": {\"backgroundcolor\": \"#E5ECF6\", \"gridcolor\": \"white\", \"gridwidth\": 2, \"linecolor\": \"white\", \"showbackground\": true, \"ticks\": \"\", \"zerolinecolor\": \"white\"}}, \"shapedefaults\": {\"line\": {\"color\": \"#2a3f5f\"}}, \"ternary\": {\"aaxis\": {\"gridcolor\": \"white\", \"linecolor\": \"white\", \"ticks\": \"\"}, \"baxis\": {\"gridcolor\": \"white\", \"linecolor\": \"white\", \"ticks\": \"\"}, \"bgcolor\": \"#E5ECF6\", \"caxis\": {\"gridcolor\": \"white\", \"linecolor\": \"white\", \"ticks\": \"\"}}, \"title\": {\"x\": 0.05}, \"xaxis\": {\"automargin\": true, \"gridcolor\": \"white\", \"linecolor\": \"white\", \"ticks\": \"\", \"title\": {\"standoff\": 15}, \"zerolinecolor\": \"white\", \"zerolinewidth\": 2}, \"yaxis\": {\"automargin\": true, \"gridcolor\": \"white\", \"linecolor\": \"white\", \"ticks\": \"\", \"title\": {\"standoff\": 15}, \"zerolinecolor\": \"white\", \"zerolinewidth\": 2}}}},                        {\"responsive\": true}                    ).then(function(){\n",
       "                            \n",
       "var gd = document.getElementById('e44335bc-f5ca-48e3-b6df-8b748bf82df6');\n",
       "var x = new MutationObserver(function (mutations, observer) {{\n",
       "        var display = window.getComputedStyle(gd).display;\n",
       "        if (!display || display === 'none') {{\n",
       "            console.log([gd, 'removed!']);\n",
       "            Plotly.purge(gd);\n",
       "            observer.disconnect();\n",
       "        }}\n",
       "}});\n",
       "\n",
       "// Listen for the removal of the full notebook cells\n",
       "var notebookContainer = gd.closest('#notebook-container');\n",
       "if (notebookContainer) {{\n",
       "    x.observe(notebookContainer, {childList: true});\n",
       "}}\n",
       "\n",
       "// Listen for the clearing of the current output cell\n",
       "var outputEl = gd.closest('.output');\n",
       "if (outputEl) {{\n",
       "    x.observe(outputEl, {childList: true});\n",
       "}}\n",
       "\n",
       "                        })                };                });            </script>        </div>"
      ]
     },
     "metadata": {},
     "output_type": "display_data"
    }
   ],
   "source": [
    "fig_lower = px.scatter_mapbox(lower_df, lat=\"Latitude\", lon=\"Longitude\", \n",
    "                        color=\"tractce10\", \n",
    "                        size=\"NumRacks\",\n",
    "                        hover_name=\"Station_Name\", \n",
    "                        hover_data={\"tractce10\":True, \n",
    "                                    \"2015_tract_med_hhincome\":True,\n",
    "                                   \"Latitude\": False,\n",
    "                                   \"Longitude\": False},\n",
    "                        color_discrete_sequence=px.colors.qualitative.Alphabet, size_max=15, zoom=10,\n",
    "                        mapbox_style=\"carto-darkmatter\")\n",
    "fig_lower.show()"
   ]
  },
  {
   "cell_type": "code",
   "execution_count": 72,
   "metadata": {},
   "outputs": [
    {
     "data": {
      "text/plain": [
       "19517.8"
      ]
     },
     "execution_count": 72,
     "metadata": {},
     "output_type": "execute_result"
    }
   ],
   "source": [
    "lower_df = lower_df.reset_index()\n",
    "fixed_df = lower_df.loc[lower_df['2015_tract_med_hhincome'] > 0.0]\n",
    "fixed_df = fixed_df.reset_index()\n",
    "\n",
    "fixed_df['2015_tract_med_hhincome'].mean()"
   ]
  },
  {
   "cell_type": "markdown",
   "metadata": {},
   "source": [
    "The mean 2015 median household income for the census tracts that do not have poor housing condition is $19,517.80"
   ]
  },
  {
   "cell_type": "code",
   "execution_count": 73,
   "metadata": {},
   "outputs": [
    {
     "data": {
      "text/plain": [
       "13986.0"
      ]
     },
     "execution_count": 73,
     "metadata": {},
     "output_type": "execute_result"
    }
   ],
   "source": [
    "fixed_df['2015_tract_med_hhincome'].min()"
   ]
  },
  {
   "cell_type": "code",
   "execution_count": 74,
   "metadata": {},
   "outputs": [
    {
     "data": {
      "text/plain": [
       "32163.0"
      ]
     },
     "execution_count": 74,
     "metadata": {},
     "output_type": "execute_result"
    }
   ],
   "source": [
    "fixed_df['2015_tract_med_hhincome'].max()"
   ]
  }
 ],
 "metadata": {
  "kernelspec": {
   "display_name": "Python 3",
   "language": "python",
   "name": "python3"
  },
  "language_info": {
   "codemirror_mode": {
    "name": "ipython",
    "version": 3
   },
   "file_extension": ".py",
   "mimetype": "text/x-python",
   "name": "python",
   "nbconvert_exporter": "python",
   "pygments_lexer": "ipython3",
   "version": "3.7.7"
  }
 },
 "nbformat": 4,
 "nbformat_minor": 4
}
