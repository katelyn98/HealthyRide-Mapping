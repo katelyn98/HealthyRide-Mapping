{
 "cells": [
  {
   "cell_type": "code",
   "execution_count": 29,
   "metadata": {},
   "outputs": [
    {
     "name": "stdout",
     "output_type": "stream",
     "text": [
      "<class 'bytes'>\n",
      "b'{\"help\": \"https://data.wprdc.org/api/3/action/help_show?name=datastore_search\", \"success\": true, \"result\": {\"include_total\": true, \"resource_id\": \"15ce5154-4807-4d29-baa1-b63bbb033b79\", \"fields\": [{\"type\": \"int\", \"id\": \"_id\"}, {\"type\": \"text\", \"id\": \"Trip id\"}, {\"type\": \"text\", \"id\": \"Starttime\"}, {\"type\": \"text\", \"id\": \"Stoptime\"}, {\"type\": \"text\", \"id\": \"Bikeid\"}, {\"type\": \"text\", \"id\": \"Tripduration\"}, {\"type\": \"text\", \"id\": \"From station id\"}, {\"type\": \"text\", \"id\": \"From station name\"}, {\"type\": \"text\", \"id\": \"To station id\"}, {\"type\": \"text\", \"id\": \"To station name\"}, {\"type\": \"text\", \"id\": \"Usertype\"}], \"records_format\": \"objects\", \"records\": [{\"Trip id\": \"10676972\", \"Bikeid\": \"70166\", \"To station name\": \"Forbes Ave & Market Square\", \"Usertype\": \"Customer\", \"Stoptime\": \"5/31/2015 10:17\", \"From station name\": \"Butler St & Stanton Ave\", \"Starttime\": \"5/31/2015 6:54\", \"To station id\": \"1001\", \"Tripduration\": \"12190\", \"_id\": 1, \"From station id\": \"1018\"}, {\"Trip id\": \"10677086\", \"Bikeid\": \"70368\", \"To station name\": \"Butler St & Stanton Ave\", \"Usertype\": \"Subscriber\", \"Stoptime\": \"5/31/2015 9:24\", \"From station name\": \"Butler St & Stanton Ave\", \"Starttime\": \"5/31/2015 6:57\", \"To station id\": \"1018\", \"Tripduration\": \"8842\", \"_id\": 2, \"From station id\": \"1018\"}, {\"Trip id\": \"10677131\", \"Bikeid\": \"70354\", \"To station name\": \"42nd St & Butler St\", \"Usertype\": \"Subscriber\", \"Stoptime\": \"5/31/2015 10:09\", \"From station name\": \"42nd St & Butler St\", \"Starttime\": \"5/31/2015 6:58\", \"To station id\": \"1019\", \"Tripduration\": \"11448\", \"_id\": 3, \"From station id\": \"1019\"}, {\"Trip id\": \"10677525\", \"Bikeid\": \"70232\", \"To station name\": \"Forbes Ave & Market Square\", \"Usertype\": \"Subscriber\", \"Stoptime\": \"5/31/2015 7:15\", \"From station name\": \"Forbes Ave & Market Square\", \"Starttime\": \"5/31/2015 7:08\", \"To station id\": \"1001\", \"Tripduration\": \"452\", \"_id\": 4, \"From station id\": \"1001\"}, {\"Trip id\": \"10677886\", \"Bikeid\": \"70468\", \"To station name\": \"Butler St & Stanton Ave\", \"Usertype\": \"Subscriber\", \"Stoptime\": \"5/31/2015 9:27\", \"From station name\": \"Butler St & Stanton Ave\", \"Starttime\": \"5/31/2015 7:15\", \"To station id\": \"1018\", \"Tripduration\": \"7866\", \"_id\": 5, \"From station id\": \"1018\"}], \"limit\": 5, \"_links\": {\"start\": \"/api/3/action/datastore_search?limit=5&resource_id=15ce5154-4807-4d29-baa1-b63bbb033b79\", \"next\": \"/api/3/action/datastore_search?offset=5&limit=5&resource_id=15ce5154-4807-4d29-baa1-b63bbb033b79\"}, \"total\": 9198}}'\n"
     ]
    }
   ],
   "source": [
    "import urllib.request\n",
    "\n",
    "urllink = 'https://data.wprdc.org/api/3/action/datastore_search?resource_id=15ce5154-4807-4d29-baa1-b63bbb033b79&limit=5'  \n",
    "\n",
    "with urllib.request.urlopen(urllink) as url:\n",
    "    fileobj = url.read()\n",
    "    print(type(fileobj))\n",
    "    print(fileobj)"
   ]
  }
 ],
 "metadata": {
  "kernelspec": {
   "display_name": "Python 3",
   "language": "python",
   "name": "python3"
  },
  "language_info": {
   "codemirror_mode": {
    "name": "ipython",
    "version": 3
   },
   "file_extension": ".py",
   "mimetype": "text/x-python",
   "name": "python",
   "nbconvert_exporter": "python",
   "pygments_lexer": "ipython3",
   "version": "3.9.1"
  }
 },
 "nbformat": 4,
 "nbformat_minor": 4
}
