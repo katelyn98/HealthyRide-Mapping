{
 "cells": [
  {
   "cell_type": "code",
   "execution_count": 2,
   "id": "lined-spotlight",
   "metadata": {},
   "outputs": [],
   "source": [
    "import qrcode\n",
    "# Link for website\n",
    "input_data = \"https://github.com/katelyn98/HealthyRide-Mapping/blob/master/Results/README.md\"\n",
    "#Creating an instance of qrcode\n",
    "qr = qrcode.QRCode(\n",
    "        version=1,\n",
    "        box_size=10,\n",
    "        border=5)\n",
    "qr.add_data(input_data)\n",
    "qr.make(fit=True)\n",
    "img = qr.make_image(fill='purple', back_color='white')\n",
    "img.save('qrcode001.png')"
   ]
  }
 ],
 "metadata": {
  "kernelspec": {
   "display_name": "Python 3",
   "language": "python",
   "name": "python3"
  },
  "language_info": {
   "codemirror_mode": {
    "name": "ipython",
    "version": 3
   },
   "file_extension": ".py",
   "mimetype": "text/x-python",
   "name": "python",
   "nbconvert_exporter": "python",
   "pygments_lexer": "ipython3",
   "version": "3.7.7"
  }
 },
 "nbformat": 4,
 "nbformat_minor": 5
}
